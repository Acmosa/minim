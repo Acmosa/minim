{
 "cells": [
  {
   "attachments": {},
   "cell_type": "markdown",
   "metadata": {
    "tags": []
   },
   "source": [
    "# Using the Qobuz API (`minim.qobuz`)\n",
    "\n",
    "**Last updated**: June 6, 2023"
   ]
  },
  {
   "cell_type": "code",
   "execution_count": 1,
   "metadata": {},
   "outputs": [],
   "source": [
    "import os\n",
    "import pathlib\n",
    "import sys\n",
    "\n",
    "import ipywidgets\n",
    "\n",
    "sys.path.insert(0, f\"{pathlib.Path(os.path.abspath('')).parents[2].resolve()}/src\")\n",
    "# The second argument above should be replaced with the path where you downloaded Minim.\n",
    "from minim import qobuz"
   ]
  },
  {
   "attachments": {},
   "cell_type": "markdown",
   "metadata": {},
   "source": [
    "## Getting started\n",
    "\n",
    "The `minim.qobuz` submodule offers procedural and object-oriented approaches to use the Qobuz API:\n",
    "\n",
    "* The `minim.qobuz.Session` class, which is targeted at developers and experienced programmers, implements the Qobuz API exactly on top of the `requests` library. There are no bells and whistles; responses from API calls, if any, are in JavaScript Object Notation (JSON) format, and data extraction from or wrangling of the JSON data is done solely by the user.\n",
    "\n",
    "* The `minim.qobuz.Album`, `minim.qobuz.Artist`, `minim.qobuz.Label`, `minim.qobuz.Playlist`, `minim.qobuz.Track`, and `minim.qobuz.User` classes are more user-friendly and are meant for beginners or hobbyists. Instead of having the user make API calls directly and deal with unpacking the JSON responses, these classes do all the heavy lifting and store the information returned by the API in instance attributes that have simple, logical names and are well-documented.\n",
    "\n",
    "Regardless of which approach above you choose, it is recommended that you have a Qobuz account and, preferably, a Qobuz streaming plan to get access to all the API endpoints.\n",
    "\n",
    "## As a first example\n",
    "\n",
    "To compare the procedural and object-oriented approaches and as a first introductory example, let's search for and output basic information about the track \"Post Malone (feat. RANI)\" by Sam Feldt.\n",
    "\n",
    "### Procedural approach\n",
    "\n",
    "First, we create a `qobuz.Session` object without user authentication:"
   ]
  },
  {
   "cell_type": "code",
   "execution_count": 2,
   "metadata": {},
   "outputs": [
    {
     "name": "stdout",
     "output_type": "stream",
     "text": [
      "Qobuz API: not logged in\n"
     ]
    }
   ],
   "source": [
    "session = qobuz.Session(authenticate=False)\n",
    "print(session)"
   ]
  },
  {
   "attachments": {},
   "cell_type": "markdown",
   "metadata": {},
   "source": [
    "As expected, the string representation of the `qobuz.Session` object confirms that no user authentication was performed. A consequence is that certain API endpoints are unavailable since they require either the user to be logged in or have an active Qobuz streaming plan.\n",
    "\n",
    "Then, we search for tracks (or releases) with titles containing the phrase \"Post Malone\". For brevity, we limit our search results to only two items. The search results are in JSON format, with the first layer specifying the media type (`\"albums\"`, `\"artists\"`, `\"tracks\"`, etc.) and the second the number of results for that media type and Qobuz catalog information for each match. We can preview the raw data for each track by iterating:"
   ]
  },
  {
   "cell_type": "code",
   "execution_count": 3,
   "metadata": {},
   "outputs": [
    {
     "name": "stdout",
     "output_type": "stream",
     "text": [
      "{'maximum_bit_depth': 16, 'copyright': '© 2019 SpinninRecords.com ℗ 2019 SpinninRecords.com', 'performers': 'Rani, FeaturedArtist - Roxanne Emery, Writer - Jordan Schultz, Masterer - Sam Feldt, Programmer, MainArtist - Sammy Renders, Writer - Dominic Lyttle, Mixer, Writer - Jonas Kröper, Writer - Shannon Hilversum, Writer', 'audio_info': {'replaygain_track_peak': 1, 'replaygain_track_gain': -10.44}, 'performer': {'name': 'Sam Feldt', 'id': 1829176}, 'album': {'image': {'small': 'https://static.qobuz.com/images/covers/cc/09/tfjs3torp09cc_230.jpg', 'thumbnail': 'https://static.qobuz.com/images/covers/cc/09/tfjs3torp09cc_50.jpg', 'large': 'https://static.qobuz.com/images/covers/cc/09/tfjs3torp09cc_600.jpg'}, 'maximum_bit_depth': 16, 'media_count': 1, 'artist': {'image': None, 'name': 'Sam Feldt', 'id': 1829176, 'albums_count': 245, 'slug': 'sam-feldt', 'picture': None}, 'upc': '0190295418267', 'released_at': 1558648800, 'label': {'name': \"Spinnin' Records\", 'id': 190680, 'albums_count': 4810, 'supplier_id': 5, 'slug': 'spinnin-records-4'}, 'title': 'Magnets EP', 'qobuz_id': 61947435, 'version': None, 'duration': 873, 'parental_warning': True, 'tracks_count': 5, 'popularity': 0, 'genre': {'path': [64, 129], 'color': '#0070ef', 'name': 'Dance', 'id': 129, 'slug': 'dance'}, 'maximum_channel_count': 2, 'id': 'tfjs3torp09cc', 'maximum_sampling_rate': 44.1, 'previewable': True, 'sampleable': True, 'displayable': True, 'streamable': False, 'streamable_at': 1685170800, 'downloadable': False, 'purchasable_at': None, 'purchasable': False, 'release_date_original': '2019-05-24', 'release_date_download': '2019-05-24', 'release_date_stream': '2019-05-24', 'hires': False, 'hires_streamable': False}, 'work': None, 'isrc': 'NLZ541900734', 'title': 'Post Malone (feat. RANI)', 'version': None, 'duration': 174, 'parental_warning': False, 'track_number': 5, 'maximum_channel_count': 2, 'id': 61947440, 'media_number': 1, 'maximum_sampling_rate': 44.1, 'release_date_original': None, 'release_date_download': None, 'release_date_stream': None, 'purchasable': False, 'streamable': False, 'previewable': True, 'sampleable': True, 'downloadable': False, 'displayable': True, 'purchasable_at': None, 'streamable_at': 1685170800, 'hires': False, 'hires_streamable': False}\n",
      "{'maximum_bit_depth': 16, 'copyright': '(C) 2022 Dacian Records (P) 2022 Dacian Records', 'performers': 'Rowan Duy, Composer, MainArtist', 'audio_info': {'replaygain_track_peak': 1, 'replaygain_track_gain': -7.89}, 'performer': {'name': 'Rowan Duy', 'id': 9128287}, 'album': {'image': {'small': 'https://static.qobuz.com/images/covers/db/p3/b2vw30fslp3db_230.jpg', 'thumbnail': 'https://static.qobuz.com/images/covers/db/p3/b2vw30fslp3db_50.jpg', 'large': 'https://static.qobuz.com/images/covers/db/p3/b2vw30fslp3db_600.jpg'}, 'maximum_bit_depth': 16, 'media_count': 1, 'artist': {'image': None, 'name': 'Rowan Duy', 'id': 9128287, 'albums_count': 2, 'slug': 'rowan-duy', 'picture': None}, 'upc': '5059366917311', 'released_at': 1576018800, 'label': {'name': 'Dacian Records', 'id': 3789520, 'albums_count': 0, 'supplier_id': 17, 'slug': 'dacian-records-1'}, 'title': 'Night Changes', 'qobuz_id': 171527867, 'version': None, 'duration': 510, 'parental_warning': False, 'tracks_count': 3, 'popularity': 0, 'genre': {'path': [112, 117], 'color': '#0070ef', 'name': 'Pop', 'id': 117, 'slug': 'pop'}, 'maximum_channel_count': 2, 'id': 'b2vw30fslp3db', 'maximum_sampling_rate': 44.1, 'previewable': True, 'sampleable': True, 'displayable': True, 'streamable': False, 'streamable_at': 1664780400, 'downloadable': False, 'purchasable_at': None, 'purchasable': False, 'release_date_original': '2019-12-11', 'release_date_download': '2019-12-11', 'release_date_stream': '2019-12-11', 'hires': False, 'hires_streamable': False}, 'work': None, 'composer': {'name': 'Rowan Duy', 'id': 9128287}, 'isrc': 'GBSMU7294232', 'title': 'Post Malone', 'version': None, 'duration': 217, 'parental_warning': False, 'track_number': 3, 'maximum_channel_count': 2, 'id': 171527870, 'media_number': 1, 'maximum_sampling_rate': 44.1, 'release_date_original': None, 'release_date_download': None, 'release_date_stream': None, 'purchasable': True, 'streamable': False, 'previewable': True, 'sampleable': True, 'downloadable': True, 'displayable': True, 'purchasable_at': 1664780400, 'streamable_at': 1664780400, 'hires': False, 'hires_streamable': False}\n"
     ]
    }
   ],
   "source": [
    "search_results = session.search(\"Post Malone\", \"track\", strict=True, limit=2)\n",
    "for track in search_results[\"tracks\"][\"items\"]:\n",
    "    print(track)"
   ]
  },
  {
   "attachments": {},
   "cell_type": "markdown",
   "metadata": {},
   "source": [
    "The first search result is the track we are looking for. We can extract the key details of the track by traversing through the `dict` containing the Qobuz catalog information for that track:"
   ]
  },
  {
   "cell_type": "code",
   "execution_count": 4,
   "metadata": {},
   "outputs": [
    {
     "name": "stdout",
     "output_type": "stream",
     "text": [
      "Title: Post Malone (feat. RANI)\n",
      "Artist: Sam Feldt\n",
      "Album: Magnets EP\n",
      "Genre: Dance\n",
      "Release date: 1685170800\n"
     ]
    }
   ],
   "source": [
    "track = search_results[\"tracks\"][\"items\"][0]\n",
    "print(f\"Title: {track['title']}\")\n",
    "print(f\"Artist: {track['performer']['name']}\")\n",
    "print(f\"Album: {track['album']['title']}\")\n",
    "print(f\"Genre: {track['album']['genre']['name']}\")\n",
    "print(f\"Release date: {track['streamable_at']}\")"
   ]
  },
  {
   "attachments": {},
   "cell_type": "markdown",
   "metadata": {},
   "source": [
    "While most data in the `dict` is human-readable, certain fields, such as those dealing with datetimes, may require additional processing to be understandable. For example, the release date above is presented as an `int` representing the number of seconds since the Unix epoch, and must be converted to a datetime using `datetime.datetime.utcfromtimestamp()`.\n",
    "\n",
    "Now, let's get the producing and songwriting credits for the track:"
   ]
  },
  {
   "cell_type": "code",
   "execution_count": 5,
   "metadata": {},
   "outputs": [
    {
     "name": "stdout",
     "output_type": "stream",
     "text": [
      "Programmer(s): Sam Feldt\n",
      "Mixer(s): Dominic Lyttle\n",
      "Featured Artist(s): Rani\n",
      "Writer(s): Roxanne Emery, Sammy Renders, Dominic Lyttle, Jonas Kröper, Shannon Hilversum\n",
      "Main Artist(s): Sam Feldt\n",
      "Masterer(s): Jordan Schultz\n"
     ]
    }
   ],
   "source": [
    "credits = session.get_track_credits(performers=track[\"performers\"])\n",
    "for role, artists in credits.items():\n",
    "    print(f\"{' '.join(role.split('_')).title()}(s): {', '.join(artists)}\")"
   ]
  },
  {
   "attachments": {},
   "cell_type": "markdown",
   "metadata": {},
   "source": [
    "What if we are building an application or widget to stream audio? We can get the URL of the track's stream using the track's Qobuz ID:"
   ]
  },
  {
   "cell_type": "code",
   "execution_count": 6,
   "metadata": {},
   "outputs": [
    {
     "name": "stderr",
     "output_type": "stream",
     "text": [
      "/mnt/c/Users/Benjamin/Documents/GitHub/minim/src/minim/qobuz.py:912: UserWarning: No user authentication or Qobuz streaming plan detected. The URL will lead to a 30-second preview of the track.\n",
      "  warnings.warn(wmsg)\n"
     ]
    },
    {
     "data": {
      "application/vnd.jupyter.widget-view+json": {
       "model_id": "d7f72fb14c584a6a8682874e744aca3c",
       "version_major": 2,
       "version_minor": 0
      },
      "text/plain": [
       "Audio(value=b'https://streaming-qobuz-std.akamaized.ne...', autoplay='False', format='url')"
      ]
     },
     "execution_count": 6,
     "metadata": {},
     "output_type": "execute_result"
    }
   ],
   "source": [
    "stream_url = session.get_track_file_url(track[\"id\"])[\"url\"]\n",
    "ipywidgets.Audio.from_url(stream_url, autoplay=False)"
   ]
  },
  {
   "attachments": {},
   "cell_type": "markdown",
   "metadata": {},
   "source": [
    "Whoops! Because we didn't log into a Qobuz account with an active Qobuz streaming plan previously, we only got the 30-second preview of the track instead of the full audio. Let's authenticate ourselves and try again. \n",
    "\n",
    "**Note**: No parameters are passed to `qobuz.Session.login()` below because an Qobuz user authentication token was found in my operating system's environment variable `QOBUZ_USER_AUTH_TOKEN`. If you have not stored user credentials or an authorization token in your OS's environment variables, you can pass either the `auth_token` argument or the `email` and `password` arguments to `qobuz.Session.login()`."
   ]
  },
  {
   "cell_type": "code",
   "execution_count": 7,
   "metadata": {},
   "outputs": [],
   "source": [
    "session.login()\n",
    "stream_url = session.get_track_file_url(track[\"id\"])[\"url\"]\n",
    "# ipywidgets.Audio.from_url(stream_url, autoplay=False) \n",
    "# The line above is commented out for copyright reasons."
   ]
  },
  {
   "attachments": {},
   "cell_type": "markdown",
   "metadata": {},
   "source": [
    "**Note**: We can also get the track's audio stream directly as a `bytes` object. See the [Working with tracks](#working-with-tracks) section below for more information.\n",
    "\n",
    "### Object-oriented approach\n",
    "\n",
    "First, we create a `qobuz.User` object without user authentication:"
   ]
  },
  {
   "cell_type": "code",
   "execution_count": 8,
   "metadata": {},
   "outputs": [
    {
     "name": "stdout",
     "output_type": "stream",
     "text": [
      "Qobuz user: not logged in\n"
     ]
    }
   ],
   "source": [
    "user = qobuz.User(authenticate=False)\n",
    "print(user)"
   ]
  },
  {
   "attachments": {},
   "cell_type": "markdown",
   "metadata": {},
   "source": [
    "As expected, the string representation of the `qobuz.User` object confirms that no user authentication was performed.\n",
    "\n",
    "**Note**: All objects spawned by the `qobuz.User` object shares the same Qobuz session information. Therefore, a `qobuz.Track` object created by the `qobuz.User` object above will also not be able to access information that requires user authentication. However, should the `qobuz.User` object be authenticated via `qobuz.User.login()`, the `qobuz.Track` object would also be authenticated.\n",
    "\n",
    "Like before, we search for tracks with titles containing the phrase \"Post Malone\", but now limit our search results to only five items. The search results are still contained in a `dict`, with the first key specifying the media type (`\"albums\"`, `\"artists\"`, `\"tracks\"`, etc.). However, the value corresponding to the `\"tracks\"` key is now a `list` of `minim.qobuz.Track` objects, each fully populated with that track's information."
   ]
  },
  {
   "cell_type": "code",
   "execution_count": 9,
   "metadata": {},
   "outputs": [
    {
     "name": "stdout",
     "output_type": "stream",
     "text": [
      "Qobuz track: 'Post Malone (feat. RANI)' [artist: Sam Feldt, album: Magnets EP]\n",
      "Qobuz track: 'Post Malone' [artist: Rowan Duy, album: Night Changes]\n",
      "Qobuz track: 'Post Malone (feat. RANI)' [artist: Sam Feldt, album: Post Malone (feat. RANI) [Joe Stone Remix]]\n",
      "Qobuz track: 'Post Malone (feat. RANI) [VIZE Remix]' [artist: Sam Feldt, album: Post Malone (feat. RANI) [VIZE Remix]]\n",
      "Qobuz track: 'Post Malone (feat. RANI) [GATTÜSO Remix]' [artist: Sam Feldt, album: Post Malone (feat. RANI) [The Remixes]]\n"
     ]
    }
   ],
   "source": [
    "search_results = user.search(\"Post Malone\", \"track\", strict=True, limit=5)\n",
    "for track in search_results[\"tracks\"]:\n",
    "    print(track)"
   ]
  },
  {
   "attachments": {},
   "cell_type": "markdown",
   "metadata": {},
   "source": [
    "With human-readable string representations of each track, it is easy to see that the first search result is the track we are looking for. We can extract the key details of the track by getting instance attributes of the `minim.qobuz.Track` object:"
   ]
  },
  {
   "cell_type": "code",
   "execution_count": 10,
   "metadata": {},
   "outputs": [
    {
     "name": "stdout",
     "output_type": "stream",
     "text": [
      "Title: Post Malone (feat. RANI)\n",
      "Artist: Sam Feldt\n",
      "Album: Magnets EP\n",
      "Genre: Dance\n",
      "Release date: 2023-05-27 07:00:00\n"
     ]
    }
   ],
   "source": [
    "track = search_results[\"tracks\"][0]\n",
    "print(f\"Title: {track.title}\")\n",
    "print(f\"Artist: {track.main_artist.name}\")\n",
    "print(f\"Album: {track.album.title}\")\n",
    "print(f\"Genre: {track.album.genre}\")\n",
    "print(f\"Release date: {track.release_date}\")"
   ]
  },
  {
   "attachments": {},
   "cell_type": "markdown",
   "metadata": {},
   "source": [
    "Now, all data in the `minim.qobuz.Track` object is human-readable, even those dealing with datetimes.\n",
    "\n",
    "Furthermore, the producing and songwriting credits for the track are already embedded in the `minim.qobuz.Track` object:"
   ]
  },
  {
   "cell_type": "code",
   "execution_count": 11,
   "metadata": {},
   "outputs": [
    {
     "name": "stdout",
     "output_type": "stream",
     "text": [
      "Programmer(s): Sam Feldt\n",
      "Mixer(s): Dominic Lyttle\n",
      "Featured Artist(s): Rani\n",
      "Writer(s): Roxanne Emery, Sammy Renders, Dominic Lyttle, Jonas Kröper, Shannon Hilversum\n",
      "Main Artist(s): Sam Feldt\n",
      "Masterer(s): Jordan Schultz\n"
     ]
    }
   ],
   "source": [
    "for role, artists in track.credits.items():\n",
    "    print(f\"{' '.join(role.split('_')).title()}(s): {', '.join(artists)}\")"
   ]
  },
  {
   "attachments": {},
   "cell_type": "markdown",
   "metadata": {},
   "source": [
    "Getting the audio stream data no longer requires knowledge of the track ID:"
   ]
  },
  {
   "cell_type": "code",
   "execution_count": 12,
   "metadata": {},
   "outputs": [
    {
     "data": {
      "application/vnd.jupyter.widget-view+json": {
       "model_id": "b6e6c01b03db498a91267f282efdbde0",
       "version_major": 2,
       "version_minor": 0
      },
      "text/plain": [
       "Audio(value=b'https://streaming-qobuz-std.akamaized.ne...', autoplay='False', format='url')"
      ]
     },
     "execution_count": 12,
     "metadata": {},
     "output_type": "execute_result"
    }
   ],
   "source": [
    "track.get_file_url()\n",
    "ipywidgets.Audio.from_url(track.file_url, autoplay=False)"
   ]
  },
  {
   "attachments": {},
   "cell_type": "markdown",
   "metadata": {},
   "source": [
    "Oops, forgot about user authentication again. This time, we authenticate using `minim.Qobuz.User.login()` instead:"
   ]
  },
  {
   "cell_type": "code",
   "execution_count": 13,
   "metadata": {},
   "outputs": [],
   "source": [
    "user.login()\n",
    "track.get_file_url()\n",
    "# ipywidgets.Audio.from_url(track.file_url, autoplay=False)\n",
    "# The line above is commented out for copyright reasons."
   ]
  },
  {
   "attachments": {},
   "cell_type": "markdown",
   "metadata": {},
   "source": [
    "## Working with artists\n",
    "\n",
    "An artist is a person or group that performs, appears on, or contributed to an album or track. Every album, playlist, and track contains artist information in some form.\n",
    "\n",
    "In the following section, we will retrieve information about an artist (for which we know the Qobuz ID for) using both the procedural and object-oriented approaches. For this tutorial, we will focus on the Dutch EDM duo Sick Individuals."
   ]
  },
  {
   "cell_type": "code",
   "execution_count": 14,
   "metadata": {},
   "outputs": [],
   "source": [
    "artist_id = 764370"
   ]
  },
  {
   "attachments": {},
   "cell_type": "markdown",
   "metadata": {},
   "source": [
    "### Procedural approach\n",
    "\n",
    "First, we create a `qobuz.Session` object without user authentication and use it to retrieve Qobuz catalog information for the artist. To include albums, playlists, and tracks that the artist appears on, we pass `extras=[\"albums\", \"playlists\", \"tracks\"]` to `qobuz.Session.get_artist()`."
   ]
  },
  {
   "cell_type": "code",
   "execution_count": 15,
   "metadata": {},
   "outputs": [
    {
     "name": "stdout",
     "output_type": "stream",
     "text": [
      "id: 764370\n",
      "name: Sick Individuals\n",
      "albums_as_primary_artist_count: 148\n",
      "albums_as_primary_composer_count: 0\n",
      "albums_count: 121\n",
      "slug: sick-individuals\n",
      "picture: None\n",
      "image: {'small': 'https://static.qobuz.com/images/artists/covers/small/7e0606708c0ef65462c5311fe81099de.jpg', 'medium': 'https://static.qobuz.com/images/artists/covers/medium/7e0606708c0ef65462c5311fe81099de.jpg', 'large': 'https://static.qobuz.com/images/artists/covers/large/7e0606708c0ef65462c5311fe81099de.jpg', 'extralarge': 'https://static.qobuz.com/images/artists/covers/large/7e0606708c0ef65462c5311fe81099de.jpg', 'mega': 'https://static.qobuz.com/images/artists/covers/large/7e0606708c0ef65462c5311fe81099de.jpg'}\n",
      "similar_artist_ids: [67661, 97536, 725598, 2103126, 301564, 720916, 955835, 1171943, 798810, 974660, 1048406]\n",
      "information: None\n",
      "biography: {'summary': 'Dutch EDM duo Sick Individuals write boisterous, catchy dance tunes equally suited for festivals and the radio. The duo consists of Joep Smeele and Rinze Hofstee, who met in 2008 while studying music composition. Both individuals already had experience penning music for commercials, but they bonded over a mutual love for acts like Daft Punk and Swedish House Mafia, and decided to make dance music together. Sick Individuals began releasing...', 'content': 'Dutch EDM duo Sick Individuals write boisterous, catchy dance tunes equally suited for festivals and the radio. The duo consists of Joep Smeele and Rinze Hofstee, who met in 2008 while studying music composition. Both individuals already had experience penning music for commercials, but they bonded over a mutual love for acts like Daft Punk and Swedish House Mafia, and decided to make dance music together. Sick Individuals began releasing original tracks on Sneakerz Muzik in 2010, and were initially more prolific as remixers, with clients including Flo Rida, Nicky Romero, and Freestylers. Their mix of Icona Pop\\'s 2012 smash hit \"I Love It\" was particularly well received, and the duo followed it with numerous singles on labels like Revealed Recordings, Axtone, Onelove, and Armada. Collaborations with Dannic (\"Blueprint\") and Axwell (\"I Am\") both topped charts of dance music retailer Beatport, and the duo remixed songs by Madonna, Rihanna, Lady Gaga, Avicii, and numerous other stars. Sick Individuals have also performed at several major EDM festivals, including Tomorrowland, Ultra, and Creamfields. They host a podcast series as well, titled This Is Sick, which is also the name of a CD Japanese label Avex Trax released in 2015, compiling some of the duo\\'s biggest tracks. In 2019, they issued the single \"Scars,\" featuring Cub Rayan.\\n<br />&copy  Paul Simpson /TiVo', 'source': 'Rovi', 'language': 'en'}\n",
      "albums: {'total': 121, 'offset': 0, 'limit': 5, 'items': [{'maximum_bit_depth': 24, 'image': {'small': 'https://static.qobuz.com/images/covers/oa/xh/ghse76swgxhoa_230.jpg', 'thumbnail': 'https://static.qobuz.com/images/covers/oa/xh/ghse76swgxhoa_50.jpg', 'large': 'https://static.qobuz.com/images/covers/oa/xh/ghse76swgxhoa_600.jpg', 'back': None}, 'media_count': 1, 'artist': {'image': None, 'name': 'Alesso', 'id': 569517, 'albums_count': 138, 'slug': 'alesso', 'picture': None}, 'artists': [{'id': 569517, 'name': 'Alesso', 'roles': ['main-artist']}, {'id': 764370, 'name': 'Sick Individuals', 'roles': ['main-artist']}], 'upc': '0602448643667', 'released_at': 1665698400, 'label': {'name': '10 22pm', 'id': 299065, 'albums_count': 25, 'supplier_id': 1, 'slug': '10-22pm'}, 'title': 'We Go Out', 'qobuz_id': 178612353, 'version': None, 'url': 'https://www.qobuz.com/fr-fr/album/we-go-out-alesso/ghse76swgxhoa', 'duration': 170, 'parental_warning': False, 'popularity': 0, 'tracks_count': 1, 'genre': {'path': [64, 129], 'color': '#5eabc1', 'name': 'Dance', 'id': 129, 'slug': 'dance'}, 'maximum_channel_count': 2, 'id': 'ghse76swgxhoa', 'maximum_sampling_rate': 44.1, 'articles': [], 'release_date_original': '2022-10-14', 'release_date_download': '2022-10-14', 'release_date_stream': '2022-10-14', 'purchasable': True, 'streamable': False, 'previewable': True, 'sampleable': True, 'downloadable': True, 'displayable': True, 'purchasable_at': 1683702000, 'streamable_at': 1683702000, 'hires': True, 'hires_streamable': False}, {'maximum_bit_depth': 24, 'image': {'small': 'https://static.qobuz.com/images/covers/ib/24/lpnva7f8t24ib_230.jpg', 'thumbnail': 'https://static.qobuz.com/images/covers/ib/24/lpnva7f8t24ib_50.jpg', 'large': 'https://static.qobuz.com/images/covers/ib/24/lpnva7f8t24ib_600.jpg', 'back': None}, 'media_count': 1, 'artist': {'image': None, 'name': 'THE RUNAWAY CLUB', 'id': 2132043, 'albums_count': 10, 'slug': 'the-runaway-club', 'picture': None}, 'artists': [{'id': 764370, 'name': 'Sick Individuals', 'roles': ['main-artist']}, {'id': 932269, 'name': 'Alle Farben', 'roles': ['main-artist']}, {'id': 2132043, 'name': 'THE RUNAWAY CLUB', 'roles': ['featured-artist']}], 'upc': '5054197536762', 'released_at': 1675378800, 'label': {'name': \"Spinnin' Records\", 'id': 190680, 'albums_count': 4815, 'supplier_id': 5, 'slug': 'spinnin-records-4'}, 'title': 'My Life (feat. The Runaway Club)', 'qobuz_id': 195405374, 'version': None, 'url': 'https://www.qobuz.com/fr-fr/album/my-life-feat-the-runaway-club-sick-individuals-x-alle-farben/lpnva7f8t24ib', 'duration': 140, 'parental_warning': False, 'popularity': 0, 'tracks_count': 1, 'genre': {'path': [64, 129], 'color': '#5eabc1', 'name': 'Dance', 'id': 129, 'slug': 'dance'}, 'maximum_channel_count': 2, 'id': 'lpnva7f8t24ib', 'maximum_sampling_rate': 44.1, 'articles': [], 'release_date_original': '2023-02-03', 'release_date_download': '2023-02-03', 'release_date_stream': '2023-02-03', 'purchasable': True, 'streamable': False, 'previewable': True, 'sampleable': True, 'downloadable': True, 'displayable': True, 'purchasable_at': 1685257200, 'streamable_at': 1685170800, 'hires': True, 'hires_streamable': False}, {'maximum_bit_depth': 16, 'image': {'small': 'https://static.qobuz.com/images/covers/ha/08/d1xidpjmu08ha_230.jpg', 'thumbnail': 'https://static.qobuz.com/images/covers/ha/08/d1xidpjmu08ha_50.jpg', 'large': 'https://static.qobuz.com/images/covers/ha/08/d1xidpjmu08ha_600.jpg', 'back': None}, 'media_count': 1, 'artist': {'image': None, 'name': 'Tungevaag', 'id': 2000138, 'albums_count': 87, 'slug': 'tungevaag', 'picture': None}, 'artists': [{'id': 2000138, 'name': 'Tungevaag', 'roles': ['main-artist']}, {'id': 764370, 'name': 'Sick Individuals', 'roles': ['main-artist']}, {'id': 2383854, 'name': 'Philip Strand', 'roles': ['main-artist']}], 'upc': '5054197171901', 'released_at': 1653602400, 'label': {'name': \"Spinnin' Records\", 'id': 190680, 'albums_count': 4815, 'supplier_id': 5, 'slug': 'spinnin-records-4'}, 'title': 'With My Friends', 'qobuz_id': 159478048, 'version': None, 'url': 'https://www.qobuz.com/fr-fr/album/with-my-friends-tungevaag-sick-individuals-philip-strand/d1xidpjmu08ha', 'duration': 146, 'parental_warning': False, 'popularity': 0, 'tracks_count': 1, 'genre': {'path': [64, 129], 'color': '#5eabc1', 'name': 'Dance', 'id': 129, 'slug': 'dance'}, 'maximum_channel_count': 2, 'id': 'd1xidpjmu08ha', 'maximum_sampling_rate': 44.1, 'articles': [], 'release_date_original': '2022-05-27', 'release_date_download': '2022-05-27', 'release_date_stream': '2022-05-27', 'purchasable': True, 'streamable': False, 'previewable': True, 'sampleable': True, 'downloadable': True, 'displayable': True, 'purchasable_at': 1685257200, 'streamable_at': 1685170800, 'hires': False, 'hires_streamable': False}, {'maximum_bit_depth': 16, 'image': {'small': 'https://static.qobuz.com/images/covers/fb/zk/q8amev311zkfb_230.jpg', 'thumbnail': 'https://static.qobuz.com/images/covers/fb/zk/q8amev311zkfb_50.jpg', 'large': 'https://static.qobuz.com/images/covers/fb/zk/q8amev311zkfb_600.jpg', 'back': None}, 'media_count': 1, 'artist': {'image': None, 'name': 'Tungevaag', 'id': 2000138, 'albums_count': 87, 'slug': 'tungevaag', 'picture': None}, 'artists': [{'id': 2000138, 'name': 'Tungevaag', 'roles': ['main-artist']}, {'id': 764370, 'name': 'Sick Individuals', 'roles': ['main-artist']}, {'id': 105253, 'name': 'Marf', 'roles': ['main-artist']}], 'upc': '0190295092603', 'released_at': 1605222000, 'label': {'name': \"Spinnin' Records\", 'id': 190680, 'albums_count': 4815, 'supplier_id': 5, 'slug': 'spinnin-records-4'}, 'title': 'Miss You', 'qobuz_id': 105398423, 'version': None, 'url': 'https://www.qobuz.com/fr-fr/album/miss-you-tungevaag-sick-individuals-marf/q8amev311zkfb', 'duration': 384, 'parental_warning': False, 'popularity': 0, 'tracks_count': 2, 'genre': {'path': [64, 129], 'color': '#5eabc1', 'name': 'Dance', 'id': 129, 'slug': 'dance'}, 'maximum_channel_count': 2, 'id': 'q8amev311zkfb', 'maximum_sampling_rate': 44.1, 'articles': [], 'release_date_original': '2020-11-13', 'release_date_download': '2020-11-13', 'release_date_stream': '2020-11-13', 'purchasable': True, 'streamable': False, 'previewable': True, 'sampleable': True, 'downloadable': True, 'displayable': True, 'purchasable_at': 1685257200, 'streamable_at': None, 'hires': False, 'hires_streamable': False}, {'maximum_bit_depth': 16, 'image': {'small': 'https://static.qobuz.com/images/covers/yc/8s/xjnkj645l8syc_230.jpg', 'thumbnail': 'https://static.qobuz.com/images/covers/yc/8s/xjnkj645l8syc_50.jpg', 'large': 'https://static.qobuz.com/images/covers/yc/8s/xjnkj645l8syc_600.jpg', 'back': None}, 'media_count': 1, 'artist': {'image': None, 'name': 'Dannic', 'id': 725598, 'albums_count': 174, 'slug': 'dannic', 'picture': None}, 'artists': [{'id': 725598, 'name': 'Dannic', 'roles': ['main-artist']}, {'id': 764370, 'name': 'Sick Individuals', 'roles': ['main-artist']}], 'upc': '8718521036089', 'released_at': 1447023600, 'label': {'name': 'Revealed Recordings', 'id': 157491, 'albums_count': 1287, 'supplier_id': 41, 'slug': 'revealed-recordings-1'}, 'title': 'Feel Your Love', 'qobuz_id': 163931815, 'version': None, 'url': 'https://www.qobuz.com/fr-fr/album/feel-your-love-dannic-and-sick-individuals/xjnkj645l8syc', 'duration': 2200, 'parental_warning': False, 'popularity': 0, 'tracks_count': 8, 'genre': {'path': [64, 68], 'color': '#5eabc1', 'name': 'House', 'id': 68, 'slug': 'house'}, 'maximum_channel_count': 2, 'id': 'xjnkj645l8syc', 'maximum_sampling_rate': 44.1, 'articles': [], 'release_date_original': '2015-11-09', 'release_date_download': '2015-11-09', 'release_date_stream': '2015-11-09', 'purchasable': True, 'streamable': False, 'previewable': True, 'sampleable': True, 'downloadable': True, 'displayable': True, 'purchasable_at': 1663225200, 'streamable_at': 1663225200, 'hires': False, 'hires_streamable': False}]}\n",
      "tracks: {'offset': 0, 'limit': 5, 'total': 335, 'items': [{'maximum_bit_depth': 24, 'copyright': \"© 2023 Spinnin' Records ℗ 2023 Spinnin' Records\", 'performers': 'Sick Individuals, Programmer, MainArtist - Rinze Hofstee, Producer, Writer - Joep Smeele, Producer, Writer', 'audio_info': {'replaygain_track_peak': 0.986816, 'replaygain_track_gain': -12.27}, 'performer': {'name': 'Sick Individuals', 'id': 764370}, 'album': {'image': {'small': 'https://static.qobuz.com/images/covers/jb/9h/adhx2yd589hjb_230.jpg', 'thumbnail': 'https://static.qobuz.com/images/covers/jb/9h/adhx2yd589hjb_50.jpg', 'large': 'https://static.qobuz.com/images/covers/jb/9h/adhx2yd589hjb_600.jpg'}, 'maximum_bit_depth': 24, 'media_count': 1, 'artist': {'image': None, 'name': 'Sick Individuals', 'id': 764370, 'albums_count': 189, 'slug': 'sick-individuals', 'picture': None}, 'upc': '5054197683916', 'released_at': 1685656800, 'label': {'name': \"Spinnin' Records\", 'id': 190680, 'albums_count': 4815, 'supplier_id': 5, 'slug': 'spinnin-records-4'}, 'title': 'MAIA', 'qobuz_id': 212657884, 'version': None, 'duration': 188, 'parental_warning': False, 'tracks_count': 1, 'popularity': 0, 'genre': {'path': [64, 129], 'color': '#0070ef', 'name': 'Dance', 'id': 129, 'slug': 'dance'}, 'maximum_channel_count': 2, 'id': 'adhx2yd589hjb', 'maximum_sampling_rate': 44.1, 'previewable': True, 'sampleable': True, 'displayable': True, 'streamable': False, 'streamable_at': 1685689200, 'downloadable': False, 'purchasable_at': None, 'purchasable': False, 'release_date_original': '2023-06-02', 'release_date_download': '2023-06-02', 'release_date_stream': '2023-06-02', 'hires': True, 'hires_streamable': False}, 'work': None, 'isrc': 'NLZ542300737', 'title': 'MAIA', 'version': None, 'duration': 188, 'parental_warning': False, 'track_number': 1, 'maximum_channel_count': 2, 'id': 212657885, 'media_number': 1, 'maximum_sampling_rate': 44.1, 'release_date_original': None, 'release_date_download': None, 'release_date_stream': None, 'purchasable': True, 'streamable': False, 'previewable': True, 'sampleable': True, 'downloadable': True, 'displayable': True, 'purchasable_at': 1685689200, 'streamable_at': 1685689200, 'hires': True, 'hires_streamable': False}, {'maximum_bit_depth': 24, 'copyright': '(C) 2023 NEWMADE Music (P) 2023 NEWMADE Music', 'performers': 'Sick Individuals, MainArtist - Rinze Hofstee, Composer, Producer - Joep Smeele, Composer, Producer - Sick Individuals Publishing, MusicPublisher', 'audio_info': {'replaygain_track_peak': 0.998871, 'replaygain_track_gain': -12.43}, 'performer': {'name': 'Sick Individuals', 'id': 764370}, 'album': {'image': {'small': 'https://static.qobuz.com/images/covers/ac/f1/hhpho6xwef1ac_230.jpg', 'thumbnail': 'https://static.qobuz.com/images/covers/ac/f1/hhpho6xwef1ac_50.jpg', 'large': 'https://static.qobuz.com/images/covers/ac/f1/hhpho6xwef1ac_600.jpg'}, 'maximum_bit_depth': 24, 'media_count': 1, 'artist': {'image': None, 'name': 'Sick Individuals', 'id': 764370, 'albums_count': 188, 'slug': 'sick-individuals', 'picture': None}, 'upc': '0196871033305', 'released_at': 1682028000, 'label': {'name': 'One Seven Music', 'id': 252825, 'albums_count': 993, 'supplier_id': 17, 'slug': 'one-seven-music'}, 'title': 'Heart On Fire', 'qobuz_id': 205435447, 'version': None, 'duration': 153, 'parental_warning': False, 'tracks_count': 1, 'popularity': 0, 'genre': {'path': [64], 'color': '#0070ef', 'name': 'Electronic', 'id': 64, 'slug': 'electro'}, 'maximum_channel_count': 2, 'id': 'hhpho6xwef1ac', 'maximum_sampling_rate': 44.1, 'previewable': True, 'sampleable': True, 'displayable': True, 'streamable': False, 'streamable_at': 1682060400, 'downloadable': False, 'purchasable_at': None, 'purchasable': False, 'release_date_original': '2023-04-21', 'release_date_download': '2023-04-21', 'release_date_stream': '2023-04-21', 'hires': True, 'hires_streamable': False}, 'work': None, 'composer': {'name': 'Joep Smeele', 'id': 806061}, 'isrc': 'DK4YA2308701', 'title': 'Heart On Fire', 'version': None, 'duration': 153, 'parental_warning': False, 'track_number': 1, 'maximum_channel_count': 2, 'id': 205435448, 'media_number': 1, 'maximum_sampling_rate': 44.1, 'release_date_original': None, 'release_date_download': None, 'release_date_stream': None, 'purchasable': True, 'streamable': False, 'previewable': True, 'sampleable': True, 'downloadable': True, 'displayable': True, 'purchasable_at': 1682060400, 'streamable_at': 1682060400, 'hires': True, 'hires_streamable': False}, {'maximum_bit_depth': 24, 'copyright': \"Under exclusive license to Warner Music Group Germany Holding GmbH, © 2023 Spinnin' Records Under exclusive license to Warner Music Group Germany Holding GmbH, ℗ 2023 Sick Individuals Entertainment BV\", 'performers': 'Sick Individuals, Producer, MainArtist - Rinze Hofstee, Composer, Lyricist - Joep Smeele, Composer, Lyricist - Dino Medanhodzic, Composer, Lyricist - Dotter, Vocals, FeaturedArtist', 'audio_info': {'replaygain_track_peak': 1, 'replaygain_track_gain': -12.05}, 'performer': {'name': 'Sick Individuals', 'id': 764370}, 'album': {'image': {'small': 'https://static.qobuz.com/images/covers/jb/04/lthoj77kg04jb_230.jpg', 'thumbnail': 'https://static.qobuz.com/images/covers/jb/04/lthoj77kg04jb_50.jpg', 'large': 'https://static.qobuz.com/images/covers/jb/04/lthoj77kg04jb_600.jpg'}, 'maximum_bit_depth': 24, 'media_count': 1, 'artist': {'image': None, 'name': 'Dotter', 'id': 2268240, 'albums_count': 20, 'slug': 'dotter', 'picture': None}, 'upc': '5054197613890', 'released_at': 1680213600, 'label': {'name': \"Spinnin' Records\", 'id': 190680, 'albums_count': 4810, 'supplier_id': 5, 'slug': 'spinnin-records-4'}, 'title': 'YOU (feat. Dotter)', 'qobuz_id': 204633776, 'version': None, 'duration': 151, 'parental_warning': False, 'tracks_count': 1, 'popularity': 0, 'genre': {'path': [64, 129], 'color': '#0070ef', 'name': 'Dance', 'id': 129, 'slug': 'dance'}, 'maximum_channel_count': 2, 'id': 'lthoj77kg04jb', 'maximum_sampling_rate': 44.1, 'previewable': True, 'sampleable': True, 'displayable': True, 'streamable': False, 'streamable_at': 1685170800, 'downloadable': False, 'purchasable_at': None, 'purchasable': False, 'release_date_original': '2023-03-31', 'release_date_download': '2023-03-31', 'release_date_stream': '2023-03-31', 'hires': True, 'hires_streamable': False}, 'work': None, 'composer': {'name': 'Dino Medanhodzic', 'id': 984754}, 'isrc': 'DEA622300261', 'title': 'YOU (feat. Dotter)', 'version': None, 'duration': 151, 'parental_warning': False, 'track_number': 1, 'maximum_channel_count': 2, 'id': 204633777, 'media_number': 1, 'maximum_sampling_rate': 44.1, 'release_date_original': None, 'release_date_download': None, 'release_date_stream': None, 'purchasable': True, 'streamable': False, 'previewable': True, 'sampleable': True, 'downloadable': True, 'displayable': True, 'purchasable_at': 1685257200, 'streamable_at': 1685170800, 'hires': True, 'hires_streamable': False}, {'maximum_bit_depth': 24, 'copyright': \"© 2023 Spinnin' Records Under exclusive license to Warner Music Group Germany Holding GmbH, ℗ 2023 Sick Individuals Entertainment BV\", 'performers': 'Sick Individuals, Producer, Programmer, MainArtist - Rinze Hofstee, Composer - Joep Smeele, Composer - Alle Farben, Producer, Programmer, MainArtist - Frans Zimmer, Composer - THE RUNAWAY CLUB, Producer, Vocals, FeaturedArtist - Alan Matthew Poettcker, Composer, Lyricist', 'audio_info': {'replaygain_track_peak': 1, 'replaygain_track_gain': -11.04}, 'performer': {'name': 'Sick Individuals', 'id': 764370}, 'album': {'image': {'small': 'https://static.qobuz.com/images/covers/ib/24/lpnva7f8t24ib_230.jpg', 'thumbnail': 'https://static.qobuz.com/images/covers/ib/24/lpnva7f8t24ib_50.jpg', 'large': 'https://static.qobuz.com/images/covers/ib/24/lpnva7f8t24ib_600.jpg'}, 'maximum_bit_depth': 24, 'media_count': 1, 'artist': {'image': None, 'name': 'THE RUNAWAY CLUB', 'id': 2132043, 'albums_count': 10, 'slug': 'the-runaway-club', 'picture': None}, 'upc': '5054197536762', 'released_at': 1675378800, 'label': {'name': \"Spinnin' Records\", 'id': 190680, 'albums_count': 4810, 'supplier_id': 5, 'slug': 'spinnin-records-4'}, 'title': 'My Life (feat. The Runaway Club)', 'qobuz_id': 195405374, 'version': None, 'duration': 140, 'parental_warning': False, 'tracks_count': 1, 'popularity': 0, 'genre': {'path': [64, 129], 'color': '#0070ef', 'name': 'Dance', 'id': 129, 'slug': 'dance'}, 'maximum_channel_count': 2, 'id': 'lpnva7f8t24ib', 'maximum_sampling_rate': 44.1, 'previewable': True, 'sampleable': True, 'displayable': True, 'streamable': False, 'streamable_at': 1685170800, 'downloadable': False, 'purchasable_at': None, 'purchasable': False, 'release_date_original': '2023-02-03', 'release_date_download': '2023-02-03', 'release_date_stream': '2023-02-03', 'hires': True, 'hires_streamable': False}, 'work': None, 'composer': {'name': 'Alan Matthew Poettcker', 'id': 17221860}, 'isrc': 'DEA622300058', 'title': 'My Life (feat. The Runaway Club)', 'version': None, 'duration': 140, 'parental_warning': False, 'track_number': 1, 'maximum_channel_count': 2, 'id': 195405375, 'media_number': 1, 'maximum_sampling_rate': 44.1, 'release_date_original': None, 'release_date_download': None, 'release_date_stream': None, 'purchasable': True, 'streamable': False, 'previewable': True, 'sampleable': True, 'downloadable': True, 'displayable': True, 'purchasable_at': 1685257200, 'streamable_at': 1685170800, 'hires': True, 'hires_streamable': False}, {'maximum_bit_depth': 24, 'copyright': \"© 2022 Spinnin' Records Under exclusive license to Warner Music Group Germany Holding GmbH, ℗ 2022 Sick Individuals Entertainment BV\", 'performers': 'Sick Individuals, Producer, MainArtist - Rinze Hofstee, Composer - Joep Smeele, Composer - Cameron Warren, Lyricist - Jim Bergsted, Lyricist - Helge Reinsnes Moen, Lyricist', 'audio_info': {'replaygain_track_peak': 0.986053, 'replaygain_track_gain': -10.79}, 'performer': {'name': 'Sick Individuals', 'id': 764370}, 'album': {'image': {'small': 'https://static.qobuz.com/images/covers/sa/ct/aqhmhl6skctsa_230.jpg', 'thumbnail': 'https://static.qobuz.com/images/covers/sa/ct/aqhmhl6skctsa_50.jpg', 'large': 'https://static.qobuz.com/images/covers/sa/ct/aqhmhl6skctsa_600.jpg'}, 'maximum_bit_depth': 24, 'media_count': 1, 'artist': {'image': None, 'name': 'Sick Individuals', 'id': 764370, 'albums_count': 189, 'slug': 'sick-individuals', 'picture': None}, 'upc': '5054197457906', 'released_at': 1669330800, 'label': {'name': \"Spinnin' Records\", 'id': 190680, 'albums_count': 4810, 'supplier_id': 5, 'slug': 'spinnin-records-4'}, 'title': 'Better with You', 'qobuz_id': 186452713, 'version': None, 'duration': 154, 'parental_warning': False, 'tracks_count': 1, 'popularity': 0, 'genre': {'path': [64, 129], 'color': '#0070ef', 'name': 'Dance', 'id': 129, 'slug': 'dance'}, 'maximum_channel_count': 2, 'id': 'aqhmhl6skctsa', 'maximum_sampling_rate': 44.1, 'previewable': True, 'sampleable': True, 'displayable': True, 'streamable': False, 'streamable_at': 1685170800, 'downloadable': False, 'purchasable_at': None, 'purchasable': False, 'release_date_original': '2022-11-25', 'release_date_download': '2022-11-25', 'release_date_stream': '2022-11-25', 'hires': True, 'hires_streamable': False}, 'work': None, 'composer': {'name': 'Joep Smeele', 'id': 806061}, 'isrc': 'DEA622201605', 'title': 'Better with You', 'version': None, 'duration': 154, 'parental_warning': False, 'track_number': 1, 'maximum_channel_count': 2, 'id': 186452714, 'media_number': 1, 'maximum_sampling_rate': 44.1, 'release_date_original': None, 'release_date_download': None, 'release_date_stream': None, 'purchasable': True, 'streamable': False, 'previewable': True, 'sampleable': True, 'downloadable': True, 'displayable': True, 'purchasable_at': 1685257200, 'streamable_at': 1685170800, 'hires': True, 'hires_streamable': False}]}\n",
      "playlists: [{'image_rectangle_mini': ['https://static.qobuz.com/images/playlists/3009106_5515a64a95b9f6b4e9b992267bde88fa_rectangle_mini.jpg'], 'is_published': True, 'featured_artists': [{'id': 764370, 'name': 'Sick Individuals', 'slug': 'sick-individuals', 'albums_count': 189, 'picture': None, 'image': None}], 'description': 'Sick Individuals', 'created_at': 1585128490, 'timestamp_position': 1585128490, 'images300': ['https://static.qobuz.com/images/covers/fa/am/n9ttvn1d4amfa_300.jpg', 'https://static.qobuz.com/images/covers/2b/0e/fa2hk4w8w0e2b_300.jpg', 'https://static.qobuz.com/images/covers/qc/yc/xc884a7a9ycqc_300.jpg', 'https://static.qobuz.com/images/covers/oa/lh/h5tb47b7qlhoa_300.jpg'], 'duration': 6467, 'updated_at': 1585128490, 'published_to': 1742894890, 'genres': [], 'image_rectangle': ['https://static.qobuz.com/images/playlists/3009106_5515a64a95b9f6b4e9b992267bde88fa_rectangle.jpg'], 'id': 3009106, 'slug': 'sick-individuals', 'owner': {'id': 1280097, 'name': 'Qobuz'}, 'users_count': 0, 'images150': ['https://static.qobuz.com/images/covers/fa/am/n9ttvn1d4amfa_150.jpg', 'https://static.qobuz.com/images/covers/2b/0e/fa2hk4w8w0e2b_150.jpg', 'https://static.qobuz.com/images/covers/qc/yc/xc884a7a9ycqc_150.jpg', 'https://static.qobuz.com/images/covers/oa/lh/h5tb47b7qlhoa_150.jpg'], 'images': ['https://static.qobuz.com/images/covers/fa/am/n9ttvn1d4amfa_50.jpg', 'https://static.qobuz.com/images/covers/2b/0e/fa2hk4w8w0e2b_50.jpg', 'https://static.qobuz.com/images/covers/qc/yc/xc884a7a9ycqc_50.jpg', 'https://static.qobuz.com/images/covers/oa/lh/h5tb47b7qlhoa_50.jpg'], 'is_collaborative': False, 'stores': ['US-en'], 'tracks_count': 30, 'name': 'Sick Individuals', 'is_public': True, 'published_from': 1585128490, 'is_featured': False, 'tracks': {'offset': 0, 'limit': 1000, 'total': 30, 'items': [{'maximum_bit_depth': 24, 'copyright': '2020 Revealed Music B.V. 2020 Revealed Music B.V.', 'performers': 'Sick Individuals, Producer, MainArtist - Sick Individuals Publishing, MusicPublisher - Robbie Rosen, MainArtist - Robbie Rosen Music, MusicPublisher', 'audio_info': {'replaygain_track_peak': 1, 'replaygain_track_gain': -11.97}, 'performer': {'name': 'Sick Individuals', 'id': 764370}, 'article_ids': {'LLS': 240115781, 'SMR': 240115782, 'SM2': 389672888}, 'album': {'image': {'small': 'https://static.qobuz.com/images/covers/fa/am/n9ttvn1d4amfa_230.jpg', 'thumbnail': 'https://static.qobuz.com/images/covers/fa/am/n9ttvn1d4amfa_50.jpg', 'large': 'https://static.qobuz.com/images/covers/fa/am/n9ttvn1d4amfa_600.jpg'}, 'maximum_bit_depth': 24, 'media_count': 1, 'artist': {'image': None, 'name': 'Sick Individuals', 'id': 764370, 'albums_count': 173, 'slug': 'sick-individuals', 'picture': None}, 'upc': '7434007850857', 'released_at': 1582844400, 'label': {'name': 'Revealed Recordings', 'id': 157491, 'albums_count': 854, 'supplier_id': 41, 'slug': 'revealed-recordings-1'}, 'title': 'Come Alive', 'qobuz_id': 88253787, 'version': None, 'duration': 544, 'parental_warning': False, 'tracks_count': 2, 'popularity': 0, 'genre': {'path': [64, 129], 'color': '#0070ef', 'name': 'Dance', 'id': 129, 'slug': 'dance'}, 'maximum_channel_count': 2, 'id': 'n9ttvn1d4amfa', 'maximum_sampling_rate': 44.1, 'previewable': True, 'sampleable': True, 'displayable': True, 'streamable': False, 'streamable_at': 1656572400, 'downloadable': False, 'purchasable_at': None, 'purchasable': False, 'release_date_original': '2020-02-28', 'release_date_download': '2020-02-28', 'release_date_stream': '2020-02-28', 'hires': True, 'hires_streamable': False}, 'work': None, 'isrc': 'NLQ8D2000055', 'title': 'Come Alive', 'version': None, 'duration': 209, 'parental_warning': False, 'track_number': 1, 'maximum_channel_count': 2, 'id': 88253788, 'media_number': 1, 'maximum_sampling_rate': 44.1, 'articles': [{'id': 240115781, 'url': '/order/240115781', 'price': 1.29, 'currency': 'USD', 'type': 'lls', 'label': 'CD-quality', 'description': 'Lossless 16 bit/44.1 kHz (FLAC, ALAC, WMA, AIFF, WAV)'}, {'id': 240115782, 'url': '/order/240115782', 'price': 1.99, 'currency': 'USD', 'type': 'smr', 'label': 'Hi-Res', 'description': 'Up to 24 bit/96 kHz (FLAC, ALAC, WMA, AIFF, WAV)'}], 'release_date_original': None, 'release_date_download': None, 'release_date_stream': None, 'purchasable': True, 'streamable': False, 'previewable': True, 'sampleable': True, 'downloadable': True, 'displayable': True, 'purchasable_at': 1656572400, 'streamable_at': 1656572400, 'hires': True, 'hires_streamable': False, 'description': []}, {'maximum_bit_depth': 24, 'copyright': '2015 Armada Music B.V. 2015 Armada Music B.V.', 'performers': 'Copyright Control, MusicPublisher - Sick Individuals, MainArtist - Warner Chappell Music Publishing, MusicPublisher - R. Hofstee, Composer - S. den Daas, Composer - P. Dalton, Composer - BMG/Chrysalis, MusicPublisher - A. Bullimore, Composer - DBSTF, MainArtist - D.A. Bakker, Composer - J.L.Smeele, Composer - L. Needham, Composer - J. Attwooll, Composer - Sick Individuals PublishingLtd, MusicPublisher - Destined Productions Ltd, MusicPublisher', 'audio_info': {'replaygain_track_peak': 1, 'replaygain_track_gain': -12.22}, 'performer': {'name': 'Sick Individuals', 'id': 764370}, 'article_ids': {'LLS': 132832419, 'SMR': 132832420, 'SM2': 351456030}, 'album': {'image': {'small': 'https://static.qobuz.com/images/covers/2b/0e/fa2hk4w8w0e2b_230.jpg', 'thumbnail': 'https://static.qobuz.com/images/covers/2b/0e/fa2hk4w8w0e2b_50.jpg', 'large': 'https://static.qobuz.com/images/covers/2b/0e/fa2hk4w8w0e2b_600.jpg'}, 'maximum_bit_depth': 24, 'media_count': 1, 'artist': {'image': None, 'name': 'Sick Individuals', 'id': 764370, 'albums_count': 190, 'slug': 'sick-individuals', 'picture': None}, 'upc': '8718522070150', 'released_at': 1439762400, 'label': {'name': 'Mainstage Music', 'id': 248660, 'albums_count': 168, 'supplier_id': 41, 'slug': 'mainstage-music'}, 'title': 'Waiting For You', 'qobuz_id': 53129915, 'version': None, 'duration': 549, 'parental_warning': False, 'tracks_count': 2, 'popularity': 0, 'genre': {'path': [64, 68], 'color': '#0070ef', 'name': 'House', 'id': 68, 'slug': 'house'}, 'maximum_channel_count': 2, 'id': 'fa2hk4w8w0e2b', 'maximum_sampling_rate': 44.1, 'previewable': True, 'sampleable': True, 'displayable': True, 'streamable': False, 'streamable_at': 1685948400, 'downloadable': False, 'purchasable_at': None, 'purchasable': False, 'release_date_original': '2015-08-17', 'release_date_download': '2015-08-17', 'release_date_stream': '2015-08-17', 'hires': True, 'hires_streamable': False}, 'work': None, 'composer': {'name': 'J. L. Smeele', 'id': 1835352}, 'isrc': 'NLF711504486', 'title': 'Waiting For You', 'version': 'Radio Edit', 'duration': 210, 'parental_warning': False, 'track_number': 1, 'maximum_channel_count': 2, 'id': 53129916, 'media_number': 1, 'maximum_sampling_rate': 44.1, 'articles': [{'id': 132832419, 'url': '/order/132832419', 'price': 1.29, 'currency': 'USD', 'type': 'lls', 'label': 'CD-quality', 'description': 'Lossless 16 bit/44.1 kHz (FLAC, ALAC, WMA, AIFF, WAV)'}, {'id': 132832420, 'url': '/order/132832420', 'price': 1.99, 'currency': 'USD', 'type': 'smr', 'label': 'Hi-Res', 'description': 'Up to 24 bit/96 kHz (FLAC, ALAC, WMA, AIFF, WAV)'}], 'release_date_original': None, 'release_date_download': None, 'release_date_stream': None, 'purchasable': True, 'streamable': False, 'previewable': True, 'sampleable': True, 'downloadable': True, 'displayable': True, 'purchasable_at': 1685948400, 'streamable_at': 1685948400, 'hires': True, 'hires_streamable': False, 'description': []}, {'maximum_bit_depth': 16, 'copyright': '2016 Armada Music B.V. 2016 Armada Music B.V.', 'performers': 'Sick Individuals, MainArtist - R. Hofstee, Composer - J. Smeele, Composer - Sick Individuals Publishing, MusicPublisher - Holl & Rush, MainArtist - Bart Jaspers, Composer - Oscar Loomans, Composer - Dannic Publishing (Cloud 9 Holland Music Publishing), MusicPublisher', 'audio_info': {'replaygain_track_peak': 0.987793, 'replaygain_track_gain': -11.04}, 'performer': {'name': 'Sick Individuals', 'id': 764370}, 'article_ids': {'LLS': 132831895, 'SMR': 132831896, 'SM2': 351455824}, 'album': {'image': {'small': 'https://static.qobuz.com/images/covers/qc/yc/xc884a7a9ycqc_230.jpg', 'thumbnail': 'https://static.qobuz.com/images/covers/qc/yc/xc884a7a9ycqc_50.jpg', 'large': 'https://static.qobuz.com/images/covers/qc/yc/xc884a7a9ycqc_600.jpg'}, 'maximum_bit_depth': 16, 'media_count': 1, 'artist': {'image': None, 'name': 'Sick Individuals', 'id': 764370, 'albums_count': 190, 'slug': 'sick-individuals', 'picture': None}, 'upc': '8718522109522', 'released_at': 1474840800, 'label': {'name': 'Mainstage Music', 'id': 248660, 'albums_count': 168, 'supplier_id': 41, 'slug': 'mainstage-music'}, 'title': 'HELIX', 'qobuz_id': 53129755, 'version': None, 'duration': 473, 'parental_warning': False, 'tracks_count': 2, 'popularity': 0, 'genre': {'path': [64, 68], 'color': '#0070ef', 'name': 'House', 'id': 68, 'slug': 'house'}, 'maximum_channel_count': 2, 'id': 'xc884a7a9ycqc', 'maximum_sampling_rate': 44.1, 'previewable': True, 'sampleable': True, 'displayable': True, 'streamable': False, 'streamable_at': 1685948400, 'downloadable': False, 'purchasable_at': None, 'purchasable': False, 'release_date_original': '2016-09-26', 'release_date_download': '2016-09-26', 'release_date_stream': '2016-09-26', 'hires': False, 'hires_streamable': False}, 'work': None, 'composer': {'name': 'J. Smeele', 'id': 955858}, 'isrc': 'NLF711607117', 'title': 'HELIX', 'version': 'Extended Mix', 'duration': 264, 'parental_warning': False, 'track_number': 2, 'maximum_channel_count': 2, 'id': 53129757, 'media_number': 1, 'maximum_sampling_rate': 44.1, 'articles': [{'id': 132831895, 'url': '/order/132831895', 'price': 1.29, 'currency': 'USD', 'type': 'lls', 'label': 'CD-quality', 'description': 'Lossless 16 bit/44.1 kHz (FLAC, ALAC, WMA, AIFF, WAV)'}], 'release_date_original': None, 'release_date_download': None, 'release_date_stream': None, 'purchasable': True, 'streamable': False, 'previewable': True, 'sampleable': True, 'downloadable': True, 'displayable': True, 'purchasable_at': 1685948400, 'streamable_at': 1685948400, 'hires': False, 'hires_streamable': False, 'description': []}, {'maximum_bit_depth': 24, 'copyright': '2022 Revealed Music B.V. 2022 Revealed Music B.V.', 'performers': 'Copyright Control, MusicPublisher - Sick Individuals, Producer, MainArtist - Rinze Hofstee, Composer - Joep Smeele, Composer - BMG, MusicPublisher - Sick Individuals Publishing, MusicPublisher - Dastic, Producer, MainArtist - Revealed Publishing (Cloud 9 Holland Music Publishing), MusicPublisher - Damian Bast, Composer - Johan Jord Brinkhuis, ComposerLyricist - Raffie van Maren, Lyricist', 'audio_info': {'replaygain_track_peak': 0.986053, 'replaygain_track_gain': -11.62}, 'performer': {'name': 'Sick Individuals', 'id': 764370}, 'article_ids': {'LLS': 637764052, 'SMR': 637764053, 'SM2': 637764054}, 'album': {'image': {'small': 'https://static.qobuz.com/images/covers/oa/lh/h5tb47b7qlhoa_230.jpg', 'thumbnail': 'https://static.qobuz.com/images/covers/oa/lh/h5tb47b7qlhoa_50.jpg', 'large': 'https://static.qobuz.com/images/covers/oa/lh/h5tb47b7qlhoa_600.jpg'}, 'maximum_bit_depth': 24, 'media_count': 1, 'artist': {'image': None, 'name': 'Sick Individuals', 'id': 764370, 'albums_count': 173, 'slug': 'sick-individuals', 'picture': None}, 'upc': '8720766074931', 'released_at': 1657231200, 'label': {'name': 'Revealed Recordings', 'id': 157491, 'albums_count': 854, 'supplier_id': 41, 'slug': 'revealed-recordings-1'}, 'title': \"I'll Be There\", 'qobuz_id': 161261169, 'version': None, 'duration': 412, 'parental_warning': False, 'tracks_count': 2, 'popularity': 0, 'genre': {'path': [64, 68], 'color': '#0070ef', 'name': 'House', 'id': 68, 'slug': 'house'}, 'maximum_channel_count': 2, 'id': 'h5tb47b7qlhoa', 'maximum_sampling_rate': 44.1, 'previewable': True, 'sampleable': True, 'displayable': True, 'streamable': False, 'streamable_at': 1657263600, 'downloadable': False, 'purchasable_at': None, 'purchasable': False, 'release_date_original': '2022-07-08', 'release_date_download': '2022-07-08', 'release_date_stream': '2022-07-08', 'hires': True, 'hires_streamable': False}, 'work': None, 'composer': {'name': 'Joep Smeele', 'id': 806061}, 'isrc': 'NLQ8D2200919', 'title': \"I'll Be There\", 'version': None, 'duration': 175, 'parental_warning': False, 'track_number': 1, 'maximum_channel_count': 2, 'id': 161261170, 'media_number': 1, 'maximum_sampling_rate': 44.1, 'articles': [{'id': 637764052, 'url': '/order/637764052', 'price': 1.29, 'currency': 'USD', 'type': 'lls', 'label': 'CD-quality', 'description': 'Lossless 16 bit/44.1 kHz (FLAC, ALAC, WMA, AIFF, WAV)'}, {'id': 637764053, 'url': '/order/637764053', 'price': 1.99, 'currency': 'USD', 'type': 'smr', 'label': 'Hi-Res', 'description': 'Up to 24 bit/96 kHz (FLAC, ALAC, WMA, AIFF, WAV)'}], 'release_date_original': None, 'release_date_download': None, 'release_date_stream': None, 'purchasable': True, 'streamable': False, 'previewable': True, 'sampleable': True, 'downloadable': True, 'displayable': True, 'purchasable_at': 1657263600, 'streamable_at': 1657263600, 'hires': True, 'hires_streamable': False, 'description': []}, {'maximum_bit_depth': 16, 'copyright': '2016 Armada Music B.V. 2016 Armada Music B.V.', 'performers': 'Copyright Control, MusicPublisher - Sick Individuals, MainArtist - R. Hofstee, Composer - Stevie Appleton, FeaturedArtist - Sick Individuals Publishing, MusicPublisher - J. L. Smeele, Composer - S. Appleton, Composer', 'audio_info': {'replaygain_track_peak': 1, 'replaygain_track_gain': -10.64}, 'performer': {'name': 'Sick Individuals', 'id': 764370}, 'article_ids': {'LLS': 132651269, 'SMR': 132651270, 'SM2': 351390789}, 'album': {'image': {'small': 'https://static.qobuz.com/images/covers/xc/ii/krb6bibj6iixc_230.jpg', 'thumbnail': 'https://static.qobuz.com/images/covers/xc/ii/krb6bibj6iixc_50.jpg', 'large': 'https://static.qobuz.com/images/covers/xc/ii/krb6bibj6iixc_600.jpg'}, 'maximum_bit_depth': 16, 'media_count': 1, 'artist': {'image': None, 'name': 'Sick Individuals', 'id': 764370, 'albums_count': 190, 'slug': 'sick-individuals', 'picture': None}, 'upc': '8718522097546', 'released_at': 1469138400, 'label': {'name': 'The Bearded Man (Armada)', 'id': 248173, 'albums_count': 512, 'supplier_id': 41, 'slug': 'the-bearded-man-armada'}, 'title': 'Mrs.', 'qobuz_id': 53070801, 'version': None, 'duration': 182, 'parental_warning': False, 'tracks_count': 1, 'popularity': 0, 'genre': {'path': [64, 69], 'color': '#0070ef', 'name': 'Lounge', 'id': 69, 'slug': 'lounge'}, 'maximum_channel_count': 2, 'id': 'krb6bibj6iixc', 'maximum_sampling_rate': 44.1, 'previewable': True, 'sampleable': True, 'displayable': True, 'streamable': False, 'streamable_at': 1686034800, 'downloadable': False, 'purchasable_at': None, 'purchasable': False, 'release_date_original': '2016-07-22', 'release_date_download': '2016-07-22', 'release_date_stream': '2016-07-22', 'hires': False, 'hires_streamable': False}, 'work': None, 'composer': {'name': 'J. L. Smeele', 'id': 1835352}, 'isrc': 'NLF711603596', 'title': 'Mrs.', 'version': None, 'duration': 182, 'parental_warning': False, 'track_number': 1, 'maximum_channel_count': 2, 'id': 53070802, 'media_number': 1, 'maximum_sampling_rate': 44.1, 'articles': [{'id': 132651269, 'url': '/order/132651269', 'price': 1.29, 'currency': 'USD', 'type': 'lls', 'label': 'CD-quality', 'description': 'Lossless 16 bit/44.1 kHz (FLAC, ALAC, WMA, AIFF, WAV)'}], 'release_date_original': None, 'release_date_download': None, 'release_date_stream': None, 'purchasable': True, 'streamable': False, 'previewable': True, 'sampleable': True, 'downloadable': True, 'displayable': True, 'purchasable_at': 1686034800, 'streamable_at': 1686034800, 'hires': False, 'hires_streamable': False, 'description': []}, {'maximum_bit_depth': 24, 'copyright': '(C) 2020 NEWMADE (P) 2020 NEWMADE', 'performers': 'Sick Individuals, MainArtist - Rinze Hofstee, Composer, Producer - Joep Smeele, Composer, Producer - Sick Individuals Publishing, MusicPublisher', 'audio_info': {'replaygain_track_peak': 1, 'replaygain_track_gain': -12.4}, 'performer': {'name': 'Sick Individuals', 'id': 764370}, 'article_ids': {'LLS': 292086824, 'SMR': 292086825, 'SM2': 408302490}, 'album': {'image': {'small': 'https://static.qobuz.com/images/covers/0a/ue/pll35a9oiue0a_230.jpg', 'thumbnail': 'https://static.qobuz.com/images/covers/0a/ue/pll35a9oiue0a_50.jpg', 'large': 'https://static.qobuz.com/images/covers/0a/ue/pll35a9oiue0a_600.jpg'}, 'maximum_bit_depth': 24, 'media_count': 1, 'artist': {'image': None, 'name': 'Sick Individuals', 'id': 764370, 'albums_count': 155, 'slug': 'sick-individuals', 'picture': None}, 'upc': '0886448576433', 'released_at': 1594332000, 'label': {'name': 'NEWMADE', 'id': 1322758, 'albums_count': 7, 'supplier_id': 17, 'slug': 'newmade-1'}, 'title': 'Dance with Me', 'qobuz_id': 105128388, 'version': None, 'duration': 194, 'parental_warning': False, 'tracks_count': 1, 'popularity': 0, 'genre': {'path': [64], 'color': '#0070ef', 'name': 'Electronic', 'id': 64, 'slug': 'electro'}, 'maximum_channel_count': 2, 'id': 'pll35a9oiue0a', 'maximum_sampling_rate': 44.1, 'previewable': True, 'sampleable': True, 'displayable': True, 'streamable': False, 'streamable_at': 1633590000, 'downloadable': False, 'purchasable_at': None, 'purchasable': False, 'release_date_original': '2020-07-10', 'release_date_download': '2020-07-10', 'release_date_stream': '2020-07-10', 'hires': True, 'hires_streamable': False}, 'work': None, 'composer': {'name': 'Joep Smeele', 'id': 806061}, 'isrc': 'DK4YA2071801', 'title': 'Dance with Me', 'version': None, 'duration': 194, 'parental_warning': False, 'track_number': 1, 'maximum_channel_count': 2, 'id': 105128389, 'media_number': 1, 'maximum_sampling_rate': 44.1, 'articles': [{'id': 292086824, 'url': '/order/292086824', 'price': 1.49, 'currency': 'USD', 'type': 'lls', 'label': 'CD-quality', 'description': 'Lossless 16 bit/44.1 kHz (FLAC, ALAC, WMA, AIFF, WAV)'}, {'id': 292086825, 'url': '/order/292086825', 'price': 1.99, 'currency': 'USD', 'type': 'smr', 'label': 'Hi-Res', 'description': 'Up to 24 bit/96 kHz (FLAC, ALAC, WMA, AIFF, WAV)'}], 'release_date_original': None, 'release_date_download': None, 'release_date_stream': None, 'purchasable': True, 'streamable': False, 'previewable': True, 'sampleable': True, 'downloadable': True, 'displayable': True, 'purchasable_at': 1633590000, 'streamable_at': 1633590000, 'hires': True, 'hires_streamable': False, 'description': []}, {'maximum_bit_depth': 24, 'copyright': '2015 Armada Music B.V. 2015 Armada Music B.V.', 'performers': 'Copyright Control, MusicPublisher - Kaelyn Behr, Composer, FeaturedArtist - Sick Individuals, MainArtist - Rinze Hofstee, Composer - Joep Smeele, Composer - Sick Individuals Publishing, MusicPublisher', 'audio_info': {'replaygain_track_peak': 1, 'replaygain_track_gain': -12.1}, 'performer': {'name': 'Sick Individuals', 'id': 764370}, 'article_ids': {'LLS': 133277913, 'SMR': 133277914, 'SM2': 351615793}, 'album': {'image': {'small': 'https://static.qobuz.com/images/covers/fb/2h/i4dzzrtu72hfb_230.jpg', 'thumbnail': 'https://static.qobuz.com/images/covers/fb/2h/i4dzzrtu72hfb_50.jpg', 'large': 'https://static.qobuz.com/images/covers/fb/2h/i4dzzrtu72hfb_600.jpg'}, 'maximum_bit_depth': 24, 'media_count': 1, 'artist': {'image': None, 'name': 'Sick Individuals', 'id': 764370, 'albums_count': 190, 'slug': 'sick-individuals', 'picture': None}, 'upc': '8718522058936', 'released_at': 1429480800, 'label': {'name': 'Armada Music', 'id': 248166, 'albums_count': 4327, 'supplier_id': 41, 'slug': 'armada-music'}, 'title': 'Never Fade', 'qobuz_id': 53281607, 'version': None, 'duration': 534, 'parental_warning': False, 'tracks_count': 2, 'popularity': 0, 'genre': {'path': [64, 68], 'color': '#0070ef', 'name': 'House', 'id': 68, 'slug': 'house'}, 'maximum_channel_count': 2, 'id': 'i4dzzrtu72hfb', 'maximum_sampling_rate': 44.1, 'previewable': True, 'sampleable': True, 'displayable': True, 'streamable': False, 'streamable_at': 1685948400, 'downloadable': False, 'purchasable_at': None, 'purchasable': False, 'release_date_original': '2015-04-20', 'release_date_download': '2015-04-20', 'release_date_stream': '2015-04-20', 'hires': True, 'hires_streamable': False}, 'work': None, 'composer': {'name': 'Joep Smeele', 'id': 806061}, 'isrc': 'NLF711501529', 'title': 'Never Fade', 'version': None, 'duration': 184, 'parental_warning': False, 'track_number': 1, 'maximum_channel_count': 2, 'id': 53281608, 'media_number': 1, 'maximum_sampling_rate': 44.1, 'articles': [{'id': 133277913, 'url': '/order/133277913', 'price': 1.29, 'currency': 'USD', 'type': 'lls', 'label': 'CD-quality', 'description': 'Lossless 16 bit/44.1 kHz (FLAC, ALAC, WMA, AIFF, WAV)'}, {'id': 133277914, 'url': '/order/133277914', 'price': 1.99, 'currency': 'USD', 'type': 'smr', 'label': 'Hi-Res', 'description': 'Up to 24 bit/96 kHz (FLAC, ALAC, WMA, AIFF, WAV)'}], 'release_date_original': None, 'release_date_download': None, 'release_date_stream': None, 'purchasable': True, 'streamable': False, 'previewable': True, 'sampleable': True, 'downloadable': True, 'displayable': True, 'purchasable_at': 1685948400, 'streamable_at': 1685948400, 'hires': True, 'hires_streamable': False, 'description': []}, {'maximum_bit_depth': 24, 'copyright': \"© 2022 Spinnin' Records Under exclusive license to Warner Music Group Germany Holding GmbH, ℗ 2022 Sick Individuals Entertainment BV\", 'performers': 'Sick Individuals, Producer, MainArtist - Rinze Hofstee, Composer - Joep Smeele, Composer - Cameron Warren, Lyricist - Jim Bergsted, Lyricist - Helge Reinsnes Moen, Lyricist', 'audio_info': {'replaygain_track_peak': 0.986053, 'replaygain_track_gain': -10.79}, 'performer': {'name': 'Sick Individuals', 'id': 764370}, 'article_ids': {'LLS': 747779274, 'SMR': 747779275, 'SM2': 747779276}, 'album': {'image': {'small': 'https://static.qobuz.com/images/covers/sa/ct/aqhmhl6skctsa_230.jpg', 'thumbnail': 'https://static.qobuz.com/images/covers/sa/ct/aqhmhl6skctsa_50.jpg', 'large': 'https://static.qobuz.com/images/covers/sa/ct/aqhmhl6skctsa_600.jpg'}, 'maximum_bit_depth': 24, 'media_count': 1, 'artist': {'image': None, 'name': 'Sick Individuals', 'id': 764370, 'albums_count': 189, 'slug': 'sick-individuals', 'picture': None}, 'upc': '5054197457906', 'released_at': 1669330800, 'label': {'name': \"Spinnin' Records\", 'id': 190680, 'albums_count': 4810, 'supplier_id': 5, 'slug': 'spinnin-records-4'}, 'title': 'Better with You', 'qobuz_id': 186452713, 'version': None, 'duration': 154, 'parental_warning': False, 'tracks_count': 1, 'popularity': 0, 'genre': {'path': [64, 129], 'color': '#0070ef', 'name': 'Dance', 'id': 129, 'slug': 'dance'}, 'maximum_channel_count': 2, 'id': 'aqhmhl6skctsa', 'maximum_sampling_rate': 44.1, 'previewable': True, 'sampleable': True, 'displayable': True, 'streamable': False, 'streamable_at': 1685170800, 'downloadable': False, 'purchasable_at': None, 'purchasable': False, 'release_date_original': '2022-11-25', 'release_date_download': '2022-11-25', 'release_date_stream': '2022-11-25', 'hires': True, 'hires_streamable': False}, 'work': None, 'composer': {'name': 'Joep Smeele', 'id': 806061}, 'isrc': 'DEA622201605', 'title': 'Better with You', 'version': None, 'duration': 154, 'parental_warning': False, 'track_number': 1, 'maximum_channel_count': 2, 'id': 186452714, 'media_number': 1, 'maximum_sampling_rate': 44.1, 'articles': [{'id': 747779274, 'url': '/order/747779274', 'price': 1.69, 'currency': 'USD', 'type': 'lls', 'label': 'CD-quality', 'description': 'Lossless 16 bit/44.1 kHz (FLAC, ALAC, WMA, AIFF, WAV)'}, {'id': 747779275, 'url': '/order/747779275', 'price': 1.99, 'currency': 'USD', 'type': 'smr', 'label': 'Hi-Res', 'description': 'Up to 24 bit/96 kHz (FLAC, ALAC, WMA, AIFF, WAV)'}], 'release_date_original': None, 'release_date_download': None, 'release_date_stream': None, 'purchasable': True, 'streamable': False, 'previewable': True, 'sampleable': True, 'downloadable': True, 'displayable': True, 'purchasable_at': 1685257200, 'streamable_at': 1685170800, 'hires': True, 'hires_streamable': False, 'description': []}, {'maximum_bit_depth': 16, 'copyright': \"© 2018 MAXXIMIZE / under exclusive license to Spinnin' Records BV ℗ 2018 MAXXIMIZE / under exclusive license to Spinnin' Records BV\", 'performers': 'Sick Individuals, Producer, Masterer, Programmer, MainArtist', 'audio_info': {'replaygain_track_peak': 1, 'replaygain_track_gain': -11.81}, 'performer': {'name': 'Sick Individuals', 'id': 764370}, 'article_ids': {'LLS': 120921629, 'SMR': 120921630, 'SM2': 347267833}, 'album': {'image': {'small': 'https://static.qobuz.com/images/covers/db/iz/uepnhugwhizdb_230.jpg', 'thumbnail': 'https://static.qobuz.com/images/covers/db/iz/uepnhugwhizdb_50.jpg', 'large': 'https://static.qobuz.com/images/covers/db/iz/uepnhugwhizdb_600.jpg'}, 'maximum_bit_depth': 16, 'media_count': 1, 'artist': {'image': None, 'name': 'Sick Individuals', 'id': 764370, 'albums_count': 189, 'slug': 'sick-individuals', 'picture': None}, 'upc': '0190295629557', 'released_at': 1527199200, 'label': {'name': 'MAXXIMIZE', 'id': 196741, 'albums_count': 388, 'supplier_id': 5, 'slug': 'maxximize'}, 'title': 'The Key', 'qobuz_id': 49125543, 'version': None, 'duration': 201, 'parental_warning': False, 'tracks_count': 1, 'popularity': 0, 'genre': {'path': [64, 129], 'color': '#0070ef', 'name': 'Dance', 'id': 129, 'slug': 'dance'}, 'maximum_channel_count': 2, 'id': 'uepnhugwhizdb', 'maximum_sampling_rate': 44.1, 'previewable': True, 'sampleable': True, 'displayable': True, 'streamable': False, 'streamable_at': 1685170800, 'downloadable': False, 'purchasable_at': None, 'purchasable': False, 'release_date_original': '2018-05-25', 'release_date_download': '2018-05-25', 'release_date_stream': '2018-05-25', 'hires': False, 'hires_streamable': False}, 'work': None, 'isrc': 'NLZ541800551', 'title': 'The Key', 'version': None, 'duration': 201, 'parental_warning': False, 'track_number': 1, 'maximum_channel_count': 2, 'id': 49125544, 'media_number': 1, 'maximum_sampling_rate': 44.1, 'articles': [], 'release_date_original': None, 'release_date_download': None, 'release_date_stream': None, 'purchasable': False, 'streamable': False, 'previewable': True, 'sampleable': True, 'downloadable': False, 'displayable': True, 'purchasable_at': None, 'streamable_at': 1685170800, 'hires': False, 'hires_streamable': False, 'description': []}, {'maximum_bit_depth': 24, 'copyright': '2014 Armada Music B.V. 2014 Armada Music B.V.', 'performers': 'Sick Individuals, MainArtist - R. Hofstee, Composer - Sick Individuals Publishing, MusicPublisher - J. L. Smeele, Composer', 'audio_info': {'replaygain_track_peak': 0.999908, 'replaygain_track_gain': -10.48}, 'performer': {'name': 'Sick Individuals', 'id': 764370}, 'article_ids': {'LLS': 133278000, 'SMR': 133278001, 'SM2': 351615827}, 'album': {'image': {'small': 'https://static.qobuz.com/images/covers/7b/d1/tmx9791axd17b_230.jpg', 'thumbnail': 'https://static.qobuz.com/images/covers/7b/d1/tmx9791axd17b_50.jpg', 'large': 'https://static.qobuz.com/images/covers/7b/d1/tmx9791axd17b_600.jpg'}, 'maximum_bit_depth': 24, 'media_count': 1, 'artist': {'image': None, 'name': 'Sick Individuals', 'id': 764370, 'albums_count': 190, 'slug': 'sick-individuals', 'picture': None}, 'upc': '8718522044557', 'released_at': 1405288800, 'label': {'name': 'Armada Music', 'id': 248166, 'albums_count': 4327, 'supplier_id': 41, 'slug': 'armada-music'}, 'title': 'Wasting Moonlight', 'qobuz_id': 53281632, 'version': None, 'duration': 204, 'parental_warning': False, 'tracks_count': 1, 'popularity': 0, 'genre': {'path': [64, 68], 'color': '#0070ef', 'name': 'House', 'id': 68, 'slug': 'house'}, 'maximum_channel_count': 2, 'id': 'tmx9791axd17b', 'maximum_sampling_rate': 44.1, 'previewable': True, 'sampleable': True, 'displayable': True, 'streamable': False, 'streamable_at': 1685948400, 'downloadable': False, 'purchasable_at': None, 'purchasable': False, 'release_date_original': '2014-07-14', 'release_date_download': '2014-07-14', 'release_date_stream': '2014-07-14', 'hires': True, 'hires_streamable': False}, 'work': None, 'composer': {'name': 'J. L. Smeele', 'id': 1835352}, 'isrc': 'NLF711403033', 'title': 'Wasting Moonlight', 'version': None, 'duration': 204, 'parental_warning': False, 'track_number': 1, 'maximum_channel_count': 2, 'id': 53281633, 'media_number': 1, 'maximum_sampling_rate': 44.1, 'articles': [{'id': 133278000, 'url': '/order/133278000', 'price': 1.29, 'currency': 'USD', 'type': 'lls', 'label': 'CD-quality', 'description': 'Lossless 16 bit/44.1 kHz (FLAC, ALAC, WMA, AIFF, WAV)'}, {'id': 133278001, 'url': '/order/133278001', 'price': 1.99, 'currency': 'USD', 'type': 'smr', 'label': 'Hi-Res', 'description': 'Up to 24 bit/96 kHz (FLAC, ALAC, WMA, AIFF, WAV)'}], 'release_date_original': None, 'release_date_download': None, 'release_date_stream': None, 'purchasable': True, 'streamable': False, 'previewable': True, 'sampleable': True, 'downloadable': True, 'displayable': True, 'purchasable_at': 1685948400, 'streamable_at': 1685948400, 'hires': True, 'hires_streamable': False, 'description': []}, {'maximum_bit_depth': 24, 'copyright': '2021 Revealed Music B.V. 2021 Revealed Music B.V.', 'performers': 'Ekko, Lyricist, MainArtist - Sick Individuals, Producer, MainArtist - Rinze Hofstee, Composer - Joep Smeele, Composer - Warner Chappell Publishing, MusicPublisher - Sick Individuals Publishing, MusicPublisher - Songtrust, MusicPublisher - Rebekka Danielsson, Lyricist - Louis Cillian Ryan, ComposerLyricist', 'audio_info': {'replaygain_track_peak': 0.991974, 'replaygain_track_gain': -11.88}, 'performer': {'name': 'Sick Individuals', 'id': 764370}, 'article_ids': {'LLS': 458376268, 'SMR': 458376269, 'SM2': 458376270}, 'album': {'image': {'small': 'https://static.qobuz.com/images/covers/ma/nr/aczowafm3nrma_230.jpg', 'thumbnail': 'https://static.qobuz.com/images/covers/ma/nr/aczowafm3nrma_50.jpg', 'large': 'https://static.qobuz.com/images/covers/ma/nr/aczowafm3nrma_600.jpg'}, 'maximum_bit_depth': 24, 'media_count': 1, 'artist': {'image': None, 'name': 'Sick Individuals', 'id': 764370, 'albums_count': 173, 'slug': 'sick-individuals', 'picture': None}, 'upc': '7434007934984', 'released_at': 1618524000, 'label': {'name': 'Revealed Recordings', 'id': 157491, 'albums_count': 854, 'supplier_id': 41, 'slug': 'revealed-recordings-1'}, 'title': 'Flame', 'qobuz_id': 119900432, 'version': None, 'duration': 462, 'parental_warning': False, 'tracks_count': 2, 'popularity': 0, 'genre': {'path': [64, 129], 'color': '#0070ef', 'name': 'Dance', 'id': 129, 'slug': 'dance'}, 'maximum_channel_count': 2, 'id': 'aczowafm3nrma', 'maximum_sampling_rate': 44.1, 'previewable': True, 'sampleable': True, 'displayable': True, 'streamable': False, 'streamable_at': 1656572400, 'downloadable': False, 'purchasable_at': None, 'purchasable': False, 'release_date_original': '2021-04-16', 'release_date_download': '2021-04-16', 'release_date_stream': '2021-04-16', 'hires': True, 'hires_streamable': False}, 'work': None, 'composer': {'name': 'Joep Smeele', 'id': 806061}, 'isrc': 'NLQ8D2100649', 'title': 'Flame', 'version': None, 'duration': 171, 'parental_warning': False, 'track_number': 1, 'maximum_channel_count': 2, 'id': 119900433, 'media_number': 1, 'maximum_sampling_rate': 44.1, 'articles': [{'id': 458376268, 'url': '/order/458376268', 'price': 1.29, 'currency': 'USD', 'type': 'lls', 'label': 'CD-quality', 'description': 'Lossless 16 bit/44.1 kHz (FLAC, ALAC, WMA, AIFF, WAV)'}, {'id': 458376269, 'url': '/order/458376269', 'price': 1.99, 'currency': 'USD', 'type': 'smr', 'label': 'Hi-Res', 'description': 'Up to 24 bit/96 kHz (FLAC, ALAC, WMA, AIFF, WAV)'}], 'release_date_original': None, 'release_date_download': None, 'release_date_stream': None, 'purchasable': True, 'streamable': False, 'previewable': True, 'sampleable': True, 'downloadable': True, 'displayable': True, 'purchasable_at': 1656572400, 'streamable_at': 1656572400, 'hires': True, 'hires_streamable': False, 'description': []}, {'maximum_bit_depth': 24, 'copyright': '2020 Revealed Music B.V. 2020 Revealed Music B.V.', 'performers': 'Copyright Control, MusicPublisher - Sick Individuals, MainArtist - Rinze Hofstee, Composer, Producer - Joep Smeele, Composer, Producer - Strengholt Music Publishing, MusicPublisher - Vigel, MainArtist - Sick Individuals Publishing, MusicPublisher - Antoni Polimeni, Producer, ComposerLyricist - Richy Sebastian, Producer, ComposerLyricist - Nazzereene Taleb, Producer, ComposerLyricist - TurnItUp Muzik Publishing, MusicPublisher - Nazzereene, MainArtist - Perepelitsyn Vasilii, Producer, ComposerLyricist', 'audio_info': {'replaygain_track_peak': 0.998871, 'replaygain_track_gain': -12.8}, 'performer': {'name': 'Sick Individuals', 'id': 764370}, 'article_ids': {'LLS': 286784907, 'SMR': 286784908, 'SM2': 406409912}, 'album': {'image': {'small': 'https://static.qobuz.com/images/covers/7a/b3/kk3ip7m5qb37a_230.jpg', 'thumbnail': 'https://static.qobuz.com/images/covers/7a/b3/kk3ip7m5qb37a_50.jpg', 'large': 'https://static.qobuz.com/images/covers/7a/b3/kk3ip7m5qb37a_600.jpg'}, 'maximum_bit_depth': 24, 'media_count': 1, 'artist': {'image': None, 'name': 'Sick Individuals', 'id': 764370, 'albums_count': 173, 'slug': 'sick-individuals', 'picture': None}, 'upc': '7434007884876', 'released_at': 1602799200, 'label': {'name': 'Revealed Recordings', 'id': 157491, 'albums_count': 854, 'supplier_id': 41, 'slug': 'revealed-recordings-1'}, 'title': 'Runaway', 'qobuz_id': 103400465, 'version': None, 'duration': 393, 'parental_warning': False, 'tracks_count': 2, 'popularity': 0, 'genre': {'path': [64, 129], 'color': '#0070ef', 'name': 'Dance', 'id': 129, 'slug': 'dance'}, 'maximum_channel_count': 2, 'id': 'kk3ip7m5qb37a', 'maximum_sampling_rate': 44.1, 'previewable': True, 'sampleable': True, 'displayable': True, 'streamable': False, 'streamable_at': 1656572400, 'downloadable': False, 'purchasable_at': None, 'purchasable': False, 'release_date_original': '2020-10-16', 'release_date_download': '2020-10-16', 'release_date_stream': '2020-10-16', 'hires': True, 'hires_streamable': False}, 'work': None, 'composer': {'name': 'Joep Smeele', 'id': 806061}, 'isrc': 'NLQ8D2000642', 'title': 'Runaway', 'version': None, 'duration': 165, 'parental_warning': False, 'track_number': 1, 'maximum_channel_count': 2, 'id': 103400466, 'media_number': 1, 'maximum_sampling_rate': 44.1, 'articles': [{'id': 286784907, 'url': '/order/286784907', 'price': 1.29, 'currency': 'USD', 'type': 'lls', 'label': 'CD-quality', 'description': 'Lossless 16 bit/44.1 kHz (FLAC, ALAC, WMA, AIFF, WAV)'}, {'id': 286784908, 'url': '/order/286784908', 'price': 1.99, 'currency': 'USD', 'type': 'smr', 'label': 'Hi-Res', 'description': 'Up to 24 bit/96 kHz (FLAC, ALAC, WMA, AIFF, WAV)'}], 'release_date_original': None, 'release_date_download': None, 'release_date_stream': None, 'purchasable': True, 'streamable': False, 'previewable': True, 'sampleable': True, 'downloadable': True, 'displayable': True, 'purchasable_at': 1656572400, 'streamable_at': 1656572400, 'hires': True, 'hires_streamable': False, 'description': []}, {'maximum_bit_depth': 16, 'copyright': '© 2014 Doorn / SpinninRecords.com ℗ 2014 SpinninRecords.com', 'performers': 'Sick Individuals, MainArtist - Rinze Hofstee, Writer - Joep Smeele, Writer - R. Hofstee, Producer - J. Smeele, Producer - Ariyan, MainArtist - Ariyan Kharaghani, Writer', 'audio_info': {'replaygain_track_peak': 1, 'replaygain_track_gain': -11.14}, 'performer': {'name': 'Sick Individuals', 'id': 764370}, 'article_ids': {'LLS': 116966112, 'SMR': 116966113, 'SM2': 345861006}, 'album': {'image': {'small': 'https://static.qobuz.com/images/covers/da/ns/rvgh4fjs4nsda_230.jpg', 'thumbnail': 'https://static.qobuz.com/images/covers/da/ns/rvgh4fjs4nsda_50.jpg', 'large': 'https://static.qobuz.com/images/covers/da/ns/rvgh4fjs4nsda_600.jpg'}, 'maximum_bit_depth': 16, 'media_count': 1, 'artist': {'image': None, 'name': 'Sick Individuals', 'id': 764370, 'albums_count': 189, 'slug': 'sick-individuals', 'picture': None}, 'upc': '8712944465020', 'released_at': 1417388400, 'label': {'name': 'Doorn Records', 'id': 203063, 'albums_count': 737, 'supplier_id': 5, 'slug': 'doornrecords'}, 'title': 'Olympia', 'qobuz_id': 47790860, 'version': None, 'duration': 310, 'parental_warning': False, 'tracks_count': 1, 'popularity': 0, 'genre': {'path': [64, 68], 'color': '#0070ef', 'name': 'House', 'id': 68, 'slug': 'house'}, 'maximum_channel_count': 2, 'id': 'rvgh4fjs4nsda', 'maximum_sampling_rate': 44.1, 'previewable': True, 'sampleable': True, 'displayable': True, 'streamable': False, 'streamable_at': 1685170800, 'downloadable': False, 'purchasable_at': None, 'purchasable': False, 'release_date_original': '2014-12-01', 'release_date_download': '2014-12-01', 'release_date_stream': '2014-12-01', 'hires': False, 'hires_streamable': False}, 'work': None, 'isrc': 'NLWV71400062', 'title': 'Olympia', 'version': None, 'duration': 310, 'parental_warning': False, 'track_number': 1, 'maximum_channel_count': 2, 'id': 47790861, 'media_number': 1, 'maximum_sampling_rate': 44.1, 'articles': [{'id': 116966112, 'url': '/order/116966112', 'price': 1.69, 'currency': 'USD', 'type': 'lls', 'label': 'CD-quality', 'description': 'Lossless 16 bit/44.1 kHz (FLAC, ALAC, WMA, AIFF, WAV)'}], 'release_date_original': None, 'release_date_download': None, 'release_date_stream': None, 'purchasable': True, 'streamable': False, 'previewable': True, 'sampleable': True, 'downloadable': True, 'displayable': True, 'purchasable_at': 1685257200, 'streamable_at': 1685170800, 'hires': False, 'hires_streamable': False, 'description': []}, {'maximum_bit_depth': 16, 'copyright': 'Revealed Music B.V. Revealed Music B.V.', 'performers': 'Sick Individuals, MainArtist - Sick Individuals Publishing, MusicPublisher - Nevve, MainArtist', 'audio_info': {'replaygain_track_peak': 1, 'replaygain_track_gain': -11.1}, 'performer': {'name': 'Sick Individuals', 'id': 764370}, 'article_ids': {'LLS': 140132375, 'SMR': 140132376, 'SM2': 354035263}, 'album': {'image': {'small': 'https://static.qobuz.com/images/covers/gc/3f/srosfrc293fgc_230.jpg', 'thumbnail': 'https://static.qobuz.com/images/covers/gc/3f/srosfrc293fgc_50.jpg', 'large': 'https://static.qobuz.com/images/covers/gc/3f/srosfrc293fgc_600.jpg'}, 'maximum_bit_depth': 16, 'media_count': 1, 'artist': {'image': None, 'name': 'Sick Individuals', 'id': 764370, 'albums_count': 173, 'slug': 'sick-individuals', 'picture': None}, 'upc': '7434007691696', 'released_at': 1540504800, 'label': {'name': 'Revealed Recordings', 'id': 157491, 'albums_count': 854, 'supplier_id': 41, 'slug': 'revealed-recordings-1'}, 'title': 'Symphony', 'qobuz_id': 55572186, 'version': None, 'duration': 556, 'parental_warning': False, 'tracks_count': 2, 'popularity': 0, 'genre': {'path': [64, 129], 'color': '#0070ef', 'name': 'Dance', 'id': 129, 'slug': 'dance'}, 'maximum_channel_count': 2, 'id': 'srosfrc293fgc', 'maximum_sampling_rate': 44.1, 'previewable': True, 'sampleable': True, 'displayable': True, 'streamable': False, 'streamable_at': 1656572400, 'downloadable': False, 'purchasable_at': None, 'purchasable': False, 'release_date_original': '2018-10-26', 'release_date_download': '2018-10-26', 'release_date_stream': '2018-10-26', 'hires': False, 'hires_streamable': False}, 'work': None, 'isrc': 'NLQ8D1800183', 'title': 'Symphony', 'version': None, 'duration': 202, 'parental_warning': False, 'track_number': 2, 'maximum_channel_count': 2, 'id': 55572188, 'media_number': 1, 'maximum_sampling_rate': 44.1, 'articles': [{'id': 140132375, 'url': '/order/140132375', 'price': 1.29, 'currency': 'USD', 'type': 'lls', 'label': 'CD-quality', 'description': 'Lossless 16 bit/44.1 kHz (FLAC, ALAC, WMA, AIFF, WAV)'}], 'release_date_original': None, 'release_date_download': None, 'release_date_stream': None, 'purchasable': True, 'streamable': False, 'previewable': True, 'sampleable': True, 'downloadable': True, 'displayable': True, 'purchasable_at': 1656572400, 'streamable_at': 1656572400, 'hires': False, 'hires_streamable': False, 'description': []}, {'maximum_bit_depth': 24, 'copyright': '2019 Revealed Music B.V. 2019 Revealed Music B.V.', 'performers': 'Sick Individuals, MainArtist - Ultra Empire Music (BMI), MusicPublisher - April Bender, FeaturedArtist - Sick Individuals Publishing, MusicPublisher - April Michele Publishing (ASCAP)/ Vetiver Music (ASCAP), Administered by Kobalt Songs Music Publishing (ASCAP), MusicPublisher', 'audio_info': {'replaygain_track_peak': 0.987427, 'replaygain_track_gain': -11}, 'performer': {'name': 'Sick Individuals', 'id': 764370}, 'article_ids': {'LLS': 159430363, 'SMR': 159430364, 'SM2': 360901628}, 'album': {'image': {'small': 'https://static.qobuz.com/images/covers/ua/vi/xb5by18rtviua_230.jpg', 'thumbnail': 'https://static.qobuz.com/images/covers/ua/vi/xb5by18rtviua_50.jpg', 'large': 'https://static.qobuz.com/images/covers/ua/vi/xb5by18rtviua_600.jpg'}, 'maximum_bit_depth': 24, 'media_count': 1, 'artist': {'image': None, 'name': 'Sick Individuals', 'id': 764370, 'albums_count': 173, 'slug': 'sick-individuals', 'picture': None}, 'upc': '7434007734737', 'released_at': 1558648800, 'label': {'name': 'Revealed Recordings', 'id': 157491, 'albums_count': 854, 'supplier_id': 41, 'slug': 'revealed-recordings-1'}, 'title': 'Humans (Let Me Love You)', 'qobuz_id': 62035233, 'version': None, 'duration': 414, 'parental_warning': False, 'tracks_count': 2, 'popularity': 0, 'genre': {'path': [64, 129], 'color': '#0070ef', 'name': 'Dance', 'id': 129, 'slug': 'dance'}, 'maximum_channel_count': 2, 'id': 'xb5by18rtviua', 'maximum_sampling_rate': 44.1, 'previewable': True, 'sampleable': True, 'displayable': True, 'streamable': False, 'streamable_at': 1656572400, 'downloadable': False, 'purchasable_at': None, 'purchasable': False, 'release_date_original': '2019-05-24', 'release_date_download': '2019-05-24', 'release_date_stream': '2019-05-24', 'hires': True, 'hires_streamable': False}, 'work': None, 'isrc': 'NLQ8D1900267', 'title': 'Humans (Let Me Love You)', 'version': 'Extended Mix', 'duration': 253, 'parental_warning': False, 'track_number': 1, 'maximum_channel_count': 2, 'id': 62035234, 'media_number': 1, 'maximum_sampling_rate': 44.1, 'articles': [{'id': 159430363, 'url': '/order/159430363', 'price': 1.29, 'currency': 'USD', 'type': 'lls', 'label': 'CD-quality', 'description': 'Lossless 16 bit/44.1 kHz (FLAC, ALAC, WMA, AIFF, WAV)'}, {'id': 159430364, 'url': '/order/159430364', 'price': 1.99, 'currency': 'USD', 'type': 'smr', 'label': 'Hi-Res', 'description': 'Up to 24 bit/96 kHz (FLAC, ALAC, WMA, AIFF, WAV)'}], 'release_date_original': None, 'release_date_download': None, 'release_date_stream': None, 'purchasable': True, 'streamable': False, 'previewable': True, 'sampleable': True, 'downloadable': True, 'displayable': True, 'purchasable_at': 1656572400, 'streamable_at': 1656572400, 'hires': True, 'hires_streamable': False, 'description': []}, {'maximum_bit_depth': 24, 'copyright': '(C) 2021 NEWMADE (P) 2021 NEWMADE', 'performers': 'Tommy Lee James, Composer - Jason Walker, Composer, FeaturedArtist - Sick Individuals, Producer, MainArtist - Rinze Hofstee, Composer - Joep Smeele, Composer - Sick Individuals Publishing, MusicPublisher - Jason Walker Publishing BMI., MusicPublisher - Songs of TLJ / Orbison Music LLC (BMI), MusicPublisher', 'audio_info': {'replaygain_track_peak': 0.987579, 'replaygain_track_gain': -11.91}, 'performer': {'name': 'Sick Individuals', 'id': 764370}, 'article_ids': {'LLS': 567394294, 'SMR': 567394295, 'SM2': 567394296}, 'album': {'image': {'small': 'https://static.qobuz.com/images/covers/cb/9x/okp7csoc59xcb_230.jpg', 'thumbnail': 'https://static.qobuz.com/images/covers/cb/9x/okp7csoc59xcb_50.jpg', 'large': 'https://static.qobuz.com/images/covers/cb/9x/okp7csoc59xcb_600.jpg'}, 'maximum_bit_depth': 24, 'media_count': 1, 'artist': {'image': None, 'name': 'Sick Individuals', 'id': 764370, 'albums_count': 165, 'slug': 'sick-individuals', 'picture': None}, 'upc': '0886449779512', 'released_at': 1639090800, 'label': {'name': 'NEWMADE Music', 'id': 2178408, 'albums_count': 1, 'supplier_id': 17, 'slug': 'newmade-music'}, 'title': 'All These Things (feat. Jason Walker)', 'qobuz_id': 145271872, 'version': None, 'duration': 196, 'parental_warning': False, 'tracks_count': 1, 'popularity': 0, 'genre': {'path': [64], 'color': '#0070ef', 'name': 'Electronic', 'id': 64, 'slug': 'electro'}, 'maximum_channel_count': 2, 'id': 'okp7csoc59xcb', 'maximum_sampling_rate': 44.1, 'previewable': True, 'sampleable': True, 'displayable': True, 'streamable': False, 'streamable_at': 1643097600, 'downloadable': False, 'purchasable_at': None, 'purchasable': False, 'release_date_original': '2021-12-10', 'release_date_download': '2021-12-10', 'release_date_stream': '2021-12-10', 'hires': True, 'hires_streamable': False}, 'work': None, 'composer': {'name': 'Jason Walker', 'id': 262500}, 'isrc': 'DK4YA2113101', 'title': 'All These Things (feat. Jason Walker)', 'version': None, 'duration': 196, 'parental_warning': False, 'track_number': 1, 'maximum_channel_count': 2, 'id': 145271873, 'media_number': 1, 'maximum_sampling_rate': 44.1, 'articles': [{'id': 567394294, 'url': '/order/567394294', 'price': 1.49, 'currency': 'USD', 'type': 'lls', 'label': 'CD-quality', 'description': 'Lossless 16 bit/44.1 kHz (FLAC, ALAC, WMA, AIFF, WAV)'}, {'id': 567394295, 'url': '/order/567394295', 'price': 1.99, 'currency': 'USD', 'type': 'smr', 'label': 'Hi-Res', 'description': 'Up to 24 bit/96 kHz (FLAC, ALAC, WMA, AIFF, WAV)'}], 'release_date_original': None, 'release_date_download': None, 'release_date_stream': None, 'purchasable': True, 'streamable': False, 'previewable': True, 'sampleable': True, 'downloadable': True, 'displayable': True, 'purchasable_at': 1643097600, 'streamable_at': 1643097600, 'hires': True, 'hires_streamable': False, 'description': []}, {'maximum_bit_depth': 24, 'copyright': '2019 Revealed Music B.V. 2019 Revealed Music B.V.', 'performers': 'Sick Individuals, MainArtist - Justin Prime, MainArtist - Strengholt Music Publishing, MusicPublisher - Sick Individuals Publishing, MusicPublisher - TPM Publishing B.V., MusicPublisher - Bymia, FeaturedArtist', 'audio_info': {'replaygain_track_peak': 1, 'replaygain_track_gain': -11.9}, 'performer': {'name': 'Sick Individuals', 'id': 764370}, 'article_ids': {'LLS': 162851286, 'SMR': 162851287, 'SM2': 362115768}, 'album': {'image': {'small': 'https://static.qobuz.com/images/covers/bc/zi/dicddq655zibc_230.jpg', 'thumbnail': 'https://static.qobuz.com/images/covers/bc/zi/dicddq655zibc_50.jpg', 'large': 'https://static.qobuz.com/images/covers/bc/zi/dicddq655zibc_600.jpg'}, 'maximum_bit_depth': 24, 'media_count': 1, 'artist': {'image': None, 'name': 'Sick Individuals', 'id': 764370, 'albums_count': 173, 'slug': 'sick-individuals', 'picture': None}, 'upc': '7434007740738', 'released_at': 1562277600, 'label': {'name': 'Revealed Recordings', 'id': 157491, 'albums_count': 854, 'supplier_id': 41, 'slug': 'revealed-recordings-1'}, 'title': 'Not Alone', 'qobuz_id': 63181374, 'version': None, 'duration': 408, 'parental_warning': False, 'tracks_count': 2, 'popularity': 0, 'genre': {'path': [64, 129], 'color': '#0070ef', 'name': 'Dance', 'id': 129, 'slug': 'dance'}, 'maximum_channel_count': 2, 'id': 'dicddq655zibc', 'maximum_sampling_rate': 44.1, 'previewable': True, 'sampleable': True, 'displayable': True, 'streamable': False, 'streamable_at': 1656572400, 'downloadable': False, 'purchasable_at': None, 'purchasable': False, 'release_date_original': '2019-07-05', 'release_date_download': '2019-07-05', 'release_date_stream': '2019-07-05', 'hires': True, 'hires_streamable': False}, 'work': None, 'isrc': 'NLQ8D1900308', 'title': 'Not Alone', 'version': None, 'duration': 165, 'parental_warning': False, 'track_number': 1, 'maximum_channel_count': 2, 'id': 63181375, 'media_number': 1, 'maximum_sampling_rate': 44.1, 'articles': [{'id': 162851286, 'url': '/order/162851286', 'price': 1.29, 'currency': 'USD', 'type': 'lls', 'label': 'CD-quality', 'description': 'Lossless 16 bit/44.1 kHz (FLAC, ALAC, WMA, AIFF, WAV)'}, {'id': 162851287, 'url': '/order/162851287', 'price': 1.99, 'currency': 'USD', 'type': 'smr', 'label': 'Hi-Res', 'description': 'Up to 24 bit/96 kHz (FLAC, ALAC, WMA, AIFF, WAV)'}], 'release_date_original': None, 'release_date_download': None, 'release_date_stream': None, 'purchasable': True, 'streamable': False, 'previewable': True, 'sampleable': True, 'downloadable': True, 'displayable': True, 'purchasable_at': 1656572400, 'streamable_at': 1656572400, 'hires': True, 'hires_streamable': False, 'description': []}, {'maximum_bit_depth': 24, 'copyright': '(C) 2022 Boy From The Beach / One Seven Music (P) 2022 Boy From The Beach / One Seven Music', 'performers': 'Tommy Lee James, Composer - Stuart Crichton, Composer - Sick Individuals, MainArtist - Rinze Hofstee, Composer, Producer - Joep Smeele, Composer, Producer - Stuart Chrichton, Producer - Emily Falvey, Composer - Songs Of Smack Blue (BMI) / Smack Blue LLC, MusicPublisher - Published by Native Tongue Music Publishing (APRA), MusicPublisher - Still Working For The Man Music / Orbison Music LLC (BMI), MusicPublisher', 'audio_info': {'replaygain_track_peak': 0.986053, 'replaygain_track_gain': -11.14}, 'performer': {'name': 'Sick Individuals', 'id': 764370}, 'article_ids': {'LLS': 545861473, 'SMR': 545861474, 'SM2': 545861475}, 'album': {'image': {'small': 'https://static.qobuz.com/images/covers/wc/e3/rg050mxdre3wc_230.jpg', 'thumbnail': 'https://static.qobuz.com/images/covers/wc/e3/rg050mxdre3wc_50.jpg', 'large': 'https://static.qobuz.com/images/covers/wc/e3/rg050mxdre3wc_600.jpg'}, 'maximum_bit_depth': 24, 'media_count': 1, 'artist': {'image': None, 'name': 'Sick Individuals', 'id': 764370, 'albums_count': 165, 'slug': 'sick-individuals', 'picture': None}, 'upc': '0886449777747', 'released_at': 1641510000, 'label': {'name': 'One Seven Music', 'id': 252825, 'albums_count': 716, 'supplier_id': 17, 'slug': 'one-seven-music'}, 'title': 'More Than I Want To', 'qobuz_id': 140354404, 'version': None, 'duration': 167, 'parental_warning': False, 'tracks_count': 1, 'popularity': 0, 'genre': {'path': [64], 'color': '#0070ef', 'name': 'Electronic', 'id': 64, 'slug': 'electro'}, 'maximum_channel_count': 2, 'id': 'rg050mxdre3wc', 'maximum_sampling_rate': 44.1, 'previewable': True, 'sampleable': True, 'displayable': True, 'streamable': False, 'streamable_at': 1643097600, 'downloadable': False, 'purchasable_at': None, 'purchasable': False, 'release_date_original': '2022-01-07', 'release_date_download': '2022-01-07', 'release_date_stream': '2022-01-07', 'hires': True, 'hires_streamable': False}, 'work': None, 'composer': {'name': 'Rinze Hofstee', 'id': 806060}, 'isrc': 'DK4YA2272901', 'title': 'More Than I Want To', 'version': None, 'duration': 167, 'parental_warning': False, 'track_number': 1, 'maximum_channel_count': 2, 'id': 140354405, 'media_number': 1, 'maximum_sampling_rate': 44.1, 'articles': [{'id': 545861473, 'url': '/order/545861473', 'price': 1.49, 'currency': 'USD', 'type': 'lls', 'label': 'CD-quality', 'description': 'Lossless 16 bit/44.1 kHz (FLAC, ALAC, WMA, AIFF, WAV)'}, {'id': 545861474, 'url': '/order/545861474', 'price': 1.99, 'currency': 'USD', 'type': 'smr', 'label': 'Hi-Res', 'description': 'Up to 24 bit/96 kHz (FLAC, ALAC, WMA, AIFF, WAV)'}], 'release_date_original': None, 'release_date_download': None, 'release_date_stream': None, 'purchasable': True, 'streamable': False, 'previewable': True, 'sampleable': True, 'downloadable': True, 'displayable': True, 'purchasable_at': 1643097600, 'streamable_at': 1643097600, 'hires': True, 'hires_streamable': False, 'description': []}, {'maximum_bit_depth': 16, 'copyright': '2017 Revealed Music B.V. 2017', 'performers': 'Sick Individuals, Primary', 'audio_info': {'replaygain_track_peak': 1, 'replaygain_track_gain': -11.58}, 'performer': {'name': 'Sick Individuals', 'id': 764370}, 'article_ids': {'LLS': 101249125, 'SMR': 101249126, 'SM2': 340244613}, 'album': {'image': {'small': 'https://static.qobuz.com/images/covers/56/46/7434007624656_230.jpg', 'thumbnail': 'https://static.qobuz.com/images/covers/56/46/7434007624656_50.jpg', 'large': 'https://static.qobuz.com/images/covers/56/46/7434007624656_600.jpg'}, 'maximum_bit_depth': 16, 'media_count': 1, 'artist': {'image': None, 'name': 'Sick Individuals', 'id': 764370, 'albums_count': 173, 'slug': 'sick-individuals', 'picture': None}, 'upc': '7434007624656', 'released_at': 1500588000, 'label': {'name': 'Revealed Recordings', 'id': 157491, 'albums_count': 854, 'supplier_id': 41, 'slug': 'revealed-recordings-1'}, 'title': 'Never Say Never', 'qobuz_id': 42348577, 'version': None, 'duration': 567, 'parental_warning': False, 'tracks_count': 2, 'popularity': 0, 'genre': {'path': [64, 129], 'color': '#0070ef', 'name': 'Dance', 'id': 129, 'slug': 'dance'}, 'maximum_channel_count': 2, 'id': '7434007624656', 'maximum_sampling_rate': 44.1, 'previewable': True, 'sampleable': True, 'displayable': True, 'streamable': False, 'streamable_at': 1656572400, 'downloadable': False, 'purchasable_at': None, 'purchasable': False, 'release_date_original': '2017-07-21', 'release_date_download': '2017-07-21', 'release_date_stream': '2017-07-21', 'hires': False, 'hires_streamable': False}, 'work': None, 'isrc': 'NLQ8D1700207', 'title': 'Never Say Never', 'version': None, 'duration': 246, 'parental_warning': False, 'track_number': 2, 'maximum_channel_count': 2, 'id': 42348579, 'media_number': 1, 'maximum_sampling_rate': 44.1, 'articles': [{'id': 101249125, 'url': '/order/101249125', 'price': 3.99, 'currency': 'USD', 'type': 'lls', 'label': 'CD-quality', 'description': 'Lossless 16 bit/44.1 kHz (FLAC, ALAC, WMA, AIFF, WAV)'}], 'release_date_original': None, 'release_date_download': None, 'release_date_stream': None, 'purchasable': True, 'streamable': False, 'previewable': True, 'sampleable': True, 'downloadable': True, 'displayable': True, 'purchasable_at': 1656572400, 'streamable_at': 1656572400, 'hires': False, 'hires_streamable': False, 'description': []}, {'maximum_bit_depth': 16, 'copyright': '2013 Axtone Records Ltd. Axtone Records Ltd. 2016', 'performers': 'Sick Individuals, Primary\\r - Axwell, Primary', 'audio_info': {'replaygain_track_peak': 0.99057, 'replaygain_track_gain': -13.44}, 'performer': {'name': 'Sick Individuals', 'id': 764370}, 'article_ids': {'LLS': 76782164, 'SMR': 76782165, 'SM2': 331659629}, 'album': {'image': {'small': 'https://static.qobuz.com/images/covers/11/39/5060199553911_230.jpg', 'thumbnail': 'https://static.qobuz.com/images/covers/11/39/5060199553911_50.jpg', 'large': 'https://static.qobuz.com/images/covers/11/39/5060199553911_600.jpg'}, 'maximum_bit_depth': 16, 'media_count': 1, 'artist': {'image': None, 'name': 'Sick Individuals', 'id': 764370, 'albums_count': 173, 'slug': 'sick-individuals', 'picture': None}, 'upc': '5060199553911', 'released_at': 1379282400, 'label': {'name': 'Axtone Records', 'id': 139906, 'albums_count': 247, 'supplier_id': 41, 'slug': 'axtone-records'}, 'title': 'I AM', 'qobuz_id': 31873436, 'version': None, 'duration': 1773, 'parental_warning': False, 'tracks_count': 6, 'popularity': 0, 'genre': {'path': [64, 129], 'color': '#0070ef', 'name': 'Dance', 'id': 129, 'slug': 'dance'}, 'maximum_channel_count': 2, 'id': '5060199553911', 'maximum_sampling_rate': 44.1, 'previewable': True, 'sampleable': True, 'displayable': True, 'streamable': False, 'streamable_at': 1656572400, 'downloadable': False, 'purchasable_at': None, 'purchasable': False, 'release_date_original': '2013-09-16', 'release_date_download': '2013-09-16', 'release_date_stream': '2013-09-16', 'hires': False, 'hires_streamable': False}, 'work': None, 'isrc': 'GBKCF1300293', 'title': 'I AM', 'version': 'Deorro Remix', 'duration': 296, 'parental_warning': False, 'track_number': 3, 'maximum_channel_count': 2, 'id': 31873439, 'media_number': 1, 'maximum_sampling_rate': 44.1, 'articles': [], 'release_date_original': None, 'release_date_download': None, 'release_date_stream': None, 'purchasable': False, 'streamable': False, 'previewable': True, 'sampleable': True, 'downloadable': False, 'displayable': True, 'purchasable_at': None, 'streamable_at': 1656572400, 'hires': False, 'hires_streamable': False, 'description': []}, {'maximum_bit_depth': 16, 'copyright': 'Red Beat International under exclusive license Cloud 9 B.V. Red Beat International under exclusive license Cloud 9 B.V.', 'performers': 'Sick Individuals, Performer, Writer\\r - R. Hofstee; J.L.Smeele; A. Bullimore, Composer', 'audio_info': {'replaygain_track_peak': 0.997498, 'replaygain_track_gain': -10.47}, 'performer': {'name': 'Sick Individuals', 'id': 764370}, 'article_ids': {'LLS': 111956622, 'SMR': 111956623, 'SM2': 344048577}, 'album': {'image': {'small': 'https://static.qobuz.com/images/covers/82/39/8859353183982_230.jpg', 'thumbnail': 'https://static.qobuz.com/images/covers/82/39/8859353183982_50.jpg', 'large': 'https://static.qobuz.com/images/covers/82/39/8859353183982_600.jpg'}, 'maximum_bit_depth': 16, 'media_count': 1, 'artist': {'image': None, 'name': 'Sick Individuals', 'id': 764370, 'albums_count': 180, 'slug': 'sick-individuals', 'picture': None}, 'upc': '8859353183982', 'released_at': 1492984800, 'label': {'name': 'CL9', 'id': 147965, 'albums_count': 8, 'supplier_id': 3, 'slug': 'cl9'}, 'title': 'Alive ', 'qobuz_id': 46094862, 'version': 'Maddix Extended Remix', 'duration': 267, 'parental_warning': False, 'tracks_count': 1, 'popularity': 0, 'genre': {'path': [64, 68], 'color': '#0070ef', 'name': 'House', 'id': 68, 'slug': 'house'}, 'maximum_channel_count': 2, 'id': '8859353183982', 'maximum_sampling_rate': 44.1, 'previewable': True, 'sampleable': True, 'displayable': True, 'streamable': False, 'streamable_at': 1656745200, 'downloadable': False, 'purchasable_at': None, 'purchasable': False, 'release_date_original': '2017-04-24', 'release_date_download': '2017-04-24', 'release_date_stream': '2017-04-24', 'hires': False, 'hires_streamable': False}, 'work': None, 'composer': {'name': 'R. Hofstee; J.L.Smeele; A. Bullimore', 'id': 3462402}, 'isrc': 'NLS241700016', 'title': 'Alive', 'version': 'Maddix Extended Remix', 'duration': 267, 'parental_warning': False, 'track_number': 1, 'maximum_channel_count': 2, 'id': 46094863, 'media_number': 1, 'maximum_sampling_rate': 44.1, 'articles': [{'id': 111956622, 'url': '/order/111956622', 'price': 1.69, 'currency': 'USD', 'type': 'lls', 'label': 'CD-quality', 'description': 'Lossless 16 bit/44.1 kHz (FLAC, ALAC, WMA, AIFF, WAV)'}], 'release_date_original': None, 'release_date_download': None, 'release_date_stream': None, 'purchasable': True, 'streamable': False, 'previewable': True, 'sampleable': True, 'downloadable': True, 'displayable': True, 'purchasable_at': 1656745200, 'streamable_at': 1656745200, 'hires': False, 'hires_streamable': False, 'description': []}, {'maximum_bit_depth': 16, 'copyright': 'Armada Music B.V. Armada Music B.V.', 'performers': 'C. Richardson, Composer - A. Eshuijs, Composer - Sick Individuals, MainArtist - R. Hofstee, Composer - J. Smeele, Composer - Sick Individuals Publishing, MusicPublisher - Richamusikk, MusicPublisher - Metromumm Musikk, MusicPublisher', 'audio_info': {'replaygain_track_peak': 1, 'replaygain_track_gain': -12.02}, 'performer': {'name': 'Sick Individuals', 'id': 764370}, 'article_ids': {'LLS': 133270611, 'SMR': 133270612, 'SM2': 351613126}, 'album': {'image': {'small': 'https://static.qobuz.com/images/covers/qc/9v/gop6z8gu69vqc_230.jpg', 'thumbnail': 'https://static.qobuz.com/images/covers/qc/9v/gop6z8gu69vqc_50.jpg', 'large': 'https://static.qobuz.com/images/covers/qc/9v/gop6z8gu69vqc_600.jpg'}, 'maximum_bit_depth': 16, 'media_count': 1, 'artist': {'image': None, 'name': 'Sick Individuals', 'id': 764370, 'albums_count': 173, 'slug': 'sick-individuals', 'picture': None}, 'upc': '8718522100291', 'released_at': 1473372000, 'label': {'name': 'Armada Music', 'id': 248166, 'albums_count': 3894, 'supplier_id': 41, 'slug': 'armada-music'}, 'title': 'Against All Odds', 'qobuz_id': 53279256, 'version': None, 'duration': 474, 'parental_warning': False, 'tracks_count': 2, 'popularity': 0, 'genre': {'path': [64, 68], 'color': '#0070ef', 'name': 'House', 'id': 68, 'slug': 'house'}, 'maximum_channel_count': 2, 'id': 'gop6z8gu69vqc', 'maximum_sampling_rate': 44.1, 'previewable': True, 'sampleable': True, 'displayable': True, 'streamable': False, 'streamable_at': 1656572400, 'downloadable': False, 'purchasable_at': None, 'purchasable': False, 'release_date_original': '2016-09-09', 'release_date_download': '2016-09-09', 'release_date_stream': '2016-09-09', 'hires': False, 'hires_streamable': False}, 'work': None, 'composer': {'name': 'J. Smeele', 'id': 955858}, 'isrc': 'NLF711604352', 'title': 'Against All Odds', 'version': 'Extended Mix', 'duration': 284, 'parental_warning': False, 'track_number': 2, 'maximum_channel_count': 2, 'id': 53279258, 'media_number': 1, 'maximum_sampling_rate': 44.1, 'articles': [{'id': 133270611, 'url': '/order/133270611', 'price': 1.29, 'currency': 'USD', 'type': 'lls', 'label': 'CD-quality', 'description': 'Lossless 16 bit/44.1 kHz (FLAC, ALAC, WMA, AIFF, WAV)'}], 'release_date_original': None, 'release_date_download': None, 'release_date_stream': None, 'purchasable': True, 'streamable': False, 'previewable': True, 'sampleable': True, 'downloadable': True, 'displayable': True, 'purchasable_at': 1656572400, 'streamable_at': 1656572400, 'hires': False, 'hires_streamable': False, 'description': []}, {'maximum_bit_depth': 16, 'copyright': '2018 Proximity 2018 Proximity', 'performers': 'Chad Cates, ComposerLyricist - Jason Walker, FeaturedArtist, ComposerLyricist - Sick Individuals, MainArtist - Rinze Hofstee, ComposerLyricist - Joep Smeele, ComposerLyricist', 'audio_info': {'replaygain_track_peak': 0.986023, 'replaygain_track_gain': -11.44}, 'performer': {'name': 'Sick Individuals', 'id': 764370}, 'article_ids': {'LLS': 776753141, 'SMR': 776753142, 'SM2': 776753143}, 'album': {'image': {'small': 'https://static.qobuz.com/images/covers/ec/ub/ecqai8v1mubec_230.jpg', 'thumbnail': 'https://static.qobuz.com/images/covers/ec/ub/ecqai8v1mubec_50.jpg', 'large': 'https://static.qobuz.com/images/covers/ec/ub/ecqai8v1mubec_600.jpg'}, 'maximum_bit_depth': 16, 'media_count': 1, 'artist': {'image': None, 'name': 'Sick Individuals', 'id': 764370, 'albums_count': 185, 'slug': 'sick-individuals', 'picture': None}, 'upc': '0192641148323', 'released_at': 1531778400, 'label': {'name': 'Proximity', 'id': 3624861, 'albums_count': 275, 'supplier_id': 41, 'slug': 'proximity-3'}, 'title': 'Writing On The Wall (Extended Mix)', 'qobuz_id': 193081062, 'version': None, 'duration': 301, 'parental_warning': False, 'tracks_count': 1, 'popularity': 0, 'genre': {'path': [64, 129], 'color': '#0070ef', 'name': 'Dance', 'id': 129, 'slug': 'dance'}, 'maximum_channel_count': 2, 'id': 'ecqai8v1mubec', 'maximum_sampling_rate': 44.1, 'previewable': True, 'sampleable': True, 'displayable': True, 'streamable': False, 'streamable_at': 1673596800, 'downloadable': False, 'purchasable_at': None, 'purchasable': False, 'release_date_original': '2018-07-17', 'release_date_download': '2018-07-17', 'release_date_stream': '2018-07-17', 'hires': False, 'hires_streamable': False}, 'work': None, 'composer': {'name': 'Joep Smeele', 'id': 806061}, 'isrc': 'USA2P1855852', 'title': 'Writing On The Wall (Extended Mix)', 'version': None, 'duration': 301, 'parental_warning': False, 'track_number': 1, 'maximum_channel_count': 2, 'id': 193081063, 'media_number': 1, 'maximum_sampling_rate': 44.1, 'articles': [{'id': 776753141, 'url': '/order/776753141', 'price': 1.29, 'currency': 'USD', 'type': 'lls', 'label': 'CD-quality', 'description': 'Lossless 16 bit/44.1 kHz (FLAC, ALAC, WMA, AIFF, WAV)'}], 'release_date_original': None, 'release_date_download': None, 'release_date_stream': None, 'purchasable': True, 'streamable': False, 'previewable': True, 'sampleable': True, 'downloadable': True, 'displayable': True, 'purchasable_at': 1673596800, 'streamable_at': 1673596800, 'hires': False, 'hires_streamable': False, 'description': []}, {'maximum_bit_depth': 16, 'copyright': '℗ 2020 Thrive Music, LLC', 'performers': 'Sick Individuals, MainArtist - Rinze Hofstee, Producer, ComposerLyricist - Joep Smeele, Producer, ComposerLyricist - Stevie Appleton, FeaturedArtist, ComposerLyricist', 'audio_info': {'replaygain_track_peak': 0.998871, 'replaygain_track_gain': -8}, 'performer': {'name': 'Sick Individuals', 'id': 764370}, 'article_ids': {'LLS': 260493735, 'SMR': 260493736, 'SM2': 396969115}, 'album': {'image': {'small': 'https://static.qobuz.com/images/covers/pa/3h/kvq4oxk8o3hpa_230.jpg', 'thumbnail': 'https://static.qobuz.com/images/covers/pa/3h/kvq4oxk8o3hpa_50.jpg', 'large': 'https://static.qobuz.com/images/covers/pa/3h/kvq4oxk8o3hpa_600.jpg'}, 'maximum_bit_depth': 16, 'media_count': 1, 'artist': {'image': None, 'name': 'Sick Individuals', 'id': 764370, 'albums_count': 189, 'slug': 'sick-individuals', 'picture': None}, 'upc': '0842812131059', 'released_at': 1591912800, 'label': {'name': 'Thrive Music, LLC', 'id': 285656, 'albums_count': 365, 'supplier_id': 1, 'slug': 'thrive-music-llc'}, 'title': 'People I Love', 'qobuz_id': 94896716, 'version': None, 'duration': 557, 'parental_warning': False, 'tracks_count': 2, 'popularity': 0, 'genre': {'path': [64, 129], 'color': '#0070ef', 'name': 'Dance', 'id': 129, 'slug': 'dance'}, 'maximum_channel_count': 2, 'id': 'kvq4oxk8o3hpa', 'maximum_sampling_rate': 44.1, 'previewable': True, 'sampleable': True, 'displayable': True, 'streamable': False, 'streamable_at': 1683702000, 'downloadable': False, 'purchasable_at': None, 'purchasable': False, 'release_date_original': '2020-06-12', 'release_date_download': '2020-06-12', 'release_date_stream': '2020-06-12', 'hires': False, 'hires_streamable': False}, 'work': None, 'composer': {'name': 'Rinze Hofstee', 'id': 806060}, 'isrc': 'QZFPL2000048', 'title': 'People I Love', 'version': None, 'duration': 202, 'parental_warning': False, 'track_number': 1, 'maximum_channel_count': 2, 'id': 94896717, 'media_number': 1, 'maximum_sampling_rate': 44.1, 'articles': [{'id': 260493735, 'url': '/order/260493735', 'price': 1.99, 'currency': 'USD', 'type': 'lls', 'label': 'CD-quality', 'description': 'Lossless 16 bit/44.1 kHz (FLAC, ALAC, WMA, AIFF, WAV)'}], 'release_date_original': None, 'release_date_download': None, 'release_date_stream': None, 'purchasable': True, 'streamable': False, 'previewable': True, 'sampleable': True, 'downloadable': True, 'displayable': True, 'purchasable_at': 1683702000, 'streamable_at': 1683702000, 'hires': False, 'hires_streamable': False, 'description': []}, {'maximum_bit_depth': 24, 'copyright': '(C) 2021 NEWMADE (P) 2021 NEWMADE', 'performers': 'Sick Individuals, Producer, MainArtist - Rinze Hofstee, Composer - Joep Smeele, Composer - Sick Individuals Publishing, MusicPublisher - Kheela, MainArtist - RMV Publishing, MusicPublisher - Aniela Eklund, Composer - Anton Engdahl, Composer - Joel Gunnarsson, Composer', 'audio_info': {'replaygain_track_peak': 0.998871, 'replaygain_track_gain': -10.87}, 'performer': {'name': 'Sick Individuals', 'id': 764370}, 'article_ids': {'LLS': 457977234, 'SMR': 457977235, 'SM2': 457977236}, 'album': {'image': {'small': 'https://static.qobuz.com/images/covers/vb/2d/r7jm4p6uy2dvb_230.jpg', 'thumbnail': 'https://static.qobuz.com/images/covers/vb/2d/r7jm4p6uy2dvb_50.jpg', 'large': 'https://static.qobuz.com/images/covers/vb/2d/r7jm4p6uy2dvb_600.jpg'}, 'maximum_bit_depth': 24, 'media_count': 1, 'artist': {'image': None, 'name': 'Sick Individuals', 'id': 764370, 'albums_count': 168, 'slug': 'sick-individuals', 'picture': None}, 'upc': '0886449234189', 'released_at': 1620338400, 'label': {'name': 'NEWMADE', 'id': 1322758, 'albums_count': 8, 'supplier_id': 17, 'slug': 'newmade-1'}, 'title': 'Gotta Get to You', 'qobuz_id': 119808635, 'version': None, 'duration': 180, 'parental_warning': False, 'tracks_count': 1, 'popularity': 0, 'genre': {'path': [64], 'color': '#0070ef', 'name': 'Electronic', 'id': 64, 'slug': 'electro'}, 'maximum_channel_count': 2, 'id': 'r7jm4p6uy2dvb', 'maximum_sampling_rate': 44.1, 'previewable': True, 'sampleable': True, 'displayable': True, 'streamable': False, 'streamable_at': 1644566400, 'downloadable': False, 'purchasable_at': None, 'purchasable': False, 'release_date_original': '2021-05-07', 'release_date_download': '2021-05-07', 'release_date_stream': '2021-05-07', 'hires': True, 'hires_streamable': False}, 'work': None, 'composer': {'name': 'Aniela Eklund', 'id': 3754915}, 'isrc': 'DK4YA2138501', 'title': 'Gotta Get to You', 'version': None, 'duration': 180, 'parental_warning': False, 'track_number': 1, 'maximum_channel_count': 2, 'id': 119808636, 'media_number': 1, 'maximum_sampling_rate': 44.1, 'articles': [{'id': 457977234, 'url': '/order/457977234', 'price': 1.49, 'currency': 'USD', 'type': 'lls', 'label': 'CD-quality', 'description': 'Lossless 16 bit/44.1 kHz (FLAC, ALAC, WMA, AIFF, WAV)'}, {'id': 457977235, 'url': '/order/457977235', 'price': 1.99, 'currency': 'USD', 'type': 'smr', 'label': 'Hi-Res', 'description': 'Up to 24 bit/96 kHz (FLAC, ALAC, WMA, AIFF, WAV)'}], 'release_date_original': None, 'release_date_download': None, 'release_date_stream': None, 'purchasable': True, 'streamable': False, 'previewable': True, 'sampleable': True, 'downloadable': True, 'displayable': True, 'purchasable_at': 1644566400, 'streamable_at': 1644566400, 'hires': True, 'hires_streamable': False, 'description': []}, {'maximum_bit_depth': 16, 'copyright': '2019 Revealed Music B.V. 2019 Revealed Music B.V.', 'performers': 'Sick Individuals, Producer, MainArtist - Sick Individuals Publishing, MusicPublisher', 'audio_info': {'replaygain_track_peak': 1, 'replaygain_track_gain': -11.85}, 'performer': {'name': 'Sick Individuals', 'id': 764370}, 'article_ids': {'LLS': 154893295, 'SMR': 154893296, 'SM2': 359282049}, 'album': {'image': {'small': 'https://static.qobuz.com/images/covers/6b/1r/soz25lvjy1r6b_230.jpg', 'thumbnail': 'https://static.qobuz.com/images/covers/6b/1r/soz25lvjy1r6b_50.jpg', 'large': 'https://static.qobuz.com/images/covers/6b/1r/soz25lvjy1r6b_600.jpg'}, 'maximum_bit_depth': 16, 'media_count': 1, 'artist': {'image': None, 'name': 'Sick Individuals', 'id': 764370, 'albums_count': 173, 'slug': 'sick-individuals', 'picture': None}, 'upc': '7434007725711', 'released_at': 1553814000, 'label': {'name': 'Revealed Recordings', 'id': 157491, 'albums_count': 854, 'supplier_id': 41, 'slug': 'revealed-recordings-1'}, 'title': 'LUNA', 'qobuz_id': 60539560, 'version': None, 'duration': 490, 'parental_warning': False, 'tracks_count': 2, 'popularity': 0, 'genre': {'path': [64, 129], 'color': '#0070ef', 'name': 'Dance', 'id': 129, 'slug': 'dance'}, 'maximum_channel_count': 2, 'id': 'soz25lvjy1r6b', 'maximum_sampling_rate': 44.1, 'previewable': True, 'sampleable': True, 'displayable': True, 'streamable': False, 'streamable_at': 1656572400, 'downloadable': False, 'purchasable_at': None, 'purchasable': False, 'release_date_original': '2019-03-29', 'release_date_download': '2019-03-29', 'release_date_stream': '2019-03-29', 'hires': False, 'hires_streamable': False}, 'work': None, 'isrc': 'NLQ8D1900090', 'title': 'LUNA', 'version': None, 'duration': 200, 'parental_warning': False, 'track_number': 2, 'maximum_channel_count': 2, 'id': 60539562, 'media_number': 1, 'maximum_sampling_rate': 44.1, 'articles': [{'id': 154893295, 'url': '/order/154893295', 'price': 1.29, 'currency': 'USD', 'type': 'lls', 'label': 'CD-quality', 'description': 'Lossless 16 bit/44.1 kHz (FLAC, ALAC, WMA, AIFF, WAV)'}], 'release_date_original': None, 'release_date_download': None, 'release_date_stream': None, 'purchasable': True, 'streamable': False, 'previewable': True, 'sampleable': True, 'downloadable': True, 'displayable': True, 'purchasable_at': 1656572400, 'streamable_at': 1656572400, 'hires': False, 'hires_streamable': False, 'description': []}, {'maximum_bit_depth': 16, 'copyright': '2015 Revealed Music B.V. 2014 Revealed Music B.V.', 'performers': 'Sick Individuals, MainArtist - Rinze Hofstee, Composer, Lyricist, Producer - Joep Smeele, Composer, Lyricist, Producer - Sick Individuals Publishing, MusicPublisher', 'audio_info': {'replaygain_track_peak': 1, 'replaygain_track_gain': -11.28}, 'performer': {'name': 'Sick Individuals', 'id': 764370}, 'article_ids': {'LLS': 649589492, 'SMR': 649589493, 'SM2': 649589494}, 'album': {'image': {'small': 'https://static.qobuz.com/images/covers/ia/fn/ww92y9yw9fnia_230.jpg', 'thumbnail': 'https://static.qobuz.com/images/covers/ia/fn/ww92y9yw9fnia_50.jpg', 'large': 'https://static.qobuz.com/images/covers/ia/fn/ww92y9yw9fnia_600.jpg'}, 'maximum_bit_depth': 16, 'media_count': 1, 'artist': {'image': None, 'name': 'Sick Individuals', 'id': 764370, 'albums_count': 189, 'slug': 'sick-individuals', 'picture': None}, 'upc': '8718521032326', 'released_at': 1434060000, 'label': {'name': 'Revealed Recordings', 'id': 157491, 'albums_count': 1366, 'supplier_id': 41, 'slug': 'revealed-recordings-1'}, 'title': 'Lost & Found', 'qobuz_id': 163934763, 'version': 'Marcus Santoro Remix', 'duration': 870, 'parental_warning': False, 'tracks_count': 3, 'popularity': 0, 'genre': {'path': [64, 68], 'color': '#0070ef', 'name': 'House', 'id': 68, 'slug': 'house'}, 'maximum_channel_count': 2, 'id': 'ww92y9yw9fnia', 'maximum_sampling_rate': 44.1, 'previewable': True, 'sampleable': True, 'displayable': True, 'streamable': False, 'streamable_at': 1681887600, 'downloadable': False, 'purchasable_at': None, 'purchasable': False, 'release_date_original': '2015-06-12', 'release_date_download': '2015-06-12', 'release_date_stream': '2015-06-12', 'hires': False, 'hires_streamable': False}, 'work': None, 'composer': {'name': 'Rinze Hofstee', 'id': 806060}, 'isrc': 'NLS241401505', 'title': 'Lost & Found', 'version': 'Extended Mix', 'duration': 345, 'parental_warning': False, 'track_number': 3, 'maximum_channel_count': 2, 'id': 163934766, 'media_number': 1, 'maximum_sampling_rate': 44.1, 'articles': [{'id': 649589492, 'url': '/order/649589492', 'price': 1.29, 'currency': 'USD', 'type': 'lls', 'label': 'CD-quality', 'description': 'Lossless 16 bit/44.1 kHz (FLAC, ALAC, WMA, AIFF, WAV)'}], 'release_date_original': None, 'release_date_download': None, 'release_date_stream': None, 'purchasable': True, 'streamable': False, 'previewable': True, 'sampleable': True, 'downloadable': True, 'displayable': True, 'purchasable_at': 1681887600, 'streamable_at': 1681887600, 'hires': False, 'hires_streamable': False, 'description': []}, {'maximum_bit_depth': 24, 'copyright': '(C) 2018 One Seven Music/disco:wax (P) 2018 One Seven Music/disco:wax', 'performers': 'Sick Individuals, Producer, MainArtist - MpH, FeaturedArtist', 'audio_info': {'replaygain_track_peak': 0.987579, 'replaygain_track_gain': -10.17}, 'performer': {'name': 'Sick Individuals', 'id': 764370}, 'article_ids': {'LLS': 134983271, 'SMR': 134983272, 'SM2': 352218287}, 'album': {'image': {'small': 'https://static.qobuz.com/images/covers/7b/pm/e03zm0pagpm7b_230.jpg', 'thumbnail': 'https://static.qobuz.com/images/covers/7b/pm/e03zm0pagpm7b_50.jpg', 'large': 'https://static.qobuz.com/images/covers/7b/pm/e03zm0pagpm7b_600.jpg'}, 'maximum_bit_depth': 24, 'media_count': 1, 'artist': {'image': None, 'name': 'Sick Individuals', 'id': 764370, 'albums_count': 168, 'slug': 'sick-individuals', 'picture': None}, 'upc': '0886447214039', 'released_at': 1534456800, 'label': {'name': 'One Seven Music', 'id': 252825, 'albums_count': 778, 'supplier_id': 17, 'slug': 'one-seven-music'}, 'title': 'Easy', 'qobuz_id': 53859576, 'version': None, 'duration': 188, 'parental_warning': False, 'tracks_count': 1, 'popularity': 0, 'genre': {'path': [112, 117], 'color': '#0070ef', 'name': 'Pop', 'id': 117, 'slug': 'pop'}, 'maximum_channel_count': 2, 'id': 'e03zm0pagpm7b', 'maximum_sampling_rate': 44.1, 'previewable': True, 'sampleable': True, 'displayable': True, 'streamable': False, 'streamable_at': 1645084800, 'downloadable': False, 'purchasable_at': None, 'purchasable': False, 'release_date_original': '2018-08-17', 'release_date_download': '2018-08-17', 'release_date_stream': '2018-08-17', 'hires': True, 'hires_streamable': False}, 'work': None, 'isrc': 'DK4YA1813501', 'title': 'Easy', 'version': None, 'duration': 188, 'parental_warning': False, 'track_number': 1, 'maximum_channel_count': 2, 'id': 53859577, 'media_number': 1, 'maximum_sampling_rate': 44.1, 'articles': [{'id': 134983271, 'url': '/order/134983271', 'price': 1.49, 'currency': 'USD', 'type': 'lls', 'label': 'CD-quality', 'description': 'Lossless 16 bit/44.1 kHz (FLAC, ALAC, WMA, AIFF, WAV)'}, {'id': 134983272, 'url': '/order/134983272', 'price': 1.99, 'currency': 'USD', 'type': 'smr', 'label': 'Hi-Res', 'description': 'Up to 24 bit/96 kHz (FLAC, ALAC, WMA, AIFF, WAV)'}], 'release_date_original': None, 'release_date_download': None, 'release_date_stream': None, 'purchasable': True, 'streamable': False, 'previewable': True, 'sampleable': True, 'downloadable': True, 'displayable': True, 'purchasable_at': 1645084800, 'streamable_at': 1645084800, 'hires': True, 'hires_streamable': False, 'description': []}, {'maximum_bit_depth': 24, 'copyright': '(C) 2019 One Seven Music (P) 2019 One Seven Music', 'performers': 'Sick Individuals, Producer, MainArtist - MpH, FeaturedArtist', 'audio_info': {'replaygain_track_peak': 1, 'replaygain_track_gain': -9.62}, 'performer': {'name': 'MpH', 'id': 1695251}, 'article_ids': {'LLS': 162136051, 'SMR': 162136052, 'SM2': 361861083}, 'album': {'image': {'small': 'https://static.qobuz.com/images/covers/za/z5/o6mb9ddgcz5za_230.jpg', 'thumbnail': 'https://static.qobuz.com/images/covers/za/z5/o6mb9ddgcz5za_50.jpg', 'large': 'https://static.qobuz.com/images/covers/za/z5/o6mb9ddgcz5za_600.jpg'}, 'maximum_bit_depth': 24, 'media_count': 1, 'artist': {'image': None, 'name': 'Sick Individuals', 'id': 764370, 'albums_count': 168, 'slug': 'sick-individuals', 'picture': None}, 'upc': '0886447685518', 'released_at': 1556834400, 'label': {'name': 'One Seven Music', 'id': 252825, 'albums_count': 778, 'supplier_id': 17, 'slug': 'one-seven-music'}, 'title': 'We Got It All', 'qobuz_id': 62930849, 'version': None, 'duration': 166, 'parental_warning': False, 'tracks_count': 1, 'popularity': 0, 'genre': {'path': [64], 'color': '#0070ef', 'name': 'Electronic', 'id': 64, 'slug': 'electro'}, 'maximum_channel_count': 2, 'id': 'o6mb9ddgcz5za', 'maximum_sampling_rate': 44.1, 'previewable': True, 'sampleable': True, 'displayable': True, 'streamable': False, 'streamable_at': 1645084800, 'downloadable': False, 'purchasable_at': None, 'purchasable': False, 'release_date_original': '2019-05-03', 'release_date_download': '2019-05-03', 'release_date_stream': '2019-05-03', 'hires': True, 'hires_streamable': False}, 'work': None, 'isrc': 'DK4YA1909901', 'title': 'We Got It All', 'version': None, 'duration': 166, 'parental_warning': False, 'track_number': 1, 'maximum_channel_count': 2, 'id': 62930850, 'media_number': 1, 'maximum_sampling_rate': 44.1, 'articles': [{'id': 162136051, 'url': '/order/162136051', 'price': 1.49, 'currency': 'USD', 'type': 'lls', 'label': 'CD-quality', 'description': 'Lossless 16 bit/44.1 kHz (FLAC, ALAC, WMA, AIFF, WAV)'}, {'id': 162136052, 'url': '/order/162136052', 'price': 1.99, 'currency': 'USD', 'type': 'smr', 'label': 'Hi-Res', 'description': 'Up to 24 bit/96 kHz (FLAC, ALAC, WMA, AIFF, WAV)'}], 'release_date_original': None, 'release_date_download': None, 'release_date_stream': None, 'purchasable': True, 'streamable': False, 'previewable': True, 'sampleable': True, 'downloadable': True, 'displayable': True, 'purchasable_at': 1645084800, 'streamable_at': 1645084800, 'hires': True, 'hires_streamable': False, 'description': []}, {'maximum_bit_depth': 24, 'copyright': 'Revealed Music B.V. Revealed Music B.V.', 'performers': 'Greyson Chance, FeaturedArtist - Sick Individuals, MainArtist', 'audio_info': {'replaygain_track_peak': 0.998566, 'replaygain_track_gain': -9.7}, 'performer': {'name': 'Sick Individuals', 'id': 764370}, 'article_ids': {'LLS': 116362623, 'SMR': 116362624, 'SM2': 345643644}, 'album': {'image': {'small': 'https://static.qobuz.com/images/covers/ja/7e/s0paqkohl7eja_230.jpg', 'thumbnail': 'https://static.qobuz.com/images/covers/ja/7e/s0paqkohl7eja_50.jpg', 'large': 'https://static.qobuz.com/images/covers/ja/7e/s0paqkohl7eja_600.jpg'}, 'maximum_bit_depth': 24, 'media_count': 1, 'artist': {'image': None, 'name': 'Sick Individuals', 'id': 764370, 'albums_count': 173, 'slug': 'sick-individuals', 'picture': None}, 'upc': '7434007650648', 'released_at': 1519340400, 'label': {'name': 'Revealed Recordings', 'id': 157491, 'albums_count': 854, 'supplier_id': 41, 'slug': 'revealed-recordings-1'}, 'title': 'Walk Away', 'qobuz_id': 47583811, 'version': 'The Remixes', 'duration': 364, 'parental_warning': False, 'tracks_count': 2, 'popularity': 0, 'genre': {'path': [64, 129], 'color': '#0070ef', 'name': 'Dance', 'id': 129, 'slug': 'dance'}, 'maximum_channel_count': 2, 'id': 's0paqkohl7eja', 'maximum_sampling_rate': 44.1, 'previewable': True, 'sampleable': True, 'displayable': True, 'streamable': False, 'streamable_at': 1656572400, 'downloadable': False, 'purchasable_at': None, 'purchasable': False, 'release_date_original': '2018-02-23', 'release_date_download': '2018-02-23', 'release_date_stream': '2018-02-23', 'hires': True, 'hires_streamable': False}, 'work': None, 'isrc': 'NLQ8D1700438', 'title': 'Walk Away', 'version': 'Summer Vibe Remode', 'duration': 186, 'parental_warning': False, 'track_number': 1, 'maximum_channel_count': 2, 'id': 47583812, 'media_number': 1, 'maximum_sampling_rate': 44.1, 'articles': [{'id': 116362623, 'url': '/order/116362623', 'price': 1.29, 'currency': 'USD', 'type': 'lls', 'label': 'CD-quality', 'description': 'Lossless 16 bit/44.1 kHz (FLAC, ALAC, WMA, AIFF, WAV)'}, {'id': 116362624, 'url': '/order/116362624', 'price': 1.99, 'currency': 'USD', 'type': 'smr', 'label': 'Hi-Res', 'description': 'Up to 24 bit/96 kHz (FLAC, ALAC, WMA, AIFF, WAV)'}], 'release_date_original': None, 'release_date_download': None, 'release_date_stream': None, 'purchasable': True, 'streamable': False, 'previewable': True, 'sampleable': True, 'downloadable': True, 'displayable': True, 'purchasable_at': 1656572400, 'streamable_at': 1656572400, 'hires': True, 'hires_streamable': False, 'description': []}]}}]\n"
     ]
    }
   ],
   "source": [
    "session = qobuz.Session(authenticate=False)\n",
    "artist = session.get_artist(artist_id, extras=[\"albums\", \"playlists\", \"tracks\"], limit=5)\n",
    "for key, value in artist.items():\n",
    "    print(key, value, sep=\": \")"
   ]
  },
  {
   "attachments": {},
   "cell_type": "markdown",
   "metadata": {},
   "source": [
    "We can see information about the albums, playlists, and tracks stored in their respective keys above.\n",
    "\n",
    "A biography for or introduction to the artist is outputted below:"
   ]
  },
  {
   "cell_type": "code",
   "execution_count": 16,
   "metadata": {},
   "outputs": [
    {
     "name": "stdout",
     "output_type": "stream",
     "text": [
      "Dutch EDM duo Sick Individuals write boisterous, catchy dance tunes equally suited for festivals and the radio. The duo consists of Joep Smeele and Rinze Hofstee, who met in 2008 while studying music composition. Both individuals already had experience penning music for commercials, but they bonded over a mutual love for acts like Daft Punk and Swedish House Mafia, and decided to make dance music together. Sick Individuals began releasing original tracks on Sneakerz Muzik in 2010, and were initially more prolific as remixers, with clients including Flo Rida, Nicky Romero, and Freestylers. Their mix of Icona Pop's 2012 smash hit \"I Love It\" was particularly well received, and the duo followed it with numerous singles on labels like Revealed Recordings, Axtone, Onelove, and Armada. Collaborations with Dannic (\"Blueprint\") and Axwell (\"I Am\") both topped charts of dance music retailer Beatport, and the duo remixed songs by Madonna, Rihanna, Lady Gaga, Avicii, and numerous other stars. Sick Individuals have also performed at several major EDM festivals, including Tomorrowland, Ultra, and Creamfields. They host a podcast series as well, titled This Is Sick, which is also the name of a CD Japanese label Avex Trax released in 2015, compiling some of the duo's biggest tracks. In 2019, they issued the single \"Scars,\" featuring Cub Rayan.\n"
     ]
    }
   ],
   "source": [
    "print(artist['biography']['content'].split('\\n')[0])"
   ]
  },
  {
   "attachments": {},
   "cell_type": "markdown",
   "metadata": {},
   "source": [
    "### Object-oriented approach\n",
    "\n",
    "First, we directly create a `qobuz.Artist` object using the artist's Qobuz ID. We also request albums, playlists, and tracks that the artist contributed to by including the `extras=[\"albums\", \"playlists\", \"tracks\"]` parameter. Information about the artist is automatically retrieved."
   ]
  },
  {
   "cell_type": "code",
   "execution_count": 17,
   "metadata": {},
   "outputs": [
    {
     "name": "stdout",
     "output_type": "stream",
     "text": [
      "Qobuz artist: Sick Individuals\n"
     ]
    }
   ],
   "source": [
    "artist = qobuz.Artist(artist_id, extras=[\"albums\", \"playlists\", \"tracks\"], limit=5, authenticate=False)\n",
    "print(artist)"
   ]
  },
  {
   "attachments": {},
   "cell_type": "markdown",
   "metadata": {},
   "source": [
    "Below are the albums, playlists, and tracks that were requested:"
   ]
  },
  {
   "cell_type": "code",
   "execution_count": 18,
   "metadata": {},
   "outputs": [
    {
     "name": "stdout",
     "output_type": "stream",
     "text": [
      "Qobuz album: 'We Go Out' [artist: Alesso]\n",
      "Qobuz album: 'My Life (feat. The Runaway Club)' [artist: THE RUNAWAY CLUB]\n",
      "Qobuz album: 'With My Friends' [artist: Tungevaag]\n",
      "Qobuz album: 'Miss You' [artist: Tungevaag]\n",
      "Qobuz album: 'Feel Your Love' [artist: Dannic]\n",
      "Qobuz playlist: 'Sick Individuals' [owner: Qobuz]\n",
      "Qobuz track: 'MAIA' [artist: Sick Individuals, album: MAIA]\n",
      "Qobuz track: 'Heart On Fire' [artist: Sick Individuals, album: Heart On Fire]\n",
      "Qobuz track: 'YOU (feat. Dotter)' [artist: Sick Individuals, album: YOU (feat. Dotter)]\n",
      "Qobuz track: 'My Life (feat. The Runaway Club)' [artist: Sick Individuals, album: My Life (feat. The Runaway Club)]\n",
      "Qobuz track: 'Better with You' [artist: Sick Individuals, album: Better with You]\n"
     ]
    }
   ],
   "source": [
    "for album in artist.albums:\n",
    "    print(album)\n",
    "for playlist in artist.playlists:\n",
    "    print(playlist)\n",
    "for track in artist.tracks:\n",
    "    print(track)"
   ]
  },
  {
   "attachments": {},
   "cell_type": "markdown",
   "metadata": {},
   "source": [
    "Like before, a brief summary of the artist is available:"
   ]
  },
  {
   "cell_type": "code",
   "execution_count": 19,
   "metadata": {},
   "outputs": [
    {
     "name": "stdout",
     "output_type": "stream",
     "text": [
      "Dutch EDM duo Sick Individuals write boisterous, catchy dance tunes equally suited for festivals and the radio. The duo consists of Joep Smeele and Rinze Hofstee, who met in 2008 while studying music composition. Both individuals already had experience penning music for commercials, but they bonded over a mutual love for acts like Daft Punk and Swedish House Mafia, and decided to make dance music together. Sick Individuals began releasing original tracks on Sneakerz Muzik in 2010, and were initially more prolific as remixers, with clients including Flo Rida, Nicky Romero, and Freestylers. Their mix of Icona Pop's 2012 smash hit \"I Love It\" was particularly well received, and the duo followed it with numerous singles on labels like Revealed Recordings, Axtone, Onelove, and Armada. Collaborations with Dannic (\"Blueprint\") and Axwell (\"I Am\") both topped charts of dance music retailer Beatport, and the duo remixed songs by Madonna, Rihanna, Lady Gaga, Avicii, and numerous other stars. Sick Individuals have also performed at several major EDM festivals, including Tomorrowland, Ultra, and Creamfields. They host a podcast series as well, titled This Is Sick, which is also the name of a CD Japanese label Avex Trax released in 2015, compiling some of the duo's biggest tracks. In 2019, they issued the single \"Scars,\" featuring Cub Rayan.\n"
     ]
    }
   ],
   "source": [
    "print(artist.biography.split(\"\\n\")[0])"
   ]
  },
  {
   "attachments": {},
   "cell_type": "markdown",
   "metadata": {},
   "source": [
    "## Working with tracks\n",
    "\n",
    "A track (or a release) is the most central Qobuz object. Tracks are a key part of albums and playlists and can be associated with artists who appear or feature on them.\n",
    "\n",
    "In the following section, we will retrieve information about a track (for which we know the Qobuz ID for) using both the procedural and object-oriented approaches. For this tutorial, we will use the track 'Runaway (U & I)' by Galantis."
   ]
  },
  {
   "cell_type": "code",
   "execution_count": 20,
   "metadata": {},
   "outputs": [],
   "source": [
    "track_id = 23929516"
   ]
  },
  {
   "attachments": {},
   "cell_type": "markdown",
   "metadata": {},
   "source": [
    "### Procedural approach\n",
    "\n",
    "First, we create a `qobuz.Session` object without user authentication and use it to retrieve Qobuz catalog information for the track:"
   ]
  },
  {
   "cell_type": "code",
   "execution_count": 21,
   "metadata": {},
   "outputs": [
    {
     "name": "stdout",
     "output_type": "stream",
     "text": [
      "maximum_bit_depth: 24\n",
      "copyright: © 2015 Atlantic Recording Corporation for the United States and WEA International for the world outside of the United States. A Warner Music Group Company ℗ 2014 Atlantic Recording Corporation\n",
      "performers: Cathy Dennis, Lead Vocals - Kevin Grainger, MasteringEngineer - Christian Karlsson, Writer - Niklas Flyckt, MixingEngineer - Linus Eklöw, Writer - Julia Karlsson, Lead Vocals, Writer - Catherine Dennis, Writer - Galantis, MainArtist - Jimmy Koitzsch, Writer - Christian 'Bloodshy' Karlsson, Producer, Instruments, MixingEngineer - Anton Rundberg, Programmer, Writer - Jimmy 'Svidden' Koitzsch, Producer - Linus 'Style Of Eye' Eklöw, Producer, Instruments, MixingEngineer\n",
      "audio_info: {'replaygain_track_gain': -10.91, 'replaygain_track_peak': 1}\n",
      "performer: {'id': 865362, 'name': 'Galantis'}\n",
      "album: {'maximum_bit_depth': 24, 'image': {'small': 'https://static.qobuz.com/images/covers/52/36/0075679933652_230.jpg', 'thumbnail': 'https://static.qobuz.com/images/covers/52/36/0075679933652_50.jpg', 'large': 'https://static.qobuz.com/images/covers/52/36/0075679933652_600.jpg', 'back': None}, 'media_count': 1, 'artist': {'image': None, 'name': 'Galantis', 'id': 865362, 'albums_count': 122, 'slug': 'galantis', 'picture': None}, 'artists': [{'id': 865362, 'name': 'Galantis', 'roles': ['main-artist']}], 'upc': '0075679933652', 'released_at': 1433455200, 'label': {'name': 'Big Beat Records - Atlantic', 'id': 32629, 'albums_count': 310, 'supplier_id': 5, 'slug': 'big-beat-records-atlantic'}, 'title': 'Pharmacy', 'qobuz_id': 23929504, 'version': None, 'url': 'https://www.qobuz.com/fr-fr/album/pharmacy-galantis/0075679933652', 'duration': 2968, 'parental_warning': False, 'popularity': 0, 'tracks_count': 13, 'genre': {'path': [64, 129], 'color': '#5eabc1', 'name': 'Dance', 'id': 129, 'slug': 'dance'}, 'maximum_channel_count': 2, 'id': '0075679933652', 'maximum_sampling_rate': 44.1, 'articles': [], 'release_date_original': '2015-06-05', 'release_date_download': '2015-06-05', 'release_date_stream': '2015-06-05', 'purchasable': True, 'streamable': False, 'previewable': True, 'sampleable': True, 'downloadable': True, 'displayable': True, 'purchasable_at': 1685257200, 'streamable_at': 1685170800, 'hires': True, 'hires_streamable': False, 'awards': [], 'description': 'Side projects shouldn\\'t be this good but Galantis -- featuring Christian Karlsson of Miike Snow and Linus Eklöw from Style of Eye -- are excellent on Pharmacy, a vibrant debut LP that\\'s bright, attractive, and oozing with earworms. EDM is the main category header with bass drops and dramatic buildups in plentiful supply, but Karlsson and Eklöw are pop or alt-pop songwriters at heart, always up for a clever turn of phrase and offering genuine uplift that will survive all the uploaded acoustic cover versions yet to come. \"Forever Tonight\" and \"Runaway (U & I)\" are the best examples, with messages and moods that could stand tall without all the slick production. As icing on the cake goes, the beatmaking and studio wizardry here are delicious, falling somewhere between a Disclosure-sized \"wow\" and an Empire of the Sun sense of what suits the song. Cheeseball words like \"glisten\" and \"love\" fill progressive house numbers that are weighty enough to balance them, then \"Dancin\\' to the Sound of a Broken Heart\" gives the more goth-minded listeners a shoutout with some moody minor chords. Top it all off with \"Peanut Butter Jelly\" (not the similarly named booty song but a way cool blast of neo-disco) and Pharmacy is a fantastic and instantly gripping effort, one that brings reminders of first encounters with acts like the Chemical Brothers, Daft Punk, and Basement Jaxx.\\n<br />&copy  David Jeffries /TiVo', 'description_language': 'en', 'goodies': [], 'area': None, 'catchline': '', 'created_at': 0, 'genres_list': ['Électronique', 'Électronique→Dance'], 'period': None, 'copyright': '© 2015 Atlantic Recording Corporation for the United States and WEA International for the world outside of the United States. A Warner Music Group Company ℗ 2015 Atlantic Recording Corporation for the United States and WEA International for the world outside of the United States. A Warner Music Group Company', 'is_official': True, 'maximum_technical_specifications': '24 bits / 44.1 kHz - Stereo', 'product_sales_factors_monthly': 0, 'product_sales_factors_weekly': 0, 'product_sales_factors_yearly': 0, 'product_type': 'album', 'product_url': '/fr-fr/album/pharmacy-galantis/0075679933652', 'recording_information': '', 'relative_url': '/album/pharmacy-galantis/0075679933652', 'release_tags': [], 'release_type': 'album', 'slug': 'pharmacy-galantis', 'subtitle': 'Galantis'}\n",
      "work: None\n",
      "isrc: USAT21404266\n",
      "title: Runaway (U & I)\n",
      "version: None\n",
      "duration: 227\n",
      "parental_warning: False\n",
      "track_number: 4\n",
      "maximum_channel_count: 2\n",
      "id: 23929516\n",
      "media_number: 1\n",
      "maximum_sampling_rate: 96\n",
      "articles: []\n",
      "release_date_original: None\n",
      "release_date_download: None\n",
      "release_date_stream: None\n",
      "purchasable: True\n",
      "streamable: False\n",
      "previewable: True\n",
      "sampleable: True\n",
      "downloadable: True\n",
      "displayable: True\n",
      "purchasable_at: 1685257200\n",
      "streamable_at: 1685170800\n",
      "hires: True\n",
      "hires_streamable: False\n"
     ]
    }
   ],
   "source": [
    "session = qobuz.Session(authenticate=False)\n",
    "track = session.get_track(track_id)\n",
    "for key, value in track.items():\n",
    "    print(key, value, sep=\": \")"
   ]
  },
  {
   "attachments": {},
   "cell_type": "markdown",
   "metadata": {},
   "source": [
    "The standard metadata for the track is listed below:"
   ]
  },
  {
   "cell_type": "code",
   "execution_count": 22,
   "metadata": {},
   "outputs": [
    {
     "name": "stdout",
     "output_type": "stream",
     "text": [
      "Track: 4/13\n",
      "Disc: 1/1\n",
      "Title: Runaway (U & I)\n",
      "Artist: Galantis\n",
      "Album: Pharmacy\n",
      "Album artist: Galantis\n",
      "Genre: Dance\n",
      "Release date: 1685170800\n",
      "Copyright: © 2015 Atlantic Recording Corporation for the United States and WEA International for the world outside of the United States. A Warner Music Group Company ℗ 2014 Atlantic Recording Corporation\n",
      "ISRC: USAT21404266\n"
     ]
    }
   ],
   "source": [
    "print(f\"Track: {track['track_number']}/{track['album']['tracks_count']}\")\n",
    "print(f\"Disc: {track['media_number']}/{track['album']['media_count']}\")\n",
    "print(f\"Title: {track['title']}\")\n",
    "print(f\"Artist: {track['performer']['name']}\")\n",
    "print(f\"Album: {track['album']['title']}\")\n",
    "print(f\"Album artist: {track['album']['artist']['name']}\")\n",
    "print(f\"Genre: {track['album']['genre']['name']}\")\n",
    "print(f\"Release date: {track['streamable_at']}\")\n",
    "print(f\"Copyright: {track['copyright']}\")\n",
    "print(f\"ISRC: {track['isrc']}\")"
   ]
  },
  {
   "attachments": {},
   "cell_type": "markdown",
   "metadata": {},
   "source": [
    "Note that `track[\"performer\"]` only contains information about the primary artist associated with the track and can be incomplete. The full list of artists can be found in the track credits:"
   ]
  },
  {
   "cell_type": "code",
   "execution_count": 23,
   "metadata": {},
   "outputs": [
    {
     "name": "stdout",
     "output_type": "stream",
     "text": [
      " - Cathy Dennis, Lead Vocals\n",
      " - Kevin Grainger, MasteringEngineer\n",
      " - Christian Karlsson, Writer\n",
      " - Niklas Flyckt, MixingEngineer\n",
      " - Linus Eklöw, Writer\n",
      " - Julia Karlsson, Lead Vocals, Writer\n",
      " - Catherine Dennis, Writer\n",
      " - Galantis, MainArtist\n",
      " - Jimmy Koitzsch, Writer\n",
      " - Christian 'Bloodshy' Karlsson, Producer, Instruments, MixingEngineer\n",
      " - Anton Rundberg, Programmer, Writer\n",
      " - Jimmy 'Svidden' Koitzsch, Producer\n",
      " - Linus 'Style Of Eye' Eklöw, Producer, Instruments, MixingEngineer\n"
     ]
    }
   ],
   "source": [
    "print(\" -\", track[\"performers\"].replace(\" - \", \"\\n - \"))"
   ]
  },
  {
   "attachments": {},
   "cell_type": "markdown",
   "metadata": {},
   "source": [
    "The track credits, categorized by role, can be obtained by passing `performers=track[\"performers\"]` (or `track_id` directly) to `qobuz.Session.get_track_credits()`:"
   ]
  },
  {
   "cell_type": "code",
   "execution_count": 24,
   "metadata": {},
   "outputs": [
    {
     "name": "stdout",
     "output_type": "stream",
     "text": [
      "instruments: [\"Christian 'Bloodshy' Karlsson\", \"Linus 'Style Of Eye' Eklöw\"]\n",
      "programmer: ['Anton Rundberg']\n",
      "lead_vocals: ['Cathy Dennis', 'Julia Karlsson']\n",
      "mastering_engineer: ['Kevin Grainger']\n",
      "writer: ['Christian Karlsson', 'Linus Eklöw', 'Julia Karlsson', 'Catherine Dennis', 'Jimmy Koitzsch', 'Anton Rundberg']\n",
      "mixing_engineer: ['Niklas Flyckt', \"Christian 'Bloodshy' Karlsson\", \"Linus 'Style Of Eye' Eklöw\"]\n",
      "main_artist: ['Galantis']\n",
      "producer: [\"Christian 'Bloodshy' Karlsson\", \"Jimmy 'Svidden' Koitzsch\", \"Linus 'Style Of Eye' Eklöw\"]\n"
     ]
    }
   ],
   "source": [
    "for key, value in session.get_track_credits(performers=track[\"performers\"]).items():\n",
    "    print(key, value, sep=\": \")"
   ]
  },
  {
   "attachments": {},
   "cell_type": "markdown",
   "metadata": {},
   "source": [
    "For streaming purposes, the file URL for the track's audio stream can be retrieved using `qobuz.Session.get_track_file_url()`. The Qobuz ID is the first (required) positional argument. The audio quality of the audio stream can optionally be specified using the `quality` argument, with the following possible values:\n",
    "\n",
    "* `5` or `\"LOSSY\"` for constant bitrate (320 kbps) MP3\n",
    "* `6` or `\"CD\"` for CD-quality (16-bit, 44.1 kHz) FLAC\n",
    "* `7` or `\"HI-RES-96\"` for up to 24-bit, 96 kHz Hi-Res FLAC\n",
    "* default: `27` or `\"HI-RES-192\"` for up to 24-bit, 192 kHz Hi-Res FLAC"
   ]
  },
  {
   "cell_type": "code",
   "execution_count": 25,
   "metadata": {},
   "outputs": [
    {
     "name": "stdout",
     "output_type": "stream",
     "text": [
      "track_id: 23929516\n",
      "duration: 30\n",
      "url: https://streaming-qobuz-std.akamaized.net/file?eid=23929516&fmt=7&profile=raw&range=20-30...\n",
      "format_id: 7\n",
      "mime_type: audio/flac\n",
      "sample: True\n",
      "restrictions: [{'code': 'UserUnauthenticated'}]\n",
      "sampling_rate: 96\n",
      "bit_depth: 24\n"
     ]
    }
   ],
   "source": [
    "file_url = session.get_track_file_url(track_id)\n",
    "file_url[\"url\"] = f\"{file_url['url'].split('&app_id')[0]}...\" # Remove identifying information.\n",
    "for key, value in file_url.items():\n",
    "    print(key, value, sep=\": \")"
   ]
  },
  {
   "attachments": {},
   "cell_type": "markdown",
   "metadata": {},
   "source": [
    "For applications where the raw audio stream in `bytes` is necessary, we can use `qobuz.Session.get_track_stream()` with the same arguments instead:"
   ]
  },
  {
   "cell_type": "code",
   "execution_count": 26,
   "metadata": {},
   "outputs": [
    {
     "data": {
      "application/vnd.jupyter.widget-view+json": {
       "model_id": "a835ad9d114b4f1bacadf9269c244e5e",
       "version_major": 2,
       "version_minor": 0
      },
      "text/plain": [
       "Audio(value=b'fLaC\\x00\\x00\\x00\"\\x12\\x00\\x12\\x00\\x00@Q\\x00]\\xbb\\x17p\\x03p\\x00+\\xf2\\x00\\x00\\x00\\x00\\x00\\x00\\x00\\…"
      ]
     },
     "execution_count": 26,
     "metadata": {},
     "output_type": "execute_result"
    }
   ],
   "source": [
    "ipywidgets.Audio(value=session.get_track_stream(track_id), format=\"flac\", autoplay=False)"
   ]
  },
  {
   "attachments": {},
   "cell_type": "markdown",
   "metadata": {},
   "source": [
    "### Object-oriented approach"
   ]
  },
  {
   "attachments": {},
   "cell_type": "markdown",
   "metadata": {},
   "source": [
    "First, we directly create a `qobuz.Track` object using the track's Qobuz ID. Information about the track is automatically retrieved."
   ]
  },
  {
   "cell_type": "code",
   "execution_count": 27,
   "metadata": {},
   "outputs": [
    {
     "name": "stdout",
     "output_type": "stream",
     "text": [
      "Qobuz track: 'Runaway (U & I)' [artist: Galantis, album: Pharmacy]\n"
     ]
    }
   ],
   "source": [
    "track = qobuz.Track(track_id, authenticate=False)\n",
    "print(track)"
   ]
  },
  {
   "attachments": {},
   "cell_type": "markdown",
   "metadata": {},
   "source": [
    "Like before, the standard metadata for the track is listed below:"
   ]
  },
  {
   "cell_type": "code",
   "execution_count": 28,
   "metadata": {},
   "outputs": [
    {
     "name": "stdout",
     "output_type": "stream",
     "text": [
      "Track: 4/13\n",
      "Disc: 1/1\n",
      "Title: Runaway (U & I)\n",
      "Artist: Galantis\n",
      "Album: Pharmacy\n",
      "Album artist: Galantis\n",
      "Genre: Dance\n",
      "Release date: 2023-05-27 07:00:00\n",
      "Copyright: © 2015 Atlantic Recording Corporation for the United States and WEA International for the world outside of the United States. A Warner Music Group Company ℗ 2014 Atlantic Recording Corporation\n",
      "ISRC: USAT21404266\n"
     ]
    }
   ],
   "source": [
    "print(f\"Track: {track.track_number}/{track.album.track_count}\")\n",
    "print(f\"Disc: {track.disc_number}/{track.album.disc_count}\")\n",
    "print(f\"Title: {track.title}\")\n",
    "print(f\"Artist: {track.main_artist.name}\")\n",
    "print(f\"Album: {track.album.title}\")\n",
    "print(f\"Album artist: {track.album.main_artist.name}\")\n",
    "print(f\"Genre: {track.album.genre}\")\n",
    "print(f\"Release date: {track.release_date}\")\n",
    "print(f\"Copyright: {track.copyright}\")\n",
    "print(f\"ISRC: {track.isrc}\")"
   ]
  },
  {
   "attachments": {},
   "cell_type": "markdown",
   "metadata": {},
   "source": [
    "The track credits is only available pre-formatted:"
   ]
  },
  {
   "cell_type": "code",
   "execution_count": 29,
   "metadata": {},
   "outputs": [
    {
     "name": "stdout",
     "output_type": "stream",
     "text": [
      "instruments: [\"Christian 'Bloodshy' Karlsson\", \"Linus 'Style Of Eye' Eklöw\"]\n",
      "programmer: ['Anton Rundberg']\n",
      "lead_vocals: ['Cathy Dennis', 'Julia Karlsson']\n",
      "mastering_engineer: ['Kevin Grainger']\n",
      "writer: ['Christian Karlsson', 'Linus Eklöw', 'Julia Karlsson', 'Catherine Dennis', 'Jimmy Koitzsch', 'Anton Rundberg']\n",
      "mixing_engineer: ['Niklas Flyckt', \"Christian 'Bloodshy' Karlsson\", \"Linus 'Style Of Eye' Eklöw\"]\n",
      "main_artist: ['Galantis']\n",
      "producer: [\"Christian 'Bloodshy' Karlsson\", \"Jimmy 'Svidden' Koitzsch\", \"Linus 'Style Of Eye' Eklöw\"]\n"
     ]
    }
   ],
   "source": [
    "for key, value in track.credits.items():\n",
    "    print(key, value, sep=\": \")"
   ]
  },
  {
   "attachments": {},
   "cell_type": "markdown",
   "metadata": {},
   "source": [
    "Finally, the file URL and stream data can be obtained by calling methods innate to the `qobuz.Track` object:"
   ]
  },
  {
   "cell_type": "code",
   "execution_count": 30,
   "metadata": {},
   "outputs": [
    {
     "name": "stdout",
     "output_type": "stream",
     "text": [
      "https://streaming-qobuz-std.akamaized.net/file?eid=23929516&fmt=7&profile=raw&range=20-30...\n"
     ]
    }
   ],
   "source": [
    "track.get_file_url()\n",
    "track.file_url = f\"{track.file_url.split('&app_id')[0]}...\" # Remove identifying information.\n",
    "print(track.file_url, sep=\"\")"
   ]
  },
  {
   "cell_type": "code",
   "execution_count": 31,
   "metadata": {},
   "outputs": [
    {
     "data": {
      "application/vnd.jupyter.widget-view+json": {
       "model_id": "5e7fc5a63b9045109aa4c8ccd005cd5b",
       "version_major": 2,
       "version_minor": 0
      },
      "text/plain": [
       "Audio(value=b'fLaC\\x00\\x00\\x00\"\\x12\\x00\\x12\\x00\\x00@Q\\x00]\\xbb\\x17p\\x03p\\x00+\\xf2\\x00\\x00\\x00\\x00\\x00\\x00\\x00\\…"
      ]
     },
     "execution_count": 31,
     "metadata": {},
     "output_type": "execute_result"
    }
   ],
   "source": [
    "track.get_stream()\n",
    "ipywidgets.Audio(value=track.stream, format=\"flac\", autoplay=False)"
   ]
  },
  {
   "attachments": {},
   "cell_type": "markdown",
   "metadata": {},
   "source": [
    "## Working with albums\n",
    "\n",
    "Albums, including extended plays (EPs) and singles, are collections of tracks by a primary artist. Every track belongs to an album.\n",
    "\n",
    "In the following section, we will retrieve information about an album (for which we know the Qobuz ID for) using both the procedural and object-oriented approaches. For this tutorial, we will use the album 'Brighter Days' by Sigala."
   ]
  },
  {
   "cell_type": "code",
   "execution_count": 32,
   "metadata": {},
   "outputs": [],
   "source": [
    "album_id = \"i39dkeqnl9e9b\""
   ]
  },
  {
   "attachments": {},
   "cell_type": "markdown",
   "metadata": {},
   "source": [
    "### Procedural approach\n",
    "\n",
    "First, we create a `qobuz.Session` object without user authentication and use it to retrieve Qobuz catalog information for the album:"
   ]
  },
  {
   "cell_type": "code",
   "execution_count": 33,
   "metadata": {},
   "outputs": [
    {
     "name": "stdout",
     "output_type": "stream",
     "text": [
      "maximum_bit_depth: 24\n",
      "image: {'small': 'https://static.qobuz.com/images/covers/9b/9e/i39dkeqnl9e9b_230.jpg', 'thumbnail': 'https://static.qobuz.com/images/covers/9b/9e/i39dkeqnl9e9b_50.jpg', 'large': 'https://static.qobuz.com/images/covers/9b/9e/i39dkeqnl9e9b_600.jpg', 'back': None}\n",
      "media_count: 1\n",
      "artist: {'image': None, 'name': 'Sigala', 'id': 2199202, 'albums_count': 127, 'slug': 'sigala', 'picture': None}\n",
      "artists: [{'id': 2199202, 'name': 'Sigala', 'roles': ['main-artist']}]\n",
      "upc: 0886446794235\n",
      "released_at: 1538085600\n",
      "label: {'name': 'Ministry of Sound Recordings', 'id': 151038, 'albums_count': 1341, 'supplier_id': 23, 'slug': 'ministry-of-sound-recordings'}\n",
      "title: Brighter Days\n",
      "qobuz_id: 50586621\n",
      "version: None\n",
      "url: https://www.qobuz.com/fr-fr/album/brighter-days-sigala/i39dkeqnl9e9b\n",
      "duration: 3379\n",
      "parental_warning: False\n",
      "popularity: 0\n",
      "tracks_count: 16\n",
      "genre: {'path': [64, 129], 'color': '#5eabc1', 'name': 'Dance', 'id': 129, 'slug': 'dance'}\n",
      "maximum_channel_count: 2\n",
      "id: i39dkeqnl9e9b\n",
      "maximum_sampling_rate: 44.1\n",
      "articles: []\n",
      "release_date_original: 2018-09-28\n",
      "release_date_download: 2018-09-28\n",
      "release_date_stream: 2018-09-28\n",
      "purchasable: True\n",
      "streamable: False\n",
      "previewable: True\n",
      "sampleable: True\n",
      "downloadable: True\n",
      "displayable: True\n",
      "purchasable_at: 1682146800\n",
      "streamable_at: 1682060400\n",
      "hires: True\n",
      "hires_streamable: False\n",
      "awards: []\n",
      "goodies: []\n",
      "area: None\n",
      "catchline: \n",
      "composer: {'id': 573076, 'name': 'Various Composers', 'slug': 'various-composers', 'albums_count': 583621, 'picture': None, 'image': None}\n",
      "created_at: 0\n",
      "genres_list: ['Électronique', 'Électronique→Dance']\n",
      "period: None\n",
      "copyright: (P) 2018 Ministry of Sound Recordings Ltd./B1 Recordings GmbH. a Sony Music Entertainment Company\n",
      "is_official: True\n",
      "maximum_technical_specifications: 24 bits / 44.1 kHz - Stereo\n",
      "product_sales_factors_monthly: 0\n",
      "product_sales_factors_weekly: 0\n",
      "product_sales_factors_yearly: 0\n",
      "product_type: album\n",
      "product_url: /fr-fr/album/brighter-days-sigala/i39dkeqnl9e9b\n",
      "recording_information: \n",
      "relative_url: /album/brighter-days-sigala/i39dkeqnl9e9b\n",
      "release_tags: []\n",
      "release_type: album\n",
      "slug: brighter-days-sigala\n",
      "subtitle: Sigala\n",
      "tracks: {'offset': 0, 'limit': 500, 'total': 16, 'items': [{'maximum_bit_depth': 24, 'copyright': '(P) 2018 Ministry of Sound Recordings Limited / B1 Recordings GmbH, a Sony Music Entertainment Company', 'performers': 'Ilsey Juber, Composer, Lyricist - Kevin Grainger, Mastering Engineer, Mixing Engineer - Jarly, Producer, Programmer - Paul Janeway, Composer, Lyricist, Vocal - Sigala, Composer, Lyricist, Producer, Engineer, Programmer, MainArtist, AssociatedPerformer, Background Vocal - Steve Manovski, Producer, Drums, Percussion - Sigala feat. Paul Janeway of St. Paul & The Broken Bones, AssociatedPerformer - Paul Janeway of St. Paul & The Broken Bones, FeaturedArtist, AssociatedPerformer', 'audio_info': {'replaygain_track_peak': 0.890717, 'replaygain_track_gain': -10.84}, 'performer': {'name': 'Sigala', 'id': 2199202}, 'work': None, 'composer': {'name': 'Sigala', 'id': 2199202}, 'isrc': 'GBCEN1800091', 'title': 'Brighter Days', 'version': None, 'duration': 236, 'parental_warning': False, 'track_number': 1, 'maximum_channel_count': 2, 'id': 50586622, 'media_number': 1, 'maximum_sampling_rate': 44.1, 'release_date_original': None, 'release_date_download': None, 'release_date_stream': None, 'purchasable': True, 'streamable': False, 'previewable': True, 'sampleable': True, 'downloadable': True, 'displayable': True, 'purchasable_at': 1682146800, 'streamable_at': 1682060400, 'hires': True, 'hires_streamable': False}, {'maximum_bit_depth': 24, 'copyright': '(P) 2017 Ministry of Sound Recordings Limited / B1 Recordings GmbH, a Sony Music Entertainment Company', 'performers': 'Bryn Christopher, Composer, Lyricist, Background Vocal - Kevin Grainger, Mastering Engineer, Mixing Engineer - Dipesh Parmar, Arranger, Programmer - Jim Hunt, Saxophone - Scott Wild, Composer, Lyricist - Joakim Jarl, Producer - Ella Eyre, MainArtist, AssociatedPerformer, Vocal - Klingande, Producer, AssociatedPerformer - Cédric Steinmyller, Composer, Lyricist - Ella McMahon, Composer, Lyricist - Sigala, Producer, Engineer, MainArtist, AssociatedPerformer - Bruce Fielder, Composer, Lyricist - Steve Manovski, Guitar - White N3rd, Producer, AssociatedPerformer - Emily McGregor, Violin - Sigala & Ella Eyre, AssociatedPerformer', 'audio_info': {'replaygain_track_peak': 0.893585, 'replaygain_track_gain': -9.95}, 'performer': {'name': 'Sigala', 'id': 2199202}, 'work': None, 'composer': {'name': 'Bruce Fielder', 'id': 2312975}, 'isrc': 'GBCEN1700157', 'title': 'Came Here for Love', 'version': None, 'duration': 203, 'parental_warning': False, 'track_number': 2, 'maximum_channel_count': 2, 'id': 50586623, 'media_number': 1, 'maximum_sampling_rate': 44.1, 'release_date_original': None, 'release_date_download': None, 'release_date_stream': None, 'purchasable': True, 'streamable': False, 'previewable': True, 'sampleable': True, 'downloadable': True, 'displayable': True, 'purchasable_at': 1682146800, 'streamable_at': 1682060400, 'hires': True, 'hires_streamable': False}, {'maximum_bit_depth': 24, 'copyright': '(P) 2018 Ministry of Sound Recordings Limited / B1 Recordings GmbH, a Sony Music Entertainment Company', 'performers': 'Sean Paul Henriques, Composer, Lyricist - Rob Harris, Guitar - Sean Paul, MainArtist, AssociatedPerformer - Hal Ritson, Programmer - Graeme Blevins, Saxophone - Kevin Grainger, Mastering Engineer, Mixing Engineer - Trevor Mires, Trombone - Dipesh Parmar, Programmer - Neil Waters, Trumpet - Fuse ODG, MainArtist, AssociatedPerformer, Vocal - Joakim Jarl, Programmer - Nana Richard Abiona, Composer, Lyricist - Janee Bennett, Composer, Lyricist - Kent Jones, FeaturedArtist, AssociatedPerformer, Vocal - Sigala, Producer, Programmer, MainArtist, AssociatedPerformer - Bruce Fielder, Composer, Lyricist - Steve Manovski, Programmer - Daryl Kent Jones, Composer, Lyricist - Sigala & Fuse ODG & Sean Paul feat. Kent Jones, AssociatedPerformer - Eshan Gopal, Background Vocal', 'audio_info': {'replaygain_track_peak': 0.893585, 'replaygain_track_gain': -10.31}, 'performer': {'name': 'Sigala', 'id': 2199202}, 'work': None, 'composer': {'name': 'Bruce Fielder', 'id': 2312975}, 'isrc': 'GBCEN1800092', 'title': 'Feels Like Home', 'version': None, 'duration': 219, 'parental_warning': False, 'track_number': 3, 'maximum_channel_count': 2, 'id': 50586624, 'media_number': 1, 'maximum_sampling_rate': 44.1, 'release_date_original': None, 'release_date_download': None, 'release_date_stream': None, 'purchasable': True, 'streamable': False, 'previewable': True, 'sampleable': True, 'downloadable': True, 'displayable': True, 'purchasable_at': 1682146800, 'streamable_at': 1682060400, 'hires': True, 'hires_streamable': False}, {'maximum_bit_depth': 24, 'copyright': '(P) 2018 Ministry of Sound Recordings Limited / B1 Recordings GmbH, a Sony Music Entertainment Company', 'performers': 'Jerry Barnes, Assistant Producer, Bass - NILE RODGERS, Composer, Lyricist, Guitar - French Montana, FeaturedArtist, AssociatedPerformer, Vocal - Karim Kharbouch, Composer, Lyricist - The Invisible Men, Composer, Lyricist - Joakim Jarl, Producer - Ella Eyre, MainArtist, AssociatedPerformer, Vocal - Meghan Trainor, Composer, Lyricist, MainArtist, AssociatedPerformer, Vocal - Ella McMahon, Composer, Lyricist - Sigala, Composer, Lyricist, Producer, Engineer, Mastering Engineer, Programmer, Mixing Engineer, MainArtist, AssociatedPerformer, Background Vocal - Steve Manovski, Composer, Lyricist, Producer, Drums, Background Vocal - Emily McGregor, Strings - Adrian Veale, Trumpet - Sigala & Ella Eyre & Meghan Trainor feat. French Montana, AssociatedPerformer', 'audio_info': {'replaygain_track_peak': 0.999908, 'replaygain_track_gain': -12.39}, 'performer': {'name': 'Sigala', 'id': 2199202}, 'work': None, 'composer': {'name': 'Sigala', 'id': 2199202}, 'isrc': 'GBCEN1800093', 'title': 'Just Got Paid', 'version': None, 'duration': 218, 'parental_warning': False, 'track_number': 4, 'maximum_channel_count': 2, 'id': 50586625, 'media_number': 1, 'maximum_sampling_rate': 44.1, 'release_date_original': None, 'release_date_download': None, 'release_date_stream': None, 'purchasable': True, 'streamable': False, 'previewable': True, 'sampleable': True, 'downloadable': True, 'displayable': True, 'purchasable_at': 1682146800, 'streamable_at': 1682060400, 'hires': True, 'hires_streamable': False}, {'maximum_bit_depth': 24, 'copyright': '(P) 2018 Ministry of Sound Recordings Limited / B1 Recordings GmbH, a Sony Music Entertainment Company', 'performers': 'Kevin Grainger, Mastering Engineer, Mixing Engineer - Ella McMahon, Composer, Lyricist - The Vamps, MainArtist, AssociatedPerformer, Vocal - Rick Boardman, Composer, Lyricist - Daniel Shah, Background Vocal - Sigala, Programmer, MainArtist, AssociatedPerformer - Bruce Fielder, Composer, Lyricist, Producer - Pablo Bowman, Composer, Lyricist - Adam Knights, Composer, Lyricist - Aryan Nasr, Composer, Lyricist - Sigala & The Vamps, AssociatedPerformer - Samman Kadduri, Composer, Lyricist', 'audio_info': {'replaygain_track_peak': 0.890717, 'replaygain_track_gain': -10.15}, 'performer': {'name': 'Sigala', 'id': 2199202}, 'work': None, 'composer': {'name': 'Bruce Fielder', 'id': 2312975}, 'isrc': 'GBCEN1800096', 'title': \"We Don't Care\", 'version': None, 'duration': 206, 'parental_warning': False, 'track_number': 5, 'maximum_channel_count': 2, 'id': 50586626, 'media_number': 1, 'maximum_sampling_rate': 44.1, 'release_date_original': None, 'release_date_download': None, 'release_date_stream': None, 'purchasable': True, 'streamable': False, 'previewable': True, 'sampleable': True, 'downloadable': True, 'displayable': True, 'purchasable_at': 1682146800, 'streamable_at': 1682060400, 'hires': True, 'hires_streamable': False}, {'maximum_bit_depth': 24, 'copyright': '(P) 2018 Ministry of Sound Recordings Limited / B1 Recordings GmbH, a Sony Music Entertainment Company', 'performers': 'Mich Hedin Hansen, Composer, Lyricist - Flo Rida, MainArtist, AssociatedPerformer, Vocal - Daniel Davidsen, Composer, Lyricist - Peter Wallevik, Composer, Lyricist - Cutfather, Producer - Kevin Grainger, Mastering Engineer, Mixing Engineer - PhD, Producer - Shaun Frank, Composer, Lyricist, Producer, Engineer, Programmer, Mixing Engineer, MainArtist, AssociatedPerformer - Janee Bennett, Composer, Lyricist - Tramar Lacel Dillard, Composer, Lyricist - Delaney Jane, FeaturedArtist, AssociatedPerformer, Vocal - Sigala, Composer, Lyricist, Producer, Engineer, Programmer, Mixing Engineer, MainArtist, AssociatedPerformer - Alexander Healey, Producer - Imani Williams, Background Vocal - Sigala & Shaun Frank & Flo Rida feat. Delaney Jane, AssociatedPerformer', 'audio_info': {'replaygain_track_peak': 0.893585, 'replaygain_track_gain': -9.36}, 'performer': {'name': 'Sigala', 'id': 2199202}, 'work': None, 'composer': {'name': 'Sigala', 'id': 2199202}, 'isrc': 'GBCEN1800097', 'title': \"You Don't Know Me\", 'version': None, 'duration': 196, 'parental_warning': False, 'track_number': 6, 'maximum_channel_count': 2, 'id': 50586627, 'media_number': 1, 'maximum_sampling_rate': 44.1, 'release_date_original': None, 'release_date_download': None, 'release_date_stream': None, 'purchasable': True, 'streamable': False, 'previewable': True, 'sampleable': True, 'downloadable': True, 'displayable': True, 'purchasable_at': 1682146800, 'streamable_at': 1682060400, 'hires': True, 'hires_streamable': False}, {'maximum_bit_depth': 24, 'copyright': '(P) 2018 Ministry of Sound Recordings Limited / B1 Recordings GmbH, a Sony Music Entertainment Company', 'performers': 'Kevin Grainger, Mastering Engineer, Mixing Engineer - Nina Nesbitt, Composer, Lyricist, MainArtist, AssociatedPerformer, Vocal - Joakim Jarl, Composer, Lyricist, Programmer - Zak Abel, Composer, Lyricist, Background Vocal - Danny Shah, Composer, Lyricist, Background Vocal - Jarly, Producer - Sky Adams, Composer, Lyricist - Sigala, Composer, Lyricist, Producer, Engineer, Programmer, MainArtist, AssociatedPerformer - Steve Manovski, Producer, Percussion - Lawrie Martin, Composer, Lyricist - Paul Whalley, Engineer - HRVY, MainArtist, AssociatedPerformer, Vocal - Sigala & HRVY & Nina Nesbitt, AssociatedPerformer', 'audio_info': {'replaygain_track_peak': 0.893585, 'replaygain_track_gain': -9.96}, 'performer': {'name': 'Sigala', 'id': 2199202}, 'work': None, 'composer': {'name': 'Sigala', 'id': 2199202}, 'isrc': 'GBCEN1800094', 'title': 'Somebody', 'version': None, 'duration': 238, 'parental_warning': False, 'track_number': 7, 'maximum_channel_count': 2, 'id': 50586628, 'media_number': 1, 'maximum_sampling_rate': 44.1, 'release_date_original': None, 'release_date_download': None, 'release_date_stream': None, 'purchasable': True, 'streamable': False, 'previewable': True, 'sampleable': True, 'downloadable': True, 'displayable': True, 'purchasable_at': 1682146800, 'streamable_at': 1682060400, 'hires': True, 'hires_streamable': False}, {'maximum_bit_depth': 24, 'copyright': '(P) 2018 Ministry of Sound Recordings Limited / B1 Recordings GmbH, a Sony Music Entertainment Company', 'performers': 'Paloma Faith, MainArtist, AssociatedPerformer, Vocal - Kevin Grainger, Mastering Engineer, Mixing Engineer - Baby Sol, AssociatedPerformer - Mark Ralph, Vocal Producer - Dipesh Parmar, Editor, Programmer - Andrew Bullimore, Composer, Lyricist, Background Vocal - Josh Record, Composer, Lyricist, Background Vocal - Joakim Jarl, Composer, Lyricist - Janee Bennett, Composer, Lyricist - Jess Glynne, Composer, Lyricist - Lauren Flynn, Background Vocal - Jarly, Producer - Joe Ashworth, Producer - Sigala, MainArtist, AssociatedPerformer - Bruce Fielder, Composer, Lyricist, Producer - Nym, Background Vocal - Sigala & Paloma Faith, AssociatedPerformer - Kirsten Childs, Background Vocal - Janelle Martin-Cousins, Background Vocal', 'audio_info': {'replaygain_track_peak': 0.893585, 'replaygain_track_gain': -10.29}, 'performer': {'name': 'Sigala', 'id': 2199202}, 'work': None, 'composer': {'name': 'Bruce Fielder', 'id': 2312975}, 'isrc': 'GBCEN1700257', 'title': 'Lullaby', 'version': None, 'duration': 204, 'parental_warning': False, 'track_number': 8, 'maximum_channel_count': 2, 'id': 50586629, 'media_number': 1, 'maximum_sampling_rate': 44.1, 'release_date_original': None, 'release_date_download': None, 'release_date_stream': None, 'purchasable': True, 'streamable': False, 'previewable': True, 'sampleable': True, 'downloadable': True, 'displayable': True, 'purchasable_at': 1682146800, 'streamable_at': 1682060400, 'hires': True, 'hires_streamable': False}, {'maximum_bit_depth': 24, 'copyright': '(P) 2016 Insanity Records Limited under exclusive license to Sony Music Entertainment UK Limited', 'performers': 'Craig David, Composer, Lyricist, MainArtist, AssociatedPerformer, Vocal - Stuart Hawkes, Mastering Engineer - Wez Clarke, Producer, Mixing Engineer - Sigala, Producer, Engineer, MainArtist, AssociatedPerformer - Bruce Fielder, Composer, Lyricist - Craig David & Sigala, AssociatedPerformer', 'audio_info': {'replaygain_track_peak': 0.881989, 'replaygain_track_gain': -11.09}, 'performer': {'name': 'Craig David', 'id': 53659}, 'work': None, 'composer': {'name': 'Craig David', 'id': 53659}, 'isrc': 'GBARL1600864', 'title': \"Ain't Giving Up\", 'version': None, 'duration': 157, 'parental_warning': False, 'track_number': 9, 'maximum_channel_count': 2, 'id': 50586630, 'media_number': 1, 'maximum_sampling_rate': 44.1, 'release_date_original': None, 'release_date_download': None, 'release_date_stream': None, 'purchasable': True, 'streamable': False, 'previewable': True, 'sampleable': True, 'downloadable': True, 'displayable': True, 'purchasable_at': 1682146800, 'streamable_at': 1682060400, 'hires': True, 'hires_streamable': False}, {'maximum_bit_depth': 24, 'copyright': '(P) 2018 Ministry of Sound Recordings Limited / B1 Recordings GmbH, a Sony Music Entertainment Company', 'performers': 'Invisible Men, Composer, Lyricist - Kylie Minogue, FeaturedArtist, AssociatedPerformer, Vocal - Kevin Grainger, Mastering Engineer, Mixing Engineer - Michael Harwood, Engineer - Marli Harwood, Background Vocal - Sigala, Composer, Lyricist, Producer, Engineer, Programmer, MainArtist, AssociatedPerformer - Nicole Blair, Background Vocal - Gina Kushka, Composer, Lyricist, Background Vocal - Sigala feat. Kylie Minogue, AssociatedPerformer', 'audio_info': {'replaygain_track_peak': 0.893585, 'replaygain_track_gain': -10.56}, 'performer': {'name': 'Sigala', 'id': 2199202}, 'work': None, 'composer': {'name': 'Sigala', 'id': 2199202}, 'isrc': 'GBCEN1800098', 'title': 'What You Waiting For', 'version': None, 'duration': 250, 'parental_warning': False, 'track_number': 10, 'maximum_channel_count': 2, 'id': 50586631, 'media_number': 1, 'maximum_sampling_rate': 44.1, 'release_date_original': None, 'release_date_download': None, 'release_date_stream': None, 'purchasable': True, 'streamable': False, 'previewable': True, 'sampleable': True, 'downloadable': True, 'displayable': True, 'purchasable_at': 1682146800, 'streamable_at': 1682060400, 'hires': True, 'hires_streamable': False}, {'maximum_bit_depth': 24, 'copyright': '(P) 2015 Ministry of Sound Recordings Limited', 'performers': 'Bryn Christopher, Composer, Lyricist, MainArtist, AssociatedPerformer - Nick Bennett, Mastering Engineer - Sigala, Producer, Engineer, Programmer, Mixing Engineer, MainArtist, AssociatedPerformer - Bruce Fielder, Composer, Lyricist - Sigala & Bryn Christopher, AssociatedPerformer', 'audio_info': {'replaygain_track_peak': 0.860596, 'replaygain_track_gain': -10.7}, 'performer': {'name': 'Sigala', 'id': 2199202}, 'work': None, 'composer': {'name': 'Bryn Christopher', 'id': 203810}, 'isrc': 'GBCEN1501213', 'title': \"Sweet Lovin' \", 'version': 'Radio Edit', 'duration': 201, 'parental_warning': False, 'track_number': 11, 'maximum_channel_count': 2, 'id': 50586632, 'media_number': 1, 'maximum_sampling_rate': 44.1, 'release_date_original': None, 'release_date_download': None, 'release_date_stream': None, 'purchasable': True, 'streamable': False, 'previewable': True, 'sampleable': True, 'downloadable': True, 'displayable': True, 'purchasable_at': 1682146800, 'streamable_at': 1682060400, 'hires': True, 'hires_streamable': False}, {'maximum_bit_depth': 24, 'copyright': '(P) 2018 Ministry of Sound Recordings Limited / B1 Recordings GmbH, a Sony Music Entertainment Company', 'performers': 'Max, FeaturedArtist, AssociatedPerformer, Vocal - Kevin Grainger, Mastering Engineer, Mixing Engineer - Trevor Dahl, Composer, Lyricist, Producer - Max Schneider, Composer, Lyricist - James Abrahart, Composer, Lyricist, Background Vocal - Kevin Ford, Composer, Lyricist - Matthew Russell, Composer, Lyricist - Caroline Ailin, Composer, Lyricist - Jarly, Producer - Sigala, Composer, Lyricist, Producer, Engineer, Programmer, MainArtist, AssociatedPerformer - Cheat Codes, Programmer, FeaturedArtist, AssociatedPerformer - Peter Rycroft, Composer, Lyricist - Sigala feat. Cheat Codes & MAX, AssociatedPerformer', 'audio_info': {'replaygain_track_peak': 0.893555, 'replaygain_track_gain': -10.79}, 'performer': {'name': 'Sigala', 'id': 2199202}, 'work': None, 'composer': {'name': 'Sigala', 'id': 2199202}, 'isrc': 'GBCEN1800099', 'title': 'Revival', 'version': None, 'duration': 192, 'parental_warning': False, 'track_number': 12, 'maximum_channel_count': 2, 'id': 50586633, 'media_number': 1, 'maximum_sampling_rate': 44.1, 'release_date_original': None, 'release_date_download': None, 'release_date_stream': None, 'purchasable': True, 'streamable': False, 'previewable': True, 'sampleable': True, 'downloadable': True, 'displayable': True, 'purchasable_at': 1682146800, 'streamable_at': 1682060400, 'hires': True, 'hires_streamable': False}, {'maximum_bit_depth': 24, 'copyright': '(P) 2016 Ministry of Sound Recordings Limited', 'performers': 'NILE RODGERS, Composer, Lyricist, FeaturedArtist, AssociatedPerformer - Kevin Grainger, Mixing Engineer - Dipesh Parmar, Programmer - John Newman, Composer, Lyricist, Co-Producer, MainArtist, AssociatedPerformer - Sigala, Producer, MainArtist, AssociatedPerformer - Bruce Fielder, Composer, Lyricist - Stevce Manovski, Composer, Lyricist, Co-Producer - Sigala & John Newman feat. Nile Rodgers, AssociatedPerformer', 'audio_info': {'replaygain_track_peak': 0.884094, 'replaygain_track_gain': -11.25}, 'performer': {'name': 'Sigala', 'id': 2199202}, 'work': None, 'composer': {'name': 'John Newman', 'id': 634038}, 'isrc': 'GBCEN1602122', 'title': 'Give Me Your Love', 'version': None, 'duration': 207, 'parental_warning': False, 'track_number': 13, 'maximum_channel_count': 2, 'id': 50586634, 'media_number': 1, 'maximum_sampling_rate': 44.1, 'release_date_original': None, 'release_date_download': None, 'release_date_stream': None, 'purchasable': True, 'streamable': False, 'previewable': True, 'sampleable': True, 'downloadable': True, 'displayable': True, 'purchasable_at': 1682146800, 'streamable_at': 1682060400, 'hires': True, 'hires_streamable': False}, {'maximum_bit_depth': 24, 'copyright': '(P) 2018 Ministry of Sound Recordings Limited / B1 Recordings GmbH, a Sony Music Entertainment Company', 'performers': 'Kevin Grainger, Mastering Engineer, Mixing Engineer - Jason Boland, Background Vocal - Kodaline, Vocal Producer, FeaturedArtist, AssociatedPerformer - Shaun Frank, AdditionalStudioProducer - Steve Garrigan, Composer, Lyricist, Background Vocal, Vocal - Mark Prendergast, Background Vocal - James Newman, Composer, Lyricist - Vinny May, Background Vocal - Sigala, Composer, Lyricist, Producer, Engineer, Programmer, MainArtist, AssociatedPerformer, Background Vocal - Alexander Healey, AdditionalStudioProducer - Paul Whalley, Guitar - Moon Willis, Composer, Lyricist - Sigala feat. Kodaline, AssociatedPerformer', 'audio_info': {'replaygain_track_peak': 0.893585, 'replaygain_track_gain': -10.31}, 'performer': {'name': 'Sigala', 'id': 2199202}, 'work': None, 'composer': {'name': 'Sigala', 'id': 2199202}, 'isrc': 'GBCEN1800100', 'title': 'All for Love', 'version': None, 'duration': 223, 'parental_warning': False, 'track_number': 14, 'maximum_channel_count': 2, 'id': 50586635, 'media_number': 1, 'maximum_sampling_rate': 44.1, 'release_date_original': None, 'release_date_download': None, 'release_date_stream': None, 'purchasable': True, 'streamable': False, 'previewable': True, 'sampleable': True, 'downloadable': True, 'displayable': True, 'purchasable_at': 1682146800, 'streamable_at': 1682060400, 'hires': True, 'hires_streamable': False}, {'maximum_bit_depth': 24, 'copyright': '(P) 2016 Ministry of Sound Recordings Limited', 'performers': 'Hal Ritson, Programmer - Dipesh Parmar, Programmer - The Invisible Men, Co-Producer - DJ Fresh, FeaturedArtist, AssociatedPerformer - George Astasio, Composer, Lyricist - Jason Pebworth, Composer, Lyricist - Jon Shave, Composer, Lyricist - Daniel Stein, Composer, Lyricist, Co-Producer - Grace Tither, Background Vocal - Wez Clarke, Programmer, Mixing Engineer - Penny Foster, Composer, Lyricist - Sigala, MainArtist, AssociatedPerformer - Bruce Fielder, Composer, Lyricist, Producer, Keyboards, Programmer - Imani Williams, Composer, Lyricist, FeaturedArtist, AssociatedPerformer - Milly McGregor, Strings - Stu Clarke, Mastering Engineer - Sigala feat. Imani Williams & DJ Fresh, AssociatedPerformer', 'audio_info': {'replaygain_track_peak': 0.890045, 'replaygain_track_gain': -10.87}, 'performer': {'name': 'Sigala', 'id': 2199202}, 'work': None, 'composer': {'name': 'Imani Williams', 'id': 2591403}, 'isrc': 'GBCEN1600004', 'title': 'Say You Do', 'version': None, 'duration': 202, 'parental_warning': False, 'track_number': 15, 'maximum_channel_count': 2, 'id': 50586636, 'media_number': 1, 'maximum_sampling_rate': 44.1, 'release_date_original': None, 'release_date_download': None, 'release_date_stream': None, 'purchasable': True, 'streamable': False, 'previewable': True, 'sampleable': True, 'downloadable': True, 'displayable': True, 'purchasable_at': 1682146800, 'streamable_at': 1682060400, 'hires': True, 'hires_streamable': False}, {'maximum_bit_depth': 24, 'copyright': '(P) 2015 Ministry of Sound Recordings Limited', 'performers': 'Deke Richards, Composer, Lyricist - Alphonso Mizell, Composer, Lyricist - Hal Ritson, Producer, Programmer - Freddie Perren, Composer, Lyricist - Richard Adlam, Programmer - Vula Malinga, Vocal - Kyle Johnson, Vocal - Nick Bennett, Mastering Engineer - Barry Gordy, Composer, Lyricist - Sigala, Producer, Mixing Engineer, MainArtist, AssociatedPerformer', 'audio_info': {'replaygain_track_peak': 0.884247, 'replaygain_track_gain': -10.42}, 'performer': {'name': 'Sigala', 'id': 2199202}, 'work': None, 'composer': {'name': 'Barry Gordy', 'id': 1359197}, 'isrc': 'GBCEN1500481', 'title': 'Easy Love', 'version': None, 'duration': 227, 'parental_warning': False, 'track_number': 16, 'maximum_channel_count': 2, 'id': 50586637, 'media_number': 1, 'maximum_sampling_rate': 44.1, 'release_date_original': None, 'release_date_download': None, 'release_date_stream': None, 'purchasable': True, 'streamable': False, 'previewable': True, 'sampleable': True, 'downloadable': True, 'displayable': True, 'purchasable_at': 1682146800, 'streamable_at': 1682060400, 'hires': True, 'hires_streamable': False}]}\n",
      "description: \n"
     ]
    }
   ],
   "source": [
    "session = qobuz.Session(authenticate=False)\n",
    "album = session.get_album(album_id)\n",
    "for key, value in album.items():\n",
    "    print(key, value, sep=\": \")"
   ]
  }
 ],
 "metadata": {
  "kernelspec": {
   "display_name": "Python 3",
   "language": "python",
   "name": "python3"
  },
  "language_info": {
   "codemirror_mode": {
    "name": "ipython",
    "version": 3
   },
   "file_extension": ".py",
   "mimetype": "text/x-python",
   "name": "python",
   "nbconvert_exporter": "python",
   "pygments_lexer": "ipython3",
   "version": "3.9.16"
  }
 },
 "nbformat": 4,
 "nbformat_minor": 4
}
