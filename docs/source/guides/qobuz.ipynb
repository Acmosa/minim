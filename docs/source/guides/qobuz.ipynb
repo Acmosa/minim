{
 "cells": [
  {
   "attachments": {},
   "cell_type": "markdown",
   "metadata": {
    "tags": []
   },
   "source": [
    "# Using the Qobuz API (`minim.qobuz`)\n",
    "\n",
    "**Last updated**: June 12, 2023"
   ]
  },
  {
   "cell_type": "code",
   "execution_count": 1,
   "metadata": {},
   "outputs": [],
   "source": [
    "from copy import deepcopy\n",
    "import os\n",
    "import pathlib\n",
    "import sys\n",
    "\n",
    "from IPython.display import display\n",
    "import ipywidgets\n",
    "\n",
    "sys.path.insert(0, f\"{pathlib.Path(os.getcwd()).parents[2].resolve()}/src\")\n",
    "# The second argument above should be replaced with the path where you downloaded Minim.\n",
    "from minim import qobuz"
   ]
  },
  {
   "attachments": {},
   "cell_type": "markdown",
   "metadata": {},
   "source": [
    "## Getting started\n",
    "\n",
    "The `minim.qobuz` submodule offers procedural and object-oriented approaches to use the Qobuz API:\n",
    "\n",
    "* The `minim.qobuz.Session` class, which is targeted at developers and experienced programmers, implements the Qobuz API exactly on top of the `requests` library. There are no bells and whistles; responses from API calls, if any, are in JavaScript Object Notation (JSON) format, and data extraction from or wrangling of the JSON data is done solely by the user.\n",
    "\n",
    "* The `minim.qobuz.Album`, `minim.qobuz.Artist`, `minim.qobuz.Label`, `minim.qobuz.Playlist`, `minim.qobuz.Track`, and `minim.qobuz.User` classes are more user-friendly and are meant for beginners or hobbyists. Instead of having the user make API calls directly and deal with unpacking the JSON responses, these classes do all the heavy lifting and store the information returned by the API in instance attributes that have simple, logical names and are well-documented.\n",
    "\n",
    "Regardless of which approach above you choose, it is recommended that you have a Qobuz account and, preferably, a Qobuz streaming plan to get access to all the API endpoints.\n",
    "\n",
    "## As a first example\n",
    "\n",
    "To compare the procedural and object-oriented approaches and as a first introductory example, let's search for and output basic information about the track \"Post Malone (feat. RANI)\" by Sam Feldt.\n",
    "\n",
    "### Procedural approach\n",
    "\n",
    "First, we create a `qobuz.Session` object without user authentication:"
   ]
  },
  {
   "cell_type": "code",
   "execution_count": 2,
   "metadata": {},
   "outputs": [
    {
     "name": "stdout",
     "output_type": "stream",
     "text": [
      "Qobuz API: not logged in\n"
     ]
    }
   ],
   "source": [
    "session_guest = qobuz.Session(authenticate=False)\n",
    "print(session_guest)"
   ]
  },
  {
   "attachments": {},
   "cell_type": "markdown",
   "metadata": {},
   "source": [
    "As expected, the string representation of the `qobuz.Session` object confirms that no user authentication was performed. A consequence is that certain API endpoints are unavailable since they require either the user to be logged in or have an active Qobuz streaming plan.\n",
    "\n",
    "Then, we search for tracks (or releases) with titles containing the phrase \"Post Malone\". For brevity, we limit our search results to only five items. The search results are in JSON format, with the first layer specifying the media type (`\"albums\"`, `\"artists\"`, `\"tracks\"`, etc.) and the second the number of results for that media type and Qobuz catalog information for each match. We can preview the raw data for each track by iterating:"
   ]
  },
  {
   "cell_type": "code",
   "execution_count": 3,
   "metadata": {
    "tags": [
     "hide-output"
    ]
   },
   "outputs": [
    {
     "name": "stdout",
     "output_type": "stream",
     "text": [
      "{'maximum_bit_depth': 16, 'copyright': '© 2019 SpinninRecords.com ℗ 2019 SpinninRecords.com', 'performers': 'Rani, FeaturedArtist - Roxanne Emery, Writer - Jordan Schultz, Masterer - Sam Feldt, Programmer, MainArtist - Sammy Renders, Writer - Dominic Lyttle, Mixer, Writer - Jonas Kröper, Writer - Shannon Hilversum, Writer', 'audio_info': {'replaygain_track_peak': 1, 'replaygain_track_gain': -10.44}, 'performer': {'name': 'Sam Feldt', 'id': 1829176}, 'album': {'image': {'small': 'https://static.qobuz.com/images/covers/cc/09/tfjs3torp09cc_230.jpg', 'thumbnail': 'https://static.qobuz.com/images/covers/cc/09/tfjs3torp09cc_50.jpg', 'large': 'https://static.qobuz.com/images/covers/cc/09/tfjs3torp09cc_600.jpg'}, 'maximum_bit_depth': 16, 'media_count': 1, 'artist': {'image': None, 'name': 'Sam Feldt', 'id': 1829176, 'albums_count': 245, 'slug': 'sam-feldt', 'picture': None}, 'upc': '0190295418267', 'released_at': 1558648800, 'label': {'name': \"Spinnin' Records\", 'id': 190680, 'albums_count': 4810, 'supplier_id': 5, 'slug': 'spinnin-records-4'}, 'title': 'Magnets EP', 'qobuz_id': 61947435, 'version': None, 'duration': 873, 'parental_warning': True, 'tracks_count': 5, 'popularity': 0, 'genre': {'path': [64, 129], 'color': '#0070ef', 'name': 'Dance', 'id': 129, 'slug': 'dance'}, 'maximum_channel_count': 2, 'id': 'tfjs3torp09cc', 'maximum_sampling_rate': 44.1, 'previewable': True, 'sampleable': True, 'displayable': True, 'streamable': False, 'streamable_at': 1685170800, 'downloadable': False, 'purchasable_at': None, 'purchasable': False, 'release_date_original': '2019-05-24', 'release_date_download': '2019-05-24', 'release_date_stream': '2019-05-24', 'release_date_purchase': '2019-05-24', 'hires': False, 'hires_streamable': False}, 'work': None, 'isrc': 'NLZ541900734', 'title': 'Post Malone (feat. RANI)', 'version': None, 'duration': 174, 'parental_warning': False, 'track_number': 5, 'maximum_channel_count': 2, 'id': 61947440, 'media_number': 1, 'maximum_sampling_rate': 44.1, 'release_date_original': None, 'release_date_download': None, 'release_date_stream': None, 'release_date_purchase': None, 'purchasable': False, 'streamable': False, 'previewable': True, 'sampleable': True, 'downloadable': False, 'displayable': True, 'purchasable_at': None, 'streamable_at': 1685170800, 'hires': False, 'hires_streamable': False}\n",
      "{'maximum_bit_depth': 16, 'copyright': '(C) 2022 Dacian Records (P) 2022 Dacian Records', 'performers': 'Rowan Duy, Composer, MainArtist', 'audio_info': {'replaygain_track_peak': 1, 'replaygain_track_gain': -7.89}, 'performer': {'name': 'Rowan Duy', 'id': 9128287}, 'album': {'image': {'small': 'https://static.qobuz.com/images/covers/db/p3/b2vw30fslp3db_230.jpg', 'thumbnail': 'https://static.qobuz.com/images/covers/db/p3/b2vw30fslp3db_50.jpg', 'large': 'https://static.qobuz.com/images/covers/db/p3/b2vw30fslp3db_600.jpg'}, 'maximum_bit_depth': 16, 'media_count': 1, 'artist': {'image': None, 'name': 'Rowan Duy', 'id': 9128287, 'albums_count': 2, 'slug': 'rowan-duy', 'picture': None}, 'upc': '5059366917311', 'released_at': 1576018800, 'label': {'name': 'Dacian Records', 'id': 3789520, 'albums_count': 0, 'supplier_id': 17, 'slug': 'dacian-records-1'}, 'title': 'Night Changes', 'qobuz_id': 171527867, 'version': None, 'duration': 510, 'parental_warning': False, 'tracks_count': 3, 'popularity': 0, 'genre': {'path': [112, 117], 'color': '#0070ef', 'name': 'Pop', 'id': 117, 'slug': 'pop'}, 'maximum_channel_count': 2, 'id': 'b2vw30fslp3db', 'maximum_sampling_rate': 44.1, 'previewable': True, 'sampleable': True, 'displayable': True, 'streamable': False, 'streamable_at': 1664780400, 'downloadable': False, 'purchasable_at': None, 'purchasable': False, 'release_date_original': '2019-12-11', 'release_date_download': '2019-12-11', 'release_date_stream': '2019-12-11', 'release_date_purchase': '2019-12-11', 'hires': False, 'hires_streamable': False}, 'work': None, 'composer': {'name': 'Rowan Duy', 'id': 9128287}, 'isrc': 'GBSMU7294232', 'title': 'Post Malone', 'version': None, 'duration': 217, 'parental_warning': False, 'track_number': 3, 'maximum_channel_count': 2, 'id': 171527870, 'media_number': 1, 'maximum_sampling_rate': 44.1, 'release_date_original': None, 'release_date_download': None, 'release_date_stream': None, 'release_date_purchase': None, 'purchasable': True, 'streamable': False, 'previewable': True, 'sampleable': True, 'downloadable': True, 'displayable': True, 'purchasable_at': 1664780400, 'streamable_at': 1664780400, 'hires': False, 'hires_streamable': False}\n",
      "{'maximum_bit_depth': 16, 'copyright': \"© 2019 Spinnin' Remixes / SpinninRecords.com ℗ 2019 SpinninRecords.com\", 'performers': 'Rani, FeaturedArtist - Roxanne Emery, Writer - Jordan Schultz, Masterer - Sam Feldt, Programmer, MainArtist - Sammy Renders, Writer - Dominic Lyttle, Mixer, Writer - Jonas Kröper, Writer - Shannon Hilversum, Writer', 'audio_info': {'replaygain_track_peak': 1, 'replaygain_track_gain': -10.44}, 'performer': {'name': 'Sam Feldt', 'id': 1829176}, 'album': {'image': {'small': 'https://static.qobuz.com/images/covers/la/xn/mf8xmz1myxnla_230.jpg', 'thumbnail': 'https://static.qobuz.com/images/covers/la/xn/mf8xmz1myxnla_50.jpg', 'large': 'https://static.qobuz.com/images/covers/la/xn/mf8xmz1myxnla_600.jpg'}, 'maximum_bit_depth': 16, 'media_count': 1, 'artist': {'image': None, 'name': 'Sam Feldt', 'id': 1829176, 'albums_count': 245, 'slug': 'sam-feldt', 'picture': None}, 'upc': '0190295365875', 'released_at': 1565906400, 'label': {'name': \"Spinnin' Remixes\", 'id': 199736, 'albums_count': 339, 'supplier_id': 5, 'slug': 'spinninremixes'}, 'title': 'Post Malone (feat. RANI) ', 'qobuz_id': 67032867, 'version': 'Joe Stone Remix', 'duration': 347, 'parental_warning': False, 'tracks_count': 2, 'popularity': 0, 'genre': {'path': [64, 129], 'color': '#0070ef', 'name': 'Dance', 'id': 129, 'slug': 'dance'}, 'maximum_channel_count': 2, 'id': 'mf8xmz1myxnla', 'maximum_sampling_rate': 44.1, 'previewable': True, 'sampleable': True, 'displayable': True, 'streamable': False, 'streamable_at': 1685170800, 'downloadable': False, 'purchasable_at': None, 'purchasable': False, 'release_date_original': '2019-08-16', 'release_date_download': '2019-08-16', 'release_date_stream': '2019-08-16', 'release_date_purchase': '2019-08-16', 'hires': False, 'hires_streamable': False}, 'work': None, 'isrc': 'NLZ541900734', 'title': 'Post Malone (feat. RANI)', 'version': None, 'duration': 174, 'parental_warning': False, 'track_number': 2, 'maximum_channel_count': 2, 'id': 67032869, 'media_number': 1, 'maximum_sampling_rate': 44.1, 'release_date_original': None, 'release_date_download': None, 'release_date_stream': None, 'release_date_purchase': None, 'purchasable': False, 'streamable': False, 'previewable': True, 'sampleable': True, 'downloadable': False, 'displayable': True, 'purchasable_at': None, 'streamable_at': 1685170800, 'hires': False, 'hires_streamable': False}\n",
      "{'maximum_bit_depth': 16, 'copyright': \"© 2019 Spinnin' Remixes / SpinninRecords.com ℗ 2019 Spinnin' Remixes / SpinninRecords.com\", 'performers': 'Rani, FeaturedArtist - Roxanne Emery, Writer - Jordan Schultz, Masterer - Sam Feldt, Programmer, MainArtist - Sammy Renders, Writer - Vize, Remixer - Dominic Lyttle, Mixer, Writer - Jonas Kröper, Writer - Shannon Hilversum, Writer', 'audio_info': {'replaygain_track_peak': 0.977386, 'replaygain_track_gain': -10.47}, 'performer': {'name': 'Sam Feldt', 'id': 1829176}, 'album': {'image': {'small': 'https://static.qobuz.com/images/covers/ta/ne/rizkphdh9neta_230.jpg', 'thumbnail': 'https://static.qobuz.com/images/covers/ta/ne/rizkphdh9neta_50.jpg', 'large': 'https://static.qobuz.com/images/covers/ta/ne/rizkphdh9neta_600.jpg'}, 'maximum_bit_depth': 16, 'media_count': 1, 'artist': {'image': None, 'name': 'Sam Feldt', 'id': 1829176, 'albums_count': 245, 'slug': 'sam-feldt', 'picture': None}, 'upc': '0190295358273', 'released_at': 1568239200, 'label': {'name': \"Spinnin' Remixes\", 'id': 199736, 'albums_count': 339, 'supplier_id': 5, 'slug': 'spinninremixes'}, 'title': 'Post Malone (feat. RANI) ', 'qobuz_id': 71150651, 'version': 'VIZE Remix', 'duration': 154, 'parental_warning': False, 'tracks_count': 1, 'popularity': 0, 'genre': {'path': [64, 129], 'color': '#0070ef', 'name': 'Dance', 'id': 129, 'slug': 'dance'}, 'maximum_channel_count': 2, 'id': 'rizkphdh9neta', 'maximum_sampling_rate': 44.1, 'previewable': True, 'sampleable': True, 'displayable': True, 'streamable': False, 'streamable_at': 1685170800, 'downloadable': False, 'purchasable_at': None, 'purchasable': False, 'release_date_original': '2019-09-12', 'release_date_download': '2019-09-12', 'release_date_stream': '2019-09-12', 'release_date_purchase': '2019-09-12', 'hires': False, 'hires_streamable': False}, 'work': None, 'isrc': 'NLZ541901329', 'title': 'Post Malone (feat. RANI) ', 'version': 'VIZE Remix', 'duration': 154, 'parental_warning': False, 'track_number': 1, 'maximum_channel_count': 2, 'id': 71150652, 'media_number': 1, 'maximum_sampling_rate': 44.1, 'release_date_original': None, 'release_date_download': None, 'release_date_stream': None, 'release_date_purchase': None, 'purchasable': True, 'streamable': False, 'previewable': True, 'sampleable': True, 'downloadable': True, 'displayable': True, 'purchasable_at': 1685257200, 'streamable_at': 1685170800, 'hires': False, 'hires_streamable': False}\n",
      "{'maximum_bit_depth': 16, 'copyright': \"© 2019 Spinnin' Remixes / SpinninRecords.com ℗ 2019 Spinnin' Remixes / SpinninRecords.com\", 'performers': 'Joe Stone, Remixer - Rani, FeaturedArtist - Roxanne Emery, Writer - Jordan Schultz, Masterer - Sam Feldt, Programmer, MainArtist - Sammy Renders, Writer - Dominic Lyttle, Mixer, Writer - Jonas Kröper, Writer - Shannon Hilversum, Writer', 'audio_info': {'replaygain_track_peak': 0.999908, 'replaygain_track_gain': -12.48}, 'performer': {'name': 'Sam Feldt', 'id': 1829176}, 'album': {'image': {'small': 'https://static.qobuz.com/images/covers/2a/ph/dj4yr6lj5ph2a_230.jpg', 'thumbnail': 'https://static.qobuz.com/images/covers/2a/ph/dj4yr6lj5ph2a_50.jpg', 'large': 'https://static.qobuz.com/images/covers/2a/ph/dj4yr6lj5ph2a_600.jpg'}, 'maximum_bit_depth': 16, 'media_count': 1, 'artist': {'image': None, 'name': 'Sam Feldt', 'id': 1829176, 'albums_count': 245, 'slug': 'sam-feldt', 'picture': None}, 'upc': '0190295352714', 'released_at': 1569535200, 'label': {'name': \"Spinnin' Remixes\", 'id': 199736, 'albums_count': 339, 'supplier_id': 5, 'slug': 'spinninremixes'}, 'title': 'Post Malone (feat. RANI) ', 'qobuz_id': 73658304, 'version': 'The Remixes', 'duration': 2014, 'parental_warning': False, 'tracks_count': 11, 'popularity': 0, 'genre': {'path': [64, 129], 'color': '#0070ef', 'name': 'Dance', 'id': 129, 'slug': 'dance'}, 'maximum_channel_count': 2, 'id': 'dj4yr6lj5ph2a', 'maximum_sampling_rate': 44.1, 'previewable': True, 'sampleable': True, 'displayable': True, 'streamable': False, 'streamable_at': 1685170800, 'downloadable': False, 'purchasable_at': None, 'purchasable': False, 'release_date_original': '2019-09-27', 'release_date_download': '2019-09-27', 'release_date_stream': '2019-09-27', 'release_date_purchase': '2019-09-27', 'hires': False, 'hires_streamable': False}, 'work': None, 'isrc': 'NLZ541901234', 'title': 'Post Malone (feat. RANI) ', 'version': 'Joe Stone Remix', 'duration': 173, 'parental_warning': False, 'track_number': 8, 'maximum_channel_count': 2, 'id': 73658312, 'media_number': 1, 'maximum_sampling_rate': 44.1, 'release_date_original': None, 'release_date_download': None, 'release_date_stream': None, 'release_date_purchase': None, 'purchasable': True, 'streamable': False, 'previewable': True, 'sampleable': True, 'downloadable': True, 'displayable': True, 'purchasable_at': 1685257200, 'streamable_at': 1685170800, 'hires': False, 'hires_streamable': False}\n"
     ]
    }
   ],
   "source": [
    "search_results = session_guest.search(\"Post Malone\", \"ReleaseName\", strict=True, limit=5)\n",
    "for track in search_results[\"tracks\"][\"items\"]:\n",
    "    print(track)"
   ]
  },
  {
   "attachments": {},
   "cell_type": "markdown",
   "metadata": {},
   "source": [
    "The first search result is the track we are looking for. We can extract the key details of the track by traversing through the `dict` containing the Qobuz catalog information for that track:"
   ]
  },
  {
   "cell_type": "code",
   "execution_count": 4,
   "metadata": {},
   "outputs": [
    {
     "name": "stdout",
     "output_type": "stream",
     "text": [
      "Title: Post Malone (feat. RANI)\n",
      "Artist: Sam Feldt\n",
      "Album: Magnets EP\n",
      "Genre: Dance\n",
      "Release date: None\n"
     ]
    }
   ],
   "source": [
    "track_json_ex = search_results[\"tracks\"][\"items\"][0]\n",
    "print(f\"Title: {track_json_ex['title']}\")\n",
    "print(f\"Artist: {track_json_ex['performer']['name']}\")\n",
    "print(f\"Album: {track_json_ex['album']['title']}\")\n",
    "print(f\"Genre: {track_json_ex['album']['genre']['name']}\")\n",
    "print(f\"Release date: {track['release_date_original']}\")"
   ]
  },
  {
   "attachments": {},
   "cell_type": "markdown",
   "metadata": {},
   "source": [
    "In some instances, the release date information is unavailable and will be `None`.\n",
    "\n",
    "Now, let's get the producing and songwriting credits for the track:"
   ]
  },
  {
   "cell_type": "code",
   "execution_count": 5,
   "metadata": {},
   "outputs": [
    {
     "name": "stdout",
     "output_type": "stream",
     "text": [
      "Mixer(s): Dominic Lyttle\n",
      "Programmer(s): Sam Feldt\n",
      "Masterer(s): Jordan Schultz\n",
      "Writer(s): Roxanne Emery, Sammy Renders, Dominic Lyttle, Jonas Kröper, Shannon Hilversum\n",
      "Main Artist(s): Sam Feldt\n",
      "Featured Artist(s): Rani\n"
     ]
    }
   ],
   "source": [
    "credits = session_guest.get_track_credits(performers=track_json_ex[\"performers\"])\n",
    "for role, artists in credits.items():\n",
    "    print(f\"{' '.join(role.split('_')).title()}(s): {', '.join(artists)}\")"
   ]
  },
  {
   "attachments": {},
   "cell_type": "markdown",
   "metadata": {},
   "source": [
    "What if we are building an application or widget to stream audio? We can get the URL of the track's stream using the track's Qobuz ID:"
   ]
  },
  {
   "cell_type": "code",
   "execution_count": 6,
   "metadata": {},
   "outputs": [
    {
     "name": "stderr",
     "output_type": "stream",
     "text": [
      "Warning: No user authentication or Qobuz streaming plan detected. The URL will lead to a 30-second preview of the track."
     ]
    },
    {
     "name": "stdout",
     "output_type": "stream",
     "text": [
      "https://streaming-qobuz-std.akamaized.net/file?eid=61947440&fmt=6&profile=raw&range=20-30&app_id=950096963&etsp=1696815449&hmac=tfhq4kPN9_msGhG8T4PmNhcgH8c\n"
     ]
    }
   ],
   "source": [
    "print(session_guest.get_track_file_url(track_json_ex[\"id\"])[\"url\"])"
   ]
  },
  {
   "attachments": {},
   "cell_type": "markdown",
   "metadata": {},
   "source": [
    "Whoops! Because we didn't log into a Qobuz account with an active Qobuz streaming plan previously, we only got the 30-second preview of the track instead of the full audio. Let's authenticate ourselves using `qobuz.Session.login()` and try again. "
   ]
  },
  {
   "attachments": {},
   "cell_type": "markdown",
   "metadata": {},
   "source": [
    ":::{note}\n",
    "For the purposes of this tutorial, we will make a copy of the unauthenticated `qobuz.Session` object since we will reuse it in the upcoming sections. This is not necessary in normal use.\n",
    ":::"
   ]
  },
  {
   "attachments": {},
   "cell_type": "markdown",
   "metadata": {},
   "source": [
    ":::{note}\n",
    "No parameters are passed to `qobuz.Session.login()` below because an Qobuz user authentication token was found in my operating system's environment variable `QOBUZ_USER_AUTH_TOKEN`. If you have not stored user credentials or an authorization token in your OS's environment variables, you can pass either the `auth_token` argument or the `email` and `password` arguments to `qobuz.\n",
    ":::"
   ]
  },
  {
   "cell_type": "code",
   "execution_count": 7,
   "metadata": {
    "tags": [
     "remove-output"
    ]
   },
   "outputs": [],
   "source": [
    "session = deepcopy(session_guest)\n",
    "session.login()\n",
    "stream_url = session.get_track_file_url(track_json_ex[\"id\"])[\"url\"]"
   ]
  },
  {
   "attachments": {},
   "cell_type": "markdown",
   "metadata": {},
   "source": [
    ":::{seealso}\n",
    "We can also get the track's audio stream directly as a `bytes` object. See the [Working with tracks](#working-with-tracks) section below for more information.\n",
    ":::"
   ]
  },
  {
   "attachments": {},
   "cell_type": "markdown",
   "metadata": {},
   "source": [
    "### Object-oriented approach\n",
    "\n",
    "First, we create a `qobuz.User` object without user authentication:"
   ]
  },
  {
   "cell_type": "code",
   "execution_count": 8,
   "metadata": {},
   "outputs": [
    {
     "name": "stdout",
     "output_type": "stream",
     "text": [
      "Qobuz user: not logged in\n"
     ]
    }
   ],
   "source": [
    "user_guest = qobuz.User(authenticate=False)\n",
    "print(user_guest)"
   ]
  },
  {
   "attachments": {},
   "cell_type": "markdown",
   "metadata": {},
   "source": [
    "As expected, the string representation of the `qobuz.User` object confirms that no user authentication was performed."
   ]
  },
  {
   "attachments": {},
   "cell_type": "markdown",
   "metadata": {},
   "source": [
    ":::{note}\n",
    "All objects spawned by the `qobuz.User` object shares the same Qobuz session information. Therefore, a `qobuz.Track` object created by the `qobuz.User` object above will also not be able to access information that requires user authentication. However, should the `qobuz.User` object be authenticated via `qobuz.User.login()`, the `qobuz.Track` object would also be authenticated.\n",
    ":::"
   ]
  },
  {
   "attachments": {},
   "cell_type": "markdown",
   "metadata": {},
   "source": [
    "Like before, we search for tracks with titles containing the phrase \"Post Malone\", but now limit our search results to only five items. The search results are still contained in a `dict`, with the first key specifying the media type (`\"albums\"`, `\"artists\"`, `\"tracks\"`, etc.). However, the value corresponding to the `\"tracks\"` key is now a `list` of `minim.qobuz.Track` objects, each fully populated with that track's information."
   ]
  },
  {
   "cell_type": "code",
   "execution_count": 9,
   "metadata": {},
   "outputs": [
    {
     "name": "stdout",
     "output_type": "stream",
     "text": [
      "Qobuz track: 'Post Malone (feat. RANI)' [artist: Sam Feldt, album: Magnets EP]\n",
      "Qobuz track: 'Post Malone' [artist: Rowan Duy, album: Night Changes]\n",
      "Qobuz track: 'Post Malone (feat. RANI)' [artist: Sam Feldt, album: Post Malone (feat. RANI) [Joe Stone Remix]]\n",
      "Qobuz track: 'Post Malone (feat. RANI) [VIZE Remix]' [artist: Sam Feldt, album: Post Malone (feat. RANI) [VIZE Remix]]\n",
      "Qobuz track: 'Post Malone (feat. RANI) [Joe Stone Remix]' [artist: Sam Feldt, album: Post Malone (feat. RANI) [The Remixes]]\n"
     ]
    }
   ],
   "source": [
    "search_results = user_guest.search(\"Post Malone\", \"ReleaseName\", strict=True, limit=5)\n",
    "for track in search_results[\"tracks\"]:\n",
    "    print(track)"
   ]
  },
  {
   "attachments": {},
   "cell_type": "markdown",
   "metadata": {},
   "source": [
    "With human-readable string representations of each track, it is easy to see that the first search result is the track we are looking for. We can extract the key details of the track by getting instance attributes of the `minim.qobuz.Track` object:"
   ]
  },
  {
   "cell_type": "code",
   "execution_count": 10,
   "metadata": {},
   "outputs": [
    {
     "name": "stdout",
     "output_type": "stream",
     "text": [
      "Title: Post Malone (feat. RANI)\n",
      "Artist: Sam Feldt\n",
      "Album: Magnets EP\n",
      "Genre: Dance\n",
      "Release date: None\n"
     ]
    }
   ],
   "source": [
    "track_obj_ex = search_results[\"tracks\"][0]\n",
    "print(f\"Title: {track_obj_ex.title}\")\n",
    "print(f\"Artist: {track_obj_ex.main_artist.name}\")\n",
    "print(f\"Album: {track_obj_ex.album.title}\")\n",
    "print(f\"Genre: {track_obj_ex.album.genre}\")\n",
    "print(f\"Release date: {track_obj_ex.release_date}\")"
   ]
  },
  {
   "attachments": {},
   "cell_type": "markdown",
   "metadata": {},
   "source": [
    "Now, all data in the `minim.qobuz.Track` object is human-readable, even those dealing with datetimes. Furthermore, the producing and songwriting credits for the track are already embedded in the `minim.qobuz.Track` object:"
   ]
  },
  {
   "cell_type": "code",
   "execution_count": 11,
   "metadata": {},
   "outputs": [
    {
     "name": "stdout",
     "output_type": "stream",
     "text": [
      "Mixer(s): Dominic Lyttle\n",
      "Programmer(s): Sam Feldt\n",
      "Masterer(s): Jordan Schultz\n",
      "Writer(s): Roxanne Emery, Sammy Renders, Dominic Lyttle, Jonas Kröper, Shannon Hilversum\n",
      "Main Artist(s): Sam Feldt\n",
      "Featured Artist(s): Rani\n"
     ]
    }
   ],
   "source": [
    "for role, artists in track_obj_ex.credits.items():\n",
    "    print(f\"{' '.join(role.split('_')).title()}(s): {', '.join(artists)}\")"
   ]
  },
  {
   "attachments": {},
   "cell_type": "markdown",
   "metadata": {},
   "source": [
    "Getting the audio stream data no longer requires knowledge of the track ID:"
   ]
  },
  {
   "cell_type": "code",
   "execution_count": 12,
   "metadata": {},
   "outputs": [
    {
     "name": "stdout",
     "output_type": "stream",
     "text": [
      "https://streaming-qobuz-std.akamaized.net/file?eid=61947440&fmt=6&profile=raw&range=20-30&app_id=950096963&etsp=1696815463&hmac=pXtIge3H9AR2H79RljwiXFmg2JI\n"
     ]
    }
   ],
   "source": [
    "track_obj_ex.get_file_url()\n",
    "print(track_obj_ex.file_url)"
   ]
  },
  {
   "attachments": {},
   "cell_type": "markdown",
   "metadata": {},
   "source": [
    "Oops, forgot about user authentication again. This time, we authenticate using `minim.Qobuz.User.login()` instead."
   ]
  },
  {
   "attachments": {},
   "cell_type": "markdown",
   "metadata": {},
   "source": [
    ":::{note}\n",
    "For the purposes of this tutorial, we will make a copy of the unauthenticated `qobuz.User` object since we will reuse it in the upcoming sections. This is not necessary in normal use.\n",
    ":::"
   ]
  },
  {
   "cell_type": "code",
   "execution_count": 13,
   "metadata": {
    "tags": [
     "remove-output"
    ]
   },
   "outputs": [],
   "source": [
    "user = deepcopy(user_guest)\n",
    "user.login()\n",
    "track_obj_ex.get_file_url()"
   ]
  },
  {
   "attachments": {},
   "cell_type": "markdown",
   "metadata": {},
   "source": [
    ":::{seealso}\n",
    "We can also get the track's audio stream directly as a `bytes` object. See the [Working with tracks](#working-with-tracks) section below for more information.\n",
    ":::"
   ]
  },
  {
   "attachments": {},
   "cell_type": "markdown",
   "metadata": {},
   "source": [
    "## Working with artists\n",
    "\n",
    "An artist is a person or group that performs, appears on, or contributed to an album or track. Every album, playlist, and track contains artist information in some form.\n",
    "\n",
    "In the following section, we will retrieve information about an artist (for which we know the Qobuz ID for) using both the procedural and object-oriented approaches. For this tutorial, we will focus on the Dutch EDM duo Sick Individuals."
   ]
  },
  {
   "cell_type": "code",
   "execution_count": 14,
   "metadata": {},
   "outputs": [],
   "source": [
    "artist_id = 764370"
   ]
  },
  {
   "attachments": {},
   "cell_type": "markdown",
   "metadata": {},
   "source": [
    "### Procedural approach\n",
    "\n",
    "First, we create a `qobuz.Session` object without user authentication and use it to retrieve Qobuz catalog information for the artist. To include albums, playlists, and tracks that the artist appears on, we pass `extras=[\"albums\", \"playlists\", \"tracks\"]` to `qobuz.Session.get_artist()`. For brevity, we limit our search results to only five items."
   ]
  },
  {
   "cell_type": "code",
   "execution_count": 15,
   "metadata": {
    "tags": [
     "hide-output"
    ]
   },
   "outputs": [
    {
     "name": "stdout",
     "output_type": "stream",
     "text": [
      "id: 764370\n",
      "name: Sick Individuals\n",
      "albums_as_primary_artist_count: 151\n",
      "albums_as_primary_composer_count: 0\n",
      "albums_count: 126\n",
      "slug: sick-individuals\n",
      "picture: None\n",
      "image: {'small': 'https://static.qobuz.com/images/artists/covers/small/7e0606708c0ef65462c5311fe81099de.jpg', 'medium': 'https://static.qobuz.com/images/artists/covers/medium/7e0606708c0ef65462c5311fe81099de.jpg', 'large': 'https://static.qobuz.com/images/artists/covers/large/7e0606708c0ef65462c5311fe81099de.jpg', 'extralarge': 'https://static.qobuz.com/images/artists/covers/large/7e0606708c0ef65462c5311fe81099de.jpg', 'mega': 'https://static.qobuz.com/images/artists/covers/large/7e0606708c0ef65462c5311fe81099de.jpg'}\n",
      "similar_artist_ids: [67661, 97536, 725598, 2103126, 301564, 720916, 955835, 1171943, 798810, 974660, 1048406]\n",
      "information: None\n",
      "biography: {'summary': 'Dutch EDM duo Sick Individuals write boisterous, catchy dance tunes equally suited for festivals and the radio. The duo consists of Joep Smeele and Rinze Hofstee, who met in 2008 while studying music composition. Both individuals already had experience penning music for commercials, but they bonded over a mutual love for acts like Daft Punk and Swedish House Mafia, and decided to make dance music together. Sick Individuals began releasing...', 'content': 'Dutch EDM duo Sick Individuals write boisterous, catchy dance tunes equally suited for festivals and the radio. The duo consists of Joep Smeele and Rinze Hofstee, who met in 2008 while studying music composition. Both individuals already had experience penning music for commercials, but they bonded over a mutual love for acts like Daft Punk and Swedish House Mafia, and decided to make dance music together. Sick Individuals began releasing original tracks on Sneakerz Muzik in 2010, and were initially more prolific as remixers, with clients including Flo Rida, Nicky Romero, and Freestylers. Their mix of Icona Pop\\'s 2012 smash hit \"I Love It\" was particularly well received, and the duo followed it with numerous singles on labels like Revealed Recordings, Axtone, Onelove, and Armada. Collaborations with Dannic (\"Blueprint\") and Axwell (\"I Am\") both topped charts of dance music retailer Beatport, and the duo remixed songs by Madonna, Rihanna, Lady Gaga, Avicii, and numerous other stars. Sick Individuals have also performed at several major EDM festivals, including Tomorrowland, Ultra, and Creamfields. They host a podcast series as well, titled This Is Sick, which is also the name of a CD Japanese label Avex Trax released in 2015, compiling some of the duo\\'s biggest tracks. In 2019, they issued the single \"Scars,\" featuring Cub Rayan.\\n<br />&copy  Paul Simpson /TiVo', 'source': 'Rovi', 'language': 'en'}\n",
      "albums: {'total': 126, 'offset': 0, 'limit': 5, 'items': [{'maximum_bit_depth': 24, 'image': {'small': 'https://static.qobuz.com/images/covers/oa/xh/ghse76swgxhoa_230.jpg', 'thumbnail': 'https://static.qobuz.com/images/covers/oa/xh/ghse76swgxhoa_50.jpg', 'large': 'https://static.qobuz.com/images/covers/oa/xh/ghse76swgxhoa_600.jpg', 'back': None}, 'media_count': 1, 'artist': {'image': None, 'name': 'Alesso', 'id': 569517, 'albums_count': 138, 'slug': 'alesso', 'picture': None}, 'artists': [{'id': 569517, 'name': 'Alesso', 'roles': ['main-artist']}, {'id': 764370, 'name': 'Sick Individuals', 'roles': ['main-artist']}], 'upc': '0602448643667', 'released_at': 1665698400, 'label': {'name': '10 22pm', 'id': 299065, 'albums_count': 25, 'supplier_id': 1, 'slug': '10-22pm'}, 'title': 'We Go Out', 'qobuz_id': 178612353, 'version': None, 'url': 'https://www.qobuz.com/fr-fr/album/we-go-out-alesso/ghse76swgxhoa', 'duration': 170, 'parental_warning': False, 'popularity': 0, 'tracks_count': 1, 'genre': {'path': [64, 129], 'color': '#5eabc1', 'name': 'Dance', 'id': 129, 'slug': 'dance'}, 'maximum_channel_count': 2, 'id': 'ghse76swgxhoa', 'maximum_sampling_rate': 44.1, 'articles': [], 'release_date_original': '2022-10-14', 'release_date_download': '2022-10-14', 'release_date_stream': '2022-10-14', 'purchasable': True, 'streamable': False, 'previewable': True, 'sampleable': True, 'downloadable': True, 'displayable': True, 'purchasable_at': 1683702000, 'streamable_at': 1683702000, 'hires': True, 'hires_streamable': False}, {'maximum_bit_depth': 24, 'image': {'small': 'https://static.qobuz.com/images/covers/ib/24/lpnva7f8t24ib_230.jpg', 'thumbnail': 'https://static.qobuz.com/images/covers/ib/24/lpnva7f8t24ib_50.jpg', 'large': 'https://static.qobuz.com/images/covers/ib/24/lpnva7f8t24ib_600.jpg', 'back': None}, 'media_count': 1, 'artist': {'image': None, 'name': 'THE RUNAWAY CLUB', 'id': 2132043, 'albums_count': 10, 'slug': 'the-runaway-club', 'picture': None}, 'artists': [{'id': 764370, 'name': 'Sick Individuals', 'roles': ['main-artist']}, {'id': 932269, 'name': 'Alle Farben', 'roles': ['main-artist']}, {'id': 2132043, 'name': 'THE RUNAWAY CLUB', 'roles': ['featured-artist']}], 'upc': '5054197536762', 'released_at': 1675378800, 'label': {'name': \"Spinnin' Records\", 'id': 190680, 'albums_count': 4815, 'supplier_id': 5, 'slug': 'spinnin-records-4'}, 'title': 'My Life (feat. The Runaway Club)', 'qobuz_id': 195405374, 'version': None, 'url': 'https://www.qobuz.com/fr-fr/album/my-life-feat-the-runaway-club-sick-individuals-x-alle-farben/lpnva7f8t24ib', 'duration': 140, 'parental_warning': False, 'popularity': 0, 'tracks_count': 1, 'genre': {'path': [64, 129], 'color': '#5eabc1', 'name': 'Dance', 'id': 129, 'slug': 'dance'}, 'maximum_channel_count': 2, 'id': 'lpnva7f8t24ib', 'maximum_sampling_rate': 44.1, 'articles': [], 'release_date_original': '2023-02-03', 'release_date_download': '2023-02-03', 'release_date_stream': '2023-02-03', 'purchasable': True, 'streamable': False, 'previewable': True, 'sampleable': True, 'downloadable': True, 'displayable': True, 'purchasable_at': 1685257200, 'streamable_at': 1685170800, 'hires': True, 'hires_streamable': False}, {'maximum_bit_depth': 24, 'image': {'small': 'https://static.qobuz.com/images/covers/qb/ee/wpncz5xxteeqb_230.jpg', 'thumbnail': 'https://static.qobuz.com/images/covers/qb/ee/wpncz5xxteeqb_50.jpg', 'large': 'https://static.qobuz.com/images/covers/qb/ee/wpncz5xxteeqb_600.jpg', 'back': None}, 'media_count': 1, 'artist': {'image': None, 'name': 'Hardwell', 'id': 532432, 'albums_count': 557, 'slug': 'hardwell', 'picture': None}, 'artists': [{'id': 532432, 'name': 'Hardwell', 'roles': ['main-artist']}, {'id': 301536, 'name': 'Amba Shepherd', 'roles': ['main-artist']}, {'id': 764370, 'name': 'Sick Individuals', 'roles': ['main-artist']}], 'upc': '7434007940930', 'released_at': 1621548000, 'label': {'name': 'Revealed Recordings', 'id': 157491, 'albums_count': 1396, 'supplier_id': 41, 'slug': 'revealed-recordings-1'}, 'title': 'Apollo', 'qobuz_id': 121631002, 'version': 'SICK INDIVIDUALS Remix', 'url': 'https://www.qobuz.com/fr-fr/album/apollo-hardwell-amba-shepherd-and-sick-individuals/wpncz5xxteeqb', 'duration': 213, 'parental_warning': False, 'popularity': 0, 'tracks_count': 1, 'genre': {'path': [64, 129], 'color': '#5eabc1', 'name': 'Dance', 'id': 129, 'slug': 'dance'}, 'maximum_channel_count': 2, 'id': 'wpncz5xxteeqb', 'maximum_sampling_rate': 44.1, 'articles': [], 'release_date_original': '2021-05-21', 'release_date_download': '2021-05-21', 'release_date_stream': '2021-05-21', 'purchasable': True, 'streamable': False, 'previewable': True, 'sampleable': True, 'downloadable': True, 'displayable': True, 'purchasable_at': 1688454000, 'streamable_at': 1688454000, 'hires': True, 'hires_streamable': False}, {'maximum_bit_depth': 16, 'image': {'small': 'https://static.qobuz.com/images/covers/ha/08/d1xidpjmu08ha_230.jpg', 'thumbnail': 'https://static.qobuz.com/images/covers/ha/08/d1xidpjmu08ha_50.jpg', 'large': 'https://static.qobuz.com/images/covers/ha/08/d1xidpjmu08ha_600.jpg', 'back': None}, 'media_count': 1, 'artist': {'image': None, 'name': 'Tungevaag', 'id': 2000138, 'albums_count': 87, 'slug': 'tungevaag', 'picture': None}, 'artists': [{'id': 2000138, 'name': 'Tungevaag', 'roles': ['main-artist']}, {'id': 764370, 'name': 'Sick Individuals', 'roles': ['main-artist']}, {'id': 2383854, 'name': 'Philip Strand', 'roles': ['main-artist']}], 'upc': '5054197171901', 'released_at': 1653602400, 'label': {'name': \"Spinnin' Records\", 'id': 190680, 'albums_count': 4815, 'supplier_id': 5, 'slug': 'spinnin-records-4'}, 'title': 'With My Friends', 'qobuz_id': 159478048, 'version': None, 'url': 'https://www.qobuz.com/fr-fr/album/with-my-friends-tungevaag-sick-individuals-philip-strand/d1xidpjmu08ha', 'duration': 146, 'parental_warning': False, 'popularity': 0, 'tracks_count': 1, 'genre': {'path': [64, 129], 'color': '#5eabc1', 'name': 'Dance', 'id': 129, 'slug': 'dance'}, 'maximum_channel_count': 2, 'id': 'd1xidpjmu08ha', 'maximum_sampling_rate': 44.1, 'articles': [], 'release_date_original': '2022-05-27', 'release_date_download': '2022-05-27', 'release_date_stream': '2022-05-27', 'purchasable': True, 'streamable': False, 'previewable': True, 'sampleable': True, 'downloadable': True, 'displayable': True, 'purchasable_at': 1685257200, 'streamable_at': 1685170800, 'hires': False, 'hires_streamable': False}, {'maximum_bit_depth': 16, 'image': {'small': 'https://static.qobuz.com/images/covers/fb/zk/q8amev311zkfb_230.jpg', 'thumbnail': 'https://static.qobuz.com/images/covers/fb/zk/q8amev311zkfb_50.jpg', 'large': 'https://static.qobuz.com/images/covers/fb/zk/q8amev311zkfb_600.jpg', 'back': None}, 'media_count': 1, 'artist': {'image': None, 'name': 'Tungevaag', 'id': 2000138, 'albums_count': 87, 'slug': 'tungevaag', 'picture': None}, 'artists': [{'id': 2000138, 'name': 'Tungevaag', 'roles': ['main-artist']}, {'id': 764370, 'name': 'Sick Individuals', 'roles': ['main-artist']}, {'id': 105253, 'name': 'Marf', 'roles': ['main-artist']}], 'upc': '0190295092603', 'released_at': 1605222000, 'label': {'name': \"Spinnin' Records\", 'id': 190680, 'albums_count': 4815, 'supplier_id': 5, 'slug': 'spinnin-records-4'}, 'title': 'Miss You', 'qobuz_id': 105398423, 'version': None, 'url': 'https://www.qobuz.com/fr-fr/album/miss-you-tungevaag-sick-individuals-marf/q8amev311zkfb', 'duration': 384, 'parental_warning': False, 'popularity': 0, 'tracks_count': 2, 'genre': {'path': [64, 129], 'color': '#5eabc1', 'name': 'Dance', 'id': 129, 'slug': 'dance'}, 'maximum_channel_count': 2, 'id': 'q8amev311zkfb', 'maximum_sampling_rate': 44.1, 'articles': [], 'release_date_original': '2020-11-13', 'release_date_download': '2020-11-13', 'release_date_stream': '2020-11-13', 'purchasable': True, 'streamable': False, 'previewable': True, 'sampleable': True, 'downloadable': True, 'displayable': True, 'purchasable_at': 1685257200, 'streamable_at': None, 'hires': False, 'hires_streamable': False}]}\n",
      "tracks: {'offset': 0, 'limit': 5, 'total': 331, 'items': [{'maximum_bit_depth': 24, 'copyright': '(C) 2023 NEWMADE Music (P) 2023 NEWMADE Music', 'performers': 'Sick Individuals, MainArtist - Rinze Hofstee, Producer - Joep Smeele, Producer - Sick Individuals Publishing, MusicPublisher - Good Times, Composer', 'audio_info': {'replaygain_track_peak': 0.986053, 'replaygain_track_gain': -11.08}, 'performer': {'name': 'Sick Individuals', 'id': 764370}, 'album': {'image': {'small': 'https://static.qobuz.com/images/covers/2b/cr/bipw4x7secr2b_230.jpg', 'thumbnail': 'https://static.qobuz.com/images/covers/2b/cr/bipw4x7secr2b_50.jpg', 'large': 'https://static.qobuz.com/images/covers/2b/cr/bipw4x7secr2b_600.jpg'}, 'maximum_bit_depth': 24, 'media_count': 1, 'artist': {'image': None, 'name': 'Sick Individuals', 'id': 764370, 'albums_count': 194, 'slug': 'sick-individuals', 'picture': None}, 'upc': '0196871495806', 'released_at': 1696543200, 'label': {'name': 'NEWMADE Music', 'id': 2178408, 'albums_count': 6, 'supplier_id': 17, 'slug': 'newmade-music'}, 'title': 'Good Times', 'qobuz_id': 229967671, 'version': None, 'duration': 154, 'parental_warning': False, 'tracks_count': 1, 'popularity': 0, 'genre': {'path': [64], 'color': '#0070ef', 'name': 'Electronic', 'id': 64, 'slug': 'electro'}, 'maximum_channel_count': 2, 'id': 'bipw4x7secr2b', 'maximum_sampling_rate': 44.1, 'previewable': True, 'sampleable': True, 'displayable': True, 'streamable': False, 'streamable_at': 1696575600, 'downloadable': False, 'purchasable_at': None, 'purchasable': False, 'release_date_original': '2023-10-06', 'release_date_download': '2023-10-06', 'release_date_stream': '2023-10-06', 'release_date_purchase': '2023-10-06', 'hires': True, 'hires_streamable': False}, 'work': None, 'composer': {'name': 'Good Times', 'id': 3255336}, 'isrc': 'DK4YA2420001', 'title': 'Good Times', 'version': None, 'duration': 154, 'parental_warning': False, 'track_number': 1, 'maximum_channel_count': 2, 'id': 229967672, 'media_number': 1, 'maximum_sampling_rate': 44.1, 'release_date_original': None, 'release_date_download': None, 'release_date_stream': None, 'release_date_purchase': None, 'purchasable': True, 'streamable': False, 'previewable': True, 'sampleable': True, 'downloadable': True, 'displayable': True, 'purchasable_at': 1696575600, 'streamable_at': 1696575600, 'hires': True, 'hires_streamable': False}, {'maximum_bit_depth': 24, 'copyright': '(C) 2023 NEWMADE | Music (P) 2023 NEWMADE | Music', 'performers': 'Sick Individuals, MainArtist - Rinze Hofstee, Composer, Producer - Joep Smeele, Composer, Producer - Sick Individuals Publishing, MusicPublisher', 'audio_info': {'replaygain_track_peak': 0.998871, 'replaygain_track_gain': -11.87}, 'performer': {'name': 'Sick Individuals', 'id': 764370}, 'album': {'image': {'small': 'https://static.qobuz.com/images/covers/nc/2y/pb0ffxyri2ync_230.jpg', 'thumbnail': 'https://static.qobuz.com/images/covers/nc/2y/pb0ffxyri2ync_50.jpg', 'large': 'https://static.qobuz.com/images/covers/nc/2y/pb0ffxyri2ync_600.jpg'}, 'maximum_bit_depth': 24, 'media_count': 1, 'artist': {'image': None, 'name': 'Sick Individuals', 'id': 764370, 'albums_count': 194, 'slug': 'sick-individuals', 'picture': None}, 'upc': '0196871445511', 'released_at': 1695333600, 'label': {'name': 'NEWMADE', 'id': 1322758, 'albums_count': 9, 'supplier_id': 17, 'slug': 'newmade-1'}, 'title': 'The Playground', 'qobuz_id': 226521246, 'version': None, 'duration': 182, 'parental_warning': False, 'tracks_count': 1, 'popularity': 0, 'genre': {'path': [64], 'color': '#0070ef', 'name': 'Electronic', 'id': 64, 'slug': 'electro'}, 'maximum_channel_count': 2, 'id': 'pb0ffxyri2ync', 'maximum_sampling_rate': 44.1, 'previewable': True, 'sampleable': True, 'displayable': True, 'streamable': False, 'streamable_at': 1695366000, 'downloadable': False, 'purchasable_at': None, 'purchasable': False, 'release_date_original': '2023-09-22', 'release_date_download': '2023-09-22', 'release_date_stream': '2023-09-22', 'release_date_purchase': '2023-09-22', 'hires': True, 'hires_streamable': False}, 'work': None, 'composer': {'name': 'Joep Smeele', 'id': 806061}, 'isrc': 'DK4YA2368001', 'title': 'The Playground', 'version': None, 'duration': 182, 'parental_warning': False, 'track_number': 1, 'maximum_channel_count': 2, 'id': 226521247, 'media_number': 1, 'maximum_sampling_rate': 44.1, 'release_date_original': None, 'release_date_download': None, 'release_date_stream': None, 'release_date_purchase': None, 'purchasable': True, 'streamable': False, 'previewable': True, 'sampleable': True, 'downloadable': True, 'displayable': True, 'purchasable_at': 1695366000, 'streamable_at': 1695366000, 'hires': True, 'hires_streamable': False}, {'maximum_bit_depth': 16, 'copyright': \"© 2023 Nocturnal Vibes Music / DJ Punzo ℗ 2023 Spinnin' Records\", 'performers': 'Sick Individuals, MainArtist - Dotter, FeaturedArtist - HOFSTEE RINZE, Writer - MEDANHODZIC DINO, Writer - SMEELE JOEP L, Writer', 'audio_info': {'replaygain_track_peak': 0.999786, 'replaygain_track_gain': -8.3}, 'performer': {'name': 'Sick Individuals', 'id': 764370}, 'album': {'image': {'small': 'https://static.qobuz.com/images/covers/hb/wb/vfcma6i8awbhb_230.jpg', 'thumbnail': 'https://static.qobuz.com/images/covers/hb/wb/vfcma6i8awbhb_50.jpg', 'large': 'https://static.qobuz.com/images/covers/hb/wb/vfcma6i8awbhb_600.jpg'}, 'maximum_bit_depth': 16, 'media_count': 1, 'artist': {'image': None, 'name': 'DJ Punzo', 'id': 7314055, 'albums_count': 0, 'slug': 'dj-punzo', 'picture': None}, 'upc': '0196922598883', 'released_at': 1692136800, 'label': {'name': 'Nocturnal Vibes Music', 'id': 5278608, 'albums_count': 0, 'supplier_id': 36, 'slug': 'nocturnal-vibes-music'}, 'title': 'Nocturnal Vibes 325', 'qobuz_id': 224221435, 'version': 'DJ Mix', 'duration': 3780, 'parental_warning': False, 'tracks_count': 20, 'popularity': 0, 'genre': {'path': [64, 129], 'color': '#0070ef', 'name': 'Dance', 'id': 129, 'slug': 'dance'}, 'maximum_channel_count': 2, 'id': 'vfcma6i8awbhb', 'maximum_sampling_rate': 44.1, 'previewable': True, 'sampleable': True, 'displayable': True, 'streamable': False, 'streamable_at': 1692514800, 'downloadable': False, 'purchasable_at': None, 'purchasable': False, 'release_date_original': '2023-08-16', 'release_date_download': '2023-08-16', 'release_date_stream': '2023-08-16', 'release_date_purchase': '2023-08-16', 'hires': False, 'hires_streamable': False}, 'work': None, 'isrc': 'USA2P2341166', 'title': 'YOU', 'version': 'Mixed', 'duration': 162, 'parental_warning': False, 'track_number': 7, 'maximum_channel_count': 2, 'id': 224221442, 'media_number': 1, 'maximum_sampling_rate': 44.1, 'release_date_original': None, 'release_date_download': None, 'release_date_stream': None, 'release_date_purchase': None, 'purchasable': True, 'streamable': False, 'previewable': True, 'sampleable': True, 'downloadable': True, 'displayable': True, 'purchasable_at': 1692514800, 'streamable_at': 1692514800, 'hires': False, 'hires_streamable': False}, {'maximum_bit_depth': 24, 'copyright': '2023 Revealed Music B.V. 2023 Revealed Music B.V.', 'performers': 'Sick Individuals, Producer, MainArtist - Rinze Hofstee, Composer, Lyricist - Joep Smeele, Composer, Lyricist - Sick Individuals Publishing, MusicPublisher', 'audio_info': {'replaygain_track_peak': 0.986053, 'replaygain_track_gain': -11.82}, 'performer': {'name': 'Sick Individuals', 'id': 764370}, 'album': {'image': {'small': 'https://static.qobuz.com/images/covers/db/4i/kjvl6uf524idb_230.jpg', 'thumbnail': 'https://static.qobuz.com/images/covers/db/4i/kjvl6uf524idb_50.jpg', 'large': 'https://static.qobuz.com/images/covers/db/4i/kjvl6uf524idb_600.jpg'}, 'maximum_bit_depth': 24, 'media_count': 1, 'artist': {'image': None, 'name': 'Sick Individuals', 'id': 764370, 'albums_count': 192, 'slug': 'sick-individuals', 'picture': None}, 'upc': '8720923550421', 'released_at': 1690495200, 'label': {'name': 'Revealed Recordings', 'id': 157491, 'albums_count': 1388, 'supplier_id': 41, 'slug': 'revealed-recordings-1'}, 'title': 'ROOTS', 'qobuz_id': 215961326, 'version': None, 'duration': 178, 'parental_warning': False, 'tracks_count': 1, 'popularity': 0, 'genre': {'path': [64, 129], 'color': '#0070ef', 'name': 'Dance', 'id': 129, 'slug': 'dance'}, 'maximum_channel_count': 2, 'id': 'kjvl6uf524idb', 'maximum_sampling_rate': 44.1, 'previewable': True, 'sampleable': True, 'displayable': True, 'streamable': False, 'streamable_at': 1690527600, 'downloadable': False, 'purchasable_at': None, 'purchasable': False, 'release_date_original': '2023-07-28', 'release_date_download': '2023-07-28', 'release_date_stream': '2023-07-28', 'release_date_purchase': '2023-07-28', 'hires': True, 'hires_streamable': False}, 'work': None, 'composer': {'name': 'Rinze Hofstee', 'id': 806060}, 'isrc': 'NLQ8D2300311', 'title': 'ROOTS', 'version': None, 'duration': 178, 'parental_warning': False, 'track_number': 1, 'maximum_channel_count': 2, 'id': 215961327, 'media_number': 1, 'maximum_sampling_rate': 44.1, 'release_date_original': None, 'release_date_download': None, 'release_date_stream': None, 'release_date_purchase': None, 'purchasable': True, 'streamable': False, 'previewable': True, 'sampleable': True, 'downloadable': True, 'displayable': True, 'purchasable_at': 1690527600, 'streamable_at': 1690527600, 'hires': True, 'hires_streamable': False}, {'maximum_bit_depth': 24, 'copyright': \"© 2023 Spinnin' Records ℗ 2023 Spinnin' Records\", 'performers': 'Sick Individuals, Programmer, MainArtist - Rinze Hofstee, Producer, Writer - Joep Smeele, Producer, Writer', 'audio_info': {'replaygain_track_peak': 0.986816, 'replaygain_track_gain': -12.27}, 'performer': {'name': 'Sick Individuals', 'id': 764370}, 'album': {'image': {'small': 'https://static.qobuz.com/images/covers/jb/9h/adhx2yd589hjb_230.jpg', 'thumbnail': 'https://static.qobuz.com/images/covers/jb/9h/adhx2yd589hjb_50.jpg', 'large': 'https://static.qobuz.com/images/covers/jb/9h/adhx2yd589hjb_600.jpg'}, 'maximum_bit_depth': 24, 'media_count': 1, 'artist': {'image': None, 'name': 'Sick Individuals', 'id': 764370, 'albums_count': 189, 'slug': 'sick-individuals', 'picture': None}, 'upc': '5054197683916', 'released_at': 1685656800, 'label': {'name': \"Spinnin' Records\", 'id': 190680, 'albums_count': 4815, 'supplier_id': 5, 'slug': 'spinnin-records-4'}, 'title': 'MAIA', 'qobuz_id': 212657884, 'version': None, 'duration': 188, 'parental_warning': False, 'tracks_count': 1, 'popularity': 0, 'genre': {'path': [64, 129], 'color': '#0070ef', 'name': 'Dance', 'id': 129, 'slug': 'dance'}, 'maximum_channel_count': 2, 'id': 'adhx2yd589hjb', 'maximum_sampling_rate': 44.1, 'previewable': True, 'sampleable': True, 'displayable': True, 'streamable': False, 'streamable_at': 1685689200, 'downloadable': False, 'purchasable_at': None, 'purchasable': False, 'release_date_original': '2023-06-02', 'release_date_download': '2023-06-02', 'release_date_stream': '2023-06-02', 'release_date_purchase': '2023-06-02', 'hires': True, 'hires_streamable': False}, 'work': None, 'isrc': 'NLZ542300737', 'title': 'MAIA', 'version': None, 'duration': 188, 'parental_warning': False, 'track_number': 1, 'maximum_channel_count': 2, 'id': 212657885, 'media_number': 1, 'maximum_sampling_rate': 44.1, 'release_date_original': None, 'release_date_download': None, 'release_date_stream': None, 'release_date_purchase': None, 'purchasable': True, 'streamable': False, 'previewable': True, 'sampleable': True, 'downloadable': True, 'displayable': True, 'purchasable_at': 1685689200, 'streamable_at': 1685689200, 'hires': True, 'hires_streamable': False}]}\n",
      "playlists: [{'image_rectangle_mini': ['https://static.qobuz.com/images/playlists/3009106_5515a64a95b9f6b4e9b992267bde88fa_rectangle_mini.jpg'], 'is_published': True, 'featured_artists': [{'id': 764370, 'name': 'Sick Individuals', 'slug': 'sick-individuals', 'albums_count': 196, 'picture': None, 'image': None}], 'description': 'Sick Individuals', 'created_at': 1585128490, 'timestamp_position': 1585128490, 'images300': ['https://static.qobuz.com/images/covers/bc/zi/dicddq655zibc_300.jpg', 'https://static.qobuz.com/images/covers/fa/am/n9ttvn1d4amfa_300.jpg', 'https://static.qobuz.com/images/covers/2b/0e/fa2hk4w8w0e2b_300.jpg', 'https://static.qobuz.com/images/covers/oa/lh/h5tb47b7qlhoa_300.jpg'], 'duration': 6190, 'updated_at': 1585128490, 'published_to': 1742894890, 'genres': [], 'image_rectangle': ['https://static.qobuz.com/images/playlists/3009106_5515a64a95b9f6b4e9b992267bde88fa_rectangle.jpg'], 'id': 3009106, 'slug': 'sick-individuals', 'owner': {'id': 1280097, 'name': 'Qobuz'}, 'users_count': 0, 'images150': ['https://static.qobuz.com/images/covers/bc/zi/dicddq655zibc_150.jpg', 'https://static.qobuz.com/images/covers/fa/am/n9ttvn1d4amfa_150.jpg', 'https://static.qobuz.com/images/covers/2b/0e/fa2hk4w8w0e2b_150.jpg', 'https://static.qobuz.com/images/covers/oa/lh/h5tb47b7qlhoa_150.jpg'], 'images': ['https://static.qobuz.com/images/covers/bc/zi/dicddq655zibc_50.jpg', 'https://static.qobuz.com/images/covers/fa/am/n9ttvn1d4amfa_50.jpg', 'https://static.qobuz.com/images/covers/2b/0e/fa2hk4w8w0e2b_50.jpg', 'https://static.qobuz.com/images/covers/oa/lh/h5tb47b7qlhoa_50.jpg'], 'is_collaborative': False, 'stores': ['US-en'], 'tracks_count': 30, 'name': 'Sick Individuals', 'is_public': True, 'published_from': 1585128490, 'is_featured': False, 'tracks': {'offset': 0, 'limit': 1000, 'total': 30, 'items': [{'maximum_bit_depth': 24, 'copyright': '2019 Revealed Music B.V. 2019 Revealed Music B.V.', 'performers': 'Sick Individuals, MainArtist - Justin Prime, MainArtist - Strengholt Music Publishing, MusicPublisher - Sick Individuals Publishing, MusicPublisher - TPM Publishing B.V., MusicPublisher - Bymia, FeaturedArtist', 'audio_info': {'replaygain_track_peak': 1, 'replaygain_track_gain': -11.9}, 'performer': {'name': 'Sick Individuals', 'id': 764370}, 'article_ids': {'LLS': 162851286, 'SMR': 162851287, 'SM2': 362115768}, 'album': {'image': {'small': 'https://static.qobuz.com/images/covers/bc/zi/dicddq655zibc_230.jpg', 'thumbnail': 'https://static.qobuz.com/images/covers/bc/zi/dicddq655zibc_50.jpg', 'large': 'https://static.qobuz.com/images/covers/bc/zi/dicddq655zibc_600.jpg'}, 'maximum_bit_depth': 24, 'media_count': 1, 'artist': {'image': None, 'name': 'Sick Individuals', 'id': 764370, 'albums_count': 192, 'slug': 'sick-individuals', 'picture': None}, 'upc': '7434007740738', 'released_at': 1562277600, 'label': {'name': 'Revealed Recordings', 'id': 157491, 'albums_count': 1388, 'supplier_id': 41, 'slug': 'revealed-recordings-1'}, 'title': 'Not Alone', 'qobuz_id': 63181374, 'version': None, 'duration': 408, 'parental_warning': False, 'tracks_count': 2, 'popularity': 0, 'genre': {'path': [64, 129], 'color': '#0070ef', 'name': 'Dance', 'id': 129, 'slug': 'dance'}, 'maximum_channel_count': 2, 'id': 'dicddq655zibc', 'maximum_sampling_rate': 44.1, 'previewable': True, 'sampleable': True, 'displayable': True, 'streamable': False, 'streamable_at': 1688454000, 'downloadable': False, 'purchasable_at': None, 'purchasable': False, 'release_date_original': '2019-07-05', 'release_date_download': '2019-07-05', 'release_date_stream': '2019-07-05', 'release_date_purchase': '2019-07-05', 'hires': True, 'hires_streamable': False}, 'work': None, 'isrc': 'NLQ8D1900308', 'title': 'Not Alone', 'version': None, 'duration': 165, 'parental_warning': False, 'track_number': 1, 'maximum_channel_count': 2, 'id': 63181375, 'media_number': 1, 'maximum_sampling_rate': 44.1, 'articles': [{'id': 162851286, 'url': '/order/162851286', 'price': 0.98, 'currency': 'USD', 'type': 'lls', 'label': 'CD-quality', 'description': 'Lossless 16 bit/44.1 kHz (FLAC, ALAC, WMA, AIFF, WAV)'}, {'id': 162851287, 'url': '/order/162851287', 'price': 1.22, 'currency': 'USD', 'type': 'smr', 'label': 'Hi-Res', 'description': 'Up to 24 bit/96 kHz (FLAC, ALAC, WMA, AIFF, WAV)'}], 'release_date_original': None, 'release_date_download': None, 'release_date_stream': None, 'release_date_purchase': None, 'purchasable': True, 'streamable': False, 'previewable': True, 'sampleable': True, 'downloadable': True, 'displayable': True, 'purchasable_at': 1688454000, 'streamable_at': 1688454000, 'hires': True, 'hires_streamable': False, 'description': []}, {'maximum_bit_depth': 24, 'copyright': '2020 Revealed Music B.V. 2020 Revealed Music B.V.', 'performers': 'Sick Individuals, Producer, MainArtist - Sick Individuals Publishing, MusicPublisher - Robbie Rosen, MainArtist - Robbie Rosen Music, MusicPublisher', 'audio_info': {'replaygain_track_peak': 1, 'replaygain_track_gain': -11.97}, 'performer': {'name': 'Sick Individuals', 'id': 764370}, 'article_ids': {'LLS': 240115781, 'SMR': 240115782, 'SM2': 389672888}, 'album': {'image': {'small': 'https://static.qobuz.com/images/covers/fa/am/n9ttvn1d4amfa_230.jpg', 'thumbnail': 'https://static.qobuz.com/images/covers/fa/am/n9ttvn1d4amfa_50.jpg', 'large': 'https://static.qobuz.com/images/covers/fa/am/n9ttvn1d4amfa_600.jpg'}, 'maximum_bit_depth': 24, 'media_count': 1, 'artist': {'image': None, 'name': 'Sick Individuals', 'id': 764370, 'albums_count': 192, 'slug': 'sick-individuals', 'picture': None}, 'upc': '7434007850857', 'released_at': 1582844400, 'label': {'name': 'Revealed Recordings', 'id': 157491, 'albums_count': 1388, 'supplier_id': 41, 'slug': 'revealed-recordings-1'}, 'title': 'Come Alive', 'qobuz_id': 88253787, 'version': None, 'duration': 544, 'parental_warning': False, 'tracks_count': 2, 'popularity': 0, 'genre': {'path': [64, 129], 'color': '#0070ef', 'name': 'Dance', 'id': 129, 'slug': 'dance'}, 'maximum_channel_count': 2, 'id': 'n9ttvn1d4amfa', 'maximum_sampling_rate': 44.1, 'previewable': True, 'sampleable': True, 'displayable': True, 'streamable': False, 'streamable_at': 1688454000, 'downloadable': False, 'purchasable_at': None, 'purchasable': False, 'release_date_original': '2020-02-28', 'release_date_download': '2020-02-28', 'release_date_stream': '2020-02-28', 'release_date_purchase': '2020-02-28', 'hires': True, 'hires_streamable': False}, 'work': None, 'isrc': 'NLQ8D2000055', 'title': 'Come Alive', 'version': None, 'duration': 209, 'parental_warning': False, 'track_number': 1, 'maximum_channel_count': 2, 'id': 88253788, 'media_number': 1, 'maximum_sampling_rate': 44.1, 'articles': [{'id': 240115781, 'url': '/order/240115781', 'price': 0.98, 'currency': 'USD', 'type': 'lls', 'label': 'CD-quality', 'description': 'Lossless 16 bit/44.1 kHz (FLAC, ALAC, WMA, AIFF, WAV)'}, {'id': 240115782, 'url': '/order/240115782', 'price': 1.22, 'currency': 'USD', 'type': 'smr', 'label': 'Hi-Res', 'description': 'Up to 24 bit/96 kHz (FLAC, ALAC, WMA, AIFF, WAV)'}], 'release_date_original': None, 'release_date_download': None, 'release_date_stream': None, 'release_date_purchase': None, 'purchasable': True, 'streamable': False, 'previewable': True, 'sampleable': True, 'downloadable': True, 'displayable': True, 'purchasable_at': 1688454000, 'streamable_at': 1688454000, 'hires': True, 'hires_streamable': False, 'description': []}, {'maximum_bit_depth': 24, 'copyright': '2015 Armada Music B.V. 2015 Armada Music B.V.', 'performers': 'Copyright Control, MusicPublisher - Sick Individuals, MainArtist - Warner Chappell Music Publishing, MusicPublisher - R. Hofstee, Composer - S. den Daas, Composer - P. Dalton, Composer - BMG/Chrysalis, MusicPublisher - A. Bullimore, Composer - DBSTF, MainArtist - D.A. Bakker, Composer - J.L.Smeele, Composer - L. Needham, Composer - J. Attwooll, Composer - Sick Individuals PublishingLtd, MusicPublisher - Destined Productions Ltd, MusicPublisher', 'audio_info': {'replaygain_track_peak': 1, 'replaygain_track_gain': -12.22}, 'performer': {'name': 'Sick Individuals', 'id': 764370}, 'article_ids': {'LLS': 132832419, 'SMR': 132832420, 'SM2': 351456030}, 'album': {'image': {'small': 'https://static.qobuz.com/images/covers/2b/0e/fa2hk4w8w0e2b_230.jpg', 'thumbnail': 'https://static.qobuz.com/images/covers/2b/0e/fa2hk4w8w0e2b_50.jpg', 'large': 'https://static.qobuz.com/images/covers/2b/0e/fa2hk4w8w0e2b_600.jpg'}, 'maximum_bit_depth': 24, 'media_count': 1, 'artist': {'image': None, 'name': 'Sick Individuals', 'id': 764370, 'albums_count': 192, 'slug': 'sick-individuals', 'picture': None}, 'upc': '8718522070150', 'released_at': 1439762400, 'label': {'name': 'Mainstage Music', 'id': 248660, 'albums_count': 168, 'supplier_id': 41, 'slug': 'mainstage-music'}, 'title': 'Waiting For You', 'qobuz_id': 53129915, 'version': None, 'duration': 549, 'parental_warning': False, 'tracks_count': 2, 'popularity': 0, 'genre': {'path': [64, 68], 'color': '#0070ef', 'name': 'House', 'id': 68, 'slug': 'house'}, 'maximum_channel_count': 2, 'id': 'fa2hk4w8w0e2b', 'maximum_sampling_rate': 44.1, 'previewable': True, 'sampleable': True, 'displayable': True, 'streamable': False, 'streamable_at': 1688540400, 'downloadable': False, 'purchasable_at': None, 'purchasable': False, 'release_date_original': '2015-08-17', 'release_date_download': '2015-08-17', 'release_date_stream': '2015-08-17', 'release_date_purchase': '2015-08-17', 'hires': True, 'hires_streamable': False}, 'work': None, 'composer': {'name': 'J. L. Smeele', 'id': 1835352}, 'isrc': 'NLF711504486', 'title': 'Waiting For You', 'version': 'Radio Edit', 'duration': 210, 'parental_warning': False, 'track_number': 1, 'maximum_channel_count': 2, 'id': 53129916, 'media_number': 1, 'maximum_sampling_rate': 44.1, 'articles': [{'id': 132832419, 'url': '/order/132832419', 'price': 0.98, 'currency': 'USD', 'type': 'lls', 'label': 'CD-quality', 'description': 'Lossless 16 bit/44.1 kHz (FLAC, ALAC, WMA, AIFF, WAV)'}, {'id': 132832420, 'url': '/order/132832420', 'price': 1.22, 'currency': 'USD', 'type': 'smr', 'label': 'Hi-Res', 'description': 'Up to 24 bit/96 kHz (FLAC, ALAC, WMA, AIFF, WAV)'}], 'release_date_original': None, 'release_date_download': None, 'release_date_stream': None, 'release_date_purchase': None, 'purchasable': True, 'streamable': False, 'previewable': True, 'sampleable': True, 'downloadable': True, 'displayable': True, 'purchasable_at': 1688540400, 'streamable_at': 1688540400, 'hires': True, 'hires_streamable': False, 'description': []}, {'maximum_bit_depth': 24, 'copyright': '2022 Revealed Music B.V. 2022 Revealed Music B.V.', 'performers': 'Copyright Control, MusicPublisher - Sick Individuals, Producer, MainArtist - Rinze Hofstee, Composer - Joep Smeele, Composer - BMG, MusicPublisher - Sick Individuals Publishing, MusicPublisher - Dastic, Producer, MainArtist - Revealed Publishing (Cloud 9 Holland Music Publishing), MusicPublisher - Damian Bast, Composer - Johan Jord Brinkhuis, ComposerLyricist - Raffie van Maren, Lyricist', 'audio_info': {'replaygain_track_peak': 0.986053, 'replaygain_track_gain': -11.62}, 'performer': {'name': 'Sick Individuals', 'id': 764370}, 'article_ids': {'LLS': 637764052, 'SMR': 637764053, 'SM2': 637764054}, 'album': {'image': {'small': 'https://static.qobuz.com/images/covers/oa/lh/h5tb47b7qlhoa_230.jpg', 'thumbnail': 'https://static.qobuz.com/images/covers/oa/lh/h5tb47b7qlhoa_50.jpg', 'large': 'https://static.qobuz.com/images/covers/oa/lh/h5tb47b7qlhoa_600.jpg'}, 'maximum_bit_depth': 24, 'media_count': 1, 'artist': {'image': None, 'name': 'Sick Individuals', 'id': 764370, 'albums_count': 192, 'slug': 'sick-individuals', 'picture': None}, 'upc': '8720766074931', 'released_at': 1657231200, 'label': {'name': 'Revealed Recordings', 'id': 157491, 'albums_count': 1388, 'supplier_id': 41, 'slug': 'revealed-recordings-1'}, 'title': \"I'll Be There\", 'qobuz_id': 161261169, 'version': None, 'duration': 412, 'parental_warning': False, 'tracks_count': 2, 'popularity': 0, 'genre': {'path': [64, 68], 'color': '#0070ef', 'name': 'House', 'id': 68, 'slug': 'house'}, 'maximum_channel_count': 2, 'id': 'h5tb47b7qlhoa', 'maximum_sampling_rate': 44.1, 'previewable': True, 'sampleable': True, 'displayable': True, 'streamable': False, 'streamable_at': 1688454000, 'downloadable': False, 'purchasable_at': None, 'purchasable': False, 'release_date_original': '2022-07-08', 'release_date_download': '2022-07-08', 'release_date_stream': '2022-07-08', 'release_date_purchase': '2022-07-08', 'hires': True, 'hires_streamable': False}, 'work': None, 'composer': {'name': 'Joep Smeele', 'id': 806061}, 'isrc': 'NLQ8D2200919', 'title': \"I'll Be There\", 'version': None, 'duration': 175, 'parental_warning': False, 'track_number': 1, 'maximum_channel_count': 2, 'id': 161261170, 'media_number': 1, 'maximum_sampling_rate': 44.1, 'articles': [{'id': 637764052, 'url': '/order/637764052', 'price': 0.98, 'currency': 'USD', 'type': 'lls', 'label': 'CD-quality', 'description': 'Lossless 16 bit/44.1 kHz (FLAC, ALAC, WMA, AIFF, WAV)'}, {'id': 637764053, 'url': '/order/637764053', 'price': 1.22, 'currency': 'USD', 'type': 'smr', 'label': 'Hi-Res', 'description': 'Up to 24 bit/96 kHz (FLAC, ALAC, WMA, AIFF, WAV)'}], 'release_date_original': None, 'release_date_download': None, 'release_date_stream': None, 'release_date_purchase': None, 'purchasable': True, 'streamable': False, 'previewable': True, 'sampleable': True, 'downloadable': True, 'displayable': True, 'purchasable_at': 1688454000, 'streamable_at': 1688454000, 'hires': True, 'hires_streamable': False, 'description': []}, {'maximum_bit_depth': 24, 'copyright': '2014 Armada Music B.V. 2014 Armada Music B.V.', 'performers': 'Sick Individuals, MainArtist - R. Hofstee, Composer - Sick Individuals Publishing, MusicPublisher - J. L. Smeele, Composer', 'audio_info': {'replaygain_track_peak': 0.999908, 'replaygain_track_gain': -10.48}, 'performer': {'name': 'Sick Individuals', 'id': 764370}, 'article_ids': {'LLS': 133278000, 'SMR': 133278001, 'SM2': 351615827}, 'album': {'image': {'small': 'https://static.qobuz.com/images/covers/7b/d1/tmx9791axd17b_230.jpg', 'thumbnail': 'https://static.qobuz.com/images/covers/7b/d1/tmx9791axd17b_50.jpg', 'large': 'https://static.qobuz.com/images/covers/7b/d1/tmx9791axd17b_600.jpg'}, 'maximum_bit_depth': 24, 'media_count': 1, 'artist': {'image': None, 'name': 'Sick Individuals', 'id': 764370, 'albums_count': 192, 'slug': 'sick-individuals', 'picture': None}, 'upc': '8718522044557', 'released_at': 1405288800, 'label': {'name': 'Armada Music', 'id': 248166, 'albums_count': 4367, 'supplier_id': 41, 'slug': 'armada-music'}, 'title': 'Wasting Moonlight', 'qobuz_id': 53281632, 'version': None, 'duration': 204, 'parental_warning': False, 'tracks_count': 1, 'popularity': 0, 'genre': {'path': [64, 68], 'color': '#0070ef', 'name': 'House', 'id': 68, 'slug': 'house'}, 'maximum_channel_count': 2, 'id': 'tmx9791axd17b', 'maximum_sampling_rate': 44.1, 'previewable': True, 'sampleable': True, 'displayable': True, 'streamable': False, 'streamable_at': 1688540400, 'downloadable': False, 'purchasable_at': None, 'purchasable': False, 'release_date_original': '2014-07-14', 'release_date_download': '2014-07-14', 'release_date_stream': '2014-07-14', 'release_date_purchase': '2014-07-14', 'hires': True, 'hires_streamable': False}, 'work': None, 'composer': {'name': 'J. L. Smeele', 'id': 1835352}, 'isrc': 'NLF711403033', 'title': 'Wasting Moonlight', 'version': None, 'duration': 204, 'parental_warning': False, 'track_number': 1, 'maximum_channel_count': 2, 'id': 53281633, 'media_number': 1, 'maximum_sampling_rate': 44.1, 'articles': [{'id': 133278000, 'url': '/order/133278000', 'price': 0.98, 'currency': 'USD', 'type': 'lls', 'label': 'CD-quality', 'description': 'Lossless 16 bit/44.1 kHz (FLAC, ALAC, WMA, AIFF, WAV)'}, {'id': 133278001, 'url': '/order/133278001', 'price': 1.22, 'currency': 'USD', 'type': 'smr', 'label': 'Hi-Res', 'description': 'Up to 24 bit/96 kHz (FLAC, ALAC, WMA, AIFF, WAV)'}], 'release_date_original': None, 'release_date_download': None, 'release_date_stream': None, 'release_date_purchase': None, 'purchasable': True, 'streamable': False, 'previewable': True, 'sampleable': True, 'downloadable': True, 'displayable': True, 'purchasable_at': 1688540400, 'streamable_at': 1688540400, 'hires': True, 'hires_streamable': False, 'description': []}, {'maximum_bit_depth': 16, 'copyright': '2016 Armada Music B.V. 2016 Armada Music B.V.', 'performers': 'Sick Individuals, MainArtist - R. Hofstee, Composer - J. Smeele, Composer - Sick Individuals Publishing, MusicPublisher - Holl & Rush, MainArtist - Bart Jaspers, Composer - Oscar Loomans, Composer - Dannic Publishing (Cloud 9 Holland Music Publishing), MusicPublisher', 'audio_info': {'replaygain_track_peak': 0.987793, 'replaygain_track_gain': -11.04}, 'performer': {'name': 'Sick Individuals', 'id': 764370}, 'article_ids': {'LLS': 132831895, 'SMR': 132831896, 'SM2': 351455824}, 'album': {'image': {'small': 'https://static.qobuz.com/images/covers/qc/yc/xc884a7a9ycqc_230.jpg', 'thumbnail': 'https://static.qobuz.com/images/covers/qc/yc/xc884a7a9ycqc_50.jpg', 'large': 'https://static.qobuz.com/images/covers/qc/yc/xc884a7a9ycqc_600.jpg'}, 'maximum_bit_depth': 16, 'media_count': 1, 'artist': {'image': None, 'name': 'Sick Individuals', 'id': 764370, 'albums_count': 192, 'slug': 'sick-individuals', 'picture': None}, 'upc': '8718522109522', 'released_at': 1474840800, 'label': {'name': 'Mainstage Music', 'id': 248660, 'albums_count': 168, 'supplier_id': 41, 'slug': 'mainstage-music'}, 'title': 'HELIX', 'qobuz_id': 53129755, 'version': None, 'duration': 473, 'parental_warning': False, 'tracks_count': 2, 'popularity': 0, 'genre': {'path': [64, 68], 'color': '#0070ef', 'name': 'House', 'id': 68, 'slug': 'house'}, 'maximum_channel_count': 2, 'id': 'xc884a7a9ycqc', 'maximum_sampling_rate': 44.1, 'previewable': True, 'sampleable': True, 'displayable': True, 'streamable': False, 'streamable_at': 1688540400, 'downloadable': False, 'purchasable_at': None, 'purchasable': False, 'release_date_original': '2016-09-26', 'release_date_download': '2016-09-26', 'release_date_stream': '2016-09-26', 'release_date_purchase': '2016-09-26', 'hires': False, 'hires_streamable': False}, 'work': None, 'composer': {'name': 'J. Smeele', 'id': 955858}, 'isrc': 'NLF711607117', 'title': 'HELIX', 'version': 'Extended Mix', 'duration': 264, 'parental_warning': False, 'track_number': 2, 'maximum_channel_count': 2, 'id': 53129757, 'media_number': 1, 'maximum_sampling_rate': 44.1, 'articles': [{'id': 132831895, 'url': '/order/132831895', 'price': 0.98, 'currency': 'USD', 'type': 'lls', 'label': 'CD-quality', 'description': 'Lossless 16 bit/44.1 kHz (FLAC, ALAC, WMA, AIFF, WAV)'}], 'release_date_original': None, 'release_date_download': None, 'release_date_stream': None, 'release_date_purchase': None, 'purchasable': True, 'streamable': False, 'previewable': True, 'sampleable': True, 'downloadable': True, 'displayable': True, 'purchasable_at': 1688540400, 'streamable_at': 1688540400, 'hires': False, 'hires_streamable': False, 'description': []}, {'maximum_bit_depth': 16, 'copyright': '2016 Armada Music B.V. 2016 Armada Music B.V.', 'performers': 'Copyright Control, MusicPublisher - Sick Individuals, MainArtist - R. Hofstee, Composer - Stevie Appleton, FeaturedArtist - Sick Individuals Publishing, MusicPublisher - J. L. Smeele, Composer - S. Appleton, Composer', 'audio_info': {'replaygain_track_peak': 1, 'replaygain_track_gain': -10.64}, 'performer': {'name': 'Sick Individuals', 'id': 764370}, 'article_ids': {'LLS': 132651269, 'SMR': 132651270, 'SM2': 351390789}, 'album': {'image': {'small': 'https://static.qobuz.com/images/covers/xc/ii/krb6bibj6iixc_230.jpg', 'thumbnail': 'https://static.qobuz.com/images/covers/xc/ii/krb6bibj6iixc_50.jpg', 'large': 'https://static.qobuz.com/images/covers/xc/ii/krb6bibj6iixc_600.jpg'}, 'maximum_bit_depth': 16, 'media_count': 1, 'artist': {'image': None, 'name': 'Sick Individuals', 'id': 764370, 'albums_count': 192, 'slug': 'sick-individuals', 'picture': None}, 'upc': '8718522097546', 'released_at': 1469138400, 'label': {'name': 'The Bearded Man (Armada)', 'id': 248173, 'albums_count': 512, 'supplier_id': 41, 'slug': 'the-bearded-man-armada'}, 'title': 'Mrs.', 'qobuz_id': 53070801, 'version': None, 'duration': 182, 'parental_warning': False, 'tracks_count': 1, 'popularity': 0, 'genre': {'path': [64, 69], 'color': '#0070ef', 'name': 'Lounge', 'id': 69, 'slug': 'lounge'}, 'maximum_channel_count': 2, 'id': 'krb6bibj6iixc', 'maximum_sampling_rate': 44.1, 'previewable': True, 'sampleable': True, 'displayable': True, 'streamable': False, 'streamable_at': 1688540400, 'downloadable': False, 'purchasable_at': None, 'purchasable': False, 'release_date_original': '2016-07-22', 'release_date_download': '2016-07-22', 'release_date_stream': '2016-07-22', 'release_date_purchase': '2016-07-22', 'hires': False, 'hires_streamable': False}, 'work': None, 'composer': {'name': 'J. L. Smeele', 'id': 1835352}, 'isrc': 'NLF711603596', 'title': 'Mrs.', 'version': None, 'duration': 182, 'parental_warning': False, 'track_number': 1, 'maximum_channel_count': 2, 'id': 53070802, 'media_number': 1, 'maximum_sampling_rate': 44.1, 'articles': [{'id': 132651269, 'url': '/order/132651269', 'price': 0.98, 'currency': 'USD', 'type': 'lls', 'label': 'CD-quality', 'description': 'Lossless 16 bit/44.1 kHz (FLAC, ALAC, WMA, AIFF, WAV)'}], 'release_date_original': None, 'release_date_download': None, 'release_date_stream': None, 'release_date_purchase': None, 'purchasable': True, 'streamable': False, 'previewable': True, 'sampleable': True, 'downloadable': True, 'displayable': True, 'purchasable_at': 1688540400, 'streamable_at': 1688540400, 'hires': False, 'hires_streamable': False, 'description': []}, {'maximum_bit_depth': 24, 'copyright': '(C) 2020 NEWMADE (P) 2020 NEWMADE', 'performers': 'Sick Individuals, MainArtist - Rinze Hofstee, Composer, Producer - Joep Smeele, Composer, Producer - Sick Individuals Publishing, MusicPublisher', 'audio_info': {'replaygain_track_peak': 1, 'replaygain_track_gain': -12.4}, 'performer': {'name': 'Sick Individuals', 'id': 764370}, 'article_ids': {'LLS': 292086824, 'SMR': 292086825, 'SM2': 408302490}, 'album': {'image': {'small': 'https://static.qobuz.com/images/covers/0a/ue/pll35a9oiue0a_230.jpg', 'thumbnail': 'https://static.qobuz.com/images/covers/0a/ue/pll35a9oiue0a_50.jpg', 'large': 'https://static.qobuz.com/images/covers/0a/ue/pll35a9oiue0a_600.jpg'}, 'maximum_bit_depth': 24, 'media_count': 1, 'artist': {'image': None, 'name': 'Sick Individuals', 'id': 764370, 'albums_count': 155, 'slug': 'sick-individuals', 'picture': None}, 'upc': '0886448576433', 'released_at': 1594332000, 'label': {'name': 'NEWMADE', 'id': 1322758, 'albums_count': 7, 'supplier_id': 17, 'slug': 'newmade-1'}, 'title': 'Dance with Me', 'qobuz_id': 105128388, 'version': None, 'duration': 194, 'parental_warning': False, 'tracks_count': 1, 'popularity': 0, 'genre': {'path': [64], 'color': '#0070ef', 'name': 'Electronic', 'id': 64, 'slug': 'electro'}, 'maximum_channel_count': 2, 'id': 'pll35a9oiue0a', 'maximum_sampling_rate': 44.1, 'previewable': True, 'sampleable': True, 'displayable': True, 'streamable': False, 'streamable_at': 1633590000, 'downloadable': False, 'purchasable_at': None, 'purchasable': False, 'release_date_original': '2020-07-10', 'release_date_download': '2020-07-10', 'release_date_stream': '2020-07-10', 'release_date_purchase': '2020-07-10', 'hires': True, 'hires_streamable': False}, 'work': None, 'composer': {'name': 'Joep Smeele', 'id': 806061}, 'isrc': 'DK4YA2071801', 'title': 'Dance with Me', 'version': None, 'duration': 194, 'parental_warning': False, 'track_number': 1, 'maximum_channel_count': 2, 'id': 105128389, 'media_number': 1, 'maximum_sampling_rate': 44.1, 'articles': [{'id': 292086824, 'url': '/order/292086824', 'price': 1.49, 'currency': 'USD', 'type': 'lls', 'label': 'CD-quality', 'description': 'Lossless 16 bit/44.1 kHz (FLAC, ALAC, WMA, AIFF, WAV)'}, {'id': 292086825, 'url': '/order/292086825', 'price': 1.99, 'currency': 'USD', 'type': 'smr', 'label': 'Hi-Res', 'description': 'Up to 24 bit/96 kHz (FLAC, ALAC, WMA, AIFF, WAV)'}], 'release_date_original': None, 'release_date_download': None, 'release_date_stream': None, 'release_date_purchase': None, 'purchasable': True, 'streamable': False, 'previewable': True, 'sampleable': True, 'downloadable': True, 'displayable': True, 'purchasable_at': 1633590000, 'streamable_at': 1633590000, 'hires': True, 'hires_streamable': False, 'description': []}, {'maximum_bit_depth': 24, 'copyright': '2020 Revealed Music B.V. 2020 Revealed Music B.V.', 'performers': 'Copyright Control, MusicPublisher - Sick Individuals, MainArtist - Rinze Hofstee, Composer, Producer - Joep Smeele, Composer, Producer - Strengholt Music Publishing, MusicPublisher - Vigel, MainArtist - Sick Individuals Publishing, MusicPublisher - Antoni Polimeni, Producer, ComposerLyricist - Richy Sebastian, Producer, ComposerLyricist - Nazzereene Taleb, Producer, ComposerLyricist - TurnItUp Muzik Publishing, MusicPublisher - Nazzereene, MainArtist - Perepelitsyn Vasilii, Producer, ComposerLyricist', 'audio_info': {'replaygain_track_peak': 0.998871, 'replaygain_track_gain': -12.8}, 'performer': {'name': 'Sick Individuals', 'id': 764370}, 'article_ids': {'LLS': 286784907, 'SMR': 286784908, 'SM2': 406409912}, 'album': {'image': {'small': 'https://static.qobuz.com/images/covers/7a/b3/kk3ip7m5qb37a_230.jpg', 'thumbnail': 'https://static.qobuz.com/images/covers/7a/b3/kk3ip7m5qb37a_50.jpg', 'large': 'https://static.qobuz.com/images/covers/7a/b3/kk3ip7m5qb37a_600.jpg'}, 'maximum_bit_depth': 24, 'media_count': 1, 'artist': {'image': None, 'name': 'Sick Individuals', 'id': 764370, 'albums_count': 192, 'slug': 'sick-individuals', 'picture': None}, 'upc': '7434007884876', 'released_at': 1602799200, 'label': {'name': 'Revealed Recordings', 'id': 157491, 'albums_count': 1388, 'supplier_id': 41, 'slug': 'revealed-recordings-1'}, 'title': 'Runaway', 'qobuz_id': 103400465, 'version': None, 'duration': 393, 'parental_warning': False, 'tracks_count': 2, 'popularity': 0, 'genre': {'path': [64, 129], 'color': '#0070ef', 'name': 'Dance', 'id': 129, 'slug': 'dance'}, 'maximum_channel_count': 2, 'id': 'kk3ip7m5qb37a', 'maximum_sampling_rate': 44.1, 'previewable': True, 'sampleable': True, 'displayable': True, 'streamable': False, 'streamable_at': 1688454000, 'downloadable': False, 'purchasable_at': None, 'purchasable': False, 'release_date_original': '2020-10-16', 'release_date_download': '2020-10-16', 'release_date_stream': '2020-10-16', 'release_date_purchase': '2020-10-16', 'hires': True, 'hires_streamable': False}, 'work': None, 'composer': {'name': 'Joep Smeele', 'id': 806061}, 'isrc': 'NLQ8D2000642', 'title': 'Runaway', 'version': None, 'duration': 165, 'parental_warning': False, 'track_number': 1, 'maximum_channel_count': 2, 'id': 103400466, 'media_number': 1, 'maximum_sampling_rate': 44.1, 'articles': [{'id': 286784907, 'url': '/order/286784907', 'price': 0.98, 'currency': 'USD', 'type': 'lls', 'label': 'CD-quality', 'description': 'Lossless 16 bit/44.1 kHz (FLAC, ALAC, WMA, AIFF, WAV)'}, {'id': 286784908, 'url': '/order/286784908', 'price': 1.22, 'currency': 'USD', 'type': 'smr', 'label': 'Hi-Res', 'description': 'Up to 24 bit/96 kHz (FLAC, ALAC, WMA, AIFF, WAV)'}], 'release_date_original': None, 'release_date_download': None, 'release_date_stream': None, 'release_date_purchase': None, 'purchasable': True, 'streamable': False, 'previewable': True, 'sampleable': True, 'downloadable': True, 'displayable': True, 'purchasable_at': 1688454000, 'streamable_at': 1688454000, 'hires': True, 'hires_streamable': False, 'description': []}, {'maximum_bit_depth': 24, 'copyright': '2015 Armada Music B.V. 2015 Armada Music B.V.', 'performers': 'Copyright Control, MusicPublisher - Kaelyn Behr, Composer, FeaturedArtist - Sick Individuals, MainArtist - Rinze Hofstee, Composer - Joep Smeele, Composer - Sick Individuals Publishing, MusicPublisher', 'audio_info': {'replaygain_track_peak': 1, 'replaygain_track_gain': -12.1}, 'performer': {'name': 'Sick Individuals', 'id': 764370}, 'article_ids': {'LLS': 133277913, 'SMR': 133277914, 'SM2': 351615793}, 'album': {'image': {'small': 'https://static.qobuz.com/images/covers/fb/2h/i4dzzrtu72hfb_230.jpg', 'thumbnail': 'https://static.qobuz.com/images/covers/fb/2h/i4dzzrtu72hfb_50.jpg', 'large': 'https://static.qobuz.com/images/covers/fb/2h/i4dzzrtu72hfb_600.jpg'}, 'maximum_bit_depth': 24, 'media_count': 1, 'artist': {'image': None, 'name': 'Sick Individuals', 'id': 764370, 'albums_count': 192, 'slug': 'sick-individuals', 'picture': None}, 'upc': '8718522058936', 'released_at': 1429480800, 'label': {'name': 'Armada Music', 'id': 248166, 'albums_count': 4367, 'supplier_id': 41, 'slug': 'armada-music'}, 'title': 'Never Fade', 'qobuz_id': 53281607, 'version': None, 'duration': 534, 'parental_warning': False, 'tracks_count': 2, 'popularity': 0, 'genre': {'path': [64, 68], 'color': '#0070ef', 'name': 'House', 'id': 68, 'slug': 'house'}, 'maximum_channel_count': 2, 'id': 'i4dzzrtu72hfb', 'maximum_sampling_rate': 44.1, 'previewable': True, 'sampleable': True, 'displayable': True, 'streamable': False, 'streamable_at': 1688540400, 'downloadable': False, 'purchasable_at': None, 'purchasable': False, 'release_date_original': '2015-04-20', 'release_date_download': '2015-04-20', 'release_date_stream': '2015-04-20', 'release_date_purchase': '2015-04-20', 'hires': True, 'hires_streamable': False}, 'work': None, 'composer': {'name': 'Joep Smeele', 'id': 806061}, 'isrc': 'NLF711501529', 'title': 'Never Fade', 'version': None, 'duration': 184, 'parental_warning': False, 'track_number': 1, 'maximum_channel_count': 2, 'id': 53281608, 'media_number': 1, 'maximum_sampling_rate': 44.1, 'articles': [{'id': 133277913, 'url': '/order/133277913', 'price': 0.98, 'currency': 'USD', 'type': 'lls', 'label': 'CD-quality', 'description': 'Lossless 16 bit/44.1 kHz (FLAC, ALAC, WMA, AIFF, WAV)'}, {'id': 133277914, 'url': '/order/133277914', 'price': 1.22, 'currency': 'USD', 'type': 'smr', 'label': 'Hi-Res', 'description': 'Up to 24 bit/96 kHz (FLAC, ALAC, WMA, AIFF, WAV)'}], 'release_date_original': None, 'release_date_download': None, 'release_date_stream': None, 'release_date_purchase': None, 'purchasable': True, 'streamable': False, 'previewable': True, 'sampleable': True, 'downloadable': True, 'displayable': True, 'purchasable_at': 1688540400, 'streamable_at': 1688540400, 'hires': True, 'hires_streamable': False, 'description': []}, {'maximum_bit_depth': 16, 'copyright': 'Revealed Music B.V. Revealed Music B.V.', 'performers': 'Sick Individuals, MainArtist - Sick Individuals Publishing, MusicPublisher - Nevve, MainArtist', 'audio_info': {'replaygain_track_peak': 1, 'replaygain_track_gain': -11.1}, 'performer': {'name': 'Sick Individuals', 'id': 764370}, 'article_ids': {'LLS': 140132375, 'SMR': 140132376, 'SM2': 354035263}, 'album': {'image': {'small': 'https://static.qobuz.com/images/covers/gc/3f/srosfrc293fgc_230.jpg', 'thumbnail': 'https://static.qobuz.com/images/covers/gc/3f/srosfrc293fgc_50.jpg', 'large': 'https://static.qobuz.com/images/covers/gc/3f/srosfrc293fgc_600.jpg'}, 'maximum_bit_depth': 16, 'media_count': 1, 'artist': {'image': None, 'name': 'Sick Individuals', 'id': 764370, 'albums_count': 192, 'slug': 'sick-individuals', 'picture': None}, 'upc': '7434007691696', 'released_at': 1540504800, 'label': {'name': 'Revealed Recordings', 'id': 157491, 'albums_count': 1388, 'supplier_id': 41, 'slug': 'revealed-recordings-1'}, 'title': 'Symphony', 'qobuz_id': 55572186, 'version': None, 'duration': 556, 'parental_warning': False, 'tracks_count': 2, 'popularity': 0, 'genre': {'path': [64, 129], 'color': '#0070ef', 'name': 'Dance', 'id': 129, 'slug': 'dance'}, 'maximum_channel_count': 2, 'id': 'srosfrc293fgc', 'maximum_sampling_rate': 44.1, 'previewable': True, 'sampleable': True, 'displayable': True, 'streamable': False, 'streamable_at': 1688454000, 'downloadable': False, 'purchasable_at': None, 'purchasable': False, 'release_date_original': '2018-10-26', 'release_date_download': '2018-10-26', 'release_date_stream': '2018-10-26', 'release_date_purchase': '2018-10-26', 'hires': False, 'hires_streamable': False}, 'work': None, 'isrc': 'NLQ8D1800183', 'title': 'Symphony', 'version': None, 'duration': 202, 'parental_warning': False, 'track_number': 2, 'maximum_channel_count': 2, 'id': 55572188, 'media_number': 1, 'maximum_sampling_rate': 44.1, 'articles': [{'id': 140132375, 'url': '/order/140132375', 'price': 0.98, 'currency': 'USD', 'type': 'lls', 'label': 'CD-quality', 'description': 'Lossless 16 bit/44.1 kHz (FLAC, ALAC, WMA, AIFF, WAV)'}], 'release_date_original': None, 'release_date_download': None, 'release_date_stream': None, 'release_date_purchase': None, 'purchasable': True, 'streamable': False, 'previewable': True, 'sampleable': True, 'downloadable': True, 'displayable': True, 'purchasable_at': 1688454000, 'streamable_at': 1688454000, 'hires': False, 'hires_streamable': False, 'description': []}, {'maximum_bit_depth': 16, 'copyright': '© 2014 Doorn / SpinninRecords.com ℗ 2014 SpinninRecords.com', 'performers': 'Sick Individuals, MainArtist - Rinze Hofstee, Writer - Joep Smeele, Writer - R. Hofstee, Producer - J. Smeele, Producer - Ariyan, MainArtist - Ariyan Kharaghani, Writer', 'audio_info': {'replaygain_track_peak': 1, 'replaygain_track_gain': -11.14}, 'performer': {'name': 'Sick Individuals', 'id': 764370}, 'article_ids': {'LLS': 116966112, 'SMR': 116966113, 'SM2': 345861006}, 'album': {'image': {'small': 'https://static.qobuz.com/images/covers/da/ns/rvgh4fjs4nsda_230.jpg', 'thumbnail': 'https://static.qobuz.com/images/covers/da/ns/rvgh4fjs4nsda_50.jpg', 'large': 'https://static.qobuz.com/images/covers/da/ns/rvgh4fjs4nsda_600.jpg'}, 'maximum_bit_depth': 16, 'media_count': 1, 'artist': {'image': None, 'name': 'Sick Individuals', 'id': 764370, 'albums_count': 189, 'slug': 'sick-individuals', 'picture': None}, 'upc': '8712944465020', 'released_at': 1417388400, 'label': {'name': 'Doorn Records', 'id': 203063, 'albums_count': 737, 'supplier_id': 5, 'slug': 'doornrecords'}, 'title': 'Olympia', 'qobuz_id': 47790860, 'version': None, 'duration': 310, 'parental_warning': False, 'tracks_count': 1, 'popularity': 0, 'genre': {'path': [64, 68], 'color': '#0070ef', 'name': 'House', 'id': 68, 'slug': 'house'}, 'maximum_channel_count': 2, 'id': 'rvgh4fjs4nsda', 'maximum_sampling_rate': 44.1, 'previewable': True, 'sampleable': True, 'displayable': True, 'streamable': False, 'streamable_at': 1685170800, 'downloadable': False, 'purchasable_at': None, 'purchasable': False, 'release_date_original': '2014-12-01', 'release_date_download': '2014-12-01', 'release_date_stream': '2014-12-01', 'release_date_purchase': '2014-12-01', 'hires': False, 'hires_streamable': False}, 'work': None, 'isrc': 'NLWV71400062', 'title': 'Olympia', 'version': None, 'duration': 310, 'parental_warning': False, 'track_number': 1, 'maximum_channel_count': 2, 'id': 47790861, 'media_number': 1, 'maximum_sampling_rate': 44.1, 'articles': [{'id': 116966112, 'url': '/order/116966112', 'price': 1.69, 'currency': 'USD', 'type': 'lls', 'label': 'CD-quality', 'description': 'Lossless 16 bit/44.1 kHz (FLAC, ALAC, WMA, AIFF, WAV)'}], 'release_date_original': None, 'release_date_download': None, 'release_date_stream': None, 'release_date_purchase': None, 'purchasable': True, 'streamable': False, 'previewable': True, 'sampleable': True, 'downloadable': True, 'displayable': True, 'purchasable_at': 1685257200, 'streamable_at': 1685170800, 'hires': False, 'hires_streamable': False, 'description': []}, {'maximum_bit_depth': 24, 'copyright': '(C) 2022 Boy From The Beach / One Seven Music (P) 2022 Boy From The Beach / One Seven Music', 'performers': 'Tommy Lee James, Composer - Stuart Crichton, Composer - Sick Individuals, MainArtist - Rinze Hofstee, Composer, Producer - Joep Smeele, Composer, Producer - Stuart Chrichton, Producer - Emily Falvey, Composer - Songs Of Smack Blue (BMI) / Smack Blue LLC, MusicPublisher - Published by Native Tongue Music Publishing (APRA), MusicPublisher - Still Working For The Man Music / Orbison Music LLC (BMI), MusicPublisher', 'audio_info': {'replaygain_track_peak': 0.986053, 'replaygain_track_gain': -11.14}, 'performer': {'name': 'Sick Individuals', 'id': 764370}, 'article_ids': {'LLS': 545861473, 'SMR': 545861474, 'SM2': 545861475}, 'album': {'image': {'small': 'https://static.qobuz.com/images/covers/wc/e3/rg050mxdre3wc_230.jpg', 'thumbnail': 'https://static.qobuz.com/images/covers/wc/e3/rg050mxdre3wc_50.jpg', 'large': 'https://static.qobuz.com/images/covers/wc/e3/rg050mxdre3wc_600.jpg'}, 'maximum_bit_depth': 24, 'media_count': 1, 'artist': {'image': None, 'name': 'Sick Individuals', 'id': 764370, 'albums_count': 192, 'slug': 'sick-individuals', 'picture': None}, 'upc': '0886449777747', 'released_at': 1641510000, 'label': {'name': 'One Seven Music', 'id': 252825, 'albums_count': 1064, 'supplier_id': 17, 'slug': 'one-seven-music'}, 'title': 'More Than I Want To', 'qobuz_id': 140354404, 'version': None, 'duration': 167, 'parental_warning': False, 'tracks_count': 1, 'popularity': 0, 'genre': {'path': [64], 'color': '#0070ef', 'name': 'Electronic', 'id': 64, 'slug': 'electro'}, 'maximum_channel_count': 2, 'id': 'rg050mxdre3wc', 'maximum_sampling_rate': 44.1, 'previewable': True, 'sampleable': True, 'displayable': True, 'streamable': False, 'streamable_at': 1693206000, 'downloadable': False, 'purchasable_at': None, 'purchasable': False, 'release_date_original': '2022-01-07', 'release_date_download': '2022-01-07', 'release_date_stream': '2022-01-07', 'release_date_purchase': '2022-01-07', 'hires': True, 'hires_streamable': False}, 'work': None, 'composer': {'name': 'Rinze Hofstee', 'id': 806060}, 'isrc': 'DK4YA2272901', 'title': 'More Than I Want To', 'version': None, 'duration': 167, 'parental_warning': False, 'track_number': 1, 'maximum_channel_count': 2, 'id': 140354405, 'media_number': 1, 'maximum_sampling_rate': 44.1, 'articles': [{'id': 545861473, 'url': '/order/545861473', 'price': 1.49, 'currency': 'USD', 'type': 'lls', 'label': 'CD-quality', 'description': 'Lossless 16 bit/44.1 kHz (FLAC, ALAC, WMA, AIFF, WAV)'}, {'id': 545861474, 'url': '/order/545861474', 'price': 1.99, 'currency': 'USD', 'type': 'smr', 'label': 'Hi-Res', 'description': 'Up to 24 bit/96 kHz (FLAC, ALAC, WMA, AIFF, WAV)'}], 'release_date_original': None, 'release_date_download': None, 'release_date_stream': None, 'release_date_purchase': None, 'purchasable': True, 'streamable': False, 'previewable': True, 'sampleable': True, 'downloadable': True, 'displayable': True, 'purchasable_at': 1693206000, 'streamable_at': 1693206000, 'hires': True, 'hires_streamable': False, 'description': []}, {'maximum_bit_depth': 16, 'copyright': 'Revealed Music B.V. Revealed Music B.V.', 'performers': 'Sick Individuals, MainArtist - Pherato, Remixer', 'audio_info': {'replaygain_track_peak': 1, 'replaygain_track_gain': -11.52}, 'performer': {'name': 'Sick Individuals', 'id': 764370}, 'article_ids': {'LLS': 112416892, 'SMR': 112416893, 'SM2': 344212102}, 'album': {'image': {'small': 'https://static.qobuz.com/images/covers/vc/ww/am2ce2bzrwwvc_230.jpg', 'thumbnail': 'https://static.qobuz.com/images/covers/vc/ww/am2ce2bzrwwvc_50.jpg', 'large': 'https://static.qobuz.com/images/covers/vc/ww/am2ce2bzrwwvc_600.jpg'}, 'maximum_bit_depth': 16, 'media_count': 1, 'artist': {'image': None, 'name': 'Sick Individuals', 'id': 764370, 'albums_count': 192, 'slug': 'sick-individuals', 'picture': None}, 'upc': '7434007644692', 'released_at': 1512946800, 'label': {'name': 'Revealed Recordings', 'id': 157491, 'albums_count': 1388, 'supplier_id': 41, 'slug': 'revealed-recordings-1'}, 'title': 'Never Say Never', 'qobuz_id': 46253671, 'version': 'Pherato Remix', 'duration': 487, 'parental_warning': False, 'tracks_count': 2, 'popularity': 0, 'genre': {'path': [64, 129], 'color': '#0070ef', 'name': 'Dance', 'id': 129, 'slug': 'dance'}, 'maximum_channel_count': 2, 'id': 'am2ce2bzrwwvc', 'maximum_sampling_rate': 44.1, 'previewable': True, 'sampleable': True, 'displayable': True, 'streamable': False, 'streamable_at': 1688454000, 'downloadable': False, 'purchasable_at': None, 'purchasable': False, 'release_date_original': '2017-12-11', 'release_date_download': '2017-12-11', 'release_date_stream': '2017-12-11', 'release_date_purchase': '2017-12-11', 'hires': False, 'hires_streamable': False}, 'work': None, 'isrc': 'NLQ8D1700379', 'title': 'Never Say Never', 'version': 'Pherato Remix', 'duration': 196, 'parental_warning': False, 'track_number': 2, 'maximum_channel_count': 2, 'id': 46253673, 'media_number': 1, 'maximum_sampling_rate': 44.1, 'articles': [{'id': 112416892, 'url': '/order/112416892', 'price': 0.98, 'currency': 'USD', 'type': 'lls', 'label': 'CD-quality', 'description': 'Lossless 16 bit/44.1 kHz (FLAC, ALAC, WMA, AIFF, WAV)'}], 'release_date_original': None, 'release_date_download': None, 'release_date_stream': None, 'release_date_purchase': None, 'purchasable': True, 'streamable': False, 'previewable': True, 'sampleable': True, 'downloadable': True, 'displayable': True, 'purchasable_at': 1688454000, 'streamable_at': 1688454000, 'hires': False, 'hires_streamable': False, 'description': []}, {'maximum_bit_depth': 24, 'copyright': \"© 2022 Spinnin' Records Under exclusive license to Warner Music Group Germany Holding GmbH, ℗ 2022 Sick Individuals Entertainment BV\", 'performers': 'Sick Individuals, Producer, Programming, MainArtist - Rinze Hofstee, Composer - Joep Smeele, Composer - Cameron Warren, Lyricist - Jim Bergsted, Lyricist - Helge Reinsnes Moen, Lyricist', 'audio_info': {'replaygain_track_peak': 0.986053, 'replaygain_track_gain': -10.79}, 'performer': {'name': 'Sick Individuals', 'id': 764370}, 'article_ids': {'LLS': 747779274, 'SMR': 747779275, 'SM2': 747779276}, 'album': {'image': {'small': 'https://static.qobuz.com/images/covers/sa/ct/aqhmhl6skctsa_230.jpg', 'thumbnail': 'https://static.qobuz.com/images/covers/sa/ct/aqhmhl6skctsa_50.jpg', 'large': 'https://static.qobuz.com/images/covers/sa/ct/aqhmhl6skctsa_600.jpg'}, 'maximum_bit_depth': 24, 'media_count': 1, 'artist': {'image': None, 'name': 'Sick Individuals', 'id': 764370, 'albums_count': 192, 'slug': 'sick-individuals', 'picture': None}, 'upc': '5054197457906', 'released_at': 1669330800, 'label': {'name': \"Spinnin' Records\", 'id': 190680, 'albums_count': 4866, 'supplier_id': 5, 'slug': 'spinnin-records-4'}, 'title': 'Better with You', 'qobuz_id': 186452713, 'version': None, 'duration': 154, 'parental_warning': False, 'tracks_count': 1, 'popularity': 0, 'genre': {'path': [64, 129], 'color': '#0070ef', 'name': 'Dance', 'id': 129, 'slug': 'dance'}, 'maximum_channel_count': 2, 'id': 'aqhmhl6skctsa', 'maximum_sampling_rate': 44.1, 'previewable': True, 'sampleable': True, 'displayable': True, 'streamable': False, 'streamable_at': 1689836400, 'downloadable': False, 'purchasable_at': None, 'purchasable': False, 'release_date_original': '2022-11-25', 'release_date_download': '2022-11-25', 'release_date_stream': '2022-11-25', 'release_date_purchase': '2022-11-25', 'hires': True, 'hires_streamable': False}, 'work': None, 'composer': {'name': 'Joep Smeele', 'id': 806061}, 'isrc': 'DEA622201605', 'title': 'Better with You', 'version': None, 'duration': 154, 'parental_warning': False, 'track_number': 1, 'maximum_channel_count': 2, 'id': 186452714, 'media_number': 1, 'maximum_sampling_rate': 44.1, 'articles': [{'id': 747779274, 'url': '/order/747779274', 'price': 1.69, 'currency': 'USD', 'type': 'lls', 'label': 'CD-quality', 'description': 'Lossless 16 bit/44.1 kHz (FLAC, ALAC, WMA, AIFF, WAV)'}, {'id': 747779275, 'url': '/order/747779275', 'price': 1.99, 'currency': 'USD', 'type': 'smr', 'label': 'Hi-Res', 'description': 'Up to 24 bit/96 kHz (FLAC, ALAC, WMA, AIFF, WAV)'}], 'release_date_original': None, 'release_date_download': None, 'release_date_stream': None, 'release_date_purchase': None, 'purchasable': True, 'streamable': False, 'previewable': True, 'sampleable': True, 'downloadable': True, 'displayable': True, 'purchasable_at': 1689836400, 'streamable_at': 1689836400, 'hires': True, 'hires_streamable': False, 'description': []}, {'maximum_bit_depth': 16, 'copyright': '2013 Axtone Records Ltd. Axtone Records Ltd. 2016', 'performers': 'Sick Individuals, Primary\\r - Axwell, Primary', 'audio_info': {'replaygain_track_peak': 0.988617, 'replaygain_track_gain': -11.04}, 'performer': {'name': 'Sick Individuals', 'id': 764370}, 'article_ids': {'LLS': 76782158, 'SMR': 76782159, 'SM2': 331659627}, 'album': {'image': {'small': 'https://static.qobuz.com/images/covers/11/39/5060199553911_230.jpg', 'thumbnail': 'https://static.qobuz.com/images/covers/11/39/5060199553911_50.jpg', 'large': 'https://static.qobuz.com/images/covers/11/39/5060199553911_600.jpg'}, 'maximum_bit_depth': 16, 'media_count': 1, 'artist': {'image': None, 'name': 'Sick Individuals', 'id': 764370, 'albums_count': 192, 'slug': 'sick-individuals', 'picture': None}, 'upc': '5060199553911', 'released_at': 1379282400, 'label': {'name': 'Axtone Records', 'id': 139906, 'albums_count': 254, 'supplier_id': 41, 'slug': 'axtone-records'}, 'title': 'I AM', 'qobuz_id': 31873436, 'version': None, 'duration': 1773, 'parental_warning': False, 'tracks_count': 6, 'popularity': 0, 'genre': {'path': [64, 129], 'color': '#0070ef', 'name': 'Dance', 'id': 129, 'slug': 'dance'}, 'maximum_channel_count': 2, 'id': '5060199553911', 'maximum_sampling_rate': 44.1, 'previewable': True, 'sampleable': True, 'displayable': True, 'streamable': False, 'streamable_at': 1688454000, 'downloadable': False, 'purchasable_at': None, 'purchasable': False, 'release_date_original': '2013-09-16', 'release_date_download': '2013-09-16', 'release_date_stream': '2013-09-16', 'release_date_purchase': '2013-09-16', 'hires': False, 'hires_streamable': False}, 'work': None, 'isrc': 'GBKCF1300276', 'title': 'I AM', 'version': 'Radio Edit', 'duration': 203, 'parental_warning': False, 'track_number': 1, 'maximum_channel_count': 2, 'id': 31873437, 'media_number': 1, 'maximum_sampling_rate': 44.1, 'articles': [{'id': 76782158, 'url': '/order/76782158', 'price': 0.98, 'currency': 'USD', 'type': 'lls', 'label': 'CD-quality', 'description': 'Lossless 16 bit/44.1 kHz (FLAC, ALAC, WMA, AIFF, WAV)'}], 'release_date_original': None, 'release_date_download': None, 'release_date_stream': None, 'release_date_purchase': None, 'purchasable': True, 'streamable': False, 'previewable': True, 'sampleable': True, 'downloadable': True, 'displayable': True, 'purchasable_at': 1688454000, 'streamable_at': 1688454000, 'hires': False, 'hires_streamable': False, 'description': []}, {'maximum_bit_depth': 16, 'copyright': '2018 Proximity 2018 Proximity', 'performers': 'Chad Cates, ComposerLyricist - Jason Walker, FeaturedArtist, ComposerLyricist - Sick Individuals, MainArtist - Rinze Hofstee, ComposerLyricist - Joep Smeele, ComposerLyricist', 'audio_info': {'replaygain_track_peak': 0.986023, 'replaygain_track_gain': -11.44}, 'performer': {'name': 'Sick Individuals', 'id': 764370}, 'article_ids': {'LLS': 776753141, 'SMR': 776753142, 'SM2': 776753143}, 'album': {'image': {'small': 'https://static.qobuz.com/images/covers/ec/ub/ecqai8v1mubec_230.jpg', 'thumbnail': 'https://static.qobuz.com/images/covers/ec/ub/ecqai8v1mubec_50.jpg', 'large': 'https://static.qobuz.com/images/covers/ec/ub/ecqai8v1mubec_600.jpg'}, 'maximum_bit_depth': 16, 'media_count': 1, 'artist': {'image': None, 'name': 'Sick Individuals', 'id': 764370, 'albums_count': 192, 'slug': 'sick-individuals', 'picture': None}, 'upc': '0192641148323', 'released_at': 1531778400, 'label': {'name': 'Proximity', 'id': 3624861, 'albums_count': 412, 'supplier_id': 41, 'slug': 'proximity-3'}, 'title': 'Writing On The Wall (Extended Mix)', 'qobuz_id': 193081062, 'version': None, 'duration': 301, 'parental_warning': False, 'tracks_count': 1, 'popularity': 0, 'genre': {'path': [64, 129], 'color': '#0070ef', 'name': 'Dance', 'id': 129, 'slug': 'dance'}, 'maximum_channel_count': 2, 'id': 'ecqai8v1mubec', 'maximum_sampling_rate': 44.1, 'previewable': True, 'sampleable': True, 'displayable': True, 'streamable': False, 'streamable_at': 1688799600, 'downloadable': False, 'purchasable_at': None, 'purchasable': False, 'release_date_original': '2018-07-17', 'release_date_download': '2018-07-17', 'release_date_stream': '2018-07-17', 'release_date_purchase': '2018-07-17', 'hires': False, 'hires_streamable': False}, 'work': None, 'composer': {'name': 'Joep Smeele', 'id': 806061}, 'isrc': 'USA2P1855852', 'title': 'Writing On The Wall (Extended Mix)', 'version': None, 'duration': 301, 'parental_warning': False, 'track_number': 1, 'maximum_channel_count': 2, 'id': 193081063, 'media_number': 1, 'maximum_sampling_rate': 44.1, 'articles': [{'id': 776753141, 'url': '/order/776753141', 'price': 0.98, 'currency': 'USD', 'type': 'lls', 'label': 'CD-quality', 'description': 'Lossless 16 bit/44.1 kHz (FLAC, ALAC, WMA, AIFF, WAV)'}], 'release_date_original': None, 'release_date_download': None, 'release_date_stream': None, 'release_date_purchase': None, 'purchasable': True, 'streamable': False, 'previewable': True, 'sampleable': True, 'downloadable': True, 'displayable': True, 'purchasable_at': 1688799600, 'streamable_at': 1688799600, 'hires': False, 'hires_streamable': False, 'description': []}, {'maximum_bit_depth': 16, 'copyright': 'Revealed Music B.V. Revealed Music B.V.', 'performers': 'Sick Individuals, Producer, MainArtist - Sick Individuals Publishing, MusicPublisher', 'audio_info': {'replaygain_track_peak': 1, 'replaygain_track_gain': -11.58}, 'performer': {'name': 'Sick Individuals', 'id': 764370}, 'article_ids': {'LLS': 122792307, 'SMR': 122792308, 'SM2': 347922313}, 'album': {'image': {'small': 'https://static.qobuz.com/images/covers/ec/3e/osode2ts93eec_230.jpg', 'thumbnail': 'https://static.qobuz.com/images/covers/ec/3e/osode2ts93eec_50.jpg', 'large': 'https://static.qobuz.com/images/covers/ec/3e/osode2ts93eec_600.jpg'}, 'maximum_bit_depth': 16, 'media_count': 1, 'artist': {'image': None, 'name': 'Sick Individuals', 'id': 764370, 'albums_count': 192, 'slug': 'sick-individuals', 'picture': None}, 'upc': '7434007662603', 'released_at': 1526248800, 'label': {'name': 'Revealed Recordings', 'id': 157491, 'albums_count': 1388, 'supplier_id': 41, 'slug': 'revealed-recordings-1'}, 'title': 'KODI', 'qobuz_id': 49761411, 'version': None, 'duration': 457, 'parental_warning': False, 'tracks_count': 2, 'popularity': 0, 'genre': {'path': [64, 129], 'color': '#0070ef', 'name': 'Dance', 'id': 129, 'slug': 'dance'}, 'maximum_channel_count': 2, 'id': 'osode2ts93eec', 'maximum_sampling_rate': 44.1, 'previewable': True, 'sampleable': True, 'displayable': True, 'streamable': False, 'streamable_at': 1688454000, 'downloadable': False, 'purchasable_at': None, 'purchasable': False, 'release_date_original': '2018-05-14', 'release_date_download': '2018-05-14', 'release_date_stream': '2018-05-14', 'release_date_purchase': '2018-05-14', 'hires': False, 'hires_streamable': False}, 'work': None, 'isrc': 'NLQ8D1700521', 'title': 'KODI', 'version': None, 'duration': 208, 'parental_warning': False, 'track_number': 2, 'maximum_channel_count': 2, 'id': 49761413, 'media_number': 1, 'maximum_sampling_rate': 44.1, 'articles': [{'id': 122792307, 'url': '/order/122792307', 'price': 0.98, 'currency': 'USD', 'type': 'lls', 'label': 'CD-quality', 'description': 'Lossless 16 bit/44.1 kHz (FLAC, ALAC, WMA, AIFF, WAV)'}], 'release_date_original': None, 'release_date_download': None, 'release_date_stream': None, 'release_date_purchase': None, 'purchasable': True, 'streamable': False, 'previewable': True, 'sampleable': True, 'downloadable': True, 'displayable': True, 'purchasable_at': 1688454000, 'streamable_at': 1688454000, 'hires': False, 'hires_streamable': False, 'description': []}, {'maximum_bit_depth': 24, 'copyright': \"© 2023 Spinnin' Records ℗ 2023 Spinnin' Records\", 'performers': 'Sick Individuals, Programmer, MainArtist - Rinze Hofstee, Producer, Writer - Joep Smeele, Producer, Writer', 'audio_info': {'replaygain_track_peak': 0.986816, 'replaygain_track_gain': -12.27}, 'performer': {'name': 'Sick Individuals', 'id': 764370}, 'article_ids': {'LLS': 830037260, 'SMR': 830037261}, 'album': {'image': {'small': 'https://static.qobuz.com/images/covers/jb/9h/adhx2yd589hjb_230.jpg', 'thumbnail': 'https://static.qobuz.com/images/covers/jb/9h/adhx2yd589hjb_50.jpg', 'large': 'https://static.qobuz.com/images/covers/jb/9h/adhx2yd589hjb_600.jpg'}, 'maximum_bit_depth': 24, 'media_count': 1, 'artist': {'image': None, 'name': 'Sick Individuals', 'id': 764370, 'albums_count': 189, 'slug': 'sick-individuals', 'picture': None}, 'upc': '5054197683916', 'released_at': 1685656800, 'label': {'name': \"Spinnin' Records\", 'id': 190680, 'albums_count': 4815, 'supplier_id': 5, 'slug': 'spinnin-records-4'}, 'title': 'MAIA', 'qobuz_id': 212657884, 'version': None, 'duration': 188, 'parental_warning': False, 'tracks_count': 1, 'popularity': 0, 'genre': {'path': [64, 129], 'color': '#0070ef', 'name': 'Dance', 'id': 129, 'slug': 'dance'}, 'maximum_channel_count': 2, 'id': 'adhx2yd589hjb', 'maximum_sampling_rate': 44.1, 'previewable': True, 'sampleable': True, 'displayable': True, 'streamable': False, 'streamable_at': 1685689200, 'downloadable': False, 'purchasable_at': None, 'purchasable': False, 'release_date_original': '2023-06-02', 'release_date_download': '2023-06-02', 'release_date_stream': '2023-06-02', 'release_date_purchase': '2023-06-02', 'hires': True, 'hires_streamable': False}, 'work': None, 'isrc': 'NLZ542300737', 'title': 'MAIA', 'version': None, 'duration': 188, 'parental_warning': False, 'track_number': 1, 'maximum_channel_count': 2, 'id': 212657885, 'media_number': 1, 'maximum_sampling_rate': 44.1, 'articles': [{'id': 830037260, 'url': '/order/830037260', 'price': 1.69, 'currency': 'USD', 'type': 'lls', 'label': 'CD-quality', 'description': 'Lossless 16 bit/44.1 kHz (FLAC, ALAC, WMA, AIFF, WAV)'}, {'id': 830037261, 'url': '/order/830037261', 'price': 1.99, 'currency': 'USD', 'type': 'smr', 'label': 'Hi-Res', 'description': 'Up to 24 bit/96 kHz (FLAC, ALAC, WMA, AIFF, WAV)'}], 'release_date_original': None, 'release_date_download': None, 'release_date_stream': None, 'release_date_purchase': None, 'purchasable': True, 'streamable': False, 'previewable': True, 'sampleable': True, 'downloadable': True, 'displayable': True, 'purchasable_at': 1685689200, 'streamable_at': 1685689200, 'hires': True, 'hires_streamable': False, 'description': []}, {'maximum_bit_depth': 24, 'copyright': 'Armada Music B.V. Armada Music B.V.', 'performers': 'J. Keizer, Composer - Sick Individuals, MainArtist - R. Hofstee, Composer - J. Smeele, Composer - Mightyfools, MainArtist - A. Samin, Composer - Musicallstars Publishing, MusicPublisher - Sick Individuals Publishing, MusicPublisher', 'audio_info': {'replaygain_track_peak': 0.987579, 'replaygain_track_gain': -11.09}, 'performer': {'name': 'Sick Individuals', 'id': 764370}, 'article_ids': {'LLS': 133089590, 'SMR': 133089591, 'SM2': 351549003}, 'album': {'image': {'small': 'https://static.qobuz.com/images/covers/bb/v7/q6fj4a6u9v7bb_230.jpg', 'thumbnail': 'https://static.qobuz.com/images/covers/bb/v7/q6fj4a6u9v7bb_50.jpg', 'large': 'https://static.qobuz.com/images/covers/bb/v7/q6fj4a6u9v7bb_600.jpg'}, 'maximum_bit_depth': 24, 'media_count': 1, 'artist': {'image': None, 'name': 'Sick Individuals', 'id': 764370, 'albums_count': 192, 'slug': 'sick-individuals', 'picture': None}, 'upc': '8718522177729', 'released_at': 1512082800, 'label': {'name': 'Armada Trice', 'id': 248160, 'albums_count': 490, 'supplier_id': 41, 'slug': 'armada-trice'}, 'title': 'FLOW', 'qobuz_id': 53220241, 'version': None, 'duration': 162, 'parental_warning': False, 'tracks_count': 1, 'popularity': 0, 'genre': {'path': [64, 68], 'color': '#0070ef', 'name': 'House', 'id': 68, 'slug': 'house'}, 'maximum_channel_count': 2, 'id': 'q6fj4a6u9v7bb', 'maximum_sampling_rate': 44.1, 'previewable': True, 'sampleable': True, 'displayable': True, 'streamable': False, 'streamable_at': 1688540400, 'downloadable': False, 'purchasable_at': None, 'purchasable': False, 'release_date_original': '2017-12-01', 'release_date_download': '2017-12-01', 'release_date_stream': '2017-12-01', 'release_date_purchase': '2017-12-01', 'hires': True, 'hires_streamable': False}, 'work': None, 'composer': {'name': 'R. Hofstee', 'id': 955856}, 'isrc': 'NLF711711464', 'title': 'FLOW', 'version': None, 'duration': 162, 'parental_warning': False, 'track_number': 1, 'maximum_channel_count': 2, 'id': 53220242, 'media_number': 1, 'maximum_sampling_rate': 44.1, 'articles': [{'id': 133089590, 'url': '/order/133089590', 'price': 0.98, 'currency': 'USD', 'type': 'lls', 'label': 'CD-quality', 'description': 'Lossless 16 bit/44.1 kHz (FLAC, ALAC, WMA, AIFF, WAV)'}, {'id': 133089591, 'url': '/order/133089591', 'price': 1.22, 'currency': 'USD', 'type': 'smr', 'label': 'Hi-Res', 'description': 'Up to 24 bit/96 kHz (FLAC, ALAC, WMA, AIFF, WAV)'}], 'release_date_original': None, 'release_date_download': None, 'release_date_stream': None, 'release_date_purchase': None, 'purchasable': True, 'streamable': False, 'previewable': True, 'sampleable': True, 'downloadable': True, 'displayable': True, 'purchasable_at': 1688540400, 'streamable_at': 1688540400, 'hires': True, 'hires_streamable': False, 'description': []}, {'maximum_bit_depth': 16, 'copyright': \"© 2018 MAXXIMIZE / under exclusive license to Spinnin' Records BV ℗ 2018 MAXXIMIZE / under exclusive license to Spinnin' Records BV\", 'performers': 'Sick Individuals, Producer, Masterer, Programmer, MainArtist', 'audio_info': {'replaygain_track_peak': 1, 'replaygain_track_gain': -11.81}, 'performer': {'name': 'Sick Individuals', 'id': 764370}, 'article_ids': {'LLS': 120921629, 'SMR': 120921630, 'SM2': 347267833}, 'album': {'image': {'small': 'https://static.qobuz.com/images/covers/db/iz/uepnhugwhizdb_230.jpg', 'thumbnail': 'https://static.qobuz.com/images/covers/db/iz/uepnhugwhizdb_50.jpg', 'large': 'https://static.qobuz.com/images/covers/db/iz/uepnhugwhizdb_600.jpg'}, 'maximum_bit_depth': 16, 'media_count': 1, 'artist': {'image': None, 'name': 'Sick Individuals', 'id': 764370, 'albums_count': 189, 'slug': 'sick-individuals', 'picture': None}, 'upc': '0190295629557', 'released_at': 1527199200, 'label': {'name': 'MAXXIMIZE', 'id': 196741, 'albums_count': 388, 'supplier_id': 5, 'slug': 'maxximize'}, 'title': 'The Key', 'qobuz_id': 49125543, 'version': None, 'duration': 201, 'parental_warning': False, 'tracks_count': 1, 'popularity': 0, 'genre': {'path': [64, 129], 'color': '#0070ef', 'name': 'Dance', 'id': 129, 'slug': 'dance'}, 'maximum_channel_count': 2, 'id': 'uepnhugwhizdb', 'maximum_sampling_rate': 44.1, 'previewable': True, 'sampleable': True, 'displayable': True, 'streamable': False, 'streamable_at': 1685170800, 'downloadable': False, 'purchasable_at': None, 'purchasable': False, 'release_date_original': '2018-05-25', 'release_date_download': '2018-05-25', 'release_date_stream': '2018-05-25', 'release_date_purchase': '2018-05-25', 'hires': False, 'hires_streamable': False}, 'work': None, 'isrc': 'NLZ541800551', 'title': 'The Key', 'version': None, 'duration': 201, 'parental_warning': False, 'track_number': 1, 'maximum_channel_count': 2, 'id': 49125544, 'media_number': 1, 'maximum_sampling_rate': 44.1, 'articles': [], 'release_date_original': None, 'release_date_download': None, 'release_date_stream': None, 'release_date_purchase': None, 'purchasable': False, 'streamable': False, 'previewable': True, 'sampleable': True, 'downloadable': False, 'displayable': True, 'purchasable_at': None, 'streamable_at': 1685170800, 'hires': False, 'hires_streamable': False, 'description': []}, {'maximum_bit_depth': 24, 'copyright': '2019 Revealed Music B.V. 2019 Revealed Music B.V.', 'performers': 'Sick Individuals, MainArtist - Ultra Empire Music (BMI), MusicPublisher - April Bender, FeaturedArtist - Sick Individuals Publishing, MusicPublisher - April Michele Publishing (ASCAP)/ Vetiver Music (ASCAP), Administered by Kobalt Songs Music Publishing (ASCAP), MusicPublisher', 'audio_info': {'replaygain_track_peak': 0.987427, 'replaygain_track_gain': -11}, 'performer': {'name': 'Sick Individuals', 'id': 764370}, 'article_ids': {'LLS': 159430363, 'SMR': 159430364, 'SM2': 360901628}, 'album': {'image': {'small': 'https://static.qobuz.com/images/covers/ua/vi/xb5by18rtviua_230.jpg', 'thumbnail': 'https://static.qobuz.com/images/covers/ua/vi/xb5by18rtviua_50.jpg', 'large': 'https://static.qobuz.com/images/covers/ua/vi/xb5by18rtviua_600.jpg'}, 'maximum_bit_depth': 24, 'media_count': 1, 'artist': {'image': None, 'name': 'Sick Individuals', 'id': 764370, 'albums_count': 192, 'slug': 'sick-individuals', 'picture': None}, 'upc': '7434007734737', 'released_at': 1558648800, 'label': {'name': 'Revealed Recordings', 'id': 157491, 'albums_count': 1388, 'supplier_id': 41, 'slug': 'revealed-recordings-1'}, 'title': 'Humans (Let Me Love You)', 'qobuz_id': 62035233, 'version': None, 'duration': 414, 'parental_warning': False, 'tracks_count': 2, 'popularity': 0, 'genre': {'path': [64, 129], 'color': '#0070ef', 'name': 'Dance', 'id': 129, 'slug': 'dance'}, 'maximum_channel_count': 2, 'id': 'xb5by18rtviua', 'maximum_sampling_rate': 44.1, 'previewable': True, 'sampleable': True, 'displayable': True, 'streamable': False, 'streamable_at': 1688454000, 'downloadable': False, 'purchasable_at': None, 'purchasable': False, 'release_date_original': '2019-05-24', 'release_date_download': '2019-05-24', 'release_date_stream': '2019-05-24', 'release_date_purchase': '2019-05-24', 'hires': True, 'hires_streamable': False}, 'work': None, 'isrc': 'NLQ8D1900267', 'title': 'Humans (Let Me Love You)', 'version': 'Extended Mix', 'duration': 253, 'parental_warning': False, 'track_number': 1, 'maximum_channel_count': 2, 'id': 62035234, 'media_number': 1, 'maximum_sampling_rate': 44.1, 'articles': [{'id': 159430363, 'url': '/order/159430363', 'price': 0.98, 'currency': 'USD', 'type': 'lls', 'label': 'CD-quality', 'description': 'Lossless 16 bit/44.1 kHz (FLAC, ALAC, WMA, AIFF, WAV)'}, {'id': 159430364, 'url': '/order/159430364', 'price': 1.22, 'currency': 'USD', 'type': 'smr', 'label': 'Hi-Res', 'description': 'Up to 24 bit/96 kHz (FLAC, ALAC, WMA, AIFF, WAV)'}], 'release_date_original': None, 'release_date_download': None, 'release_date_stream': None, 'release_date_purchase': None, 'purchasable': True, 'streamable': False, 'previewable': True, 'sampleable': True, 'downloadable': True, 'displayable': True, 'purchasable_at': 1688454000, 'streamable_at': 1688454000, 'hires': True, 'hires_streamable': False, 'description': []}, {'maximum_bit_depth': 24, 'copyright': '(C) 2019 One Seven Music/disco:wax (P) 2019 One Seven Music/disco:wax', 'performers': 'WARNER/CHAPPELL, MusicPublisher - Sick Individuals, Producer, MainArtist - Rinze Hofstee, Composer - Joep Smeele, Composer - Toby van Veldhuizen, Composer - MpH, FeaturedArtist - Sick Individuals Publishing, MusicPublisher - Ella Molly Natalia Pettersson Hammar, Composer', 'audio_info': {'replaygain_track_peak': 0.987579, 'replaygain_track_gain': -10.17}, 'performer': {'name': 'Sick Individuals', 'id': 764370}, 'article_ids': {'LLS': 567492098, 'SMR': 567492099, 'SM2': 567492100}, 'album': {'image': {'small': 'https://static.qobuz.com/images/covers/ub/n1/d86tsxsb8n1ub_230.jpg', 'thumbnail': 'https://static.qobuz.com/images/covers/ub/n1/d86tsxsb8n1ub_50.jpg', 'large': 'https://static.qobuz.com/images/covers/ub/n1/d86tsxsb8n1ub_600.jpg'}, 'maximum_bit_depth': 24, 'media_count': 1, 'artist': {'image': None, 'name': 'Sick Individuals', 'id': 764370, 'albums_count': 192, 'slug': 'sick-individuals', 'picture': None}, 'upc': '0196626270313', 'released_at': 1534456800, 'label': {'name': 'One Seven Music', 'id': 252825, 'albums_count': 1059, 'supplier_id': 17, 'slug': 'one-seven-music'}, 'title': 'Easy', 'qobuz_id': 145288618, 'version': None, 'duration': 188, 'parental_warning': False, 'tracks_count': 1, 'popularity': 0, 'genre': {'path': [64], 'color': '#0070ef', 'name': 'Electronic', 'id': 64, 'slug': 'electro'}, 'maximum_channel_count': 2, 'id': 'd86tsxsb8n1ub', 'maximum_sampling_rate': 44.1, 'previewable': True, 'sampleable': True, 'displayable': True, 'streamable': False, 'streamable_at': 1692687600, 'downloadable': False, 'purchasable_at': None, 'purchasable': False, 'release_date_original': '2018-08-17', 'release_date_download': '2018-08-17', 'release_date_stream': '2018-08-17', 'release_date_purchase': '2018-08-17', 'hires': True, 'hires_streamable': False}, 'work': None, 'composer': {'name': 'Joep Smeele', 'id': 806061}, 'isrc': 'DK4YA1813501', 'title': 'Easy', 'version': None, 'duration': 188, 'parental_warning': False, 'track_number': 1, 'maximum_channel_count': 2, 'id': 145288619, 'media_number': 1, 'maximum_sampling_rate': 44.1, 'articles': [{'id': 567492098, 'url': '/order/567492098', 'price': 1.49, 'currency': 'USD', 'type': 'lls', 'label': 'CD-quality', 'description': 'Lossless 16 bit/44.1 kHz (FLAC, ALAC, WMA, AIFF, WAV)'}, {'id': 567492099, 'url': '/order/567492099', 'price': 1.99, 'currency': 'USD', 'type': 'smr', 'label': 'Hi-Res', 'description': 'Up to 24 bit/96 kHz (FLAC, ALAC, WMA, AIFF, WAV)'}], 'release_date_original': None, 'release_date_download': None, 'release_date_stream': None, 'release_date_purchase': None, 'purchasable': True, 'streamable': False, 'previewable': True, 'sampleable': True, 'downloadable': True, 'displayable': True, 'purchasable_at': 1692687600, 'streamable_at': 1692687600, 'hires': True, 'hires_streamable': False, 'description': []}, {'maximum_bit_depth': 24, 'copyright': '(C) 2022 NEWMADE (P) 2022 NEWMADE', 'performers': 'Sick Individuals, MainArtist - Rinze Hofstee, Composer, Producer - Joep Smeele, Composer, Producer - Strengholt Music Publishing, MusicPublisher - Sick Individuals Publishing, MusicPublisher - Richy Sebastian, Composer - Nazzereene Taleb, Composer - Nazzereene, FeaturedArtist - Finger-Printz Muzic, MusicPublisher - Anthony Polimeni, Composer', 'audio_info': {'replaygain_track_peak': 0.998871, 'replaygain_track_gain': -12.05}, 'performer': {'name': 'Sick Individuals', 'id': 764370}, 'article_ids': {'LLS': 693554275, 'SMR': 693554276, 'SM2': 693554277}, 'album': {'image': {'small': 'https://static.qobuz.com/images/covers/tc/ai/ue9xnp40faitc_230.jpg', 'thumbnail': 'https://static.qobuz.com/images/covers/tc/ai/ue9xnp40faitc_50.jpg', 'large': 'https://static.qobuz.com/images/covers/tc/ai/ue9xnp40faitc_600.jpg'}, 'maximum_bit_depth': 24, 'media_count': 1, 'artist': {'image': None, 'name': 'Sick Individuals', 'id': 764370, 'albums_count': 182, 'slug': 'sick-individuals', 'picture': None}, 'upc': '0196589467539', 'released_at': 1663884000, 'label': {'name': 'NEWMADE Music', 'id': 2178408, 'albums_count': 5, 'supplier_id': 17, 'slug': 'newmade-music'}, 'title': 'Fireflies (feat. Nazzereene)', 'qobuz_id': 173978391, 'version': None, 'duration': 181, 'parental_warning': False, 'tracks_count': 1, 'popularity': 0, 'genre': {'path': [64], 'color': '#0070ef', 'name': 'Electronic', 'id': 64, 'slug': 'electro'}, 'maximum_channel_count': 2, 'id': 'ue9xnp40faitc', 'maximum_sampling_rate': 44.1, 'previewable': True, 'sampleable': True, 'displayable': True, 'streamable': False, 'streamable_at': 1664175600, 'downloadable': False, 'purchasable_at': None, 'purchasable': False, 'release_date_original': '2022-09-23', 'release_date_download': '2022-09-23', 'release_date_stream': '2022-09-23', 'release_date_purchase': '2022-09-23', 'hires': True, 'hires_streamable': False}, 'work': None, 'composer': {'name': 'Joep Smeele', 'id': 806061}, 'isrc': 'DK4YA2290701', 'title': 'Fireflies (feat. Nazzereene)', 'version': None, 'duration': 181, 'parental_warning': False, 'track_number': 1, 'maximum_channel_count': 2, 'id': 173978392, 'media_number': 1, 'maximum_sampling_rate': 44.1, 'articles': [{'id': 693554275, 'url': '/order/693554275', 'price': 1.49, 'currency': 'USD', 'type': 'lls', 'label': 'CD-quality', 'description': 'Lossless 16 bit/44.1 kHz (FLAC, ALAC, WMA, AIFF, WAV)'}, {'id': 693554276, 'url': '/order/693554276', 'price': 1.99, 'currency': 'USD', 'type': 'smr', 'label': 'Hi-Res', 'description': 'Up to 24 bit/96 kHz (FLAC, ALAC, WMA, AIFF, WAV)'}], 'release_date_original': None, 'release_date_download': None, 'release_date_stream': None, 'release_date_purchase': None, 'purchasable': True, 'streamable': False, 'previewable': True, 'sampleable': True, 'downloadable': True, 'displayable': True, 'purchasable_at': 1664175600, 'streamable_at': 1664175600, 'hires': True, 'hires_streamable': False, 'description': []}, {'maximum_bit_depth': 24, 'copyright': '2021 Revealed Music B.V. 2021 Revealed Music B.V.', 'performers': 'Ekko, Lyricist, MainArtist - Sick Individuals, Producer, MainArtist - Rinze Hofstee, Composer - Joep Smeele, Composer - Warner Chappell Publishing, MusicPublisher - Sick Individuals Publishing, MusicPublisher - Songtrust, MusicPublisher - Rebekka Danielsson, Lyricist - Louis Cillian Ryan, ComposerLyricist', 'audio_info': {'replaygain_track_peak': 0.991974, 'replaygain_track_gain': -11.88}, 'performer': {'name': 'Sick Individuals', 'id': 764370}, 'article_ids': {'LLS': 458376268, 'SMR': 458376269, 'SM2': 458376270}, 'album': {'image': {'small': 'https://static.qobuz.com/images/covers/ma/nr/aczowafm3nrma_230.jpg', 'thumbnail': 'https://static.qobuz.com/images/covers/ma/nr/aczowafm3nrma_50.jpg', 'large': 'https://static.qobuz.com/images/covers/ma/nr/aczowafm3nrma_600.jpg'}, 'maximum_bit_depth': 24, 'media_count': 1, 'artist': {'image': None, 'name': 'Sick Individuals', 'id': 764370, 'albums_count': 192, 'slug': 'sick-individuals', 'picture': None}, 'upc': '7434007934984', 'released_at': 1618524000, 'label': {'name': 'Revealed Recordings', 'id': 157491, 'albums_count': 1388, 'supplier_id': 41, 'slug': 'revealed-recordings-1'}, 'title': 'Flame', 'qobuz_id': 119900432, 'version': None, 'duration': 462, 'parental_warning': False, 'tracks_count': 2, 'popularity': 0, 'genre': {'path': [64, 129], 'color': '#0070ef', 'name': 'Dance', 'id': 129, 'slug': 'dance'}, 'maximum_channel_count': 2, 'id': 'aczowafm3nrma', 'maximum_sampling_rate': 44.1, 'previewable': True, 'sampleable': True, 'displayable': True, 'streamable': False, 'streamable_at': 1688454000, 'downloadable': False, 'purchasable_at': None, 'purchasable': False, 'release_date_original': '2021-04-16', 'release_date_download': '2021-04-16', 'release_date_stream': '2021-04-16', 'release_date_purchase': '2021-04-16', 'hires': True, 'hires_streamable': False}, 'work': None, 'composer': {'name': 'Joep Smeele', 'id': 806061}, 'isrc': 'NLQ8D2100649', 'title': 'Flame', 'version': None, 'duration': 171, 'parental_warning': False, 'track_number': 1, 'maximum_channel_count': 2, 'id': 119900433, 'media_number': 1, 'maximum_sampling_rate': 44.1, 'articles': [{'id': 458376268, 'url': '/order/458376268', 'price': 0.98, 'currency': 'USD', 'type': 'lls', 'label': 'CD-quality', 'description': 'Lossless 16 bit/44.1 kHz (FLAC, ALAC, WMA, AIFF, WAV)'}, {'id': 458376269, 'url': '/order/458376269', 'price': 1.22, 'currency': 'USD', 'type': 'smr', 'label': 'Hi-Res', 'description': 'Up to 24 bit/96 kHz (FLAC, ALAC, WMA, AIFF, WAV)'}], 'release_date_original': None, 'release_date_download': None, 'release_date_stream': None, 'release_date_purchase': None, 'purchasable': True, 'streamable': False, 'previewable': True, 'sampleable': True, 'downloadable': True, 'displayable': True, 'purchasable_at': 1688454000, 'streamable_at': 1688454000, 'hires': True, 'hires_streamable': False, 'description': []}, {'maximum_bit_depth': 24, 'copyright': 'Revealed Music B.V. Revealed Music B.V.', 'performers': 'Greyson Chance, FeaturedArtist - Sick Individuals, MainArtist', 'audio_info': {'replaygain_track_peak': 0.998566, 'replaygain_track_gain': -9.7}, 'performer': {'name': 'Sick Individuals', 'id': 764370}, 'article_ids': {'LLS': 116362623, 'SMR': 116362624, 'SM2': 345643644}, 'album': {'image': {'small': 'https://static.qobuz.com/images/covers/ja/7e/s0paqkohl7eja_230.jpg', 'thumbnail': 'https://static.qobuz.com/images/covers/ja/7e/s0paqkohl7eja_50.jpg', 'large': 'https://static.qobuz.com/images/covers/ja/7e/s0paqkohl7eja_600.jpg'}, 'maximum_bit_depth': 24, 'media_count': 1, 'artist': {'image': None, 'name': 'Sick Individuals', 'id': 764370, 'albums_count': 192, 'slug': 'sick-individuals', 'picture': None}, 'upc': '7434007650648', 'released_at': 1519340400, 'label': {'name': 'Revealed Recordings', 'id': 157491, 'albums_count': 1388, 'supplier_id': 41, 'slug': 'revealed-recordings-1'}, 'title': 'Walk Away', 'qobuz_id': 47583811, 'version': 'The Remixes', 'duration': 364, 'parental_warning': False, 'tracks_count': 2, 'popularity': 0, 'genre': {'path': [64, 129], 'color': '#0070ef', 'name': 'Dance', 'id': 129, 'slug': 'dance'}, 'maximum_channel_count': 2, 'id': 's0paqkohl7eja', 'maximum_sampling_rate': 44.1, 'previewable': True, 'sampleable': True, 'displayable': True, 'streamable': False, 'streamable_at': 1688454000, 'downloadable': False, 'purchasable_at': None, 'purchasable': False, 'release_date_original': '2018-02-23', 'release_date_download': '2018-02-23', 'release_date_stream': '2018-02-23', 'release_date_purchase': '2018-02-23', 'hires': True, 'hires_streamable': False}, 'work': None, 'isrc': 'NLQ8D1700438', 'title': 'Walk Away', 'version': 'Summer Vibe Remode', 'duration': 186, 'parental_warning': False, 'track_number': 1, 'maximum_channel_count': 2, 'id': 47583812, 'media_number': 1, 'maximum_sampling_rate': 44.1, 'articles': [{'id': 116362623, 'url': '/order/116362623', 'price': 0.98, 'currency': 'USD', 'type': 'lls', 'label': 'CD-quality', 'description': 'Lossless 16 bit/44.1 kHz (FLAC, ALAC, WMA, AIFF, WAV)'}, {'id': 116362624, 'url': '/order/116362624', 'price': 1.22, 'currency': 'USD', 'type': 'smr', 'label': 'Hi-Res', 'description': 'Up to 24 bit/96 kHz (FLAC, ALAC, WMA, AIFF, WAV)'}], 'release_date_original': None, 'release_date_download': None, 'release_date_stream': None, 'release_date_purchase': None, 'purchasable': True, 'streamable': False, 'previewable': True, 'sampleable': True, 'downloadable': True, 'displayable': True, 'purchasable_at': 1688454000, 'streamable_at': 1688454000, 'hires': True, 'hires_streamable': False, 'description': []}, {'maximum_bit_depth': 24, 'copyright': 'Revealed Music B.V. Revealed Music B.V.', 'performers': 'Copyright Control, MusicPublisher - Sick Individuals, MainArtist - Sick Individuals Publishing, MusicPublisher - Jewelz & Sparks, MainArtist', 'audio_info': {'replaygain_track_peak': 1, 'replaygain_track_gain': -10.94}, 'performer': {'name': 'Sick Individuals', 'id': 764370}, 'article_ids': {'LLS': 130094954, 'SMR': 130094955, 'SM2': 350485034}, 'album': {'image': {'small': 'https://static.qobuz.com/images/covers/bb/ig/atwh84xugigbb_230.jpg', 'thumbnail': 'https://static.qobuz.com/images/covers/bb/ig/atwh84xugigbb_50.jpg', 'large': 'https://static.qobuz.com/images/covers/bb/ig/atwh84xugigbb_600.jpg'}, 'maximum_bit_depth': 16, 'media_count': 1, 'artist': {'image': None, 'name': 'Sick Individuals', 'id': 764370, 'albums_count': 192, 'slug': 'sick-individuals', 'picture': None}, 'upc': '7434007671629', 'released_at': 1533247200, 'label': {'name': 'Revealed Recordings', 'id': 157491, 'albums_count': 1388, 'supplier_id': 41, 'slug': 'revealed-recordings-1'}, 'title': 'Reaction', 'qobuz_id': 52169803, 'version': None, 'duration': 413, 'parental_warning': False, 'tracks_count': 2, 'popularity': 0, 'genre': {'path': [64, 129], 'color': '#0070ef', 'name': 'Dance', 'id': 129, 'slug': 'dance'}, 'maximum_channel_count': 2, 'id': 'atwh84xugigbb', 'maximum_sampling_rate': 44.1, 'previewable': True, 'sampleable': True, 'displayable': True, 'streamable': False, 'streamable_at': 1688454000, 'downloadable': False, 'purchasable_at': None, 'purchasable': False, 'release_date_original': '2018-08-03', 'release_date_download': '2018-08-03', 'release_date_stream': '2018-08-03', 'release_date_purchase': '2018-08-03', 'hires': False, 'hires_streamable': False}, 'work': None, 'isrc': 'NLQ8D1800016', 'title': 'Reaction', 'version': None, 'duration': 172, 'parental_warning': False, 'track_number': 2, 'maximum_channel_count': 2, 'id': 52169805, 'media_number': 1, 'maximum_sampling_rate': 44.1, 'articles': [{'id': 130094954, 'url': '/order/130094954', 'price': 0.98, 'currency': 'USD', 'type': 'lls', 'label': 'CD-quality', 'description': 'Lossless 16 bit/44.1 kHz (FLAC, ALAC, WMA, AIFF, WAV)'}], 'release_date_original': None, 'release_date_download': None, 'release_date_stream': None, 'release_date_purchase': None, 'purchasable': True, 'streamable': False, 'previewable': True, 'sampleable': True, 'downloadable': True, 'displayable': True, 'purchasable_at': 1688454000, 'streamable_at': 1688454000, 'hires': True, 'hires_streamable': False, 'description': []}, {'maximum_bit_depth': 16, 'copyright': '2016 Revealed Music B.V. 2016 Revealed Music B.V.', 'performers': 'Copyright Control, MusicPublisher - Sick Individuals, MainArtist - Rinze Hofstee, Composer, Lyricist, Producer - Joep Smeele, Composer, Lyricist, Producer', 'audio_info': {'replaygain_track_peak': 1, 'replaygain_track_gain': -10.31}, 'performer': {'name': 'Sick Individuals', 'id': 764370}, 'article_ids': {'LLS': 649583272, 'SMR': 649583273, 'SM2': 649583274}, 'album': {'image': {'small': 'https://static.qobuz.com/images/covers/wb/e2/sy9zgcpa2e2wb_230.jpg', 'thumbnail': 'https://static.qobuz.com/images/covers/wb/e2/sy9zgcpa2e2wb_50.jpg', 'large': 'https://static.qobuz.com/images/covers/wb/e2/sy9zgcpa2e2wb_600.jpg'}, 'maximum_bit_depth': 16, 'media_count': 1, 'artist': {'image': None, 'name': 'Sick Individuals', 'id': 764370, 'albums_count': 192, 'slug': 'sick-individuals', 'picture': None}, 'upc': '8718521046927', 'released_at': 1480028400, 'label': {'name': 'Revealed Recordings', 'id': 157491, 'albums_count': 1388, 'supplier_id': 41, 'slug': 'revealed-recordings-1'}, 'title': 'Alive', 'qobuz_id': 163933341, 'version': None, 'duration': 438, 'parental_warning': False, 'tracks_count': 2, 'popularity': 0, 'genre': {'path': [64, 129], 'color': '#0070ef', 'name': 'Dance', 'id': 129, 'slug': 'dance'}, 'maximum_channel_count': 2, 'id': 'sy9zgcpa2e2wb', 'maximum_sampling_rate': 44.1, 'previewable': True, 'sampleable': True, 'displayable': True, 'streamable': False, 'streamable_at': 1688454000, 'downloadable': False, 'purchasable_at': None, 'purchasable': False, 'release_date_original': '2016-11-25', 'release_date_download': '2016-11-25', 'release_date_stream': '2016-11-25', 'release_date_purchase': '2016-11-25', 'hires': False, 'hires_streamable': False}, 'work': None, 'composer': {'name': 'Joep Smeele', 'id': 806061}, 'isrc': 'NLS241601776', 'title': 'Alive', 'version': 'Extended Mix', 'duration': 244, 'parental_warning': False, 'track_number': 2, 'maximum_channel_count': 2, 'id': 163933343, 'media_number': 1, 'maximum_sampling_rate': 44.1, 'articles': [{'id': 649583272, 'url': '/order/649583272', 'price': 0.98, 'currency': 'USD', 'type': 'lls', 'label': 'CD-quality', 'description': 'Lossless 16 bit/44.1 kHz (FLAC, ALAC, WMA, AIFF, WAV)'}], 'release_date_original': None, 'release_date_download': None, 'release_date_stream': None, 'release_date_purchase': None, 'purchasable': True, 'streamable': False, 'previewable': True, 'sampleable': True, 'downloadable': True, 'displayable': True, 'purchasable_at': 1688454000, 'streamable_at': 1688454000, 'hires': False, 'hires_streamable': False, 'description': []}, {'maximum_bit_depth': 24, 'copyright': '2020 Revealed Music B.V. 2020 Revealed Music B.V.', 'performers': 'Copyright Control, MusicPublisher - Sick Individuals, MainArtist - Rinze Hofstee, Composer - Joep Smeele, Composer - Justin Prime, Composer, MainArtist - Strengholt Music Group, MusicPublisher - Sick Individuals Publishing, MusicPublisher - Kathy Hinch, Lyricist, ComposerLyricist - Antoni Polimeni, ComposerLyricist - Richy Sebastian, ComposerLyricist - TPM Publishing B.V., MusicPublisher - Lasada, MainArtist', 'audio_info': {'replaygain_track_peak': 0.986053, 'replaygain_track_gain': -12.44}, 'performer': {'name': 'Sick Individuals', 'id': 764370}, 'article_ids': {'LLS': 278444367, 'SMR': 278444368, 'SM2': 403390590}, 'album': {'image': {'small': 'https://static.qobuz.com/images/covers/8b/yz/qxl5kbycgyz8b_230.jpg', 'thumbnail': 'https://static.qobuz.com/images/covers/8b/yz/qxl5kbycgyz8b_50.jpg', 'large': 'https://static.qobuz.com/images/covers/8b/yz/qxl5kbycgyz8b_600.jpg'}, 'maximum_bit_depth': 24, 'media_count': 1, 'artist': {'image': None, 'name': 'Sick Individuals', 'id': 764370, 'albums_count': 192, 'slug': 'sick-individuals', 'picture': None}, 'upc': '7434007877816', 'released_at': 1598565600, 'label': {'name': 'Revealed Recordings', 'id': 157491, 'albums_count': 1388, 'supplier_id': 41, 'slug': 'revealed-recordings-1'}, 'title': 'Ocean', 'qobuz_id': 100677746, 'version': None, 'duration': 384, 'parental_warning': False, 'tracks_count': 2, 'popularity': 0, 'genre': {'path': [64, 129], 'color': '#0070ef', 'name': 'Dance', 'id': 129, 'slug': 'dance'}, 'maximum_channel_count': 2, 'id': 'qxl5kbycgyz8b', 'maximum_sampling_rate': 44.1, 'previewable': True, 'sampleable': True, 'displayable': True, 'streamable': False, 'streamable_at': 1688454000, 'downloadable': False, 'purchasable_at': None, 'purchasable': False, 'release_date_original': '2020-08-28', 'release_date_download': '2020-08-28', 'release_date_stream': '2020-08-28', 'release_date_purchase': '2020-08-28', 'hires': True, 'hires_streamable': False}, 'work': None, 'composer': {'name': 'Joep Smeele', 'id': 806061}, 'isrc': 'NLQ8D2000566', 'title': 'Ocean', 'version': None, 'duration': 161, 'parental_warning': False, 'track_number': 1, 'maximum_channel_count': 2, 'id': 100677747, 'media_number': 1, 'maximum_sampling_rate': 44.1, 'articles': [{'id': 278444367, 'url': '/order/278444367', 'price': 0.98, 'currency': 'USD', 'type': 'lls', 'label': 'CD-quality', 'description': 'Lossless 16 bit/44.1 kHz (FLAC, ALAC, WMA, AIFF, WAV)'}, {'id': 278444368, 'url': '/order/278444368', 'price': 1.22, 'currency': 'USD', 'type': 'smr', 'label': 'Hi-Res', 'description': 'Up to 24 bit/96 kHz (FLAC, ALAC, WMA, AIFF, WAV)'}], 'release_date_original': None, 'release_date_download': None, 'release_date_stream': None, 'release_date_purchase': None, 'purchasable': True, 'streamable': False, 'previewable': True, 'sampleable': True, 'downloadable': True, 'displayable': True, 'purchasable_at': 1688454000, 'streamable_at': 1688454000, 'hires': True, 'hires_streamable': False, 'description': []}, {'maximum_bit_depth': 16, 'copyright': '2014 Revealed Music B.V. 2014 Revealed Music B.V.', 'performers': 'Copyright Control, MusicPublisher - Sick Individuals, MainArtist - Rinze Hofstee, Composer, Lyricist, Producer - Joep Smeele, Composer, Producer', 'audio_info': {'replaygain_track_peak': 1, 'replaygain_track_gain': -11.4}, 'performer': {'name': 'Sick Individuals', 'id': 764370}, 'article_ids': {'LLS': 649605326, 'SMR': 649605327, 'SM2': 649605328}, 'album': {'image': {'small': 'https://static.qobuz.com/images/covers/9a/pe/n396jja3npe9a_230.jpg', 'thumbnail': 'https://static.qobuz.com/images/covers/9a/pe/n396jja3npe9a_50.jpg', 'large': 'https://static.qobuz.com/images/covers/9a/pe/n396jja3npe9a_600.jpg'}, 'maximum_bit_depth': 16, 'media_count': 1, 'artist': {'image': None, 'name': 'Sick Individuals', 'id': 764370, 'albums_count': 192, 'slug': 'sick-individuals', 'picture': None}, 'upc': '8718521028312', 'released_at': 1415574000, 'label': {'name': 'Revealed Recordings', 'id': 157491, 'albums_count': 1388, 'supplier_id': 41, 'slug': 'revealed-recordings-1'}, 'title': 'Made For This', 'qobuz_id': 163938514, 'version': None, 'duration': 579, 'parental_warning': False, 'tracks_count': 2, 'popularity': 0, 'genre': {'path': [64, 68], 'color': '#0070ef', 'name': 'House', 'id': 68, 'slug': 'house'}, 'maximum_channel_count': 2, 'id': 'n396jja3npe9a', 'maximum_sampling_rate': 44.1, 'previewable': True, 'sampleable': True, 'displayable': True, 'streamable': False, 'streamable_at': 1688454000, 'downloadable': False, 'purchasable_at': None, 'purchasable': False, 'release_date_original': '2014-11-10', 'release_date_download': '2014-11-10', 'release_date_stream': '2014-11-10', 'release_date_purchase': '2014-11-10', 'hires': False, 'hires_streamable': False}, 'work': None, 'composer': {'name': 'Rinze Hofstee', 'id': 806060}, 'isrc': 'NLS241401854', 'title': 'Made For This', 'version': 'Extended Mix', 'duration': 390, 'parental_warning': False, 'track_number': 2, 'maximum_channel_count': 2, 'id': 163938516, 'media_number': 1, 'maximum_sampling_rate': 44.1, 'articles': [{'id': 649605326, 'url': '/order/649605326', 'price': 1.53, 'currency': 'USD', 'type': 'lls', 'label': 'CD-quality', 'description': 'Lossless 16 bit/44.1 kHz (FLAC, ALAC, WMA, AIFF, WAV)'}], 'release_date_original': None, 'release_date_download': None, 'release_date_stream': None, 'release_date_purchase': None, 'purchasable': True, 'streamable': False, 'previewable': True, 'sampleable': True, 'downloadable': True, 'displayable': True, 'purchasable_at': 1688454000, 'streamable_at': 1688454000, 'hires': False, 'hires_streamable': False, 'description': []}]}}]\n"
     ]
    }
   ],
   "source": [
    "# session_guest = qobuz.Session(authenticate=False)\n",
    "# We are reusing the unauthenticated qobuz.Session object from before.\n",
    "\n",
    "artist_json = session_guest.get_artist(artist_id, extras=[\"albums\", \"playlists\", \"tracks\"], limit=5)\n",
    "for key, value in artist_json.items():\n",
    "    print(key, value, sep=\": \")"
   ]
  },
  {
   "attachments": {},
   "cell_type": "markdown",
   "metadata": {},
   "source": [
    "We can see that the artist's albums, playlists, and tracks are stored in their respective keys above.\n",
    "\n",
    "The only other interesting piece of information returned is a short biography of the artist:"
   ]
  },
  {
   "cell_type": "code",
   "execution_count": 16,
   "metadata": {
    "tags": []
   },
   "outputs": [
    {
     "name": "stdout",
     "output_type": "stream",
     "text": [
      "Dutch EDM duo Sick Individuals write boisterous, catchy dance tunes equally suited for festivals and the radio. The duo consists of Joep Smeele and Rinze Hofstee, who met in 2008 while studying music composition. Both individuals already had experience penning music for commercials, but they bonded over a mutual love for acts like Daft Punk and Swedish House Mafia, and decided to make dance music together. Sick Individuals began releasing original tracks on Sneakerz Muzik in 2010, and were initially more prolific as remixers, with clients including Flo Rida, Nicky Romero, and Freestylers. Their mix of Icona Pop's 2012 smash hit \"I Love It\" was particularly well received, and the duo followed it with numerous singles on labels like Revealed Recordings, Axtone, Onelove, and Armada. Collaborations with Dannic (\"Blueprint\") and Axwell (\"I Am\") both topped charts of dance music retailer Beatport, and the duo remixed songs by Madonna, Rihanna, Lady Gaga, Avicii, and numerous other stars. Sick Individuals have also performed at several major EDM festivals, including Tomorrowland, Ultra, and Creamfields. They host a podcast series as well, titled This Is Sick, which is also the name of a CD Japanese label Avex Trax released in 2015, compiling some of the duo's biggest tracks. In 2019, they issued the single \"Scars,\" featuring Cub Rayan.\n"
     ]
    }
   ],
   "source": [
    "print(artist_json['biography']['content'].split('\\n')[0])"
   ]
  },
  {
   "attachments": {},
   "cell_type": "markdown",
   "metadata": {},
   "source": [
    "### Object-oriented approach\n",
    "\n",
    "First, we directly create a `qobuz.Artist` object using the artist's Qobuz ID. We also request albums, playlists, and tracks that the artist contributed to by including the `extras=[\"albums\", \"playlists\", \"tracks\"]` parameter. Information about the artist is automatically retrieved."
   ]
  },
  {
   "cell_type": "code",
   "execution_count": 17,
   "metadata": {},
   "outputs": [
    {
     "name": "stdout",
     "output_type": "stream",
     "text": [
      "Qobuz artist: Sick Individuals\n"
     ]
    }
   ],
   "source": [
    "artist_obj = qobuz.Artist(artist_id, extras=[\"albums\", \"playlists\", \"tracks\"], limit=3, authenticate=False)\n",
    "print(artist_obj)"
   ]
  },
  {
   "attachments": {},
   "cell_type": "markdown",
   "metadata": {},
   "source": [
    "Below are the albums, playlists, and tracks that were requested:"
   ]
  },
  {
   "cell_type": "code",
   "execution_count": 18,
   "metadata": {},
   "outputs": [
    {
     "name": "stdout",
     "output_type": "stream",
     "text": [
      "Qobuz album: 'We Go Out' [artist: Alesso]\n",
      "Qobuz album: 'My Life (feat. The Runaway Club)' [artist: THE RUNAWAY CLUB]\n",
      "Qobuz album: 'Apollo (SICK INDIVIDUALS Remix)' [artist: Hardwell]\n",
      "Qobuz playlist: 'Sick Individuals' [owner: Qobuz]\n",
      "Qobuz track: 'Good Times' [artist: Sick Individuals, album: Good Times]\n",
      "Qobuz track: 'The Playground' [artist: Sick Individuals, album: The Playground]\n",
      "Qobuz track: 'YOU (feat. Dotter) [Mixed]' [artist: Sick Individuals, album: Nocturnal Vibes 325 (DJ Mix)]\n"
     ]
    }
   ],
   "source": [
    "for album in artist_obj.albums:\n",
    "    print(album)\n",
    "for playlist in artist_obj.playlists:\n",
    "    print(playlist)\n",
    "for track in artist_obj.tracks:\n",
    "    print(track)"
   ]
  },
  {
   "attachments": {},
   "cell_type": "markdown",
   "metadata": {},
   "source": [
    "Like before, a brief summary of the artist is available:"
   ]
  },
  {
   "cell_type": "code",
   "execution_count": 19,
   "metadata": {},
   "outputs": [
    {
     "name": "stdout",
     "output_type": "stream",
     "text": [
      "Dutch EDM duo Sick Individuals write boisterous, catchy dance tunes equally suited for festivals and the radio. The duo consists of Joep Smeele and Rinze Hofstee, who met in 2008 while studying music composition. Both individuals already had experience penning music for commercials, but they bonded over a mutual love for acts like Daft Punk and Swedish House Mafia, and decided to make dance music together. Sick Individuals began releasing original tracks on Sneakerz Muzik in 2010, and were initially more prolific as remixers, with clients including Flo Rida, Nicky Romero, and Freestylers. Their mix of Icona Pop's 2012 smash hit \"I Love It\" was particularly well received, and the duo followed it with numerous singles on labels like Revealed Recordings, Axtone, Onelove, and Armada. Collaborations with Dannic (\"Blueprint\") and Axwell (\"I Am\") both topped charts of dance music retailer Beatport, and the duo remixed songs by Madonna, Rihanna, Lady Gaga, Avicii, and numerous other stars. Sick Individuals have also performed at several major EDM festivals, including Tomorrowland, Ultra, and Creamfields. They host a podcast series as well, titled This Is Sick, which is also the name of a CD Japanese label Avex Trax released in 2015, compiling some of the duo's biggest tracks. In 2019, they issued the single \"Scars,\" featuring Cub Rayan.\n"
     ]
    }
   ],
   "source": [
    "print(artist_obj.biography.split(\"\\n\")[0])"
   ]
  },
  {
   "attachments": {},
   "cell_type": "markdown",
   "metadata": {},
   "source": [
    ":::{seealso}\n",
    "While methods like `qobuz.Artist.favorite()` and `qobuz.Artist.unfavorite()` are available, it is recommended that `qobuz.User.favorite_items()` and `qobuz.User.unfavorite_items()` are used instead. See the [Account- and user-related methods](#account--and-user-related-methods) section below for more information.\n",
    ":::"
   ]
  },
  {
   "attachments": {},
   "cell_type": "markdown",
   "metadata": {},
   "source": [
    "## Working with tracks\n",
    "\n",
    "A track (or a release) is the most central Qobuz object. Tracks are a key part of albums and playlists and can be associated with artists who appear or feature on them.\n",
    "\n",
    "In the following section, we will retrieve information about a track (for which we know the Qobuz ID for) using both the procedural and object-oriented approaches. For this tutorial, we will use the track \"Hold On & Believe (feat. The Federal Empire)\" by Martin Garrix."
   ]
  },
  {
   "cell_type": "code",
   "execution_count": 20,
   "metadata": {},
   "outputs": [],
   "source": [
    "track_id = 35560953"
   ]
  },
  {
   "attachments": {},
   "cell_type": "markdown",
   "metadata": {},
   "source": [
    "### Procedural approach\n",
    "\n",
    "First, we create a `qobuz.Session` object without user authentication and use it to retrieve Qobuz catalog information for the track:"
   ]
  },
  {
   "cell_type": "code",
   "execution_count": 21,
   "metadata": {
    "tags": [
     "hide-output"
    ]
   },
   "outputs": [
    {
     "name": "stdout",
     "output_type": "stream",
     "text": [
      "maximum_bit_depth: 24\n",
      "copyright: (P) 2016 STMPD RCRDS B.V. exclusively licensed to Epic Amsterdam, a divison of Sony Music Entertainment Netherlands B.V.\n",
      " - Chad Wolf, Composer, Lyricistcististte, Associated Performer Artist, Producer\n",
      "audio_info: {'replaygain_track_gain': -11.15, 'replaygain_track_peak': 0.965027}\n",
      "performer: {'id': 974660, 'name': 'Martin Garrix'}\n",
      "album: {'maximum_bit_depth': 24, 'image': {'small': 'https://static.qobuz.com/images/covers/03/98/0886446179803_230.jpg', 'thumbnail': 'https://static.qobuz.com/images/covers/03/98/0886446179803_50.jpg', 'large': 'https://static.qobuz.com/images/covers/03/98/0886446179803_600.jpg', 'back': None}, 'media_count': 1, 'artist': {'image': None, 'name': 'Martin Garrix', 'id': 974660, 'albums_count': 381, 'slug': 'martin-garrix', 'picture': None}, 'artists': [{'id': 974660, 'name': 'Martin Garrix', 'roles': ['main-artist']}, {'id': 2770110, 'name': 'The Federal Empire', 'roles': ['featured-artist']}], 'upc': '0886446179803', 'released_at': 1476741600, 'label': {'name': 'Epic Amsterdam', 'id': 85930, 'albums_count': 369, 'supplier_id': 23, 'slug': 'epic-amsterdam'}, 'title': 'Hold On & Believe', 'qobuz_id': 35560952, 'version': None, 'url': 'https://www.qobuz.com/fr-fr/album/hold-on-believe-martin-garrix/0886446179803', 'duration': 234, 'parental_warning': False, 'popularity': 0, 'tracks_count': 1, 'genre': {'path': [64, 68], 'color': '#5eabc1', 'name': 'House', 'id': 68, 'slug': 'house'}, 'maximum_channel_count': 2, 'id': '0886446179803', 'maximum_sampling_rate': 44.1, 'articles': [], 'release_date_original': '2016-10-18', 'release_date_download': '2016-10-18', 'release_date_stream': '2016-10-18', 'purchasable': True, 'streamable': False, 'previewable': True, 'sampleable': True, 'downloadable': True, 'displayable': True, 'purchasable_at': 1696316400, 'streamable_at': 1696316400, 'hires': True, 'hires_streamable': False, 'awards': [], 'goodies': [], 'area': None, 'catchline': '', 'composer': {'id': 573076, 'name': 'Various Composers', 'slug': 'various-composers', 'albums_count': 583621, 'picture': None, 'image': None}, 'created_at': 0, 'genres_list': ['Électronique', 'Électronique→House'], 'period': None, 'copyright': '(P) 2016 STMPD RCRDS B.V. exclusively licensed to Epic Amsterdam, a divison of Sony Music Entertainment Netherlands B.V.', 'is_official': True, 'maximum_technical_specifications': '24 bits / 44.1 kHz - Stereo', 'product_sales_factors_monthly': 0, 'product_sales_factors_weekly': 0, 'product_sales_factors_yearly': 0, 'product_type': 'single', 'product_url': '/fr-fr/album/hold-on-believe-martin-garrix/0886446179803', 'recording_information': '', 'relative_url': '/album/hold-on-believe-martin-garrix/0886446179803', 'release_tags': [], 'release_type': 'single', 'slug': 'hold-on-believe-martin-garrix', 'subtitle': 'Martin Garrix', 'description': ''}\n",
      "work: None\n",
      "composer: {'id': 204708, 'name': 'Giorgio Tuinfort'}\n",
      "isrc: NLM5S1600010\n",
      "title: Hold On & Believe\n",
      "version: None\n",
      "duration: 234\n",
      "parental_warning: False\n",
      "track_number: 1\n",
      "maximum_channel_count: 2\n",
      "id: 35560953\n",
      "media_number: 1\n",
      "maximum_sampling_rate: 44.1\n",
      "articles: []\n",
      "release_date_original: None\n",
      "release_date_download: None\n",
      "release_date_stream: None\n",
      "release_date_purchase: None\n",
      "purchasable: True\n",
      "streamable: False\n",
      "previewable: True\n",
      "sampleable: True\n",
      "downloadable: True\n",
      "displayable: True\n",
      "purchasable_at: 1696316400\n",
      "streamable_at: 1696316400\n",
      "hires: True\n",
      "hires_streamable: False\n"
     ]
    }
   ],
   "source": [
    "# session_guest = qobuz.Session(authenticate=False)\n",
    "# We are reusing the unauthenticated qobuz.Session object from before.\n",
    "\n",
    "track_json = session_guest.get_track(track_id)\n",
    "for key, value in track_json.items():\n",
    "    print(key, value, sep=\": \")"
   ]
  },
  {
   "attachments": {},
   "cell_type": "markdown",
   "metadata": {},
   "source": [
    "The standard metadata for the track is listed below:"
   ]
  },
  {
   "cell_type": "code",
   "execution_count": 22,
   "metadata": {},
   "outputs": [
    {
     "name": "stdout",
     "output_type": "stream",
     "text": [
      "Track: 1/1\n",
      "Disc: 1/1\n",
      "Title: Hold On & Believe\n",
      "Artist: Martin Garrix\n",
      "Album: Hold On & Believe\n",
      "Album artist: Martin Garrix\n",
      "Genre: House\n",
      "Release date: None\n",
      "Copyright: (P) 2016 STMPD RCRDS B.V. exclusively licensed to Epic Amsterdam, a divison of Sony Music Entertainment Netherlands B.V.\n",
      "ISRC: NLM5S1600010\n"
     ]
    }
   ],
   "source": [
    "print(f\"Track: {track_json['track_number']}/{track_json['album']['tracks_count']}\")\n",
    "print(f\"Disc: {track_json['media_number']}/{track_json['album']['media_count']}\")\n",
    "print(f\"Title: {track_json['title']}\")\n",
    "print(f\"Artist: {track_json['performer']['name']}\")\n",
    "print(f\"Album: {track_json['album']['title']}\")\n",
    "print(f\"Album artist: {track_json['album']['artist']['name']}\")\n",
    "print(f\"Genre: {track_json['album']['genre']['name']}\")\n",
    "print(f\"Release date: {track_json['release_date_original']}\")\n",
    "print(f\"Copyright: {track_json['copyright']}\")\n",
    "print(f\"ISRC: {track_json['isrc']}\")"
   ]
  },
  {
   "attachments": {},
   "cell_type": "markdown",
   "metadata": {},
   "source": [
    ":::{note}\n",
    "`track[\"title\"]` often does not list the featured artists or contain additional information about the track (such as \"KSHMR Remix\", \"2011 Remastered\", \"Taylor's Version\", etc.). The featured artists can only be found in the track credits (see below), while the track version information, if any, is contained in `track[\"version\"]`.\n",
    ":::"
   ]
  },
  {
   "attachments": {},
   "cell_type": "markdown",
   "metadata": {},
   "source": [
    "`track[\"performer\"]` only contains information about the primary artist associated with the track and can be incomplete. The full list of contributors can be found in `track[\"performers\"]`:"
   ]
  },
  {
   "cell_type": "code",
   "execution_count": 23,
   "metadata": {},
   "outputs": [
    {
     "name": "stdout",
     "output_type": "stream",
     "text": [
      " - Martin Garrix, Associated Performer, Engineer, Main Artist, Producer\n",
      " - The Federal Empire, Associated Performer, Featured Artist\n",
      " - Martin Garrix Feat. The Federal Empire, Associated Performer\n",
      " - Martijn Garritsen, Composer, Lyricist\n",
      " - Giorgio Tuinfort, Composer, Lyricist\n",
      " - Simon Strömstedt, Composer, Lyricist\n",
      " - Keith Varon, Composer, Lyricist\n",
      " - McKay Stevens, Composer, Lyricist\n",
      " - Chad Wolf, Composer, Lyricist\n"
     ]
    }
   ],
   "source": [
    "print(\" -\", track_json[\"performers\"].replace(\" - \", \"\\n - \"))"
   ]
  },
  {
   "attachments": {},
   "cell_type": "markdown",
   "metadata": {},
   "source": [
    "The track credits above, but categorized by role, can be obtained by passing `performers=track[\"performers\"]` (or `track_id` directly) to `qobuz.Session.get_track_credits()`:"
   ]
  },
  {
   "cell_type": "code",
   "execution_count": 24,
   "metadata": {
    "tags": [
     "hide-output"
    ]
   },
   "outputs": [
    {
     "name": "stdout",
     "output_type": "stream",
     "text": [
      "main_artist: ['Martin Garrix']\n",
      "associated_performer: ['Martin Garrix', 'The Federal Empire', 'Martin Garrix Feat. The Federal Empire']\n",
      "featured_artist: ['The Federal Empire']\n",
      "lyricist: ['Martijn Garritsen', 'Giorgio Tuinfort', 'Simon Strömstedt', 'Keith Varon', 'McKay Stevens', 'Chad Wolf']\n",
      "producer: ['Martin Garrix']\n",
      "engineer: ['Martin Garrix']\n",
      "composer: ['Martijn Garritsen', 'Giorgio Tuinfort', 'Simon Strömstedt', 'Keith Varon', 'McKay Stevens', 'Chad Wolf']\n"
     ]
    }
   ],
   "source": [
    "for key, value in session_guest.get_track_credits(performers=track_json[\"performers\"]).items():\n",
    "    print(key, value, sep=\": \")"
   ]
  },
  {
   "attachments": {},
   "cell_type": "markdown",
   "metadata": {},
   "source": [
    "For streaming purposes, the file URL for the track's audio stream can be retrieved using `qobuz.Session.get_track_file_url()`. The Qobuz ID is the first (required) positional argument. The audio quality of the audio stream can optionally be specified using the `quality` argument, with the following possible values:\n",
    "\n",
    "* `5` or `\"MP3\"` for constant bitrate (320 kbps) MP3\n",
    "* `6` or `\"CD\"` for CD-quality (16-bit, 44.1 kHz) FLAC\n",
    "* `7` for up to 24-bit, 96 kHz Hi-Res FLAC\n",
    "* default: `27` or `\"HI-RES\"` for up to 24-bit, 192 kHz Hi-Res FLAC"
   ]
  },
  {
   "cell_type": "code",
   "execution_count": 25,
   "metadata": {
    "tags": [
     "hide-output"
    ]
   },
   "outputs": [
    {
     "name": "stdout",
     "output_type": "stream",
     "text": [
      "track_id: 35560953\n",
      "duration: 30\n",
      "url: https://streaming-qobuz-std.akamaized.net/file?eid=35560953&fmt=5&profile=raw&range=20-30&app_id=950096963&etsp=1696815495&hmac=tQwTTiFCJPqWeossHhFK7uDt7yI\n",
      "format_id: 5\n",
      "mime_type: audio/mpeg\n",
      "sample: True\n",
      "restrictions: [{'code': 'UserUnauthenticated'}]\n",
      "sampling_rate: 44.1\n",
      "bit_depth: 16\n"
     ]
    }
   ],
   "source": [
    "file_url = session_guest.get_track_file_url(track_id, quality=\"MP3\")\n",
    "for key, value in file_url.items():\n",
    "    print(key, value, sep=\": \")"
   ]
  },
  {
   "attachments": {},
   "cell_type": "markdown",
   "metadata": {},
   "source": [
    "For applications where the raw audio stream in `bytes` is necessary, we can use `qobuz.Session.get_track_stream()` with the same arguments instead:"
   ]
  },
  {
   "cell_type": "code",
   "execution_count": 26,
   "metadata": {},
   "outputs": [
    {
     "data": {
      "application/vnd.jupyter.widget-view+json": {
       "model_id": "ed37bbc989c645e6a393c434082a8df0",
       "version_major": 2,
       "version_minor": 0
      },
      "text/plain": [
       "Audio(value=b'\\xff\\xfb\\xe0d\\xfc\\x82\\x0bJx\\xd0\\xab\\x9a\\xcb\\xc2\\xc1+\\x9a\\xcdg\\x0c\\\\c\\xe1\\xf3U\\x8d\\xe5\\x91\\xca\\xa…"
      ]
     },
     "execution_count": 26,
     "metadata": {},
     "output_type": "execute_result"
    }
   ],
   "source": [
    "ipywidgets.Audio(value=session_guest.get_track_stream(track_id, quality=\"MP3\"), autoplay=False)"
   ]
  },
  {
   "attachments": {},
   "cell_type": "markdown",
   "metadata": {},
   "source": [
    "### Object-oriented approach"
   ]
  },
  {
   "attachments": {},
   "cell_type": "markdown",
   "metadata": {},
   "source": [
    "First, we directly create a `qobuz.Track` object using the track's Qobuz ID. Information about the track is automatically retrieved."
   ]
  },
  {
   "cell_type": "code",
   "execution_count": 27,
   "metadata": {},
   "outputs": [
    {
     "name": "stdout",
     "output_type": "stream",
     "text": [
      "Qobuz track: 'Hold On & Believe (feat. The Federal Empire)' [artist: Martin Garrix, album: Hold On & Believe]\n"
     ]
    }
   ],
   "source": [
    "track_obj = qobuz.Track(track_id, authenticate=False)\n",
    "print(track_obj)"
   ]
  },
  {
   "attachments": {},
   "cell_type": "markdown",
   "metadata": {},
   "source": [
    "Like before, the standard metadata for the track is listed below:"
   ]
  },
  {
   "cell_type": "code",
   "execution_count": 28,
   "metadata": {},
   "outputs": [
    {
     "name": "stdout",
     "output_type": "stream",
     "text": [
      "Track: 1/1\n",
      "Disc: 1/1\n",
      "Title: Hold On & Believe (feat. The Federal Empire)\n",
      "Artist: Martin Garrix\n",
      "Album: Hold On & Believe\n",
      "Album artist: Martin Garrix\n",
      "Genre: House\n",
      "Release date: None\n",
      "Copyright: (P) 2016 STMPD RCRDS B.V. exclusively licensed to Epic Amsterdam, a divison of Sony Music Entertainment Netherlands B.V.\n",
      "ISRC: NLM5S1600010\n"
     ]
    }
   ],
   "source": [
    "print(f\"Track: {track_obj.track_number}/{track_obj.album.track_count}\")\n",
    "print(f\"Disc: {track_obj.disc_number}/{track_obj.album.disc_count}\")\n",
    "print(f\"Title: {track_obj.title}\")\n",
    "print(f\"Artist: {track_obj.main_artist.name}\")\n",
    "print(f\"Album: {track_obj.album.title}\")\n",
    "print(f\"Album artist: {track_obj.album.primary_artist.name}\")\n",
    "print(f\"Genre: {track_obj.album.genre}\")\n",
    "print(f\"Release date: {track_obj.release_date}\")\n",
    "print(f\"Copyright: {track_obj.copyright}\")\n",
    "print(f\"ISRC: {track_obj.isrc}\")"
   ]
  },
  {
   "attachments": {},
   "cell_type": "markdown",
   "metadata": {},
   "source": [
    "Unlike before, the `qobuz.Track.title` attribute will always have information about the featured artists and track version, if available. Additional pre-processing is automatically done to ensure this, but a potential downside is that the full title is unmanageably long (like \"We Are The People (feat. Bono & The Edge) [Martin Garrix Remix] [Official UEFA EURO 2020 Song]\", which clocks in at *94 characters long*).\n",
    "\n",
    "The track credits is only available pre-formatted:"
   ]
  },
  {
   "cell_type": "code",
   "execution_count": 29,
   "metadata": {
    "tags": [
     "hide-output"
    ]
   },
   "outputs": [
    {
     "name": "stdout",
     "output_type": "stream",
     "text": [
      "main_artist: ['Martin Garrix']\n",
      "associated_performer: ['Martin Garrix', 'The Federal Empire', 'Martin Garrix Feat. The Federal Empire']\n",
      "featured_artist: ['The Federal Empire']\n",
      "lyricist: ['Martijn Garritsen', 'Giorgio Tuinfort', 'Simon Strömstedt', 'Keith Varon', 'McKay Stevens', 'Chad Wolf']\n",
      "producer: ['Martin Garrix']\n",
      "engineer: ['Martin Garrix']\n",
      "composer: ['Martijn Garritsen', 'Giorgio Tuinfort', 'Simon Strömstedt', 'Keith Varon', 'McKay Stevens', 'Chad Wolf']\n"
     ]
    }
   ],
   "source": [
    "for key, value in track_obj.credits.items():\n",
    "    print(key, value, sep=\": \")"
   ]
  },
  {
   "attachments": {},
   "cell_type": "markdown",
   "metadata": {},
   "source": [
    "Finally, the file URL and stream data can be obtained by calling methods innate to the `qobuz.Track` object:"
   ]
  },
  {
   "cell_type": "code",
   "execution_count": 30,
   "metadata": {},
   "outputs": [
    {
     "name": "stdout",
     "output_type": "stream",
     "text": [
      "https://streaming-qobuz-std.akamaized.net/file?eid=35560953&fmt=5&profile=raw&range=20-30&app_id=950096963&etsp=1696815503&hmac=nctVDuYfWwHA-SCfb72UYG_j7Ss\n"
     ]
    }
   ],
   "source": [
    "track_obj.get_file_url(quality=\"MP3\")\n",
    "print(track_obj.file_url)"
   ]
  },
  {
   "attachments": {},
   "cell_type": "markdown",
   "metadata": {},
   "source": [
    "Or, if the audio stream in `bytes` is desired:"
   ]
  },
  {
   "cell_type": "code",
   "execution_count": 31,
   "metadata": {},
   "outputs": [
    {
     "data": {
      "application/vnd.jupyter.widget-view+json": {
       "model_id": "e59df578f7f142dd987ce0310b68367d",
       "version_major": 2,
       "version_minor": 0
      },
      "text/plain": [
       "Audio(value=b'\\xff\\xfb\\xe0d\\xfc\\x82\\x0bJx\\xd0\\xab\\x9a\\xcb\\xc2\\xc1+\\x9a\\xcdg\\x0c\\\\c\\xe1\\xf3U\\x8d\\xe5\\x91\\xca\\xa…"
      ]
     },
     "execution_count": 31,
     "metadata": {},
     "output_type": "execute_result"
    }
   ],
   "source": [
    "track_obj.get_stream(quality=\"MP3\")\n",
    "ipywidgets.Audio(value=track_obj.stream, autoplay=False)"
   ]
  },
  {
   "attachments": {},
   "cell_type": "markdown",
   "metadata": {},
   "source": [
    ":::{seealso}\n",
    "While methods like `qobuz.Track.favorite()` and `qobuz.Track.unfavorite()` are available, it is recommended that `qobuz.User.favorite_items()` and `qobuz.User.unfavorite_items()` are used instead. See the [Account- and user-related methods](#account--and-user-related-methods) section below for more information.\n",
    ":::"
   ]
  },
  {
   "attachments": {},
   "cell_type": "markdown",
   "metadata": {},
   "source": [
    "## Working with albums\n",
    "\n",
    "Albums, including extended plays (EPs) and singles, are collections of tracks by a primary artist. Every track belongs to an album.\n",
    "\n",
    "In the following section, we will retrieve information about an album (for which we know the Qobuz ID for) using both the procedural and object-oriented approaches. For this tutorial, we will use the album 'Field Trip' by NIIKO X SWAE."
   ]
  },
  {
   "cell_type": "code",
   "execution_count": 32,
   "metadata": {},
   "outputs": [],
   "source": [
    "album_id = \"cdgt6fwyvhz3a\""
   ]
  },
  {
   "attachments": {},
   "cell_type": "markdown",
   "metadata": {},
   "source": [
    "### Procedural approach\n",
    "\n",
    "First, we create a `qobuz.Session` object without user authentication and use it to retrieve Qobuz catalog information for the album:"
   ]
  },
  {
   "cell_type": "code",
   "execution_count": 33,
   "metadata": {
    "tags": [
     "hide-output"
    ]
   },
   "outputs": [
    {
     "name": "stdout",
     "output_type": "stream",
     "text": [
      "maximum_bit_depth: 16\n",
      "image: {'small': 'https://static.qobuz.com/images/covers/3a/hz/cdgt6fwyvhz3a_230.jpg', 'thumbnail': 'https://static.qobuz.com/images/covers/3a/hz/cdgt6fwyvhz3a_50.jpg', 'large': 'https://static.qobuz.com/images/covers/3a/hz/cdgt6fwyvhz3a_600.jpg', 'back': None}\n",
      "media_count: 1\n",
      "artist: {'image': None, 'name': 'Niiko x SWAE', 'id': 3327805, 'albums_count': 63, 'slug': 'niikoxswae-10003327805', 'picture': None}\n",
      "artists: [{'id': 3327805, 'name': 'Niiko x SWAE', 'roles': ['main-artist']}]\n",
      "upc: 8718522342165\n",
      "released_at: 1623362400\n",
      "label: {'name': 'Armada Music', 'id': 248166, 'albums_count': 4415, 'supplier_id': 41, 'slug': 'armada-music'}\n",
      "title: Field Trip\n",
      "qobuz_id: 121976829\n",
      "version: None\n",
      "url: https://www.qobuz.com/fr-fr/album/field-trip-niiko-x-swae/cdgt6fwyvhz3a\n",
      "duration: 726\n",
      "parental_warning: False\n",
      "popularity: 0\n",
      "tracks_count: 4\n",
      "genre: {'path': [64, 129], 'color': '#5eabc1', 'name': 'Dance', 'id': 129, 'slug': 'dance'}\n",
      "maximum_channel_count: 2\n",
      "id: cdgt6fwyvhz3a\n",
      "maximum_sampling_rate: 44.1\n",
      "articles: []\n",
      "release_date_original: 2021-06-11\n",
      "release_date_download: 2021-06-11\n",
      "release_date_stream: 2021-06-11\n",
      "purchasable: True\n",
      "streamable: False\n",
      "previewable: True\n",
      "sampleable: True\n",
      "downloadable: True\n",
      "displayable: True\n",
      "purchasable_at: 1688540400\n",
      "streamable_at: 1688540400\n",
      "hires: False\n",
      "hires_streamable: False\n",
      "awards: []\n",
      "goodies: []\n",
      "area: None\n",
      "catchline: \n",
      "composer: {'id': 573076, 'name': 'Various Composers', 'slug': 'various-composers', 'albums_count': 583621, 'picture': None, 'image': None}\n",
      "created_at: 0\n",
      "genres_list: ['Électronique', 'Électronique→Dance']\n",
      "period: None\n",
      "copyright: 2021 Armada Music B.V. 2021 Armada Music B.V.\n",
      "is_official: True\n",
      "maximum_technical_specifications: \n",
      "product_sales_factors_monthly: 0\n",
      "product_sales_factors_weekly: 0\n",
      "product_sales_factors_yearly: 0\n",
      "product_type: single\n",
      "product_url: /fr-fr/album/field-trip-niiko-x-swae/cdgt6fwyvhz3a\n",
      "recording_information: \n",
      "relative_url: /album/field-trip-niiko-x-swae/cdgt6fwyvhz3a\n",
      "release_tags: []\n",
      "release_type: single\n",
      "slug: field-trip-niiko-x-swae\n",
      "subtitle: Niiko x SWAE\n",
      "tracks: {'offset': 0, 'limit': 500, 'total': 4, 'items': [{'maximum_bit_depth': 16, 'copyright': '2021 Armada Music B.V. 2021 Armada Music B.V.', 'performers': 'Gazzo, Producer - April Bender, Composer, Lyricist, FeaturedArtist - Nikolaus Becker, Composer - Lena Leon, Composer, Lyricist - Michael Gazzo, Composer - Niiko x SWAE, Producer, MainArtist - Mark Manchester, Composer - Ultra Empire Music (BMI) obo itself and LRL Music (BMI), MusicPublisher - Niiko x SWAE Publishing, MusicPublisher - Torro Rosso Tracks, MusicPublisher - ARCHERSONGS Publishing (ASCAP), MusicPublisher', 'audio_info': {'replaygain_track_peak': 0.98877, 'replaygain_track_gain': -11.33}, 'performer': {'name': 'Niiko x SWAE', 'id': 3327805}, 'work': None, 'composer': {'name': 'Nikolaus Becker', 'id': 1758157}, 'isrc': 'NLF712100910', 'title': \"I Ain't Going Home\", 'version': None, 'duration': 182, 'parental_warning': False, 'track_number': 1, 'maximum_channel_count': 2, 'id': 121976830, 'media_number': 1, 'maximum_sampling_rate': 44.1, 'release_date_original': None, 'release_date_download': None, 'release_date_stream': None, 'release_date_purchase': None, 'purchasable': True, 'streamable': False, 'previewable': True, 'sampleable': True, 'downloadable': True, 'displayable': True, 'purchasable_at': 1688540400, 'streamable_at': 1688540400, 'hires': False, 'hires_streamable': False}, {'maximum_bit_depth': 24, 'copyright': '2021 Armada Music B.V. 2021 Armada Music B.V.', 'performers': 'April Bender, Composer, Lyricist - Nikolaus Becker, Composer - Prince Fox, Producer - Samuel Lassner, Composer - Zack Martino, Composer, Producer, MainArtist - Kyle Reynolds, Composer, Lyricist, FeaturedArtist - Niiko x SWAE, Producer, MainArtist - Mark Manchester, Composer - Armada Publishing, MusicPublisher - Kyle Reynolds Music, MusicPublisher - Niiko x SWAE Publishing, MusicPublisher - ARCHERSONGS Publishing (ASCAP), MusicPublisher - PrinceFoxMusic, MusicPublisher', 'audio_info': {'replaygain_track_peak': 1, 'replaygain_track_gain': -9.3}, 'performer': {'name': 'Niiko x SWAE', 'id': 3327805}, 'work': None, 'composer': {'name': 'Nikolaus Becker', 'id': 1758157}, 'isrc': 'NLF712102380', 'title': 'Glue', 'version': None, 'duration': 189, 'parental_warning': False, 'track_number': 2, 'maximum_channel_count': 2, 'id': 121976831, 'media_number': 1, 'maximum_sampling_rate': 44.1, 'release_date_original': None, 'release_date_download': None, 'release_date_stream': None, 'release_date_purchase': None, 'purchasable': True, 'streamable': False, 'previewable': True, 'sampleable': True, 'downloadable': True, 'displayable': True, 'purchasable_at': 1688540400, 'streamable_at': 1688540400, 'hires': True, 'hires_streamable': False}, {'maximum_bit_depth': 24, 'copyright': '2021 Armada Music B.V. 2021 Armada Music B.V.', 'performers': 'Copyright Control, MusicPublisher - Nikolaus Becker, Composer, Producer - Michael Gazzo, Composer, Producer - Niiko x SWAE, MainArtist - Mark Manchester, Composer, Producer - Max Embers, Composer, Lyricist, FeaturedArtist - Emily Shearman, Composer, Lyricist - Niiko x SWAE Publishing, MusicPublisher - Torro Rosso Tracks, MusicPublisher - Max Brandenberg Music Publishing, MusicPublisher - Shearman Publishing, MusicPublisher - Lukas Szulansky, Composer, Lyricist', 'audio_info': {'replaygain_track_peak': 0.988495, 'replaygain_track_gain': -11.93}, 'performer': {'name': 'Niiko x SWAE', 'id': 3327805}, 'work': None, 'composer': {'name': 'Nikolaus Becker', 'id': 1758157}, 'isrc': 'NLF712103595', 'title': 'Better People', 'version': None, 'duration': 195, 'parental_warning': False, 'track_number': 3, 'maximum_channel_count': 2, 'id': 121976832, 'media_number': 1, 'maximum_sampling_rate': 44.1, 'release_date_original': None, 'release_date_download': None, 'release_date_stream': None, 'release_date_purchase': None, 'purchasable': True, 'streamable': False, 'previewable': True, 'sampleable': True, 'downloadable': True, 'displayable': True, 'purchasable_at': 1688540400, 'streamable_at': 1688540400, 'hires': True, 'hires_streamable': False}, {'maximum_bit_depth': 24, 'copyright': '2021 Armada Music B.V. 2021 Armada Music B.V.', 'performers': 'John Dirne, Composer - Thomas Kipp Williams, Composer, Lyricist - Travis Mills, Composer, Lyricist - Prescription Songs, MusicPublisher - Brandon Hamlin, Composer, Lyricist - Antonie Lowenthal, Composer, Producer - Niiko x SWAE, Producer, MainArtist - Mark Manchester, Composer - Wyatt Sanders, Composer, Lyricist - Kippsongs, MusicPublisher - Nikolaus Adrian Becker, Composer - White Villa International Publishing, MusicPublisher - Niiko x SWAE Publishing, MusicPublisher - Okido Songs (adm. by BMG), MusicPublisher - Prescription Songs Where Da Kasz At (BMI), MusicPublisher - WOP DE GANG, MusicPublisher - Hot Ham Music, MusicPublisher - Artist Publishing Group West (ASCAP) (adm. by Kobalt Songs Music Publishing) (ASCAP), MusicPublisher', 'audio_info': {'replaygain_track_peak': 1, 'replaygain_track_gain': -10.39}, 'performer': {'name': 'Niiko x SWAE', 'id': 3327805}, 'work': None, 'composer': {'name': 'Antonie Lowenthal', 'id': 3125893}, 'isrc': 'NLF712104619', 'title': 'Together Again', 'version': None, 'duration': 160, 'parental_warning': False, 'track_number': 4, 'maximum_channel_count': 2, 'id': 121976833, 'media_number': 1, 'maximum_sampling_rate': 44.1, 'release_date_original': None, 'release_date_download': None, 'release_date_stream': None, 'release_date_purchase': None, 'purchasable': True, 'streamable': False, 'previewable': True, 'sampleable': True, 'downloadable': True, 'displayable': True, 'purchasable_at': 1688540400, 'streamable_at': 1688540400, 'hires': True, 'hires_streamable': False}]}\n",
      "description: \n"
     ]
    }
   ],
   "source": [
    "# session_guest = qobuz.Session(authenticate=False)\n",
    "# We are reusing the unauthenticated qobuz.Session object from before.\n",
    "\n",
    "album_json = session_guest.get_album(album_id)\n",
    "for key, value in album_json.items():\n",
    "    print(key, value, sep=\": \")"
   ]
  },
  {
   "attachments": {},
   "cell_type": "markdown",
   "metadata": {},
   "source": [
    "Here is some basic information about the album:"
   ]
  },
  {
   "cell_type": "code",
   "execution_count": 34,
   "metadata": {},
   "outputs": [
    {
     "name": "stdout",
     "output_type": "stream",
     "text": [
      "Title: Field Trip\n",
      "Artist: Niiko x SWAE\n",
      "Genre: Dance\n",
      "Release date: 2021-06-11\n",
      "Copyright: 2021 Armada Music B.V. 2021 Armada Music B.V.\n"
     ]
    }
   ],
   "source": [
    "print(f\"Title: {album_json['title']}\")\n",
    "print(f\"Artist: {album_json['artist']['name']}\")\n",
    "print(f\"Genre: {album_json['genre']['name']}\")\n",
    "print(f\"Release date: {album_json['release_date_original']}\")\n",
    "print(f\"Copyright: {album_json['copyright']}\")"
   ]
  },
  {
   "attachments": {},
   "cell_type": "markdown",
   "metadata": {},
   "source": [
    "The JSON data also contains information about the tracks in the album:"
   ]
  },
  {
   "cell_type": "code",
   "execution_count": 35,
   "metadata": {
    "tags": [
     "hide-output"
    ]
   },
   "outputs": [
    {
     "name": "stdout",
     "output_type": "stream",
     "text": [
      "{'maximum_bit_depth': 16, 'copyright': '2021 Armada Music B.V. 2021 Armada Music B.V.', 'performers': 'Gazzo, Producer - April Bender, Composer, Lyricist, FeaturedArtist - Nikolaus Becker, Composer - Lena Leon, Composer, Lyricist - Michael Gazzo, Composer - Niiko x SWAE, Producer, MainArtist - Mark Manchester, Composer - Ultra Empire Music (BMI) obo itself and LRL Music (BMI), MusicPublisher - Niiko x SWAE Publishing, MusicPublisher - Torro Rosso Tracks, MusicPublisher - ARCHERSONGS Publishing (ASCAP), MusicPublisher', 'audio_info': {'replaygain_track_peak': 0.98877, 'replaygain_track_gain': -11.33}, 'performer': {'name': 'Niiko x SWAE', 'id': 3327805}, 'work': None, 'composer': {'name': 'Nikolaus Becker', 'id': 1758157}, 'isrc': 'NLF712100910', 'title': \"I Ain't Going Home\", 'version': None, 'duration': 182, 'parental_warning': False, 'track_number': 1, 'maximum_channel_count': 2, 'id': 121976830, 'media_number': 1, 'maximum_sampling_rate': 44.1, 'release_date_original': None, 'release_date_download': None, 'release_date_stream': None, 'release_date_purchase': None, 'purchasable': True, 'streamable': False, 'previewable': True, 'sampleable': True, 'downloadable': True, 'displayable': True, 'purchasable_at': 1688540400, 'streamable_at': 1688540400, 'hires': False, 'hires_streamable': False}\n",
      "{'maximum_bit_depth': 24, 'copyright': '2021 Armada Music B.V. 2021 Armada Music B.V.', 'performers': 'April Bender, Composer, Lyricist - Nikolaus Becker, Composer - Prince Fox, Producer - Samuel Lassner, Composer - Zack Martino, Composer, Producer, MainArtist - Kyle Reynolds, Composer, Lyricist, FeaturedArtist - Niiko x SWAE, Producer, MainArtist - Mark Manchester, Composer - Armada Publishing, MusicPublisher - Kyle Reynolds Music, MusicPublisher - Niiko x SWAE Publishing, MusicPublisher - ARCHERSONGS Publishing (ASCAP), MusicPublisher - PrinceFoxMusic, MusicPublisher', 'audio_info': {'replaygain_track_peak': 1, 'replaygain_track_gain': -9.3}, 'performer': {'name': 'Niiko x SWAE', 'id': 3327805}, 'work': None, 'composer': {'name': 'Nikolaus Becker', 'id': 1758157}, 'isrc': 'NLF712102380', 'title': 'Glue', 'version': None, 'duration': 189, 'parental_warning': False, 'track_number': 2, 'maximum_channel_count': 2, 'id': 121976831, 'media_number': 1, 'maximum_sampling_rate': 44.1, 'release_date_original': None, 'release_date_download': None, 'release_date_stream': None, 'release_date_purchase': None, 'purchasable': True, 'streamable': False, 'previewable': True, 'sampleable': True, 'downloadable': True, 'displayable': True, 'purchasable_at': 1688540400, 'streamable_at': 1688540400, 'hires': True, 'hires_streamable': False}\n",
      "{'maximum_bit_depth': 24, 'copyright': '2021 Armada Music B.V. 2021 Armada Music B.V.', 'performers': 'Copyright Control, MusicPublisher - Nikolaus Becker, Composer, Producer - Michael Gazzo, Composer, Producer - Niiko x SWAE, MainArtist - Mark Manchester, Composer, Producer - Max Embers, Composer, Lyricist, FeaturedArtist - Emily Shearman, Composer, Lyricist - Niiko x SWAE Publishing, MusicPublisher - Torro Rosso Tracks, MusicPublisher - Max Brandenberg Music Publishing, MusicPublisher - Shearman Publishing, MusicPublisher - Lukas Szulansky, Composer, Lyricist', 'audio_info': {'replaygain_track_peak': 0.988495, 'replaygain_track_gain': -11.93}, 'performer': {'name': 'Niiko x SWAE', 'id': 3327805}, 'work': None, 'composer': {'name': 'Nikolaus Becker', 'id': 1758157}, 'isrc': 'NLF712103595', 'title': 'Better People', 'version': None, 'duration': 195, 'parental_warning': False, 'track_number': 3, 'maximum_channel_count': 2, 'id': 121976832, 'media_number': 1, 'maximum_sampling_rate': 44.1, 'release_date_original': None, 'release_date_download': None, 'release_date_stream': None, 'release_date_purchase': None, 'purchasable': True, 'streamable': False, 'previewable': True, 'sampleable': True, 'downloadable': True, 'displayable': True, 'purchasable_at': 1688540400, 'streamable_at': 1688540400, 'hires': True, 'hires_streamable': False}\n",
      "{'maximum_bit_depth': 24, 'copyright': '2021 Armada Music B.V. 2021 Armada Music B.V.', 'performers': 'John Dirne, Composer - Thomas Kipp Williams, Composer, Lyricist - Travis Mills, Composer, Lyricist - Prescription Songs, MusicPublisher - Brandon Hamlin, Composer, Lyricist - Antonie Lowenthal, Composer, Producer - Niiko x SWAE, Producer, MainArtist - Mark Manchester, Composer - Wyatt Sanders, Composer, Lyricist - Kippsongs, MusicPublisher - Nikolaus Adrian Becker, Composer - White Villa International Publishing, MusicPublisher - Niiko x SWAE Publishing, MusicPublisher - Okido Songs (adm. by BMG), MusicPublisher - Prescription Songs Where Da Kasz At (BMI), MusicPublisher - WOP DE GANG, MusicPublisher - Hot Ham Music, MusicPublisher - Artist Publishing Group West (ASCAP) (adm. by Kobalt Songs Music Publishing) (ASCAP), MusicPublisher', 'audio_info': {'replaygain_track_peak': 1, 'replaygain_track_gain': -10.39}, 'performer': {'name': 'Niiko x SWAE', 'id': 3327805}, 'work': None, 'composer': {'name': 'Antonie Lowenthal', 'id': 3125893}, 'isrc': 'NLF712104619', 'title': 'Together Again', 'version': None, 'duration': 160, 'parental_warning': False, 'track_number': 4, 'maximum_channel_count': 2, 'id': 121976833, 'media_number': 1, 'maximum_sampling_rate': 44.1, 'release_date_original': None, 'release_date_download': None, 'release_date_stream': None, 'release_date_purchase': None, 'purchasable': True, 'streamable': False, 'previewable': True, 'sampleable': True, 'downloadable': True, 'displayable': True, 'purchasable_at': 1688540400, 'streamable_at': 1688540400, 'hires': True, 'hires_streamable': False}\n"
     ]
    }
   ],
   "source": [
    "for track in album_json[\"tracks\"][\"items\"]:\n",
    "    print(track)"
   ]
  },
  {
   "attachments": {},
   "cell_type": "markdown",
   "metadata": {},
   "source": [
    "Having access to the track IDs allows for track operations, such as getting the file URLs (or audio stream data) for streaming purposes:"
   ]
  },
  {
   "cell_type": "code",
   "execution_count": 36,
   "metadata": {},
   "outputs": [
    {
     "name": "stdout",
     "output_type": "stream",
     "text": [
      "https://streaming-qobuz-std.akamaized.net/file?eid=121976830&fmt=5&profile=raw&range=20-30&app_id=950096963&etsp=1696815507&hmac=hGMDmv4cLXudiyGjLdkXnBXRcIo\n"
     ]
    },
    {
     "data": {
      "application/vnd.jupyter.widget-view+json": {
       "model_id": "f49b1aa337d94ee2a1ccd9b083db9eb1",
       "version_major": 2,
       "version_minor": 0
      },
      "text/plain": [
       "Audio(value=b\"\\xff\\xfb\\xe2D\\xf5\\x03'\\xcdf\\xd2\\xf3:}3\\x07\\xcd\\x1a^i\\xe6\\xe8_M\\x99M\\xcc\\xe9\\xf4\\xcb\\xf74\\xa9\\xfd…"
      ]
     },
     "metadata": {},
     "output_type": "display_data"
    },
    {
     "name": "stdout",
     "output_type": "stream",
     "text": [
      "https://streaming-qobuz-std.akamaized.net/file?eid=121976831&fmt=5&profile=raw&range=20-30&app_id=950096963&etsp=1696815508&hmac=GhGSQ-bSzs0808_UzKXA2ZEGtuM\n"
     ]
    },
    {
     "data": {
      "application/vnd.jupyter.widget-view+json": {
       "model_id": "c5fc6c82779c41c0ae67077e70cc7c2c",
       "version_major": 2,
       "version_minor": 0
      },
      "text/plain": [
       "Audio(value=b'\\xff\\xfb\\xe2D\\xe8\\x02(\\xf6iR\\xc3y}s\\t\\xed*\\xado/\\x8e\\x1e)\\xa1S\\x8d=\\x9a\\xcb\\xdd5*\\x05\\xbc>:\\x844…"
      ]
     },
     "metadata": {},
     "output_type": "display_data"
    },
    {
     "name": "stdout",
     "output_type": "stream",
     "text": [
      "https://streaming-qobuz-std.akamaized.net/file?eid=121976832&fmt=5&profile=raw&range=20-30&app_id=950096963&etsp=1696815509&hmac=U2SOy3PGvviIbUaVSmVWbuv4Bgo\n"
     ]
    },
    {
     "data": {
      "application/vnd.jupyter.widget-view+json": {
       "model_id": "926ed5f6cde84a09b1f82f5b235e0f59",
       "version_major": 2,
       "version_minor": 0
      },
      "text/plain": [
       "Audio(value=b\"\\xff\\xfb\\xe2d\\xf5\\x02\\n'mPC\\xb9\\xc2\\xa0\\xb4\\xaa*Ti\\xe9\\x9a%\\xcd\\xb7B\\x8ek\\x07J\\xcd.i\\xb5\\xa7\\x9e…"
      ]
     },
     "metadata": {},
     "output_type": "display_data"
    },
    {
     "name": "stdout",
     "output_type": "stream",
     "text": [
      "https://streaming-qobuz-std.akamaized.net/file?eid=121976833&fmt=5&profile=raw&range=20-30&app_id=950096963&etsp=1696815510&hmac=78iUGxEGxIfyV0Jk2nsATbwlTBA\n"
     ]
    },
    {
     "data": {
      "application/vnd.jupyter.widget-view+json": {
       "model_id": "6eddb92e44ca43d386b5b066403b8b18",
       "version_major": 2,
       "version_minor": 0
      },
      "text/plain": [
       "Audio(value=b'\\xff\\xfb\\xe2D\\xfd\\x84(SuT[OOC\\x01\\x8e\\xfa\\x98i\\xe6\\xe8\\x1e\\xa9\\xddUM<Y\\xc4\\n\\xba*\\x15\\xb7\\x9b\\xa…"
      ]
     },
     "metadata": {},
     "output_type": "display_data"
    }
   ],
   "source": [
    "for track in album_json[\"tracks\"][\"items\"]:\n",
    "    print(session_guest.get_track_file_url(track[\"id\"], quality=\"MP3\")[\"url\"])\n",
    "    display(ipywidgets.Audio(value=session_guest.get_track_stream(track[\"id\"], quality=\"MP3\"), autoplay=False))"
   ]
  },
  {
   "attachments": {},
   "cell_type": "markdown",
   "metadata": {},
   "source": [
    "### Object-oriented approach\n",
    "\n",
    "First, we directly create a `qobuz.Album` object using the album's Qobuz ID. "
   ]
  },
  {
   "cell_type": "code",
   "execution_count": 37,
   "metadata": {},
   "outputs": [
    {
     "name": "stdout",
     "output_type": "stream",
     "text": [
      "Qobuz album: 'Field Trip' [artist: Niiko x SWAE]\n"
     ]
    }
   ],
   "source": [
    "album_obj = qobuz.Album(album_id, authenticate=False)\n",
    "print(album_obj)"
   ]
  },
  {
   "attachments": {},
   "cell_type": "markdown",
   "metadata": {},
   "source": [
    "Now, information about the album is stored in the `qobuz.Album` object's instance attributes:"
   ]
  },
  {
   "cell_type": "code",
   "execution_count": 38,
   "metadata": {},
   "outputs": [
    {
     "name": "stdout",
     "output_type": "stream",
     "text": [
      "Title: Field Trip\n",
      "Artist: Qobuz artist: Niiko x SWAE\n",
      "Genre: Dance\n",
      "Release date: 2021-06-11 00:00:00\n",
      "Copyright: 2021 Armada Music B.V. 2021 Armada Music B.V.\n"
     ]
    }
   ],
   "source": [
    "print(f\"Title: {album_obj.title}\")\n",
    "print(f\"Artist: {album_obj.primary_artist}\")\n",
    "print(f\"Genre: {album_obj.genre}\")\n",
    "print(f\"Release date: {album_obj.release_date}\")\n",
    "print(f\"Copyright: {album_obj.copyright}\")"
   ]
  },
  {
   "attachments": {},
   "cell_type": "markdown",
   "metadata": {},
   "source": [
    "Information about the tracks in the album are stored in `qobuz.Track` objects:"
   ]
  },
  {
   "cell_type": "code",
   "execution_count": 39,
   "metadata": {
    "tags": [
     "hide-output"
    ]
   },
   "outputs": [
    {
     "name": "stdout",
     "output_type": "stream",
     "text": [
      "Qobuz track: 'I Ain't Going Home (feat. April Bender)' [artist: Niiko x SWAE, album: Field Trip]\n",
      "Qobuz track: 'Glue (feat. Kyle Reynolds)' [artist: Niiko x SWAE, album: Field Trip]\n",
      "Qobuz track: 'Better People (feat. Max Embers)' [artist: Niiko x SWAE, album: Field Trip]\n",
      "Qobuz track: 'Together Again' [artist: Niiko x SWAE, album: Field Trip]\n"
     ]
    }
   ],
   "source": [
    "for track in album_obj.tracks:\n",
    "    print(track)"
   ]
  },
  {
   "attachments": {},
   "cell_type": "markdown",
   "metadata": {},
   "source": [
    "To get the track's file URLs or streams, we can either iterate through each `qobuz.Track` object and call its `qobuz.Track.get_file_url()` or `qobuz.Track.get_stream()` methods, or use the convenient `qobuz.Album.get_file_urls()` or `qobuz.Album.get_streams()` methods."
   ]
  },
  {
   "cell_type": "code",
   "execution_count": 40,
   "metadata": {},
   "outputs": [
    {
     "name": "stdout",
     "output_type": "stream",
     "text": [
      "https://streaming-qobuz-std.akamaized.net/file?eid=121976830&fmt=5&profile=raw&range=20-30&app_id=950096963&etsp=1696815521&hmac=NBUAXlMUlEoT_WUXkURxlL2sl-Q\n"
     ]
    },
    {
     "data": {
      "application/vnd.jupyter.widget-view+json": {
       "model_id": "1902ab2909604d8285583399a1e89b50",
       "version_major": 2,
       "version_minor": 0
      },
      "text/plain": [
       "Audio(value=b\"\\xff\\xfb\\xe2D\\xf5\\x03'\\xcdf\\xd2\\xf3:}3\\x07\\xcd\\x1a^i\\xe6\\xe8_M\\x99M\\xcc\\xe9\\xf4\\xcb\\xf74\\xa9\\xfd…"
      ]
     },
     "metadata": {},
     "output_type": "display_data"
    },
    {
     "name": "stdout",
     "output_type": "stream",
     "text": [
      "https://streaming-qobuz-std.akamaized.net/file?eid=121976831&fmt=5&profile=raw&range=20-30&app_id=950096963&etsp=1696815522&hmac=NTX-a3_lLdxbaH6wNuRooQOGxu4\n"
     ]
    },
    {
     "data": {
      "application/vnd.jupyter.widget-view+json": {
       "model_id": "3a49e15d2b6e4b3889ef8b4e018b6be5",
       "version_major": 2,
       "version_minor": 0
      },
      "text/plain": [
       "Audio(value=b'\\xff\\xfb\\xe2D\\xe8\\x02(\\xf6iR\\xc3y}s\\t\\xed*\\xado/\\x8e\\x1e)\\xa1S\\x8d=\\x9a\\xcb\\xdd5*\\x05\\xbc>:\\x844…"
      ]
     },
     "metadata": {},
     "output_type": "display_data"
    },
    {
     "name": "stdout",
     "output_type": "stream",
     "text": [
      "https://streaming-qobuz-std.akamaized.net/file?eid=121976832&fmt=5&profile=raw&range=20-30&app_id=950096963&etsp=1696815522&hmac=cXlO8OWiX8-PlrdWxO4DFfAMaaY\n"
     ]
    },
    {
     "data": {
      "application/vnd.jupyter.widget-view+json": {
       "model_id": "61cefc0a172144589a59b6937a597f0d",
       "version_major": 2,
       "version_minor": 0
      },
      "text/plain": [
       "Audio(value=b\"\\xff\\xfb\\xe2d\\xf5\\x02\\n'mPC\\xb9\\xc2\\xa0\\xb4\\xaa*Ti\\xe9\\x9a%\\xcd\\xb7B\\x8ek\\x07J\\xcd.i\\xb5\\xa7\\x9e…"
      ]
     },
     "metadata": {},
     "output_type": "display_data"
    },
    {
     "name": "stdout",
     "output_type": "stream",
     "text": [
      "https://streaming-qobuz-std.akamaized.net/file?eid=121976833&fmt=5&profile=raw&range=20-30&app_id=950096963&etsp=1696815522&hmac=OyOcMR1Thgwe-EN2XZFDIft5awE\n"
     ]
    },
    {
     "data": {
      "application/vnd.jupyter.widget-view+json": {
       "model_id": "4b078e23d5c5407b9b314da31a1bbcf0",
       "version_major": 2,
       "version_minor": 0
      },
      "text/plain": [
       "Audio(value=b'\\xff\\xfb\\xe2D\\xfd\\x84(SuT[OOC\\x01\\x8e\\xfa\\x98i\\xe6\\xe8\\x1e\\xa9\\xddUM<Y\\xc4\\n\\xba*\\x15\\xb7\\x9b\\xa…"
      ]
     },
     "metadata": {},
     "output_type": "display_data"
    }
   ],
   "source": [
    "album_obj.get_file_urls(quality=\"MP3\")\n",
    "album_obj.get_streams(quality=\"MP3\")\n",
    "for track in album_obj.tracks:\n",
    "    print(track.file_url)\n",
    "    display(ipywidgets.Audio(value=track.stream, autoplay=False))"
   ]
  },
  {
   "attachments": {},
   "cell_type": "markdown",
   "metadata": {},
   "source": [
    ":::{seealso}\n",
    "While methods like `qobuz.Album.favorite()` and `qobuz.Album.unfavorite()` are available, it is recommended that `qobuz.User.favorite_items()` and `qobuz.User.unfavorite_items()` are used instead. See the [Account- and user-related methods](#account--and-user-related-methods) section below for more information.\n",
    ":::"
   ]
  },
  {
   "attachments": {},
   "cell_type": "markdown",
   "metadata": {},
   "source": [
    "## Working with playlists\n",
    "\n",
    "Playlists are curated collections of tracks. There are two kinds: playlists curated by Qobuz that predominantly feature tracks of the same genre or by related artists, or personal playlists created by Qobuz users.\n",
    "\n",
    "In the following section, we will retrieve information about a public playlist (for which we know the Qobuz ID for) using both the procedural and object-oriented approaches. For this tutorial, we will use the curated playlist 'Taylor Swift' consisting of her songs."
   ]
  },
  {
   "cell_type": "code",
   "execution_count": 41,
   "metadata": {},
   "outputs": [],
   "source": [
    "playlist_id = 2512796"
   ]
  },
  {
   "attachments": {},
   "cell_type": "markdown",
   "metadata": {},
   "source": [
    "### Procedural approach for public playlists\n",
    "\n",
    "In this section, public playlists refer to playlists owned by Qobuz or other Qobuz users. Even with user authentication, you cannot edit these playlists because they do not belong to you. You can only query information about the playlists and the tracks in them.\n",
    "\n",
    "First, we create a `qobuz.Session` object without user authentication and use it to retrieve Qobuz catalog information for the playlist:"
   ]
  },
  {
   "cell_type": "code",
   "execution_count": 42,
   "metadata": {
    "tags": [
     "hide-output"
    ]
   },
   "outputs": [
    {
     "name": "stdout",
     "output_type": "stream",
     "text": [
      "image_rectangle_mini: ['https://static.qobuz.com/images/playlists/2512796_f6ee8023026e325dfe5a44eaa9562e2b_rectangle_mini.jpg']\n",
      "featured_artists: [{'id': 70899, 'name': 'Taylor Swift', 'slug': 'taylor-swift', 'albums_count': 1093, 'picture': None, 'image': None}]\n",
      "description: With 50 million albums sold worldwide, the 29-year-old Taylor Swift is now one of the top record sellers of all time. Since her debut in 2006, she’s always had a keen sense of when and how to reinvent herself, departing from her roots in country music to a calibrated but particularly well-constructed brand of pop music. Never fearful to express herself with the utmost freedom, Swift has always been an independent artist at heart. Her music is intelligent and unifying and has made the American a formidable hit machine with plenty of spirit.\n",
      "\n",
      "Photo © Taylor Swift\n",
      "created_at: 1570648837\n",
      "timestamp_position: 1670938157\n",
      "images300: ['https://static.qobuz.com/images/covers/xb/2u/h1r19zw2l2uxb_300.jpg', 'https://static.qobuz.com/images/covers/mc/aa/iy0pg1l2laamc_300.jpg', 'https://static.qobuz.com/images/covers/nb/j4/bbqhrrpxdj4nb_300.jpg', 'https://static.qobuz.com/images/covers/mb/bc/gpfwxb50vbcmb_300.jpg']\n",
      "duration: 14266\n",
      "updated_at: 1696459661\n",
      "genres: [{'id': 112, 'color': '#5eabc1', 'name': 'Pop/Rock', 'path': [112], 'slug': 'pop-rock', 'percent': 66.67}, {'id': 5, 'color': '#5eabc1', 'name': 'Folk', 'path': [2, 5], 'slug': 'folk', 'percent': 0}, {'id': 4, 'color': '#5eabc1', 'name': 'Country', 'path': [2, 4], 'slug': 'country', 'percent': 30}]\n",
      "image_rectangle: ['https://static.qobuz.com/images/playlists/2512796_f6ee8023026e325dfe5a44eaa9562e2b_rectangle.jpg']\n",
      "id: 2512796\n",
      "slug: taylor-swift-2\n",
      "owner: {'id': 922179, 'name': 'Qobuz'}\n",
      "users_count: 221\n",
      "images150: ['https://static.qobuz.com/images/covers/xb/2u/h1r19zw2l2uxb_150.jpg', 'https://static.qobuz.com/images/covers/mc/aa/iy0pg1l2laamc_150.jpg', 'https://static.qobuz.com/images/covers/nb/j4/bbqhrrpxdj4nb_150.jpg', 'https://static.qobuz.com/images/covers/mb/bc/gpfwxb50vbcmb_150.jpg']\n",
      "images: ['https://static.qobuz.com/images/covers/xb/2u/h1r19zw2l2uxb_50.jpg', 'https://static.qobuz.com/images/covers/mc/aa/iy0pg1l2laamc_50.jpg', 'https://static.qobuz.com/images/covers/nb/j4/bbqhrrpxdj4nb_50.jpg', 'https://static.qobuz.com/images/covers/mb/bc/gpfwxb50vbcmb_50.jpg']\n",
      "is_collaborative: False\n",
      "stores: ['CA-en', 'US-en']\n",
      "tags: [{'featured_tag_id': '39', 'name_json': '{\"fr\":\"Artistes\",\"en\":\"Artists\",\"de\":\"K\\\\u00fcnstler\",\"it\":\"Artisti\",\"nl\":\"Artists\",\"es\":\"Artistas\",\"pt\":\"Artistas\",\"ja\":\"\\\\u30a2\\\\u30fc\\\\u30c6\\\\u30a3\\\\u30b9\\\\u30c8\"}', 'slug': 'artist', 'color': '', 'genre_tag': None, 'is_discover': True}, {'featured_tag_id': '7', 'name_json': '{\"fr\":\"Pop-rock\",\"en\":\"Pop-rock\",\"de\":\"Pop-Rock\",\"it\":\"Pop-rock\",\"nl\":\"Pop-rock\",\"es\":\"Pop-rock\",\"pt\":\"Pop-rock\"}', 'slug': 'pop-rock', 'color': '', 'genre_tag': {'genre_id': '112', 'name': 'Pop/Rock'}, 'is_discover': False}, {'featured_tag_id': '36', 'name_json': '{\"fr\":\"Folk \\\\/ Americana\",\"en\":\"Folk \\\\/ Americana\",\"de\":\"Folk \\\\/ Americana\",\"it\":\"Folk \\\\/ Americana\",\"nl\":\"Folk \\\\/ Americana\",\"es\":\"Folk \\\\/ Americana\",\"pt\":\"Folk \\\\/ Americana\"}', 'slug': 'folk / americana', 'color': '', 'genre_tag': {'genre_id': '5', 'name': 'Folk'}, 'is_discover': False}, {'featured_tag_id': '35', 'name_json': '{\"fr\":\"Country\",\"en\":\"Country\",\"de\":\"Country\",\"it\":\"Country\",\"nl\":\"Country\",\"es\":\"Country\",\"pt\":\"Country\"}', 'slug': 'country', 'color': '', 'genre_tag': {'genre_id': '4', 'name': 'Country'}, 'is_discover': False}]\n",
      "tracks_count: 60\n",
      "public_at: 1570649024\n",
      "name: Taylor Swift\n",
      "is_public: True\n",
      "is_featured: True\n",
      "tracks: {'offset': 0, 'limit': 50, 'total': 60, 'items': [{'maximum_bit_depth': 16, 'copyright': '℗ 2014 Big Machine Records, LLC', 'performers': 'Max Martin, Producer, ComposerLyricist - Shellback, Producer, ComposerLyricist - Taylor Swift, MainArtist, ComposerLyricist', 'audio_info': {'replaygain_track_peak': 0.99884, 'replaygain_track_gain': -9.84}, 'performer': {'name': 'Taylor Swift', 'id': 70899}, 'album': {'image': {'small': 'https://static.qobuz.com/images/covers/ta/ym/id29re6slymta_230.jpg', 'thumbnail': 'https://static.qobuz.com/images/covers/ta/ym/id29re6slymta_50.jpg', 'large': 'https://static.qobuz.com/images/covers/ta/ym/id29re6slymta_600.jpg'}, 'maximum_bit_depth': 16, 'media_count': 1, 'artist': {'image': None, 'name': 'Taylor Swift', 'id': 70899, 'albums_count': 952, 'slug': 'taylor-swift', 'picture': None}, 'upc': '0843930013609', 'released_at': 1414364400, 'label': {'name': 'Big Machine Records, LLC', 'id': 17893, 'albums_count': 985, 'supplier_id': 1, 'slug': 'big-machine-records-llc'}, 'title': '1989', 'qobuz_id': 53965341, 'version': 'Deluxe Edition', 'duration': 4101, 'parental_warning': False, 'tracks_count': 19, 'popularity': 0, 'genre': {'path': [112, 117], 'color': '#0070ef', 'name': 'Pop', 'id': 117, 'slug': 'pop'}, 'maximum_channel_count': 2, 'id': 'id29re6slymta', 'maximum_sampling_rate': 44.1, 'previewable': True, 'sampleable': True, 'displayable': True, 'streamable': False, 'streamable_at': 1683529200, 'downloadable': False, 'purchasable_at': None, 'purchasable': False, 'release_date_original': '2014-10-27', 'release_date_download': '2014-10-27', 'release_date_stream': '2014-10-27', 'release_date_purchase': '2014-10-27', 'hires': False, 'hires_streamable': False}, 'work': None, 'composer': {'name': 'Shellback', 'id': 153029}, 'isrc': 'USCJY1431349', 'title': 'Shake It Off', 'version': None, 'duration': 219, 'parental_warning': False, 'track_number': 6, 'maximum_channel_count': 2, 'id': 53965347, 'media_number': 1, 'maximum_sampling_rate': 44.1, 'release_date_original': None, 'release_date_download': None, 'release_date_stream': None, 'release_date_purchase': None, 'purchasable': True, 'streamable': False, 'previewable': True, 'sampleable': True, 'downloadable': True, 'displayable': True, 'purchasable_at': 1683702000, 'streamable_at': 1683529200, 'hires': False, 'hires_streamable': False, 'position': 1, 'created_at': 1669008107, 'playlist_track_id': 2038678431}, {'maximum_bit_depth': 24, 'copyright': '℗ 2021 Taylor Swift', 'performers': 'Max Martin, ComposerLyricist - Shellback, Producer, ComposerLyricist - Max Bernstein, Synthesizer, AssociatedPerformer - Serban Ghenea, Mixer, StudioPersonnel - Sam Holland, Vocal Engineer, StudioPersonnel - Dan Burns, Additional Engineer, Programming, AssociatedPerformer, StudioPersonnel - Taylor Swift, Producer, Vocals, Background Vocalist, MainArtist, AssociatedPerformer, ComposerLyricist - Matt Billingslea, Drums, Drum Programming, AssociatedPerformer - Christopher Rowe, Producer, Vocal Engineer, StudioPersonnel - Randy Merrill, Mastering Engineer, StudioPersonnel - Paul Sidoti, Electric Guitar, AssociatedPerformer - Mike Meadows, Acoustic Guitar, Synthesizer, AssociatedPerformer - Amos Heller, Bass Guitar, Synth Bass, AssociatedPerformer - Derek Garten, Editor, Engineer, StudioPersonnel - Bryce Bordone, Mix Engineer, StudioPersonnel', 'audio_info': {'replaygain_track_peak': 1, 'replaygain_track_gain': -9.54}, 'performer': {'name': 'Taylor Swift', 'id': 70899}, 'album': {'image': {'small': 'https://static.qobuz.com/images/covers/6a/n5/oulc1w5vun56a_230.jpg', 'thumbnail': 'https://static.qobuz.com/images/covers/6a/n5/oulc1w5vun56a_50.jpg', 'large': 'https://static.qobuz.com/images/covers/6a/n5/oulc1w5vun56a_600.jpg'}, 'maximum_bit_depth': 24, 'media_count': 1, 'artist': {'image': None, 'name': 'Taylor Swift', 'id': 70899, 'albums_count': 1004, 'slug': 'taylor-swift', 'picture': None}, 'upc': '0602438993857', 'released_at': 1636671600, 'label': {'name': 'Taylor Swift', 'id': 313742, 'albums_count': 222, 'supplier_id': 1, 'slug': 'taylor-swift'}, 'title': \"Red (Taylor's Version)\", 'qobuz_id': 138305275, 'version': None, 'duration': 7826, 'parental_warning': True, 'tracks_count': 30, 'popularity': 0, 'genre': {'path': [112, 117], 'color': '#0070ef', 'name': 'Pop', 'id': 117, 'slug': 'pop'}, 'maximum_channel_count': 2, 'id': 'oulc1w5vun56a', 'maximum_sampling_rate': 96, 'previewable': True, 'sampleable': True, 'displayable': True, 'streamable': False, 'streamable_at': 1688886000, 'downloadable': False, 'purchasable_at': None, 'purchasable': False, 'release_date_original': '2021-11-12', 'release_date_download': '2021-11-12', 'release_date_stream': '2021-11-12', 'release_date_purchase': '2021-11-12', 'hires': True, 'hires_streamable': False}, 'work': None, 'composer': {'name': 'Taylor Swift', 'id': 70899}, 'isrc': 'USUG12103668', 'title': \"We Are Never Ever Getting Back Together (Taylor's Version)\", 'version': None, 'duration': 193, 'parental_warning': False, 'track_number': 8, 'maximum_channel_count': 2, 'id': 138305283, 'media_number': 1, 'maximum_sampling_rate': 96, 'release_date_original': None, 'release_date_download': None, 'release_date_stream': None, 'release_date_purchase': None, 'purchasable': True, 'streamable': False, 'previewable': True, 'sampleable': True, 'downloadable': True, 'displayable': True, 'purchasable_at': 1688886000, 'streamable_at': 1688886000, 'hires': True, 'hires_streamable': False, 'position': 2, 'created_at': 1669042281, 'playlist_track_id': 2042125701}, {'maximum_bit_depth': 16, 'copyright': '℗ 2019 Taylor Swift', 'performers': 'John Hanes, Mix Engineer, StudioPersonnel - Joel Little, Producer, Keyboards, Drum Programmer, Recording Engineer, AssociatedPerformer, StudioPersonnel, ComposerLyricist - Serban Ghenea, Mixer, StudioPersonnel - Taylor Swift, Producer, Vocals, MainArtist, AssociatedPerformer, ComposerLyricist', 'audio_info': {'replaygain_track_peak': 1, 'replaygain_track_gain': -10.43}, 'performer': {'name': 'Taylor Swift', 'id': 70899}, 'album': {'image': {'small': 'https://static.qobuz.com/images/covers/xb/2u/h1r19zw2l2uxb_230.jpg', 'thumbnail': 'https://static.qobuz.com/images/covers/xb/2u/h1r19zw2l2uxb_50.jpg', 'large': 'https://static.qobuz.com/images/covers/xb/2u/h1r19zw2l2uxb_600.jpg'}, 'maximum_bit_depth': 16, 'media_count': 1, 'artist': {'image': None, 'name': 'Taylor Swift', 'id': 70899, 'albums_count': 1058, 'slug': 'taylor-swift', 'picture': None}, 'upc': '0602508009228', 'released_at': 1566511200, 'label': {'name': 'Taylor Swift', 'id': 313742, 'albums_count': 222, 'supplier_id': 1, 'slug': 'taylor-swift'}, 'title': 'Lover', 'qobuz_id': 68263894, 'version': None, 'duration': 3685, 'parental_warning': False, 'tracks_count': 18, 'popularity': 0, 'genre': {'path': [112, 117], 'color': '#0070ef', 'name': 'Pop', 'id': 117, 'slug': 'pop'}, 'maximum_channel_count': 2, 'id': 'h1r19zw2l2uxb', 'maximum_sampling_rate': 44.1, 'previewable': True, 'sampleable': True, 'displayable': True, 'streamable': False, 'streamable_at': 1692601200, 'downloadable': False, 'purchasable_at': None, 'purchasable': False, 'release_date_original': '2019-08-23', 'release_date_download': '2019-08-23', 'release_date_stream': '2019-08-23', 'release_date_purchase': '2019-08-23', 'hires': False, 'hires_streamable': False}, 'work': None, 'composer': {'name': 'Joel Little', 'id': 309079}, 'isrc': 'USUG11901470', 'title': 'You Need To Calm Down', 'version': None, 'duration': 169, 'parental_warning': False, 'track_number': 14, 'maximum_channel_count': 2, 'id': 68263908, 'media_number': 1, 'maximum_sampling_rate': 44.1, 'release_date_original': None, 'release_date_download': None, 'release_date_stream': None, 'release_date_purchase': None, 'purchasable': True, 'streamable': False, 'previewable': True, 'sampleable': True, 'downloadable': True, 'displayable': True, 'purchasable_at': 1692601200, 'streamable_at': 1692601200, 'hires': False, 'hires_streamable': False, 'position': 3, 'created_at': 1669008016, 'playlist_track_id': 2038671397}, {'maximum_bit_depth': 16, 'copyright': '℗ 2022 Taylor Swift', 'performers': 'Serban Ghenea, Mixer, StudioPersonnel - Taylor Swift, Producer, Vocals, MainArtist, AssociatedPerformer, ComposerLyricist - Laura Sisk, Recording Engineer, StudioPersonnel - John Rooney, Asst. Recording Engineer, StudioPersonnel - Jon Sher, Asst. Recording Engineer, StudioPersonnel - Jack Antonoff, Producer, Drums, Acoustic Guitar, Percussion, Recording Engineer, Bass, Synthesizer, Mellotron, Wurlitzer Organ, Programming, Background Vocalist, AssociatedPerformer, StudioPersonnel, ComposerLyricist - Randy Merrill, Mastering Engineer, StudioPersonnel - Lorenzo Wolff, Recording Engineer, StudioPersonnel - Bryce Bordone, Assistant Mixer, StudioPersonnel - Bobby Hawk, Violin, AssociatedPerformer - Megan Searl, Asst. Recording Engineer, StudioPersonnel', 'audio_info': {'replaygain_track_peak': 1, 'replaygain_track_gain': -9.28}, 'performer': {'name': 'Taylor Swift', 'id': 70899}, 'album': {'image': {'small': 'https://static.qobuz.com/images/covers/mc/aa/iy0pg1l2laamc_230.jpg', 'thumbnail': 'https://static.qobuz.com/images/covers/mc/aa/iy0pg1l2laamc_50.jpg', 'large': 'https://static.qobuz.com/images/covers/mc/aa/iy0pg1l2laamc_600.jpg'}, 'maximum_bit_depth': 16, 'media_count': 1, 'artist': {'image': None, 'name': 'Taylor Swift', 'id': 70899, 'albums_count': 1043, 'slug': 'taylor-swift', 'picture': None}, 'upc': '0602448638793', 'released_at': 1666303200, 'label': {'name': 'Taylor Swift', 'id': 313742, 'albums_count': 222, 'supplier_id': 1, 'slug': 'taylor-swift'}, 'title': 'Midnights', 'qobuz_id': 181281745, 'version': None, 'duration': 2630, 'parental_warning': True, 'tracks_count': 13, 'popularity': 0, 'genre': {'path': [112, 117], 'color': '#0070ef', 'name': 'Pop', 'id': 117, 'slug': 'pop'}, 'maximum_channel_count': 2, 'id': 'iy0pg1l2laamc', 'maximum_sampling_rate': 44.1, 'previewable': True, 'sampleable': True, 'displayable': True, 'streamable': False, 'streamable_at': 1691305200, 'downloadable': False, 'purchasable_at': None, 'purchasable': False, 'release_date_original': '2022-10-21', 'release_date_download': '2022-10-21', 'release_date_stream': '2022-10-21', 'release_date_purchase': '2022-10-21', 'hires': False, 'hires_streamable': False}, 'work': None, 'composer': {'name': 'Jack Antonoff', 'id': 778282}, 'isrc': 'USUG12205736', 'title': 'Anti-Hero', 'version': None, 'duration': 200, 'parental_warning': False, 'track_number': 3, 'maximum_channel_count': 2, 'id': 181281748, 'media_number': 1, 'maximum_sampling_rate': 44.1, 'release_date_original': None, 'release_date_download': None, 'release_date_stream': None, 'release_date_purchase': None, 'purchasable': True, 'streamable': False, 'previewable': True, 'sampleable': True, 'downloadable': True, 'displayable': True, 'purchasable_at': 1691305200, 'streamable_at': 1691305200, 'hires': False, 'hires_streamable': False, 'position': 4, 'created_at': 1669008016, 'playlist_track_id': 2038671398}, {'maximum_bit_depth': 24, 'copyright': '℗ 2021 Taylor Swift', 'performers': 'Max Bernstein, Electric Guitar, AssociatedPerformer - David Payne, Recording Engineer, StudioPersonnel - John Hanes, Engineer, StudioPersonnel - Serban Ghenea, Mixer, StudioPersonnel - Sam Holland, Vocal Engineer, StudioPersonnel - Jonathan Yudkin, Fiddle, AssociatedPerformer - Caitlin Evanson, Background Vocalist, AssociatedPerformer - Taylor Swift, Producer, Vocals, MainArtist, AssociatedPerformer, ComposerLyricist - Matt Billingslea, Drums, AssociatedPerformer - Christopher Rowe, Producer, Recording Engineer, StudioPersonnel - Sean Badum, Asst. Recording Engineer, StudioPersonnel - Randy Merrill, Mastering Engineer, StudioPersonnel - Paul Sidoti, Electric Guitar, Background Vocalist, AssociatedPerformer - Mike Meadows, Banjo, Acoustic Guitar, Mandolin, Background Vocalist, AssociatedPerformer - Amos Heller, Bass, AssociatedPerformer', 'audio_info': {'replaygain_track_peak': 1, 'replaygain_track_gain': -10.22}, 'performer': {'name': 'Taylor Swift', 'id': 70899}, 'album': {'image': {'small': 'https://static.qobuz.com/images/covers/ic/0c/r8361te6k0cic_230.jpg', 'thumbnail': 'https://static.qobuz.com/images/covers/ic/0c/r8361te6k0cic_50.jpg', 'large': 'https://static.qobuz.com/images/covers/ic/0c/r8361te6k0cic_600.jpg'}, 'maximum_bit_depth': 24, 'media_count': 1, 'artist': {'image': None, 'name': 'Taylor Swift', 'id': 70899, 'albums_count': 1084, 'slug': 'taylor-swift', 'picture': None}, 'upc': '0602435838908', 'released_at': 1617919200, 'label': {'name': 'Taylor Swift', 'id': 313742, 'albums_count': 222, 'supplier_id': 1, 'slug': 'taylor-swift'}, 'title': \"Fearless (Taylor's Version)\", 'qobuz_id': 119360712, 'version': None, 'duration': 6380, 'parental_warning': False, 'tracks_count': 26, 'popularity': 0, 'genre': {'path': [4], 'color': '#0070ef', 'name': 'Country', 'id': 4, 'slug': 'country'}, 'maximum_channel_count': 2, 'id': 'r8361te6k0cic', 'maximum_sampling_rate': 96, 'previewable': True, 'sampleable': True, 'displayable': True, 'streamable': False, 'streamable_at': 1695106800, 'downloadable': False, 'purchasable_at': None, 'purchasable': False, 'release_date_original': '2021-04-09', 'release_date_download': '2021-04-09', 'release_date_stream': '2021-04-09', 'release_date_purchase': '2021-04-09', 'hires': True, 'hires_streamable': False}, 'work': None, 'composer': {'name': 'Taylor Swift', 'id': 70899}, 'isrc': 'USUG12100342', 'title': 'Love Story (Taylor’s Version)', 'version': None, 'duration': 235, 'parental_warning': False, 'track_number': 3, 'maximum_channel_count': 2, 'id': 119360715, 'media_number': 1, 'maximum_sampling_rate': 96, 'release_date_original': None, 'release_date_download': None, 'release_date_stream': None, 'release_date_purchase': None, 'purchasable': True, 'streamable': False, 'previewable': True, 'sampleable': True, 'downloadable': True, 'displayable': True, 'purchasable_at': 1695106800, 'streamable_at': 1695106800, 'hires': True, 'hires_streamable': False, 'position': 5, 'created_at': 1669041998, 'playlist_track_id': 2042098003}, {'maximum_bit_depth': 24, 'copyright': '℗ 2020 Taylor Swift', 'performers': 'Greg Calbi, Mastering Engineer, StudioPersonnel - Steve Fallone, Mastering Engineer, StudioPersonnel - Clarice Jensen, Cello, AssociatedPerformer - Taylor Swift, MainArtist, ComposerLyricist - Aaron Dessner, Producer, Acoustic Guitar, Electric Guitar, Keyboards, Percussion, Piano, Recording Engineer, Bass, Synthesizer, Drum Machine, AssociatedPerformer, StudioPersonnel, ComposerLyricist - CJ Camerieri, French Horn, AssociatedPerformer - Thomas Bartlett, Keyboards, Synthesizer, AssociatedPerformer - Jason Treuting, Glockenspiel, AssociatedPerformer - James McAlister, Synthesizer, Drum Machine, AssociatedPerformer - Bryan Devendorf, Percussion, Drum Machine, AssociatedPerformer - Bryce Dessner, Unknown, Other - Josh Kaufman, Electric Guitar, AssociatedPerformer - Alex Sopp, Flute, AssociatedPerformer - Yuki Numata Resnick, Violin, AssociatedPerformer - Jonathan Low, Mixer, Recording Engineer, Vocal Engineer, StudioPersonnel', 'audio_info': {'replaygain_track_peak': 0.964447, 'replaygain_track_gain': -9.39}, 'performer': {'name': 'Taylor Swift', 'id': 70899}, 'album': {'image': {'small': 'https://static.qobuz.com/images/covers/nb/j4/bbqhrrpxdj4nb_230.jpg', 'thumbnail': 'https://static.qobuz.com/images/covers/nb/j4/bbqhrrpxdj4nb_50.jpg', 'large': 'https://static.qobuz.com/images/covers/nb/j4/bbqhrrpxdj4nb_600.jpg'}, 'maximum_bit_depth': 24, 'media_count': 1, 'artist': {'image': None, 'name': 'Taylor Swift', 'id': 70899, 'albums_count': 1004, 'slug': 'taylor-swift', 'picture': None}, 'upc': '0602435648545', 'released_at': 1607641200, 'label': {'name': 'Taylor Swift', 'id': 313742, 'albums_count': 222, 'supplier_id': 1, 'slug': 'taylor-swift'}, 'title': 'evermore (Explicit)', 'qobuz_id': 108768133, 'version': None, 'duration': 3638, 'parental_warning': True, 'tracks_count': 15, 'popularity': 0, 'genre': {'path': [112, 119, 113], 'color': '#0070ef', 'name': 'Alternative & Indie', 'id': 113, 'slug': 'alternatif-et-inde'}, 'maximum_channel_count': 2, 'id': 'bbqhrrpxdj4nb', 'maximum_sampling_rate': 88.2, 'previewable': True, 'sampleable': True, 'displayable': True, 'streamable': False, 'streamable_at': 1688886000, 'downloadable': False, 'purchasable_at': None, 'purchasable': False, 'release_date_original': '2020-12-11', 'release_date_download': '2020-12-11', 'release_date_stream': '2020-12-11', 'release_date_purchase': '2020-12-11', 'hires': True, 'hires_streamable': False}, 'work': None, 'composer': {'name': 'Aaron Dessner', 'id': 630289}, 'isrc': 'USUG12004699', 'title': 'willow', 'version': None, 'duration': 214, 'parental_warning': False, 'track_number': 1, 'maximum_channel_count': 2, 'id': 108768134, 'media_number': 1, 'maximum_sampling_rate': 88.2, 'release_date_original': None, 'release_date_download': None, 'release_date_stream': None, 'release_date_purchase': None, 'purchasable': True, 'streamable': False, 'previewable': True, 'sampleable': True, 'downloadable': True, 'displayable': True, 'purchasable_at': 1688886000, 'streamable_at': 1688886000, 'hires': True, 'hires_streamable': False, 'position': 6, 'created_at': 1669008016, 'playlist_track_id': 2038671400}, {'maximum_bit_depth': 24, 'copyright': '℗ 2021 Taylor Swift', 'performers': 'Max Martin, ComposerLyricist - Shellback, Producer, ComposerLyricist - Max Bernstein, Synthesizer, AssociatedPerformer - Serban Ghenea, Mixer, StudioPersonnel - Sam Holland, Vocal Engineer, StudioPersonnel - Dan Burns, Additional Engineer, Programming, AssociatedPerformer, StudioPersonnel - Taylor Swift, Producer, Vocals, Background Vocalist, MainArtist, AssociatedPerformer, ComposerLyricist - Matt Billingslea, Drums, Drum Programming, AssociatedPerformer - Christopher Rowe, Producer, Vocal Engineer, StudioPersonnel - Randy Merrill, Mastering Engineer, StudioPersonnel - Paul Sidoti, Electric Guitar, AssociatedPerformer - Mike Meadows, Acoustic Guitar, Synthesizer, AssociatedPerformer - Amos Heller, Bass Guitar, AssociatedPerformer - Derek Garten, Editor, Engineer, StudioPersonnel - Bryce Bordone, Mix Engineer, StudioPersonnel', 'audio_info': {'replaygain_track_peak': 1, 'replaygain_track_gain': -8.38}, 'performer': {'name': 'Taylor Swift', 'id': 70899}, 'album': {'image': {'small': 'https://static.qobuz.com/images/covers/6a/n5/oulc1w5vun56a_230.jpg', 'thumbnail': 'https://static.qobuz.com/images/covers/6a/n5/oulc1w5vun56a_50.jpg', 'large': 'https://static.qobuz.com/images/covers/6a/n5/oulc1w5vun56a_600.jpg'}, 'maximum_bit_depth': 24, 'media_count': 1, 'artist': {'image': None, 'name': 'Taylor Swift', 'id': 70899, 'albums_count': 1004, 'slug': 'taylor-swift', 'picture': None}, 'upc': '0602438993857', 'released_at': 1636671600, 'label': {'name': 'Taylor Swift', 'id': 313742, 'albums_count': 222, 'supplier_id': 1, 'slug': 'taylor-swift'}, 'title': \"Red (Taylor's Version)\", 'qobuz_id': 138305275, 'version': None, 'duration': 7826, 'parental_warning': True, 'tracks_count': 30, 'popularity': 0, 'genre': {'path': [112, 117], 'color': '#0070ef', 'name': 'Pop', 'id': 117, 'slug': 'pop'}, 'maximum_channel_count': 2, 'id': 'oulc1w5vun56a', 'maximum_sampling_rate': 96, 'previewable': True, 'sampleable': True, 'displayable': True, 'streamable': False, 'streamable_at': 1688886000, 'downloadable': False, 'purchasable_at': None, 'purchasable': False, 'release_date_original': '2021-11-12', 'release_date_download': '2021-11-12', 'release_date_stream': '2021-11-12', 'release_date_purchase': '2021-11-12', 'hires': True, 'hires_streamable': False}, 'work': None, 'composer': {'name': 'Taylor Swift', 'id': 70899}, 'isrc': 'USUG12103664', 'title': \"I Knew You Were Trouble (Taylor's Version)\", 'version': None, 'duration': 219, 'parental_warning': False, 'track_number': 4, 'maximum_channel_count': 2, 'id': 138305279, 'media_number': 1, 'maximum_sampling_rate': 96, 'release_date_original': None, 'release_date_download': None, 'release_date_stream': None, 'release_date_purchase': None, 'purchasable': True, 'streamable': False, 'previewable': True, 'sampleable': True, 'downloadable': True, 'displayable': True, 'purchasable_at': 1688886000, 'streamable_at': 1688886000, 'hires': True, 'hires_streamable': False, 'position': 7, 'created_at': 1669042286, 'playlist_track_id': 2042127618}, {'maximum_bit_depth': 24, 'copyright': '℗ 2020 Taylor Swift', 'performers': 'Clarice Jensen, Cello, AssociatedPerformer - Dave Nelson, Trombone, AssociatedPerformer - Taylor Swift, MainArtist, ComposerLyricist - Laura Sisk, Vocal Engineer, StudioPersonnel - Aaron Dessner, Producer, Engineer, Electric Guitar, Percussion, Piano, Recording Engineer, Bass, Synthesizer, Drum Programming, Mellotron, AssociatedPerformer, StudioPersonnel, ComposerLyricist - James McAlister, Drum Programming, AssociatedPerformer - Bryce Dessner, Unknown, Other - Kyle Resnick, Engineer, StudioPersonnel - Randy Merrill, Mastering Engineer, StudioPersonnel - Yuki Numata Resnick, Viola, Violin, AssociatedPerformer - Jonathan Low, Mixer, Recording Engineer, StudioPersonnel - Bella Blasko, Engineer, StudioPersonnel - Benjamin Lanz, Synthesizer, AssociatedPerformer', 'audio_info': {'replaygain_track_peak': 0.977264, 'replaygain_track_gain': -8.97}, 'performer': {'name': 'Taylor Swift', 'id': 70899}, 'album': {'image': {'small': 'https://static.qobuz.com/images/covers/mb/bc/gpfwxb50vbcmb_230.jpg', 'thumbnail': 'https://static.qobuz.com/images/covers/mb/bc/gpfwxb50vbcmb_50.jpg', 'large': 'https://static.qobuz.com/images/covers/mb/bc/gpfwxb50vbcmb_600.jpg'}, 'maximum_bit_depth': 24, 'media_count': 1, 'artist': {'image': None, 'name': 'Taylor Swift', 'id': 70899, 'albums_count': 1004, 'slug': 'taylor-swift', 'picture': None}, 'upc': '0602435037967', 'released_at': 1595541600, 'label': {'name': 'Taylor Swift', 'id': 313742, 'albums_count': 222, 'supplier_id': 1, 'slug': 'taylor-swift'}, 'title': 'Folklore (Explicit)', 'qobuz_id': 98522697, 'version': None, 'duration': 3807, 'parental_warning': True, 'tracks_count': 16, 'popularity': 0, 'genre': {'path': [112, 119, 113], 'color': '#0070ef', 'name': 'Alternative & Indie', 'id': 113, 'slug': 'alternatif-et-inde'}, 'maximum_channel_count': 2, 'id': 'gpfwxb50vbcmb', 'maximum_sampling_rate': 44.1, 'previewable': True, 'sampleable': True, 'displayable': True, 'streamable': False, 'streamable_at': 1688886000, 'downloadable': False, 'purchasable_at': None, 'purchasable': False, 'release_date_original': '2020-07-24', 'release_date_download': '2020-07-24', 'release_date_stream': '2020-07-24', 'release_date_purchase': '2020-07-24', 'hires': True, 'hires_streamable': False}, 'work': None, 'composer': {'name': 'Aaron Dessner', 'id': 630289}, 'isrc': 'USUG12002836', 'title': 'cardigan', 'version': None, 'duration': 239, 'parental_warning': False, 'track_number': 2, 'maximum_channel_count': 2, 'id': 98522699, 'media_number': 1, 'maximum_sampling_rate': 44.1, 'release_date_original': None, 'release_date_download': None, 'release_date_stream': None, 'release_date_purchase': None, 'purchasable': True, 'streamable': False, 'previewable': True, 'sampleable': True, 'downloadable': True, 'displayable': True, 'purchasable_at': 1688886000, 'streamable_at': 1688886000, 'hires': True, 'hires_streamable': False, 'position': 8, 'created_at': 1669008016, 'playlist_track_id': 2038671402}, {'maximum_bit_depth': 24, 'copyright': '℗ 2021 Taylor Swift', 'performers': \"Chris Stapleton, Vocals, FeaturedArtist, AssociatedPerformer - Lori McKenna, ComposerLyricist - Vance Powell, Vocal Engineer, StudioPersonnel - Jeremy Murphy, Recording Engineer, StudioPersonnel - Dave Brown, Double Bass, AssociatedPerformer - Taylor Swift, Producer, Vocals, MainArtist, AssociatedPerformer, ComposerLyricist - Aaron Dessner, Producer, Engineer, Guitar, Acoustic Guitar, Bass Guitar, Piano, Recording Engineer, AssociatedPerformer, StudioPersonnel - Christopher Rowe, Vocal Engineer, StudioPersonnel - Matthew Kettle, Viola, AssociatedPerformer - Galya Bisengalieva, Violin, Orchestra Leader, AssociatedPerformer - Robert Ames, Unknown, Other - Oliver Coates, Cello, AssociatedPerformer - Jonny Byers, Cello, AssociatedPerformer - Bryce Dessner, Unknown, Other - Charlotte Reid, Violin, AssociatedPerformer - Josh Kaufman, Additional Engineer, Electric Guitar, Harmonica, Lap Steel Guitar, AssociatedPerformer, StudioPersonnel - Randy Merrill, Mastering Engineer, StudioPersonnel - London Contemporary Orchestra, Unknown, Other - Michael Fahey, Asst. Recording Engineer, StudioPersonnel - Clifton Harrison, Viola, AssociatedPerformer - Jonathan Low, Mixer, Engineer, Recording Engineer, StudioPersonnel - Max Ruisi, Cello, AssociatedPerformer - Anna de Bruin, Violin, AssociatedPerformer - Eloisa-Fleur Thom, Violin, AssociatedPerformer - Natalie Klouda, Violin, AssociatedPerformer - Charis Jenson, Violin, AssociatedPerformer - Antonia Kesel, Violin, AssociatedPerformer - Stephanie Edmundson, Viola, AssociatedPerformer - Zoe Matthews, Viola, AssociatedPerformer - Nicole Crespo O'Donoghue, Violin, AssociatedPerformer - James Krivchenia, Drums, Percussion, AssociatedPerformer - Guy Button, Violin, AssociatedPerformer - Anna Ovsyanikova, Violin, AssociatedPerformer - Nicole Stokes, Violin, AssociatedPerformer - Talia Morey, Unknown, Other - Meg Monteith, Unknown, Other - Amy Hinds, Unknown, Other - Zahra Benyounes, Violin, AssociatedPerformer\", 'audio_info': {'replaygain_track_peak': 0.96698, 'replaygain_track_gain': -10.4}, 'performer': {'name': 'Taylor Swift', 'id': 70899}, 'album': {'image': {'small': 'https://static.qobuz.com/images/covers/6a/n5/oulc1w5vun56a_230.jpg', 'thumbnail': 'https://static.qobuz.com/images/covers/6a/n5/oulc1w5vun56a_50.jpg', 'large': 'https://static.qobuz.com/images/covers/6a/n5/oulc1w5vun56a_600.jpg'}, 'maximum_bit_depth': 24, 'media_count': 1, 'artist': {'image': None, 'name': 'Taylor Swift', 'id': 70899, 'albums_count': 1004, 'slug': 'taylor-swift', 'picture': None}, 'upc': '0602438993857', 'released_at': 1636671600, 'label': {'name': 'Taylor Swift', 'id': 313742, 'albums_count': 222, 'supplier_id': 1, 'slug': 'taylor-swift'}, 'title': \"Red (Taylor's Version)\", 'qobuz_id': 138305275, 'version': None, 'duration': 7826, 'parental_warning': True, 'tracks_count': 30, 'popularity': 0, 'genre': {'path': [112, 117], 'color': '#0070ef', 'name': 'Pop', 'id': 117, 'slug': 'pop'}, 'maximum_channel_count': 2, 'id': 'oulc1w5vun56a', 'maximum_sampling_rate': 96, 'previewable': True, 'sampleable': True, 'displayable': True, 'streamable': False, 'streamable_at': 1688886000, 'downloadable': False, 'purchasable_at': None, 'purchasable': False, 'release_date_original': '2021-11-12', 'release_date_download': '2021-11-12', 'release_date_stream': '2021-11-12', 'release_date_purchase': '2021-11-12', 'hires': True, 'hires_streamable': False}, 'work': None, 'composer': {'name': 'Taylor Swift', 'id': 70899}, 'isrc': 'USUG12103686', 'title': \"I Bet You Think About Me (Taylor's Version) (From The Vault)\", 'version': None, 'duration': 285, 'parental_warning': True, 'track_number': 26, 'maximum_channel_count': 2, 'id': 138305301, 'media_number': 1, 'maximum_sampling_rate': 96, 'release_date_original': None, 'release_date_download': None, 'release_date_stream': None, 'release_date_purchase': None, 'purchasable': True, 'streamable': False, 'previewable': True, 'sampleable': True, 'downloadable': True, 'displayable': True, 'purchasable_at': 1688886000, 'streamable_at': 1688886000, 'hires': True, 'hires_streamable': False, 'position': 9, 'created_at': 1669008016, 'playlist_track_id': 2038671403}, {'maximum_bit_depth': 16, 'copyright': '℗ 2014 Big Machine Records, LLC', 'performers': 'Max Martin, Producer, ComposerLyricist - Shellback, Producer, ComposerLyricist - Taylor Swift, MainArtist, ComposerLyricist', 'audio_info': {'replaygain_track_peak': 0.99884, 'replaygain_track_gain': -9.7}, 'performer': {'name': 'Taylor Swift', 'id': 70899}, 'album': {'image': {'small': 'https://static.qobuz.com/images/covers/ta/ym/id29re6slymta_230.jpg', 'thumbnail': 'https://static.qobuz.com/images/covers/ta/ym/id29re6slymta_50.jpg', 'large': 'https://static.qobuz.com/images/covers/ta/ym/id29re6slymta_600.jpg'}, 'maximum_bit_depth': 16, 'media_count': 1, 'artist': {'image': None, 'name': 'Taylor Swift', 'id': 70899, 'albums_count': 952, 'slug': 'taylor-swift', 'picture': None}, 'upc': '0843930013609', 'released_at': 1414364400, 'label': {'name': 'Big Machine Records, LLC', 'id': 17893, 'albums_count': 985, 'supplier_id': 1, 'slug': 'big-machine-records-llc'}, 'title': '1989', 'qobuz_id': 53965341, 'version': 'Deluxe Edition', 'duration': 4101, 'parental_warning': False, 'tracks_count': 19, 'popularity': 0, 'genre': {'path': [112, 117], 'color': '#0070ef', 'name': 'Pop', 'id': 117, 'slug': 'pop'}, 'maximum_channel_count': 2, 'id': 'id29re6slymta', 'maximum_sampling_rate': 44.1, 'previewable': True, 'sampleable': True, 'displayable': True, 'streamable': False, 'streamable_at': 1683529200, 'downloadable': False, 'purchasable_at': None, 'purchasable': False, 'release_date_original': '2014-10-27', 'release_date_download': '2014-10-27', 'release_date_stream': '2014-10-27', 'release_date_purchase': '2014-10-27', 'hires': False, 'hires_streamable': False}, 'work': None, 'composer': {'name': 'Shellback', 'id': 153029}, 'isrc': 'USCJY1431309', 'title': 'Blank Space', 'version': None, 'duration': 230, 'parental_warning': False, 'track_number': 2, 'maximum_channel_count': 2, 'id': 53965343, 'media_number': 1, 'maximum_sampling_rate': 44.1, 'release_date_original': None, 'release_date_download': None, 'release_date_stream': None, 'release_date_purchase': None, 'purchasable': True, 'streamable': False, 'previewable': True, 'sampleable': True, 'downloadable': True, 'displayable': True, 'purchasable_at': 1683702000, 'streamable_at': 1683529200, 'hires': False, 'hires_streamable': False, 'position': 10, 'created_at': 1669008118, 'playlist_track_id': 2038678464}, {'maximum_bit_depth': 16, 'copyright': '℗ 2006 Big Machine Records, LLC All Rights Reserved', 'performers': 'Liz Rose, ComposerLyricist - Taylor Swift, MainArtist, ComposerLyricist', 'audio_info': {'replaygain_track_peak': 0.963806, 'replaygain_track_gain': -8.37}, 'performer': {'name': 'Taylor Swift', 'id': 70899}, 'album': {'image': {'small': 'https://static.qobuz.com/images/covers/oa/9h/qwrzlxac89hoa_230.jpg', 'thumbnail': 'https://static.qobuz.com/images/covers/oa/9h/qwrzlxac89hoa_50.jpg', 'large': 'https://static.qobuz.com/images/covers/oa/9h/qwrzlxac89hoa_600.jpg'}, 'maximum_bit_depth': 16, 'media_count': 1, 'artist': {'image': None, 'name': 'Taylor Swift', 'id': 70899, 'albums_count': 952, 'slug': 'taylor-swift', 'picture': None}, 'upc': '0843930000821', 'released_at': 1161640800, 'label': {'name': 'Big Machine Records, LLC', 'id': 17893, 'albums_count': 985, 'supplier_id': 1, 'slug': 'big-machine-records-llc'}, 'title': 'Taylor Swift', 'qobuz_id': 54302100, 'version': None, 'duration': 3196, 'parental_warning': False, 'tracks_count': 15, 'popularity': 0, 'genre': {'path': [4], 'color': '#0070ef', 'name': 'Country', 'id': 4, 'slug': 'country'}, 'maximum_channel_count': 2, 'id': 'qwrzlxac89hoa', 'maximum_sampling_rate': 44.1, 'previewable': True, 'sampleable': True, 'displayable': True, 'streamable': False, 'streamable_at': 1683529200, 'downloadable': False, 'purchasable_at': None, 'purchasable': False, 'release_date_original': '2006-10-24', 'release_date_download': '2006-10-24', 'release_date_stream': '2006-10-24', 'release_date_purchase': '2006-10-24', 'hires': False, 'hires_streamable': False}, 'work': None, 'composer': {'name': 'Taylor Swift', 'id': 70899}, 'isrc': 'USCJY0603137', 'title': 'Teardrops On My Guitar', 'version': 'Radio Single Remix', 'duration': 202, 'parental_warning': False, 'track_number': 3, 'maximum_channel_count': 2, 'id': 54302103, 'media_number': 1, 'maximum_sampling_rate': 44.1, 'release_date_original': None, 'release_date_download': None, 'release_date_stream': None, 'release_date_purchase': None, 'purchasable': True, 'streamable': False, 'previewable': True, 'sampleable': True, 'downloadable': True, 'displayable': True, 'purchasable_at': 1683702000, 'streamable_at': 1683529200, 'hires': False, 'hires_streamable': False, 'position': 11, 'created_at': 1669042702, 'playlist_track_id': 2042169222}, {'maximum_bit_depth': 16, 'copyright': '℗ 2017 Big Machine Label Group, LLC', 'performers': 'Richard Fairbrass, ComposerLyricist - Fred Fairbrass, ComposerLyricist - Rob Manzoli, ComposerLyricist - Taylor Swift, Producer, MainArtist, ComposerLyricist - Jack Antonoff, Producer, ComposerLyricist', 'audio_info': {'replaygain_track_peak': 0.960175, 'replaygain_track_gain': -10.57}, 'performer': {'name': 'Taylor Swift', 'id': 70899}, 'album': {'image': {'small': 'https://static.qobuz.com/images/covers/14/33/0084393003314_230.jpg', 'thumbnail': 'https://static.qobuz.com/images/covers/14/33/0084393003314_50.jpg', 'large': 'https://static.qobuz.com/images/covers/14/33/0084393003314_600.jpg'}, 'maximum_bit_depth': 16, 'media_count': 1, 'artist': {'image': None, 'name': 'Taylor Swift', 'id': 70899, 'albums_count': 952, 'slug': 'taylor-swift', 'picture': None}, 'upc': '0084393003314', 'released_at': 1510268400, 'label': {'name': 'Big Machine Records, LLC', 'id': 17893, 'albums_count': 985, 'supplier_id': 1, 'slug': 'big-machine-records-llc'}, 'title': 'reputation', 'qobuz_id': 45281657, 'version': None, 'duration': 3325, 'parental_warning': False, 'tracks_count': 15, 'popularity': 0, 'genre': {'path': [112, 117], 'color': '#0070ef', 'name': 'Pop', 'id': 117, 'slug': 'pop'}, 'maximum_channel_count': 2, 'id': '0084393003314', 'maximum_sampling_rate': 44.1, 'previewable': True, 'sampleable': True, 'displayable': True, 'streamable': False, 'streamable_at': 1683529200, 'downloadable': False, 'purchasable_at': None, 'purchasable': False, 'release_date_original': '2017-11-10', 'release_date_download': '2017-11-10', 'release_date_stream': '2017-11-10', 'release_date_purchase': '2017-11-10', 'hires': False, 'hires_streamable': False}, 'work': None, 'composer': {'name': 'Jack Antonoff', 'id': 778282}, 'isrc': 'USCJY1750000', 'title': 'Look What You Made Me Do', 'version': None, 'duration': 210, 'parental_warning': False, 'track_number': 6, 'maximum_channel_count': 2, 'id': 45281663, 'media_number': 1, 'maximum_sampling_rate': 44.1, 'release_date_original': None, 'release_date_download': None, 'release_date_stream': None, 'release_date_purchase': None, 'purchasable': True, 'streamable': False, 'previewable': True, 'sampleable': True, 'downloadable': True, 'displayable': True, 'purchasable_at': 1683702000, 'streamable_at': 1683529200, 'hires': False, 'hires_streamable': False, 'position': 12, 'created_at': 1669008016, 'playlist_track_id': 2038671406}, {'maximum_bit_depth': 16, 'copyright': '℗ 2019 Taylor Swift', 'performers': 'John Hanes, Mix Engineer, StudioPersonnel - Serban Ghenea, Mixer, StudioPersonnel - Taylor Swift, Producer, Vocals, MainArtist, AssociatedPerformer, ComposerLyricist - Laura Sisk, Recording Engineer, StudioPersonnel - John Rooney, Asst. Recording Engineer, StudioPersonnel - Jack Antonoff, Producer, Drums, Acoustic Guitar, Bass Guitar, Keyboards, Percussion, Piano, Programmer, Recording Engineer, AssociatedPerformer, StudioPersonnel', 'audio_info': {'replaygain_track_peak': 0.99884, 'replaygain_track_gain': -7.43}, 'performer': {'name': 'Taylor Swift', 'id': 70899}, 'album': {'image': {'small': 'https://static.qobuz.com/images/covers/xb/2u/h1r19zw2l2uxb_230.jpg', 'thumbnail': 'https://static.qobuz.com/images/covers/xb/2u/h1r19zw2l2uxb_50.jpg', 'large': 'https://static.qobuz.com/images/covers/xb/2u/h1r19zw2l2uxb_600.jpg'}, 'maximum_bit_depth': 16, 'media_count': 1, 'artist': {'image': None, 'name': 'Taylor Swift', 'id': 70899, 'albums_count': 1058, 'slug': 'taylor-swift', 'picture': None}, 'upc': '0602508009228', 'released_at': 1566511200, 'label': {'name': 'Taylor Swift', 'id': 313742, 'albums_count': 222, 'supplier_id': 1, 'slug': 'taylor-swift'}, 'title': 'Lover', 'qobuz_id': 68263894, 'version': None, 'duration': 3685, 'parental_warning': False, 'tracks_count': 18, 'popularity': 0, 'genre': {'path': [112, 117], 'color': '#0070ef', 'name': 'Pop', 'id': 117, 'slug': 'pop'}, 'maximum_channel_count': 2, 'id': 'h1r19zw2l2uxb', 'maximum_sampling_rate': 44.1, 'previewable': True, 'sampleable': True, 'displayable': True, 'streamable': False, 'streamable_at': 1692601200, 'downloadable': False, 'purchasable_at': None, 'purchasable': False, 'release_date_original': '2019-08-23', 'release_date_download': '2019-08-23', 'release_date_stream': '2019-08-23', 'release_date_purchase': '2019-08-23', 'hires': False, 'hires_streamable': False}, 'work': None, 'composer': {'name': 'Taylor Swift', 'id': 70899}, 'isrc': 'USUG11901473', 'title': 'Lover', 'version': None, 'duration': 220, 'parental_warning': False, 'track_number': 3, 'maximum_channel_count': 2, 'id': 68263897, 'media_number': 1, 'maximum_sampling_rate': 44.1, 'release_date_original': None, 'release_date_download': None, 'release_date_stream': None, 'release_date_purchase': None, 'purchasable': True, 'streamable': False, 'previewable': True, 'sampleable': True, 'downloadable': True, 'displayable': True, 'purchasable_at': 1692601200, 'streamable_at': 1692601200, 'hires': False, 'hires_streamable': False, 'position': 13, 'created_at': 1669008016, 'playlist_track_id': 2038671407}, {'maximum_bit_depth': 16, 'copyright': '℗ 2011 Big Machine Records, LLC.', 'performers': 'Taylor Swift, MainArtist, ComposerLyricist', 'audio_info': {'replaygain_track_peak': 0.977447, 'replaygain_track_gain': -9.48}, 'performer': {'name': 'Taylor Swift', 'id': 70899}, 'album': {'image': {'small': 'https://static.qobuz.com/images/covers/za/38/qro5n70da38za_230.jpg', 'thumbnail': 'https://static.qobuz.com/images/covers/za/38/qro5n70da38za_50.jpg', 'large': 'https://static.qobuz.com/images/covers/za/38/qro5n70da38za_600.jpg'}, 'maximum_bit_depth': 16, 'media_count': 1, 'artist': {'image': None, 'name': 'Taylor Swift', 'id': 70899, 'albums_count': 952, 'slug': 'taylor-swift', 'picture': None}, 'upc': '0843930037759', 'released_at': 1297724400, 'label': {'name': 'Big Machine Records, LLC', 'id': 17893, 'albums_count': 985, 'supplier_id': 1, 'slug': 'big-machine-records-llc'}, 'title': 'Today Was A Fairytale', 'qobuz_id': 53637299, 'version': None, 'duration': 241, 'parental_warning': False, 'tracks_count': 1, 'popularity': 0, 'genre': {'path': [4], 'color': '#0070ef', 'name': 'Country', 'id': 4, 'slug': 'country'}, 'maximum_channel_count': 2, 'id': 'qro5n70da38za', 'maximum_sampling_rate': 44.1, 'previewable': True, 'sampleable': True, 'displayable': True, 'streamable': False, 'streamable_at': 1683529200, 'downloadable': False, 'purchasable_at': None, 'purchasable': False, 'release_date_original': '2011-02-15', 'release_date_download': '2011-02-15', 'release_date_stream': '2011-02-15', 'release_date_purchase': '2011-02-15', 'hires': False, 'hires_streamable': False}, 'work': None, 'composer': {'name': 'Taylor Swift', 'id': 70899}, 'isrc': 'USCJY1103825', 'title': 'Today Was A Fairytale', 'version': None, 'duration': 241, 'parental_warning': False, 'track_number': 1, 'maximum_channel_count': 2, 'id': 53637300, 'media_number': 1, 'maximum_sampling_rate': 44.1, 'release_date_original': None, 'release_date_download': None, 'release_date_stream': None, 'release_date_purchase': None, 'purchasable': True, 'streamable': False, 'previewable': True, 'sampleable': True, 'downloadable': True, 'displayable': True, 'purchasable_at': 1683702000, 'streamable_at': 1683529200, 'hires': False, 'hires_streamable': False, 'position': 14, 'created_at': 1669008016, 'playlist_track_id': 2038671408}, {'maximum_bit_depth': 16, 'copyright': '℗ 2010 Big Machine Records, LLC', 'performers': 'Tommy Sims, Bass Guitar, AssociatedPerformer - Tim Lauer, Piano, Hammond B3, AssociatedPerformer - Nathan Chapman, Producer, Banjo, Acoustic Guitar, Bass Guitar, Electric Guitar, Mandolin, Organ, Piano, Synthesizer, Digital Piano, AssociatedPerformer - Bryan Sutton, Acoustic Guitar, AssociatedPerformer - Shannon Forrest, Drums, AssociatedPerformer - Eric Darken, Percussion, AssociatedPerformer - Rob Hajacos, Fiddle, AssociatedPerformer - John Gardner, Drums, AssociatedPerformer - Nick Buda, Drums, AssociatedPerformer - Al Wilson, Percussion, AssociatedPerformer - Taylor Swift, Producer, Acoustic Guitar, Vocals, Vocalist, MainArtist, AssociatedPerformer, ComposerLyricist - Smith Curry, Steel Guitar, AssociatedPerformer - Tim Marks, Bass Guitar, AssociatedPerformer - Grant Mickelson, Electric Guitar, AssociatedPerformer - Paul Sidoti, Electric Guitar, AssociatedPerformer - Mike Meadows, Electric Guitar, AssociatedPerformer - Amos Heller, Bass Guitar, AssociatedPerformer', 'audio_info': {'replaygain_track_peak': 0.950104, 'replaygain_track_gain': -11.43}, 'performer': {'name': 'Taylor Swift', 'id': 70899}, 'album': {'image': {'small': 'https://static.qobuz.com/images/covers/mc/df/qsgwxoyd8dfmc_230.jpg', 'thumbnail': 'https://static.qobuz.com/images/covers/mc/df/qsgwxoyd8dfmc_50.jpg', 'large': 'https://static.qobuz.com/images/covers/mc/df/qsgwxoyd8dfmc_600.jpg'}, 'maximum_bit_depth': 16, 'media_count': 1, 'artist': {'image': None, 'name': 'Taylor Swift', 'id': 70899, 'albums_count': 952, 'slug': 'taylor-swift', 'picture': None}, 'upc': '0843930004010', 'released_at': 1287957600, 'label': {'name': 'Big Machine Records, LLC', 'id': 17893, 'albums_count': 985, 'supplier_id': 1, 'slug': 'big-machine-records-llc'}, 'title': 'Speak Now', 'qobuz_id': 54330493, 'version': None, 'duration': 4013, 'parental_warning': False, 'tracks_count': 14, 'popularity': 0, 'genre': {'path': [4], 'color': '#0070ef', 'name': 'Country', 'id': 4, 'slug': 'country'}, 'maximum_channel_count': 2, 'id': 'qsgwxoyd8dfmc', 'maximum_sampling_rate': 44.1, 'previewable': True, 'sampleable': True, 'displayable': True, 'streamable': False, 'streamable_at': 1683529200, 'downloadable': False, 'purchasable_at': None, 'purchasable': False, 'release_date_original': '2010-10-25', 'release_date_download': '2010-10-25', 'release_date_stream': '2010-10-25', 'release_date_purchase': '2010-10-25', 'hires': False, 'hires_streamable': False}, 'work': None, 'composer': {'name': 'Taylor Swift', 'id': 70899}, 'isrc': 'USCJY1003645', 'title': 'Mine', 'version': None, 'duration': 230, 'parental_warning': False, 'track_number': 1, 'maximum_channel_count': 2, 'id': 54330494, 'media_number': 1, 'maximum_sampling_rate': 44.1, 'release_date_original': None, 'release_date_download': None, 'release_date_stream': None, 'release_date_purchase': None, 'purchasable': True, 'streamable': False, 'previewable': True, 'sampleable': True, 'downloadable': True, 'displayable': True, 'purchasable_at': 1683702000, 'streamable_at': 1683529200, 'hires': False, 'hires_streamable': False, 'position': 15, 'created_at': 1669042602, 'playlist_track_id': 2042158649}, {'maximum_bit_depth': 24, 'copyright': '℗ 2021 Taylor Swift', 'performers': 'Liz Rose, ComposerLyricist - Max Bernstein, Steel Guitar, AssociatedPerformer - David Payne, Recording Engineer, StudioPersonnel - John Hanes, Engineer, StudioPersonnel - Serban Ghenea, Mixer, StudioPersonnel - Lowell Reynolds, Additional Engineer, Asst. Recording Engineer, StudioPersonnel - Jonathan Yudkin, Fiddle, AssociatedPerformer - Dan Burns, Drum Programming, AssociatedPerformer - Caitlin Evanson, Background Vocalist, AssociatedPerformer - Taylor Swift, Producer, Vocals, MainArtist, AssociatedPerformer, ComposerLyricist - Matt Billingslea, Drums, Drum Programming, AssociatedPerformer - Christopher Rowe, Producer, Vocal Engineer, StudioPersonnel - Randy Merrill, Mastering Engineer, StudioPersonnel - Paul Sidoti, Electric Guitar, AssociatedPerformer - Mike Meadows, Banjo, Acoustic Guitar, Mandolin, AssociatedPerformer - Amos Heller, Bass, AssociatedPerformer - Derek Garten, Additional Engineer, StudioPersonnel', 'audio_info': {'replaygain_track_peak': 1, 'replaygain_track_gain': -9.82}, 'performer': {'name': 'Taylor Swift', 'id': 70899}, 'album': {'image': {'small': 'https://static.qobuz.com/images/covers/ic/0c/r8361te6k0cic_230.jpg', 'thumbnail': 'https://static.qobuz.com/images/covers/ic/0c/r8361te6k0cic_50.jpg', 'large': 'https://static.qobuz.com/images/covers/ic/0c/r8361te6k0cic_600.jpg'}, 'maximum_bit_depth': 24, 'media_count': 1, 'artist': {'image': None, 'name': 'Taylor Swift', 'id': 70899, 'albums_count': 1084, 'slug': 'taylor-swift', 'picture': None}, 'upc': '0602435838908', 'released_at': 1617919200, 'label': {'name': 'Taylor Swift', 'id': 313742, 'albums_count': 222, 'supplier_id': 1, 'slug': 'taylor-swift'}, 'title': \"Fearless (Taylor's Version)\", 'qobuz_id': 119360712, 'version': None, 'duration': 6380, 'parental_warning': False, 'tracks_count': 26, 'popularity': 0, 'genre': {'path': [4], 'color': '#0070ef', 'name': 'Country', 'id': 4, 'slug': 'country'}, 'maximum_channel_count': 2, 'id': 'r8361te6k0cic', 'maximum_sampling_rate': 96, 'previewable': True, 'sampleable': True, 'displayable': True, 'streamable': False, 'streamable_at': 1695106800, 'downloadable': False, 'purchasable_at': None, 'purchasable': False, 'release_date_original': '2021-04-09', 'release_date_download': '2021-04-09', 'release_date_stream': '2021-04-09', 'release_date_purchase': '2021-04-09', 'hires': True, 'hires_streamable': False}, 'work': None, 'composer': {'name': 'Taylor Swift', 'id': 70899}, 'isrc': 'USUG12100622', 'title': 'You Belong With Me (Taylor’s Version)', 'version': None, 'duration': 231, 'parental_warning': False, 'track_number': 6, 'maximum_channel_count': 2, 'id': 119360718, 'media_number': 1, 'maximum_sampling_rate': 96, 'release_date_original': None, 'release_date_download': None, 'release_date_stream': None, 'release_date_purchase': None, 'purchasable': True, 'streamable': False, 'previewable': True, 'sampleable': True, 'downloadable': True, 'displayable': True, 'purchasable_at': 1695106800, 'streamable_at': 1695106800, 'hires': True, 'hires_streamable': False, 'position': 16, 'created_at': 1669042022, 'playlist_track_id': 2042099794}, {'maximum_bit_depth': 24, 'copyright': '℗ 2020 Taylor Swift', 'performers': 'Greg Calbi, Mastering Engineer, StudioPersonnel - Steve Fallone, Mastering Engineer, StudioPersonnel - Logan Coale, Upright Bass, AssociatedPerformer - Taylor Swift, Producer, MainArtist, ComposerLyricist - Aaron Dessner, Producer, Acoustic Guitar, Piano, Recording Engineer, Synth Bass, Synthesizer, AssociatedPerformer, StudioPersonnel - Jonathan Low, Mixer, Recording Engineer, Vocal Engineer, StudioPersonnel - William Bowery, ComposerLyricist', 'audio_info': {'replaygain_track_peak': 0.962341, 'replaygain_track_gain': -8.34}, 'performer': {'name': 'Taylor Swift', 'id': 70899}, 'album': {'image': {'small': 'https://static.qobuz.com/images/covers/nb/j4/bbqhrrpxdj4nb_230.jpg', 'thumbnail': 'https://static.qobuz.com/images/covers/nb/j4/bbqhrrpxdj4nb_50.jpg', 'large': 'https://static.qobuz.com/images/covers/nb/j4/bbqhrrpxdj4nb_600.jpg'}, 'maximum_bit_depth': 24, 'media_count': 1, 'artist': {'image': None, 'name': 'Taylor Swift', 'id': 70899, 'albums_count': 1004, 'slug': 'taylor-swift', 'picture': None}, 'upc': '0602435648545', 'released_at': 1607641200, 'label': {'name': 'Taylor Swift', 'id': 313742, 'albums_count': 222, 'supplier_id': 1, 'slug': 'taylor-swift'}, 'title': 'evermore (Explicit)', 'qobuz_id': 108768133, 'version': None, 'duration': 3638, 'parental_warning': True, 'tracks_count': 15, 'popularity': 0, 'genre': {'path': [112, 119, 113], 'color': '#0070ef', 'name': 'Alternative & Indie', 'id': 113, 'slug': 'alternatif-et-inde'}, 'maximum_channel_count': 2, 'id': 'bbqhrrpxdj4nb', 'maximum_sampling_rate': 88.2, 'previewable': True, 'sampleable': True, 'displayable': True, 'streamable': False, 'streamable_at': 1688886000, 'downloadable': False, 'purchasable_at': None, 'purchasable': False, 'release_date_original': '2020-12-11', 'release_date_download': '2020-12-11', 'release_date_stream': '2020-12-11', 'release_date_purchase': '2020-12-11', 'hires': True, 'hires_streamable': False}, 'work': None, 'composer': {'name': 'Taylor Swift', 'id': 70899}, 'isrc': 'USUG12004700', 'title': 'champagne problems', 'version': None, 'duration': 244, 'parental_warning': True, 'track_number': 2, 'maximum_channel_count': 2, 'id': 108768135, 'media_number': 1, 'maximum_sampling_rate': 88.2, 'release_date_original': None, 'release_date_download': None, 'release_date_stream': None, 'release_date_purchase': None, 'purchasable': True, 'streamable': False, 'previewable': True, 'sampleable': True, 'downloadable': True, 'displayable': True, 'purchasable_at': 1688886000, 'streamable_at': 1688886000, 'hires': True, 'hires_streamable': False, 'position': 17, 'created_at': 1669008016, 'playlist_track_id': 2038671411}, {'maximum_bit_depth': 24, 'copyright': '℗ 2020 Taylor Swift', 'performers': 'John Hanes, Mix Engineer, StudioPersonnel - Serban Ghenea, Mixer, StudioPersonnel - Taylor Swift, Producer, MainArtist, ComposerLyricist - Laura Sisk, Recording Engineer, StudioPersonnel - John Rooney, Asst. Recording Engineer, StudioPersonnel - Jon Sher, Asst. Recording Engineer, StudioPersonnel - Jack Antonoff, Producer, Electric Guitar, Keyboards, Percussion, Piano, Recording Engineer, Bass, Programming, Background Vocalist, AssociatedPerformer, StudioPersonnel - Randy Merrill, Mastering Engineer, StudioPersonnel - Evan Smith, Keyboards, Saxophone, Programming, AssociatedPerformer - Lorenzo Wolff, Recording Engineer, StudioPersonnel - Bobby Hawk, Strings, AssociatedPerformer - Joe Alwyn, Producer', 'audio_info': {'replaygain_track_peak': 0.95462, 'replaygain_track_gain': -6.35}, 'performer': {'name': 'Taylor Swift', 'id': 70899}, 'album': {'image': {'small': 'https://static.qobuz.com/images/covers/mb/bc/gpfwxb50vbcmb_230.jpg', 'thumbnail': 'https://static.qobuz.com/images/covers/mb/bc/gpfwxb50vbcmb_50.jpg', 'large': 'https://static.qobuz.com/images/covers/mb/bc/gpfwxb50vbcmb_600.jpg'}, 'maximum_bit_depth': 24, 'media_count': 1, 'artist': {'image': None, 'name': 'Taylor Swift', 'id': 70899, 'albums_count': 1004, 'slug': 'taylor-swift', 'picture': None}, 'upc': '0602435037967', 'released_at': 1595541600, 'label': {'name': 'Taylor Swift', 'id': 313742, 'albums_count': 222, 'supplier_id': 1, 'slug': 'taylor-swift'}, 'title': 'Folklore (Explicit)', 'qobuz_id': 98522697, 'version': None, 'duration': 3807, 'parental_warning': True, 'tracks_count': 16, 'popularity': 0, 'genre': {'path': [112, 119, 113], 'color': '#0070ef', 'name': 'Alternative & Indie', 'id': 113, 'slug': 'alternatif-et-inde'}, 'maximum_channel_count': 2, 'id': 'gpfwxb50vbcmb', 'maximum_sampling_rate': 44.1, 'previewable': True, 'sampleable': True, 'displayable': True, 'streamable': False, 'streamable_at': 1688886000, 'downloadable': False, 'purchasable_at': None, 'purchasable': False, 'release_date_original': '2020-07-24', 'release_date_download': '2020-07-24', 'release_date_stream': '2020-07-24', 'release_date_purchase': '2020-07-24', 'hires': True, 'hires_streamable': False}, 'work': None, 'composer': {'name': 'Taylor Swift', 'id': 70899}, 'isrc': 'USUG12002839', 'title': 'my tears ricochet', 'version': None, 'duration': 255, 'parental_warning': False, 'track_number': 5, 'maximum_channel_count': 2, 'id': 98522702, 'media_number': 1, 'maximum_sampling_rate': 44.1, 'release_date_original': None, 'release_date_download': None, 'release_date_stream': None, 'release_date_purchase': None, 'purchasable': True, 'streamable': False, 'previewable': True, 'sampleable': True, 'downloadable': True, 'displayable': True, 'purchasable_at': 1688886000, 'streamable_at': 1688886000, 'hires': True, 'hires_streamable': False, 'position': 18, 'created_at': 1669008016, 'playlist_track_id': 2038671412}, {'maximum_bit_depth': 16, 'copyright': '℗ 2014 Big Machine Records, LLC', 'performers': 'Max Martin, Producer, ComposerLyricist - Shellback, Producer, ComposerLyricist - Taylor Swift, MainArtist, ComposerLyricist', 'audio_info': {'replaygain_track_peak': 0.99884, 'replaygain_track_gain': -9.26}, 'performer': {'name': 'Taylor Swift', 'id': 70899}, 'album': {'image': {'small': 'https://static.qobuz.com/images/covers/ta/ym/id29re6slymta_230.jpg', 'thumbnail': 'https://static.qobuz.com/images/covers/ta/ym/id29re6slymta_50.jpg', 'large': 'https://static.qobuz.com/images/covers/ta/ym/id29re6slymta_600.jpg'}, 'maximum_bit_depth': 16, 'media_count': 1, 'artist': {'image': None, 'name': 'Taylor Swift', 'id': 70899, 'albums_count': 952, 'slug': 'taylor-swift', 'picture': None}, 'upc': '0843930013609', 'released_at': 1414364400, 'label': {'name': 'Big Machine Records, LLC', 'id': 17893, 'albums_count': 985, 'supplier_id': 1, 'slug': 'big-machine-records-llc'}, 'title': '1989', 'qobuz_id': 53965341, 'version': 'Deluxe Edition', 'duration': 4101, 'parental_warning': False, 'tracks_count': 19, 'popularity': 0, 'genre': {'path': [112, 117], 'color': '#0070ef', 'name': 'Pop', 'id': 117, 'slug': 'pop'}, 'maximum_channel_count': 2, 'id': 'id29re6slymta', 'maximum_sampling_rate': 44.1, 'previewable': True, 'sampleable': True, 'displayable': True, 'streamable': False, 'streamable_at': 1683529200, 'downloadable': False, 'purchasable_at': None, 'purchasable': False, 'release_date_original': '2014-10-27', 'release_date_download': '2014-10-27', 'release_date_stream': '2014-10-27', 'release_date_purchase': '2014-10-27', 'hires': False, 'hires_streamable': False}, 'work': None, 'composer': {'name': 'Shellback', 'id': 153029}, 'isrc': 'USCJY1431369', 'title': 'Bad Blood', 'version': None, 'duration': 211, 'parental_warning': False, 'track_number': 8, 'maximum_channel_count': 2, 'id': 53965349, 'media_number': 1, 'maximum_sampling_rate': 44.1, 'release_date_original': None, 'release_date_download': None, 'release_date_stream': None, 'release_date_purchase': None, 'purchasable': True, 'streamable': False, 'previewable': True, 'sampleable': True, 'downloadable': True, 'displayable': True, 'purchasable_at': 1683702000, 'streamable_at': 1683529200, 'hires': False, 'hires_streamable': False, 'position': 19, 'created_at': 1669008143, 'playlist_track_id': 2038682011}, {'maximum_bit_depth': 24, 'copyright': '℗ 2021 Taylor Swift', 'performers': 'Max Bernstein, Electric Guitar, AssociatedPerformer - David Payne, Recording Engineer, StudioPersonnel - Serban Ghenea, Mixer, StudioPersonnel - Jonathan Yudkin, Strings, AssociatedPerformer - Dan Burns, Additional Engineer, StudioPersonnel - Taylor Swift, Producer, Vocals, Background Vocalist, MainArtist, AssociatedPerformer, ComposerLyricist - Matt Billingslea, Drums, Percussion, Vibraphone, AssociatedPerformer - Christopher Rowe, Producer, Vocal Engineer, StudioPersonnel - Austin Brown, Editor, Asst. Recording Engineer, StudioPersonnel - Randy Merrill, Mastering Engineer, StudioPersonnel - Paul Sidoti, Electric Guitar, AssociatedPerformer - Mike Meadows, Electric Guitar, Synthesizer, AssociatedPerformer - Amos Heller, Bass Guitar, AssociatedPerformer - Derek Garten, Editor, Engineer, StudioPersonnel - Bryce Bordone, Mix Engineer, StudioPersonnel', 'audio_info': {'replaygain_track_peak': 1, 'replaygain_track_gain': -9.89}, 'performer': {'name': 'Taylor Swift', 'id': 70899}, 'album': {'image': {'small': 'https://static.qobuz.com/images/covers/6a/n5/oulc1w5vun56a_230.jpg', 'thumbnail': 'https://static.qobuz.com/images/covers/6a/n5/oulc1w5vun56a_50.jpg', 'large': 'https://static.qobuz.com/images/covers/6a/n5/oulc1w5vun56a_600.jpg'}, 'maximum_bit_depth': 24, 'media_count': 1, 'artist': {'image': None, 'name': 'Taylor Swift', 'id': 70899, 'albums_count': 1004, 'slug': 'taylor-swift', 'picture': None}, 'upc': '0602438993857', 'released_at': 1636671600, 'label': {'name': 'Taylor Swift', 'id': 313742, 'albums_count': 222, 'supplier_id': 1, 'slug': 'taylor-swift'}, 'title': \"Red (Taylor's Version)\", 'qobuz_id': 138305275, 'version': None, 'duration': 7826, 'parental_warning': True, 'tracks_count': 30, 'popularity': 0, 'genre': {'path': [112, 117], 'color': '#0070ef', 'name': 'Pop', 'id': 117, 'slug': 'pop'}, 'maximum_channel_count': 2, 'id': 'oulc1w5vun56a', 'maximum_sampling_rate': 96, 'previewable': True, 'sampleable': True, 'displayable': True, 'streamable': False, 'streamable_at': 1688886000, 'downloadable': False, 'purchasable_at': None, 'purchasable': False, 'release_date_original': '2021-11-12', 'release_date_download': '2021-11-12', 'release_date_stream': '2021-11-12', 'release_date_purchase': '2021-11-12', 'hires': True, 'hires_streamable': False}, 'work': None, 'composer': {'name': 'Taylor Swift', 'id': 70899}, 'isrc': 'USUG12103661', 'title': \"State Of Grace (Taylor's Version)\", 'version': None, 'duration': 295, 'parental_warning': False, 'track_number': 1, 'maximum_channel_count': 2, 'id': 138305276, 'media_number': 1, 'maximum_sampling_rate': 96, 'release_date_original': None, 'release_date_download': None, 'release_date_stream': None, 'release_date_purchase': None, 'purchasable': True, 'streamable': False, 'previewable': True, 'sampleable': True, 'downloadable': True, 'displayable': True, 'purchasable_at': 1688886000, 'streamable_at': 1688886000, 'hires': True, 'hires_streamable': False, 'position': 20, 'created_at': 1669008016, 'playlist_track_id': 2038671414}, {'maximum_bit_depth': 24, 'copyright': '℗ 2022 Taylor Swift', 'performers': 'Serban Ghenea, Mixer, StudioPersonnel - Taylor Swift, Producer, Vocals, MainArtist, AssociatedPerformer, ComposerLyricist - Laura Sisk, Recording Engineer, StudioPersonnel - John Rooney, Asst. Recording Engineer, StudioPersonnel - Lana Del Rey, Vocals, FeaturedArtist, AssociatedPerformer, ComposerLyricist - Jon Sher, Asst. Recording Engineer, StudioPersonnel - Jack Antonoff, Producer, Drums, Acoustic Guitar, Electric Guitar, Percussion, Recording Engineer, Bass, Synthesizer, Mellotron, Programming, Background Vocalist, AssociatedPerformer, StudioPersonnel, ComposerLyricist - Randy Merrill, Mastering Engineer, StudioPersonnel - Evan Smith, Recording Engineer, Synthesizer, AssociatedPerformer, StudioPersonnel - Dave Gross, Recording Engineer, StudioPersonnel - Bryce Bordone, Assistant Mixer, StudioPersonnel - Jacob Spitzer, Asst. Recording Engineer, StudioPersonnel - Bobby Hawk, Violin, AssociatedPerformer - Megan Searl, Asst. Recording Engineer, StudioPersonnel - Dylan O’Brien, Drums, AssociatedPerformer', 'audio_info': {'replaygain_track_peak': 0.983673, 'replaygain_track_gain': -7.74}, 'performer': {'name': 'Taylor Swift', 'id': 70899}, 'album': {'image': {'small': 'https://static.qobuz.com/images/covers/mc/ry/owy5tuxf7rymc_230.jpg', 'thumbnail': 'https://static.qobuz.com/images/covers/mc/ry/owy5tuxf7rymc_50.jpg', 'large': 'https://static.qobuz.com/images/covers/mc/ry/owy5tuxf7rymc_600.jpg'}, 'maximum_bit_depth': 24, 'media_count': 1, 'artist': {'image': None, 'name': 'Taylor Swift', 'id': 70899, 'albums_count': 1091, 'slug': 'taylor-swift', 'picture': None}, 'upc': '0602448638786', 'released_at': 1666303200, 'label': {'name': 'Taylor Swift', 'id': 313742, 'albums_count': 222, 'supplier_id': 1, 'slug': 'taylor-swift'}, 'title': 'Midnights', 'qobuz_id': 181280575, 'version': None, 'duration': 2642, 'parental_warning': True, 'tracks_count': 13, 'popularity': 0, 'genre': {'path': [112, 117], 'color': '#0070ef', 'name': 'Pop', 'id': 117, 'slug': 'pop'}, 'maximum_channel_count': 2, 'id': 'owy5tuxf7rymc', 'maximum_sampling_rate': 48, 'previewable': True, 'sampleable': True, 'displayable': True, 'streamable': False, 'streamable_at': 1695884400, 'downloadable': False, 'purchasable_at': None, 'purchasable': False, 'release_date_original': '2022-10-21', 'release_date_download': '2022-10-21', 'release_date_stream': '2022-10-21', 'release_date_purchase': '2022-10-21', 'hires': True, 'hires_streamable': False}, 'work': None, 'composer': {'name': 'Jack Antonoff', 'id': 778282}, 'isrc': 'USUG12205737', 'title': 'Snow On The Beach', 'version': None, 'duration': 256, 'parental_warning': True, 'track_number': 4, 'maximum_channel_count': 2, 'id': 181280579, 'media_number': 1, 'maximum_sampling_rate': 48, 'release_date_original': None, 'release_date_download': None, 'release_date_stream': None, 'release_date_purchase': None, 'purchasable': True, 'streamable': False, 'previewable': True, 'sampleable': True, 'downloadable': True, 'displayable': True, 'purchasable_at': 1695884400, 'streamable_at': 1695884400, 'hires': True, 'hires_streamable': False, 'position': 21, 'created_at': 1669008016, 'playlist_track_id': 2038671415}, {'maximum_bit_depth': 16, 'copyright': '℗ 2008 Big Machine Records, LLC All Rights Reserved', 'performers': 'Liz Rose, ComposerLyricist - Taylor Swift, MainArtist, ComposerLyricist', 'audio_info': {'replaygain_track_peak': 0.98587, 'replaygain_track_gain': -11.36}, 'performer': {'name': 'Taylor Swift', 'id': 70899}, 'album': {'image': {'small': 'https://static.qobuz.com/images/covers/oa/9h/qwrzlxac89hoa_230.jpg', 'thumbnail': 'https://static.qobuz.com/images/covers/oa/9h/qwrzlxac89hoa_50.jpg', 'large': 'https://static.qobuz.com/images/covers/oa/9h/qwrzlxac89hoa_600.jpg'}, 'maximum_bit_depth': 16, 'media_count': 1, 'artist': {'image': None, 'name': 'Taylor Swift', 'id': 70899, 'albums_count': 952, 'slug': 'taylor-swift', 'picture': None}, 'upc': '0843930000821', 'released_at': 1161640800, 'label': {'name': 'Big Machine Records, LLC', 'id': 17893, 'albums_count': 985, 'supplier_id': 1, 'slug': 'big-machine-records-llc'}, 'title': 'Taylor Swift', 'qobuz_id': 54302100, 'version': None, 'duration': 3196, 'parental_warning': False, 'tracks_count': 15, 'popularity': 0, 'genre': {'path': [4], 'color': '#0070ef', 'name': 'Country', 'id': 4, 'slug': 'country'}, 'maximum_channel_count': 2, 'id': 'qwrzlxac89hoa', 'maximum_sampling_rate': 44.1, 'previewable': True, 'sampleable': True, 'displayable': True, 'streamable': False, 'streamable_at': 1683529200, 'downloadable': False, 'purchasable_at': None, 'purchasable': False, 'release_date_original': '2006-10-24', 'release_date_download': '2006-10-24', 'release_date_stream': '2006-10-24', 'release_date_purchase': '2006-10-24', 'hires': False, 'hires_streamable': False}, 'work': None, 'composer': {'name': 'Taylor Swift', 'id': 70899}, 'isrc': 'USCJY0603250', 'title': 'Picture To Burn', 'version': None, 'duration': 172, 'parental_warning': False, 'track_number': 2, 'maximum_channel_count': 2, 'id': 54302102, 'media_number': 1, 'maximum_sampling_rate': 44.1, 'release_date_original': None, 'release_date_download': None, 'release_date_stream': None, 'release_date_purchase': None, 'purchasable': True, 'streamable': False, 'previewable': True, 'sampleable': True, 'downloadable': True, 'displayable': True, 'purchasable_at': 1683702000, 'streamable_at': 1683529200, 'hires': False, 'hires_streamable': False, 'position': 22, 'created_at': 1669042727, 'playlist_track_id': 2042172847}, {'maximum_bit_depth': 24, 'copyright': '℗ 2021 Taylor Swift', 'performers': 'Liz Rose, ComposerLyricist - Hillary Lindsey, ComposerLyricist - Max Bernstein, Electric Guitar, AssociatedPerformer - David Payne, Recording Engineer, StudioPersonnel - John Hanes, Engineer, StudioPersonnel - Serban Ghenea, Mixer, StudioPersonnel - Lowell Reynolds, Additional Engineer, Asst. Recording Engineer, StudioPersonnel - Jonathan Yudkin, Fiddle, AssociatedPerformer - Caitlin Evanson, Background Vocalist, AssociatedPerformer - Taylor Swift, Producer, Vocals, MainArtist, AssociatedPerformer, ComposerLyricist - Matt Billingslea, Drums, AssociatedPerformer - Christopher Rowe, Producer, Vocal Engineer, StudioPersonnel - Randy Merrill, Mastering Engineer, StudioPersonnel - Paul Sidoti, Electric Guitar, Background Vocalist, AssociatedPerformer - Mike Meadows, Acoustic Guitar, Mandolin, Hammond B3, Background Vocalist, AssociatedPerformer, 12-String Acoustic Guitar - Amos Heller, Bass, AssociatedPerformer - Derek Garten, Additional Engineer, StudioPersonnel', 'audio_info': {'replaygain_track_peak': 1, 'replaygain_track_gain': -9.98}, 'performer': {'name': 'Taylor Swift', 'id': 70899}, 'album': {'image': {'small': 'https://static.qobuz.com/images/covers/ic/0c/r8361te6k0cic_230.jpg', 'thumbnail': 'https://static.qobuz.com/images/covers/ic/0c/r8361te6k0cic_50.jpg', 'large': 'https://static.qobuz.com/images/covers/ic/0c/r8361te6k0cic_600.jpg'}, 'maximum_bit_depth': 24, 'media_count': 1, 'artist': {'image': None, 'name': 'Taylor Swift', 'id': 70899, 'albums_count': 1084, 'slug': 'taylor-swift', 'picture': None}, 'upc': '0602435838908', 'released_at': 1617919200, 'label': {'name': 'Taylor Swift', 'id': 313742, 'albums_count': 222, 'supplier_id': 1, 'slug': 'taylor-swift'}, 'title': \"Fearless (Taylor's Version)\", 'qobuz_id': 119360712, 'version': None, 'duration': 6380, 'parental_warning': False, 'tracks_count': 26, 'popularity': 0, 'genre': {'path': [4], 'color': '#0070ef', 'name': 'Country', 'id': 4, 'slug': 'country'}, 'maximum_channel_count': 2, 'id': 'r8361te6k0cic', 'maximum_sampling_rate': 96, 'previewable': True, 'sampleable': True, 'displayable': True, 'streamable': False, 'streamable_at': 1695106800, 'downloadable': False, 'purchasable_at': None, 'purchasable': False, 'release_date_original': '2021-04-09', 'release_date_download': '2021-04-09', 'release_date_stream': '2021-04-09', 'release_date_purchase': '2021-04-09', 'hires': True, 'hires_streamable': False}, 'work': None, 'composer': {'name': 'Taylor Swift', 'id': 70899}, 'isrc': 'USUG12100618', 'title': 'Fearless (Taylor’s Version)', 'version': None, 'duration': 241, 'parental_warning': False, 'track_number': 1, 'maximum_channel_count': 2, 'id': 119360713, 'media_number': 1, 'maximum_sampling_rate': 96, 'release_date_original': None, 'release_date_download': None, 'release_date_stream': None, 'release_date_purchase': None, 'purchasable': True, 'streamable': False, 'previewable': True, 'sampleable': True, 'downloadable': True, 'displayable': True, 'purchasable_at': 1695106800, 'streamable_at': 1695106800, 'hires': True, 'hires_streamable': False, 'position': 23, 'created_at': 1669042034, 'playlist_track_id': 2042102815}, {'maximum_bit_depth': 24, 'copyright': '℗ 2021 Taylor Swift', 'performers': 'Max Bernstein, Synthesizer, Steel Guitar, AssociatedPerformer - David Payne, Recording Engineer, StudioPersonnel - David Cook, Piano, AssociatedPerformer - Serban Ghenea, Mixer, StudioPersonnel - Jonathan Yudkin, Violin, AssociatedPerformer - Dan Burns, Additional Engineer, StudioPersonnel - Charlie Judge, Accordion, AssociatedPerformer - Caitlin Evanson, Background Vocalist, AssociatedPerformer - Taylor Swift, Producer, Vocals, MainArtist, AssociatedPerformer, ComposerLyricist - Matt Billingslea, Drums, Percussion, AssociatedPerformer - Christopher Rowe, Producer, Vocal Engineer, StudioPersonnel - Austin Brown, Editor, Asst. Recording Engineer, StudioPersonnel - Randy Merrill, Mastering Engineer, StudioPersonnel - Paul Sidoti, Electric Guitar, AssociatedPerformer - Mike Meadows, Acoustic Guitar, Mandolin, Hammond B3, AssociatedPerformer - Amos Heller, Bass Guitar, AssociatedPerformer - Derek Garten, Editor, Engineer, StudioPersonnel - Bryce Bordone, Mix Engineer, StudioPersonnel', 'audio_info': {'replaygain_track_peak': 1, 'replaygain_track_gain': -8.55}, 'performer': {'name': 'Taylor Swift', 'id': 70899}, 'album': {'image': {'small': 'https://static.qobuz.com/images/covers/6a/n5/oulc1w5vun56a_230.jpg', 'thumbnail': 'https://static.qobuz.com/images/covers/6a/n5/oulc1w5vun56a_50.jpg', 'large': 'https://static.qobuz.com/images/covers/6a/n5/oulc1w5vun56a_600.jpg'}, 'maximum_bit_depth': 24, 'media_count': 1, 'artist': {'image': None, 'name': 'Taylor Swift', 'id': 70899, 'albums_count': 1004, 'slug': 'taylor-swift', 'picture': None}, 'upc': '0602438993857', 'released_at': 1636671600, 'label': {'name': 'Taylor Swift', 'id': 313742, 'albums_count': 222, 'supplier_id': 1, 'slug': 'taylor-swift'}, 'title': \"Red (Taylor's Version)\", 'qobuz_id': 138305275, 'version': None, 'duration': 7826, 'parental_warning': True, 'tracks_count': 30, 'popularity': 0, 'genre': {'path': [112, 117], 'color': '#0070ef', 'name': 'Pop', 'id': 117, 'slug': 'pop'}, 'maximum_channel_count': 2, 'id': 'oulc1w5vun56a', 'maximum_sampling_rate': 96, 'previewable': True, 'sampleable': True, 'displayable': True, 'streamable': False, 'streamable_at': 1688886000, 'downloadable': False, 'purchasable_at': None, 'purchasable': False, 'release_date_original': '2021-11-12', 'release_date_download': '2021-11-12', 'release_date_stream': '2021-11-12', 'release_date_purchase': '2021-11-12', 'hires': True, 'hires_streamable': False}, 'work': None, 'composer': {'name': 'Taylor Swift', 'id': 70899}, 'isrc': 'USUG12103676', 'title': \"Begin Again (Taylor's Version)\", 'version': None, 'duration': 238, 'parental_warning': False, 'track_number': 16, 'maximum_channel_count': 2, 'id': 138305291, 'media_number': 1, 'maximum_sampling_rate': 96, 'release_date_original': None, 'release_date_download': None, 'release_date_stream': None, 'release_date_purchase': None, 'purchasable': True, 'streamable': False, 'previewable': True, 'sampleable': True, 'downloadable': True, 'displayable': True, 'purchasable_at': 1688886000, 'streamable_at': 1688886000, 'hires': True, 'hires_streamable': False, 'position': 24, 'created_at': 1669042301, 'playlist_track_id': 2042127752}, {'maximum_bit_depth': 24, 'copyright': '℗ 2020 Taylor Swift', 'performers': 'Greg Calbi, Mastering Engineer, StudioPersonnel - Steve Fallone, Mastering Engineer, StudioPersonnel - Ariel Rechtshaid, Vocal Engineer, StudioPersonnel - Haim, FeaturedArtist - Taylor Swift, Producer, MainArtist, ComposerLyricist - Aaron Dessner, Producer, Acoustic Guitar, Electric Guitar, Mandolin, Piano, Recording Engineer, Bass, Synthesizer, AssociatedPerformer, StudioPersonnel - JT Bates, Drums, AssociatedPerformer - Josh Kaufman, Electric Guitar, Organ, Harmonica, Lap Steel Guitar, AssociatedPerformer - Jonathan Low, Mixer, Recording Engineer, Vocal Engineer, StudioPersonnel - Matt DiMona, Vocal Engineer, StudioPersonnel', 'audio_info': {'replaygain_track_peak': 0.965424, 'replaygain_track_gain': -9.79}, 'performer': {'name': 'Taylor Swift', 'id': 70899}, 'album': {'image': {'small': 'https://static.qobuz.com/images/covers/nb/j4/bbqhrrpxdj4nb_230.jpg', 'thumbnail': 'https://static.qobuz.com/images/covers/nb/j4/bbqhrrpxdj4nb_50.jpg', 'large': 'https://static.qobuz.com/images/covers/nb/j4/bbqhrrpxdj4nb_600.jpg'}, 'maximum_bit_depth': 24, 'media_count': 1, 'artist': {'image': None, 'name': 'Taylor Swift', 'id': 70899, 'albums_count': 1004, 'slug': 'taylor-swift', 'picture': None}, 'upc': '0602435648545', 'released_at': 1607641200, 'label': {'name': 'Taylor Swift', 'id': 313742, 'albums_count': 222, 'supplier_id': 1, 'slug': 'taylor-swift'}, 'title': 'evermore (Explicit)', 'qobuz_id': 108768133, 'version': None, 'duration': 3638, 'parental_warning': True, 'tracks_count': 15, 'popularity': 0, 'genre': {'path': [112, 119, 113], 'color': '#0070ef', 'name': 'Alternative & Indie', 'id': 113, 'slug': 'alternatif-et-inde'}, 'maximum_channel_count': 2, 'id': 'bbqhrrpxdj4nb', 'maximum_sampling_rate': 88.2, 'previewable': True, 'sampleable': True, 'displayable': True, 'streamable': False, 'streamable_at': 1688886000, 'downloadable': False, 'purchasable_at': None, 'purchasable': False, 'release_date_original': '2020-12-11', 'release_date_download': '2020-12-11', 'release_date_stream': '2020-12-11', 'release_date_purchase': '2020-12-11', 'hires': True, 'hires_streamable': False}, 'work': None, 'composer': {'name': 'Taylor Swift', 'id': 70899}, 'isrc': 'USUG12004707', 'title': 'no body, no crime', 'version': 'feat. HAIM', 'duration': 215, 'parental_warning': False, 'track_number': 6, 'maximum_channel_count': 2, 'id': 108768139, 'media_number': 1, 'maximum_sampling_rate': 88.2, 'release_date_original': None, 'release_date_download': None, 'release_date_stream': None, 'release_date_purchase': None, 'purchasable': True, 'streamable': False, 'previewable': True, 'sampleable': True, 'downloadable': True, 'displayable': True, 'purchasable_at': 1688886000, 'streamable_at': 1688886000, 'hires': True, 'hires_streamable': False, 'position': 25, 'created_at': 1669008016, 'playlist_track_id': 2038671419}, {'maximum_bit_depth': 16, 'copyright': '℗ 2011 Big Machine Records, LLC', 'performers': 'John Paul White, Acoustic Guitar, AssociatedPerformer, ComposerLyricist - Joy Williams, ComposerLyricist - T-Bone Burnett, Producer, ComposerLyricist - Gavin Lurssen, Mastering Engineer, StudioPersonnel - Jason Wormer, Mixer, Recording Engineer, StudioPersonnel - Mike Piersante, Mixer, StudioPersonnel - Vanessa Parr, Assistant Mixer, StudioPersonnel - Jay Bellerose, Drums, AssociatedPerformer - Greg Leisz, Pedal Steel, AssociatedPerformer - Keefus Green, Keyboards, AssociatedPerformer - Taylor Swift, Performer, MainArtist, AssociatedPerformer, ComposerLyricist - The Civil Wars, Performer, FeaturedArtist, AssociatedPerformer', 'audio_info': {'replaygain_track_peak': 0.999969, 'replaygain_track_gain': -5.89}, 'performer': {'name': 'Taylor Swift', 'id': 70899}, 'album': {'image': {'small': 'https://static.qobuz.com/images/covers/18/69/0060252796918_230.jpg', 'thumbnail': 'https://static.qobuz.com/images/covers/18/69/0060252796918_50.jpg', 'large': 'https://static.qobuz.com/images/covers/18/69/0060252796918_600.jpg'}, 'maximum_bit_depth': 16, 'media_count': 1, 'artist': {'image': None, 'name': 'Various Artists', 'id': 145383, 'albums_count': 79333, 'slug': 'various-artists', 'picture': None}, 'upc': '0060252796918', 'released_at': 1325372400, 'label': {'name': 'Universal Records', 'id': 17417, 'albums_count': 1853, 'supplier_id': 1, 'slug': 'universal-records'}, 'title': 'The Hunger Games: Songs From District 12 And Beyond', 'qobuz_id': 5120216, 'version': None, 'duration': 3490, 'parental_warning': False, 'tracks_count': 16, 'popularity': 0, 'genre': {'path': [91, 92], 'color': '#0070ef', 'name': 'Film Soundtracks', 'id': 92, 'slug': 'bandes-originales-de-films'}, 'maximum_channel_count': 2, 'id': '0060252796918', 'maximum_sampling_rate': 44.1, 'previewable': True, 'sampleable': True, 'displayable': True, 'streamable': False, 'streamable_at': 1683529200, 'downloadable': False, 'purchasable_at': None, 'purchasable': False, 'release_date_original': '2012-01-01', 'release_date_download': '2012-01-01', 'release_date_stream': '2012-01-01', 'release_date_purchase': '2012-01-01', 'hires': False, 'hires_streamable': False}, 'work': None, 'composer': {'name': 'T Bone Burnett', 'id': 172308}, 'isrc': 'USUM71120255', 'title': 'Safe & Sound', 'version': 'The Hunger Games/Soundtrack Version', 'duration': 240, 'parental_warning': False, 'track_number': 4, 'maximum_channel_count': 2, 'id': 5120220, 'media_number': 1, 'maximum_sampling_rate': 44.1, 'release_date_original': None, 'release_date_download': None, 'release_date_stream': None, 'release_date_purchase': None, 'purchasable': True, 'streamable': False, 'previewable': True, 'sampleable': True, 'downloadable': True, 'displayable': True, 'purchasable_at': 1683702000, 'streamable_at': 1683529200, 'hires': False, 'hires_streamable': False, 'position': 26, 'created_at': 1669008016, 'playlist_track_id': 2038671420}, {'maximum_bit_depth': 16, 'copyright': '℗ 2019 Taylor Swift', 'performers': 'John Hanes, Mix Engineer, StudioPersonnel - Joel Little, Producer, Guitar, Keyboards, Recording Engineer, Drum Programming, Synthesizer Programming, AssociatedPerformer, StudioPersonnel, ComposerLyricist - Serban Ghenea, Mix Engineer, StudioPersonnel - BRENDON URIE, Vocals, FeaturedArtist, AssociatedPerformer, ComposerLyricist - Taylor Swift, Producer, Vocals, MainArtist, AssociatedPerformer, ComposerLyricist - John Rooney, Asst. Recording Engineer, StudioPersonnel', 'audio_info': {'replaygain_track_peak': 1, 'replaygain_track_gain': -10.63}, 'performer': {'name': 'Taylor Swift', 'id': 70899}, 'album': {'image': {'small': 'https://static.qobuz.com/images/covers/xb/2u/h1r19zw2l2uxb_230.jpg', 'thumbnail': 'https://static.qobuz.com/images/covers/xb/2u/h1r19zw2l2uxb_50.jpg', 'large': 'https://static.qobuz.com/images/covers/xb/2u/h1r19zw2l2uxb_600.jpg'}, 'maximum_bit_depth': 16, 'media_count': 1, 'artist': {'image': None, 'name': 'Taylor Swift', 'id': 70899, 'albums_count': 1058, 'slug': 'taylor-swift', 'picture': None}, 'upc': '0602508009228', 'released_at': 1566511200, 'label': {'name': 'Taylor Swift', 'id': 313742, 'albums_count': 222, 'supplier_id': 1, 'slug': 'taylor-swift'}, 'title': 'Lover', 'qobuz_id': 68263894, 'version': None, 'duration': 3685, 'parental_warning': False, 'tracks_count': 18, 'popularity': 0, 'genre': {'path': [112, 117], 'color': '#0070ef', 'name': 'Pop', 'id': 117, 'slug': 'pop'}, 'maximum_channel_count': 2, 'id': 'h1r19zw2l2uxb', 'maximum_sampling_rate': 44.1, 'previewable': True, 'sampleable': True, 'displayable': True, 'streamable': False, 'streamable_at': 1692601200, 'downloadable': False, 'purchasable_at': None, 'purchasable': False, 'release_date_original': '2019-08-23', 'release_date_download': '2019-08-23', 'release_date_stream': '2019-08-23', 'release_date_purchase': '2019-08-23', 'hires': False, 'hires_streamable': False}, 'work': None, 'composer': {'name': 'Joel Little', 'id': 309079}, 'isrc': 'USUG11901267', 'title': 'ME!', 'version': None, 'duration': 192, 'parental_warning': False, 'track_number': 16, 'maximum_channel_count': 2, 'id': 68263910, 'media_number': 1, 'maximum_sampling_rate': 44.1, 'release_date_original': None, 'release_date_download': None, 'release_date_stream': None, 'release_date_purchase': None, 'purchasable': True, 'streamable': False, 'previewable': True, 'sampleable': True, 'downloadable': True, 'displayable': True, 'purchasable_at': 1692601200, 'streamable_at': 1692601200, 'hires': False, 'hires_streamable': False, 'position': 27, 'created_at': 1669008016, 'playlist_track_id': 2038671421}, {'maximum_bit_depth': 16, 'copyright': '℗ 2017 Big Machine Label Group, LLC', 'performers': 'Max Martin, Producer, Keyboards, Programmer, Recording Engineer, AssociatedPerformer, StudioPersonnel, ComposerLyricist - Shellback, Producer, Keyboards, Programmer, Recording Engineer, AssociatedPerformer, StudioPersonnel, ComposerLyricist - John Hanes, Mix Engineer, StudioPersonnel - Serban Ghenea, Mixer, StudioPersonnel - Ali Payami, Producer, Keyboards, Programmer, AssociatedPerformer, ComposerLyricist - Taylor Swift, Vocals, MainArtist, AssociatedPerformer, ComposerLyricist - Randy Merrill, Mastering Engineer, StudioPersonnel', 'audio_info': {'replaygain_track_peak': 0.99884, 'replaygain_track_gain': -9.83}, 'performer': {'name': 'Taylor Swift', 'id': 70899}, 'album': {'image': {'small': 'https://static.qobuz.com/images/covers/14/33/0084393003314_230.jpg', 'thumbnail': 'https://static.qobuz.com/images/covers/14/33/0084393003314_50.jpg', 'large': 'https://static.qobuz.com/images/covers/14/33/0084393003314_600.jpg'}, 'maximum_bit_depth': 16, 'media_count': 1, 'artist': {'image': None, 'name': 'Taylor Swift', 'id': 70899, 'albums_count': 952, 'slug': 'taylor-swift', 'picture': None}, 'upc': '0084393003314', 'released_at': 1510268400, 'label': {'name': 'Big Machine Records, LLC', 'id': 17893, 'albums_count': 985, 'supplier_id': 1, 'slug': 'big-machine-records-llc'}, 'title': 'reputation', 'qobuz_id': 45281657, 'version': None, 'duration': 3325, 'parental_warning': False, 'tracks_count': 15, 'popularity': 0, 'genre': {'path': [112, 117], 'color': '#0070ef', 'name': 'Pop', 'id': 117, 'slug': 'pop'}, 'maximum_channel_count': 2, 'id': '0084393003314', 'maximum_sampling_rate': 44.1, 'previewable': True, 'sampleable': True, 'displayable': True, 'streamable': False, 'streamable_at': 1683529200, 'downloadable': False, 'purchasable_at': None, 'purchasable': False, 'release_date_original': '2017-11-10', 'release_date_download': '2017-11-10', 'release_date_stream': '2017-11-10', 'release_date_purchase': '2017-11-10', 'hires': False, 'hires_streamable': False}, 'work': None, 'composer': {'name': 'Max Martin', 'id': 152762}, 'isrc': 'USCJY1750003', 'title': '...Ready For It?', 'version': None, 'duration': 208, 'parental_warning': False, 'track_number': 1, 'maximum_channel_count': 2, 'id': 45281658, 'media_number': 1, 'maximum_sampling_rate': 44.1, 'release_date_original': None, 'release_date_download': None, 'release_date_stream': None, 'release_date_purchase': None, 'purchasable': True, 'streamable': False, 'previewable': True, 'sampleable': True, 'downloadable': True, 'displayable': True, 'purchasable_at': 1683702000, 'streamable_at': 1683529200, 'hires': False, 'hires_streamable': False, 'position': 28, 'created_at': 1669008016, 'playlist_track_id': 2038671422}, {'maximum_bit_depth': 24, 'copyright': '℗ 2022 Taylor Swift', 'performers': 'Justin Vernon, Additional Engineer, Unknown, Other, StudioPersonnel - Taylor Swift, Producer, Vocals, MainArtist, AssociatedPerformer, ComposerLyricist - Aaron Dessner, Producer, Guitar, Bass Guitar, Electric Guitar, Piano, Recording Engineer, Synthesizer, Harmonica, Drum Programming, AssociatedPerformer, StudioPersonnel, ComposerLyricist - Thomas Bartlett, Additional Engineer, Keyboards, Synthesizer, AssociatedPerformer, StudioPersonnel - James McAlister, Drums, Additional Engineer, Synthesizer, Drum Programming, AssociatedPerformer, StudioPersonnel - Bryan Devendorf, Drums, AssociatedPerformer - Bryce Dessner, Electric Guitar, AssociatedPerformer - Randy Merrill, Mastering Engineer, StudioPersonnel - Jonathan Low, Mixer, Recording Engineer, Vocal Engineer, StudioPersonnel - Bella Blasko, Recording Engineer, StudioPersonnel - Stu Tenold, Unknown, Other', 'audio_info': {'replaygain_track_peak': 1, 'replaygain_track_gain': -10.14}, 'performer': {'name': 'Taylor Swift', 'id': 70899}, 'album': {'image': {'small': 'https://static.qobuz.com/images/covers/vc/7i/w3ubzm5787ivc_230.jpg', 'thumbnail': 'https://static.qobuz.com/images/covers/vc/7i/w3ubzm5787ivc_50.jpg', 'large': 'https://static.qobuz.com/images/covers/vc/7i/w3ubzm5787ivc_600.jpg'}, 'maximum_bit_depth': 24, 'media_count': 1, 'artist': {'image': None, 'name': 'Taylor Swift', 'id': 70899, 'albums_count': 1043, 'slug': 'taylor-swift', 'picture': None}, 'upc': '0602448843715', 'released_at': 1666303200, 'label': {'name': 'Taylor Swift', 'id': 313742, 'albums_count': 222, 'supplier_id': 1, 'slug': 'taylor-swift'}, 'title': 'Midnights', 'qobuz_id': 181293511, 'version': '3am Edition', 'duration': 4160, 'parental_warning': False, 'tracks_count': 20, 'popularity': 0, 'genre': {'path': [112, 117], 'color': '#0070ef', 'name': 'Pop', 'id': 117, 'slug': 'pop'}, 'maximum_channel_count': 2, 'id': 'w3ubzm5787ivc', 'maximum_sampling_rate': 48, 'previewable': True, 'sampleable': True, 'displayable': True, 'streamable': False, 'streamable_at': 1691305200, 'downloadable': False, 'purchasable_at': None, 'purchasable': False, 'release_date_original': '2022-10-21', 'release_date_download': '2022-10-21', 'release_date_stream': '2022-10-21', 'release_date_purchase': '2022-10-21', 'hires': True, 'hires_streamable': False}, 'work': None, 'composer': {'name': 'Aaron Dessner', 'id': 630289}, 'isrc': 'USUG12207556', 'title': \"Would've, Could've, Should've\", 'version': None, 'duration': 260, 'parental_warning': False, 'track_number': 19, 'maximum_channel_count': 2, 'id': 181293530, 'media_number': 1, 'maximum_sampling_rate': 48, 'release_date_original': None, 'release_date_download': None, 'release_date_stream': None, 'release_date_purchase': None, 'purchasable': True, 'streamable': False, 'previewable': True, 'sampleable': True, 'downloadable': True, 'displayable': True, 'purchasable_at': 1691305200, 'streamable_at': 1691305200, 'hires': True, 'hires_streamable': False, 'position': 29, 'created_at': 1669008016, 'playlist_track_id': 2038671423}, {'maximum_bit_depth': 24, 'copyright': '℗ 2021 Taylor Swift', 'performers': 'Max Bernstein, Electric Guitar, AssociatedPerformer - David Payne, Recording Engineer, StudioPersonnel - John Hanes, Engineer, StudioPersonnel - Serban Ghenea, Mixer, StudioPersonnel - Lowell Reynolds, Additional Engineer, Asst. Recording Engineer, StudioPersonnel - Dan Burns, Synthesizer Programming, AssociatedPerformer - Caitlin Evanson, Background Vocalist, AssociatedPerformer - Taylor Swift, Producer, Vocals, MainArtist, AssociatedPerformer, ComposerLyricist - Matt Billingslea, Drums, AssociatedPerformer - Christopher Rowe, Producer, Vocal Engineer, StudioPersonnel - Randy Merrill, Mastering Engineer, StudioPersonnel - Paul Sidoti, Electric Guitar, AssociatedPerformer - Mike Meadows, Acoustic Guitar, Synthesizer, Synthesizer Programming, AssociatedPerformer - Amos Heller, Bass, AssociatedPerformer - Derek Garten, Additional Engineer, StudioPersonnel', 'audio_info': {'replaygain_track_peak': 1, 'replaygain_track_gain': -10.95}, 'performer': {'name': 'Taylor Swift', 'id': 70899}, 'album': {'image': {'small': 'https://static.qobuz.com/images/covers/ic/0c/r8361te6k0cic_230.jpg', 'thumbnail': 'https://static.qobuz.com/images/covers/ic/0c/r8361te6k0cic_50.jpg', 'large': 'https://static.qobuz.com/images/covers/ic/0c/r8361te6k0cic_600.jpg'}, 'maximum_bit_depth': 24, 'media_count': 1, 'artist': {'image': None, 'name': 'Taylor Swift', 'id': 70899, 'albums_count': 1084, 'slug': 'taylor-swift', 'picture': None}, 'upc': '0602435838908', 'released_at': 1617919200, 'label': {'name': 'Taylor Swift', 'id': 313742, 'albums_count': 222, 'supplier_id': 1, 'slug': 'taylor-swift'}, 'title': \"Fearless (Taylor's Version)\", 'qobuz_id': 119360712, 'version': None, 'duration': 6380, 'parental_warning': False, 'tracks_count': 26, 'popularity': 0, 'genre': {'path': [4], 'color': '#0070ef', 'name': 'Country', 'id': 4, 'slug': 'country'}, 'maximum_channel_count': 2, 'id': 'r8361te6k0cic', 'maximum_sampling_rate': 96, 'previewable': True, 'sampleable': True, 'displayable': True, 'streamable': False, 'streamable_at': 1695106800, 'downloadable': False, 'purchasable_at': None, 'purchasable': False, 'release_date_original': '2021-04-09', 'release_date_download': '2021-04-09', 'release_date_stream': '2021-04-09', 'release_date_purchase': '2021-04-09', 'hires': True, 'hires_streamable': False}, 'work': None, 'composer': {'name': 'Taylor Swift', 'id': 70899}, 'isrc': 'USUG12100629', 'title': 'Change (Taylor’s Version)', 'version': None, 'duration': 279, 'parental_warning': False, 'track_number': 13, 'maximum_channel_count': 2, 'id': 119360725, 'media_number': 1, 'maximum_sampling_rate': 96, 'release_date_original': None, 'release_date_download': None, 'release_date_stream': None, 'release_date_purchase': None, 'purchasable': True, 'streamable': False, 'previewable': True, 'sampleable': True, 'downloadable': True, 'displayable': True, 'purchasable_at': 1695106800, 'streamable_at': 1695106800, 'hires': True, 'hires_streamable': False, 'position': 30, 'created_at': 1669042051, 'playlist_track_id': 2042102952}, {'maximum_bit_depth': 16, 'copyright': '℗ 2010 Big Machine Records, LLC', 'performers': 'Nathan Chapman, Producer - Bryan Sutton, Guitar, Ukulele, AssociatedPerformer - Chad Carlson, Producer - Taylor Swift, Vocalist, MainArtist, AssociatedPerformer, ComposerLyricist', 'audio_info': {'replaygain_track_peak': 0.998718, 'replaygain_track_gain': -8.12}, 'performer': {'name': 'Taylor Swift', 'id': 70899}, 'album': {'image': {'small': 'https://static.qobuz.com/images/covers/ha/cu/spxx9oa8rcuha_230.jpg', 'thumbnail': 'https://static.qobuz.com/images/covers/ha/cu/spxx9oa8rcuha_50.jpg', 'large': 'https://static.qobuz.com/images/covers/ha/cu/spxx9oa8rcuha_600.jpg'}, 'maximum_bit_depth': 16, 'media_count': 1, 'artist': {'image': None, 'name': 'Taylor Swift', 'id': 70899, 'albums_count': 1038, 'slug': 'taylor-swift', 'picture': None}, 'upc': '0843930039371', 'released_at': 1510182000, 'label': {'name': 'Big Machine Records, LLC', 'id': 17893, 'albums_count': 1004, 'supplier_id': 1, 'slug': 'big-machine-records-llc'}, 'title': 'reputation Stadium Tour Surprise Song Playlist', 'qobuz_id': 56780241, 'version': None, 'duration': 11116, 'parental_warning': False, 'tracks_count': 46, 'popularity': 0, 'genre': {'path': [112, 117], 'color': '#0070ef', 'name': 'Pop', 'id': 117, 'slug': 'pop'}, 'maximum_channel_count': 2, 'id': 'spxx9oa8rcuha', 'maximum_sampling_rate': 44.1, 'previewable': True, 'sampleable': True, 'displayable': True, 'streamable': False, 'streamable_at': 1690441200, 'downloadable': False, 'purchasable_at': None, 'purchasable': False, 'release_date_original': '2017-11-09', 'release_date_download': '2017-11-09', 'release_date_stream': '2017-11-09', 'release_date_purchase': '2017-11-09', 'hires': False, 'hires_streamable': False}, 'work': None, 'composer': {'name': 'Taylor Swift', 'id': 70899}, 'isrc': 'USCJY1003669', 'title': 'Ours', 'version': None, 'duration': 238, 'parental_warning': False, 'track_number': 26, 'maximum_channel_count': 2, 'id': 56780267, 'media_number': 1, 'maximum_sampling_rate': 44.1, 'release_date_original': None, 'release_date_download': None, 'release_date_stream': None, 'release_date_purchase': None, 'purchasable': False, 'streamable': False, 'previewable': True, 'sampleable': True, 'downloadable': False, 'displayable': True, 'purchasable_at': None, 'streamable_at': 1690441200, 'hires': False, 'hires_streamable': False, 'position': 31, 'created_at': 1669008016, 'playlist_track_id': 2038671425}, {'maximum_bit_depth': 16, 'copyright': '℗ 2010 Big Machine Records, LLC', 'performers': 'Tommy Sims, Bass Guitar, AssociatedPerformer - Tim Lauer, Piano, Hammond B3, AssociatedPerformer - Nathan Chapman, Producer, Banjo, Acoustic Guitar, Bass Guitar, Electric Guitar, Mandolin, Organ, Piano, Synthesizer, Digital Piano, AssociatedPerformer - Bryan Sutton, Acoustic Guitar, AssociatedPerformer - Shannon Forrest, Drums, AssociatedPerformer - Eric Darken, Percussion, AssociatedPerformer - Rob Hajacos, Fiddle, AssociatedPerformer - John Gardner, Drums, AssociatedPerformer - Nick Buda, Drums, AssociatedPerformer - Al Wilson, Percussion, AssociatedPerformer - Taylor Swift, Producer, Acoustic Guitar, Vocalist, MainArtist, AssociatedPerformer, ComposerLyricist - Smith Curry, Steel Guitar, AssociatedPerformer - Tim Marks, Bass Guitar, AssociatedPerformer - Grant Mickelson, Electric Guitar, AssociatedPerformer - Paul Sidoti, Electric Guitar, AssociatedPerformer - Mike Meadows, Electric Guitar, AssociatedPerformer - Amos Heller, Bass Guitar, AssociatedPerformer', 'audio_info': {'replaygain_track_peak': 0.950623, 'replaygain_track_gain': -9.76}, 'performer': {'name': 'Taylor Swift', 'id': 70899}, 'album': {'image': {'small': 'https://static.qobuz.com/images/covers/mc/df/qsgwxoyd8dfmc_230.jpg', 'thumbnail': 'https://static.qobuz.com/images/covers/mc/df/qsgwxoyd8dfmc_50.jpg', 'large': 'https://static.qobuz.com/images/covers/mc/df/qsgwxoyd8dfmc_600.jpg'}, 'maximum_bit_depth': 16, 'media_count': 1, 'artist': {'image': None, 'name': 'Taylor Swift', 'id': 70899, 'albums_count': 952, 'slug': 'taylor-swift', 'picture': None}, 'upc': '0843930004010', 'released_at': 1287957600, 'label': {'name': 'Big Machine Records, LLC', 'id': 17893, 'albums_count': 985, 'supplier_id': 1, 'slug': 'big-machine-records-llc'}, 'title': 'Speak Now', 'qobuz_id': 54330493, 'version': None, 'duration': 4013, 'parental_warning': False, 'tracks_count': 14, 'popularity': 0, 'genre': {'path': [4], 'color': '#0070ef', 'name': 'Country', 'id': 4, 'slug': 'country'}, 'maximum_channel_count': 2, 'id': 'qsgwxoyd8dfmc', 'maximum_sampling_rate': 44.1, 'previewable': True, 'sampleable': True, 'displayable': True, 'streamable': False, 'streamable_at': 1683529200, 'downloadable': False, 'purchasable_at': None, 'purchasable': False, 'release_date_original': '2010-10-25', 'release_date_download': '2010-10-25', 'release_date_stream': '2010-10-25', 'release_date_purchase': '2010-10-25', 'hires': False, 'hires_streamable': False}, 'work': None, 'composer': {'name': 'Taylor Swift', 'id': 70899}, 'isrc': 'USCJY1003657', 'title': 'Back To December', 'version': None, 'duration': 292, 'parental_warning': False, 'track_number': 3, 'maximum_channel_count': 2, 'id': 54330496, 'media_number': 1, 'maximum_sampling_rate': 44.1, 'release_date_original': None, 'release_date_download': None, 'release_date_stream': None, 'release_date_purchase': None, 'purchasable': True, 'streamable': False, 'previewable': True, 'sampleable': True, 'downloadable': True, 'displayable': True, 'purchasable_at': 1683702000, 'streamable_at': 1683529200, 'hires': False, 'hires_streamable': False, 'position': 32, 'created_at': 1669042606, 'playlist_track_id': 2042158657}, {'maximum_bit_depth': 16, 'copyright': '℗ 2011 Big Machine Records, LLC.', 'performers': 'Taylor Swift, MainArtist, ComposerLyricist', 'audio_info': {'replaygain_track_peak': 0.988861, 'replaygain_track_gain': -8.91}, 'performer': {'name': 'Taylor Swift', 'id': 70899}, 'album': {'image': {'small': 'https://static.qobuz.com/images/covers/wb/8l/pvxwnp2ad8lwb_230.jpg', 'thumbnail': 'https://static.qobuz.com/images/covers/wb/8l/pvxwnp2ad8lwb_50.jpg', 'large': 'https://static.qobuz.com/images/covers/wb/8l/pvxwnp2ad8lwb_600.jpg'}, 'maximum_bit_depth': 16, 'media_count': 1, 'artist': {'image': None, 'name': 'Taylor Swift', 'id': 70899, 'albums_count': 952, 'slug': 'taylor-swift', 'picture': None}, 'upc': '0843930006014', 'released_at': 1293836400, 'label': {'name': 'Big Machine Records, LLC', 'id': 17893, 'albums_count': 985, 'supplier_id': 1, 'slug': 'big-machine-records-llc'}, 'title': 'Speak Now World Tour Live', 'qobuz_id': 54378727, 'version': None, 'duration': 4748, 'parental_warning': False, 'tracks_count': 16, 'popularity': 0, 'genre': {'path': [4], 'color': '#0070ef', 'name': 'Country', 'id': 4, 'slug': 'country'}, 'maximum_channel_count': 2, 'id': 'pvxwnp2ad8lwb', 'maximum_sampling_rate': 44.1, 'previewable': True, 'sampleable': True, 'displayable': True, 'streamable': False, 'streamable_at': 1683529200, 'downloadable': False, 'purchasable_at': None, 'purchasable': False, 'release_date_original': '2011-01-01', 'release_date_download': '2011-01-01', 'release_date_stream': '2011-01-01', 'release_date_purchase': '2011-01-01', 'hires': False, 'hires_streamable': False}, 'work': None, 'composer': {'name': 'Taylor Swift', 'id': 70899}, 'isrc': 'USCJY1103931', 'title': 'Long Live', 'version': 'Live/2011', 'duration': 376, 'parental_warning': False, 'track_number': 16, 'maximum_channel_count': 2, 'id': 54378743, 'media_number': 1, 'maximum_sampling_rate': 44.1, 'release_date_original': None, 'release_date_download': None, 'release_date_stream': None, 'release_date_purchase': None, 'purchasable': True, 'streamable': False, 'previewable': True, 'sampleable': True, 'downloadable': True, 'displayable': True, 'purchasable_at': 1683702000, 'streamable_at': 1683529200, 'hires': False, 'hires_streamable': False, 'position': 33, 'created_at': 1669008016, 'playlist_track_id': 2038671427}, {'maximum_bit_depth': 16, 'copyright': '℗ 2014 Big Machine Records, LLC', 'performers': 'Max Martin, Producer, ComposerLyricist - Shellback, Producer, ComposerLyricist - Ali Payami, Producer, ComposerLyricist - Taylor Swift, MainArtist, ComposerLyricist', 'audio_info': {'replaygain_track_peak': 0.99884, 'replaygain_track_gain': -10.47}, 'performer': {'name': 'Taylor Swift', 'id': 70899}, 'album': {'image': {'small': 'https://static.qobuz.com/images/covers/ta/ym/id29re6slymta_230.jpg', 'thumbnail': 'https://static.qobuz.com/images/covers/ta/ym/id29re6slymta_50.jpg', 'large': 'https://static.qobuz.com/images/covers/ta/ym/id29re6slymta_600.jpg'}, 'maximum_bit_depth': 16, 'media_count': 1, 'artist': {'image': None, 'name': 'Taylor Swift', 'id': 70899, 'albums_count': 952, 'slug': 'taylor-swift', 'picture': None}, 'upc': '0843930013609', 'released_at': 1414364400, 'label': {'name': 'Big Machine Records, LLC', 'id': 17893, 'albums_count': 985, 'supplier_id': 1, 'slug': 'big-machine-records-llc'}, 'title': '1989', 'qobuz_id': 53965341, 'version': 'Deluxe Edition', 'duration': 4101, 'parental_warning': False, 'tracks_count': 19, 'popularity': 0, 'genre': {'path': [112, 117], 'color': '#0070ef', 'name': 'Pop', 'id': 117, 'slug': 'pop'}, 'maximum_channel_count': 2, 'id': 'id29re6slymta', 'maximum_sampling_rate': 44.1, 'previewable': True, 'sampleable': True, 'displayable': True, 'streamable': False, 'streamable_at': 1683529200, 'downloadable': False, 'purchasable_at': None, 'purchasable': False, 'release_date_original': '2014-10-27', 'release_date_download': '2014-10-27', 'release_date_stream': '2014-10-27', 'release_date_purchase': '2014-10-27', 'hires': False, 'hires_streamable': False}, 'work': None, 'composer': {'name': 'Ali Payami', 'id': 322541}, 'isrc': 'USCJY1431319', 'title': 'Style', 'version': None, 'duration': 229, 'parental_warning': False, 'track_number': 3, 'maximum_channel_count': 2, 'id': 53965344, 'media_number': 1, 'maximum_sampling_rate': 44.1, 'release_date_original': None, 'release_date_download': None, 'release_date_stream': None, 'release_date_purchase': None, 'purchasable': True, 'streamable': False, 'previewable': True, 'sampleable': True, 'downloadable': True, 'displayable': True, 'purchasable_at': 1683702000, 'streamable_at': 1683529200, 'hires': False, 'hires_streamable': False, 'position': 34, 'created_at': 1669008147, 'playlist_track_id': 2038682072}, {'maximum_bit_depth': 24, 'copyright': '℗ 2022 Taylor Swift', 'performers': 'Serban Ghenea, Mixer, StudioPersonnel - Ken Lewis, Recording Engineer, StudioPersonnel - Taylor Swift, Producer, Vocals, MainArtist, AssociatedPerformer, ComposerLyricist - Laura Sisk, Recording Engineer, StudioPersonnel - John Rooney, Asst. Recording Engineer, StudioPersonnel - Jon Sher, Asst. Recording Engineer, StudioPersonnel - Jack Antonoff, Producer, Drums, Percussion, Recording Engineer, Synthesizer, Mellotron, Wurlitzer Organ, Programming, Background Vocalist, AssociatedPerformer, StudioPersonnel, ComposerLyricist - Jonathan Garcia, Asst. Recording Engineer, StudioPersonnel - Sam Dew, Background Vocalist, AssociatedPerformer, ComposerLyricist - Mark Aguilar, Asst. Recording Engineer, StudioPersonnel - Mark Anthony Spears, ComposerLyricist - Sounwave, Producer, Programming, AssociatedPerformer - Randy Merrill, Mastering Engineer, StudioPersonnel - Zoe Kravitz, Background Vocalist, AssociatedPerformer, ComposerLyricist - Braxton Cook, Producer, Additional Producer - Jahaan Sweet, Producer, Flute, Recording Engineer, Bass, Synthesizer, AssociatedPerformer, StudioPersonnel, Synth Pads - Jahaan Akil Sweet, ComposerLyricist - Bryce Bordone, Assistant Mixer, StudioPersonnel - Dominic Rivinius, Snare Drum, AssociatedPerformer - Megan Searl, Asst. Recording Engineer, StudioPersonnel', 'audio_info': {'replaygain_track_peak': 1, 'replaygain_track_gain': -8.4}, 'performer': {'name': 'Taylor Swift', 'id': 70899}, 'album': {'image': {'small': 'https://static.qobuz.com/images/covers/nb/lj/w6o6wzv2sljnb_230.jpg', 'thumbnail': 'https://static.qobuz.com/images/covers/nb/lj/w6o6wzv2sljnb_50.jpg', 'large': 'https://static.qobuz.com/images/covers/nb/lj/w6o6wzv2sljnb_600.jpg'}, 'maximum_bit_depth': 24, 'media_count': 1, 'artist': {'image': None, 'name': 'Taylor Swift', 'id': 70899, 'albums_count': 1058, 'slug': 'taylor-swift', 'picture': None}, 'upc': '0602448638809', 'released_at': 1666303200, 'label': {'name': 'Taylor Swift', 'id': 313742, 'albums_count': 222, 'supplier_id': 1, 'slug': 'taylor-swift'}, 'title': 'Midnights', 'qobuz_id': 181288945, 'version': None, 'duration': 2642, 'parental_warning': False, 'tracks_count': 13, 'popularity': 0, 'genre': {'path': [112, 117], 'color': '#0070ef', 'name': 'Pop', 'id': 117, 'slug': 'pop'}, 'maximum_channel_count': 2, 'id': 'w6o6wzv2sljnb', 'maximum_sampling_rate': 48, 'previewable': True, 'sampleable': True, 'displayable': True, 'streamable': False, 'streamable_at': 1692342000, 'downloadable': False, 'purchasable_at': None, 'purchasable': False, 'release_date_original': '2022-10-21', 'release_date_download': '2022-10-21', 'release_date_stream': '2022-10-21', 'release_date_purchase': '2022-10-21', 'hires': True, 'hires_streamable': False}, 'work': None, 'composer': {'name': 'Jack Antonoff', 'id': 778282}, 'isrc': 'USUG12205719', 'title': 'Lavender Haze', 'version': None, 'duration': 202, 'parental_warning': False, 'track_number': 1, 'maximum_channel_count': 2, 'id': 181288946, 'media_number': 1, 'maximum_sampling_rate': 48, 'release_date_original': None, 'release_date_download': None, 'release_date_stream': None, 'release_date_purchase': None, 'purchasable': True, 'streamable': False, 'previewable': True, 'sampleable': True, 'downloadable': True, 'displayable': True, 'purchasable_at': 1692342000, 'streamable_at': 1692342000, 'hires': True, 'hires_streamable': False, 'position': 35, 'created_at': 1669008016, 'playlist_track_id': 2038671429}, {'maximum_bit_depth': 16, 'copyright': '℗ 2008 Big Machine Records, LLC All Rights Reserved', 'performers': 'Taylor Swift, MainArtist, ComposerLyricist', 'audio_info': {'replaygain_track_peak': 0.813232, 'replaygain_track_gain': -10.08}, 'performer': {'name': 'Taylor Swift', 'id': 70899}, 'album': {'image': {'small': 'https://static.qobuz.com/images/covers/oa/9h/qwrzlxac89hoa_230.jpg', 'thumbnail': 'https://static.qobuz.com/images/covers/oa/9h/qwrzlxac89hoa_50.jpg', 'large': 'https://static.qobuz.com/images/covers/oa/9h/qwrzlxac89hoa_600.jpg'}, 'maximum_bit_depth': 16, 'media_count': 1, 'artist': {'image': None, 'name': 'Taylor Swift', 'id': 70899, 'albums_count': 952, 'slug': 'taylor-swift', 'picture': None}, 'upc': '0843930000821', 'released_at': 1161640800, 'label': {'name': 'Big Machine Records, LLC', 'id': 17893, 'albums_count': 985, 'supplier_id': 1, 'slug': 'big-machine-records-llc'}, 'title': 'Taylor Swift', 'qobuz_id': 54302100, 'version': None, 'duration': 3196, 'parental_warning': False, 'tracks_count': 15, 'popularity': 0, 'genre': {'path': [4], 'color': '#0070ef', 'name': 'Country', 'id': 4, 'slug': 'country'}, 'maximum_channel_count': 2, 'id': 'qwrzlxac89hoa', 'maximum_sampling_rate': 44.1, 'previewable': True, 'sampleable': True, 'displayable': True, 'streamable': False, 'streamable_at': 1683529200, 'downloadable': False, 'purchasable_at': None, 'purchasable': False, 'release_date_original': '2006-10-24', 'release_date_download': '2006-10-24', 'release_date_stream': '2006-10-24', 'release_date_purchase': '2006-10-24', 'hires': False, 'hires_streamable': False}, 'work': None, 'composer': {'name': 'Taylor Swift', 'id': 70899}, 'isrc': 'USCJY0703142', 'title': 'Our Song', 'version': None, 'duration': 201, 'parental_warning': False, 'track_number': 11, 'maximum_channel_count': 2, 'id': 54302111, 'media_number': 1, 'maximum_sampling_rate': 44.1, 'release_date_original': None, 'release_date_download': None, 'release_date_stream': None, 'release_date_purchase': None, 'purchasable': True, 'streamable': False, 'previewable': True, 'sampleable': True, 'downloadable': True, 'displayable': True, 'purchasable_at': 1683702000, 'streamable_at': 1683529200, 'hires': False, 'hires_streamable': False, 'position': 36, 'created_at': 1669042732, 'playlist_track_id': 2042174303}, {'maximum_bit_depth': 24, 'copyright': '℗ 2021 Taylor Swift', 'performers': 'Liz Rose, ComposerLyricist - David Payne, Recording Engineer, StudioPersonnel - John Hanes, Engineer, StudioPersonnel - Serban Ghenea, Mixer, StudioPersonnel - Lowell Reynolds, Additional Engineer, Asst. Recording Engineer, StudioPersonnel - Jonathan Yudkin, Strings, AssociatedPerformer - Taylor Swift, Producer, Vocals, MainArtist, AssociatedPerformer, ComposerLyricist - Matt Billingslea, Drums, AssociatedPerformer - Christopher Rowe, Producer, Vocal Engineer, StudioPersonnel - Randy Merrill, Mastering Engineer, StudioPersonnel - Paul Sidoti, Piano, AssociatedPerformer - Mike Meadows, Acoustic Guitar, Background Vocalist, AssociatedPerformer - Amos Heller, Bass, AssociatedPerformer - Derek Garten, Additional Engineer, StudioPersonnel', 'audio_info': {'replaygain_track_peak': 1, 'replaygain_track_gain': -8.23}, 'performer': {'name': 'Taylor Swift', 'id': 70899}, 'album': {'image': {'small': 'https://static.qobuz.com/images/covers/ic/0c/r8361te6k0cic_230.jpg', 'thumbnail': 'https://static.qobuz.com/images/covers/ic/0c/r8361te6k0cic_50.jpg', 'large': 'https://static.qobuz.com/images/covers/ic/0c/r8361te6k0cic_600.jpg'}, 'maximum_bit_depth': 24, 'media_count': 1, 'artist': {'image': None, 'name': 'Taylor Swift', 'id': 70899, 'albums_count': 1084, 'slug': 'taylor-swift', 'picture': None}, 'upc': '0602435838908', 'released_at': 1617919200, 'label': {'name': 'Taylor Swift', 'id': 313742, 'albums_count': 222, 'supplier_id': 1, 'slug': 'taylor-swift'}, 'title': \"Fearless (Taylor's Version)\", 'qobuz_id': 119360712, 'version': None, 'duration': 6380, 'parental_warning': False, 'tracks_count': 26, 'popularity': 0, 'genre': {'path': [4], 'color': '#0070ef', 'name': 'Country', 'id': 4, 'slug': 'country'}, 'maximum_channel_count': 2, 'id': 'r8361te6k0cic', 'maximum_sampling_rate': 96, 'previewable': True, 'sampleable': True, 'displayable': True, 'streamable': False, 'streamable_at': 1695106800, 'downloadable': False, 'purchasable_at': None, 'purchasable': False, 'release_date_original': '2021-04-09', 'release_date_download': '2021-04-09', 'release_date_stream': '2021-04-09', 'release_date_purchase': '2021-04-09', 'hires': True, 'hires_streamable': False}, 'work': None, 'composer': {'name': 'Taylor Swift', 'id': 70899}, 'isrc': 'USUG12100621', 'title': 'White Horse (Taylor’s Version)', 'version': None, 'duration': 234, 'parental_warning': False, 'track_number': 5, 'maximum_channel_count': 2, 'id': 119360717, 'media_number': 1, 'maximum_sampling_rate': 96, 'release_date_original': None, 'release_date_download': None, 'release_date_stream': None, 'release_date_purchase': None, 'purchasable': True, 'streamable': False, 'previewable': True, 'sampleable': True, 'downloadable': True, 'displayable': True, 'purchasable_at': 1695106800, 'streamable_at': 1695106800, 'hires': True, 'hires_streamable': False, 'position': 37, 'created_at': 1669042058, 'playlist_track_id': 2042103010}, {'maximum_bit_depth': 16, 'copyright': '℗ 2010 Big Machine Records, LLC', 'performers': 'Tommy Sims, Bass Guitar, AssociatedPerformer - Tim Lauer, Piano, Hammond B3, AssociatedPerformer - Nathan Chapman, Producer, Banjo, Acoustic Guitar, Bass Guitar, Electric Guitar, Mandolin, Organ, Piano, Synthesizer, Digital Piano, AssociatedPerformer - Bryan Sutton, Acoustic Guitar, AssociatedPerformer - Shannon Forrest, Drums, AssociatedPerformer - Eric Darken, Percussion, AssociatedPerformer - Rob Hajacos, Fiddle, AssociatedPerformer - John Gardner, Drums, AssociatedPerformer - Nick Buda, Drums, AssociatedPerformer - Al Wilson, Percussion, AssociatedPerformer - Taylor Swift, Producer, Acoustic Guitar, Vocalist, MainArtist, AssociatedPerformer, ComposerLyricist - Smith Curry, Steel Guitar, AssociatedPerformer - Tim Marks, Bass Guitar, AssociatedPerformer - Grant Mickelson, Electric Guitar, AssociatedPerformer - Paul Sidoti, Electric Guitar, AssociatedPerformer - Mike Meadows, Electric Guitar, AssociatedPerformer - Amos Heller, Bass Guitar, AssociatedPerformer', 'audio_info': {'replaygain_track_peak': 0.933197, 'replaygain_track_gain': -9.64}, 'performer': {'name': 'Taylor Swift', 'id': 70899}, 'album': {'image': {'small': 'https://static.qobuz.com/images/covers/mc/df/qsgwxoyd8dfmc_230.jpg', 'thumbnail': 'https://static.qobuz.com/images/covers/mc/df/qsgwxoyd8dfmc_50.jpg', 'large': 'https://static.qobuz.com/images/covers/mc/df/qsgwxoyd8dfmc_600.jpg'}, 'maximum_bit_depth': 16, 'media_count': 1, 'artist': {'image': None, 'name': 'Taylor Swift', 'id': 70899, 'albums_count': 952, 'slug': 'taylor-swift', 'picture': None}, 'upc': '0843930004010', 'released_at': 1287957600, 'label': {'name': 'Big Machine Records, LLC', 'id': 17893, 'albums_count': 985, 'supplier_id': 1, 'slug': 'big-machine-records-llc'}, 'title': 'Speak Now', 'qobuz_id': 54330493, 'version': None, 'duration': 4013, 'parental_warning': False, 'tracks_count': 14, 'popularity': 0, 'genre': {'path': [4], 'color': '#0070ef', 'name': 'Country', 'id': 4, 'slug': 'country'}, 'maximum_channel_count': 2, 'id': 'qsgwxoyd8dfmc', 'maximum_sampling_rate': 44.1, 'previewable': True, 'sampleable': True, 'displayable': True, 'streamable': False, 'streamable_at': 1683529200, 'downloadable': False, 'purchasable_at': None, 'purchasable': False, 'release_date_original': '2010-10-25', 'release_date_download': '2010-10-25', 'release_date_stream': '2010-10-25', 'release_date_purchase': '2010-10-25', 'hires': False, 'hires_streamable': False}, 'work': None, 'composer': {'name': 'Taylor Swift', 'id': 70899}, 'isrc': 'USCJY1003660', 'title': 'Mean', 'version': None, 'duration': 237, 'parental_warning': False, 'track_number': 6, 'maximum_channel_count': 2, 'id': 54330499, 'media_number': 1, 'maximum_sampling_rate': 44.1, 'release_date_original': None, 'release_date_download': None, 'release_date_stream': None, 'release_date_purchase': None, 'purchasable': True, 'streamable': False, 'previewable': True, 'sampleable': True, 'downloadable': True, 'displayable': True, 'purchasable_at': 1683702000, 'streamable_at': 1683529200, 'hires': False, 'hires_streamable': False, 'position': 38, 'created_at': 1669042621, 'playlist_track_id': 2042159749}, {'maximum_bit_depth': 16, 'copyright': '℗ 2012 Big Machine Records, LLC.', 'performers': 'Taylor Swift, MainArtist, ComposerLyricist - Maya Thompson, ComposerLyricist', 'audio_info': {'replaygain_track_peak': 0.941925, 'replaygain_track_gain': -5.46}, 'performer': {'name': 'Taylor Swift', 'id': 70899}, 'album': {'image': {'small': 'https://static.qobuz.com/images/covers/fb/8m/gxyemubon8mfb_230.jpg', 'thumbnail': 'https://static.qobuz.com/images/covers/fb/8m/gxyemubon8mfb_50.jpg', 'large': 'https://static.qobuz.com/images/covers/fb/8m/gxyemubon8mfb_600.jpg'}, 'maximum_bit_depth': 16, 'media_count': 1, 'artist': {'image': None, 'name': 'Taylor Swift', 'id': 70899, 'albums_count': 952, 'slug': 'taylor-swift', 'picture': None}, 'upc': '0843930037780', 'released_at': 1347055200, 'label': {'name': 'Big Machine Records, LLC', 'id': 17893, 'albums_count': 985, 'supplier_id': 1, 'slug': 'big-machine-records-llc'}, 'title': 'Ronan', 'qobuz_id': 53638235, 'version': None, 'duration': 264, 'parental_warning': False, 'tracks_count': 1, 'popularity': 0, 'genre': {'path': [4], 'color': '#0070ef', 'name': 'Country', 'id': 4, 'slug': 'country'}, 'maximum_channel_count': 2, 'id': 'gxyemubon8mfb', 'maximum_sampling_rate': 44.1, 'previewable': True, 'sampleable': True, 'displayable': True, 'streamable': False, 'streamable_at': 1683529200, 'downloadable': False, 'purchasable_at': None, 'purchasable': False, 'release_date_original': '2012-09-08', 'release_date_download': '2012-09-08', 'release_date_stream': '2012-09-08', 'release_date_purchase': '2012-09-08', 'hires': False, 'hires_streamable': False}, 'work': None, 'composer': {'name': 'Taylor Swift', 'id': 70899}, 'isrc': 'USCJY1231051', 'title': 'Ronan', 'version': None, 'duration': 264, 'parental_warning': False, 'track_number': 1, 'maximum_channel_count': 2, 'id': 53638236, 'media_number': 1, 'maximum_sampling_rate': 44.1, 'release_date_original': None, 'release_date_download': None, 'release_date_stream': None, 'release_date_purchase': None, 'purchasable': True, 'streamable': False, 'previewable': True, 'sampleable': True, 'downloadable': True, 'displayable': True, 'purchasable_at': 1683702000, 'streamable_at': 1683529200, 'hires': False, 'hires_streamable': False, 'position': 39, 'created_at': 1669008016, 'playlist_track_id': 2038671433}, {'maximum_bit_depth': 24, 'copyright': '℗ 2021 Taylor Swift', 'performers': 'Max Martin, ComposerLyricist - Shellback, Producer, ComposerLyricist - Max Bernstein, Synthesizer, AssociatedPerformer - Serban Ghenea, Mixer, StudioPersonnel - Dan Burns, Additional Engineer, Programming, AssociatedPerformer, StudioPersonnel - Taylor Swift, Producer, Vocals, Background Vocalist, MainArtist, AssociatedPerformer, ComposerLyricist - Matt Billingslea, Drums, Drum Programming, AssociatedPerformer - Christopher Rowe, Producer, Vocal Engineer, StudioPersonnel - Randy Merrill, Mastering Engineer, StudioPersonnel - Paul Sidoti, Electric Guitar, AssociatedPerformer - Mike Meadows, Acoustic Guitar, Synthesizer, AssociatedPerformer - Amos Heller, Bass Guitar, Synth Bass, AssociatedPerformer - Derek Garten, Editor, Engineer, StudioPersonnel - Bryce Bordone, Mix Engineer, StudioPersonnel', 'audio_info': {'replaygain_track_peak': 1, 'replaygain_track_gain': -10.69}, 'performer': {'name': 'Taylor Swift', 'id': 70899}, 'album': {'image': {'small': 'https://static.qobuz.com/images/covers/6a/n5/oulc1w5vun56a_230.jpg', 'thumbnail': 'https://static.qobuz.com/images/covers/6a/n5/oulc1w5vun56a_50.jpg', 'large': 'https://static.qobuz.com/images/covers/6a/n5/oulc1w5vun56a_600.jpg'}, 'maximum_bit_depth': 24, 'media_count': 1, 'artist': {'image': None, 'name': 'Taylor Swift', 'id': 70899, 'albums_count': 1004, 'slug': 'taylor-swift', 'picture': None}, 'upc': '0602438993857', 'released_at': 1636671600, 'label': {'name': 'Taylor Swift', 'id': 313742, 'albums_count': 222, 'supplier_id': 1, 'slug': 'taylor-swift'}, 'title': \"Red (Taylor's Version)\", 'qobuz_id': 138305275, 'version': None, 'duration': 7826, 'parental_warning': True, 'tracks_count': 30, 'popularity': 0, 'genre': {'path': [112, 117], 'color': '#0070ef', 'name': 'Pop', 'id': 117, 'slug': 'pop'}, 'maximum_channel_count': 2, 'id': 'oulc1w5vun56a', 'maximum_sampling_rate': 96, 'previewable': True, 'sampleable': True, 'displayable': True, 'streamable': False, 'streamable_at': 1688886000, 'downloadable': False, 'purchasable_at': None, 'purchasable': False, 'release_date_original': '2021-11-12', 'release_date_download': '2021-11-12', 'release_date_stream': '2021-11-12', 'release_date_purchase': '2021-11-12', 'hires': True, 'hires_streamable': False}, 'work': None, 'composer': {'name': 'Taylor Swift', 'id': 70899}, 'isrc': 'USUG12103666', 'title': \"22 (Taylor's Version)\", 'version': None, 'duration': 230, 'parental_warning': False, 'track_number': 6, 'maximum_channel_count': 2, 'id': 138305281, 'media_number': 1, 'maximum_sampling_rate': 96, 'release_date_original': None, 'release_date_download': None, 'release_date_stream': None, 'release_date_purchase': None, 'purchasable': True, 'streamable': False, 'previewable': True, 'sampleable': True, 'downloadable': True, 'displayable': True, 'purchasable_at': 1688886000, 'streamable_at': 1688886000, 'hires': True, 'hires_streamable': False, 'position': 40, 'created_at': 1669042314, 'playlist_track_id': 2042127832}, {'maximum_bit_depth': 16, 'copyright': '℗ 2012 Big Machine Records, LLC', 'performers': 'Greg Wells, Drums, Guitar, AssociatedPerformer - Brian Willis, Editor, StudioPersonnel - Nathan Chapman, Producer, Guitar, Bass Guitar, Keyboards, Recording Engineer, AssociatedPerformer, StudioPersonnel - Jason Wormer, Recording Engineer, StudioPersonnel - Vanessa Parr, Asst. Recording Engineer, StudioPersonnel - Keefus Green, Keyboards, AssociatedPerformer - Blake Mills, Guitar, AssociatedPerformer - Chad Carlson, Recording Engineer, StudioPersonnel - Nick Buda, Drums, AssociatedPerformer - Zachary Dawes, Bass Guitar, AssociatedPerformer - Taylor Swift, Producer, MainArtist - Paul Ackling, Unknown, Other - Leland Elliott, Asst. Recording Engineer, StudioPersonnel - Taylor Alison Swift, ComposerLyricist', 'audio_info': {'replaygain_track_peak': 0.999969, 'replaygain_track_gain': -7.97}, 'performer': {'name': 'Taylor Swift', 'id': 70899}, 'album': {'image': {'small': 'https://static.qobuz.com/images/covers/18/69/0060252796918_230.jpg', 'thumbnail': 'https://static.qobuz.com/images/covers/18/69/0060252796918_50.jpg', 'large': 'https://static.qobuz.com/images/covers/18/69/0060252796918_600.jpg'}, 'maximum_bit_depth': 16, 'media_count': 1, 'artist': {'image': None, 'name': 'Various Artists', 'id': 145383, 'albums_count': 79333, 'slug': 'various-artists', 'picture': None}, 'upc': '0060252796918', 'released_at': 1325372400, 'label': {'name': 'Universal Records', 'id': 17417, 'albums_count': 1853, 'supplier_id': 1, 'slug': 'universal-records'}, 'title': 'The Hunger Games: Songs From District 12 And Beyond', 'qobuz_id': 5120216, 'version': None, 'duration': 3490, 'parental_warning': False, 'tracks_count': 16, 'popularity': 0, 'genre': {'path': [91, 92], 'color': '#0070ef', 'name': 'Film Soundtracks', 'id': 92, 'slug': 'bandes-originales-de-films'}, 'maximum_channel_count': 2, 'id': '0060252796918', 'maximum_sampling_rate': 44.1, 'previewable': True, 'sampleable': True, 'displayable': True, 'streamable': False, 'streamable_at': 1683529200, 'downloadable': False, 'purchasable_at': None, 'purchasable': False, 'release_date_original': '2012-01-01', 'release_date_download': '2012-01-01', 'release_date_stream': '2012-01-01', 'release_date_purchase': '2012-01-01', 'hires': False, 'hires_streamable': False}, 'work': None, 'composer': {'name': 'Taylor Swift', 'id': 70899}, 'isrc': 'USUM71201814', 'title': 'Eyes Open', 'version': None, 'duration': 244, 'parental_warning': False, 'track_number': 14, 'maximum_channel_count': 2, 'id': 5120230, 'media_number': 1, 'maximum_sampling_rate': 44.1, 'release_date_original': None, 'release_date_download': None, 'release_date_stream': None, 'release_date_purchase': None, 'purchasable': True, 'streamable': False, 'previewable': True, 'sampleable': True, 'downloadable': True, 'displayable': True, 'purchasable_at': 1683702000, 'streamable_at': 1683529200, 'hires': False, 'hires_streamable': False, 'position': 41, 'created_at': 1669008016, 'playlist_track_id': 2038671435}, {'maximum_bit_depth': 16, 'copyright': '℗ 2014 Big Machine Records, LLC', 'performers': 'Max Martin, Producer, ComposerLyricist - Shellback, Producer, ComposerLyricist - Mattias Bylund, String Arranger, AssociatedPerformer - Taylor Swift, MainArtist, ComposerLyricist', 'audio_info': {'replaygain_track_peak': 0.99884, 'replaygain_track_gain': -8.06}, 'performer': {'name': 'Taylor Swift', 'id': 70899}, 'album': {'image': {'small': 'https://static.qobuz.com/images/covers/ta/ym/id29re6slymta_230.jpg', 'thumbnail': 'https://static.qobuz.com/images/covers/ta/ym/id29re6slymta_50.jpg', 'large': 'https://static.qobuz.com/images/covers/ta/ym/id29re6slymta_600.jpg'}, 'maximum_bit_depth': 16, 'media_count': 1, 'artist': {'image': None, 'name': 'Taylor Swift', 'id': 70899, 'albums_count': 952, 'slug': 'taylor-swift', 'picture': None}, 'upc': '0843930013609', 'released_at': 1414364400, 'label': {'name': 'Big Machine Records, LLC', 'id': 17893, 'albums_count': 985, 'supplier_id': 1, 'slug': 'big-machine-records-llc'}, 'title': '1989', 'qobuz_id': 53965341, 'version': 'Deluxe Edition', 'duration': 4101, 'parental_warning': False, 'tracks_count': 19, 'popularity': 0, 'genre': {'path': [112, 117], 'color': '#0070ef', 'name': 'Pop', 'id': 117, 'slug': 'pop'}, 'maximum_channel_count': 2, 'id': 'id29re6slymta', 'maximum_sampling_rate': 44.1, 'previewable': True, 'sampleable': True, 'displayable': True, 'streamable': False, 'streamable_at': 1683529200, 'downloadable': False, 'purchasable_at': None, 'purchasable': False, 'release_date_original': '2014-10-27', 'release_date_download': '2014-10-27', 'release_date_stream': '2014-10-27', 'release_date_purchase': '2014-10-27', 'hires': False, 'hires_streamable': False}, 'work': None, 'composer': {'name': 'Shellback', 'id': 153029}, 'isrc': 'USCJY1431379', 'title': 'Wildest Dreams', 'version': None, 'duration': 218, 'parental_warning': False, 'track_number': 9, 'maximum_channel_count': 2, 'id': 53965350, 'media_number': 1, 'maximum_sampling_rate': 44.1, 'release_date_original': None, 'release_date_download': None, 'release_date_stream': None, 'release_date_purchase': None, 'purchasable': True, 'streamable': False, 'previewable': True, 'sampleable': True, 'downloadable': True, 'displayable': True, 'purchasable_at': 1683702000, 'streamable_at': 1683529200, 'hires': False, 'hires_streamable': False, 'position': 42, 'created_at': 1669008161, 'playlist_track_id': 2038683574}, {'maximum_bit_depth': 16, 'copyright': '℗ 2006 Big Machine Records', 'performers': 'Taylor Swift, MainArtist, ComposerLyricist', 'audio_info': {'replaygain_track_peak': 0.872101, 'replaygain_track_gain': -8.73}, 'performer': {'name': 'Taylor Swift', 'id': 70899}, 'album': {'image': {'small': 'https://static.qobuz.com/images/covers/oa/9h/qwrzlxac89hoa_230.jpg', 'thumbnail': 'https://static.qobuz.com/images/covers/oa/9h/qwrzlxac89hoa_50.jpg', 'large': 'https://static.qobuz.com/images/covers/oa/9h/qwrzlxac89hoa_600.jpg'}, 'maximum_bit_depth': 16, 'media_count': 1, 'artist': {'image': None, 'name': 'Taylor Swift', 'id': 70899, 'albums_count': 952, 'slug': 'taylor-swift', 'picture': None}, 'upc': '0843930000821', 'released_at': 1161640800, 'label': {'name': 'Big Machine Records, LLC', 'id': 17893, 'albums_count': 985, 'supplier_id': 1, 'slug': 'big-machine-records-llc'}, 'title': 'Taylor Swift', 'qobuz_id': 54302100, 'version': None, 'duration': 3196, 'parental_warning': False, 'tracks_count': 15, 'popularity': 0, 'genre': {'path': [4], 'color': '#0070ef', 'name': 'Country', 'id': 4, 'slug': 'country'}, 'maximum_channel_count': 2, 'id': 'qwrzlxac89hoa', 'maximum_sampling_rate': 44.1, 'previewable': True, 'sampleable': True, 'displayable': True, 'streamable': False, 'streamable_at': 1683529200, 'downloadable': False, 'purchasable_at': None, 'purchasable': False, 'release_date_original': '2006-10-24', 'release_date_download': '2006-10-24', 'release_date_stream': '2006-10-24', 'release_date_purchase': '2006-10-24', 'hires': False, 'hires_streamable': False}, 'work': None, 'composer': {'name': 'Taylor Swift', 'id': 70899}, 'isrc': 'USCJY0603008', 'title': 'Tim McGraw', 'version': None, 'duration': 231, 'parental_warning': False, 'track_number': 1, 'maximum_channel_count': 2, 'id': 54302101, 'media_number': 1, 'maximum_sampling_rate': 44.1, 'release_date_original': None, 'release_date_download': None, 'release_date_stream': None, 'release_date_purchase': None, 'purchasable': True, 'streamable': False, 'previewable': True, 'sampleable': True, 'downloadable': True, 'displayable': True, 'purchasable_at': 1683702000, 'streamable_at': 1683529200, 'hires': False, 'hires_streamable': False, 'position': 43, 'created_at': 1669042756, 'playlist_track_id': 2042175067}, {'maximum_bit_depth': 16, 'copyright': '℗ 2017 Big Machine Label Group, LLC', 'performers': 'Max Martin, Producer, ComposerLyricist - Shellback, Producer, ComposerLyricist - Taylor Swift, MainArtist, ComposerLyricist', 'audio_info': {'replaygain_track_peak': 0.99884, 'replaygain_track_gain': -8.55}, 'performer': {'name': 'Taylor Swift', 'id': 70899}, 'album': {'image': {'small': 'https://static.qobuz.com/images/covers/14/33/0084393003314_230.jpg', 'thumbnail': 'https://static.qobuz.com/images/covers/14/33/0084393003314_50.jpg', 'large': 'https://static.qobuz.com/images/covers/14/33/0084393003314_600.jpg'}, 'maximum_bit_depth': 16, 'media_count': 1, 'artist': {'image': None, 'name': 'Taylor Swift', 'id': 70899, 'albums_count': 952, 'slug': 'taylor-swift', 'picture': None}, 'upc': '0084393003314', 'released_at': 1510268400, 'label': {'name': 'Big Machine Records, LLC', 'id': 17893, 'albums_count': 985, 'supplier_id': 1, 'slug': 'big-machine-records-llc'}, 'title': 'reputation', 'qobuz_id': 45281657, 'version': None, 'duration': 3325, 'parental_warning': False, 'tracks_count': 15, 'popularity': 0, 'genre': {'path': [112, 117], 'color': '#0070ef', 'name': 'Pop', 'id': 117, 'slug': 'pop'}, 'maximum_channel_count': 2, 'id': '0084393003314', 'maximum_sampling_rate': 44.1, 'previewable': True, 'sampleable': True, 'displayable': True, 'streamable': False, 'streamable_at': 1683529200, 'downloadable': False, 'purchasable_at': None, 'purchasable': False, 'release_date_original': '2017-11-10', 'release_date_download': '2017-11-10', 'release_date_stream': '2017-11-10', 'release_date_purchase': '2017-11-10', 'hires': False, 'hires_streamable': False}, 'work': None, 'composer': {'name': 'Max Martin', 'id': 152762}, 'isrc': 'USCJY1750009', 'title': 'Gorgeous', 'version': None, 'duration': 208, 'parental_warning': False, 'track_number': 8, 'maximum_channel_count': 2, 'id': 45281665, 'media_number': 1, 'maximum_sampling_rate': 44.1, 'release_date_original': None, 'release_date_download': None, 'release_date_stream': None, 'release_date_purchase': None, 'purchasable': True, 'streamable': False, 'previewable': True, 'sampleable': True, 'downloadable': True, 'displayable': True, 'purchasable_at': 1683702000, 'streamable_at': 1683529200, 'hires': False, 'hires_streamable': False, 'position': 44, 'created_at': 1669008016, 'playlist_track_id': 2038671438}, {'maximum_bit_depth': 16, 'copyright': '℗ 2019 Taylor Swift', 'performers': 'John Hanes, Mix Engineer, StudioPersonnel - Serban Ghenea, Mixer, StudioPersonnel - Taylor Swift, Producer, Vocals, MainArtist, AssociatedPerformer, ComposerLyricist - Steve Hughes, Trombone, AssociatedPerformer - Frank Dukes, Producer - Joe Harrison, Guitar, AssociatedPerformer - Louis Bell, Producer, Keyboards, Programmer, Recording Engineer, AssociatedPerformer, StudioPersonnel, ComposerLyricist - Adam Feeney, Guitar, Programmer, AssociatedPerformer, ComposerLyricist - David Urquidi, Saxophone, AssociatedPerformer - Serafin Aguilar, Trumpet, AssociatedPerformer - Grant Strumwasser, Asst. Recording Engineer, StudioPersonnel', 'audio_info': {'replaygain_track_peak': 0.946533, 'replaygain_track_gain': -7.94}, 'performer': {'name': 'Taylor Swift', 'id': 70899}, 'album': {'image': {'small': 'https://static.qobuz.com/images/covers/xb/2u/h1r19zw2l2uxb_230.jpg', 'thumbnail': 'https://static.qobuz.com/images/covers/xb/2u/h1r19zw2l2uxb_50.jpg', 'large': 'https://static.qobuz.com/images/covers/xb/2u/h1r19zw2l2uxb_600.jpg'}, 'maximum_bit_depth': 16, 'media_count': 1, 'artist': {'image': None, 'name': 'Taylor Swift', 'id': 70899, 'albums_count': 1058, 'slug': 'taylor-swift', 'picture': None}, 'upc': '0602508009228', 'released_at': 1566511200, 'label': {'name': 'Taylor Swift', 'id': 313742, 'albums_count': 222, 'supplier_id': 1, 'slug': 'taylor-swift'}, 'title': 'Lover', 'qobuz_id': 68263894, 'version': None, 'duration': 3685, 'parental_warning': False, 'tracks_count': 18, 'popularity': 0, 'genre': {'path': [112, 117], 'color': '#0070ef', 'name': 'Pop', 'id': 117, 'slug': 'pop'}, 'maximum_channel_count': 2, 'id': 'h1r19zw2l2uxb', 'maximum_sampling_rate': 44.1, 'previewable': True, 'sampleable': True, 'displayable': True, 'streamable': False, 'streamable_at': 1692601200, 'downloadable': False, 'purchasable_at': None, 'purchasable': False, 'release_date_original': '2019-08-23', 'release_date_download': '2019-08-23', 'release_date_stream': '2019-08-23', 'release_date_purchase': '2019-08-23', 'hires': False, 'hires_streamable': False}, 'work': None, 'composer': {'name': 'Louis Bell', 'id': 1387582}, 'isrc': 'USUG11901471', 'title': 'I Forgot That You Existed', 'version': None, 'duration': 170, 'parental_warning': False, 'track_number': 1, 'maximum_channel_count': 2, 'id': 68263895, 'media_number': 1, 'maximum_sampling_rate': 44.1, 'release_date_original': None, 'release_date_download': None, 'release_date_stream': None, 'release_date_purchase': None, 'purchasable': True, 'streamable': False, 'previewable': True, 'sampleable': True, 'downloadable': True, 'displayable': True, 'purchasable_at': 1692601200, 'streamable_at': 1692601200, 'hires': False, 'hires_streamable': False, 'position': 45, 'created_at': 1669008016, 'playlist_track_id': 2038671439}, {'maximum_bit_depth': 24, 'copyright': '℗ 2021 Taylor Swift', 'performers': 'Max Bernstein, Electric Guitar, AssociatedPerformer - David Payne, Recording Engineer, StudioPersonnel - John Hanes, Engineer, StudioPersonnel - Serban Ghenea, Mixer, StudioPersonnel - Lowell Reynolds, Additional Engineer, Asst. Recording Engineer, StudioPersonnel - Jonathan Yudkin, Cello, AssociatedPerformer - Caitlin Evanson, Background Vocalist, AssociatedPerformer - Taylor Swift, Producer, Vocals, MainArtist, AssociatedPerformer, ComposerLyricist - Matt Billingslea, Drums, AssociatedPerformer - Christopher Rowe, Producer, Recording Engineer, Background Vocalist, AssociatedPerformer, StudioPersonnel - Randy Merrill, Mastering Engineer, StudioPersonnel - Paul Sidoti, Electric Guitar, AssociatedPerformer - Mike Meadows, Acoustic Guitar, Mandolin, AssociatedPerformer - Amos Heller, Bass, AssociatedPerformer - Derek Garten, Additional Engineer, StudioPersonnel', 'audio_info': {'replaygain_track_peak': 1, 'replaygain_track_gain': -9.94}, 'performer': {'name': 'Taylor Swift', 'id': 70899}, 'album': {'image': {'small': 'https://static.qobuz.com/images/covers/ic/0c/r8361te6k0cic_230.jpg', 'thumbnail': 'https://static.qobuz.com/images/covers/ic/0c/r8361te6k0cic_50.jpg', 'large': 'https://static.qobuz.com/images/covers/ic/0c/r8361te6k0cic_600.jpg'}, 'maximum_bit_depth': 24, 'media_count': 1, 'artist': {'image': None, 'name': 'Taylor Swift', 'id': 70899, 'albums_count': 1084, 'slug': 'taylor-swift', 'picture': None}, 'upc': '0602435838908', 'released_at': 1617919200, 'label': {'name': 'Taylor Swift', 'id': 313742, 'albums_count': 222, 'supplier_id': 1, 'slug': 'taylor-swift'}, 'title': \"Fearless (Taylor's Version)\", 'qobuz_id': 119360712, 'version': None, 'duration': 6380, 'parental_warning': False, 'tracks_count': 26, 'popularity': 0, 'genre': {'path': [4], 'color': '#0070ef', 'name': 'Country', 'id': 4, 'slug': 'country'}, 'maximum_channel_count': 2, 'id': 'r8361te6k0cic', 'maximum_sampling_rate': 96, 'previewable': True, 'sampleable': True, 'displayable': True, 'streamable': False, 'streamable_at': 1695106800, 'downloadable': False, 'purchasable_at': None, 'purchasable': False, 'release_date_original': '2021-04-09', 'release_date_download': '2021-04-09', 'release_date_stream': '2021-04-09', 'release_date_purchase': '2021-04-09', 'hires': True, 'hires_streamable': False}, 'work': None, 'composer': {'name': 'Taylor Swift', 'id': 70899}, 'isrc': 'USUG12100619', 'title': 'Fifteen (Taylor’s Version)', 'version': None, 'duration': 294, 'parental_warning': False, 'track_number': 2, 'maximum_channel_count': 2, 'id': 119360714, 'media_number': 1, 'maximum_sampling_rate': 96, 'release_date_original': None, 'release_date_download': None, 'release_date_stream': None, 'release_date_purchase': None, 'purchasable': True, 'streamable': False, 'previewable': True, 'sampleable': True, 'downloadable': True, 'displayable': True, 'purchasable_at': 1695106800, 'streamable_at': 1695106800, 'hires': True, 'hires_streamable': False, 'position': 46, 'created_at': 1669042079, 'playlist_track_id': 2042106915}, {'maximum_bit_depth': 16, 'copyright': '℗ 2010 Big Machine Records, LLC', 'performers': 'Tommy Sims, Bass Guitar, AssociatedPerformer - Tim Lauer, Piano, Hammond B3, AssociatedPerformer - Nathan Chapman, Producer, Banjo, Acoustic Guitar, Bass Guitar, Electric Guitar, Mandolin, Organ, Piano, Synthesizer, Digital Piano, AssociatedPerformer - Bryan Sutton, Acoustic Guitar, AssociatedPerformer - Shannon Forrest, Drums, AssociatedPerformer - Eric Darken, Percussion, AssociatedPerformer - Rob Hajacos, Fiddle, AssociatedPerformer - John Gardner, Drums, AssociatedPerformer - Nick Buda, Drums, AssociatedPerformer - Al Wilson, Percussion, AssociatedPerformer - Taylor Swift, Producer, Acoustic Guitar, Vocalist, MainArtist, AssociatedPerformer, ComposerLyricist - Smith Curry, Steel Guitar, AssociatedPerformer - Tim Marks, Bass Guitar, AssociatedPerformer - Grant Mickelson, Electric Guitar, AssociatedPerformer - Paul Sidoti, Electric Guitar, AssociatedPerformer - Mike Meadows, Electric Guitar, AssociatedPerformer - Amos Heller, Bass Guitar, AssociatedPerformer', 'audio_info': {'replaygain_track_peak': 0.96106, 'replaygain_track_gain': -11.37}, 'performer': {'name': 'Taylor Swift', 'id': 70899}, 'album': {'image': {'small': 'https://static.qobuz.com/images/covers/mc/df/qsgwxoyd8dfmc_230.jpg', 'thumbnail': 'https://static.qobuz.com/images/covers/mc/df/qsgwxoyd8dfmc_50.jpg', 'large': 'https://static.qobuz.com/images/covers/mc/df/qsgwxoyd8dfmc_600.jpg'}, 'maximum_bit_depth': 16, 'media_count': 1, 'artist': {'image': None, 'name': 'Taylor Swift', 'id': 70899, 'albums_count': 952, 'slug': 'taylor-swift', 'picture': None}, 'upc': '0843930004010', 'released_at': 1287957600, 'label': {'name': 'Big Machine Records, LLC', 'id': 17893, 'albums_count': 985, 'supplier_id': 1, 'slug': 'big-machine-records-llc'}, 'title': 'Speak Now', 'qobuz_id': 54330493, 'version': None, 'duration': 4013, 'parental_warning': False, 'tracks_count': 14, 'popularity': 0, 'genre': {'path': [4], 'color': '#0070ef', 'name': 'Country', 'id': 4, 'slug': 'country'}, 'maximum_channel_count': 2, 'id': 'qsgwxoyd8dfmc', 'maximum_sampling_rate': 44.1, 'previewable': True, 'sampleable': True, 'displayable': True, 'streamable': False, 'streamable_at': 1683529200, 'downloadable': False, 'purchasable_at': None, 'purchasable': False, 'release_date_original': '2010-10-25', 'release_date_download': '2010-10-25', 'release_date_stream': '2010-10-25', 'release_date_purchase': '2010-10-25', 'hires': False, 'hires_streamable': False}, 'work': None, 'composer': {'name': 'Taylor Swift', 'id': 70899}, 'isrc': 'USCJY1003656', 'title': 'Sparks Fly', 'version': None, 'duration': 260, 'parental_warning': False, 'track_number': 2, 'maximum_channel_count': 2, 'id': 54330495, 'media_number': 1, 'maximum_sampling_rate': 44.1, 'release_date_original': None, 'release_date_download': None, 'release_date_stream': None, 'release_date_purchase': None, 'purchasable': True, 'streamable': False, 'previewable': True, 'sampleable': True, 'downloadable': True, 'displayable': True, 'purchasable_at': 1683702000, 'streamable_at': 1683529200, 'hires': False, 'hires_streamable': False, 'position': 47, 'created_at': 1669042626, 'playlist_track_id': 2042161037}, {'maximum_bit_depth': 24, 'copyright': '℗ 2021 Taylor Swift', 'performers': 'Max Bernstein, Electric Guitar, AssociatedPerformer - David Payne, Recording Engineer, StudioPersonnel - David Cook, Piano, AssociatedPerformer - Serban Ghenea, Mixer, StudioPersonnel - Jonathan Yudkin, Bouzouki, Strings, AssociatedPerformer - Dan Burns, Additional Engineer, StudioPersonnel - Taylor Swift, Producer, Vocals, Background Vocalist, MainArtist, AssociatedPerformer, ComposerLyricist - Matt Billingslea, Drums, Percussion, AssociatedPerformer - Christopher Rowe, Producer, Vocal Engineer, StudioPersonnel - Austin Brown, Editor, Asst. Recording Engineer, StudioPersonnel - Randy Merrill, Mastering Engineer, StudioPersonnel - Paul Sidoti, Electric Guitar, AssociatedPerformer - Mike Meadows, Synthesizer, Hammond B3, AssociatedPerformer - Amos Heller, Bass Guitar, AssociatedPerformer - Derek Garten, Editor, Engineer, StudioPersonnel - Bryce Bordone, Mix Engineer, StudioPersonnel', 'audio_info': {'replaygain_track_peak': 1, 'replaygain_track_gain': -10.52}, 'performer': {'name': 'Taylor Swift', 'id': 70899}, 'album': {'image': {'small': 'https://static.qobuz.com/images/covers/6a/n5/oulc1w5vun56a_230.jpg', 'thumbnail': 'https://static.qobuz.com/images/covers/6a/n5/oulc1w5vun56a_50.jpg', 'large': 'https://static.qobuz.com/images/covers/6a/n5/oulc1w5vun56a_600.jpg'}, 'maximum_bit_depth': 24, 'media_count': 1, 'artist': {'image': None, 'name': 'Taylor Swift', 'id': 70899, 'albums_count': 1004, 'slug': 'taylor-swift', 'picture': None}, 'upc': '0602438993857', 'released_at': 1636671600, 'label': {'name': 'Taylor Swift', 'id': 313742, 'albums_count': 222, 'supplier_id': 1, 'slug': 'taylor-swift'}, 'title': \"Red (Taylor's Version)\", 'qobuz_id': 138305275, 'version': None, 'duration': 7826, 'parental_warning': True, 'tracks_count': 30, 'popularity': 0, 'genre': {'path': [112, 117], 'color': '#0070ef', 'name': 'Pop', 'id': 117, 'slug': 'pop'}, 'maximum_channel_count': 2, 'id': 'oulc1w5vun56a', 'maximum_sampling_rate': 96, 'previewable': True, 'sampleable': True, 'displayable': True, 'streamable': False, 'streamable_at': 1688886000, 'downloadable': False, 'purchasable_at': None, 'purchasable': False, 'release_date_original': '2021-11-12', 'release_date_download': '2021-11-12', 'release_date_stream': '2021-11-12', 'release_date_purchase': '2021-11-12', 'hires': True, 'hires_streamable': False}, 'work': None, 'composer': {'name': 'Taylor Swift', 'id': 70899}, 'isrc': 'USUG12103662', 'title': \"Red (Taylor's Version)\", 'version': None, 'duration': 223, 'parental_warning': False, 'track_number': 2, 'maximum_channel_count': 2, 'id': 138305277, 'media_number': 1, 'maximum_sampling_rate': 96, 'release_date_original': None, 'release_date_download': None, 'release_date_stream': None, 'release_date_purchase': None, 'purchasable': True, 'streamable': False, 'previewable': True, 'sampleable': True, 'downloadable': True, 'displayable': True, 'purchasable_at': 1688886000, 'streamable_at': 1688886000, 'hires': True, 'hires_streamable': False, 'position': 48, 'created_at': 1669042325, 'playlist_track_id': 2042130414}, {'maximum_bit_depth': 24, 'copyright': '℗ 2020 Taylor Swift', 'performers': \"Greg Calbi, Mastering Engineer, StudioPersonnel - Steve Fallone, Mastering Engineer, StudioPersonnel - Clarice Jensen, Cello, AssociatedPerformer - Robin Baynton, Vocal Engineer, StudioPersonnel - Taylor Swift, MainArtist, ComposerLyricist - Aaron Dessner, Producer, Acoustic Guitar, Electric Guitar, Percussion, Recording Engineer, Bass, Synthesizer, Drum Machine, AssociatedPerformer, StudioPersonnel, ComposerLyricist - The National, FeaturedArtist - Jason Treuting, Drums, Percussion, AssociatedPerformer - Sean O'Brien, Vocal Engineer, StudioPersonnel - Scott Devendorf, Bass Guitar, Piano, AssociatedPerformer - Bryan Devendorf, Drums, Drum Machine, AssociatedPerformer - Bryce Dessner, Producer, Piano, Synthesizer, Unknown, Other, AssociatedPerformer, ComposerLyricist - Yuki Numata Resnick, Violin, AssociatedPerformer - Jonathan Low, Mixer, Recording Engineer, Vocal Engineer, StudioPersonnel - William Bowery, ComposerLyricist\", 'audio_info': {'replaygain_track_peak': 0.984955, 'replaygain_track_gain': -8.94}, 'performer': {'name': 'Taylor Swift', 'id': 70899}, 'album': {'image': {'small': 'https://static.qobuz.com/images/covers/nb/j4/bbqhrrpxdj4nb_230.jpg', 'thumbnail': 'https://static.qobuz.com/images/covers/nb/j4/bbqhrrpxdj4nb_50.jpg', 'large': 'https://static.qobuz.com/images/covers/nb/j4/bbqhrrpxdj4nb_600.jpg'}, 'maximum_bit_depth': 24, 'media_count': 1, 'artist': {'image': None, 'name': 'Taylor Swift', 'id': 70899, 'albums_count': 1004, 'slug': 'taylor-swift', 'picture': None}, 'upc': '0602435648545', 'released_at': 1607641200, 'label': {'name': 'Taylor Swift', 'id': 313742, 'albums_count': 222, 'supplier_id': 1, 'slug': 'taylor-swift'}, 'title': 'evermore (Explicit)', 'qobuz_id': 108768133, 'version': None, 'duration': 3638, 'parental_warning': True, 'tracks_count': 15, 'popularity': 0, 'genre': {'path': [112, 119, 113], 'color': '#0070ef', 'name': 'Alternative & Indie', 'id': 113, 'slug': 'alternatif-et-inde'}, 'maximum_channel_count': 2, 'id': 'bbqhrrpxdj4nb', 'maximum_sampling_rate': 88.2, 'previewable': True, 'sampleable': True, 'displayable': True, 'streamable': False, 'streamable_at': 1688886000, 'downloadable': False, 'purchasable_at': None, 'purchasable': False, 'release_date_original': '2020-12-11', 'release_date_download': '2020-12-11', 'release_date_stream': '2020-12-11', 'release_date_purchase': '2020-12-11', 'hires': True, 'hires_streamable': False}, 'work': None, 'composer': {'name': 'Aaron Dessner', 'id': 630289}, 'isrc': 'USUG12004711', 'title': 'coney island', 'version': 'feat. The National', 'duration': 275, 'parental_warning': False, 'track_number': 9, 'maximum_channel_count': 2, 'id': 108768142, 'media_number': 1, 'maximum_sampling_rate': 88.2, 'release_date_original': None, 'release_date_download': None, 'release_date_stream': None, 'release_date_purchase': None, 'purchasable': True, 'streamable': False, 'previewable': True, 'sampleable': True, 'downloadable': True, 'displayable': True, 'purchasable_at': 1688886000, 'streamable_at': 1688886000, 'hires': True, 'hires_streamable': False, 'position': 49, 'created_at': 1669008016, 'playlist_track_id': 2038671443}, {'maximum_bit_depth': 24, 'copyright': '℗ 2020 Taylor Swift', 'performers': 'Rob Moose, Viola, Violin, AssociatedPerformer - Bon Iver, FeaturedArtist - Justin Vernon, Vocal Engineer, StudioPersonnel, ComposerLyricist - Taylor Swift, MainArtist, ComposerLyricist - Laura Sisk, Vocal Engineer, StudioPersonnel - Aaron Dessner, Producer, Electric Guitar, Percussion, Piano, Recording Engineer, Synthesizer, Drum Programming, AssociatedPerformer, StudioPersonnel - Bryce Dessner, Unknown, Other - Randy Merrill, Mastering Engineer, StudioPersonnel - Jonathan Low, Mixer, Recording Engineer, StudioPersonnel - William Bowery, ComposerLyricist - Joe Alwyn, Producer', 'audio_info': {'replaygain_track_peak': 0.972198, 'replaygain_track_gain': -9.02}, 'performer': {'name': 'Taylor Swift', 'id': 70899}, 'album': {'image': {'small': 'https://static.qobuz.com/images/covers/mb/bc/gpfwxb50vbcmb_230.jpg', 'thumbnail': 'https://static.qobuz.com/images/covers/mb/bc/gpfwxb50vbcmb_50.jpg', 'large': 'https://static.qobuz.com/images/covers/mb/bc/gpfwxb50vbcmb_600.jpg'}, 'maximum_bit_depth': 24, 'media_count': 1, 'artist': {'image': None, 'name': 'Taylor Swift', 'id': 70899, 'albums_count': 1004, 'slug': 'taylor-swift', 'picture': None}, 'upc': '0602435037967', 'released_at': 1595541600, 'label': {'name': 'Taylor Swift', 'id': 313742, 'albums_count': 222, 'supplier_id': 1, 'slug': 'taylor-swift'}, 'title': 'Folklore (Explicit)', 'qobuz_id': 98522697, 'version': None, 'duration': 3807, 'parental_warning': True, 'tracks_count': 16, 'popularity': 0, 'genre': {'path': [112, 119, 113], 'color': '#0070ef', 'name': 'Alternative & Indie', 'id': 113, 'slug': 'alternatif-et-inde'}, 'maximum_channel_count': 2, 'id': 'gpfwxb50vbcmb', 'maximum_sampling_rate': 44.1, 'previewable': True, 'sampleable': True, 'displayable': True, 'streamable': False, 'streamable_at': 1688886000, 'downloadable': False, 'purchasable_at': None, 'purchasable': False, 'release_date_original': '2020-07-24', 'release_date_download': '2020-07-24', 'release_date_stream': '2020-07-24', 'release_date_purchase': '2020-07-24', 'hires': True, 'hires_streamable': False}, 'work': None, 'composer': {'name': 'Justin Vernon', 'id': 527173}, 'isrc': 'USUG12002838', 'title': 'exile', 'version': None, 'duration': 285, 'parental_warning': False, 'track_number': 4, 'maximum_channel_count': 2, 'id': 98522701, 'media_number': 1, 'maximum_sampling_rate': 44.1, 'release_date_original': None, 'release_date_download': None, 'release_date_stream': None, 'release_date_purchase': None, 'purchasable': True, 'streamable': False, 'previewable': True, 'sampleable': True, 'downloadable': True, 'displayable': True, 'purchasable_at': 1688886000, 'streamable_at': 1688886000, 'hires': True, 'hires_streamable': False, 'position': 50, 'created_at': 1669008016, 'playlist_track_id': 2038671444}]}\n"
     ]
    }
   ],
   "source": [
    "# session_guest = qobuz.Session(authenticate=False)\n",
    "# We are reusing the unauthenticated qobuz.Session object from before.\n",
    "\n",
    "playlist_json = session_guest.get_playlist(playlist_id)\n",
    "for key, value in playlist_json.items():\n",
    "    print(key, value, sep=\": \")"
   ]
  },
  {
   "attachments": {},
   "cell_type": "markdown",
   "metadata": {},
   "source": [
    "Just like albums, playlists contain tracks. Here is the JSON information for the tracks:"
   ]
  },
  {
   "cell_type": "code",
   "execution_count": 43,
   "metadata": {
    "tags": [
     "hide-output"
    ]
   },
   "outputs": [
    {
     "name": "stdout",
     "output_type": "stream",
     "text": [
      "{'maximum_bit_depth': 16, 'copyright': '℗ 2014 Big Machine Records, LLC', 'performers': 'Max Martin, Producer, ComposerLyricist - Shellback, Producer, ComposerLyricist - Taylor Swift, MainArtist, ComposerLyricist', 'audio_info': {'replaygain_track_peak': 0.99884, 'replaygain_track_gain': -9.84}, 'performer': {'name': 'Taylor Swift', 'id': 70899}, 'album': {'image': {'small': 'https://static.qobuz.com/images/covers/ta/ym/id29re6slymta_230.jpg', 'thumbnail': 'https://static.qobuz.com/images/covers/ta/ym/id29re6slymta_50.jpg', 'large': 'https://static.qobuz.com/images/covers/ta/ym/id29re6slymta_600.jpg'}, 'maximum_bit_depth': 16, 'media_count': 1, 'artist': {'image': None, 'name': 'Taylor Swift', 'id': 70899, 'albums_count': 952, 'slug': 'taylor-swift', 'picture': None}, 'upc': '0843930013609', 'released_at': 1414364400, 'label': {'name': 'Big Machine Records, LLC', 'id': 17893, 'albums_count': 985, 'supplier_id': 1, 'slug': 'big-machine-records-llc'}, 'title': '1989', 'qobuz_id': 53965341, 'version': 'Deluxe Edition', 'duration': 4101, 'parental_warning': False, 'tracks_count': 19, 'popularity': 0, 'genre': {'path': [112, 117], 'color': '#0070ef', 'name': 'Pop', 'id': 117, 'slug': 'pop'}, 'maximum_channel_count': 2, 'id': 'id29re6slymta', 'maximum_sampling_rate': 44.1, 'previewable': True, 'sampleable': True, 'displayable': True, 'streamable': False, 'streamable_at': 1683529200, 'downloadable': False, 'purchasable_at': None, 'purchasable': False, 'release_date_original': '2014-10-27', 'release_date_download': '2014-10-27', 'release_date_stream': '2014-10-27', 'release_date_purchase': '2014-10-27', 'hires': False, 'hires_streamable': False}, 'work': None, 'composer': {'name': 'Shellback', 'id': 153029}, 'isrc': 'USCJY1431349', 'title': 'Shake It Off', 'version': None, 'duration': 219, 'parental_warning': False, 'track_number': 6, 'maximum_channel_count': 2, 'id': 53965347, 'media_number': 1, 'maximum_sampling_rate': 44.1, 'release_date_original': None, 'release_date_download': None, 'release_date_stream': None, 'release_date_purchase': None, 'purchasable': True, 'streamable': False, 'previewable': True, 'sampleable': True, 'downloadable': True, 'displayable': True, 'purchasable_at': 1683702000, 'streamable_at': 1683529200, 'hires': False, 'hires_streamable': False, 'position': 1, 'created_at': 1669008107, 'playlist_track_id': 2038678431}\n",
      "{'maximum_bit_depth': 24, 'copyright': '℗ 2021 Taylor Swift', 'performers': 'Max Martin, ComposerLyricist - Shellback, Producer, ComposerLyricist - Max Bernstein, Synthesizer, AssociatedPerformer - Serban Ghenea, Mixer, StudioPersonnel - Sam Holland, Vocal Engineer, StudioPersonnel - Dan Burns, Additional Engineer, Programming, AssociatedPerformer, StudioPersonnel - Taylor Swift, Producer, Vocals, Background Vocalist, MainArtist, AssociatedPerformer, ComposerLyricist - Matt Billingslea, Drums, Drum Programming, AssociatedPerformer - Christopher Rowe, Producer, Vocal Engineer, StudioPersonnel - Randy Merrill, Mastering Engineer, StudioPersonnel - Paul Sidoti, Electric Guitar, AssociatedPerformer - Mike Meadows, Acoustic Guitar, Synthesizer, AssociatedPerformer - Amos Heller, Bass Guitar, Synth Bass, AssociatedPerformer - Derek Garten, Editor, Engineer, StudioPersonnel - Bryce Bordone, Mix Engineer, StudioPersonnel', 'audio_info': {'replaygain_track_peak': 1, 'replaygain_track_gain': -9.54}, 'performer': {'name': 'Taylor Swift', 'id': 70899}, 'album': {'image': {'small': 'https://static.qobuz.com/images/covers/6a/n5/oulc1w5vun56a_230.jpg', 'thumbnail': 'https://static.qobuz.com/images/covers/6a/n5/oulc1w5vun56a_50.jpg', 'large': 'https://static.qobuz.com/images/covers/6a/n5/oulc1w5vun56a_600.jpg'}, 'maximum_bit_depth': 24, 'media_count': 1, 'artist': {'image': None, 'name': 'Taylor Swift', 'id': 70899, 'albums_count': 1004, 'slug': 'taylor-swift', 'picture': None}, 'upc': '0602438993857', 'released_at': 1636671600, 'label': {'name': 'Taylor Swift', 'id': 313742, 'albums_count': 222, 'supplier_id': 1, 'slug': 'taylor-swift'}, 'title': \"Red (Taylor's Version)\", 'qobuz_id': 138305275, 'version': None, 'duration': 7826, 'parental_warning': True, 'tracks_count': 30, 'popularity': 0, 'genre': {'path': [112, 117], 'color': '#0070ef', 'name': 'Pop', 'id': 117, 'slug': 'pop'}, 'maximum_channel_count': 2, 'id': 'oulc1w5vun56a', 'maximum_sampling_rate': 96, 'previewable': True, 'sampleable': True, 'displayable': True, 'streamable': False, 'streamable_at': 1688886000, 'downloadable': False, 'purchasable_at': None, 'purchasable': False, 'release_date_original': '2021-11-12', 'release_date_download': '2021-11-12', 'release_date_stream': '2021-11-12', 'release_date_purchase': '2021-11-12', 'hires': True, 'hires_streamable': False}, 'work': None, 'composer': {'name': 'Taylor Swift', 'id': 70899}, 'isrc': 'USUG12103668', 'title': \"We Are Never Ever Getting Back Together (Taylor's Version)\", 'version': None, 'duration': 193, 'parental_warning': False, 'track_number': 8, 'maximum_channel_count': 2, 'id': 138305283, 'media_number': 1, 'maximum_sampling_rate': 96, 'release_date_original': None, 'release_date_download': None, 'release_date_stream': None, 'release_date_purchase': None, 'purchasable': True, 'streamable': False, 'previewable': True, 'sampleable': True, 'downloadable': True, 'displayable': True, 'purchasable_at': 1688886000, 'streamable_at': 1688886000, 'hires': True, 'hires_streamable': False, 'position': 2, 'created_at': 1669042281, 'playlist_track_id': 2042125701}\n",
      "{'maximum_bit_depth': 16, 'copyright': '℗ 2019 Taylor Swift', 'performers': 'John Hanes, Mix Engineer, StudioPersonnel - Joel Little, Producer, Keyboards, Drum Programmer, Recording Engineer, AssociatedPerformer, StudioPersonnel, ComposerLyricist - Serban Ghenea, Mixer, StudioPersonnel - Taylor Swift, Producer, Vocals, MainArtist, AssociatedPerformer, ComposerLyricist', 'audio_info': {'replaygain_track_peak': 1, 'replaygain_track_gain': -10.43}, 'performer': {'name': 'Taylor Swift', 'id': 70899}, 'album': {'image': {'small': 'https://static.qobuz.com/images/covers/xb/2u/h1r19zw2l2uxb_230.jpg', 'thumbnail': 'https://static.qobuz.com/images/covers/xb/2u/h1r19zw2l2uxb_50.jpg', 'large': 'https://static.qobuz.com/images/covers/xb/2u/h1r19zw2l2uxb_600.jpg'}, 'maximum_bit_depth': 16, 'media_count': 1, 'artist': {'image': None, 'name': 'Taylor Swift', 'id': 70899, 'albums_count': 1058, 'slug': 'taylor-swift', 'picture': None}, 'upc': '0602508009228', 'released_at': 1566511200, 'label': {'name': 'Taylor Swift', 'id': 313742, 'albums_count': 222, 'supplier_id': 1, 'slug': 'taylor-swift'}, 'title': 'Lover', 'qobuz_id': 68263894, 'version': None, 'duration': 3685, 'parental_warning': False, 'tracks_count': 18, 'popularity': 0, 'genre': {'path': [112, 117], 'color': '#0070ef', 'name': 'Pop', 'id': 117, 'slug': 'pop'}, 'maximum_channel_count': 2, 'id': 'h1r19zw2l2uxb', 'maximum_sampling_rate': 44.1, 'previewable': True, 'sampleable': True, 'displayable': True, 'streamable': False, 'streamable_at': 1692601200, 'downloadable': False, 'purchasable_at': None, 'purchasable': False, 'release_date_original': '2019-08-23', 'release_date_download': '2019-08-23', 'release_date_stream': '2019-08-23', 'release_date_purchase': '2019-08-23', 'hires': False, 'hires_streamable': False}, 'work': None, 'composer': {'name': 'Joel Little', 'id': 309079}, 'isrc': 'USUG11901470', 'title': 'You Need To Calm Down', 'version': None, 'duration': 169, 'parental_warning': False, 'track_number': 14, 'maximum_channel_count': 2, 'id': 68263908, 'media_number': 1, 'maximum_sampling_rate': 44.1, 'release_date_original': None, 'release_date_download': None, 'release_date_stream': None, 'release_date_purchase': None, 'purchasable': True, 'streamable': False, 'previewable': True, 'sampleable': True, 'downloadable': True, 'displayable': True, 'purchasable_at': 1692601200, 'streamable_at': 1692601200, 'hires': False, 'hires_streamable': False, 'position': 3, 'created_at': 1669008016, 'playlist_track_id': 2038671397}\n",
      "{'maximum_bit_depth': 16, 'copyright': '℗ 2022 Taylor Swift', 'performers': 'Serban Ghenea, Mixer, StudioPersonnel - Taylor Swift, Producer, Vocals, MainArtist, AssociatedPerformer, ComposerLyricist - Laura Sisk, Recording Engineer, StudioPersonnel - John Rooney, Asst. Recording Engineer, StudioPersonnel - Jon Sher, Asst. Recording Engineer, StudioPersonnel - Jack Antonoff, Producer, Drums, Acoustic Guitar, Percussion, Recording Engineer, Bass, Synthesizer, Mellotron, Wurlitzer Organ, Programming, Background Vocalist, AssociatedPerformer, StudioPersonnel, ComposerLyricist - Randy Merrill, Mastering Engineer, StudioPersonnel - Lorenzo Wolff, Recording Engineer, StudioPersonnel - Bryce Bordone, Assistant Mixer, StudioPersonnel - Bobby Hawk, Violin, AssociatedPerformer - Megan Searl, Asst. Recording Engineer, StudioPersonnel', 'audio_info': {'replaygain_track_peak': 1, 'replaygain_track_gain': -9.28}, 'performer': {'name': 'Taylor Swift', 'id': 70899}, 'album': {'image': {'small': 'https://static.qobuz.com/images/covers/mc/aa/iy0pg1l2laamc_230.jpg', 'thumbnail': 'https://static.qobuz.com/images/covers/mc/aa/iy0pg1l2laamc_50.jpg', 'large': 'https://static.qobuz.com/images/covers/mc/aa/iy0pg1l2laamc_600.jpg'}, 'maximum_bit_depth': 16, 'media_count': 1, 'artist': {'image': None, 'name': 'Taylor Swift', 'id': 70899, 'albums_count': 1043, 'slug': 'taylor-swift', 'picture': None}, 'upc': '0602448638793', 'released_at': 1666303200, 'label': {'name': 'Taylor Swift', 'id': 313742, 'albums_count': 222, 'supplier_id': 1, 'slug': 'taylor-swift'}, 'title': 'Midnights', 'qobuz_id': 181281745, 'version': None, 'duration': 2630, 'parental_warning': True, 'tracks_count': 13, 'popularity': 0, 'genre': {'path': [112, 117], 'color': '#0070ef', 'name': 'Pop', 'id': 117, 'slug': 'pop'}, 'maximum_channel_count': 2, 'id': 'iy0pg1l2laamc', 'maximum_sampling_rate': 44.1, 'previewable': True, 'sampleable': True, 'displayable': True, 'streamable': False, 'streamable_at': 1691305200, 'downloadable': False, 'purchasable_at': None, 'purchasable': False, 'release_date_original': '2022-10-21', 'release_date_download': '2022-10-21', 'release_date_stream': '2022-10-21', 'release_date_purchase': '2022-10-21', 'hires': False, 'hires_streamable': False}, 'work': None, 'composer': {'name': 'Jack Antonoff', 'id': 778282}, 'isrc': 'USUG12205736', 'title': 'Anti-Hero', 'version': None, 'duration': 200, 'parental_warning': False, 'track_number': 3, 'maximum_channel_count': 2, 'id': 181281748, 'media_number': 1, 'maximum_sampling_rate': 44.1, 'release_date_original': None, 'release_date_download': None, 'release_date_stream': None, 'release_date_purchase': None, 'purchasable': True, 'streamable': False, 'previewable': True, 'sampleable': True, 'downloadable': True, 'displayable': True, 'purchasable_at': 1691305200, 'streamable_at': 1691305200, 'hires': False, 'hires_streamable': False, 'position': 4, 'created_at': 1669008016, 'playlist_track_id': 2038671398}\n",
      "{'maximum_bit_depth': 24, 'copyright': '℗ 2021 Taylor Swift', 'performers': 'Max Bernstein, Electric Guitar, AssociatedPerformer - David Payne, Recording Engineer, StudioPersonnel - John Hanes, Engineer, StudioPersonnel - Serban Ghenea, Mixer, StudioPersonnel - Sam Holland, Vocal Engineer, StudioPersonnel - Jonathan Yudkin, Fiddle, AssociatedPerformer - Caitlin Evanson, Background Vocalist, AssociatedPerformer - Taylor Swift, Producer, Vocals, MainArtist, AssociatedPerformer, ComposerLyricist - Matt Billingslea, Drums, AssociatedPerformer - Christopher Rowe, Producer, Recording Engineer, StudioPersonnel - Sean Badum, Asst. Recording Engineer, StudioPersonnel - Randy Merrill, Mastering Engineer, StudioPersonnel - Paul Sidoti, Electric Guitar, Background Vocalist, AssociatedPerformer - Mike Meadows, Banjo, Acoustic Guitar, Mandolin, Background Vocalist, AssociatedPerformer - Amos Heller, Bass, AssociatedPerformer', 'audio_info': {'replaygain_track_peak': 1, 'replaygain_track_gain': -10.22}, 'performer': {'name': 'Taylor Swift', 'id': 70899}, 'album': {'image': {'small': 'https://static.qobuz.com/images/covers/ic/0c/r8361te6k0cic_230.jpg', 'thumbnail': 'https://static.qobuz.com/images/covers/ic/0c/r8361te6k0cic_50.jpg', 'large': 'https://static.qobuz.com/images/covers/ic/0c/r8361te6k0cic_600.jpg'}, 'maximum_bit_depth': 24, 'media_count': 1, 'artist': {'image': None, 'name': 'Taylor Swift', 'id': 70899, 'albums_count': 1084, 'slug': 'taylor-swift', 'picture': None}, 'upc': '0602435838908', 'released_at': 1617919200, 'label': {'name': 'Taylor Swift', 'id': 313742, 'albums_count': 222, 'supplier_id': 1, 'slug': 'taylor-swift'}, 'title': \"Fearless (Taylor's Version)\", 'qobuz_id': 119360712, 'version': None, 'duration': 6380, 'parental_warning': False, 'tracks_count': 26, 'popularity': 0, 'genre': {'path': [4], 'color': '#0070ef', 'name': 'Country', 'id': 4, 'slug': 'country'}, 'maximum_channel_count': 2, 'id': 'r8361te6k0cic', 'maximum_sampling_rate': 96, 'previewable': True, 'sampleable': True, 'displayable': True, 'streamable': False, 'streamable_at': 1695106800, 'downloadable': False, 'purchasable_at': None, 'purchasable': False, 'release_date_original': '2021-04-09', 'release_date_download': '2021-04-09', 'release_date_stream': '2021-04-09', 'release_date_purchase': '2021-04-09', 'hires': True, 'hires_streamable': False}, 'work': None, 'composer': {'name': 'Taylor Swift', 'id': 70899}, 'isrc': 'USUG12100342', 'title': 'Love Story (Taylor’s Version)', 'version': None, 'duration': 235, 'parental_warning': False, 'track_number': 3, 'maximum_channel_count': 2, 'id': 119360715, 'media_number': 1, 'maximum_sampling_rate': 96, 'release_date_original': None, 'release_date_download': None, 'release_date_stream': None, 'release_date_purchase': None, 'purchasable': True, 'streamable': False, 'previewable': True, 'sampleable': True, 'downloadable': True, 'displayable': True, 'purchasable_at': 1695106800, 'streamable_at': 1695106800, 'hires': True, 'hires_streamable': False, 'position': 5, 'created_at': 1669041998, 'playlist_track_id': 2042098003}\n",
      "{'maximum_bit_depth': 24, 'copyright': '℗ 2020 Taylor Swift', 'performers': 'Greg Calbi, Mastering Engineer, StudioPersonnel - Steve Fallone, Mastering Engineer, StudioPersonnel - Clarice Jensen, Cello, AssociatedPerformer - Taylor Swift, MainArtist, ComposerLyricist - Aaron Dessner, Producer, Acoustic Guitar, Electric Guitar, Keyboards, Percussion, Piano, Recording Engineer, Bass, Synthesizer, Drum Machine, AssociatedPerformer, StudioPersonnel, ComposerLyricist - CJ Camerieri, French Horn, AssociatedPerformer - Thomas Bartlett, Keyboards, Synthesizer, AssociatedPerformer - Jason Treuting, Glockenspiel, AssociatedPerformer - James McAlister, Synthesizer, Drum Machine, AssociatedPerformer - Bryan Devendorf, Percussion, Drum Machine, AssociatedPerformer - Bryce Dessner, Unknown, Other - Josh Kaufman, Electric Guitar, AssociatedPerformer - Alex Sopp, Flute, AssociatedPerformer - Yuki Numata Resnick, Violin, AssociatedPerformer - Jonathan Low, Mixer, Recording Engineer, Vocal Engineer, StudioPersonnel', 'audio_info': {'replaygain_track_peak': 0.964447, 'replaygain_track_gain': -9.39}, 'performer': {'name': 'Taylor Swift', 'id': 70899}, 'album': {'image': {'small': 'https://static.qobuz.com/images/covers/nb/j4/bbqhrrpxdj4nb_230.jpg', 'thumbnail': 'https://static.qobuz.com/images/covers/nb/j4/bbqhrrpxdj4nb_50.jpg', 'large': 'https://static.qobuz.com/images/covers/nb/j4/bbqhrrpxdj4nb_600.jpg'}, 'maximum_bit_depth': 24, 'media_count': 1, 'artist': {'image': None, 'name': 'Taylor Swift', 'id': 70899, 'albums_count': 1004, 'slug': 'taylor-swift', 'picture': None}, 'upc': '0602435648545', 'released_at': 1607641200, 'label': {'name': 'Taylor Swift', 'id': 313742, 'albums_count': 222, 'supplier_id': 1, 'slug': 'taylor-swift'}, 'title': 'evermore (Explicit)', 'qobuz_id': 108768133, 'version': None, 'duration': 3638, 'parental_warning': True, 'tracks_count': 15, 'popularity': 0, 'genre': {'path': [112, 119, 113], 'color': '#0070ef', 'name': 'Alternative & Indie', 'id': 113, 'slug': 'alternatif-et-inde'}, 'maximum_channel_count': 2, 'id': 'bbqhrrpxdj4nb', 'maximum_sampling_rate': 88.2, 'previewable': True, 'sampleable': True, 'displayable': True, 'streamable': False, 'streamable_at': 1688886000, 'downloadable': False, 'purchasable_at': None, 'purchasable': False, 'release_date_original': '2020-12-11', 'release_date_download': '2020-12-11', 'release_date_stream': '2020-12-11', 'release_date_purchase': '2020-12-11', 'hires': True, 'hires_streamable': False}, 'work': None, 'composer': {'name': 'Aaron Dessner', 'id': 630289}, 'isrc': 'USUG12004699', 'title': 'willow', 'version': None, 'duration': 214, 'parental_warning': False, 'track_number': 1, 'maximum_channel_count': 2, 'id': 108768134, 'media_number': 1, 'maximum_sampling_rate': 88.2, 'release_date_original': None, 'release_date_download': None, 'release_date_stream': None, 'release_date_purchase': None, 'purchasable': True, 'streamable': False, 'previewable': True, 'sampleable': True, 'downloadable': True, 'displayable': True, 'purchasable_at': 1688886000, 'streamable_at': 1688886000, 'hires': True, 'hires_streamable': False, 'position': 6, 'created_at': 1669008016, 'playlist_track_id': 2038671400}\n",
      "{'maximum_bit_depth': 24, 'copyright': '℗ 2021 Taylor Swift', 'performers': 'Max Martin, ComposerLyricist - Shellback, Producer, ComposerLyricist - Max Bernstein, Synthesizer, AssociatedPerformer - Serban Ghenea, Mixer, StudioPersonnel - Sam Holland, Vocal Engineer, StudioPersonnel - Dan Burns, Additional Engineer, Programming, AssociatedPerformer, StudioPersonnel - Taylor Swift, Producer, Vocals, Background Vocalist, MainArtist, AssociatedPerformer, ComposerLyricist - Matt Billingslea, Drums, Drum Programming, AssociatedPerformer - Christopher Rowe, Producer, Vocal Engineer, StudioPersonnel - Randy Merrill, Mastering Engineer, StudioPersonnel - Paul Sidoti, Electric Guitar, AssociatedPerformer - Mike Meadows, Acoustic Guitar, Synthesizer, AssociatedPerformer - Amos Heller, Bass Guitar, AssociatedPerformer - Derek Garten, Editor, Engineer, StudioPersonnel - Bryce Bordone, Mix Engineer, StudioPersonnel', 'audio_info': {'replaygain_track_peak': 1, 'replaygain_track_gain': -8.38}, 'performer': {'name': 'Taylor Swift', 'id': 70899}, 'album': {'image': {'small': 'https://static.qobuz.com/images/covers/6a/n5/oulc1w5vun56a_230.jpg', 'thumbnail': 'https://static.qobuz.com/images/covers/6a/n5/oulc1w5vun56a_50.jpg', 'large': 'https://static.qobuz.com/images/covers/6a/n5/oulc1w5vun56a_600.jpg'}, 'maximum_bit_depth': 24, 'media_count': 1, 'artist': {'image': None, 'name': 'Taylor Swift', 'id': 70899, 'albums_count': 1004, 'slug': 'taylor-swift', 'picture': None}, 'upc': '0602438993857', 'released_at': 1636671600, 'label': {'name': 'Taylor Swift', 'id': 313742, 'albums_count': 222, 'supplier_id': 1, 'slug': 'taylor-swift'}, 'title': \"Red (Taylor's Version)\", 'qobuz_id': 138305275, 'version': None, 'duration': 7826, 'parental_warning': True, 'tracks_count': 30, 'popularity': 0, 'genre': {'path': [112, 117], 'color': '#0070ef', 'name': 'Pop', 'id': 117, 'slug': 'pop'}, 'maximum_channel_count': 2, 'id': 'oulc1w5vun56a', 'maximum_sampling_rate': 96, 'previewable': True, 'sampleable': True, 'displayable': True, 'streamable': False, 'streamable_at': 1688886000, 'downloadable': False, 'purchasable_at': None, 'purchasable': False, 'release_date_original': '2021-11-12', 'release_date_download': '2021-11-12', 'release_date_stream': '2021-11-12', 'release_date_purchase': '2021-11-12', 'hires': True, 'hires_streamable': False}, 'work': None, 'composer': {'name': 'Taylor Swift', 'id': 70899}, 'isrc': 'USUG12103664', 'title': \"I Knew You Were Trouble (Taylor's Version)\", 'version': None, 'duration': 219, 'parental_warning': False, 'track_number': 4, 'maximum_channel_count': 2, 'id': 138305279, 'media_number': 1, 'maximum_sampling_rate': 96, 'release_date_original': None, 'release_date_download': None, 'release_date_stream': None, 'release_date_purchase': None, 'purchasable': True, 'streamable': False, 'previewable': True, 'sampleable': True, 'downloadable': True, 'displayable': True, 'purchasable_at': 1688886000, 'streamable_at': 1688886000, 'hires': True, 'hires_streamable': False, 'position': 7, 'created_at': 1669042286, 'playlist_track_id': 2042127618}\n",
      "{'maximum_bit_depth': 24, 'copyright': '℗ 2020 Taylor Swift', 'performers': 'Clarice Jensen, Cello, AssociatedPerformer - Dave Nelson, Trombone, AssociatedPerformer - Taylor Swift, MainArtist, ComposerLyricist - Laura Sisk, Vocal Engineer, StudioPersonnel - Aaron Dessner, Producer, Engineer, Electric Guitar, Percussion, Piano, Recording Engineer, Bass, Synthesizer, Drum Programming, Mellotron, AssociatedPerformer, StudioPersonnel, ComposerLyricist - James McAlister, Drum Programming, AssociatedPerformer - Bryce Dessner, Unknown, Other - Kyle Resnick, Engineer, StudioPersonnel - Randy Merrill, Mastering Engineer, StudioPersonnel - Yuki Numata Resnick, Viola, Violin, AssociatedPerformer - Jonathan Low, Mixer, Recording Engineer, StudioPersonnel - Bella Blasko, Engineer, StudioPersonnel - Benjamin Lanz, Synthesizer, AssociatedPerformer', 'audio_info': {'replaygain_track_peak': 0.977264, 'replaygain_track_gain': -8.97}, 'performer': {'name': 'Taylor Swift', 'id': 70899}, 'album': {'image': {'small': 'https://static.qobuz.com/images/covers/mb/bc/gpfwxb50vbcmb_230.jpg', 'thumbnail': 'https://static.qobuz.com/images/covers/mb/bc/gpfwxb50vbcmb_50.jpg', 'large': 'https://static.qobuz.com/images/covers/mb/bc/gpfwxb50vbcmb_600.jpg'}, 'maximum_bit_depth': 24, 'media_count': 1, 'artist': {'image': None, 'name': 'Taylor Swift', 'id': 70899, 'albums_count': 1004, 'slug': 'taylor-swift', 'picture': None}, 'upc': '0602435037967', 'released_at': 1595541600, 'label': {'name': 'Taylor Swift', 'id': 313742, 'albums_count': 222, 'supplier_id': 1, 'slug': 'taylor-swift'}, 'title': 'Folklore (Explicit)', 'qobuz_id': 98522697, 'version': None, 'duration': 3807, 'parental_warning': True, 'tracks_count': 16, 'popularity': 0, 'genre': {'path': [112, 119, 113], 'color': '#0070ef', 'name': 'Alternative & Indie', 'id': 113, 'slug': 'alternatif-et-inde'}, 'maximum_channel_count': 2, 'id': 'gpfwxb50vbcmb', 'maximum_sampling_rate': 44.1, 'previewable': True, 'sampleable': True, 'displayable': True, 'streamable': False, 'streamable_at': 1688886000, 'downloadable': False, 'purchasable_at': None, 'purchasable': False, 'release_date_original': '2020-07-24', 'release_date_download': '2020-07-24', 'release_date_stream': '2020-07-24', 'release_date_purchase': '2020-07-24', 'hires': True, 'hires_streamable': False}, 'work': None, 'composer': {'name': 'Aaron Dessner', 'id': 630289}, 'isrc': 'USUG12002836', 'title': 'cardigan', 'version': None, 'duration': 239, 'parental_warning': False, 'track_number': 2, 'maximum_channel_count': 2, 'id': 98522699, 'media_number': 1, 'maximum_sampling_rate': 44.1, 'release_date_original': None, 'release_date_download': None, 'release_date_stream': None, 'release_date_purchase': None, 'purchasable': True, 'streamable': False, 'previewable': True, 'sampleable': True, 'downloadable': True, 'displayable': True, 'purchasable_at': 1688886000, 'streamable_at': 1688886000, 'hires': True, 'hires_streamable': False, 'position': 8, 'created_at': 1669008016, 'playlist_track_id': 2038671402}\n",
      "{'maximum_bit_depth': 24, 'copyright': '℗ 2021 Taylor Swift', 'performers': \"Chris Stapleton, Vocals, FeaturedArtist, AssociatedPerformer - Lori McKenna, ComposerLyricist - Vance Powell, Vocal Engineer, StudioPersonnel - Jeremy Murphy, Recording Engineer, StudioPersonnel - Dave Brown, Double Bass, AssociatedPerformer - Taylor Swift, Producer, Vocals, MainArtist, AssociatedPerformer, ComposerLyricist - Aaron Dessner, Producer, Engineer, Guitar, Acoustic Guitar, Bass Guitar, Piano, Recording Engineer, AssociatedPerformer, StudioPersonnel - Christopher Rowe, Vocal Engineer, StudioPersonnel - Matthew Kettle, Viola, AssociatedPerformer - Galya Bisengalieva, Violin, Orchestra Leader, AssociatedPerformer - Robert Ames, Unknown, Other - Oliver Coates, Cello, AssociatedPerformer - Jonny Byers, Cello, AssociatedPerformer - Bryce Dessner, Unknown, Other - Charlotte Reid, Violin, AssociatedPerformer - Josh Kaufman, Additional Engineer, Electric Guitar, Harmonica, Lap Steel Guitar, AssociatedPerformer, StudioPersonnel - Randy Merrill, Mastering Engineer, StudioPersonnel - London Contemporary Orchestra, Unknown, Other - Michael Fahey, Asst. Recording Engineer, StudioPersonnel - Clifton Harrison, Viola, AssociatedPerformer - Jonathan Low, Mixer, Engineer, Recording Engineer, StudioPersonnel - Max Ruisi, Cello, AssociatedPerformer - Anna de Bruin, Violin, AssociatedPerformer - Eloisa-Fleur Thom, Violin, AssociatedPerformer - Natalie Klouda, Violin, AssociatedPerformer - Charis Jenson, Violin, AssociatedPerformer - Antonia Kesel, Violin, AssociatedPerformer - Stephanie Edmundson, Viola, AssociatedPerformer - Zoe Matthews, Viola, AssociatedPerformer - Nicole Crespo O'Donoghue, Violin, AssociatedPerformer - James Krivchenia, Drums, Percussion, AssociatedPerformer - Guy Button, Violin, AssociatedPerformer - Anna Ovsyanikova, Violin, AssociatedPerformer - Nicole Stokes, Violin, AssociatedPerformer - Talia Morey, Unknown, Other - Meg Monteith, Unknown, Other - Amy Hinds, Unknown, Other - Zahra Benyounes, Violin, AssociatedPerformer\", 'audio_info': {'replaygain_track_peak': 0.96698, 'replaygain_track_gain': -10.4}, 'performer': {'name': 'Taylor Swift', 'id': 70899}, 'album': {'image': {'small': 'https://static.qobuz.com/images/covers/6a/n5/oulc1w5vun56a_230.jpg', 'thumbnail': 'https://static.qobuz.com/images/covers/6a/n5/oulc1w5vun56a_50.jpg', 'large': 'https://static.qobuz.com/images/covers/6a/n5/oulc1w5vun56a_600.jpg'}, 'maximum_bit_depth': 24, 'media_count': 1, 'artist': {'image': None, 'name': 'Taylor Swift', 'id': 70899, 'albums_count': 1004, 'slug': 'taylor-swift', 'picture': None}, 'upc': '0602438993857', 'released_at': 1636671600, 'label': {'name': 'Taylor Swift', 'id': 313742, 'albums_count': 222, 'supplier_id': 1, 'slug': 'taylor-swift'}, 'title': \"Red (Taylor's Version)\", 'qobuz_id': 138305275, 'version': None, 'duration': 7826, 'parental_warning': True, 'tracks_count': 30, 'popularity': 0, 'genre': {'path': [112, 117], 'color': '#0070ef', 'name': 'Pop', 'id': 117, 'slug': 'pop'}, 'maximum_channel_count': 2, 'id': 'oulc1w5vun56a', 'maximum_sampling_rate': 96, 'previewable': True, 'sampleable': True, 'displayable': True, 'streamable': False, 'streamable_at': 1688886000, 'downloadable': False, 'purchasable_at': None, 'purchasable': False, 'release_date_original': '2021-11-12', 'release_date_download': '2021-11-12', 'release_date_stream': '2021-11-12', 'release_date_purchase': '2021-11-12', 'hires': True, 'hires_streamable': False}, 'work': None, 'composer': {'name': 'Taylor Swift', 'id': 70899}, 'isrc': 'USUG12103686', 'title': \"I Bet You Think About Me (Taylor's Version) (From The Vault)\", 'version': None, 'duration': 285, 'parental_warning': True, 'track_number': 26, 'maximum_channel_count': 2, 'id': 138305301, 'media_number': 1, 'maximum_sampling_rate': 96, 'release_date_original': None, 'release_date_download': None, 'release_date_stream': None, 'release_date_purchase': None, 'purchasable': True, 'streamable': False, 'previewable': True, 'sampleable': True, 'downloadable': True, 'displayable': True, 'purchasable_at': 1688886000, 'streamable_at': 1688886000, 'hires': True, 'hires_streamable': False, 'position': 9, 'created_at': 1669008016, 'playlist_track_id': 2038671403}\n",
      "{'maximum_bit_depth': 16, 'copyright': '℗ 2014 Big Machine Records, LLC', 'performers': 'Max Martin, Producer, ComposerLyricist - Shellback, Producer, ComposerLyricist - Taylor Swift, MainArtist, ComposerLyricist', 'audio_info': {'replaygain_track_peak': 0.99884, 'replaygain_track_gain': -9.7}, 'performer': {'name': 'Taylor Swift', 'id': 70899}, 'album': {'image': {'small': 'https://static.qobuz.com/images/covers/ta/ym/id29re6slymta_230.jpg', 'thumbnail': 'https://static.qobuz.com/images/covers/ta/ym/id29re6slymta_50.jpg', 'large': 'https://static.qobuz.com/images/covers/ta/ym/id29re6slymta_600.jpg'}, 'maximum_bit_depth': 16, 'media_count': 1, 'artist': {'image': None, 'name': 'Taylor Swift', 'id': 70899, 'albums_count': 952, 'slug': 'taylor-swift', 'picture': None}, 'upc': '0843930013609', 'released_at': 1414364400, 'label': {'name': 'Big Machine Records, LLC', 'id': 17893, 'albums_count': 985, 'supplier_id': 1, 'slug': 'big-machine-records-llc'}, 'title': '1989', 'qobuz_id': 53965341, 'version': 'Deluxe Edition', 'duration': 4101, 'parental_warning': False, 'tracks_count': 19, 'popularity': 0, 'genre': {'path': [112, 117], 'color': '#0070ef', 'name': 'Pop', 'id': 117, 'slug': 'pop'}, 'maximum_channel_count': 2, 'id': 'id29re6slymta', 'maximum_sampling_rate': 44.1, 'previewable': True, 'sampleable': True, 'displayable': True, 'streamable': False, 'streamable_at': 1683529200, 'downloadable': False, 'purchasable_at': None, 'purchasable': False, 'release_date_original': '2014-10-27', 'release_date_download': '2014-10-27', 'release_date_stream': '2014-10-27', 'release_date_purchase': '2014-10-27', 'hires': False, 'hires_streamable': False}, 'work': None, 'composer': {'name': 'Shellback', 'id': 153029}, 'isrc': 'USCJY1431309', 'title': 'Blank Space', 'version': None, 'duration': 230, 'parental_warning': False, 'track_number': 2, 'maximum_channel_count': 2, 'id': 53965343, 'media_number': 1, 'maximum_sampling_rate': 44.1, 'release_date_original': None, 'release_date_download': None, 'release_date_stream': None, 'release_date_purchase': None, 'purchasable': True, 'streamable': False, 'previewable': True, 'sampleable': True, 'downloadable': True, 'displayable': True, 'purchasable_at': 1683702000, 'streamable_at': 1683529200, 'hires': False, 'hires_streamable': False, 'position': 10, 'created_at': 1669008118, 'playlist_track_id': 2038678464}\n",
      "{'maximum_bit_depth': 16, 'copyright': '℗ 2006 Big Machine Records, LLC All Rights Reserved', 'performers': 'Liz Rose, ComposerLyricist - Taylor Swift, MainArtist, ComposerLyricist', 'audio_info': {'replaygain_track_peak': 0.963806, 'replaygain_track_gain': -8.37}, 'performer': {'name': 'Taylor Swift', 'id': 70899}, 'album': {'image': {'small': 'https://static.qobuz.com/images/covers/oa/9h/qwrzlxac89hoa_230.jpg', 'thumbnail': 'https://static.qobuz.com/images/covers/oa/9h/qwrzlxac89hoa_50.jpg', 'large': 'https://static.qobuz.com/images/covers/oa/9h/qwrzlxac89hoa_600.jpg'}, 'maximum_bit_depth': 16, 'media_count': 1, 'artist': {'image': None, 'name': 'Taylor Swift', 'id': 70899, 'albums_count': 952, 'slug': 'taylor-swift', 'picture': None}, 'upc': '0843930000821', 'released_at': 1161640800, 'label': {'name': 'Big Machine Records, LLC', 'id': 17893, 'albums_count': 985, 'supplier_id': 1, 'slug': 'big-machine-records-llc'}, 'title': 'Taylor Swift', 'qobuz_id': 54302100, 'version': None, 'duration': 3196, 'parental_warning': False, 'tracks_count': 15, 'popularity': 0, 'genre': {'path': [4], 'color': '#0070ef', 'name': 'Country', 'id': 4, 'slug': 'country'}, 'maximum_channel_count': 2, 'id': 'qwrzlxac89hoa', 'maximum_sampling_rate': 44.1, 'previewable': True, 'sampleable': True, 'displayable': True, 'streamable': False, 'streamable_at': 1683529200, 'downloadable': False, 'purchasable_at': None, 'purchasable': False, 'release_date_original': '2006-10-24', 'release_date_download': '2006-10-24', 'release_date_stream': '2006-10-24', 'release_date_purchase': '2006-10-24', 'hires': False, 'hires_streamable': False}, 'work': None, 'composer': {'name': 'Taylor Swift', 'id': 70899}, 'isrc': 'USCJY0603137', 'title': 'Teardrops On My Guitar', 'version': 'Radio Single Remix', 'duration': 202, 'parental_warning': False, 'track_number': 3, 'maximum_channel_count': 2, 'id': 54302103, 'media_number': 1, 'maximum_sampling_rate': 44.1, 'release_date_original': None, 'release_date_download': None, 'release_date_stream': None, 'release_date_purchase': None, 'purchasable': True, 'streamable': False, 'previewable': True, 'sampleable': True, 'downloadable': True, 'displayable': True, 'purchasable_at': 1683702000, 'streamable_at': 1683529200, 'hires': False, 'hires_streamable': False, 'position': 11, 'created_at': 1669042702, 'playlist_track_id': 2042169222}\n",
      "{'maximum_bit_depth': 16, 'copyright': '℗ 2017 Big Machine Label Group, LLC', 'performers': 'Richard Fairbrass, ComposerLyricist - Fred Fairbrass, ComposerLyricist - Rob Manzoli, ComposerLyricist - Taylor Swift, Producer, MainArtist, ComposerLyricist - Jack Antonoff, Producer, ComposerLyricist', 'audio_info': {'replaygain_track_peak': 0.960175, 'replaygain_track_gain': -10.57}, 'performer': {'name': 'Taylor Swift', 'id': 70899}, 'album': {'image': {'small': 'https://static.qobuz.com/images/covers/14/33/0084393003314_230.jpg', 'thumbnail': 'https://static.qobuz.com/images/covers/14/33/0084393003314_50.jpg', 'large': 'https://static.qobuz.com/images/covers/14/33/0084393003314_600.jpg'}, 'maximum_bit_depth': 16, 'media_count': 1, 'artist': {'image': None, 'name': 'Taylor Swift', 'id': 70899, 'albums_count': 952, 'slug': 'taylor-swift', 'picture': None}, 'upc': '0084393003314', 'released_at': 1510268400, 'label': {'name': 'Big Machine Records, LLC', 'id': 17893, 'albums_count': 985, 'supplier_id': 1, 'slug': 'big-machine-records-llc'}, 'title': 'reputation', 'qobuz_id': 45281657, 'version': None, 'duration': 3325, 'parental_warning': False, 'tracks_count': 15, 'popularity': 0, 'genre': {'path': [112, 117], 'color': '#0070ef', 'name': 'Pop', 'id': 117, 'slug': 'pop'}, 'maximum_channel_count': 2, 'id': '0084393003314', 'maximum_sampling_rate': 44.1, 'previewable': True, 'sampleable': True, 'displayable': True, 'streamable': False, 'streamable_at': 1683529200, 'downloadable': False, 'purchasable_at': None, 'purchasable': False, 'release_date_original': '2017-11-10', 'release_date_download': '2017-11-10', 'release_date_stream': '2017-11-10', 'release_date_purchase': '2017-11-10', 'hires': False, 'hires_streamable': False}, 'work': None, 'composer': {'name': 'Jack Antonoff', 'id': 778282}, 'isrc': 'USCJY1750000', 'title': 'Look What You Made Me Do', 'version': None, 'duration': 210, 'parental_warning': False, 'track_number': 6, 'maximum_channel_count': 2, 'id': 45281663, 'media_number': 1, 'maximum_sampling_rate': 44.1, 'release_date_original': None, 'release_date_download': None, 'release_date_stream': None, 'release_date_purchase': None, 'purchasable': True, 'streamable': False, 'previewable': True, 'sampleable': True, 'downloadable': True, 'displayable': True, 'purchasable_at': 1683702000, 'streamable_at': 1683529200, 'hires': False, 'hires_streamable': False, 'position': 12, 'created_at': 1669008016, 'playlist_track_id': 2038671406}\n",
      "{'maximum_bit_depth': 16, 'copyright': '℗ 2019 Taylor Swift', 'performers': 'John Hanes, Mix Engineer, StudioPersonnel - Serban Ghenea, Mixer, StudioPersonnel - Taylor Swift, Producer, Vocals, MainArtist, AssociatedPerformer, ComposerLyricist - Laura Sisk, Recording Engineer, StudioPersonnel - John Rooney, Asst. Recording Engineer, StudioPersonnel - Jack Antonoff, Producer, Drums, Acoustic Guitar, Bass Guitar, Keyboards, Percussion, Piano, Programmer, Recording Engineer, AssociatedPerformer, StudioPersonnel', 'audio_info': {'replaygain_track_peak': 0.99884, 'replaygain_track_gain': -7.43}, 'performer': {'name': 'Taylor Swift', 'id': 70899}, 'album': {'image': {'small': 'https://static.qobuz.com/images/covers/xb/2u/h1r19zw2l2uxb_230.jpg', 'thumbnail': 'https://static.qobuz.com/images/covers/xb/2u/h1r19zw2l2uxb_50.jpg', 'large': 'https://static.qobuz.com/images/covers/xb/2u/h1r19zw2l2uxb_600.jpg'}, 'maximum_bit_depth': 16, 'media_count': 1, 'artist': {'image': None, 'name': 'Taylor Swift', 'id': 70899, 'albums_count': 1058, 'slug': 'taylor-swift', 'picture': None}, 'upc': '0602508009228', 'released_at': 1566511200, 'label': {'name': 'Taylor Swift', 'id': 313742, 'albums_count': 222, 'supplier_id': 1, 'slug': 'taylor-swift'}, 'title': 'Lover', 'qobuz_id': 68263894, 'version': None, 'duration': 3685, 'parental_warning': False, 'tracks_count': 18, 'popularity': 0, 'genre': {'path': [112, 117], 'color': '#0070ef', 'name': 'Pop', 'id': 117, 'slug': 'pop'}, 'maximum_channel_count': 2, 'id': 'h1r19zw2l2uxb', 'maximum_sampling_rate': 44.1, 'previewable': True, 'sampleable': True, 'displayable': True, 'streamable': False, 'streamable_at': 1692601200, 'downloadable': False, 'purchasable_at': None, 'purchasable': False, 'release_date_original': '2019-08-23', 'release_date_download': '2019-08-23', 'release_date_stream': '2019-08-23', 'release_date_purchase': '2019-08-23', 'hires': False, 'hires_streamable': False}, 'work': None, 'composer': {'name': 'Taylor Swift', 'id': 70899}, 'isrc': 'USUG11901473', 'title': 'Lover', 'version': None, 'duration': 220, 'parental_warning': False, 'track_number': 3, 'maximum_channel_count': 2, 'id': 68263897, 'media_number': 1, 'maximum_sampling_rate': 44.1, 'release_date_original': None, 'release_date_download': None, 'release_date_stream': None, 'release_date_purchase': None, 'purchasable': True, 'streamable': False, 'previewable': True, 'sampleable': True, 'downloadable': True, 'displayable': True, 'purchasable_at': 1692601200, 'streamable_at': 1692601200, 'hires': False, 'hires_streamable': False, 'position': 13, 'created_at': 1669008016, 'playlist_track_id': 2038671407}\n",
      "{'maximum_bit_depth': 16, 'copyright': '℗ 2011 Big Machine Records, LLC.', 'performers': 'Taylor Swift, MainArtist, ComposerLyricist', 'audio_info': {'replaygain_track_peak': 0.977447, 'replaygain_track_gain': -9.48}, 'performer': {'name': 'Taylor Swift', 'id': 70899}, 'album': {'image': {'small': 'https://static.qobuz.com/images/covers/za/38/qro5n70da38za_230.jpg', 'thumbnail': 'https://static.qobuz.com/images/covers/za/38/qro5n70da38za_50.jpg', 'large': 'https://static.qobuz.com/images/covers/za/38/qro5n70da38za_600.jpg'}, 'maximum_bit_depth': 16, 'media_count': 1, 'artist': {'image': None, 'name': 'Taylor Swift', 'id': 70899, 'albums_count': 952, 'slug': 'taylor-swift', 'picture': None}, 'upc': '0843930037759', 'released_at': 1297724400, 'label': {'name': 'Big Machine Records, LLC', 'id': 17893, 'albums_count': 985, 'supplier_id': 1, 'slug': 'big-machine-records-llc'}, 'title': 'Today Was A Fairytale', 'qobuz_id': 53637299, 'version': None, 'duration': 241, 'parental_warning': False, 'tracks_count': 1, 'popularity': 0, 'genre': {'path': [4], 'color': '#0070ef', 'name': 'Country', 'id': 4, 'slug': 'country'}, 'maximum_channel_count': 2, 'id': 'qro5n70da38za', 'maximum_sampling_rate': 44.1, 'previewable': True, 'sampleable': True, 'displayable': True, 'streamable': False, 'streamable_at': 1683529200, 'downloadable': False, 'purchasable_at': None, 'purchasable': False, 'release_date_original': '2011-02-15', 'release_date_download': '2011-02-15', 'release_date_stream': '2011-02-15', 'release_date_purchase': '2011-02-15', 'hires': False, 'hires_streamable': False}, 'work': None, 'composer': {'name': 'Taylor Swift', 'id': 70899}, 'isrc': 'USCJY1103825', 'title': 'Today Was A Fairytale', 'version': None, 'duration': 241, 'parental_warning': False, 'track_number': 1, 'maximum_channel_count': 2, 'id': 53637300, 'media_number': 1, 'maximum_sampling_rate': 44.1, 'release_date_original': None, 'release_date_download': None, 'release_date_stream': None, 'release_date_purchase': None, 'purchasable': True, 'streamable': False, 'previewable': True, 'sampleable': True, 'downloadable': True, 'displayable': True, 'purchasable_at': 1683702000, 'streamable_at': 1683529200, 'hires': False, 'hires_streamable': False, 'position': 14, 'created_at': 1669008016, 'playlist_track_id': 2038671408}\n",
      "{'maximum_bit_depth': 16, 'copyright': '℗ 2010 Big Machine Records, LLC', 'performers': 'Tommy Sims, Bass Guitar, AssociatedPerformer - Tim Lauer, Piano, Hammond B3, AssociatedPerformer - Nathan Chapman, Producer, Banjo, Acoustic Guitar, Bass Guitar, Electric Guitar, Mandolin, Organ, Piano, Synthesizer, Digital Piano, AssociatedPerformer - Bryan Sutton, Acoustic Guitar, AssociatedPerformer - Shannon Forrest, Drums, AssociatedPerformer - Eric Darken, Percussion, AssociatedPerformer - Rob Hajacos, Fiddle, AssociatedPerformer - John Gardner, Drums, AssociatedPerformer - Nick Buda, Drums, AssociatedPerformer - Al Wilson, Percussion, AssociatedPerformer - Taylor Swift, Producer, Acoustic Guitar, Vocals, Vocalist, MainArtist, AssociatedPerformer, ComposerLyricist - Smith Curry, Steel Guitar, AssociatedPerformer - Tim Marks, Bass Guitar, AssociatedPerformer - Grant Mickelson, Electric Guitar, AssociatedPerformer - Paul Sidoti, Electric Guitar, AssociatedPerformer - Mike Meadows, Electric Guitar, AssociatedPerformer - Amos Heller, Bass Guitar, AssociatedPerformer', 'audio_info': {'replaygain_track_peak': 0.950104, 'replaygain_track_gain': -11.43}, 'performer': {'name': 'Taylor Swift', 'id': 70899}, 'album': {'image': {'small': 'https://static.qobuz.com/images/covers/mc/df/qsgwxoyd8dfmc_230.jpg', 'thumbnail': 'https://static.qobuz.com/images/covers/mc/df/qsgwxoyd8dfmc_50.jpg', 'large': 'https://static.qobuz.com/images/covers/mc/df/qsgwxoyd8dfmc_600.jpg'}, 'maximum_bit_depth': 16, 'media_count': 1, 'artist': {'image': None, 'name': 'Taylor Swift', 'id': 70899, 'albums_count': 952, 'slug': 'taylor-swift', 'picture': None}, 'upc': '0843930004010', 'released_at': 1287957600, 'label': {'name': 'Big Machine Records, LLC', 'id': 17893, 'albums_count': 985, 'supplier_id': 1, 'slug': 'big-machine-records-llc'}, 'title': 'Speak Now', 'qobuz_id': 54330493, 'version': None, 'duration': 4013, 'parental_warning': False, 'tracks_count': 14, 'popularity': 0, 'genre': {'path': [4], 'color': '#0070ef', 'name': 'Country', 'id': 4, 'slug': 'country'}, 'maximum_channel_count': 2, 'id': 'qsgwxoyd8dfmc', 'maximum_sampling_rate': 44.1, 'previewable': True, 'sampleable': True, 'displayable': True, 'streamable': False, 'streamable_at': 1683529200, 'downloadable': False, 'purchasable_at': None, 'purchasable': False, 'release_date_original': '2010-10-25', 'release_date_download': '2010-10-25', 'release_date_stream': '2010-10-25', 'release_date_purchase': '2010-10-25', 'hires': False, 'hires_streamable': False}, 'work': None, 'composer': {'name': 'Taylor Swift', 'id': 70899}, 'isrc': 'USCJY1003645', 'title': 'Mine', 'version': None, 'duration': 230, 'parental_warning': False, 'track_number': 1, 'maximum_channel_count': 2, 'id': 54330494, 'media_number': 1, 'maximum_sampling_rate': 44.1, 'release_date_original': None, 'release_date_download': None, 'release_date_stream': None, 'release_date_purchase': None, 'purchasable': True, 'streamable': False, 'previewable': True, 'sampleable': True, 'downloadable': True, 'displayable': True, 'purchasable_at': 1683702000, 'streamable_at': 1683529200, 'hires': False, 'hires_streamable': False, 'position': 15, 'created_at': 1669042602, 'playlist_track_id': 2042158649}\n",
      "{'maximum_bit_depth': 24, 'copyright': '℗ 2021 Taylor Swift', 'performers': 'Liz Rose, ComposerLyricist - Max Bernstein, Steel Guitar, AssociatedPerformer - David Payne, Recording Engineer, StudioPersonnel - John Hanes, Engineer, StudioPersonnel - Serban Ghenea, Mixer, StudioPersonnel - Lowell Reynolds, Additional Engineer, Asst. Recording Engineer, StudioPersonnel - Jonathan Yudkin, Fiddle, AssociatedPerformer - Dan Burns, Drum Programming, AssociatedPerformer - Caitlin Evanson, Background Vocalist, AssociatedPerformer - Taylor Swift, Producer, Vocals, MainArtist, AssociatedPerformer, ComposerLyricist - Matt Billingslea, Drums, Drum Programming, AssociatedPerformer - Christopher Rowe, Producer, Vocal Engineer, StudioPersonnel - Randy Merrill, Mastering Engineer, StudioPersonnel - Paul Sidoti, Electric Guitar, AssociatedPerformer - Mike Meadows, Banjo, Acoustic Guitar, Mandolin, AssociatedPerformer - Amos Heller, Bass, AssociatedPerformer - Derek Garten, Additional Engineer, StudioPersonnel', 'audio_info': {'replaygain_track_peak': 1, 'replaygain_track_gain': -9.82}, 'performer': {'name': 'Taylor Swift', 'id': 70899}, 'album': {'image': {'small': 'https://static.qobuz.com/images/covers/ic/0c/r8361te6k0cic_230.jpg', 'thumbnail': 'https://static.qobuz.com/images/covers/ic/0c/r8361te6k0cic_50.jpg', 'large': 'https://static.qobuz.com/images/covers/ic/0c/r8361te6k0cic_600.jpg'}, 'maximum_bit_depth': 24, 'media_count': 1, 'artist': {'image': None, 'name': 'Taylor Swift', 'id': 70899, 'albums_count': 1084, 'slug': 'taylor-swift', 'picture': None}, 'upc': '0602435838908', 'released_at': 1617919200, 'label': {'name': 'Taylor Swift', 'id': 313742, 'albums_count': 222, 'supplier_id': 1, 'slug': 'taylor-swift'}, 'title': \"Fearless (Taylor's Version)\", 'qobuz_id': 119360712, 'version': None, 'duration': 6380, 'parental_warning': False, 'tracks_count': 26, 'popularity': 0, 'genre': {'path': [4], 'color': '#0070ef', 'name': 'Country', 'id': 4, 'slug': 'country'}, 'maximum_channel_count': 2, 'id': 'r8361te6k0cic', 'maximum_sampling_rate': 96, 'previewable': True, 'sampleable': True, 'displayable': True, 'streamable': False, 'streamable_at': 1695106800, 'downloadable': False, 'purchasable_at': None, 'purchasable': False, 'release_date_original': '2021-04-09', 'release_date_download': '2021-04-09', 'release_date_stream': '2021-04-09', 'release_date_purchase': '2021-04-09', 'hires': True, 'hires_streamable': False}, 'work': None, 'composer': {'name': 'Taylor Swift', 'id': 70899}, 'isrc': 'USUG12100622', 'title': 'You Belong With Me (Taylor’s Version)', 'version': None, 'duration': 231, 'parental_warning': False, 'track_number': 6, 'maximum_channel_count': 2, 'id': 119360718, 'media_number': 1, 'maximum_sampling_rate': 96, 'release_date_original': None, 'release_date_download': None, 'release_date_stream': None, 'release_date_purchase': None, 'purchasable': True, 'streamable': False, 'previewable': True, 'sampleable': True, 'downloadable': True, 'displayable': True, 'purchasable_at': 1695106800, 'streamable_at': 1695106800, 'hires': True, 'hires_streamable': False, 'position': 16, 'created_at': 1669042022, 'playlist_track_id': 2042099794}\n",
      "{'maximum_bit_depth': 24, 'copyright': '℗ 2020 Taylor Swift', 'performers': 'Greg Calbi, Mastering Engineer, StudioPersonnel - Steve Fallone, Mastering Engineer, StudioPersonnel - Logan Coale, Upright Bass, AssociatedPerformer - Taylor Swift, Producer, MainArtist, ComposerLyricist - Aaron Dessner, Producer, Acoustic Guitar, Piano, Recording Engineer, Synth Bass, Synthesizer, AssociatedPerformer, StudioPersonnel - Jonathan Low, Mixer, Recording Engineer, Vocal Engineer, StudioPersonnel - William Bowery, ComposerLyricist', 'audio_info': {'replaygain_track_peak': 0.962341, 'replaygain_track_gain': -8.34}, 'performer': {'name': 'Taylor Swift', 'id': 70899}, 'album': {'image': {'small': 'https://static.qobuz.com/images/covers/nb/j4/bbqhrrpxdj4nb_230.jpg', 'thumbnail': 'https://static.qobuz.com/images/covers/nb/j4/bbqhrrpxdj4nb_50.jpg', 'large': 'https://static.qobuz.com/images/covers/nb/j4/bbqhrrpxdj4nb_600.jpg'}, 'maximum_bit_depth': 24, 'media_count': 1, 'artist': {'image': None, 'name': 'Taylor Swift', 'id': 70899, 'albums_count': 1004, 'slug': 'taylor-swift', 'picture': None}, 'upc': '0602435648545', 'released_at': 1607641200, 'label': {'name': 'Taylor Swift', 'id': 313742, 'albums_count': 222, 'supplier_id': 1, 'slug': 'taylor-swift'}, 'title': 'evermore (Explicit)', 'qobuz_id': 108768133, 'version': None, 'duration': 3638, 'parental_warning': True, 'tracks_count': 15, 'popularity': 0, 'genre': {'path': [112, 119, 113], 'color': '#0070ef', 'name': 'Alternative & Indie', 'id': 113, 'slug': 'alternatif-et-inde'}, 'maximum_channel_count': 2, 'id': 'bbqhrrpxdj4nb', 'maximum_sampling_rate': 88.2, 'previewable': True, 'sampleable': True, 'displayable': True, 'streamable': False, 'streamable_at': 1688886000, 'downloadable': False, 'purchasable_at': None, 'purchasable': False, 'release_date_original': '2020-12-11', 'release_date_download': '2020-12-11', 'release_date_stream': '2020-12-11', 'release_date_purchase': '2020-12-11', 'hires': True, 'hires_streamable': False}, 'work': None, 'composer': {'name': 'Taylor Swift', 'id': 70899}, 'isrc': 'USUG12004700', 'title': 'champagne problems', 'version': None, 'duration': 244, 'parental_warning': True, 'track_number': 2, 'maximum_channel_count': 2, 'id': 108768135, 'media_number': 1, 'maximum_sampling_rate': 88.2, 'release_date_original': None, 'release_date_download': None, 'release_date_stream': None, 'release_date_purchase': None, 'purchasable': True, 'streamable': False, 'previewable': True, 'sampleable': True, 'downloadable': True, 'displayable': True, 'purchasable_at': 1688886000, 'streamable_at': 1688886000, 'hires': True, 'hires_streamable': False, 'position': 17, 'created_at': 1669008016, 'playlist_track_id': 2038671411}\n",
      "{'maximum_bit_depth': 24, 'copyright': '℗ 2020 Taylor Swift', 'performers': 'John Hanes, Mix Engineer, StudioPersonnel - Serban Ghenea, Mixer, StudioPersonnel - Taylor Swift, Producer, MainArtist, ComposerLyricist - Laura Sisk, Recording Engineer, StudioPersonnel - John Rooney, Asst. Recording Engineer, StudioPersonnel - Jon Sher, Asst. Recording Engineer, StudioPersonnel - Jack Antonoff, Producer, Electric Guitar, Keyboards, Percussion, Piano, Recording Engineer, Bass, Programming, Background Vocalist, AssociatedPerformer, StudioPersonnel - Randy Merrill, Mastering Engineer, StudioPersonnel - Evan Smith, Keyboards, Saxophone, Programming, AssociatedPerformer - Lorenzo Wolff, Recording Engineer, StudioPersonnel - Bobby Hawk, Strings, AssociatedPerformer - Joe Alwyn, Producer', 'audio_info': {'replaygain_track_peak': 0.95462, 'replaygain_track_gain': -6.35}, 'performer': {'name': 'Taylor Swift', 'id': 70899}, 'album': {'image': {'small': 'https://static.qobuz.com/images/covers/mb/bc/gpfwxb50vbcmb_230.jpg', 'thumbnail': 'https://static.qobuz.com/images/covers/mb/bc/gpfwxb50vbcmb_50.jpg', 'large': 'https://static.qobuz.com/images/covers/mb/bc/gpfwxb50vbcmb_600.jpg'}, 'maximum_bit_depth': 24, 'media_count': 1, 'artist': {'image': None, 'name': 'Taylor Swift', 'id': 70899, 'albums_count': 1004, 'slug': 'taylor-swift', 'picture': None}, 'upc': '0602435037967', 'released_at': 1595541600, 'label': {'name': 'Taylor Swift', 'id': 313742, 'albums_count': 222, 'supplier_id': 1, 'slug': 'taylor-swift'}, 'title': 'Folklore (Explicit)', 'qobuz_id': 98522697, 'version': None, 'duration': 3807, 'parental_warning': True, 'tracks_count': 16, 'popularity': 0, 'genre': {'path': [112, 119, 113], 'color': '#0070ef', 'name': 'Alternative & Indie', 'id': 113, 'slug': 'alternatif-et-inde'}, 'maximum_channel_count': 2, 'id': 'gpfwxb50vbcmb', 'maximum_sampling_rate': 44.1, 'previewable': True, 'sampleable': True, 'displayable': True, 'streamable': False, 'streamable_at': 1688886000, 'downloadable': False, 'purchasable_at': None, 'purchasable': False, 'release_date_original': '2020-07-24', 'release_date_download': '2020-07-24', 'release_date_stream': '2020-07-24', 'release_date_purchase': '2020-07-24', 'hires': True, 'hires_streamable': False}, 'work': None, 'composer': {'name': 'Taylor Swift', 'id': 70899}, 'isrc': 'USUG12002839', 'title': 'my tears ricochet', 'version': None, 'duration': 255, 'parental_warning': False, 'track_number': 5, 'maximum_channel_count': 2, 'id': 98522702, 'media_number': 1, 'maximum_sampling_rate': 44.1, 'release_date_original': None, 'release_date_download': None, 'release_date_stream': None, 'release_date_purchase': None, 'purchasable': True, 'streamable': False, 'previewable': True, 'sampleable': True, 'downloadable': True, 'displayable': True, 'purchasable_at': 1688886000, 'streamable_at': 1688886000, 'hires': True, 'hires_streamable': False, 'position': 18, 'created_at': 1669008016, 'playlist_track_id': 2038671412}\n",
      "{'maximum_bit_depth': 16, 'copyright': '℗ 2014 Big Machine Records, LLC', 'performers': 'Max Martin, Producer, ComposerLyricist - Shellback, Producer, ComposerLyricist - Taylor Swift, MainArtist, ComposerLyricist', 'audio_info': {'replaygain_track_peak': 0.99884, 'replaygain_track_gain': -9.26}, 'performer': {'name': 'Taylor Swift', 'id': 70899}, 'album': {'image': {'small': 'https://static.qobuz.com/images/covers/ta/ym/id29re6slymta_230.jpg', 'thumbnail': 'https://static.qobuz.com/images/covers/ta/ym/id29re6slymta_50.jpg', 'large': 'https://static.qobuz.com/images/covers/ta/ym/id29re6slymta_600.jpg'}, 'maximum_bit_depth': 16, 'media_count': 1, 'artist': {'image': None, 'name': 'Taylor Swift', 'id': 70899, 'albums_count': 952, 'slug': 'taylor-swift', 'picture': None}, 'upc': '0843930013609', 'released_at': 1414364400, 'label': {'name': 'Big Machine Records, LLC', 'id': 17893, 'albums_count': 985, 'supplier_id': 1, 'slug': 'big-machine-records-llc'}, 'title': '1989', 'qobuz_id': 53965341, 'version': 'Deluxe Edition', 'duration': 4101, 'parental_warning': False, 'tracks_count': 19, 'popularity': 0, 'genre': {'path': [112, 117], 'color': '#0070ef', 'name': 'Pop', 'id': 117, 'slug': 'pop'}, 'maximum_channel_count': 2, 'id': 'id29re6slymta', 'maximum_sampling_rate': 44.1, 'previewable': True, 'sampleable': True, 'displayable': True, 'streamable': False, 'streamable_at': 1683529200, 'downloadable': False, 'purchasable_at': None, 'purchasable': False, 'release_date_original': '2014-10-27', 'release_date_download': '2014-10-27', 'release_date_stream': '2014-10-27', 'release_date_purchase': '2014-10-27', 'hires': False, 'hires_streamable': False}, 'work': None, 'composer': {'name': 'Shellback', 'id': 153029}, 'isrc': 'USCJY1431369', 'title': 'Bad Blood', 'version': None, 'duration': 211, 'parental_warning': False, 'track_number': 8, 'maximum_channel_count': 2, 'id': 53965349, 'media_number': 1, 'maximum_sampling_rate': 44.1, 'release_date_original': None, 'release_date_download': None, 'release_date_stream': None, 'release_date_purchase': None, 'purchasable': True, 'streamable': False, 'previewable': True, 'sampleable': True, 'downloadable': True, 'displayable': True, 'purchasable_at': 1683702000, 'streamable_at': 1683529200, 'hires': False, 'hires_streamable': False, 'position': 19, 'created_at': 1669008143, 'playlist_track_id': 2038682011}\n",
      "{'maximum_bit_depth': 24, 'copyright': '℗ 2021 Taylor Swift', 'performers': 'Max Bernstein, Electric Guitar, AssociatedPerformer - David Payne, Recording Engineer, StudioPersonnel - Serban Ghenea, Mixer, StudioPersonnel - Jonathan Yudkin, Strings, AssociatedPerformer - Dan Burns, Additional Engineer, StudioPersonnel - Taylor Swift, Producer, Vocals, Background Vocalist, MainArtist, AssociatedPerformer, ComposerLyricist - Matt Billingslea, Drums, Percussion, Vibraphone, AssociatedPerformer - Christopher Rowe, Producer, Vocal Engineer, StudioPersonnel - Austin Brown, Editor, Asst. Recording Engineer, StudioPersonnel - Randy Merrill, Mastering Engineer, StudioPersonnel - Paul Sidoti, Electric Guitar, AssociatedPerformer - Mike Meadows, Electric Guitar, Synthesizer, AssociatedPerformer - Amos Heller, Bass Guitar, AssociatedPerformer - Derek Garten, Editor, Engineer, StudioPersonnel - Bryce Bordone, Mix Engineer, StudioPersonnel', 'audio_info': {'replaygain_track_peak': 1, 'replaygain_track_gain': -9.89}, 'performer': {'name': 'Taylor Swift', 'id': 70899}, 'album': {'image': {'small': 'https://static.qobuz.com/images/covers/6a/n5/oulc1w5vun56a_230.jpg', 'thumbnail': 'https://static.qobuz.com/images/covers/6a/n5/oulc1w5vun56a_50.jpg', 'large': 'https://static.qobuz.com/images/covers/6a/n5/oulc1w5vun56a_600.jpg'}, 'maximum_bit_depth': 24, 'media_count': 1, 'artist': {'image': None, 'name': 'Taylor Swift', 'id': 70899, 'albums_count': 1004, 'slug': 'taylor-swift', 'picture': None}, 'upc': '0602438993857', 'released_at': 1636671600, 'label': {'name': 'Taylor Swift', 'id': 313742, 'albums_count': 222, 'supplier_id': 1, 'slug': 'taylor-swift'}, 'title': \"Red (Taylor's Version)\", 'qobuz_id': 138305275, 'version': None, 'duration': 7826, 'parental_warning': True, 'tracks_count': 30, 'popularity': 0, 'genre': {'path': [112, 117], 'color': '#0070ef', 'name': 'Pop', 'id': 117, 'slug': 'pop'}, 'maximum_channel_count': 2, 'id': 'oulc1w5vun56a', 'maximum_sampling_rate': 96, 'previewable': True, 'sampleable': True, 'displayable': True, 'streamable': False, 'streamable_at': 1688886000, 'downloadable': False, 'purchasable_at': None, 'purchasable': False, 'release_date_original': '2021-11-12', 'release_date_download': '2021-11-12', 'release_date_stream': '2021-11-12', 'release_date_purchase': '2021-11-12', 'hires': True, 'hires_streamable': False}, 'work': None, 'composer': {'name': 'Taylor Swift', 'id': 70899}, 'isrc': 'USUG12103661', 'title': \"State Of Grace (Taylor's Version)\", 'version': None, 'duration': 295, 'parental_warning': False, 'track_number': 1, 'maximum_channel_count': 2, 'id': 138305276, 'media_number': 1, 'maximum_sampling_rate': 96, 'release_date_original': None, 'release_date_download': None, 'release_date_stream': None, 'release_date_purchase': None, 'purchasable': True, 'streamable': False, 'previewable': True, 'sampleable': True, 'downloadable': True, 'displayable': True, 'purchasable_at': 1688886000, 'streamable_at': 1688886000, 'hires': True, 'hires_streamable': False, 'position': 20, 'created_at': 1669008016, 'playlist_track_id': 2038671414}\n",
      "{'maximum_bit_depth': 24, 'copyright': '℗ 2022 Taylor Swift', 'performers': 'Serban Ghenea, Mixer, StudioPersonnel - Taylor Swift, Producer, Vocals, MainArtist, AssociatedPerformer, ComposerLyricist - Laura Sisk, Recording Engineer, StudioPersonnel - John Rooney, Asst. Recording Engineer, StudioPersonnel - Lana Del Rey, Vocals, FeaturedArtist, AssociatedPerformer, ComposerLyricist - Jon Sher, Asst. Recording Engineer, StudioPersonnel - Jack Antonoff, Producer, Drums, Acoustic Guitar, Electric Guitar, Percussion, Recording Engineer, Bass, Synthesizer, Mellotron, Programming, Background Vocalist, AssociatedPerformer, StudioPersonnel, ComposerLyricist - Randy Merrill, Mastering Engineer, StudioPersonnel - Evan Smith, Recording Engineer, Synthesizer, AssociatedPerformer, StudioPersonnel - Dave Gross, Recording Engineer, StudioPersonnel - Bryce Bordone, Assistant Mixer, StudioPersonnel - Jacob Spitzer, Asst. Recording Engineer, StudioPersonnel - Bobby Hawk, Violin, AssociatedPerformer - Megan Searl, Asst. Recording Engineer, StudioPersonnel - Dylan O’Brien, Drums, AssociatedPerformer', 'audio_info': {'replaygain_track_peak': 0.983673, 'replaygain_track_gain': -7.74}, 'performer': {'name': 'Taylor Swift', 'id': 70899}, 'album': {'image': {'small': 'https://static.qobuz.com/images/covers/mc/ry/owy5tuxf7rymc_230.jpg', 'thumbnail': 'https://static.qobuz.com/images/covers/mc/ry/owy5tuxf7rymc_50.jpg', 'large': 'https://static.qobuz.com/images/covers/mc/ry/owy5tuxf7rymc_600.jpg'}, 'maximum_bit_depth': 24, 'media_count': 1, 'artist': {'image': None, 'name': 'Taylor Swift', 'id': 70899, 'albums_count': 1091, 'slug': 'taylor-swift', 'picture': None}, 'upc': '0602448638786', 'released_at': 1666303200, 'label': {'name': 'Taylor Swift', 'id': 313742, 'albums_count': 222, 'supplier_id': 1, 'slug': 'taylor-swift'}, 'title': 'Midnights', 'qobuz_id': 181280575, 'version': None, 'duration': 2642, 'parental_warning': True, 'tracks_count': 13, 'popularity': 0, 'genre': {'path': [112, 117], 'color': '#0070ef', 'name': 'Pop', 'id': 117, 'slug': 'pop'}, 'maximum_channel_count': 2, 'id': 'owy5tuxf7rymc', 'maximum_sampling_rate': 48, 'previewable': True, 'sampleable': True, 'displayable': True, 'streamable': False, 'streamable_at': 1695884400, 'downloadable': False, 'purchasable_at': None, 'purchasable': False, 'release_date_original': '2022-10-21', 'release_date_download': '2022-10-21', 'release_date_stream': '2022-10-21', 'release_date_purchase': '2022-10-21', 'hires': True, 'hires_streamable': False}, 'work': None, 'composer': {'name': 'Jack Antonoff', 'id': 778282}, 'isrc': 'USUG12205737', 'title': 'Snow On The Beach', 'version': None, 'duration': 256, 'parental_warning': True, 'track_number': 4, 'maximum_channel_count': 2, 'id': 181280579, 'media_number': 1, 'maximum_sampling_rate': 48, 'release_date_original': None, 'release_date_download': None, 'release_date_stream': None, 'release_date_purchase': None, 'purchasable': True, 'streamable': False, 'previewable': True, 'sampleable': True, 'downloadable': True, 'displayable': True, 'purchasable_at': 1695884400, 'streamable_at': 1695884400, 'hires': True, 'hires_streamable': False, 'position': 21, 'created_at': 1669008016, 'playlist_track_id': 2038671415}\n",
      "{'maximum_bit_depth': 16, 'copyright': '℗ 2008 Big Machine Records, LLC All Rights Reserved', 'performers': 'Liz Rose, ComposerLyricist - Taylor Swift, MainArtist, ComposerLyricist', 'audio_info': {'replaygain_track_peak': 0.98587, 'replaygain_track_gain': -11.36}, 'performer': {'name': 'Taylor Swift', 'id': 70899}, 'album': {'image': {'small': 'https://static.qobuz.com/images/covers/oa/9h/qwrzlxac89hoa_230.jpg', 'thumbnail': 'https://static.qobuz.com/images/covers/oa/9h/qwrzlxac89hoa_50.jpg', 'large': 'https://static.qobuz.com/images/covers/oa/9h/qwrzlxac89hoa_600.jpg'}, 'maximum_bit_depth': 16, 'media_count': 1, 'artist': {'image': None, 'name': 'Taylor Swift', 'id': 70899, 'albums_count': 952, 'slug': 'taylor-swift', 'picture': None}, 'upc': '0843930000821', 'released_at': 1161640800, 'label': {'name': 'Big Machine Records, LLC', 'id': 17893, 'albums_count': 985, 'supplier_id': 1, 'slug': 'big-machine-records-llc'}, 'title': 'Taylor Swift', 'qobuz_id': 54302100, 'version': None, 'duration': 3196, 'parental_warning': False, 'tracks_count': 15, 'popularity': 0, 'genre': {'path': [4], 'color': '#0070ef', 'name': 'Country', 'id': 4, 'slug': 'country'}, 'maximum_channel_count': 2, 'id': 'qwrzlxac89hoa', 'maximum_sampling_rate': 44.1, 'previewable': True, 'sampleable': True, 'displayable': True, 'streamable': False, 'streamable_at': 1683529200, 'downloadable': False, 'purchasable_at': None, 'purchasable': False, 'release_date_original': '2006-10-24', 'release_date_download': '2006-10-24', 'release_date_stream': '2006-10-24', 'release_date_purchase': '2006-10-24', 'hires': False, 'hires_streamable': False}, 'work': None, 'composer': {'name': 'Taylor Swift', 'id': 70899}, 'isrc': 'USCJY0603250', 'title': 'Picture To Burn', 'version': None, 'duration': 172, 'parental_warning': False, 'track_number': 2, 'maximum_channel_count': 2, 'id': 54302102, 'media_number': 1, 'maximum_sampling_rate': 44.1, 'release_date_original': None, 'release_date_download': None, 'release_date_stream': None, 'release_date_purchase': None, 'purchasable': True, 'streamable': False, 'previewable': True, 'sampleable': True, 'downloadable': True, 'displayable': True, 'purchasable_at': 1683702000, 'streamable_at': 1683529200, 'hires': False, 'hires_streamable': False, 'position': 22, 'created_at': 1669042727, 'playlist_track_id': 2042172847}\n",
      "{'maximum_bit_depth': 24, 'copyright': '℗ 2021 Taylor Swift', 'performers': 'Liz Rose, ComposerLyricist - Hillary Lindsey, ComposerLyricist - Max Bernstein, Electric Guitar, AssociatedPerformer - David Payne, Recording Engineer, StudioPersonnel - John Hanes, Engineer, StudioPersonnel - Serban Ghenea, Mixer, StudioPersonnel - Lowell Reynolds, Additional Engineer, Asst. Recording Engineer, StudioPersonnel - Jonathan Yudkin, Fiddle, AssociatedPerformer - Caitlin Evanson, Background Vocalist, AssociatedPerformer - Taylor Swift, Producer, Vocals, MainArtist, AssociatedPerformer, ComposerLyricist - Matt Billingslea, Drums, AssociatedPerformer - Christopher Rowe, Producer, Vocal Engineer, StudioPersonnel - Randy Merrill, Mastering Engineer, StudioPersonnel - Paul Sidoti, Electric Guitar, Background Vocalist, AssociatedPerformer - Mike Meadows, Acoustic Guitar, Mandolin, Hammond B3, Background Vocalist, AssociatedPerformer, 12-String Acoustic Guitar - Amos Heller, Bass, AssociatedPerformer - Derek Garten, Additional Engineer, StudioPersonnel', 'audio_info': {'replaygain_track_peak': 1, 'replaygain_track_gain': -9.98}, 'performer': {'name': 'Taylor Swift', 'id': 70899}, 'album': {'image': {'small': 'https://static.qobuz.com/images/covers/ic/0c/r8361te6k0cic_230.jpg', 'thumbnail': 'https://static.qobuz.com/images/covers/ic/0c/r8361te6k0cic_50.jpg', 'large': 'https://static.qobuz.com/images/covers/ic/0c/r8361te6k0cic_600.jpg'}, 'maximum_bit_depth': 24, 'media_count': 1, 'artist': {'image': None, 'name': 'Taylor Swift', 'id': 70899, 'albums_count': 1084, 'slug': 'taylor-swift', 'picture': None}, 'upc': '0602435838908', 'released_at': 1617919200, 'label': {'name': 'Taylor Swift', 'id': 313742, 'albums_count': 222, 'supplier_id': 1, 'slug': 'taylor-swift'}, 'title': \"Fearless (Taylor's Version)\", 'qobuz_id': 119360712, 'version': None, 'duration': 6380, 'parental_warning': False, 'tracks_count': 26, 'popularity': 0, 'genre': {'path': [4], 'color': '#0070ef', 'name': 'Country', 'id': 4, 'slug': 'country'}, 'maximum_channel_count': 2, 'id': 'r8361te6k0cic', 'maximum_sampling_rate': 96, 'previewable': True, 'sampleable': True, 'displayable': True, 'streamable': False, 'streamable_at': 1695106800, 'downloadable': False, 'purchasable_at': None, 'purchasable': False, 'release_date_original': '2021-04-09', 'release_date_download': '2021-04-09', 'release_date_stream': '2021-04-09', 'release_date_purchase': '2021-04-09', 'hires': True, 'hires_streamable': False}, 'work': None, 'composer': {'name': 'Taylor Swift', 'id': 70899}, 'isrc': 'USUG12100618', 'title': 'Fearless (Taylor’s Version)', 'version': None, 'duration': 241, 'parental_warning': False, 'track_number': 1, 'maximum_channel_count': 2, 'id': 119360713, 'media_number': 1, 'maximum_sampling_rate': 96, 'release_date_original': None, 'release_date_download': None, 'release_date_stream': None, 'release_date_purchase': None, 'purchasable': True, 'streamable': False, 'previewable': True, 'sampleable': True, 'downloadable': True, 'displayable': True, 'purchasable_at': 1695106800, 'streamable_at': 1695106800, 'hires': True, 'hires_streamable': False, 'position': 23, 'created_at': 1669042034, 'playlist_track_id': 2042102815}\n",
      "{'maximum_bit_depth': 24, 'copyright': '℗ 2021 Taylor Swift', 'performers': 'Max Bernstein, Synthesizer, Steel Guitar, AssociatedPerformer - David Payne, Recording Engineer, StudioPersonnel - David Cook, Piano, AssociatedPerformer - Serban Ghenea, Mixer, StudioPersonnel - Jonathan Yudkin, Violin, AssociatedPerformer - Dan Burns, Additional Engineer, StudioPersonnel - Charlie Judge, Accordion, AssociatedPerformer - Caitlin Evanson, Background Vocalist, AssociatedPerformer - Taylor Swift, Producer, Vocals, MainArtist, AssociatedPerformer, ComposerLyricist - Matt Billingslea, Drums, Percussion, AssociatedPerformer - Christopher Rowe, Producer, Vocal Engineer, StudioPersonnel - Austin Brown, Editor, Asst. Recording Engineer, StudioPersonnel - Randy Merrill, Mastering Engineer, StudioPersonnel - Paul Sidoti, Electric Guitar, AssociatedPerformer - Mike Meadows, Acoustic Guitar, Mandolin, Hammond B3, AssociatedPerformer - Amos Heller, Bass Guitar, AssociatedPerformer - Derek Garten, Editor, Engineer, StudioPersonnel - Bryce Bordone, Mix Engineer, StudioPersonnel', 'audio_info': {'replaygain_track_peak': 1, 'replaygain_track_gain': -8.55}, 'performer': {'name': 'Taylor Swift', 'id': 70899}, 'album': {'image': {'small': 'https://static.qobuz.com/images/covers/6a/n5/oulc1w5vun56a_230.jpg', 'thumbnail': 'https://static.qobuz.com/images/covers/6a/n5/oulc1w5vun56a_50.jpg', 'large': 'https://static.qobuz.com/images/covers/6a/n5/oulc1w5vun56a_600.jpg'}, 'maximum_bit_depth': 24, 'media_count': 1, 'artist': {'image': None, 'name': 'Taylor Swift', 'id': 70899, 'albums_count': 1004, 'slug': 'taylor-swift', 'picture': None}, 'upc': '0602438993857', 'released_at': 1636671600, 'label': {'name': 'Taylor Swift', 'id': 313742, 'albums_count': 222, 'supplier_id': 1, 'slug': 'taylor-swift'}, 'title': \"Red (Taylor's Version)\", 'qobuz_id': 138305275, 'version': None, 'duration': 7826, 'parental_warning': True, 'tracks_count': 30, 'popularity': 0, 'genre': {'path': [112, 117], 'color': '#0070ef', 'name': 'Pop', 'id': 117, 'slug': 'pop'}, 'maximum_channel_count': 2, 'id': 'oulc1w5vun56a', 'maximum_sampling_rate': 96, 'previewable': True, 'sampleable': True, 'displayable': True, 'streamable': False, 'streamable_at': 1688886000, 'downloadable': False, 'purchasable_at': None, 'purchasable': False, 'release_date_original': '2021-11-12', 'release_date_download': '2021-11-12', 'release_date_stream': '2021-11-12', 'release_date_purchase': '2021-11-12', 'hires': True, 'hires_streamable': False}, 'work': None, 'composer': {'name': 'Taylor Swift', 'id': 70899}, 'isrc': 'USUG12103676', 'title': \"Begin Again (Taylor's Version)\", 'version': None, 'duration': 238, 'parental_warning': False, 'track_number': 16, 'maximum_channel_count': 2, 'id': 138305291, 'media_number': 1, 'maximum_sampling_rate': 96, 'release_date_original': None, 'release_date_download': None, 'release_date_stream': None, 'release_date_purchase': None, 'purchasable': True, 'streamable': False, 'previewable': True, 'sampleable': True, 'downloadable': True, 'displayable': True, 'purchasable_at': 1688886000, 'streamable_at': 1688886000, 'hires': True, 'hires_streamable': False, 'position': 24, 'created_at': 1669042301, 'playlist_track_id': 2042127752}\n",
      "{'maximum_bit_depth': 24, 'copyright': '℗ 2020 Taylor Swift', 'performers': 'Greg Calbi, Mastering Engineer, StudioPersonnel - Steve Fallone, Mastering Engineer, StudioPersonnel - Ariel Rechtshaid, Vocal Engineer, StudioPersonnel - Haim, FeaturedArtist - Taylor Swift, Producer, MainArtist, ComposerLyricist - Aaron Dessner, Producer, Acoustic Guitar, Electric Guitar, Mandolin, Piano, Recording Engineer, Bass, Synthesizer, AssociatedPerformer, StudioPersonnel - JT Bates, Drums, AssociatedPerformer - Josh Kaufman, Electric Guitar, Organ, Harmonica, Lap Steel Guitar, AssociatedPerformer - Jonathan Low, Mixer, Recording Engineer, Vocal Engineer, StudioPersonnel - Matt DiMona, Vocal Engineer, StudioPersonnel', 'audio_info': {'replaygain_track_peak': 0.965424, 'replaygain_track_gain': -9.79}, 'performer': {'name': 'Taylor Swift', 'id': 70899}, 'album': {'image': {'small': 'https://static.qobuz.com/images/covers/nb/j4/bbqhrrpxdj4nb_230.jpg', 'thumbnail': 'https://static.qobuz.com/images/covers/nb/j4/bbqhrrpxdj4nb_50.jpg', 'large': 'https://static.qobuz.com/images/covers/nb/j4/bbqhrrpxdj4nb_600.jpg'}, 'maximum_bit_depth': 24, 'media_count': 1, 'artist': {'image': None, 'name': 'Taylor Swift', 'id': 70899, 'albums_count': 1004, 'slug': 'taylor-swift', 'picture': None}, 'upc': '0602435648545', 'released_at': 1607641200, 'label': {'name': 'Taylor Swift', 'id': 313742, 'albums_count': 222, 'supplier_id': 1, 'slug': 'taylor-swift'}, 'title': 'evermore (Explicit)', 'qobuz_id': 108768133, 'version': None, 'duration': 3638, 'parental_warning': True, 'tracks_count': 15, 'popularity': 0, 'genre': {'path': [112, 119, 113], 'color': '#0070ef', 'name': 'Alternative & Indie', 'id': 113, 'slug': 'alternatif-et-inde'}, 'maximum_channel_count': 2, 'id': 'bbqhrrpxdj4nb', 'maximum_sampling_rate': 88.2, 'previewable': True, 'sampleable': True, 'displayable': True, 'streamable': False, 'streamable_at': 1688886000, 'downloadable': False, 'purchasable_at': None, 'purchasable': False, 'release_date_original': '2020-12-11', 'release_date_download': '2020-12-11', 'release_date_stream': '2020-12-11', 'release_date_purchase': '2020-12-11', 'hires': True, 'hires_streamable': False}, 'work': None, 'composer': {'name': 'Taylor Swift', 'id': 70899}, 'isrc': 'USUG12004707', 'title': 'no body, no crime', 'version': 'feat. HAIM', 'duration': 215, 'parental_warning': False, 'track_number': 6, 'maximum_channel_count': 2, 'id': 108768139, 'media_number': 1, 'maximum_sampling_rate': 88.2, 'release_date_original': None, 'release_date_download': None, 'release_date_stream': None, 'release_date_purchase': None, 'purchasable': True, 'streamable': False, 'previewable': True, 'sampleable': True, 'downloadable': True, 'displayable': True, 'purchasable_at': 1688886000, 'streamable_at': 1688886000, 'hires': True, 'hires_streamable': False, 'position': 25, 'created_at': 1669008016, 'playlist_track_id': 2038671419}\n",
      "{'maximum_bit_depth': 16, 'copyright': '℗ 2011 Big Machine Records, LLC', 'performers': 'John Paul White, Acoustic Guitar, AssociatedPerformer, ComposerLyricist - Joy Williams, ComposerLyricist - T-Bone Burnett, Producer, ComposerLyricist - Gavin Lurssen, Mastering Engineer, StudioPersonnel - Jason Wormer, Mixer, Recording Engineer, StudioPersonnel - Mike Piersante, Mixer, StudioPersonnel - Vanessa Parr, Assistant Mixer, StudioPersonnel - Jay Bellerose, Drums, AssociatedPerformer - Greg Leisz, Pedal Steel, AssociatedPerformer - Keefus Green, Keyboards, AssociatedPerformer - Taylor Swift, Performer, MainArtist, AssociatedPerformer, ComposerLyricist - The Civil Wars, Performer, FeaturedArtist, AssociatedPerformer', 'audio_info': {'replaygain_track_peak': 0.999969, 'replaygain_track_gain': -5.89}, 'performer': {'name': 'Taylor Swift', 'id': 70899}, 'album': {'image': {'small': 'https://static.qobuz.com/images/covers/18/69/0060252796918_230.jpg', 'thumbnail': 'https://static.qobuz.com/images/covers/18/69/0060252796918_50.jpg', 'large': 'https://static.qobuz.com/images/covers/18/69/0060252796918_600.jpg'}, 'maximum_bit_depth': 16, 'media_count': 1, 'artist': {'image': None, 'name': 'Various Artists', 'id': 145383, 'albums_count': 79333, 'slug': 'various-artists', 'picture': None}, 'upc': '0060252796918', 'released_at': 1325372400, 'label': {'name': 'Universal Records', 'id': 17417, 'albums_count': 1853, 'supplier_id': 1, 'slug': 'universal-records'}, 'title': 'The Hunger Games: Songs From District 12 And Beyond', 'qobuz_id': 5120216, 'version': None, 'duration': 3490, 'parental_warning': False, 'tracks_count': 16, 'popularity': 0, 'genre': {'path': [91, 92], 'color': '#0070ef', 'name': 'Film Soundtracks', 'id': 92, 'slug': 'bandes-originales-de-films'}, 'maximum_channel_count': 2, 'id': '0060252796918', 'maximum_sampling_rate': 44.1, 'previewable': True, 'sampleable': True, 'displayable': True, 'streamable': False, 'streamable_at': 1683529200, 'downloadable': False, 'purchasable_at': None, 'purchasable': False, 'release_date_original': '2012-01-01', 'release_date_download': '2012-01-01', 'release_date_stream': '2012-01-01', 'release_date_purchase': '2012-01-01', 'hires': False, 'hires_streamable': False}, 'work': None, 'composer': {'name': 'T Bone Burnett', 'id': 172308}, 'isrc': 'USUM71120255', 'title': 'Safe & Sound', 'version': 'The Hunger Games/Soundtrack Version', 'duration': 240, 'parental_warning': False, 'track_number': 4, 'maximum_channel_count': 2, 'id': 5120220, 'media_number': 1, 'maximum_sampling_rate': 44.1, 'release_date_original': None, 'release_date_download': None, 'release_date_stream': None, 'release_date_purchase': None, 'purchasable': True, 'streamable': False, 'previewable': True, 'sampleable': True, 'downloadable': True, 'displayable': True, 'purchasable_at': 1683702000, 'streamable_at': 1683529200, 'hires': False, 'hires_streamable': False, 'position': 26, 'created_at': 1669008016, 'playlist_track_id': 2038671420}\n",
      "{'maximum_bit_depth': 16, 'copyright': '℗ 2019 Taylor Swift', 'performers': 'John Hanes, Mix Engineer, StudioPersonnel - Joel Little, Producer, Guitar, Keyboards, Recording Engineer, Drum Programming, Synthesizer Programming, AssociatedPerformer, StudioPersonnel, ComposerLyricist - Serban Ghenea, Mix Engineer, StudioPersonnel - BRENDON URIE, Vocals, FeaturedArtist, AssociatedPerformer, ComposerLyricist - Taylor Swift, Producer, Vocals, MainArtist, AssociatedPerformer, ComposerLyricist - John Rooney, Asst. Recording Engineer, StudioPersonnel', 'audio_info': {'replaygain_track_peak': 1, 'replaygain_track_gain': -10.63}, 'performer': {'name': 'Taylor Swift', 'id': 70899}, 'album': {'image': {'small': 'https://static.qobuz.com/images/covers/xb/2u/h1r19zw2l2uxb_230.jpg', 'thumbnail': 'https://static.qobuz.com/images/covers/xb/2u/h1r19zw2l2uxb_50.jpg', 'large': 'https://static.qobuz.com/images/covers/xb/2u/h1r19zw2l2uxb_600.jpg'}, 'maximum_bit_depth': 16, 'media_count': 1, 'artist': {'image': None, 'name': 'Taylor Swift', 'id': 70899, 'albums_count': 1058, 'slug': 'taylor-swift', 'picture': None}, 'upc': '0602508009228', 'released_at': 1566511200, 'label': {'name': 'Taylor Swift', 'id': 313742, 'albums_count': 222, 'supplier_id': 1, 'slug': 'taylor-swift'}, 'title': 'Lover', 'qobuz_id': 68263894, 'version': None, 'duration': 3685, 'parental_warning': False, 'tracks_count': 18, 'popularity': 0, 'genre': {'path': [112, 117], 'color': '#0070ef', 'name': 'Pop', 'id': 117, 'slug': 'pop'}, 'maximum_channel_count': 2, 'id': 'h1r19zw2l2uxb', 'maximum_sampling_rate': 44.1, 'previewable': True, 'sampleable': True, 'displayable': True, 'streamable': False, 'streamable_at': 1692601200, 'downloadable': False, 'purchasable_at': None, 'purchasable': False, 'release_date_original': '2019-08-23', 'release_date_download': '2019-08-23', 'release_date_stream': '2019-08-23', 'release_date_purchase': '2019-08-23', 'hires': False, 'hires_streamable': False}, 'work': None, 'composer': {'name': 'Joel Little', 'id': 309079}, 'isrc': 'USUG11901267', 'title': 'ME!', 'version': None, 'duration': 192, 'parental_warning': False, 'track_number': 16, 'maximum_channel_count': 2, 'id': 68263910, 'media_number': 1, 'maximum_sampling_rate': 44.1, 'release_date_original': None, 'release_date_download': None, 'release_date_stream': None, 'release_date_purchase': None, 'purchasable': True, 'streamable': False, 'previewable': True, 'sampleable': True, 'downloadable': True, 'displayable': True, 'purchasable_at': 1692601200, 'streamable_at': 1692601200, 'hires': False, 'hires_streamable': False, 'position': 27, 'created_at': 1669008016, 'playlist_track_id': 2038671421}\n",
      "{'maximum_bit_depth': 16, 'copyright': '℗ 2017 Big Machine Label Group, LLC', 'performers': 'Max Martin, Producer, Keyboards, Programmer, Recording Engineer, AssociatedPerformer, StudioPersonnel, ComposerLyricist - Shellback, Producer, Keyboards, Programmer, Recording Engineer, AssociatedPerformer, StudioPersonnel, ComposerLyricist - John Hanes, Mix Engineer, StudioPersonnel - Serban Ghenea, Mixer, StudioPersonnel - Ali Payami, Producer, Keyboards, Programmer, AssociatedPerformer, ComposerLyricist - Taylor Swift, Vocals, MainArtist, AssociatedPerformer, ComposerLyricist - Randy Merrill, Mastering Engineer, StudioPersonnel', 'audio_info': {'replaygain_track_peak': 0.99884, 'replaygain_track_gain': -9.83}, 'performer': {'name': 'Taylor Swift', 'id': 70899}, 'album': {'image': {'small': 'https://static.qobuz.com/images/covers/14/33/0084393003314_230.jpg', 'thumbnail': 'https://static.qobuz.com/images/covers/14/33/0084393003314_50.jpg', 'large': 'https://static.qobuz.com/images/covers/14/33/0084393003314_600.jpg'}, 'maximum_bit_depth': 16, 'media_count': 1, 'artist': {'image': None, 'name': 'Taylor Swift', 'id': 70899, 'albums_count': 952, 'slug': 'taylor-swift', 'picture': None}, 'upc': '0084393003314', 'released_at': 1510268400, 'label': {'name': 'Big Machine Records, LLC', 'id': 17893, 'albums_count': 985, 'supplier_id': 1, 'slug': 'big-machine-records-llc'}, 'title': 'reputation', 'qobuz_id': 45281657, 'version': None, 'duration': 3325, 'parental_warning': False, 'tracks_count': 15, 'popularity': 0, 'genre': {'path': [112, 117], 'color': '#0070ef', 'name': 'Pop', 'id': 117, 'slug': 'pop'}, 'maximum_channel_count': 2, 'id': '0084393003314', 'maximum_sampling_rate': 44.1, 'previewable': True, 'sampleable': True, 'displayable': True, 'streamable': False, 'streamable_at': 1683529200, 'downloadable': False, 'purchasable_at': None, 'purchasable': False, 'release_date_original': '2017-11-10', 'release_date_download': '2017-11-10', 'release_date_stream': '2017-11-10', 'release_date_purchase': '2017-11-10', 'hires': False, 'hires_streamable': False}, 'work': None, 'composer': {'name': 'Max Martin', 'id': 152762}, 'isrc': 'USCJY1750003', 'title': '...Ready For It?', 'version': None, 'duration': 208, 'parental_warning': False, 'track_number': 1, 'maximum_channel_count': 2, 'id': 45281658, 'media_number': 1, 'maximum_sampling_rate': 44.1, 'release_date_original': None, 'release_date_download': None, 'release_date_stream': None, 'release_date_purchase': None, 'purchasable': True, 'streamable': False, 'previewable': True, 'sampleable': True, 'downloadable': True, 'displayable': True, 'purchasable_at': 1683702000, 'streamable_at': 1683529200, 'hires': False, 'hires_streamable': False, 'position': 28, 'created_at': 1669008016, 'playlist_track_id': 2038671422}\n",
      "{'maximum_bit_depth': 24, 'copyright': '℗ 2022 Taylor Swift', 'performers': 'Justin Vernon, Additional Engineer, Unknown, Other, StudioPersonnel - Taylor Swift, Producer, Vocals, MainArtist, AssociatedPerformer, ComposerLyricist - Aaron Dessner, Producer, Guitar, Bass Guitar, Electric Guitar, Piano, Recording Engineer, Synthesizer, Harmonica, Drum Programming, AssociatedPerformer, StudioPersonnel, ComposerLyricist - Thomas Bartlett, Additional Engineer, Keyboards, Synthesizer, AssociatedPerformer, StudioPersonnel - James McAlister, Drums, Additional Engineer, Synthesizer, Drum Programming, AssociatedPerformer, StudioPersonnel - Bryan Devendorf, Drums, AssociatedPerformer - Bryce Dessner, Electric Guitar, AssociatedPerformer - Randy Merrill, Mastering Engineer, StudioPersonnel - Jonathan Low, Mixer, Recording Engineer, Vocal Engineer, StudioPersonnel - Bella Blasko, Recording Engineer, StudioPersonnel - Stu Tenold, Unknown, Other', 'audio_info': {'replaygain_track_peak': 1, 'replaygain_track_gain': -10.14}, 'performer': {'name': 'Taylor Swift', 'id': 70899}, 'album': {'image': {'small': 'https://static.qobuz.com/images/covers/vc/7i/w3ubzm5787ivc_230.jpg', 'thumbnail': 'https://static.qobuz.com/images/covers/vc/7i/w3ubzm5787ivc_50.jpg', 'large': 'https://static.qobuz.com/images/covers/vc/7i/w3ubzm5787ivc_600.jpg'}, 'maximum_bit_depth': 24, 'media_count': 1, 'artist': {'image': None, 'name': 'Taylor Swift', 'id': 70899, 'albums_count': 1043, 'slug': 'taylor-swift', 'picture': None}, 'upc': '0602448843715', 'released_at': 1666303200, 'label': {'name': 'Taylor Swift', 'id': 313742, 'albums_count': 222, 'supplier_id': 1, 'slug': 'taylor-swift'}, 'title': 'Midnights', 'qobuz_id': 181293511, 'version': '3am Edition', 'duration': 4160, 'parental_warning': False, 'tracks_count': 20, 'popularity': 0, 'genre': {'path': [112, 117], 'color': '#0070ef', 'name': 'Pop', 'id': 117, 'slug': 'pop'}, 'maximum_channel_count': 2, 'id': 'w3ubzm5787ivc', 'maximum_sampling_rate': 48, 'previewable': True, 'sampleable': True, 'displayable': True, 'streamable': False, 'streamable_at': 1691305200, 'downloadable': False, 'purchasable_at': None, 'purchasable': False, 'release_date_original': '2022-10-21', 'release_date_download': '2022-10-21', 'release_date_stream': '2022-10-21', 'release_date_purchase': '2022-10-21', 'hires': True, 'hires_streamable': False}, 'work': None, 'composer': {'name': 'Aaron Dessner', 'id': 630289}, 'isrc': 'USUG12207556', 'title': \"Would've, Could've, Should've\", 'version': None, 'duration': 260, 'parental_warning': False, 'track_number': 19, 'maximum_channel_count': 2, 'id': 181293530, 'media_number': 1, 'maximum_sampling_rate': 48, 'release_date_original': None, 'release_date_download': None, 'release_date_stream': None, 'release_date_purchase': None, 'purchasable': True, 'streamable': False, 'previewable': True, 'sampleable': True, 'downloadable': True, 'displayable': True, 'purchasable_at': 1691305200, 'streamable_at': 1691305200, 'hires': True, 'hires_streamable': False, 'position': 29, 'created_at': 1669008016, 'playlist_track_id': 2038671423}\n",
      "{'maximum_bit_depth': 24, 'copyright': '℗ 2021 Taylor Swift', 'performers': 'Max Bernstein, Electric Guitar, AssociatedPerformer - David Payne, Recording Engineer, StudioPersonnel - John Hanes, Engineer, StudioPersonnel - Serban Ghenea, Mixer, StudioPersonnel - Lowell Reynolds, Additional Engineer, Asst. Recording Engineer, StudioPersonnel - Dan Burns, Synthesizer Programming, AssociatedPerformer - Caitlin Evanson, Background Vocalist, AssociatedPerformer - Taylor Swift, Producer, Vocals, MainArtist, AssociatedPerformer, ComposerLyricist - Matt Billingslea, Drums, AssociatedPerformer - Christopher Rowe, Producer, Vocal Engineer, StudioPersonnel - Randy Merrill, Mastering Engineer, StudioPersonnel - Paul Sidoti, Electric Guitar, AssociatedPerformer - Mike Meadows, Acoustic Guitar, Synthesizer, Synthesizer Programming, AssociatedPerformer - Amos Heller, Bass, AssociatedPerformer - Derek Garten, Additional Engineer, StudioPersonnel', 'audio_info': {'replaygain_track_peak': 1, 'replaygain_track_gain': -10.95}, 'performer': {'name': 'Taylor Swift', 'id': 70899}, 'album': {'image': {'small': 'https://static.qobuz.com/images/covers/ic/0c/r8361te6k0cic_230.jpg', 'thumbnail': 'https://static.qobuz.com/images/covers/ic/0c/r8361te6k0cic_50.jpg', 'large': 'https://static.qobuz.com/images/covers/ic/0c/r8361te6k0cic_600.jpg'}, 'maximum_bit_depth': 24, 'media_count': 1, 'artist': {'image': None, 'name': 'Taylor Swift', 'id': 70899, 'albums_count': 1084, 'slug': 'taylor-swift', 'picture': None}, 'upc': '0602435838908', 'released_at': 1617919200, 'label': {'name': 'Taylor Swift', 'id': 313742, 'albums_count': 222, 'supplier_id': 1, 'slug': 'taylor-swift'}, 'title': \"Fearless (Taylor's Version)\", 'qobuz_id': 119360712, 'version': None, 'duration': 6380, 'parental_warning': False, 'tracks_count': 26, 'popularity': 0, 'genre': {'path': [4], 'color': '#0070ef', 'name': 'Country', 'id': 4, 'slug': 'country'}, 'maximum_channel_count': 2, 'id': 'r8361te6k0cic', 'maximum_sampling_rate': 96, 'previewable': True, 'sampleable': True, 'displayable': True, 'streamable': False, 'streamable_at': 1695106800, 'downloadable': False, 'purchasable_at': None, 'purchasable': False, 'release_date_original': '2021-04-09', 'release_date_download': '2021-04-09', 'release_date_stream': '2021-04-09', 'release_date_purchase': '2021-04-09', 'hires': True, 'hires_streamable': False}, 'work': None, 'composer': {'name': 'Taylor Swift', 'id': 70899}, 'isrc': 'USUG12100629', 'title': 'Change (Taylor’s Version)', 'version': None, 'duration': 279, 'parental_warning': False, 'track_number': 13, 'maximum_channel_count': 2, 'id': 119360725, 'media_number': 1, 'maximum_sampling_rate': 96, 'release_date_original': None, 'release_date_download': None, 'release_date_stream': None, 'release_date_purchase': None, 'purchasable': True, 'streamable': False, 'previewable': True, 'sampleable': True, 'downloadable': True, 'displayable': True, 'purchasable_at': 1695106800, 'streamable_at': 1695106800, 'hires': True, 'hires_streamable': False, 'position': 30, 'created_at': 1669042051, 'playlist_track_id': 2042102952}\n",
      "{'maximum_bit_depth': 16, 'copyright': '℗ 2010 Big Machine Records, LLC', 'performers': 'Nathan Chapman, Producer - Bryan Sutton, Guitar, Ukulele, AssociatedPerformer - Chad Carlson, Producer - Taylor Swift, Vocalist, MainArtist, AssociatedPerformer, ComposerLyricist', 'audio_info': {'replaygain_track_peak': 0.998718, 'replaygain_track_gain': -8.12}, 'performer': {'name': 'Taylor Swift', 'id': 70899}, 'album': {'image': {'small': 'https://static.qobuz.com/images/covers/ha/cu/spxx9oa8rcuha_230.jpg', 'thumbnail': 'https://static.qobuz.com/images/covers/ha/cu/spxx9oa8rcuha_50.jpg', 'large': 'https://static.qobuz.com/images/covers/ha/cu/spxx9oa8rcuha_600.jpg'}, 'maximum_bit_depth': 16, 'media_count': 1, 'artist': {'image': None, 'name': 'Taylor Swift', 'id': 70899, 'albums_count': 1038, 'slug': 'taylor-swift', 'picture': None}, 'upc': '0843930039371', 'released_at': 1510182000, 'label': {'name': 'Big Machine Records, LLC', 'id': 17893, 'albums_count': 1004, 'supplier_id': 1, 'slug': 'big-machine-records-llc'}, 'title': 'reputation Stadium Tour Surprise Song Playlist', 'qobuz_id': 56780241, 'version': None, 'duration': 11116, 'parental_warning': False, 'tracks_count': 46, 'popularity': 0, 'genre': {'path': [112, 117], 'color': '#0070ef', 'name': 'Pop', 'id': 117, 'slug': 'pop'}, 'maximum_channel_count': 2, 'id': 'spxx9oa8rcuha', 'maximum_sampling_rate': 44.1, 'previewable': True, 'sampleable': True, 'displayable': True, 'streamable': False, 'streamable_at': 1690441200, 'downloadable': False, 'purchasable_at': None, 'purchasable': False, 'release_date_original': '2017-11-09', 'release_date_download': '2017-11-09', 'release_date_stream': '2017-11-09', 'release_date_purchase': '2017-11-09', 'hires': False, 'hires_streamable': False}, 'work': None, 'composer': {'name': 'Taylor Swift', 'id': 70899}, 'isrc': 'USCJY1003669', 'title': 'Ours', 'version': None, 'duration': 238, 'parental_warning': False, 'track_number': 26, 'maximum_channel_count': 2, 'id': 56780267, 'media_number': 1, 'maximum_sampling_rate': 44.1, 'release_date_original': None, 'release_date_download': None, 'release_date_stream': None, 'release_date_purchase': None, 'purchasable': False, 'streamable': False, 'previewable': True, 'sampleable': True, 'downloadable': False, 'displayable': True, 'purchasable_at': None, 'streamable_at': 1690441200, 'hires': False, 'hires_streamable': False, 'position': 31, 'created_at': 1669008016, 'playlist_track_id': 2038671425}\n",
      "{'maximum_bit_depth': 16, 'copyright': '℗ 2010 Big Machine Records, LLC', 'performers': 'Tommy Sims, Bass Guitar, AssociatedPerformer - Tim Lauer, Piano, Hammond B3, AssociatedPerformer - Nathan Chapman, Producer, Banjo, Acoustic Guitar, Bass Guitar, Electric Guitar, Mandolin, Organ, Piano, Synthesizer, Digital Piano, AssociatedPerformer - Bryan Sutton, Acoustic Guitar, AssociatedPerformer - Shannon Forrest, Drums, AssociatedPerformer - Eric Darken, Percussion, AssociatedPerformer - Rob Hajacos, Fiddle, AssociatedPerformer - John Gardner, Drums, AssociatedPerformer - Nick Buda, Drums, AssociatedPerformer - Al Wilson, Percussion, AssociatedPerformer - Taylor Swift, Producer, Acoustic Guitar, Vocalist, MainArtist, AssociatedPerformer, ComposerLyricist - Smith Curry, Steel Guitar, AssociatedPerformer - Tim Marks, Bass Guitar, AssociatedPerformer - Grant Mickelson, Electric Guitar, AssociatedPerformer - Paul Sidoti, Electric Guitar, AssociatedPerformer - Mike Meadows, Electric Guitar, AssociatedPerformer - Amos Heller, Bass Guitar, AssociatedPerformer', 'audio_info': {'replaygain_track_peak': 0.950623, 'replaygain_track_gain': -9.76}, 'performer': {'name': 'Taylor Swift', 'id': 70899}, 'album': {'image': {'small': 'https://static.qobuz.com/images/covers/mc/df/qsgwxoyd8dfmc_230.jpg', 'thumbnail': 'https://static.qobuz.com/images/covers/mc/df/qsgwxoyd8dfmc_50.jpg', 'large': 'https://static.qobuz.com/images/covers/mc/df/qsgwxoyd8dfmc_600.jpg'}, 'maximum_bit_depth': 16, 'media_count': 1, 'artist': {'image': None, 'name': 'Taylor Swift', 'id': 70899, 'albums_count': 952, 'slug': 'taylor-swift', 'picture': None}, 'upc': '0843930004010', 'released_at': 1287957600, 'label': {'name': 'Big Machine Records, LLC', 'id': 17893, 'albums_count': 985, 'supplier_id': 1, 'slug': 'big-machine-records-llc'}, 'title': 'Speak Now', 'qobuz_id': 54330493, 'version': None, 'duration': 4013, 'parental_warning': False, 'tracks_count': 14, 'popularity': 0, 'genre': {'path': [4], 'color': '#0070ef', 'name': 'Country', 'id': 4, 'slug': 'country'}, 'maximum_channel_count': 2, 'id': 'qsgwxoyd8dfmc', 'maximum_sampling_rate': 44.1, 'previewable': True, 'sampleable': True, 'displayable': True, 'streamable': False, 'streamable_at': 1683529200, 'downloadable': False, 'purchasable_at': None, 'purchasable': False, 'release_date_original': '2010-10-25', 'release_date_download': '2010-10-25', 'release_date_stream': '2010-10-25', 'release_date_purchase': '2010-10-25', 'hires': False, 'hires_streamable': False}, 'work': None, 'composer': {'name': 'Taylor Swift', 'id': 70899}, 'isrc': 'USCJY1003657', 'title': 'Back To December', 'version': None, 'duration': 292, 'parental_warning': False, 'track_number': 3, 'maximum_channel_count': 2, 'id': 54330496, 'media_number': 1, 'maximum_sampling_rate': 44.1, 'release_date_original': None, 'release_date_download': None, 'release_date_stream': None, 'release_date_purchase': None, 'purchasable': True, 'streamable': False, 'previewable': True, 'sampleable': True, 'downloadable': True, 'displayable': True, 'purchasable_at': 1683702000, 'streamable_at': 1683529200, 'hires': False, 'hires_streamable': False, 'position': 32, 'created_at': 1669042606, 'playlist_track_id': 2042158657}\n",
      "{'maximum_bit_depth': 16, 'copyright': '℗ 2011 Big Machine Records, LLC.', 'performers': 'Taylor Swift, MainArtist, ComposerLyricist', 'audio_info': {'replaygain_track_peak': 0.988861, 'replaygain_track_gain': -8.91}, 'performer': {'name': 'Taylor Swift', 'id': 70899}, 'album': {'image': {'small': 'https://static.qobuz.com/images/covers/wb/8l/pvxwnp2ad8lwb_230.jpg', 'thumbnail': 'https://static.qobuz.com/images/covers/wb/8l/pvxwnp2ad8lwb_50.jpg', 'large': 'https://static.qobuz.com/images/covers/wb/8l/pvxwnp2ad8lwb_600.jpg'}, 'maximum_bit_depth': 16, 'media_count': 1, 'artist': {'image': None, 'name': 'Taylor Swift', 'id': 70899, 'albums_count': 952, 'slug': 'taylor-swift', 'picture': None}, 'upc': '0843930006014', 'released_at': 1293836400, 'label': {'name': 'Big Machine Records, LLC', 'id': 17893, 'albums_count': 985, 'supplier_id': 1, 'slug': 'big-machine-records-llc'}, 'title': 'Speak Now World Tour Live', 'qobuz_id': 54378727, 'version': None, 'duration': 4748, 'parental_warning': False, 'tracks_count': 16, 'popularity': 0, 'genre': {'path': [4], 'color': '#0070ef', 'name': 'Country', 'id': 4, 'slug': 'country'}, 'maximum_channel_count': 2, 'id': 'pvxwnp2ad8lwb', 'maximum_sampling_rate': 44.1, 'previewable': True, 'sampleable': True, 'displayable': True, 'streamable': False, 'streamable_at': 1683529200, 'downloadable': False, 'purchasable_at': None, 'purchasable': False, 'release_date_original': '2011-01-01', 'release_date_download': '2011-01-01', 'release_date_stream': '2011-01-01', 'release_date_purchase': '2011-01-01', 'hires': False, 'hires_streamable': False}, 'work': None, 'composer': {'name': 'Taylor Swift', 'id': 70899}, 'isrc': 'USCJY1103931', 'title': 'Long Live', 'version': 'Live/2011', 'duration': 376, 'parental_warning': False, 'track_number': 16, 'maximum_channel_count': 2, 'id': 54378743, 'media_number': 1, 'maximum_sampling_rate': 44.1, 'release_date_original': None, 'release_date_download': None, 'release_date_stream': None, 'release_date_purchase': None, 'purchasable': True, 'streamable': False, 'previewable': True, 'sampleable': True, 'downloadable': True, 'displayable': True, 'purchasable_at': 1683702000, 'streamable_at': 1683529200, 'hires': False, 'hires_streamable': False, 'position': 33, 'created_at': 1669008016, 'playlist_track_id': 2038671427}\n",
      "{'maximum_bit_depth': 16, 'copyright': '℗ 2014 Big Machine Records, LLC', 'performers': 'Max Martin, Producer, ComposerLyricist - Shellback, Producer, ComposerLyricist - Ali Payami, Producer, ComposerLyricist - Taylor Swift, MainArtist, ComposerLyricist', 'audio_info': {'replaygain_track_peak': 0.99884, 'replaygain_track_gain': -10.47}, 'performer': {'name': 'Taylor Swift', 'id': 70899}, 'album': {'image': {'small': 'https://static.qobuz.com/images/covers/ta/ym/id29re6slymta_230.jpg', 'thumbnail': 'https://static.qobuz.com/images/covers/ta/ym/id29re6slymta_50.jpg', 'large': 'https://static.qobuz.com/images/covers/ta/ym/id29re6slymta_600.jpg'}, 'maximum_bit_depth': 16, 'media_count': 1, 'artist': {'image': None, 'name': 'Taylor Swift', 'id': 70899, 'albums_count': 952, 'slug': 'taylor-swift', 'picture': None}, 'upc': '0843930013609', 'released_at': 1414364400, 'label': {'name': 'Big Machine Records, LLC', 'id': 17893, 'albums_count': 985, 'supplier_id': 1, 'slug': 'big-machine-records-llc'}, 'title': '1989', 'qobuz_id': 53965341, 'version': 'Deluxe Edition', 'duration': 4101, 'parental_warning': False, 'tracks_count': 19, 'popularity': 0, 'genre': {'path': [112, 117], 'color': '#0070ef', 'name': 'Pop', 'id': 117, 'slug': 'pop'}, 'maximum_channel_count': 2, 'id': 'id29re6slymta', 'maximum_sampling_rate': 44.1, 'previewable': True, 'sampleable': True, 'displayable': True, 'streamable': False, 'streamable_at': 1683529200, 'downloadable': False, 'purchasable_at': None, 'purchasable': False, 'release_date_original': '2014-10-27', 'release_date_download': '2014-10-27', 'release_date_stream': '2014-10-27', 'release_date_purchase': '2014-10-27', 'hires': False, 'hires_streamable': False}, 'work': None, 'composer': {'name': 'Ali Payami', 'id': 322541}, 'isrc': 'USCJY1431319', 'title': 'Style', 'version': None, 'duration': 229, 'parental_warning': False, 'track_number': 3, 'maximum_channel_count': 2, 'id': 53965344, 'media_number': 1, 'maximum_sampling_rate': 44.1, 'release_date_original': None, 'release_date_download': None, 'release_date_stream': None, 'release_date_purchase': None, 'purchasable': True, 'streamable': False, 'previewable': True, 'sampleable': True, 'downloadable': True, 'displayable': True, 'purchasable_at': 1683702000, 'streamable_at': 1683529200, 'hires': False, 'hires_streamable': False, 'position': 34, 'created_at': 1669008147, 'playlist_track_id': 2038682072}\n",
      "{'maximum_bit_depth': 24, 'copyright': '℗ 2022 Taylor Swift', 'performers': 'Serban Ghenea, Mixer, StudioPersonnel - Ken Lewis, Recording Engineer, StudioPersonnel - Taylor Swift, Producer, Vocals, MainArtist, AssociatedPerformer, ComposerLyricist - Laura Sisk, Recording Engineer, StudioPersonnel - John Rooney, Asst. Recording Engineer, StudioPersonnel - Jon Sher, Asst. Recording Engineer, StudioPersonnel - Jack Antonoff, Producer, Drums, Percussion, Recording Engineer, Synthesizer, Mellotron, Wurlitzer Organ, Programming, Background Vocalist, AssociatedPerformer, StudioPersonnel, ComposerLyricist - Jonathan Garcia, Asst. Recording Engineer, StudioPersonnel - Sam Dew, Background Vocalist, AssociatedPerformer, ComposerLyricist - Mark Aguilar, Asst. Recording Engineer, StudioPersonnel - Mark Anthony Spears, ComposerLyricist - Sounwave, Producer, Programming, AssociatedPerformer - Randy Merrill, Mastering Engineer, StudioPersonnel - Zoe Kravitz, Background Vocalist, AssociatedPerformer, ComposerLyricist - Braxton Cook, Producer, Additional Producer - Jahaan Sweet, Producer, Flute, Recording Engineer, Bass, Synthesizer, AssociatedPerformer, StudioPersonnel, Synth Pads - Jahaan Akil Sweet, ComposerLyricist - Bryce Bordone, Assistant Mixer, StudioPersonnel - Dominic Rivinius, Snare Drum, AssociatedPerformer - Megan Searl, Asst. Recording Engineer, StudioPersonnel', 'audio_info': {'replaygain_track_peak': 1, 'replaygain_track_gain': -8.4}, 'performer': {'name': 'Taylor Swift', 'id': 70899}, 'album': {'image': {'small': 'https://static.qobuz.com/images/covers/nb/lj/w6o6wzv2sljnb_230.jpg', 'thumbnail': 'https://static.qobuz.com/images/covers/nb/lj/w6o6wzv2sljnb_50.jpg', 'large': 'https://static.qobuz.com/images/covers/nb/lj/w6o6wzv2sljnb_600.jpg'}, 'maximum_bit_depth': 24, 'media_count': 1, 'artist': {'image': None, 'name': 'Taylor Swift', 'id': 70899, 'albums_count': 1058, 'slug': 'taylor-swift', 'picture': None}, 'upc': '0602448638809', 'released_at': 1666303200, 'label': {'name': 'Taylor Swift', 'id': 313742, 'albums_count': 222, 'supplier_id': 1, 'slug': 'taylor-swift'}, 'title': 'Midnights', 'qobuz_id': 181288945, 'version': None, 'duration': 2642, 'parental_warning': False, 'tracks_count': 13, 'popularity': 0, 'genre': {'path': [112, 117], 'color': '#0070ef', 'name': 'Pop', 'id': 117, 'slug': 'pop'}, 'maximum_channel_count': 2, 'id': 'w6o6wzv2sljnb', 'maximum_sampling_rate': 48, 'previewable': True, 'sampleable': True, 'displayable': True, 'streamable': False, 'streamable_at': 1692342000, 'downloadable': False, 'purchasable_at': None, 'purchasable': False, 'release_date_original': '2022-10-21', 'release_date_download': '2022-10-21', 'release_date_stream': '2022-10-21', 'release_date_purchase': '2022-10-21', 'hires': True, 'hires_streamable': False}, 'work': None, 'composer': {'name': 'Jack Antonoff', 'id': 778282}, 'isrc': 'USUG12205719', 'title': 'Lavender Haze', 'version': None, 'duration': 202, 'parental_warning': False, 'track_number': 1, 'maximum_channel_count': 2, 'id': 181288946, 'media_number': 1, 'maximum_sampling_rate': 48, 'release_date_original': None, 'release_date_download': None, 'release_date_stream': None, 'release_date_purchase': None, 'purchasable': True, 'streamable': False, 'previewable': True, 'sampleable': True, 'downloadable': True, 'displayable': True, 'purchasable_at': 1692342000, 'streamable_at': 1692342000, 'hires': True, 'hires_streamable': False, 'position': 35, 'created_at': 1669008016, 'playlist_track_id': 2038671429}\n",
      "{'maximum_bit_depth': 16, 'copyright': '℗ 2008 Big Machine Records, LLC All Rights Reserved', 'performers': 'Taylor Swift, MainArtist, ComposerLyricist', 'audio_info': {'replaygain_track_peak': 0.813232, 'replaygain_track_gain': -10.08}, 'performer': {'name': 'Taylor Swift', 'id': 70899}, 'album': {'image': {'small': 'https://static.qobuz.com/images/covers/oa/9h/qwrzlxac89hoa_230.jpg', 'thumbnail': 'https://static.qobuz.com/images/covers/oa/9h/qwrzlxac89hoa_50.jpg', 'large': 'https://static.qobuz.com/images/covers/oa/9h/qwrzlxac89hoa_600.jpg'}, 'maximum_bit_depth': 16, 'media_count': 1, 'artist': {'image': None, 'name': 'Taylor Swift', 'id': 70899, 'albums_count': 952, 'slug': 'taylor-swift', 'picture': None}, 'upc': '0843930000821', 'released_at': 1161640800, 'label': {'name': 'Big Machine Records, LLC', 'id': 17893, 'albums_count': 985, 'supplier_id': 1, 'slug': 'big-machine-records-llc'}, 'title': 'Taylor Swift', 'qobuz_id': 54302100, 'version': None, 'duration': 3196, 'parental_warning': False, 'tracks_count': 15, 'popularity': 0, 'genre': {'path': [4], 'color': '#0070ef', 'name': 'Country', 'id': 4, 'slug': 'country'}, 'maximum_channel_count': 2, 'id': 'qwrzlxac89hoa', 'maximum_sampling_rate': 44.1, 'previewable': True, 'sampleable': True, 'displayable': True, 'streamable': False, 'streamable_at': 1683529200, 'downloadable': False, 'purchasable_at': None, 'purchasable': False, 'release_date_original': '2006-10-24', 'release_date_download': '2006-10-24', 'release_date_stream': '2006-10-24', 'release_date_purchase': '2006-10-24', 'hires': False, 'hires_streamable': False}, 'work': None, 'composer': {'name': 'Taylor Swift', 'id': 70899}, 'isrc': 'USCJY0703142', 'title': 'Our Song', 'version': None, 'duration': 201, 'parental_warning': False, 'track_number': 11, 'maximum_channel_count': 2, 'id': 54302111, 'media_number': 1, 'maximum_sampling_rate': 44.1, 'release_date_original': None, 'release_date_download': None, 'release_date_stream': None, 'release_date_purchase': None, 'purchasable': True, 'streamable': False, 'previewable': True, 'sampleable': True, 'downloadable': True, 'displayable': True, 'purchasable_at': 1683702000, 'streamable_at': 1683529200, 'hires': False, 'hires_streamable': False, 'position': 36, 'created_at': 1669042732, 'playlist_track_id': 2042174303}\n",
      "{'maximum_bit_depth': 24, 'copyright': '℗ 2021 Taylor Swift', 'performers': 'Liz Rose, ComposerLyricist - David Payne, Recording Engineer, StudioPersonnel - John Hanes, Engineer, StudioPersonnel - Serban Ghenea, Mixer, StudioPersonnel - Lowell Reynolds, Additional Engineer, Asst. Recording Engineer, StudioPersonnel - Jonathan Yudkin, Strings, AssociatedPerformer - Taylor Swift, Producer, Vocals, MainArtist, AssociatedPerformer, ComposerLyricist - Matt Billingslea, Drums, AssociatedPerformer - Christopher Rowe, Producer, Vocal Engineer, StudioPersonnel - Randy Merrill, Mastering Engineer, StudioPersonnel - Paul Sidoti, Piano, AssociatedPerformer - Mike Meadows, Acoustic Guitar, Background Vocalist, AssociatedPerformer - Amos Heller, Bass, AssociatedPerformer - Derek Garten, Additional Engineer, StudioPersonnel', 'audio_info': {'replaygain_track_peak': 1, 'replaygain_track_gain': -8.23}, 'performer': {'name': 'Taylor Swift', 'id': 70899}, 'album': {'image': {'small': 'https://static.qobuz.com/images/covers/ic/0c/r8361te6k0cic_230.jpg', 'thumbnail': 'https://static.qobuz.com/images/covers/ic/0c/r8361te6k0cic_50.jpg', 'large': 'https://static.qobuz.com/images/covers/ic/0c/r8361te6k0cic_600.jpg'}, 'maximum_bit_depth': 24, 'media_count': 1, 'artist': {'image': None, 'name': 'Taylor Swift', 'id': 70899, 'albums_count': 1084, 'slug': 'taylor-swift', 'picture': None}, 'upc': '0602435838908', 'released_at': 1617919200, 'label': {'name': 'Taylor Swift', 'id': 313742, 'albums_count': 222, 'supplier_id': 1, 'slug': 'taylor-swift'}, 'title': \"Fearless (Taylor's Version)\", 'qobuz_id': 119360712, 'version': None, 'duration': 6380, 'parental_warning': False, 'tracks_count': 26, 'popularity': 0, 'genre': {'path': [4], 'color': '#0070ef', 'name': 'Country', 'id': 4, 'slug': 'country'}, 'maximum_channel_count': 2, 'id': 'r8361te6k0cic', 'maximum_sampling_rate': 96, 'previewable': True, 'sampleable': True, 'displayable': True, 'streamable': False, 'streamable_at': 1695106800, 'downloadable': False, 'purchasable_at': None, 'purchasable': False, 'release_date_original': '2021-04-09', 'release_date_download': '2021-04-09', 'release_date_stream': '2021-04-09', 'release_date_purchase': '2021-04-09', 'hires': True, 'hires_streamable': False}, 'work': None, 'composer': {'name': 'Taylor Swift', 'id': 70899}, 'isrc': 'USUG12100621', 'title': 'White Horse (Taylor’s Version)', 'version': None, 'duration': 234, 'parental_warning': False, 'track_number': 5, 'maximum_channel_count': 2, 'id': 119360717, 'media_number': 1, 'maximum_sampling_rate': 96, 'release_date_original': None, 'release_date_download': None, 'release_date_stream': None, 'release_date_purchase': None, 'purchasable': True, 'streamable': False, 'previewable': True, 'sampleable': True, 'downloadable': True, 'displayable': True, 'purchasable_at': 1695106800, 'streamable_at': 1695106800, 'hires': True, 'hires_streamable': False, 'position': 37, 'created_at': 1669042058, 'playlist_track_id': 2042103010}\n",
      "{'maximum_bit_depth': 16, 'copyright': '℗ 2010 Big Machine Records, LLC', 'performers': 'Tommy Sims, Bass Guitar, AssociatedPerformer - Tim Lauer, Piano, Hammond B3, AssociatedPerformer - Nathan Chapman, Producer, Banjo, Acoustic Guitar, Bass Guitar, Electric Guitar, Mandolin, Organ, Piano, Synthesizer, Digital Piano, AssociatedPerformer - Bryan Sutton, Acoustic Guitar, AssociatedPerformer - Shannon Forrest, Drums, AssociatedPerformer - Eric Darken, Percussion, AssociatedPerformer - Rob Hajacos, Fiddle, AssociatedPerformer - John Gardner, Drums, AssociatedPerformer - Nick Buda, Drums, AssociatedPerformer - Al Wilson, Percussion, AssociatedPerformer - Taylor Swift, Producer, Acoustic Guitar, Vocalist, MainArtist, AssociatedPerformer, ComposerLyricist - Smith Curry, Steel Guitar, AssociatedPerformer - Tim Marks, Bass Guitar, AssociatedPerformer - Grant Mickelson, Electric Guitar, AssociatedPerformer - Paul Sidoti, Electric Guitar, AssociatedPerformer - Mike Meadows, Electric Guitar, AssociatedPerformer - Amos Heller, Bass Guitar, AssociatedPerformer', 'audio_info': {'replaygain_track_peak': 0.933197, 'replaygain_track_gain': -9.64}, 'performer': {'name': 'Taylor Swift', 'id': 70899}, 'album': {'image': {'small': 'https://static.qobuz.com/images/covers/mc/df/qsgwxoyd8dfmc_230.jpg', 'thumbnail': 'https://static.qobuz.com/images/covers/mc/df/qsgwxoyd8dfmc_50.jpg', 'large': 'https://static.qobuz.com/images/covers/mc/df/qsgwxoyd8dfmc_600.jpg'}, 'maximum_bit_depth': 16, 'media_count': 1, 'artist': {'image': None, 'name': 'Taylor Swift', 'id': 70899, 'albums_count': 952, 'slug': 'taylor-swift', 'picture': None}, 'upc': '0843930004010', 'released_at': 1287957600, 'label': {'name': 'Big Machine Records, LLC', 'id': 17893, 'albums_count': 985, 'supplier_id': 1, 'slug': 'big-machine-records-llc'}, 'title': 'Speak Now', 'qobuz_id': 54330493, 'version': None, 'duration': 4013, 'parental_warning': False, 'tracks_count': 14, 'popularity': 0, 'genre': {'path': [4], 'color': '#0070ef', 'name': 'Country', 'id': 4, 'slug': 'country'}, 'maximum_channel_count': 2, 'id': 'qsgwxoyd8dfmc', 'maximum_sampling_rate': 44.1, 'previewable': True, 'sampleable': True, 'displayable': True, 'streamable': False, 'streamable_at': 1683529200, 'downloadable': False, 'purchasable_at': None, 'purchasable': False, 'release_date_original': '2010-10-25', 'release_date_download': '2010-10-25', 'release_date_stream': '2010-10-25', 'release_date_purchase': '2010-10-25', 'hires': False, 'hires_streamable': False}, 'work': None, 'composer': {'name': 'Taylor Swift', 'id': 70899}, 'isrc': 'USCJY1003660', 'title': 'Mean', 'version': None, 'duration': 237, 'parental_warning': False, 'track_number': 6, 'maximum_channel_count': 2, 'id': 54330499, 'media_number': 1, 'maximum_sampling_rate': 44.1, 'release_date_original': None, 'release_date_download': None, 'release_date_stream': None, 'release_date_purchase': None, 'purchasable': True, 'streamable': False, 'previewable': True, 'sampleable': True, 'downloadable': True, 'displayable': True, 'purchasable_at': 1683702000, 'streamable_at': 1683529200, 'hires': False, 'hires_streamable': False, 'position': 38, 'created_at': 1669042621, 'playlist_track_id': 2042159749}\n",
      "{'maximum_bit_depth': 16, 'copyright': '℗ 2012 Big Machine Records, LLC.', 'performers': 'Taylor Swift, MainArtist, ComposerLyricist - Maya Thompson, ComposerLyricist', 'audio_info': {'replaygain_track_peak': 0.941925, 'replaygain_track_gain': -5.46}, 'performer': {'name': 'Taylor Swift', 'id': 70899}, 'album': {'image': {'small': 'https://static.qobuz.com/images/covers/fb/8m/gxyemubon8mfb_230.jpg', 'thumbnail': 'https://static.qobuz.com/images/covers/fb/8m/gxyemubon8mfb_50.jpg', 'large': 'https://static.qobuz.com/images/covers/fb/8m/gxyemubon8mfb_600.jpg'}, 'maximum_bit_depth': 16, 'media_count': 1, 'artist': {'image': None, 'name': 'Taylor Swift', 'id': 70899, 'albums_count': 952, 'slug': 'taylor-swift', 'picture': None}, 'upc': '0843930037780', 'released_at': 1347055200, 'label': {'name': 'Big Machine Records, LLC', 'id': 17893, 'albums_count': 985, 'supplier_id': 1, 'slug': 'big-machine-records-llc'}, 'title': 'Ronan', 'qobuz_id': 53638235, 'version': None, 'duration': 264, 'parental_warning': False, 'tracks_count': 1, 'popularity': 0, 'genre': {'path': [4], 'color': '#0070ef', 'name': 'Country', 'id': 4, 'slug': 'country'}, 'maximum_channel_count': 2, 'id': 'gxyemubon8mfb', 'maximum_sampling_rate': 44.1, 'previewable': True, 'sampleable': True, 'displayable': True, 'streamable': False, 'streamable_at': 1683529200, 'downloadable': False, 'purchasable_at': None, 'purchasable': False, 'release_date_original': '2012-09-08', 'release_date_download': '2012-09-08', 'release_date_stream': '2012-09-08', 'release_date_purchase': '2012-09-08', 'hires': False, 'hires_streamable': False}, 'work': None, 'composer': {'name': 'Taylor Swift', 'id': 70899}, 'isrc': 'USCJY1231051', 'title': 'Ronan', 'version': None, 'duration': 264, 'parental_warning': False, 'track_number': 1, 'maximum_channel_count': 2, 'id': 53638236, 'media_number': 1, 'maximum_sampling_rate': 44.1, 'release_date_original': None, 'release_date_download': None, 'release_date_stream': None, 'release_date_purchase': None, 'purchasable': True, 'streamable': False, 'previewable': True, 'sampleable': True, 'downloadable': True, 'displayable': True, 'purchasable_at': 1683702000, 'streamable_at': 1683529200, 'hires': False, 'hires_streamable': False, 'position': 39, 'created_at': 1669008016, 'playlist_track_id': 2038671433}\n",
      "{'maximum_bit_depth': 24, 'copyright': '℗ 2021 Taylor Swift', 'performers': 'Max Martin, ComposerLyricist - Shellback, Producer, ComposerLyricist - Max Bernstein, Synthesizer, AssociatedPerformer - Serban Ghenea, Mixer, StudioPersonnel - Dan Burns, Additional Engineer, Programming, AssociatedPerformer, StudioPersonnel - Taylor Swift, Producer, Vocals, Background Vocalist, MainArtist, AssociatedPerformer, ComposerLyricist - Matt Billingslea, Drums, Drum Programming, AssociatedPerformer - Christopher Rowe, Producer, Vocal Engineer, StudioPersonnel - Randy Merrill, Mastering Engineer, StudioPersonnel - Paul Sidoti, Electric Guitar, AssociatedPerformer - Mike Meadows, Acoustic Guitar, Synthesizer, AssociatedPerformer - Amos Heller, Bass Guitar, Synth Bass, AssociatedPerformer - Derek Garten, Editor, Engineer, StudioPersonnel - Bryce Bordone, Mix Engineer, StudioPersonnel', 'audio_info': {'replaygain_track_peak': 1, 'replaygain_track_gain': -10.69}, 'performer': {'name': 'Taylor Swift', 'id': 70899}, 'album': {'image': {'small': 'https://static.qobuz.com/images/covers/6a/n5/oulc1w5vun56a_230.jpg', 'thumbnail': 'https://static.qobuz.com/images/covers/6a/n5/oulc1w5vun56a_50.jpg', 'large': 'https://static.qobuz.com/images/covers/6a/n5/oulc1w5vun56a_600.jpg'}, 'maximum_bit_depth': 24, 'media_count': 1, 'artist': {'image': None, 'name': 'Taylor Swift', 'id': 70899, 'albums_count': 1004, 'slug': 'taylor-swift', 'picture': None}, 'upc': '0602438993857', 'released_at': 1636671600, 'label': {'name': 'Taylor Swift', 'id': 313742, 'albums_count': 222, 'supplier_id': 1, 'slug': 'taylor-swift'}, 'title': \"Red (Taylor's Version)\", 'qobuz_id': 138305275, 'version': None, 'duration': 7826, 'parental_warning': True, 'tracks_count': 30, 'popularity': 0, 'genre': {'path': [112, 117], 'color': '#0070ef', 'name': 'Pop', 'id': 117, 'slug': 'pop'}, 'maximum_channel_count': 2, 'id': 'oulc1w5vun56a', 'maximum_sampling_rate': 96, 'previewable': True, 'sampleable': True, 'displayable': True, 'streamable': False, 'streamable_at': 1688886000, 'downloadable': False, 'purchasable_at': None, 'purchasable': False, 'release_date_original': '2021-11-12', 'release_date_download': '2021-11-12', 'release_date_stream': '2021-11-12', 'release_date_purchase': '2021-11-12', 'hires': True, 'hires_streamable': False}, 'work': None, 'composer': {'name': 'Taylor Swift', 'id': 70899}, 'isrc': 'USUG12103666', 'title': \"22 (Taylor's Version)\", 'version': None, 'duration': 230, 'parental_warning': False, 'track_number': 6, 'maximum_channel_count': 2, 'id': 138305281, 'media_number': 1, 'maximum_sampling_rate': 96, 'release_date_original': None, 'release_date_download': None, 'release_date_stream': None, 'release_date_purchase': None, 'purchasable': True, 'streamable': False, 'previewable': True, 'sampleable': True, 'downloadable': True, 'displayable': True, 'purchasable_at': 1688886000, 'streamable_at': 1688886000, 'hires': True, 'hires_streamable': False, 'position': 40, 'created_at': 1669042314, 'playlist_track_id': 2042127832}\n",
      "{'maximum_bit_depth': 16, 'copyright': '℗ 2012 Big Machine Records, LLC', 'performers': 'Greg Wells, Drums, Guitar, AssociatedPerformer - Brian Willis, Editor, StudioPersonnel - Nathan Chapman, Producer, Guitar, Bass Guitar, Keyboards, Recording Engineer, AssociatedPerformer, StudioPersonnel - Jason Wormer, Recording Engineer, StudioPersonnel - Vanessa Parr, Asst. Recording Engineer, StudioPersonnel - Keefus Green, Keyboards, AssociatedPerformer - Blake Mills, Guitar, AssociatedPerformer - Chad Carlson, Recording Engineer, StudioPersonnel - Nick Buda, Drums, AssociatedPerformer - Zachary Dawes, Bass Guitar, AssociatedPerformer - Taylor Swift, Producer, MainArtist - Paul Ackling, Unknown, Other - Leland Elliott, Asst. Recording Engineer, StudioPersonnel - Taylor Alison Swift, ComposerLyricist', 'audio_info': {'replaygain_track_peak': 0.999969, 'replaygain_track_gain': -7.97}, 'performer': {'name': 'Taylor Swift', 'id': 70899}, 'album': {'image': {'small': 'https://static.qobuz.com/images/covers/18/69/0060252796918_230.jpg', 'thumbnail': 'https://static.qobuz.com/images/covers/18/69/0060252796918_50.jpg', 'large': 'https://static.qobuz.com/images/covers/18/69/0060252796918_600.jpg'}, 'maximum_bit_depth': 16, 'media_count': 1, 'artist': {'image': None, 'name': 'Various Artists', 'id': 145383, 'albums_count': 79333, 'slug': 'various-artists', 'picture': None}, 'upc': '0060252796918', 'released_at': 1325372400, 'label': {'name': 'Universal Records', 'id': 17417, 'albums_count': 1853, 'supplier_id': 1, 'slug': 'universal-records'}, 'title': 'The Hunger Games: Songs From District 12 And Beyond', 'qobuz_id': 5120216, 'version': None, 'duration': 3490, 'parental_warning': False, 'tracks_count': 16, 'popularity': 0, 'genre': {'path': [91, 92], 'color': '#0070ef', 'name': 'Film Soundtracks', 'id': 92, 'slug': 'bandes-originales-de-films'}, 'maximum_channel_count': 2, 'id': '0060252796918', 'maximum_sampling_rate': 44.1, 'previewable': True, 'sampleable': True, 'displayable': True, 'streamable': False, 'streamable_at': 1683529200, 'downloadable': False, 'purchasable_at': None, 'purchasable': False, 'release_date_original': '2012-01-01', 'release_date_download': '2012-01-01', 'release_date_stream': '2012-01-01', 'release_date_purchase': '2012-01-01', 'hires': False, 'hires_streamable': False}, 'work': None, 'composer': {'name': 'Taylor Swift', 'id': 70899}, 'isrc': 'USUM71201814', 'title': 'Eyes Open', 'version': None, 'duration': 244, 'parental_warning': False, 'track_number': 14, 'maximum_channel_count': 2, 'id': 5120230, 'media_number': 1, 'maximum_sampling_rate': 44.1, 'release_date_original': None, 'release_date_download': None, 'release_date_stream': None, 'release_date_purchase': None, 'purchasable': True, 'streamable': False, 'previewable': True, 'sampleable': True, 'downloadable': True, 'displayable': True, 'purchasable_at': 1683702000, 'streamable_at': 1683529200, 'hires': False, 'hires_streamable': False, 'position': 41, 'created_at': 1669008016, 'playlist_track_id': 2038671435}\n",
      "{'maximum_bit_depth': 16, 'copyright': '℗ 2014 Big Machine Records, LLC', 'performers': 'Max Martin, Producer, ComposerLyricist - Shellback, Producer, ComposerLyricist - Mattias Bylund, String Arranger, AssociatedPerformer - Taylor Swift, MainArtist, ComposerLyricist', 'audio_info': {'replaygain_track_peak': 0.99884, 'replaygain_track_gain': -8.06}, 'performer': {'name': 'Taylor Swift', 'id': 70899}, 'album': {'image': {'small': 'https://static.qobuz.com/images/covers/ta/ym/id29re6slymta_230.jpg', 'thumbnail': 'https://static.qobuz.com/images/covers/ta/ym/id29re6slymta_50.jpg', 'large': 'https://static.qobuz.com/images/covers/ta/ym/id29re6slymta_600.jpg'}, 'maximum_bit_depth': 16, 'media_count': 1, 'artist': {'image': None, 'name': 'Taylor Swift', 'id': 70899, 'albums_count': 952, 'slug': 'taylor-swift', 'picture': None}, 'upc': '0843930013609', 'released_at': 1414364400, 'label': {'name': 'Big Machine Records, LLC', 'id': 17893, 'albums_count': 985, 'supplier_id': 1, 'slug': 'big-machine-records-llc'}, 'title': '1989', 'qobuz_id': 53965341, 'version': 'Deluxe Edition', 'duration': 4101, 'parental_warning': False, 'tracks_count': 19, 'popularity': 0, 'genre': {'path': [112, 117], 'color': '#0070ef', 'name': 'Pop', 'id': 117, 'slug': 'pop'}, 'maximum_channel_count': 2, 'id': 'id29re6slymta', 'maximum_sampling_rate': 44.1, 'previewable': True, 'sampleable': True, 'displayable': True, 'streamable': False, 'streamable_at': 1683529200, 'downloadable': False, 'purchasable_at': None, 'purchasable': False, 'release_date_original': '2014-10-27', 'release_date_download': '2014-10-27', 'release_date_stream': '2014-10-27', 'release_date_purchase': '2014-10-27', 'hires': False, 'hires_streamable': False}, 'work': None, 'composer': {'name': 'Shellback', 'id': 153029}, 'isrc': 'USCJY1431379', 'title': 'Wildest Dreams', 'version': None, 'duration': 218, 'parental_warning': False, 'track_number': 9, 'maximum_channel_count': 2, 'id': 53965350, 'media_number': 1, 'maximum_sampling_rate': 44.1, 'release_date_original': None, 'release_date_download': None, 'release_date_stream': None, 'release_date_purchase': None, 'purchasable': True, 'streamable': False, 'previewable': True, 'sampleable': True, 'downloadable': True, 'displayable': True, 'purchasable_at': 1683702000, 'streamable_at': 1683529200, 'hires': False, 'hires_streamable': False, 'position': 42, 'created_at': 1669008161, 'playlist_track_id': 2038683574}\n",
      "{'maximum_bit_depth': 16, 'copyright': '℗ 2006 Big Machine Records', 'performers': 'Taylor Swift, MainArtist, ComposerLyricist', 'audio_info': {'replaygain_track_peak': 0.872101, 'replaygain_track_gain': -8.73}, 'performer': {'name': 'Taylor Swift', 'id': 70899}, 'album': {'image': {'small': 'https://static.qobuz.com/images/covers/oa/9h/qwrzlxac89hoa_230.jpg', 'thumbnail': 'https://static.qobuz.com/images/covers/oa/9h/qwrzlxac89hoa_50.jpg', 'large': 'https://static.qobuz.com/images/covers/oa/9h/qwrzlxac89hoa_600.jpg'}, 'maximum_bit_depth': 16, 'media_count': 1, 'artist': {'image': None, 'name': 'Taylor Swift', 'id': 70899, 'albums_count': 952, 'slug': 'taylor-swift', 'picture': None}, 'upc': '0843930000821', 'released_at': 1161640800, 'label': {'name': 'Big Machine Records, LLC', 'id': 17893, 'albums_count': 985, 'supplier_id': 1, 'slug': 'big-machine-records-llc'}, 'title': 'Taylor Swift', 'qobuz_id': 54302100, 'version': None, 'duration': 3196, 'parental_warning': False, 'tracks_count': 15, 'popularity': 0, 'genre': {'path': [4], 'color': '#0070ef', 'name': 'Country', 'id': 4, 'slug': 'country'}, 'maximum_channel_count': 2, 'id': 'qwrzlxac89hoa', 'maximum_sampling_rate': 44.1, 'previewable': True, 'sampleable': True, 'displayable': True, 'streamable': False, 'streamable_at': 1683529200, 'downloadable': False, 'purchasable_at': None, 'purchasable': False, 'release_date_original': '2006-10-24', 'release_date_download': '2006-10-24', 'release_date_stream': '2006-10-24', 'release_date_purchase': '2006-10-24', 'hires': False, 'hires_streamable': False}, 'work': None, 'composer': {'name': 'Taylor Swift', 'id': 70899}, 'isrc': 'USCJY0603008', 'title': 'Tim McGraw', 'version': None, 'duration': 231, 'parental_warning': False, 'track_number': 1, 'maximum_channel_count': 2, 'id': 54302101, 'media_number': 1, 'maximum_sampling_rate': 44.1, 'release_date_original': None, 'release_date_download': None, 'release_date_stream': None, 'release_date_purchase': None, 'purchasable': True, 'streamable': False, 'previewable': True, 'sampleable': True, 'downloadable': True, 'displayable': True, 'purchasable_at': 1683702000, 'streamable_at': 1683529200, 'hires': False, 'hires_streamable': False, 'position': 43, 'created_at': 1669042756, 'playlist_track_id': 2042175067}\n",
      "{'maximum_bit_depth': 16, 'copyright': '℗ 2017 Big Machine Label Group, LLC', 'performers': 'Max Martin, Producer, ComposerLyricist - Shellback, Producer, ComposerLyricist - Taylor Swift, MainArtist, ComposerLyricist', 'audio_info': {'replaygain_track_peak': 0.99884, 'replaygain_track_gain': -8.55}, 'performer': {'name': 'Taylor Swift', 'id': 70899}, 'album': {'image': {'small': 'https://static.qobuz.com/images/covers/14/33/0084393003314_230.jpg', 'thumbnail': 'https://static.qobuz.com/images/covers/14/33/0084393003314_50.jpg', 'large': 'https://static.qobuz.com/images/covers/14/33/0084393003314_600.jpg'}, 'maximum_bit_depth': 16, 'media_count': 1, 'artist': {'image': None, 'name': 'Taylor Swift', 'id': 70899, 'albums_count': 952, 'slug': 'taylor-swift', 'picture': None}, 'upc': '0084393003314', 'released_at': 1510268400, 'label': {'name': 'Big Machine Records, LLC', 'id': 17893, 'albums_count': 985, 'supplier_id': 1, 'slug': 'big-machine-records-llc'}, 'title': 'reputation', 'qobuz_id': 45281657, 'version': None, 'duration': 3325, 'parental_warning': False, 'tracks_count': 15, 'popularity': 0, 'genre': {'path': [112, 117], 'color': '#0070ef', 'name': 'Pop', 'id': 117, 'slug': 'pop'}, 'maximum_channel_count': 2, 'id': '0084393003314', 'maximum_sampling_rate': 44.1, 'previewable': True, 'sampleable': True, 'displayable': True, 'streamable': False, 'streamable_at': 1683529200, 'downloadable': False, 'purchasable_at': None, 'purchasable': False, 'release_date_original': '2017-11-10', 'release_date_download': '2017-11-10', 'release_date_stream': '2017-11-10', 'release_date_purchase': '2017-11-10', 'hires': False, 'hires_streamable': False}, 'work': None, 'composer': {'name': 'Max Martin', 'id': 152762}, 'isrc': 'USCJY1750009', 'title': 'Gorgeous', 'version': None, 'duration': 208, 'parental_warning': False, 'track_number': 8, 'maximum_channel_count': 2, 'id': 45281665, 'media_number': 1, 'maximum_sampling_rate': 44.1, 'release_date_original': None, 'release_date_download': None, 'release_date_stream': None, 'release_date_purchase': None, 'purchasable': True, 'streamable': False, 'previewable': True, 'sampleable': True, 'downloadable': True, 'displayable': True, 'purchasable_at': 1683702000, 'streamable_at': 1683529200, 'hires': False, 'hires_streamable': False, 'position': 44, 'created_at': 1669008016, 'playlist_track_id': 2038671438}\n",
      "{'maximum_bit_depth': 16, 'copyright': '℗ 2019 Taylor Swift', 'performers': 'John Hanes, Mix Engineer, StudioPersonnel - Serban Ghenea, Mixer, StudioPersonnel - Taylor Swift, Producer, Vocals, MainArtist, AssociatedPerformer, ComposerLyricist - Steve Hughes, Trombone, AssociatedPerformer - Frank Dukes, Producer - Joe Harrison, Guitar, AssociatedPerformer - Louis Bell, Producer, Keyboards, Programmer, Recording Engineer, AssociatedPerformer, StudioPersonnel, ComposerLyricist - Adam Feeney, Guitar, Programmer, AssociatedPerformer, ComposerLyricist - David Urquidi, Saxophone, AssociatedPerformer - Serafin Aguilar, Trumpet, AssociatedPerformer - Grant Strumwasser, Asst. Recording Engineer, StudioPersonnel', 'audio_info': {'replaygain_track_peak': 0.946533, 'replaygain_track_gain': -7.94}, 'performer': {'name': 'Taylor Swift', 'id': 70899}, 'album': {'image': {'small': 'https://static.qobuz.com/images/covers/xb/2u/h1r19zw2l2uxb_230.jpg', 'thumbnail': 'https://static.qobuz.com/images/covers/xb/2u/h1r19zw2l2uxb_50.jpg', 'large': 'https://static.qobuz.com/images/covers/xb/2u/h1r19zw2l2uxb_600.jpg'}, 'maximum_bit_depth': 16, 'media_count': 1, 'artist': {'image': None, 'name': 'Taylor Swift', 'id': 70899, 'albums_count': 1058, 'slug': 'taylor-swift', 'picture': None}, 'upc': '0602508009228', 'released_at': 1566511200, 'label': {'name': 'Taylor Swift', 'id': 313742, 'albums_count': 222, 'supplier_id': 1, 'slug': 'taylor-swift'}, 'title': 'Lover', 'qobuz_id': 68263894, 'version': None, 'duration': 3685, 'parental_warning': False, 'tracks_count': 18, 'popularity': 0, 'genre': {'path': [112, 117], 'color': '#0070ef', 'name': 'Pop', 'id': 117, 'slug': 'pop'}, 'maximum_channel_count': 2, 'id': 'h1r19zw2l2uxb', 'maximum_sampling_rate': 44.1, 'previewable': True, 'sampleable': True, 'displayable': True, 'streamable': False, 'streamable_at': 1692601200, 'downloadable': False, 'purchasable_at': None, 'purchasable': False, 'release_date_original': '2019-08-23', 'release_date_download': '2019-08-23', 'release_date_stream': '2019-08-23', 'release_date_purchase': '2019-08-23', 'hires': False, 'hires_streamable': False}, 'work': None, 'composer': {'name': 'Louis Bell', 'id': 1387582}, 'isrc': 'USUG11901471', 'title': 'I Forgot That You Existed', 'version': None, 'duration': 170, 'parental_warning': False, 'track_number': 1, 'maximum_channel_count': 2, 'id': 68263895, 'media_number': 1, 'maximum_sampling_rate': 44.1, 'release_date_original': None, 'release_date_download': None, 'release_date_stream': None, 'release_date_purchase': None, 'purchasable': True, 'streamable': False, 'previewable': True, 'sampleable': True, 'downloadable': True, 'displayable': True, 'purchasable_at': 1692601200, 'streamable_at': 1692601200, 'hires': False, 'hires_streamable': False, 'position': 45, 'created_at': 1669008016, 'playlist_track_id': 2038671439}\n",
      "{'maximum_bit_depth': 24, 'copyright': '℗ 2021 Taylor Swift', 'performers': 'Max Bernstein, Electric Guitar, AssociatedPerformer - David Payne, Recording Engineer, StudioPersonnel - John Hanes, Engineer, StudioPersonnel - Serban Ghenea, Mixer, StudioPersonnel - Lowell Reynolds, Additional Engineer, Asst. Recording Engineer, StudioPersonnel - Jonathan Yudkin, Cello, AssociatedPerformer - Caitlin Evanson, Background Vocalist, AssociatedPerformer - Taylor Swift, Producer, Vocals, MainArtist, AssociatedPerformer, ComposerLyricist - Matt Billingslea, Drums, AssociatedPerformer - Christopher Rowe, Producer, Recording Engineer, Background Vocalist, AssociatedPerformer, StudioPersonnel - Randy Merrill, Mastering Engineer, StudioPersonnel - Paul Sidoti, Electric Guitar, AssociatedPerformer - Mike Meadows, Acoustic Guitar, Mandolin, AssociatedPerformer - Amos Heller, Bass, AssociatedPerformer - Derek Garten, Additional Engineer, StudioPersonnel', 'audio_info': {'replaygain_track_peak': 1, 'replaygain_track_gain': -9.94}, 'performer': {'name': 'Taylor Swift', 'id': 70899}, 'album': {'image': {'small': 'https://static.qobuz.com/images/covers/ic/0c/r8361te6k0cic_230.jpg', 'thumbnail': 'https://static.qobuz.com/images/covers/ic/0c/r8361te6k0cic_50.jpg', 'large': 'https://static.qobuz.com/images/covers/ic/0c/r8361te6k0cic_600.jpg'}, 'maximum_bit_depth': 24, 'media_count': 1, 'artist': {'image': None, 'name': 'Taylor Swift', 'id': 70899, 'albums_count': 1084, 'slug': 'taylor-swift', 'picture': None}, 'upc': '0602435838908', 'released_at': 1617919200, 'label': {'name': 'Taylor Swift', 'id': 313742, 'albums_count': 222, 'supplier_id': 1, 'slug': 'taylor-swift'}, 'title': \"Fearless (Taylor's Version)\", 'qobuz_id': 119360712, 'version': None, 'duration': 6380, 'parental_warning': False, 'tracks_count': 26, 'popularity': 0, 'genre': {'path': [4], 'color': '#0070ef', 'name': 'Country', 'id': 4, 'slug': 'country'}, 'maximum_channel_count': 2, 'id': 'r8361te6k0cic', 'maximum_sampling_rate': 96, 'previewable': True, 'sampleable': True, 'displayable': True, 'streamable': False, 'streamable_at': 1695106800, 'downloadable': False, 'purchasable_at': None, 'purchasable': False, 'release_date_original': '2021-04-09', 'release_date_download': '2021-04-09', 'release_date_stream': '2021-04-09', 'release_date_purchase': '2021-04-09', 'hires': True, 'hires_streamable': False}, 'work': None, 'composer': {'name': 'Taylor Swift', 'id': 70899}, 'isrc': 'USUG12100619', 'title': 'Fifteen (Taylor’s Version)', 'version': None, 'duration': 294, 'parental_warning': False, 'track_number': 2, 'maximum_channel_count': 2, 'id': 119360714, 'media_number': 1, 'maximum_sampling_rate': 96, 'release_date_original': None, 'release_date_download': None, 'release_date_stream': None, 'release_date_purchase': None, 'purchasable': True, 'streamable': False, 'previewable': True, 'sampleable': True, 'downloadable': True, 'displayable': True, 'purchasable_at': 1695106800, 'streamable_at': 1695106800, 'hires': True, 'hires_streamable': False, 'position': 46, 'created_at': 1669042079, 'playlist_track_id': 2042106915}\n",
      "{'maximum_bit_depth': 16, 'copyright': '℗ 2010 Big Machine Records, LLC', 'performers': 'Tommy Sims, Bass Guitar, AssociatedPerformer - Tim Lauer, Piano, Hammond B3, AssociatedPerformer - Nathan Chapman, Producer, Banjo, Acoustic Guitar, Bass Guitar, Electric Guitar, Mandolin, Organ, Piano, Synthesizer, Digital Piano, AssociatedPerformer - Bryan Sutton, Acoustic Guitar, AssociatedPerformer - Shannon Forrest, Drums, AssociatedPerformer - Eric Darken, Percussion, AssociatedPerformer - Rob Hajacos, Fiddle, AssociatedPerformer - John Gardner, Drums, AssociatedPerformer - Nick Buda, Drums, AssociatedPerformer - Al Wilson, Percussion, AssociatedPerformer - Taylor Swift, Producer, Acoustic Guitar, Vocalist, MainArtist, AssociatedPerformer, ComposerLyricist - Smith Curry, Steel Guitar, AssociatedPerformer - Tim Marks, Bass Guitar, AssociatedPerformer - Grant Mickelson, Electric Guitar, AssociatedPerformer - Paul Sidoti, Electric Guitar, AssociatedPerformer - Mike Meadows, Electric Guitar, AssociatedPerformer - Amos Heller, Bass Guitar, AssociatedPerformer', 'audio_info': {'replaygain_track_peak': 0.96106, 'replaygain_track_gain': -11.37}, 'performer': {'name': 'Taylor Swift', 'id': 70899}, 'album': {'image': {'small': 'https://static.qobuz.com/images/covers/mc/df/qsgwxoyd8dfmc_230.jpg', 'thumbnail': 'https://static.qobuz.com/images/covers/mc/df/qsgwxoyd8dfmc_50.jpg', 'large': 'https://static.qobuz.com/images/covers/mc/df/qsgwxoyd8dfmc_600.jpg'}, 'maximum_bit_depth': 16, 'media_count': 1, 'artist': {'image': None, 'name': 'Taylor Swift', 'id': 70899, 'albums_count': 952, 'slug': 'taylor-swift', 'picture': None}, 'upc': '0843930004010', 'released_at': 1287957600, 'label': {'name': 'Big Machine Records, LLC', 'id': 17893, 'albums_count': 985, 'supplier_id': 1, 'slug': 'big-machine-records-llc'}, 'title': 'Speak Now', 'qobuz_id': 54330493, 'version': None, 'duration': 4013, 'parental_warning': False, 'tracks_count': 14, 'popularity': 0, 'genre': {'path': [4], 'color': '#0070ef', 'name': 'Country', 'id': 4, 'slug': 'country'}, 'maximum_channel_count': 2, 'id': 'qsgwxoyd8dfmc', 'maximum_sampling_rate': 44.1, 'previewable': True, 'sampleable': True, 'displayable': True, 'streamable': False, 'streamable_at': 1683529200, 'downloadable': False, 'purchasable_at': None, 'purchasable': False, 'release_date_original': '2010-10-25', 'release_date_download': '2010-10-25', 'release_date_stream': '2010-10-25', 'release_date_purchase': '2010-10-25', 'hires': False, 'hires_streamable': False}, 'work': None, 'composer': {'name': 'Taylor Swift', 'id': 70899}, 'isrc': 'USCJY1003656', 'title': 'Sparks Fly', 'version': None, 'duration': 260, 'parental_warning': False, 'track_number': 2, 'maximum_channel_count': 2, 'id': 54330495, 'media_number': 1, 'maximum_sampling_rate': 44.1, 'release_date_original': None, 'release_date_download': None, 'release_date_stream': None, 'release_date_purchase': None, 'purchasable': True, 'streamable': False, 'previewable': True, 'sampleable': True, 'downloadable': True, 'displayable': True, 'purchasable_at': 1683702000, 'streamable_at': 1683529200, 'hires': False, 'hires_streamable': False, 'position': 47, 'created_at': 1669042626, 'playlist_track_id': 2042161037}\n",
      "{'maximum_bit_depth': 24, 'copyright': '℗ 2021 Taylor Swift', 'performers': 'Max Bernstein, Electric Guitar, AssociatedPerformer - David Payne, Recording Engineer, StudioPersonnel - David Cook, Piano, AssociatedPerformer - Serban Ghenea, Mixer, StudioPersonnel - Jonathan Yudkin, Bouzouki, Strings, AssociatedPerformer - Dan Burns, Additional Engineer, StudioPersonnel - Taylor Swift, Producer, Vocals, Background Vocalist, MainArtist, AssociatedPerformer, ComposerLyricist - Matt Billingslea, Drums, Percussion, AssociatedPerformer - Christopher Rowe, Producer, Vocal Engineer, StudioPersonnel - Austin Brown, Editor, Asst. Recording Engineer, StudioPersonnel - Randy Merrill, Mastering Engineer, StudioPersonnel - Paul Sidoti, Electric Guitar, AssociatedPerformer - Mike Meadows, Synthesizer, Hammond B3, AssociatedPerformer - Amos Heller, Bass Guitar, AssociatedPerformer - Derek Garten, Editor, Engineer, StudioPersonnel - Bryce Bordone, Mix Engineer, StudioPersonnel', 'audio_info': {'replaygain_track_peak': 1, 'replaygain_track_gain': -10.52}, 'performer': {'name': 'Taylor Swift', 'id': 70899}, 'album': {'image': {'small': 'https://static.qobuz.com/images/covers/6a/n5/oulc1w5vun56a_230.jpg', 'thumbnail': 'https://static.qobuz.com/images/covers/6a/n5/oulc1w5vun56a_50.jpg', 'large': 'https://static.qobuz.com/images/covers/6a/n5/oulc1w5vun56a_600.jpg'}, 'maximum_bit_depth': 24, 'media_count': 1, 'artist': {'image': None, 'name': 'Taylor Swift', 'id': 70899, 'albums_count': 1004, 'slug': 'taylor-swift', 'picture': None}, 'upc': '0602438993857', 'released_at': 1636671600, 'label': {'name': 'Taylor Swift', 'id': 313742, 'albums_count': 222, 'supplier_id': 1, 'slug': 'taylor-swift'}, 'title': \"Red (Taylor's Version)\", 'qobuz_id': 138305275, 'version': None, 'duration': 7826, 'parental_warning': True, 'tracks_count': 30, 'popularity': 0, 'genre': {'path': [112, 117], 'color': '#0070ef', 'name': 'Pop', 'id': 117, 'slug': 'pop'}, 'maximum_channel_count': 2, 'id': 'oulc1w5vun56a', 'maximum_sampling_rate': 96, 'previewable': True, 'sampleable': True, 'displayable': True, 'streamable': False, 'streamable_at': 1688886000, 'downloadable': False, 'purchasable_at': None, 'purchasable': False, 'release_date_original': '2021-11-12', 'release_date_download': '2021-11-12', 'release_date_stream': '2021-11-12', 'release_date_purchase': '2021-11-12', 'hires': True, 'hires_streamable': False}, 'work': None, 'composer': {'name': 'Taylor Swift', 'id': 70899}, 'isrc': 'USUG12103662', 'title': \"Red (Taylor's Version)\", 'version': None, 'duration': 223, 'parental_warning': False, 'track_number': 2, 'maximum_channel_count': 2, 'id': 138305277, 'media_number': 1, 'maximum_sampling_rate': 96, 'release_date_original': None, 'release_date_download': None, 'release_date_stream': None, 'release_date_purchase': None, 'purchasable': True, 'streamable': False, 'previewable': True, 'sampleable': True, 'downloadable': True, 'displayable': True, 'purchasable_at': 1688886000, 'streamable_at': 1688886000, 'hires': True, 'hires_streamable': False, 'position': 48, 'created_at': 1669042325, 'playlist_track_id': 2042130414}\n",
      "{'maximum_bit_depth': 24, 'copyright': '℗ 2020 Taylor Swift', 'performers': \"Greg Calbi, Mastering Engineer, StudioPersonnel - Steve Fallone, Mastering Engineer, StudioPersonnel - Clarice Jensen, Cello, AssociatedPerformer - Robin Baynton, Vocal Engineer, StudioPersonnel - Taylor Swift, MainArtist, ComposerLyricist - Aaron Dessner, Producer, Acoustic Guitar, Electric Guitar, Percussion, Recording Engineer, Bass, Synthesizer, Drum Machine, AssociatedPerformer, StudioPersonnel, ComposerLyricist - The National, FeaturedArtist - Jason Treuting, Drums, Percussion, AssociatedPerformer - Sean O'Brien, Vocal Engineer, StudioPersonnel - Scott Devendorf, Bass Guitar, Piano, AssociatedPerformer - Bryan Devendorf, Drums, Drum Machine, AssociatedPerformer - Bryce Dessner, Producer, Piano, Synthesizer, Unknown, Other, AssociatedPerformer, ComposerLyricist - Yuki Numata Resnick, Violin, AssociatedPerformer - Jonathan Low, Mixer, Recording Engineer, Vocal Engineer, StudioPersonnel - William Bowery, ComposerLyricist\", 'audio_info': {'replaygain_track_peak': 0.984955, 'replaygain_track_gain': -8.94}, 'performer': {'name': 'Taylor Swift', 'id': 70899}, 'album': {'image': {'small': 'https://static.qobuz.com/images/covers/nb/j4/bbqhrrpxdj4nb_230.jpg', 'thumbnail': 'https://static.qobuz.com/images/covers/nb/j4/bbqhrrpxdj4nb_50.jpg', 'large': 'https://static.qobuz.com/images/covers/nb/j4/bbqhrrpxdj4nb_600.jpg'}, 'maximum_bit_depth': 24, 'media_count': 1, 'artist': {'image': None, 'name': 'Taylor Swift', 'id': 70899, 'albums_count': 1004, 'slug': 'taylor-swift', 'picture': None}, 'upc': '0602435648545', 'released_at': 1607641200, 'label': {'name': 'Taylor Swift', 'id': 313742, 'albums_count': 222, 'supplier_id': 1, 'slug': 'taylor-swift'}, 'title': 'evermore (Explicit)', 'qobuz_id': 108768133, 'version': None, 'duration': 3638, 'parental_warning': True, 'tracks_count': 15, 'popularity': 0, 'genre': {'path': [112, 119, 113], 'color': '#0070ef', 'name': 'Alternative & Indie', 'id': 113, 'slug': 'alternatif-et-inde'}, 'maximum_channel_count': 2, 'id': 'bbqhrrpxdj4nb', 'maximum_sampling_rate': 88.2, 'previewable': True, 'sampleable': True, 'displayable': True, 'streamable': False, 'streamable_at': 1688886000, 'downloadable': False, 'purchasable_at': None, 'purchasable': False, 'release_date_original': '2020-12-11', 'release_date_download': '2020-12-11', 'release_date_stream': '2020-12-11', 'release_date_purchase': '2020-12-11', 'hires': True, 'hires_streamable': False}, 'work': None, 'composer': {'name': 'Aaron Dessner', 'id': 630289}, 'isrc': 'USUG12004711', 'title': 'coney island', 'version': 'feat. The National', 'duration': 275, 'parental_warning': False, 'track_number': 9, 'maximum_channel_count': 2, 'id': 108768142, 'media_number': 1, 'maximum_sampling_rate': 88.2, 'release_date_original': None, 'release_date_download': None, 'release_date_stream': None, 'release_date_purchase': None, 'purchasable': True, 'streamable': False, 'previewable': True, 'sampleable': True, 'downloadable': True, 'displayable': True, 'purchasable_at': 1688886000, 'streamable_at': 1688886000, 'hires': True, 'hires_streamable': False, 'position': 49, 'created_at': 1669008016, 'playlist_track_id': 2038671443}\n",
      "{'maximum_bit_depth': 24, 'copyright': '℗ 2020 Taylor Swift', 'performers': 'Rob Moose, Viola, Violin, AssociatedPerformer - Bon Iver, FeaturedArtist - Justin Vernon, Vocal Engineer, StudioPersonnel, ComposerLyricist - Taylor Swift, MainArtist, ComposerLyricist - Laura Sisk, Vocal Engineer, StudioPersonnel - Aaron Dessner, Producer, Electric Guitar, Percussion, Piano, Recording Engineer, Synthesizer, Drum Programming, AssociatedPerformer, StudioPersonnel - Bryce Dessner, Unknown, Other - Randy Merrill, Mastering Engineer, StudioPersonnel - Jonathan Low, Mixer, Recording Engineer, StudioPersonnel - William Bowery, ComposerLyricist - Joe Alwyn, Producer', 'audio_info': {'replaygain_track_peak': 0.972198, 'replaygain_track_gain': -9.02}, 'performer': {'name': 'Taylor Swift', 'id': 70899}, 'album': {'image': {'small': 'https://static.qobuz.com/images/covers/mb/bc/gpfwxb50vbcmb_230.jpg', 'thumbnail': 'https://static.qobuz.com/images/covers/mb/bc/gpfwxb50vbcmb_50.jpg', 'large': 'https://static.qobuz.com/images/covers/mb/bc/gpfwxb50vbcmb_600.jpg'}, 'maximum_bit_depth': 24, 'media_count': 1, 'artist': {'image': None, 'name': 'Taylor Swift', 'id': 70899, 'albums_count': 1004, 'slug': 'taylor-swift', 'picture': None}, 'upc': '0602435037967', 'released_at': 1595541600, 'label': {'name': 'Taylor Swift', 'id': 313742, 'albums_count': 222, 'supplier_id': 1, 'slug': 'taylor-swift'}, 'title': 'Folklore (Explicit)', 'qobuz_id': 98522697, 'version': None, 'duration': 3807, 'parental_warning': True, 'tracks_count': 16, 'popularity': 0, 'genre': {'path': [112, 119, 113], 'color': '#0070ef', 'name': 'Alternative & Indie', 'id': 113, 'slug': 'alternatif-et-inde'}, 'maximum_channel_count': 2, 'id': 'gpfwxb50vbcmb', 'maximum_sampling_rate': 44.1, 'previewable': True, 'sampleable': True, 'displayable': True, 'streamable': False, 'streamable_at': 1688886000, 'downloadable': False, 'purchasable_at': None, 'purchasable': False, 'release_date_original': '2020-07-24', 'release_date_download': '2020-07-24', 'release_date_stream': '2020-07-24', 'release_date_purchase': '2020-07-24', 'hires': True, 'hires_streamable': False}, 'work': None, 'composer': {'name': 'Justin Vernon', 'id': 527173}, 'isrc': 'USUG12002838', 'title': 'exile', 'version': None, 'duration': 285, 'parental_warning': False, 'track_number': 4, 'maximum_channel_count': 2, 'id': 98522701, 'media_number': 1, 'maximum_sampling_rate': 44.1, 'release_date_original': None, 'release_date_download': None, 'release_date_stream': None, 'release_date_purchase': None, 'purchasable': True, 'streamable': False, 'previewable': True, 'sampleable': True, 'downloadable': True, 'displayable': True, 'purchasable_at': 1688886000, 'streamable_at': 1688886000, 'hires': True, 'hires_streamable': False, 'position': 50, 'created_at': 1669008016, 'playlist_track_id': 2038671444}\n"
     ]
    }
   ],
   "source": [
    "for track in playlist_json[\"tracks\"][\"items\"]:\n",
    "    print(track)"
   ]
  },
  {
   "attachments": {},
   "cell_type": "markdown",
   "metadata": {},
   "source": [
    ":::{seealso}\n",
    "All track-related playlist operations are the same as those for albums. See the [Working with albums](#working-with-albums) section above for more information.\n",
    ":::"
   ]
  },
  {
   "attachments": {},
   "cell_type": "markdown",
   "metadata": {},
   "source": [
    "### Object-oriented approach for public playlists\n",
    "\n",
    "First, we directly create a `qobuz.Playlist` object using the playlist's Qobuz ID. "
   ]
  },
  {
   "cell_type": "code",
   "execution_count": 44,
   "metadata": {},
   "outputs": [
    {
     "name": "stdout",
     "output_type": "stream",
     "text": [
      "Qobuz playlist: 'Taylor Swift' [owner: Qobuz]\n"
     ]
    }
   ],
   "source": [
    "playlist_obj = qobuz.Playlist(playlist_id, authenticate=False)\n",
    "print(playlist_obj)"
   ]
  },
  {
   "attachments": {},
   "cell_type": "markdown",
   "metadata": {},
   "source": [
    "Just like albums, information about the tracks in the playlist are stored in `qobuz.Track` objects:"
   ]
  },
  {
   "cell_type": "code",
   "execution_count": 45,
   "metadata": {
    "tags": [
     "hide-output"
    ]
   },
   "outputs": [
    {
     "name": "stdout",
     "output_type": "stream",
     "text": [
      "Qobuz track: 'Shake It Off' [artist: Taylor Swift, album: 1989 (Deluxe Edition)]\n",
      "Qobuz track: 'We Are Never Ever Getting Back Together (Taylor's Version)' [artist: Taylor Swift, album: Red (Taylor's Version)]\n",
      "Qobuz track: 'You Need To Calm Down' [artist: Taylor Swift, album: Lover]\n",
      "Qobuz track: 'Anti-Hero' [artist: Taylor Swift, album: Midnights]\n",
      "Qobuz track: 'Love Story (Taylor’s Version)' [artist: Taylor Swift, album: Fearless (Taylor's Version)]\n",
      "Qobuz track: 'willow' [artist: Taylor Swift, album: evermore (Explicit)]\n",
      "Qobuz track: 'I Knew You Were Trouble (Taylor's Version)' [artist: Taylor Swift, album: Red (Taylor's Version)]\n",
      "Qobuz track: 'cardigan' [artist: Taylor Swift, album: Folklore (Explicit)]\n",
      "Qobuz track: 'I Bet You Think About Me (Taylor's Version) (From The Vault) [feat. Chris Stapleton]' [artist: Taylor Swift, album: Red (Taylor's Version)]\n",
      "Qobuz track: 'Blank Space' [artist: Taylor Swift, album: 1989 (Deluxe Edition)]\n",
      "Qobuz track: 'Teardrops On My Guitar (Radio Single Remix)' [artist: Taylor Swift, album: Taylor Swift]\n",
      "Qobuz track: 'Look What You Made Me Do' [artist: Taylor Swift, album: reputation]\n",
      "Qobuz track: 'Lover' [artist: Taylor Swift, album: Lover]\n",
      "Qobuz track: 'Today Was A Fairytale' [artist: Taylor Swift, album: Today Was A Fairytale]\n",
      "Qobuz track: 'Mine' [artist: Taylor Swift, album: Speak Now]\n",
      "Qobuz track: 'You Belong With Me (Taylor’s Version)' [artist: Taylor Swift, album: Fearless (Taylor's Version)]\n",
      "Qobuz track: 'champagne problems' [artist: Taylor Swift, album: evermore (Explicit)]\n",
      "Qobuz track: 'my tears ricochet' [artist: Taylor Swift, album: Folklore (Explicit)]\n",
      "Qobuz track: 'Bad Blood' [artist: Taylor Swift, album: 1989 (Deluxe Edition)]\n",
      "Qobuz track: 'State Of Grace (Taylor's Version)' [artist: Taylor Swift, album: Red (Taylor's Version)]\n",
      "Qobuz track: 'Snow On The Beach (feat. Lana Del Rey)' [artist: Taylor Swift, album: Midnights]\n",
      "Qobuz track: 'Picture To Burn' [artist: Taylor Swift, album: Taylor Swift]\n",
      "Qobuz track: 'Fearless (Taylor’s Version)' [artist: Taylor Swift, album: Fearless (Taylor's Version)]\n",
      "Qobuz track: 'Begin Again (Taylor's Version)' [artist: Taylor Swift, album: Red (Taylor's Version)]\n",
      "Qobuz track: 'no body, no crime (feat. Haim) [feat. HAIM]' [artist: Taylor Swift, album: evermore (Explicit)]\n",
      "Qobuz track: 'Safe & Sound (feat. The Civil Wars) [The Hunger Games/Soundtrack Version]' [artist: Taylor Swift, album: The Hunger Games: Songs From District 12 And Beyond]\n",
      "Qobuz track: 'ME! (feat. BRENDON URIE)' [artist: Taylor Swift, album: Lover]\n",
      "Qobuz track: '...Ready For It?' [artist: Taylor Swift, album: reputation]\n",
      "Qobuz track: 'Would've, Could've, Should've' [artist: Taylor Swift, album: Midnights (3am Edition)]\n",
      "Qobuz track: 'Change (Taylor’s Version)' [artist: Taylor Swift, album: Fearless (Taylor's Version)]\n",
      "Qobuz track: 'Ours' [artist: Taylor Swift, album: reputation Stadium Tour Surprise Song Playlist]\n",
      "Qobuz track: 'Back To December' [artist: Taylor Swift, album: Speak Now]\n",
      "Qobuz track: 'Long Live (Live/2011)' [artist: Taylor Swift, album: Speak Now World Tour Live]\n",
      "Qobuz track: 'Style' [artist: Taylor Swift, album: 1989 (Deluxe Edition)]\n",
      "Qobuz track: 'Lavender Haze' [artist: Taylor Swift, album: Midnights]\n",
      "Qobuz track: 'Our Song' [artist: Taylor Swift, album: Taylor Swift]\n",
      "Qobuz track: 'White Horse (Taylor’s Version)' [artist: Taylor Swift, album: Fearless (Taylor's Version)]\n",
      "Qobuz track: 'Mean' [artist: Taylor Swift, album: Speak Now]\n",
      "Qobuz track: 'Ronan' [artist: Taylor Swift, album: Ronan]\n",
      "Qobuz track: '22 (Taylor's Version)' [artist: Taylor Swift, album: Red (Taylor's Version)]\n",
      "Qobuz track: 'Eyes Open' [artist: Taylor Swift, album: The Hunger Games: Songs From District 12 And Beyond]\n",
      "Qobuz track: 'Wildest Dreams' [artist: Taylor Swift, album: 1989 (Deluxe Edition)]\n",
      "Qobuz track: 'Tim McGraw' [artist: Taylor Swift, album: Taylor Swift]\n",
      "Qobuz track: 'Gorgeous' [artist: Taylor Swift, album: reputation]\n",
      "Qobuz track: 'I Forgot That You Existed' [artist: Taylor Swift, album: Lover]\n",
      "Qobuz track: 'Fifteen (Taylor’s Version)' [artist: Taylor Swift, album: Fearless (Taylor's Version)]\n",
      "Qobuz track: 'Sparks Fly' [artist: Taylor Swift, album: Speak Now]\n",
      "Qobuz track: 'Red (Taylor's Version)' [artist: Taylor Swift, album: Red (Taylor's Version)]\n",
      "Qobuz track: 'coney island (feat. The National) [feat. The National]' [artist: Taylor Swift, album: evermore (Explicit)]\n",
      "Qobuz track: 'exile (feat. Bon Iver)' [artist: Taylor Swift, album: Folklore (Explicit)]\n"
     ]
    }
   ],
   "source": [
    "for track in playlist_obj.tracks:\n",
    "    print(track)"
   ]
  },
  {
   "attachments": {},
   "cell_type": "markdown",
   "metadata": {},
   "source": [
    ":::{seealso}\n",
    "All track-related playlist operations are the same as those for `qobuz.Album` objects. See the [Working with albums](#working-with-albums) section above for more information.\n",
    ":::"
   ]
  },
  {
   "attachments": {},
   "cell_type": "markdown",
   "metadata": {},
   "source": [
    ":::{seealso}\n",
    "While methods like `qobuz.Playlist.favorite()` and `qobuz.Playlist.unfavorite()` are available, it is recommended that `qobuz.User.favorite_playlist()` and `qobuz.User.unfavorite_playlist()` are used instead. See the [Account- and user-related methods](#account--and-user-related-methods) section below for more information.\n",
    ":::"
   ]
  },
  {
   "attachments": {},
   "cell_type": "markdown",
   "metadata": {},
   "source": [
    "### Procedural approach for custom playlists\n",
    "\n",
    "Most, if not all, custom user playlist endpoints require user authentication. As such, we now start with a `qobuz.Session` object with user authentication.\n",
    "\n",
    ":::{note}\n",
    "No parameters are passed to `qobuz.Session.login()` below because an Qobuz user authentication token was found in my operating system's environment variable `QOBUZ_USER_AUTH_TOKEN`. If you have not stored user credentials or an authorization token in your OS's environment variables, you can pass either the `auth_token` argument or the `email` and `password` arguments to `qobuz.\n",
    ":::"
   ]
  },
  {
   "cell_type": "code",
   "execution_count": 46,
   "metadata": {},
   "outputs": [],
   "source": [
    "# session = qobuz.Session()"
   ]
  },
  {
   "attachments": {},
   "cell_type": "markdown",
   "metadata": {},
   "source": [
    "To create a playlist, we use `qobuz.Session.create_playlist()` and pass in the playlist's name as the first argument. Optionally, we can also give a description and boolean flags to determine whether the playlist is public and collaborative."
   ]
  },
  {
   "cell_type": "code",
   "execution_count": 47,
   "metadata": {
    "tags": [
     "hide-output"
    ]
   },
   "outputs": [
    {
     "name": "stdout",
     "output_type": "stream",
     "text": [
      "id: 17240087\n",
      "name: Minim\n",
      "description: An example custom user playlist.\n",
      "tracks_count: 0\n",
      "users_count: 0\n",
      "duration: 0\n",
      "public_at: 1696802400\n",
      "created_at: 1696811967\n",
      "updated_at: 1696811967\n",
      "is_public: True\n",
      "is_collaborative: False\n"
     ]
    }
   ],
   "source": [
    "user_playlist_json = session.create_playlist(\"Minim\", description=\"An example custom user playlist.\")\n",
    "for key, value in user_playlist_json.items():\n",
    "    if key != \"owner\":\n",
    "        print(key, value, sep=\": \")"
   ]
  },
  {
   "attachments": {},
   "cell_type": "markdown",
   "metadata": {},
   "source": [
    "In case we want to update the playlist's properties, we can use `qobuz.Session.update_playlist()`. For example, to make the playlist private, we can do:"
   ]
  },
  {
   "cell_type": "code",
   "execution_count": 48,
   "metadata": {
    "tags": [
     "hide-output"
    ]
   },
   "outputs": [
    {
     "name": "stdout",
     "output_type": "stream",
     "text": [
      "id: 17240087\n",
      "name: Minim\n",
      "description: An example custom user playlist.\n",
      "tracks_count: 0\n",
      "users_count: 0\n",
      "duration: 0\n",
      "public_at: False\n",
      "created_at: 1696811967\n",
      "updated_at: 1696811967\n",
      "is_public: False\n",
      "is_collaborative: False\n"
     ]
    }
   ],
   "source": [
    "user_playlist_json = session.update_playlist(user_playlist_json[\"id\"], public=False)\n",
    "for key, value in user_playlist_json.items():\n",
    "    if key != \"owner\":\n",
    "        print(key, value, sep=\": \")"
   ]
  },
  {
   "attachments": {},
   "cell_type": "markdown",
   "metadata": {},
   "source": [
    "Let's add some tracks to the playlist using `qobuz.Session.add_playlist_tracks()`. Afterwards, we use `qobuz.Session.get_playlist()` to query the tracks we just added."
   ]
  },
  {
   "cell_type": "code",
   "execution_count": 49,
   "metadata": {
    "tags": [
     "hide-output"
    ]
   },
   "outputs": [
    {
     "name": "stdout",
     "output_type": "stream",
     "text": [
      "{'maximum_bit_depth': 16, 'copyright': '© 2019 SpinninRecords.com ℗ 2019 SpinninRecords.com', 'performers': 'Rani, FeaturedArtist - Roxanne Emery, Writer - Jordan Schultz, Masterer - Sam Feldt, Programmer, MainArtist - Sammy Renders, Writer - Dominic Lyttle, Mixer, Writer - Jonas Kröper, Writer - Shannon Hilversum, Writer', 'audio_info': {'replaygain_track_peak': 1, 'replaygain_track_gain': -10.44}, 'performer': {'name': 'Sam Feldt', 'id': 1829176}, 'album': {'image': {'small': 'https://static.qobuz.com/images/covers/cc/09/tfjs3torp09cc_230.jpg', 'thumbnail': 'https://static.qobuz.com/images/covers/cc/09/tfjs3torp09cc_50.jpg', 'large': 'https://static.qobuz.com/images/covers/cc/09/tfjs3torp09cc_600.jpg'}, 'maximum_bit_depth': 16, 'media_count': 1, 'artist': {'image': None, 'name': 'Sam Feldt', 'id': 1829176, 'albums_count': 245, 'slug': 'sam-feldt', 'picture': None}, 'upc': '0190295418267', 'released_at': 1558648800, 'label': {'name': \"Spinnin' Records\", 'id': 190680, 'albums_count': 4810, 'supplier_id': 5, 'slug': 'spinnin-records-4'}, 'title': 'Magnets EP', 'qobuz_id': 61947435, 'version': None, 'duration': 873, 'parental_warning': True, 'tracks_count': 5, 'popularity': 0, 'genre': {'path': [64, 129], 'color': '#0070ef', 'name': 'Dance', 'id': 129, 'slug': 'dance'}, 'maximum_channel_count': 2, 'id': 'tfjs3torp09cc', 'maximum_sampling_rate': 44.1, 'previewable': True, 'sampleable': True, 'displayable': True, 'streamable': True, 'streamable_at': 1685170800, 'downloadable': False, 'purchasable_at': None, 'purchasable': False, 'release_date_original': '2019-05-24', 'release_date_download': '2019-05-24', 'release_date_stream': '2019-05-24', 'release_date_purchase': '2019-05-24', 'hires': False, 'hires_streamable': False}, 'work': None, 'isrc': 'NLZ541900734', 'title': 'Post Malone (feat. RANI)', 'version': None, 'duration': 174, 'parental_warning': False, 'track_number': 5, 'maximum_channel_count': 2, 'id': 61947440, 'media_number': 1, 'maximum_sampling_rate': 44.1, 'release_date_original': None, 'release_date_download': None, 'release_date_stream': None, 'release_date_purchase': None, 'purchasable': False, 'streamable': True, 'previewable': True, 'sampleable': True, 'downloadable': False, 'displayable': True, 'purchasable_at': None, 'streamable_at': 1685170800, 'hires': False, 'hires_streamable': False, 'position': 1, 'created_at': 1696811968, 'playlist_track_id': 3563959551}\n",
      "{'maximum_bit_depth': 24, 'copyright': '(P) 2016 STMPD RCRDS B.V. exclusively licensed to Epic Amsterdam, a divison of Sony Music Entertainment Netherlands B.V.', 'performers': 'Martin Garrix, Associated Performer, Engineer, Main Artist, Producer\\r - The Federal Empire, Associated Performer, Featured Artist\\r - Martin Garrix Feat. The Federal Empire, Associated Performer\\r - Martijn Garritsen, Composer, Lyricist\\r - Giorgio Tuinfort, Composer, Lyricist\\r - Simon Strömstedt, Composer, Lyricist\\r - Keith Varon, Composer, Lyricist\\r - McKay Stevens, Composer, Lyricist\\r - Chad Wolf, Composer, Lyricist', 'audio_info': {'replaygain_track_peak': 0.965027, 'replaygain_track_gain': -11.15}, 'performer': {'name': 'Martin Garrix', 'id': 974660}, 'album': {'image': {'small': 'https://static.qobuz.com/images/covers/03/98/0886446179803_230.jpg', 'thumbnail': 'https://static.qobuz.com/images/covers/03/98/0886446179803_50.jpg', 'large': 'https://static.qobuz.com/images/covers/03/98/0886446179803_600.jpg'}, 'maximum_bit_depth': 24, 'media_count': 1, 'artist': {'image': None, 'name': 'Martin Garrix', 'id': 974660, 'albums_count': 381, 'slug': 'martin-garrix', 'picture': None}, 'upc': '0886446179803', 'released_at': 1476741600, 'label': {'name': 'Epic Amsterdam', 'id': 85930, 'albums_count': 369, 'supplier_id': 23, 'slug': 'epic-amsterdam'}, 'title': 'Hold On & Believe', 'qobuz_id': 35560952, 'version': None, 'duration': 234, 'parental_warning': False, 'tracks_count': 1, 'popularity': 0, 'genre': {'path': [64, 68], 'color': '#0070ef', 'name': 'House', 'id': 68, 'slug': 'house'}, 'maximum_channel_count': 2, 'id': '0886446179803', 'maximum_sampling_rate': 44.1, 'previewable': True, 'sampleable': True, 'displayable': True, 'streamable': True, 'streamable_at': 1696316400, 'downloadable': False, 'purchasable_at': None, 'purchasable': False, 'release_date_original': '2016-10-18', 'release_date_download': '2016-10-18', 'release_date_stream': '2016-10-18', 'release_date_purchase': '2016-10-18', 'hires': True, 'hires_streamable': True}, 'work': None, 'composer': {'name': 'Giorgio Tuinfort', 'id': 204708}, 'isrc': 'NLM5S1600010', 'title': 'Hold On & Believe', 'version': None, 'duration': 234, 'parental_warning': False, 'track_number': 1, 'maximum_channel_count': 2, 'id': 35560953, 'media_number': 1, 'maximum_sampling_rate': 44.1, 'release_date_original': None, 'release_date_download': None, 'release_date_stream': None, 'release_date_purchase': None, 'purchasable': True, 'streamable': True, 'previewable': True, 'sampleable': True, 'downloadable': True, 'displayable': True, 'purchasable_at': 1696316400, 'streamable_at': 1696316400, 'hires': True, 'hires_streamable': True, 'position': 2, 'created_at': 1696811968, 'playlist_track_id': 3563959552}\n",
      "{'maximum_bit_depth': 16, 'copyright': '2021 Armada Music B.V. 2021 Armada Music B.V.', 'performers': 'Gazzo, Producer - April Bender, Composer, Lyricist, FeaturedArtist - Nikolaus Becker, Composer - Lena Leon, Composer, Lyricist - Michael Gazzo, Composer - Niiko x SWAE, Producer, MainArtist - Mark Manchester, Composer - Ultra Empire Music (BMI) obo itself and LRL Music (BMI), MusicPublisher - Niiko x SWAE Publishing, MusicPublisher - Torro Rosso Tracks, MusicPublisher - ARCHERSONGS Publishing (ASCAP), MusicPublisher', 'audio_info': {'replaygain_track_peak': 0.98877, 'replaygain_track_gain': -11.33}, 'performer': {'name': 'Niiko x SWAE', 'id': 3327805}, 'album': {'image': {'small': 'https://static.qobuz.com/images/covers/3a/hz/cdgt6fwyvhz3a_230.jpg', 'thumbnail': 'https://static.qobuz.com/images/covers/3a/hz/cdgt6fwyvhz3a_50.jpg', 'large': 'https://static.qobuz.com/images/covers/3a/hz/cdgt6fwyvhz3a_600.jpg'}, 'maximum_bit_depth': 16, 'media_count': 1, 'artist': {'image': None, 'name': 'Niiko x SWAE', 'id': 3327805, 'albums_count': 63, 'slug': 'niikoxswae-10003327805', 'picture': None}, 'upc': '8718522342165', 'released_at': 1623362400, 'label': {'name': 'Armada Music', 'id': 248166, 'albums_count': 4367, 'supplier_id': 41, 'slug': 'armada-music'}, 'title': 'Field Trip', 'qobuz_id': 121976829, 'version': None, 'duration': 726, 'parental_warning': False, 'tracks_count': 4, 'popularity': 0, 'genre': {'path': [64, 129], 'color': '#0070ef', 'name': 'Dance', 'id': 129, 'slug': 'dance'}, 'maximum_channel_count': 2, 'id': 'cdgt6fwyvhz3a', 'maximum_sampling_rate': 44.1, 'previewable': True, 'sampleable': True, 'displayable': True, 'streamable': True, 'streamable_at': 1688540400, 'downloadable': False, 'purchasable_at': None, 'purchasable': False, 'release_date_original': '2021-06-11', 'release_date_download': '2021-06-11', 'release_date_stream': '2021-06-11', 'release_date_purchase': '2021-06-11', 'hires': False, 'hires_streamable': False}, 'work': None, 'composer': {'name': 'Nikolaus Becker', 'id': 1758157}, 'isrc': 'NLF712100910', 'title': \"I Ain't Going Home\", 'version': None, 'duration': 182, 'parental_warning': False, 'track_number': 1, 'maximum_channel_count': 2, 'id': 121976830, 'media_number': 1, 'maximum_sampling_rate': 44.1, 'release_date_original': None, 'release_date_download': None, 'release_date_stream': None, 'release_date_purchase': None, 'purchasable': True, 'streamable': True, 'previewable': True, 'sampleable': True, 'downloadable': True, 'displayable': True, 'purchasable_at': 1688540400, 'streamable_at': 1688540400, 'hires': False, 'hires_streamable': False, 'position': 3, 'created_at': 1696811968, 'playlist_track_id': 3563959553}\n",
      "{'maximum_bit_depth': 16, 'copyright': '℗ 2010 Big Machine Records, LLC', 'performers': 'Tommy Sims, Bass Guitar, AssociatedPerformer - Tim Lauer, Piano, Hammond B3, AssociatedPerformer - Nathan Chapman, Producer, Banjo, Acoustic Guitar, Bass Guitar, Electric Guitar, Mandolin, Organ, Piano, Synthesizer, Digital Piano, AssociatedPerformer - Bryan Sutton, Acoustic Guitar, AssociatedPerformer - Shannon Forrest, Drums, AssociatedPerformer - Eric Darken, Percussion, AssociatedPerformer - Rob Hajacos, Fiddle, AssociatedPerformer - John Gardner, Drums, AssociatedPerformer - Nick Buda, Drums, AssociatedPerformer - Al Wilson, Percussion, AssociatedPerformer - Taylor Swift, Producer, Acoustic Guitar, Vocals, Vocalist, MainArtist, AssociatedPerformer, ComposerLyricist - Smith Curry, Steel Guitar, AssociatedPerformer - Tim Marks, Bass Guitar, AssociatedPerformer - Grant Mickelson, Electric Guitar, AssociatedPerformer - Paul Sidoti, Electric Guitar, AssociatedPerformer - Mike Meadows, Electric Guitar, AssociatedPerformer - Amos Heller, Bass Guitar, AssociatedPerformer', 'audio_info': {'replaygain_track_peak': 0.950104, 'replaygain_track_gain': -11.43}, 'performer': {'name': 'Taylor Swift', 'id': 70899}, 'album': {'image': {'small': 'https://static.qobuz.com/images/covers/mc/df/qsgwxoyd8dfmc_230.jpg', 'thumbnail': 'https://static.qobuz.com/images/covers/mc/df/qsgwxoyd8dfmc_50.jpg', 'large': 'https://static.qobuz.com/images/covers/mc/df/qsgwxoyd8dfmc_600.jpg'}, 'maximum_bit_depth': 16, 'media_count': 1, 'artist': {'image': None, 'name': 'Taylor Swift', 'id': 70899, 'albums_count': 952, 'slug': 'taylor-swift', 'picture': None}, 'upc': '0843930004010', 'released_at': 1287957600, 'label': {'name': 'Big Machine Records, LLC', 'id': 17893, 'albums_count': 985, 'supplier_id': 1, 'slug': 'big-machine-records-llc'}, 'title': 'Speak Now', 'qobuz_id': 54330493, 'version': None, 'duration': 4013, 'parental_warning': False, 'tracks_count': 14, 'popularity': 0, 'genre': {'path': [4], 'color': '#0070ef', 'name': 'Country', 'id': 4, 'slug': 'country'}, 'maximum_channel_count': 2, 'id': 'qsgwxoyd8dfmc', 'maximum_sampling_rate': 44.1, 'previewable': True, 'sampleable': True, 'displayable': True, 'streamable': True, 'streamable_at': 1683529200, 'downloadable': False, 'purchasable_at': None, 'purchasable': False, 'release_date_original': '2010-10-25', 'release_date_download': '2010-10-25', 'release_date_stream': '2010-10-25', 'release_date_purchase': '2010-10-25', 'hires': False, 'hires_streamable': False}, 'work': None, 'composer': {'name': 'Taylor Swift', 'id': 70899}, 'isrc': 'USCJY1003645', 'title': 'Mine', 'version': None, 'duration': 230, 'parental_warning': False, 'track_number': 1, 'maximum_channel_count': 2, 'id': 54330494, 'media_number': 1, 'maximum_sampling_rate': 44.1, 'release_date_original': None, 'release_date_download': None, 'release_date_stream': None, 'release_date_purchase': None, 'purchasable': True, 'streamable': True, 'previewable': True, 'sampleable': True, 'downloadable': True, 'displayable': True, 'purchasable_at': 1683702000, 'streamable_at': 1683529200, 'hires': False, 'hires_streamable': False, 'position': 4, 'created_at': 1696811968, 'playlist_track_id': 3563959554}\n"
     ]
    }
   ],
   "source": [
    "session.add_playlist_tracks(user_playlist_json[\"id\"], \n",
    "                            [track_json_ex[\"id\"], \n",
    "                             track_json[\"id\"], \n",
    "                             album_json[\"tracks\"][\"items\"][0][\"id\"],\n",
    "                             playlist_json[\"tracks\"][\"items\"][14][\"id\"]])\n",
    "user_playlist_json = session.get_playlist(user_playlist_json[\"id\"])\n",
    "for track in user_playlist_json[\"tracks\"][\"items\"]:\n",
    "    print(track)"
   ]
  },
  {
   "attachments": {},
   "cell_type": "markdown",
   "metadata": {},
   "source": [
    "To reorder tracks in the playlist, use `qobuz.Session.move_playlist_tracks()`. Let's move the last track to the second position."
   ]
  },
  {
   "attachments": {},
   "cell_type": "markdown",
   "metadata": {},
   "source": [
    ":::{note}\n",
    "The argument `playlist_track_ids` should be the playlist track ID (which is specific to a track in a given playlist), not the Qobuz track ID.\n",
    ":::"
   ]
  },
  {
   "cell_type": "code",
   "execution_count": 50,
   "metadata": {
    "tags": [
     "hide-output"
    ]
   },
   "outputs": [
    {
     "name": "stdout",
     "output_type": "stream",
     "text": [
      "{'maximum_bit_depth': 16, 'copyright': '2021 Armada Music B.V. 2021 Armada Music B.V.', 'performers': 'Gazzo, Producer - April Bender, Composer, Lyricist, FeaturedArtist - Nikolaus Becker, Composer - Lena Leon, Composer, Lyricist - Michael Gazzo, Composer - Niiko x SWAE, Producer, MainArtist - Mark Manchester, Composer - Ultra Empire Music (BMI) obo itself and LRL Music (BMI), MusicPublisher - Niiko x SWAE Publishing, MusicPublisher - Torro Rosso Tracks, MusicPublisher - ARCHERSONGS Publishing (ASCAP), MusicPublisher', 'audio_info': {'replaygain_track_peak': 0.98877, 'replaygain_track_gain': -11.33}, 'performer': {'name': 'Niiko x SWAE', 'id': 3327805}, 'album': {'image': {'small': 'https://static.qobuz.com/images/covers/3a/hz/cdgt6fwyvhz3a_230.jpg', 'thumbnail': 'https://static.qobuz.com/images/covers/3a/hz/cdgt6fwyvhz3a_50.jpg', 'large': 'https://static.qobuz.com/images/covers/3a/hz/cdgt6fwyvhz3a_600.jpg'}, 'maximum_bit_depth': 16, 'media_count': 1, 'artist': {'image': None, 'name': 'Niiko x SWAE', 'id': 3327805, 'albums_count': 63, 'slug': 'niikoxswae-10003327805', 'picture': None}, 'upc': '8718522342165', 'released_at': 1623362400, 'label': {'name': 'Armada Music', 'id': 248166, 'albums_count': 4367, 'supplier_id': 41, 'slug': 'armada-music'}, 'title': 'Field Trip', 'qobuz_id': 121976829, 'version': None, 'duration': 726, 'parental_warning': False, 'tracks_count': 4, 'popularity': 0, 'genre': {'path': [64, 129], 'color': '#0070ef', 'name': 'Dance', 'id': 129, 'slug': 'dance'}, 'maximum_channel_count': 2, 'id': 'cdgt6fwyvhz3a', 'maximum_sampling_rate': 44.1, 'previewable': True, 'sampleable': True, 'displayable': True, 'streamable': True, 'streamable_at': 1688540400, 'downloadable': False, 'purchasable_at': None, 'purchasable': False, 'release_date_original': '2021-06-11', 'release_date_download': '2021-06-11', 'release_date_stream': '2021-06-11', 'release_date_purchase': '2021-06-11', 'hires': False, 'hires_streamable': False}, 'work': None, 'composer': {'name': 'Nikolaus Becker', 'id': 1758157}, 'isrc': 'NLF712100910', 'title': \"I Ain't Going Home\", 'version': None, 'duration': 182, 'parental_warning': False, 'track_number': 1, 'maximum_channel_count': 2, 'id': 121976830, 'media_number': 1, 'maximum_sampling_rate': 44.1, 'release_date_original': None, 'release_date_download': None, 'release_date_stream': None, 'release_date_purchase': None, 'purchasable': True, 'streamable': True, 'previewable': True, 'sampleable': True, 'downloadable': True, 'displayable': True, 'purchasable_at': 1688540400, 'streamable_at': 1688540400, 'hires': False, 'hires_streamable': False, 'position': 1, 'created_at': 1696811968, 'playlist_track_id': 3563959553}\n",
      "{'maximum_bit_depth': 16, 'copyright': '© 2019 SpinninRecords.com ℗ 2019 SpinninRecords.com', 'performers': 'Rani, FeaturedArtist - Roxanne Emery, Writer - Jordan Schultz, Masterer - Sam Feldt, Programmer, MainArtist - Sammy Renders, Writer - Dominic Lyttle, Mixer, Writer - Jonas Kröper, Writer - Shannon Hilversum, Writer', 'audio_info': {'replaygain_track_peak': 1, 'replaygain_track_gain': -10.44}, 'performer': {'name': 'Sam Feldt', 'id': 1829176}, 'album': {'image': {'small': 'https://static.qobuz.com/images/covers/cc/09/tfjs3torp09cc_230.jpg', 'thumbnail': 'https://static.qobuz.com/images/covers/cc/09/tfjs3torp09cc_50.jpg', 'large': 'https://static.qobuz.com/images/covers/cc/09/tfjs3torp09cc_600.jpg'}, 'maximum_bit_depth': 16, 'media_count': 1, 'artist': {'image': None, 'name': 'Sam Feldt', 'id': 1829176, 'albums_count': 245, 'slug': 'sam-feldt', 'picture': None}, 'upc': '0190295418267', 'released_at': 1558648800, 'label': {'name': \"Spinnin' Records\", 'id': 190680, 'albums_count': 4810, 'supplier_id': 5, 'slug': 'spinnin-records-4'}, 'title': 'Magnets EP', 'qobuz_id': 61947435, 'version': None, 'duration': 873, 'parental_warning': True, 'tracks_count': 5, 'popularity': 0, 'genre': {'path': [64, 129], 'color': '#0070ef', 'name': 'Dance', 'id': 129, 'slug': 'dance'}, 'maximum_channel_count': 2, 'id': 'tfjs3torp09cc', 'maximum_sampling_rate': 44.1, 'previewable': True, 'sampleable': True, 'displayable': True, 'streamable': True, 'streamable_at': 1685170800, 'downloadable': False, 'purchasable_at': None, 'purchasable': False, 'release_date_original': '2019-05-24', 'release_date_download': '2019-05-24', 'release_date_stream': '2019-05-24', 'release_date_purchase': '2019-05-24', 'hires': False, 'hires_streamable': False}, 'work': None, 'isrc': 'NLZ541900734', 'title': 'Post Malone (feat. RANI)', 'version': None, 'duration': 174, 'parental_warning': False, 'track_number': 5, 'maximum_channel_count': 2, 'id': 61947440, 'media_number': 1, 'maximum_sampling_rate': 44.1, 'release_date_original': None, 'release_date_download': None, 'release_date_stream': None, 'release_date_purchase': None, 'purchasable': False, 'streamable': True, 'previewable': True, 'sampleable': True, 'downloadable': False, 'displayable': True, 'purchasable_at': None, 'streamable_at': 1685170800, 'hires': False, 'hires_streamable': False, 'position': 2, 'created_at': 1696811968, 'playlist_track_id': 3563959551}\n",
      "{'maximum_bit_depth': 24, 'copyright': '(P) 2016 STMPD RCRDS B.V. exclusively licensed to Epic Amsterdam, a divison of Sony Music Entertainment Netherlands B.V.', 'performers': 'Martin Garrix, Associated Performer, Engineer, Main Artist, Producer\\r - The Federal Empire, Associated Performer, Featured Artist\\r - Martin Garrix Feat. The Federal Empire, Associated Performer\\r - Martijn Garritsen, Composer, Lyricist\\r - Giorgio Tuinfort, Composer, Lyricist\\r - Simon Strömstedt, Composer, Lyricist\\r - Keith Varon, Composer, Lyricist\\r - McKay Stevens, Composer, Lyricist\\r - Chad Wolf, Composer, Lyricist', 'audio_info': {'replaygain_track_peak': 0.965027, 'replaygain_track_gain': -11.15}, 'performer': {'name': 'Martin Garrix', 'id': 974660}, 'album': {'image': {'small': 'https://static.qobuz.com/images/covers/03/98/0886446179803_230.jpg', 'thumbnail': 'https://static.qobuz.com/images/covers/03/98/0886446179803_50.jpg', 'large': 'https://static.qobuz.com/images/covers/03/98/0886446179803_600.jpg'}, 'maximum_bit_depth': 24, 'media_count': 1, 'artist': {'image': None, 'name': 'Martin Garrix', 'id': 974660, 'albums_count': 381, 'slug': 'martin-garrix', 'picture': None}, 'upc': '0886446179803', 'released_at': 1476741600, 'label': {'name': 'Epic Amsterdam', 'id': 85930, 'albums_count': 369, 'supplier_id': 23, 'slug': 'epic-amsterdam'}, 'title': 'Hold On & Believe', 'qobuz_id': 35560952, 'version': None, 'duration': 234, 'parental_warning': False, 'tracks_count': 1, 'popularity': 0, 'genre': {'path': [64, 68], 'color': '#0070ef', 'name': 'House', 'id': 68, 'slug': 'house'}, 'maximum_channel_count': 2, 'id': '0886446179803', 'maximum_sampling_rate': 44.1, 'previewable': True, 'sampleable': True, 'displayable': True, 'streamable': True, 'streamable_at': 1696316400, 'downloadable': False, 'purchasable_at': None, 'purchasable': False, 'release_date_original': '2016-10-18', 'release_date_download': '2016-10-18', 'release_date_stream': '2016-10-18', 'release_date_purchase': '2016-10-18', 'hires': True, 'hires_streamable': True}, 'work': None, 'composer': {'name': 'Giorgio Tuinfort', 'id': 204708}, 'isrc': 'NLM5S1600010', 'title': 'Hold On & Believe', 'version': None, 'duration': 234, 'parental_warning': False, 'track_number': 1, 'maximum_channel_count': 2, 'id': 35560953, 'media_number': 1, 'maximum_sampling_rate': 44.1, 'release_date_original': None, 'release_date_download': None, 'release_date_stream': None, 'release_date_purchase': None, 'purchasable': True, 'streamable': True, 'previewable': True, 'sampleable': True, 'downloadable': True, 'displayable': True, 'purchasable_at': 1696316400, 'streamable_at': 1696316400, 'hires': True, 'hires_streamable': True, 'position': 3, 'created_at': 1696811968, 'playlist_track_id': 3563959552}\n",
      "{'maximum_bit_depth': 16, 'copyright': '℗ 2010 Big Machine Records, LLC', 'performers': 'Tommy Sims, Bass Guitar, AssociatedPerformer - Tim Lauer, Piano, Hammond B3, AssociatedPerformer - Nathan Chapman, Producer, Banjo, Acoustic Guitar, Bass Guitar, Electric Guitar, Mandolin, Organ, Piano, Synthesizer, Digital Piano, AssociatedPerformer - Bryan Sutton, Acoustic Guitar, AssociatedPerformer - Shannon Forrest, Drums, AssociatedPerformer - Eric Darken, Percussion, AssociatedPerformer - Rob Hajacos, Fiddle, AssociatedPerformer - John Gardner, Drums, AssociatedPerformer - Nick Buda, Drums, AssociatedPerformer - Al Wilson, Percussion, AssociatedPerformer - Taylor Swift, Producer, Acoustic Guitar, Vocals, Vocalist, MainArtist, AssociatedPerformer, ComposerLyricist - Smith Curry, Steel Guitar, AssociatedPerformer - Tim Marks, Bass Guitar, AssociatedPerformer - Grant Mickelson, Electric Guitar, AssociatedPerformer - Paul Sidoti, Electric Guitar, AssociatedPerformer - Mike Meadows, Electric Guitar, AssociatedPerformer - Amos Heller, Bass Guitar, AssociatedPerformer', 'audio_info': {'replaygain_track_peak': 0.950104, 'replaygain_track_gain': -11.43}, 'performer': {'name': 'Taylor Swift', 'id': 70899}, 'album': {'image': {'small': 'https://static.qobuz.com/images/covers/mc/df/qsgwxoyd8dfmc_230.jpg', 'thumbnail': 'https://static.qobuz.com/images/covers/mc/df/qsgwxoyd8dfmc_50.jpg', 'large': 'https://static.qobuz.com/images/covers/mc/df/qsgwxoyd8dfmc_600.jpg'}, 'maximum_bit_depth': 16, 'media_count': 1, 'artist': {'image': None, 'name': 'Taylor Swift', 'id': 70899, 'albums_count': 952, 'slug': 'taylor-swift', 'picture': None}, 'upc': '0843930004010', 'released_at': 1287957600, 'label': {'name': 'Big Machine Records, LLC', 'id': 17893, 'albums_count': 985, 'supplier_id': 1, 'slug': 'big-machine-records-llc'}, 'title': 'Speak Now', 'qobuz_id': 54330493, 'version': None, 'duration': 4013, 'parental_warning': False, 'tracks_count': 14, 'popularity': 0, 'genre': {'path': [4], 'color': '#0070ef', 'name': 'Country', 'id': 4, 'slug': 'country'}, 'maximum_channel_count': 2, 'id': 'qsgwxoyd8dfmc', 'maximum_sampling_rate': 44.1, 'previewable': True, 'sampleable': True, 'displayable': True, 'streamable': True, 'streamable_at': 1683529200, 'downloadable': False, 'purchasable_at': None, 'purchasable': False, 'release_date_original': '2010-10-25', 'release_date_download': '2010-10-25', 'release_date_stream': '2010-10-25', 'release_date_purchase': '2010-10-25', 'hires': False, 'hires_streamable': False}, 'work': None, 'composer': {'name': 'Taylor Swift', 'id': 70899}, 'isrc': 'USCJY1003645', 'title': 'Mine', 'version': None, 'duration': 230, 'parental_warning': False, 'track_number': 1, 'maximum_channel_count': 2, 'id': 54330494, 'media_number': 1, 'maximum_sampling_rate': 44.1, 'release_date_original': None, 'release_date_download': None, 'release_date_stream': None, 'release_date_purchase': None, 'purchasable': True, 'streamable': True, 'previewable': True, 'sampleable': True, 'downloadable': True, 'displayable': True, 'purchasable_at': 1683702000, 'streamable_at': 1683529200, 'hires': False, 'hires_streamable': False, 'position': 4, 'created_at': 1696811968, 'playlist_track_id': 3563959554}\n"
     ]
    }
   ],
   "source": [
    "session.move_playlist_tracks(user_playlist_json[\"id\"], \n",
    "                             user_playlist_json[\"tracks\"][\"items\"][2][\"playlist_track_id\"], \n",
    "                             0)\n",
    "user_playlist_json = session.get_playlist(user_playlist_json[\"id\"])\n",
    "for track in user_playlist_json[\"tracks\"][\"items\"]:\n",
    "    print(track)"
   ]
  },
  {
   "attachments": {},
   "cell_type": "markdown",
   "metadata": {},
   "source": [
    "To delete tracks from the playlist, use `qobuz.Session.delete_playlist_tracks()`. Let's remove the third track from the playlist."
   ]
  },
  {
   "cell_type": "code",
   "execution_count": 51,
   "metadata": {
    "tags": [
     "hide-output"
    ]
   },
   "outputs": [
    {
     "name": "stdout",
     "output_type": "stream",
     "text": [
      "{'maximum_bit_depth': 16, 'copyright': '2021 Armada Music B.V. 2021 Armada Music B.V.', 'performers': 'Gazzo, Producer - April Bender, Composer, Lyricist, FeaturedArtist - Nikolaus Becker, Composer - Lena Leon, Composer, Lyricist - Michael Gazzo, Composer - Niiko x SWAE, Producer, MainArtist - Mark Manchester, Composer - Ultra Empire Music (BMI) obo itself and LRL Music (BMI), MusicPublisher - Niiko x SWAE Publishing, MusicPublisher - Torro Rosso Tracks, MusicPublisher - ARCHERSONGS Publishing (ASCAP), MusicPublisher', 'audio_info': {'replaygain_track_peak': 0.98877, 'replaygain_track_gain': -11.33}, 'performer': {'name': 'Niiko x SWAE', 'id': 3327805}, 'album': {'image': {'small': 'https://static.qobuz.com/images/covers/3a/hz/cdgt6fwyvhz3a_230.jpg', 'thumbnail': 'https://static.qobuz.com/images/covers/3a/hz/cdgt6fwyvhz3a_50.jpg', 'large': 'https://static.qobuz.com/images/covers/3a/hz/cdgt6fwyvhz3a_600.jpg'}, 'maximum_bit_depth': 16, 'media_count': 1, 'artist': {'image': None, 'name': 'Niiko x SWAE', 'id': 3327805, 'albums_count': 63, 'slug': 'niikoxswae-10003327805', 'picture': None}, 'upc': '8718522342165', 'released_at': 1623362400, 'label': {'name': 'Armada Music', 'id': 248166, 'albums_count': 4367, 'supplier_id': 41, 'slug': 'armada-music'}, 'title': 'Field Trip', 'qobuz_id': 121976829, 'version': None, 'duration': 726, 'parental_warning': False, 'tracks_count': 4, 'popularity': 0, 'genre': {'path': [64, 129], 'color': '#0070ef', 'name': 'Dance', 'id': 129, 'slug': 'dance'}, 'maximum_channel_count': 2, 'id': 'cdgt6fwyvhz3a', 'maximum_sampling_rate': 44.1, 'previewable': True, 'sampleable': True, 'displayable': True, 'streamable': True, 'streamable_at': 1688540400, 'downloadable': False, 'purchasable_at': None, 'purchasable': False, 'release_date_original': '2021-06-11', 'release_date_download': '2021-06-11', 'release_date_stream': '2021-06-11', 'release_date_purchase': '2021-06-11', 'hires': False, 'hires_streamable': False}, 'work': None, 'composer': {'name': 'Nikolaus Becker', 'id': 1758157}, 'isrc': 'NLF712100910', 'title': \"I Ain't Going Home\", 'version': None, 'duration': 182, 'parental_warning': False, 'track_number': 1, 'maximum_channel_count': 2, 'id': 121976830, 'media_number': 1, 'maximum_sampling_rate': 44.1, 'release_date_original': None, 'release_date_download': None, 'release_date_stream': None, 'release_date_purchase': None, 'purchasable': True, 'streamable': True, 'previewable': True, 'sampleable': True, 'downloadable': True, 'displayable': True, 'purchasable_at': 1688540400, 'streamable_at': 1688540400, 'hires': False, 'hires_streamable': False, 'position': 1, 'created_at': 1696811968, 'playlist_track_id': 3563959553}\n",
      "{'maximum_bit_depth': 16, 'copyright': '© 2019 SpinninRecords.com ℗ 2019 SpinninRecords.com', 'performers': 'Rani, FeaturedArtist - Roxanne Emery, Writer - Jordan Schultz, Masterer - Sam Feldt, Programmer, MainArtist - Sammy Renders, Writer - Dominic Lyttle, Mixer, Writer - Jonas Kröper, Writer - Shannon Hilversum, Writer', 'audio_info': {'replaygain_track_peak': 1, 'replaygain_track_gain': -10.44}, 'performer': {'name': 'Sam Feldt', 'id': 1829176}, 'album': {'image': {'small': 'https://static.qobuz.com/images/covers/cc/09/tfjs3torp09cc_230.jpg', 'thumbnail': 'https://static.qobuz.com/images/covers/cc/09/tfjs3torp09cc_50.jpg', 'large': 'https://static.qobuz.com/images/covers/cc/09/tfjs3torp09cc_600.jpg'}, 'maximum_bit_depth': 16, 'media_count': 1, 'artist': {'image': None, 'name': 'Sam Feldt', 'id': 1829176, 'albums_count': 245, 'slug': 'sam-feldt', 'picture': None}, 'upc': '0190295418267', 'released_at': 1558648800, 'label': {'name': \"Spinnin' Records\", 'id': 190680, 'albums_count': 4810, 'supplier_id': 5, 'slug': 'spinnin-records-4'}, 'title': 'Magnets EP', 'qobuz_id': 61947435, 'version': None, 'duration': 873, 'parental_warning': True, 'tracks_count': 5, 'popularity': 0, 'genre': {'path': [64, 129], 'color': '#0070ef', 'name': 'Dance', 'id': 129, 'slug': 'dance'}, 'maximum_channel_count': 2, 'id': 'tfjs3torp09cc', 'maximum_sampling_rate': 44.1, 'previewable': True, 'sampleable': True, 'displayable': True, 'streamable': True, 'streamable_at': 1685170800, 'downloadable': False, 'purchasable_at': None, 'purchasable': False, 'release_date_original': '2019-05-24', 'release_date_download': '2019-05-24', 'release_date_stream': '2019-05-24', 'release_date_purchase': '2019-05-24', 'hires': False, 'hires_streamable': False}, 'work': None, 'isrc': 'NLZ541900734', 'title': 'Post Malone (feat. RANI)', 'version': None, 'duration': 174, 'parental_warning': False, 'track_number': 5, 'maximum_channel_count': 2, 'id': 61947440, 'media_number': 1, 'maximum_sampling_rate': 44.1, 'release_date_original': None, 'release_date_download': None, 'release_date_stream': None, 'release_date_purchase': None, 'purchasable': False, 'streamable': True, 'previewable': True, 'sampleable': True, 'downloadable': False, 'displayable': True, 'purchasable_at': None, 'streamable_at': 1685170800, 'hires': False, 'hires_streamable': False, 'position': 2, 'created_at': 1696811968, 'playlist_track_id': 3563959551}\n",
      "{'maximum_bit_depth': 16, 'copyright': '℗ 2010 Big Machine Records, LLC', 'performers': 'Tommy Sims, Bass Guitar, AssociatedPerformer - Tim Lauer, Piano, Hammond B3, AssociatedPerformer - Nathan Chapman, Producer, Banjo, Acoustic Guitar, Bass Guitar, Electric Guitar, Mandolin, Organ, Piano, Synthesizer, Digital Piano, AssociatedPerformer - Bryan Sutton, Acoustic Guitar, AssociatedPerformer - Shannon Forrest, Drums, AssociatedPerformer - Eric Darken, Percussion, AssociatedPerformer - Rob Hajacos, Fiddle, AssociatedPerformer - John Gardner, Drums, AssociatedPerformer - Nick Buda, Drums, AssociatedPerformer - Al Wilson, Percussion, AssociatedPerformer - Taylor Swift, Producer, Acoustic Guitar, Vocals, Vocalist, MainArtist, AssociatedPerformer, ComposerLyricist - Smith Curry, Steel Guitar, AssociatedPerformer - Tim Marks, Bass Guitar, AssociatedPerformer - Grant Mickelson, Electric Guitar, AssociatedPerformer - Paul Sidoti, Electric Guitar, AssociatedPerformer - Mike Meadows, Electric Guitar, AssociatedPerformer - Amos Heller, Bass Guitar, AssociatedPerformer', 'audio_info': {'replaygain_track_peak': 0.950104, 'replaygain_track_gain': -11.43}, 'performer': {'name': 'Taylor Swift', 'id': 70899}, 'album': {'image': {'small': 'https://static.qobuz.com/images/covers/mc/df/qsgwxoyd8dfmc_230.jpg', 'thumbnail': 'https://static.qobuz.com/images/covers/mc/df/qsgwxoyd8dfmc_50.jpg', 'large': 'https://static.qobuz.com/images/covers/mc/df/qsgwxoyd8dfmc_600.jpg'}, 'maximum_bit_depth': 16, 'media_count': 1, 'artist': {'image': None, 'name': 'Taylor Swift', 'id': 70899, 'albums_count': 952, 'slug': 'taylor-swift', 'picture': None}, 'upc': '0843930004010', 'released_at': 1287957600, 'label': {'name': 'Big Machine Records, LLC', 'id': 17893, 'albums_count': 985, 'supplier_id': 1, 'slug': 'big-machine-records-llc'}, 'title': 'Speak Now', 'qobuz_id': 54330493, 'version': None, 'duration': 4013, 'parental_warning': False, 'tracks_count': 14, 'popularity': 0, 'genre': {'path': [4], 'color': '#0070ef', 'name': 'Country', 'id': 4, 'slug': 'country'}, 'maximum_channel_count': 2, 'id': 'qsgwxoyd8dfmc', 'maximum_sampling_rate': 44.1, 'previewable': True, 'sampleable': True, 'displayable': True, 'streamable': True, 'streamable_at': 1683529200, 'downloadable': False, 'purchasable_at': None, 'purchasable': False, 'release_date_original': '2010-10-25', 'release_date_download': '2010-10-25', 'release_date_stream': '2010-10-25', 'release_date_purchase': '2010-10-25', 'hires': False, 'hires_streamable': False}, 'work': None, 'composer': {'name': 'Taylor Swift', 'id': 70899}, 'isrc': 'USCJY1003645', 'title': 'Mine', 'version': None, 'duration': 230, 'parental_warning': False, 'track_number': 1, 'maximum_channel_count': 2, 'id': 54330494, 'media_number': 1, 'maximum_sampling_rate': 44.1, 'release_date_original': None, 'release_date_download': None, 'release_date_stream': None, 'release_date_purchase': None, 'purchasable': True, 'streamable': True, 'previewable': True, 'sampleable': True, 'downloadable': True, 'displayable': True, 'purchasable_at': 1683702000, 'streamable_at': 1683529200, 'hires': False, 'hires_streamable': False, 'position': 3, 'created_at': 1696811968, 'playlist_track_id': 3563959554}\n"
     ]
    }
   ],
   "source": [
    "session.delete_playlist_tracks(user_playlist_json[\"id\"], \n",
    "                               user_playlist_json[\"tracks\"][\"items\"][2][\"playlist_track_id\"])\n",
    "user_playlist_json = session.get_playlist(user_playlist_json[\"id\"])\n",
    "for track in user_playlist_json[\"tracks\"][\"items\"]:\n",
    "    print(track)"
   ]
  },
  {
   "attachments": {},
   "cell_type": "markdown",
   "metadata": {},
   "source": [
    "To delete the whole playlist, use `qobuz.Session.delete_playlist()`:"
   ]
  },
  {
   "cell_type": "code",
   "execution_count": 52,
   "metadata": {},
   "outputs": [],
   "source": [
    "session.delete_playlist(user_playlist_json[\"id\"])"
   ]
  },
  {
   "attachments": {},
   "cell_type": "markdown",
   "metadata": {},
   "source": [
    "### Object-oriented approach for custom playlists\n",
    "\n",
    "To create a Qobuz playlist, we can instantiate a `qobuz.Playlist` object with the first argument being a `dict` with the arguments to pass to `qobuz.Session.create_playlist()`. To grant permissions to the object, we can pass in keyword arguments containing either an authenticated `qobuz.Session` object or user credentials. Since we already have an authenticated `qobuz.Session` object, we can do:"
   ]
  },
  {
   "cell_type": "code",
   "execution_count": 53,
   "metadata": {},
   "outputs": [
    {
     "name": "stdout",
     "output_type": "stream",
     "text": [
      "Qobuz playlist: 'Minim' [owner: bbye98]\n"
     ]
    }
   ],
   "source": [
    "user_playlist_obj = qobuz.Playlist({\"name\": \"Minim\"}, session=session)\n",
    "user_playlist_obj.owner = {\"id\": None, \"name\": \"bbye98\"} # Remove personal information.\n",
    "print(user_playlist_obj)"
   ]
  },
  {
   "attachments": {},
   "cell_type": "markdown",
   "metadata": {},
   "source": [
    "To make the playlist private, use `qobuz.Playlist.update()`:"
   ]
  },
  {
   "cell_type": "code",
   "execution_count": 54,
   "metadata": {},
   "outputs": [
    {
     "name": "stdout",
     "output_type": "stream",
     "text": [
      "Is 'Minim' a public playlist? False\n"
     ]
    }
   ],
   "source": [
    "user_playlist_obj.update(public=False)\n",
    "print(f\"Is '{user_playlist_obj.name}' a public playlist?\", user_playlist_obj.flags[\"public\"])"
   ]
  },
  {
   "attachments": {},
   "cell_type": "markdown",
   "metadata": {},
   "source": [
    "Like before, let's add some tracks to the playlist using `qobuz.Playlist.add_tracks()`. Now, the tracks to be added can be provided as Qobuz track IDs or `qobuz.Track` objects. Afterwards, the `qobuz.Playlist` object is automatically updated with the tracks' information."
   ]
  },
  {
   "cell_type": "code",
   "execution_count": 55,
   "metadata": {
    "tags": [
     "hide-output"
    ]
   },
   "outputs": [
    {
     "name": "stdout",
     "output_type": "stream",
     "text": [
      "Qobuz track: 'Post Malone (feat. RANI)' [artist: Sam Feldt, album: Magnets EP]\n",
      "Qobuz track: 'Hold On & Believe (feat. The Federal Empire)' [artist: Martin Garrix, album: Hold On & Believe]\n",
      "Qobuz track: 'I Ain't Going Home (feat. April Bender)' [artist: Niiko x SWAE, album: Field Trip]\n",
      "Qobuz track: 'Mine' [artist: Taylor Swift, album: Speak Now]\n"
     ]
    }
   ],
   "source": [
    "user_playlist_obj.add_tracks([track_obj_ex.id, track_obj, album_obj.tracks[0].id, playlist_obj.tracks[14]])\n",
    "for track in user_playlist_obj.tracks:\n",
    "    print(track)"
   ]
  },
  {
   "attachments": {},
   "cell_type": "markdown",
   "metadata": {},
   "source": [
    "To reorder tracks in the playlist, use `qobuz.Playlist.move_tracks()`."
   ]
  },
  {
   "attachments": {},
   "cell_type": "markdown",
   "metadata": {},
   "source": [
    ":::{note}\n",
    "For a given track, normally we would have to pass its *playlist track ID*, which is a track ID specific to that track in the current playlist we are working with. However, `qobuz.Playlist.move_tracks()` also accepts a `qobuz.Track` object that did not originate from another playlist. As long as the track itself is in the playlist, the `qobuz.Track` object does not need to have a `playlist_track_id` attribute.\n",
    ":::"
   ]
  },
  {
   "cell_type": "code",
   "execution_count": 56,
   "metadata": {
    "tags": [
     "hide-output"
    ]
   },
   "outputs": [
    {
     "name": "stdout",
     "output_type": "stream",
     "text": [
      "Qobuz track: 'I Ain't Going Home (feat. April Bender)' [artist: Niiko x SWAE, album: Field Trip]\n",
      "Qobuz track: 'Post Malone (feat. RANI)' [artist: Sam Feldt, album: Magnets EP]\n",
      "Qobuz track: 'Hold On & Believe (feat. The Federal Empire)' [artist: Martin Garrix, album: Hold On & Believe]\n",
      "Qobuz track: 'Mine' [artist: Taylor Swift, album: Speak Now]\n"
     ]
    }
   ],
   "source": [
    "user_playlist_obj.move_tracks(album_obj.tracks[0], 0)\n",
    "for track in user_playlist_obj.tracks:\n",
    "    print(track)"
   ]
  },
  {
   "attachments": {},
   "cell_type": "markdown",
   "metadata": {},
   "source": [
    "To delete tracks from the playlist, use `qobuz.Playlist.delete_tracks()`."
   ]
  },
  {
   "cell_type": "code",
   "execution_count": 57,
   "metadata": {
    "tags": [
     "hide-output"
    ]
   },
   "outputs": [
    {
     "name": "stdout",
     "output_type": "stream",
     "text": [
      "Qobuz track: 'I Ain't Going Home (feat. April Bender)' [artist: Niiko x SWAE, album: Field Trip]\n",
      "Qobuz track: 'Post Malone (feat. RANI)' [artist: Sam Feldt, album: Magnets EP]\n",
      "Qobuz track: 'Mine' [artist: Taylor Swift, album: Speak Now]\n"
     ]
    }
   ],
   "source": [
    "user_playlist_obj.delete_tracks(user_playlist_obj.tracks[2])\n",
    "for track in user_playlist_obj.tracks:\n",
    "    print(track)"
   ]
  },
  {
   "attachments": {},
   "cell_type": "markdown",
   "metadata": {},
   "source": [
    "To delete the whole playlist, use `qobuz.Playlist.delete()`. Calling this method does not delete the `qobuz.Playlist` object, but will clear all its attributes."
   ]
  },
  {
   "cell_type": "code",
   "execution_count": 58,
   "metadata": {},
   "outputs": [
    {
     "name": "stdout",
     "output_type": "stream",
     "text": [
      "Qobuz playlist: '<deleted>' [owner: None]\n"
     ]
    }
   ],
   "source": [
    "user_playlist_obj.delete()\n",
    "print(user_playlist_obj)"
   ]
  },
  {
   "attachments": {},
   "cell_type": "markdown",
   "metadata": {},
   "source": [
    "## Account- and user-related methods\n",
    "\n",
    "There are a few remaining Qobuz API endpoints that do not fall into any of the categories above, mainly because they deal with account history and user preferences. Their implementations are practically one-to-one between `qobuz.Session` and `qobuz.User`, except `qobuz.User` generally allows `qobuz.Album`, `qobuz.Artist`, `qobuz.Playlist`, and `qobuz.Track` objects in-place of album IDs, artist IDs, playlist IDs, and track IDs, respectively, in the arguments for its methods. Additionally, `qobuz.User` methods store the requested information in easily accessible attributes, whereas `qobuz.Session` methods generally return data in JSON format. As such, we will use the authenticated `qobuz.User` instance from earlier in the rest of this tutorial."
   ]
  },
  {
   "attachments": {},
   "cell_type": "markdown",
   "metadata": {},
   "source": [
    "### Search\n",
    "\n",
    "Let's say we really like the color maroon. One would even say obsessively so. As such, we're interested in any media that contain the word \"maroon\". We can use `qobuz.User.search()` to query Qobuz for matching catalog items:"
   ]
  },
  {
   "cell_type": "code",
   "execution_count": 59,
   "metadata": {},
   "outputs": [],
   "source": [
    "results = user.search(\"maroon\", limit=5)"
   ]
  },
  {
   "attachments": {},
   "cell_type": "markdown",
   "metadata": {},
   "source": [
    "The search results is returned as a `dict`, where the keys are the media type (`\"albums\"`, `\"artists\"`, or `\"tracks\"`) and the values are `list`s containing Qobuz catalog information. If the `qobuz.User` object is authenticated, the search results will also include the most popular albums, artists, and tracks in `\"most_popular\"`:"
   ]
  },
  {
   "cell_type": "code",
   "execution_count": 60,
   "metadata": {
    "tags": [
     "hide-output"
    ]
   },
   "outputs": [
    {
     "name": "stdout",
     "output_type": "stream",
     "text": [
      "Qobuz artist: Maroon 5\n",
      "Qobuz track: 'Maroon' [artist: Taylor Swift, album: Midnights]\n",
      "Qobuz track: 'Marooned' [artist: Pink Floyd, album: The Division Bell]\n",
      "Qobuz track: 'Maroon' [artist: Taylor Swift, album: Midnights (3am Edition)]\n",
      "Qobuz track: 'Maroon' [artist: Taylor Swift, album: Midnights]\n",
      "Qobuz album: 'Maroon (Édition StudioMasters)' [artist: Barenaked Ladies]\n",
      "Qobuz track: 'Maroon' [artist: Taylor Swift, album: Midnights (3am Edition)]\n",
      "Qobuz track: 'Maroon' [artist: Taylor Swift, album: Midnights (The Til Dawn Edition)]\n",
      "Qobuz track: 'Marooned Jam (1994 Recording)' [artist: Pink Floyd, album: The Later Years 1987-2019]\n",
      "Qobuz track: 'Maroon' [artist: Taylor Swift, album: Midnights (3am Edition)]\n",
      "Qobuz track: 'My Queen Is Nanny Of The Maroons' [artist: Sons Of Kemet, album: Your Queen Is A Reptile]\n",
      "Qobuz track: 'Marooned' [artist: Pink Floyd, album: Pink Floyd - Chillout]\n",
      "Qobuz track: 'Marooned Jam (1994 Recording)' [artist: Pink Floyd, album: The Later Years]\n",
      "Qobuz album: 'Maroon' [artist: Barenaked Ladies]\n",
      "Qobuz album: 'Marooned' [artist: Larry Lee]\n",
      "Qobuz track: 'Marooned (2006 Remastered Version)' [artist: Wire, album: Chairs Missing (2006 Remastered Version)]\n",
      "Qobuz track: 'Marooned' [artist: Balligomingo, album: Beneath The Surface]\n",
      "Qobuz album: 'Maroon Cloud' [artist: Nicole Mitchell]\n",
      "Qobuz track: 'Maroon' [artist: Taylor Swift, album: Midnights (The Til Dawn Edition)]\n",
      "Qobuz track: 'Maroons (feat. Amirtha Kidambi & Imani Robinson)' [artist: Moor Mother, album: Brass]\n",
      "Qobuz track: 'Pinch Me' [artist: Barenaked Ladies, album: Maroon (Édition StudioMasters)]\n",
      "Qobuz track: 'Falling for the First Time' [artist: Barenaked Ladies, album: Maroon (Édition StudioMasters)]\n",
      "Qobuz track: 'Too Little Too Late' [artist: Barenaked Ladies, album: Maroon (Édition StudioMasters)]\n",
      "Qobuz track: 'Don't Talk' [artist: Larry Lee, album: Marooned]\n",
      "Qobuz track: 'Pinch Me' [artist: Barenaked Ladies, album: Maroon]\n",
      "Qobuz track: 'Never Do Anything' [artist: Barenaked Ladies, album: Maroon (Édition StudioMasters)]\n",
      "Qobuz track: 'Conventioneers' [artist: Barenaked Ladies, album: Maroon (Édition StudioMasters)]\n",
      "Qobuz track: 'Baby Seat' [artist: Barenaked Ladies, album: Maroon (Édition StudioMasters)]\n",
      "Qobuz track: 'Go Home' [artist: Barenaked Ladies, album: Maroon (Édition StudioMasters)]\n",
      "Qobuz track: 'Tonight Is the Night I Fell Asleep at the Wheel' [artist: Barenaked Ladies, album: Maroon (Édition StudioMasters)]\n"
     ]
    }
   ],
   "source": [
    "for item in results[\"most_popular\"]:\n",
    "    print(item)"
   ]
  },
  {
   "attachments": {},
   "cell_type": "markdown",
   "metadata": {},
   "source": [
    "If we're interested only in one media type, we can specify it in the `type` parameter. There are also boolean flags we can enable to filter for high-resolution audio (`hi_res`) and new releases (`new_release`), and to force exact matches (`strict`).\n",
    "\n",
    "For example, if we wanted to search for albums and tracks with high-resolution audio involving artists with \"maroon\" in their names,"
   ]
  },
  {
   "cell_type": "code",
   "execution_count": 61,
   "metadata": {
    "tags": [
     "hide-output"
    ]
   },
   "outputs": [
    {
     "name": "stdout",
     "output_type": "stream",
     "text": [
      "Albums:\n",
      "  - Qobuz album: 'Songs About Jane' [artist: Maroon 5]\n",
      "  - Qobuz album: 'V (Deluxe Version) [Deluxe]' [artist: Maroon 5]\n",
      "  - Qobuz album: 'JORDI (Deluxe - Explicit) [Deluxe]' [artist: Maroon 5]\n",
      "  - Qobuz album: 'Red Pill Blues (Deluxe)' [artist: Maroon 5]\n",
      "  - Qobuz album: 'Middle Ground' [artist: Maroon 5]\n",
      "\n",
      "Tracks:\n",
      "  - Qobuz track: 'Sugar' [artist: Maroon 5, album: V (Deluxe Version) [Deluxe]]\n",
      "  - Qobuz track: 'Animals' [artist: Maroon 5, album: V (Deluxe Version) [Deluxe]]\n",
      "  - Qobuz track: 'This Love' [artist: Maroon 5, album: Songs About Jane]\n",
      "  - Qobuz track: 'Memories' [artist: Maroon 5, album: JORDI (Deluxe - Explicit) [Deluxe]]\n",
      "  - Qobuz track: 'She Will Be Loved (Radio Mix)' [artist: Maroon 5, album: Songs About Jane]\n",
      "\n"
     ]
    }
   ],
   "source": [
    "results_performer = user.search(\"maroon\", type=\"MainArtist\", hi_res=True, limit=5)\n",
    "for media_type in (\"albums\", \"tracks\"):\n",
    "    print(f\"{media_type.capitalize()}:\")\n",
    "    for item in results_performer[media_type]:\n",
    "        print(f\"  - {item}\")\n",
    "    print()"
   ]
  },
  {
   "attachments": {},
   "cell_type": "markdown",
   "metadata": {},
   "source": [
    "If we instead wanted to search for newly-released albums and tracks with \"maroon\" in the title,"
   ]
  },
  {
   "cell_type": "code",
   "execution_count": 62,
   "metadata": {
    "tags": [
     "hide-output"
    ]
   },
   "outputs": [
    {
     "name": "stdout",
     "output_type": "stream",
     "text": [
      "Albums:\n",
      "  - Qobuz album: 'Maroon Pagg' [artist: Satkar Sandhu]\n",
      "  - Qobuz album: 'Mein Madine Me Maroon Is Haal Mein' [artist: Muhammad Noman]\n",
      "  - Qobuz album: 'I AM A MAROON' [artist: Ma'isheeba Whyne]\n",
      "  - Qobuz album: 'Silly Maroon Quail' [artist: Esan Vrz]\n",
      "  - Qobuz album: 'Clean Maroon' [artist: Buanara]\n",
      "\n",
      "Tracks:\n",
      "  - Qobuz track: 'Maroon' [artist: Shade Empire, album: Sunholy]\n",
      "  - Qobuz track: 'Maroon (Instrumental)' [artist: Piano Dreamers, album: Piano Dreamers Play Taylor Swift, Vol. 3 (Instrumental)]\n",
      "  - Qobuz track: 'Maroon (Instrumental)' [artist: Guitar Tribute Players, album: Acoustic Tribute to Taylor Swift, Vol. 4 (Instrumental)]\n",
      "  - Qobuz track: 'Maroon' [artist: Shade Empire, album: Maroon]\n",
      "  - Qobuz track: 'Maroon' [artist: Josh Rabenold, album: Maroon]\n",
      "\n"
     ]
    }
   ],
   "source": [
    "results_tracks = user.search(\"maroon\", type=\"ReleaseName\", new_release=True, limit=5)\n",
    "for media_type in (\"albums\", \"tracks\"):\n",
    "    print(f\"{media_type.capitalize()}:\")\n",
    "    for item in results_tracks[media_type]:\n",
    "        print(f\"  - {item}\")\n",
    "    print()"
   ]
  },
  {
   "attachments": {},
   "cell_type": "markdown",
   "metadata": {},
   "source": [
    "### Favorites\n",
    "\n",
    "To add albums, tracks, and artists to your favorites, use `qobuz.User.favorite_items()`:"
   ]
  },
  {
   "cell_type": "code",
   "execution_count": 63,
   "metadata": {
    "tags": [
     "hide_output"
    ]
   },
   "outputs": [
    {
     "name": "stdout",
     "output_type": "stream",
     "text": [
      "Favorite albums:\n",
      "  - Qobuz album: 'Field Trip' [artist: Niiko x SWAE]\n",
      "\n",
      "Favorite artists:\n",
      "  - Qobuz artist: Sick Individuals\n",
      "\n",
      "Favorite tracks:\n",
      "  - Qobuz track: 'Post Malone (feat. RANI)' [artist: Sam Feldt, album: Magnets EP]\n",
      "\n"
     ]
    }
   ],
   "source": [
    "user.favorite_items(albums=album_json[\"id\"], artists=artist_json[\"id\"], tracks=track_json_ex[\"id\"])\n",
    "for key, value in user.favorites.items():\n",
    "    print(f\"Favorite {key}:\")\n",
    "    for item in value:\n",
    "        print(f\"  - {item}\")\n",
    "    print()"
   ]
  },
  {
   "attachments": {},
   "cell_type": "markdown",
   "metadata": {},
   "source": [
    "For playlists, use `qobuz.User.favorite_playlist()`:"
   ]
  },
  {
   "cell_type": "code",
   "execution_count": 64,
   "metadata": {
    "tags": [
     "hide_output"
    ]
   },
   "outputs": [
    {
     "name": "stdout",
     "output_type": "stream",
     "text": [
      "Qobuz playlist: 'Taylor Swift' [owner: Qobuz]\n",
      "Qobuz playlist: 'Welcome to Qobuz' [owner: Qobuz]\n"
     ]
    }
   ],
   "source": [
    "user.favorite_playlist(playlist_json[\"id\"])\n",
    "for playlist in user.playlists:\n",
    "    print(playlist)"
   ]
  },
  {
   "attachments": {},
   "cell_type": "markdown",
   "metadata": {},
   "source": [
    "To unfavorite albums, tracks, or artists, use `qobuz.User.unfavorite_items()`. For playlists, use `qobuz.User.unfavorite_playlist()`."
   ]
  },
  {
   "cell_type": "code",
   "execution_count": 65,
   "metadata": {},
   "outputs": [],
   "source": [
    "user.unfavorite_items(albums=album_json[\"id\"], artists=artist_json[\"id\"], tracks=track_json_ex[\"id\"])       \n",
    "user.unfavorite_playlist(playlist_json[\"id\"])"
   ]
  },
  {
   "attachments": {},
   "cell_type": "markdown",
   "metadata": {},
   "source": [
    "### Curated and featured media\n",
    "\n",
    "Every week, Qobuz prepares curated tracks and highlights featured albums and playlists depending on the user's listening history.\n",
    "\n",
    "To get the curated tracks, use `qobuz.User.get_curated_tracks()`:"
   ]
  },
  {
   "cell_type": "code",
   "execution_count": 66,
   "metadata": {
    "tags": [
     "hide-output"
    ]
   },
   "outputs": [
    {
     "name": "stdout",
     "output_type": "stream",
     "text": [
      "Qobuz track: 'bad guy' [artist: Billie Eilish, album: WHEN WE ALL FALL ASLEEP, WHERE DO WE GO?]\n",
      "Qobuz track: 'Skyfall' [artist: Adele, album: Skyfall (Full Length)]\n",
      "Qobuz track: 'Roundabout (MQS)' [artist: Yes, album: Fragile]\n",
      "Qobuz track: 'Africa (Album Version)' [artist: Toto, album: Toto IV]\n",
      "Qobuz track: 'Get Lucky (feat. Pharrell Williams and Nile Rodgers)' [artist: Daft Punk feat. Pharrell Williams, album: Random Access Memories]\n",
      "Qobuz track: 'Goodbye Yellow Brick Road (Remastered 2014)' [artist: Elton John, album: Goodbye Yellow Brick Road (40th Anniversary Celebration)]\n",
      "Qobuz track: 'Come Together (2019 Mix)' [artist: The Beatles, album: Abbey Road (Super Deluxe Edition)]\n",
      "Qobuz track: 'Hey Now' [artist: London Grammar, album: If You Wait (Deluxe)]\n",
      "Qobuz track: 'Money for Nothing' [artist: Dire Straits, album: Brothers in Arms]\n",
      "Qobuz track: 'Birds' [artist: Dominique Fils-Aimé, album: Nameless]\n",
      "Qobuz track: 'Moondance (2013 Remaster)' [artist: Van Morrison, album: Moondance (Hi-Res Version) [2013 Remaster]]\n",
      "Qobuz track: 'Hotel California (Live On MTV, 1994)' [artist: Eagles, album: Hell Freezes Over (Remaster 2018)]\n",
      "Qobuz track: 'Dreams (2001 Remaster)' [artist: Fleetwood Mac, album: Rumours (2001 Remaster)]\n",
      "Qobuz track: 'Sultans of Swing' [artist: Dire Straits, album: Dire Straits]\n",
      "Qobuz track: 'Keith Don't Go (Live)' [artist: Nils Lofgren Band, album: Acoustic Live (Live)]\n",
      "Qobuz track: 'Thanks To You' [artist: Boz Scaggs, album: Dig]\n",
      "Qobuz track: 'Man in the Long Black Coat (Album Version)' [artist: Bob Dylan, album: Oh Mercy]\n",
      "Qobuz track: 'Don't Know Why (192kHz/24bit)' [artist: Norah Jones, album: Come Away With Me]\n",
      "Qobuz track: 'In A Sentimental Mood' [artist: Duke Ellington, album: Duke Ellington & John Coltrane]\n",
      "Qobuz track: 'School (Remastered 2010)' [artist: Supertramp, album: Crime Of The Century [2014 - HD Remaster] (192kHz / Remastered)]\n",
      "Qobuz track: 'Temptation' [artist: Diana Krall, album: The Girl In The Other Room]\n",
      "Qobuz track: 'Heart of Gold' [artist: Neil Young, album: Harvest]\n",
      "Qobuz track: 'In the Air Tonight (2015 Remaster)' [artist: Phil Collins, album: Face Value (Remastered Hi-Res Version) [2016 Remaster]]\n",
      "Qobuz track: 'Goodbye Pork Pie Hat (Album Version)' [artist: Charles Mingus, album: Mingus Ah Um]\n",
      "Qobuz track: 'Black Magic Woman / Gypsy Queen' [artist: Santana, album: Abraxas]\n",
      "Qobuz track: 'Moanin' (Remastered)' [artist: Art Blakey & The Jazz Messengers, album: Moanin' (Remastered)]\n",
      "Qobuz track: 'So What' [artist: Miles Davis, album: Kind Of Blue]\n",
      "Qobuz track: 'Idle Moments' [artist: Grant Green, album: Idle Moments]\n",
      "Qobuz track: 'Wish You Were Here' [artist: Pink Floyd, album: Wish You Were Here]\n",
      "Qobuz track: 'Tin Pan Alley (AKA Roughest Place in Town)' [artist: Stevie Ray Vaughan & Double Trouble, album: Couldn't Stand The Weather]\n"
     ]
    }
   ],
   "source": [
    "for track in user.get_curated_tracks(limit=5):\n",
    "    print(track)"
   ]
  },
  {
   "attachments": {},
   "cell_type": "markdown",
   "metadata": {},
   "source": [
    "To get the featured albums, use `qobuz.User.get_featured_albums()`:"
   ]
  },
  {
   "cell_type": "code",
   "execution_count": 67,
   "metadata": {
    "tags": [
     "hide-output"
    ]
   },
   "outputs": [
    {
     "name": "stdout",
     "output_type": "stream",
     "text": [
      "Qobuz album: 'Ghosts' [artist: Hania Rani]\n",
      "Qobuz album: 'Javelin' [artist: Sufjan Stevens]\n",
      "Qobuz album: 'Joni Mitchell Archives, Vol. 3: The Asylum Years (1972-1975)' [artist: Joni Mitchell]\n",
      "Qobuz album: 'J.S. Bach: Goldberg Variations' [artist: Víkingur Ólafsson]\n",
      "Qobuz album: 'The NID Tapes: Electronic Music from India 1969-1972' [artist: National Institute of Design]\n"
     ]
    }
   ],
   "source": [
    "for album in user.get_featured_albums(limit=5):\n",
    "    print(album)"
   ]
  },
  {
   "attachments": {},
   "cell_type": "markdown",
   "metadata": {},
   "source": [
    "And lastly, to get the featured playlists, use `qobuz.User.get_featured_playlists()`:"
   ]
  },
  {
   "cell_type": "code",
   "execution_count": 68,
   "metadata": {
    "tags": [
     "hide-output"
    ]
   },
   "outputs": [
    {
     "name": "stdout",
     "output_type": "stream",
     "text": [
      "Qobuz playlist: 'New Releases' [owner: Qobuz]\n",
      "Qobuz playlist: 'Blonde Redhead' [owner: Qobuz]\n",
      "Qobuz playlist: '75 Years of Folkways Records' [owner: Qobuz]\n",
      "Qobuz playlist: 'Jazz Newcomers' [owner: Qobuz]\n",
      "Qobuz playlist: 'Corinne Bailey Rae' [owner: Qobuz]\n"
     ]
    }
   ],
   "source": [
    "for playlist in user.get_featured_playlists(limit=5):\n",
    "    print(playlist)"
   ]
  }
 ],
 "metadata": {
  "kernelspec": {
   "display_name": "Python 3",
   "language": "python",
   "name": "python3"
  },
  "language_info": {
   "codemirror_mode": {
    "name": "ipython",
    "version": 3
   },
   "file_extension": ".py",
   "mimetype": "text/x-python",
   "name": "python",
   "nbconvert_exporter": "python",
   "pygments_lexer": "ipython3",
   "version": "3.11.5"
  }
 },
 "nbformat": 4,
 "nbformat_minor": 4
}
