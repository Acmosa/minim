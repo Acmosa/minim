{
 "cells": [
  {
   "cell_type": "markdown",
   "metadata": {},
   "source": [
    "# Editing Audio Metadata\n",
    "\n",
    "Minim can organize your local music library by tagging audio files with metadata retrieved from popular music services, such as iTunes, Spotify, and TIDAL."
   ]
  },
  {
   "cell_type": "code",
   "execution_count": 1,
   "metadata": {},
   "outputs": [],
   "source": [
    "from pathlib import Path\n",
    "\n",
    "import numpy as np\n",
    "\n",
    "from minim import audio, itunes, spotify, tidal, utility"
   ]
  },
  {
   "cell_type": "markdown",
   "metadata": {},
   "source": [
    "## Setup"
   ]
  },
  {
   "cell_type": "markdown",
   "metadata": {},
   "source": [
    "### Instantiating API clients"
   ]
  },
  {
   "cell_type": "code",
   "execution_count": 2,
   "metadata": {},
   "outputs": [],
   "source": [
    "client_itunes = itunes.SearchAPI()\n",
    "client_spotify = spotify.WebAPI()\n",
    "client_tidal = tidal.PrivateAPI()"
   ]
  },
  {
   "cell_type": "markdown",
   "metadata": {},
   "source": [
    "### Finding audio files"
   ]
  },
  {
   "cell_type": "code",
   "execution_count": 3,
   "metadata": {},
   "outputs": [],
   "source": [
    "audio_files = [f for f in (Path().resolve().parents[3] / \"tests/data/previews/\").glob(\"**/*\") if f.suffix == \".flac\"]"
   ]
  },
  {
   "cell_type": "markdown",
   "metadata": {},
   "source": [
    "### Defining helper functions"
   ]
  },
  {
   "cell_type": "code",
   "execution_count": 4,
   "metadata": {},
   "outputs": [],
   "source": [
    "def print_metadata(audio_file):\n",
    "    for field, value in audio_file.__dict__.items():\n",
    "        if not field.startswith(\"_\"):\n",
    "            if field in {\"artwork\", \"lyrics\"}:\n",
    "                if value:\n",
    "                    value = type(value)\n",
    "            field = field.upper() if field == \"isrc\" else field.replace(\"_\", \" \").capitalize()\n",
    "            print(f\"{field}: {value}\")"
   ]
  },
  {
   "cell_type": "markdown",
   "metadata": {},
   "source": [
    "## Example 1: Tagging an audio file with no metadata"
   ]
  },
  {
   "cell_type": "code",
   "execution_count": 5,
   "metadata": {},
   "outputs": [
    {
     "data": {
      "text/plain": [
       "<minim.audio.FLACAudio at 0x7f5ef45a3090>"
      ]
     },
     "execution_count": 5,
     "metadata": {},
     "output_type": "execute_result"
    }
   ],
   "source": [
    "audio_file = audio.Audio(audio_files[0], pattern=(\"(.*)_(.*)\", (\"artist\", \"title\")))\n",
    "audio_file"
   ]
  },
  {
   "cell_type": "code",
   "execution_count": 6,
   "metadata": {},
   "outputs": [
    {
     "name": "stderr",
     "output_type": "stream",
     "text": [
      "size=    1033kB time=00:00:30.09 bitrate= 281.3kbits/s speed=68.8x    \n"
     ]
    },
    {
     "data": {
      "text/plain": [
       "<minim.audio.MP3Audio at 0x7f5ef45a3090>"
      ]
     },
     "execution_count": 6,
     "metadata": {},
     "output_type": "execute_result"
    }
   ],
   "source": [
    "audio_file.convert(\"mp3\")\n",
    "audio_file"
   ]
  },
  {
   "cell_type": "code",
   "execution_count": 7,
   "metadata": {},
   "outputs": [
    {
     "name": "stdout",
     "output_type": "stream",
     "text": [
      "Album: None\n",
      "Album artist: None\n",
      "Artist: spektrem\n",
      "Comment: None\n",
      "Compilation: None\n",
      "Composer: None\n",
      "Copyright: None\n",
      "Date: None\n",
      "Genre: None\n",
      "ISRC: None\n",
      "Lyrics: None\n",
      "Tempo: None\n",
      "Title: shine\n",
      "Disc number: None\n",
      "Disc count: None\n",
      "Track number: None\n",
      "Track count: None\n",
      "Artwork: None\n",
      "Bit depth: None\n",
      "Bitrate: 281012\n",
      "Channel count: 2\n",
      "Codec: mp3\n",
      "Sample rate: 44100\n"
     ]
    }
   ],
   "source": [
    "print_metadata(audio_file)"
   ]
  },
  {
   "cell_type": "code",
   "execution_count": 8,
   "metadata": {},
   "outputs": [
    {
     "name": "stdout",
     "output_type": "stream",
     "text": [
      "Album: Enter the Spektrem - Single\n",
      "Album artist: Spektrem\n",
      "Artist: Spektrem\n",
      "Comment: None\n",
      "Compilation: False\n",
      "Composer: None\n",
      "Copyright: ℗ 2013 GFTED\n",
      "Date: 2013-03-06T12:00:00Z\n",
      "Genre: Electronic\n",
      "ISRC: None\n",
      "Lyrics: None\n",
      "Tempo: None\n",
      "Title: Shine\n",
      "Disc number: 1\n",
      "Disc count: 1\n",
      "Track number: 2\n",
      "Track count: 3\n",
      "Artwork: <class 'bytes'>\n",
      "Bit depth: None\n",
      "Bitrate: 281012\n",
      "Channel count: 2\n",
      "Codec: mp3\n",
      "Sample rate: 44100\n"
     ]
    }
   ],
   "source": [
    "query = f\"{audio_file.artist} {audio_file.title}\".lower()\n",
    "itunes_results = client_itunes.search(query)[\"results\"]\n",
    "itunes_track = itunes_results[np.argmax(utility.levenshtein_ratio(query, [f\"{r['artistName']} {r['trackName']}\".lower() for r in itunes_results]))]\n",
    "itunes_album = client_itunes.lookup(itunes_track[\"collectionId\"])[\"results\"][0]\n",
    "audio_file.set_metadata_using_itunes(itunes_track, album_data=itunes_album, overwrite=True)\n",
    "print_metadata(audio_file)"
   ]
  },
  {
   "cell_type": "code",
   "execution_count": 9,
   "metadata": {},
   "outputs": [
    {
     "name": "stdout",
     "output_type": "stream",
     "text": [
      "Album: Enter the Spektrem - Single\n",
      "Album artist: Spektrem\n",
      "Artist: Spektrem\n",
      "Comment: None\n",
      "Compilation: False\n",
      "Composer: None\n",
      "Copyright: ℗ 2013 GFTED\n",
      "Date: 2013-03-06T12:00:00Z\n",
      "Genre: Electronic\n",
      "ISRC: GB2LD0901581\n",
      "Lyrics: None\n",
      "Tempo: 128\n",
      "Title: Shine\n",
      "Disc number: 1\n",
      "Disc count: 1\n",
      "Track number: 2\n",
      "Track count: 3\n",
      "Artwork: <class 'bytes'>\n",
      "Bit depth: None\n",
      "Bitrate: 281012\n",
      "Channel count: 2\n",
      "Codec: mp3\n",
      "Sample rate: 44100\n"
     ]
    }
   ],
   "source": [
    "spotify_results = client_spotify.search(query, type=\"track\")[\"items\"]\n",
    "spotify_track = spotify_results[np.argmax(utility.levenshtein_ratio(query, [f\"{r['artists'][0]['name']} {r['name']}\".lower() for r in spotify_results]))]\n",
    "audio_file.set_metadata_using_spotify(spotify_track, audio_features=client_spotify.get_track_audio_features(spotify_track[\"id\"]))\n",
    "print_metadata(audio_file)"
   ]
  },
  {
   "cell_type": "code",
   "execution_count": 10,
   "metadata": {},
   "outputs": [
    {
     "name": "stdout",
     "output_type": "stream",
     "text": [
      "Album: Enter the Spektrem - Single\n",
      "Album artist: Spektrem\n",
      "Artist: Spektrem\n",
      "Comment: None\n",
      "Compilation: False\n",
      "Composer: None\n",
      "Copyright: ℗ 2013 GFTED\n",
      "Date: 2013-03-06T12:00:00Z\n",
      "Genre: Electronic\n",
      "ISRC: GB2LD0901581\n",
      "Lyrics: <class 'str'>\n",
      "Tempo: 128\n",
      "Title: Shine\n",
      "Disc number: 1\n",
      "Disc count: 1\n",
      "Track number: 2\n",
      "Track count: 3\n",
      "Artwork: <class 'bytes'>\n",
      "Bit depth: None\n",
      "Bitrate: 281012\n",
      "Channel count: 2\n",
      "Codec: mp3\n",
      "Sample rate: 44100\n"
     ]
    }
   ],
   "source": [
    "tidal_results = client_tidal.search(query)[\"tracks\"][\"items\"]\n",
    "tidal_track = next((r for r in tidal_results if r[\"isrc\"] == audio_file.isrc), None)\n",
    "tidal_album = client_tidal.get_album(tidal_track[\"album\"][\"id\"])\n",
    "tidal_composers = client_tidal.get_track_composers(tidal_track[\"id\"])\n",
    "tidal_lyrics = client_tidal.get_track_lyrics(tidal_track[\"id\"])\n",
    "audio_file.set_metadata_using_tidal(tidal_track, album_data=tidal_album, composers=tidal_composers, lyrics=tidal_lyrics)\n",
    "print_metadata(audio_file)"
   ]
  },
  {
   "cell_type": "markdown",
   "metadata": {},
   "source": [
    "## Example 2: Tagging an audio file with partial metadata"
   ]
  }
 ],
 "metadata": {
  "kernelspec": {
   "display_name": "minim",
   "language": "python",
   "name": "python3"
  },
  "language_info": {
   "codemirror_mode": {
    "name": "ipython",
    "version": 3
   },
   "file_extension": ".py",
   "mimetype": "text/x-python",
   "name": "python",
   "nbconvert_exporter": "python",
   "pygments_lexer": "ipython3",
   "version": "3.11.6"
  }
 },
 "nbformat": 4,
 "nbformat_minor": 2
}
