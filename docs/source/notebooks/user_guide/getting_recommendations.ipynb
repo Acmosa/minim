{
 "cells": [
  {
   "cell_type": "markdown",
   "metadata": {},
   "source": [
    "# Getting Recommendations\n",
    "\n",
    "Minim can help you discover new artists and music by leveraging the Spotify and TIDAL recommender systems and suggesting tracks based on your music libraries."
   ]
  },
  {
   "cell_type": "code",
   "execution_count": null,
   "metadata": {},
   "outputs": [],
   "source": [
    "from base64 import b64encode\n",
    "import random\n",
    "\n",
    "from IPython.display import HTML, IFrame, display\n",
    "from ipywidgets import Output, GridspecLayout\n",
    "\n",
    "from minim import spotify, tidal"
   ]
  },
  {
   "cell_type": "code",
   "execution_count": null,
   "metadata": {
    "tags": [
     "remove-cell"
    ]
   },
   "outputs": [],
   "source": [
    "%%html\n",
    "<style>\n",
    ".cell-output-ipywidget-background {\n",
    "   background-color: transparent !important;\n",
    "}\n",
    ".jp-OutputArea-output {\n",
    "   background-color: transparent;\n",
    "}  \n",
    "</style>"
   ]
  },
  {
   "cell_type": "markdown",
   "metadata": {},
   "source": [
    "## Spotify\n",
    "\n",
    "In the Spotify Web API, you can use `minim.spotify.WebAPI.get_recommendations()` to generate track recommendations based on your favorite artists, genres, and/or tracks, and a number of tunable track attributes.\n",
    "\n",
    "In the following example, we will generate recommendations using only seed tracks. \n",
    "\n",
    "First, we create a Spotify Web API client by instantiating a `minim.spotify.WebAPI` object:"
   ]
  },
  {
   "cell_type": "code",
   "execution_count": null,
   "metadata": {},
   "outputs": [],
   "source": [
    "client_spotify = spotify.WebAPI()"
   ]
  },
  {
   "cell_type": "markdown",
   "metadata": {},
   "source": [
    "If you want to access your Spotify library for seed artists and/or tracks, make sure that the appropriate credentials and scopes are passed to the constructor above, stored in environment variables, or available in the Minim configuration file.\n",
    "\n",
    ":::{seealso}\n",
    "See [Getting Started](../getting_started.ipynb) for more information about setting up clients with user authentication.\n",
    ":::\n",
    "\n",
    "The seed tracks can either come from your favorite Spotify tracks:\n",
    "\n",
    "```python\n",
    "seed_tracks = [track[\"track\"][\"id\"] for track in client_spotify.get_saved_tracks(limit=50)[\"items\"]]\n",
    "```\n",
    "\n",
    "or be specified manually:"
   ]
  },
  {
   "cell_type": "code",
   "execution_count": null,
   "metadata": {},
   "outputs": [],
   "source": [
    "seed_tracks = [\n",
    "    \"0JZ9TvOLtZJaGqIyC4hYZX\",   # Avicii - Trouble\n",
    "    \"0bmB3nzQuHBfI6nM4SETVu\",   # Cash Cash - Surrender\n",
    "    \"1PQ8ywTy9V2iVZWJ7Gyxxb\",   # Mako - Our Story\n",
    "    \"70IFLb5egLA8WUFWgxBoRz\",   # Mike Williams - Fallin' In\n",
    "    \"6jSPbxZLd2yemJTjz2gqOT\",   # Passion Pit & Galantis - I Found U\n",
    "    \"76B6LjxTolaSGXLANjNndR\",   # Sick Individuals - Made for This\n",
    "    \"2V65y3PX4DkRhy1djlxd9p\",   # Swedish House Mafia - Don't You Worry Child (feat. John Martin)\n",
    "    \"1gpF8IwQQj8qOeVjHfIIDU\"    # Zedd - Find You (feat. Matthew Koma & Miriam Bryant)\n",
    "]"
   ]
  },
  {
   "cell_type": "markdown",
   "metadata": {},
   "source": [
    "Since we are limited to 5 seed tracks, we will randomly select 5 tracks from our `list` of seed tracks and pass them as a keyword argument to `minim.spotify.WebAPI.get_recommendations()`:"
   ]
  },
  {
   "cell_type": "code",
   "execution_count": null,
   "metadata": {},
   "outputs": [],
   "source": [
    "recommended_tracks = client_spotify.get_recommendations(\n",
    "    seed_tracks=random.choices(seed_tracks, k=5)\n",
    ")[\"tracks\"]"
   ]
  },
  {
   "cell_type": "markdown",
   "metadata": {},
   "source": [
    "Finally, we can add the recommended tracks to a new private Spotify playlist so that they can be accessed from another device:\n",
    "\n",
    "```python\n",
    "spotify_playlist = client_spotify.create_playlist(\"Minim Mix\", public=False)\n",
    "client_spotify.add_playlist_items(\n",
    "    spotify_playlist[\"id\"], \n",
    "    [f\"spotify:track:{track['id']}\" for track in recommended_tracks]\n",
    ")\n",
    "with open(globals()[\"_dh\"][0].parents[3] / \"assets/minim_mix_small.jpg\", \"rb\") as f:\n",
    "    client_spotify.add_playlist_cover_image(spotify_playlist[\"id\"], b64encode(f.read()))\n",
    "```\n",
    "\n",
    "The last two lines above add a nifty custom cover art for mixes created with Minim:\n",
    "\n",
    "![Minim Mix cover art](https://raw.githubusercontent.com/bbye98/minim/main/assets/minim_mix_small.jpg)"
   ]
  },
  {
   "cell_type": "markdown",
   "metadata": {},
   "source": [
    "If you are building an interactive or web application, you can instead visualize the recommended tracks using embeds:"
   ]
  },
  {
   "cell_type": "code",
   "execution_count": null,
   "metadata": {},
   "outputs": [],
   "source": [
    "grid = GridspecLayout(len(recommended_tracks), 1)\n",
    "for i, track in enumerate(recommended_tracks):\n",
    "    out = Output()\n",
    "    with out:\n",
    "        display(IFrame(f\"https://open.spotify.com/embed/track/{track['id']}\", \n",
    "                       frameBorder=0, loading=\"lazy\", height=152, width=510))\n",
    "    grid[*divmod(i, 1)] = out\n",
    "grid"
   ]
  },
  {
   "cell_type": "markdown",
   "metadata": {},
   "source": [
    "## TIDAL\n",
    "\n",
    "In the TIDAL API, you can use `minim.tidal.API.get_similar_albums()`, `minim.tidal.API.get_similar_artists()`, and `minim.tidal.API.get_similar_tracks()` to generate recommendations based on your favorite albums, artists, and tracks, respectively.\n",
    "\n",
    "In the following example, we will discover tracks similar to our favorite tracks only since the procedure for generating album and artist recommendations is similar.\n",
    "\n",
    "First, we create a TIDAL API client by instantiating a `minim.tidal.API` object:"
   ]
  },
  {
   "cell_type": "code",
   "execution_count": null,
   "metadata": {},
   "outputs": [],
   "source": [
    "client_tidal = tidal.API()"
   ]
  },
  {
   "cell_type": "markdown",
   "metadata": {},
   "source": [
    "and specify the tracks for which to find similar tracks:"
   ]
  },
  {
   "cell_type": "code",
   "execution_count": null,
   "metadata": {},
   "outputs": [],
   "source": [
    "favorite_tracks = [\n",
    "    51073951,   # Avicii - Trouble\n",
    "    62082351,   # Cash Cash - Surrender\n",
    "    32553484,   # Mako - Our Story\n",
    "    147258423,  # Mike Williams - Fallin' In\n",
    "    109273852,  # Passion Pit & Galantis - I Found U\n",
    "    237059212,  # Sick Individuals - Made for This\n",
    "    17271290,   # Swedish House Mafia - Don't You Worry Child (feat. John Martin)\n",
    "    27171015    # Zedd - Find You (feat. Matthew Koma & Miriam Bryant)\n",
    "]"
   ]
  },
  {
   "cell_type": "markdown",
   "metadata": {},
   "source": [
    "Then, we randomly select a track from our `list` of favorite tracks and pass it to `minim.tidal.API.get_similar_tracks()`:"
   ]
  },
  {
   "cell_type": "code",
   "execution_count": null,
   "metadata": {},
   "outputs": [],
   "source": [
    "similar_tracks = client_tidal.get_similar_tracks(random.choice(favorite_tracks), \n",
    "                                                 \"US\")[\"data\"]"
   ]
  },
  {
   "cell_type": "markdown",
   "metadata": {},
   "source": [
    "Finally, we can display the similar tracks interactively using embeds:"
   ]
  },
  {
   "cell_type": "code",
   "execution_count": null,
   "metadata": {},
   "outputs": [],
   "source": [
    "grid = GridspecLayout(len(similar_tracks) // 2, 2)\n",
    "for i, track in enumerate(similar_tracks):\n",
    "    out = Output()\n",
    "    with out:\n",
    "        display(\n",
    "            HTML('<div class=\"tidal-embed\" '\n",
    "                 'style=\"position:relative;padding-bottom:100%;'\n",
    "                 'height:0;overflow:hidden;max-width:100%\">'\n",
    "                 '<iframe src=\"https://embed.tidal.com/tracks/'\n",
    "                 f'{track[\"resource\"][\"id\"]}?layout=gridify\" '\n",
    "                 'allowfullscreen=\"allowfullscreen\" frameborder=\"0\" '\n",
    "                 'style=\"position:absolute;top:0;left:0;width:100%;'\n",
    "                 'height:1px;min-height:100%;margin:0 auto\">'\n",
    "                 '</iframe></div>')\n",
    "        )\n",
    "    grid[*divmod(i, 2)] = out\n",
    "grid"
   ]
  }
 ],
 "metadata": {
  "kernelspec": {
   "display_name": "Python 3",
   "language": "python",
   "name": "python3"
  },
  "language_info": {
   "codemirror_mode": {
    "name": "ipython",
    "version": 3
   },
   "file_extension": ".py",
   "mimetype": "text/x-python",
   "name": "python",
   "nbconvert_exporter": "python",
   "pygments_lexer": "ipython3",
   "version": "3.11.6"
  },
  "orig_nbformat": 4
 },
 "nbformat": 4,
 "nbformat_minor": 2
}
