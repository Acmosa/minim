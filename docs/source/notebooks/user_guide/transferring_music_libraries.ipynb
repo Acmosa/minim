{
 "cells": [
  {
   "cell_type": "markdown",
   "metadata": {},
   "source": [
    "# Transferring Music Libraries\n",
    "\n",
    "Minim can be used as a free, open-source alternative to services like [TuneMyMusic](https://www.tunemymusic.com/) for moving playlists and synchronizing libraries between the supported streaming services."
   ]
  },
  {
   "cell_type": "code",
   "execution_count": 22,
   "metadata": {},
   "outputs": [],
   "source": [
    "from minim import qobuz, spotify, tidal"
   ]
  },
  {
   "cell_type": "markdown",
   "metadata": {},
   "source": [
    "## Prerequisites\n",
    "\n",
    "All clients must be authenticated to access private user information. Assuming the relevant client credentials are stored as environment variables, the recommended client instantiation is as follows:"
   ]
  },
  {
   "cell_type": "code",
   "execution_count": 23,
   "metadata": {},
   "outputs": [],
   "source": [
    "client_qobuz = qobuz.PrivateAPI(flow=\"password\", browser=True)\n",
    "client_spotify = spotify.WebAPI(flow=\"pkce\", \n",
    "                                scopes=spotify.WebAPI.get_scopes(\"all\"),\n",
    "                                framework=\"http.server\")\n",
    "client_tidal = tidal.PrivateAPI(flow=\"device\", browser=True)"
   ]
  },
  {
   "cell_type": "markdown",
   "metadata": {},
   "source": [
    "## Moving playlists\n",
    "\n",
    "The general process is to\n",
    "\n",
    "1. get information about and the items in the source playlist,\n",
    "2. create a new playlist in the destination service, and\n",
    "3. find and add the corresponding items to the newly-created playlist.\n",
    "\n",
    "The challenge often lies in the third step. The items in the source playlist may not be available in the destination service or it may be difficult finding the matching item in the destination service, especially if its catalog lookup does not support searching by ISRC.\n",
    "\n",
    "The following examples provide barebones implementations of the process above for various service pairs. Additional fine-tuning is likely necessary to handle tracks with complex metadata, such as those with multiple (featured) artists, remixes, etc.\n",
    "\n",
    "### From Qobuz\n",
    "\n",
    "We start with a Qobuz playlist with 5 tracks:"
   ]
  },
  {
   "cell_type": "code",
   "execution_count": 24,
   "metadata": {},
   "outputs": [],
   "source": [
    "QOBUZ_PLAYLIST_ID = 17865119"
   ]
  },
  {
   "cell_type": "markdown",
   "metadata": {},
   "source": [
    "We can get the playlist information and the items in the playlist using `qobuz.PrivateAPI.get_playlist()`:"
   ]
  },
  {
   "cell_type": "code",
   "execution_count": 50,
   "metadata": {},
   "outputs": [],
   "source": [
    "qobuz_playlist = client_qobuz.get_playlist(QOBUZ_PLAYLIST_ID)"
   ]
  },
  {
   "cell_type": "markdown",
   "metadata": {},
   "source": [
    "#### To Spotify\n",
    "\n",
    "First, we create a new playlist on Spotify with the same details as the Qobuz playlist using `spotify.WebAPI.create_playlist()`:"
   ]
  },
  {
   "cell_type": "code",
   "execution_count": 28,
   "metadata": {},
   "outputs": [],
   "source": [
    "new_spotify_playlist = client_spotify.create_playlist(\n",
    "    qobuz_playlist[\"name\"],\n",
    "    description=qobuz_playlist[\"description\"],\n",
    "    public=qobuz_playlist[\"is_public\"],\n",
    "    collaborative=qobuz_playlist[\"is_collaborative\"],\n",
    ")"
   ]
  },
  {
   "cell_type": "markdown",
   "metadata": {},
   "source": [
    "Then, we get the Spotify tracks equivalent to those in the Qobuz playlist. This is a simple process as Spotify allows looking up tracks by their ISRCs with its best-in-class API:"
   ]
  },
  {
   "cell_type": "code",
   "execution_count": 54,
   "metadata": {},
   "outputs": [],
   "source": [
    "spotify_track_uris = []\n",
    "for qobuz_track in qobuz_playlist[\"tracks\"][\"items\"]:\n",
    "    spotify_track = client_spotify.search(f'isrc:{qobuz_track[\"isrc\"]}', type=\"track\", limit=1)[\"items\"][0]\n",
    "    spotify_track_uris.append(f\"spotify:track:{spotify_track['id']}\")"
   ]
  },
  {
   "cell_type": "markdown",
   "metadata": {},
   "source": [
    "Finally, we add the tracks to the Spotify playlist using `spotify.WebAPI.add_playlist_items()`:"
   ]
  },
  {
   "cell_type": "code",
   "execution_count": 55,
   "metadata": {},
   "outputs": [],
   "source": [
    "client_spotify.add_playlist_items(new_spotify_playlist[\"id\"], spotify_track_uris)"
   ]
  },
  {
   "cell_type": "code",
   "execution_count": null,
   "metadata": {
    "tags": [
     "remove-cell"
    ]
   },
   "outputs": [],
   "source": [
    "client_spotify.unfollow_playlist(new_spotify_playlist[\"id\"])"
   ]
  },
  {
   "cell_type": "markdown",
   "metadata": {},
   "source": [
    "#### To TIDAL\n",
    "\n",
    "First, we create a new playlist on TIDAL with the same details as the Qobuz playlist using `tidal.PrivateAPI.create_playlist()`:"
   ]
  },
  {
   "cell_type": "code",
   "execution_count": null,
   "metadata": {},
   "outputs": [],
   "source": [
    "new_tidal_playlist = client_tidal.create_playlist(\n",
    "    qobuz_playlist[\"name\"], \n",
    "    description=qobuz_playlist[\"description\"],\n",
    "    public=qobuz_playlist[\"is_public\"]\n",
    ")"
   ]
  },
  {
   "cell_type": "markdown",
   "metadata": {},
   "source": [
    "Then, we try to find TIDAL tracks equivalent to those in the Qobuz playlist. Unfortunately, TIDAL does not support searching by ISRCs, so we have to look up the tracks using their titles and artists. The TIDAL API does, however, return ISRCs so we can confirm that we have the right tracks before adding them to the TIDAL playlist."
   ]
  },
  {
   "cell_type": "code",
   "execution_count": 67,
   "metadata": {},
   "outputs": [],
   "source": [
    "tidal_track_ids = []\n",
    "for qobuz_track in qobuz_playlist[\"tracks\"][\"items\"]:\n",
    "    title = qobuz_track[\"title\"]\n",
    "    if qobuz_track[\"version\"]:\n",
    "        title += f' {qobuz_track[\"version\"]}'\n",
    "    tidal_track = client_tidal.search(\n",
    "        f'{qobuz_track[\"performer\"][\"name\"]} {title}', \n",
    "        type=\"track\", \n",
    "        limit=1\n",
    "    )[\"items\"][0]\n",
    "    if qobuz_track[\"isrc\"] == tidal_track[\"isrc\"]:\n",
    "        tidal_track_ids.append(tidal_track[\"id\"])"
   ]
  },
  {
   "cell_type": "markdown",
   "metadata": {},
   "source": [
    "Finally, we add the tracks to the TIDAL playlist using `tidal.PrivateAPI.add_playlist_items()`:"
   ]
  },
  {
   "cell_type": "code",
   "execution_count": null,
   "metadata": {},
   "outputs": [],
   "source": [
    "client_tidal.add_playlist_items(new_tidal_playlist[\"data\"][\"uuid\"], tidal_track_ids)"
   ]
  },
  {
   "cell_type": "code",
   "execution_count": null,
   "metadata": {
    "tags": [
     "remove-cell"
    ]
   },
   "outputs": [],
   "source": [
    "client_tidal.delete_playlist(new_tidal_playlist[\"data\"][\"uuid\"])"
   ]
  },
  {
   "cell_type": "markdown",
   "metadata": {},
   "source": [
    "### From Spotify\n",
    "\n",
    "We start with a Spotify playlist with 5 tracks:"
   ]
  },
  {
   "cell_type": "code",
   "execution_count": null,
   "metadata": {},
   "outputs": [],
   "source": [
    "SPOTIFY_PLAYLIST_ID = \"3rw9qY60CEh6dfJauWdxMh\""
   ]
  },
  {
   "cell_type": "markdown",
   "metadata": {},
   "source": [
    "We can get the playlist information and the items in the playlist using `spotify.WebAPI.get_playlist()`:"
   ]
  },
  {
   "cell_type": "code",
   "execution_count": null,
   "metadata": {},
   "outputs": [],
   "source": [
    "spotify_playlist = client_spotify.get_playlist(SPOTIFY_PLAYLIST_ID)"
   ]
  },
  {
   "cell_type": "markdown",
   "metadata": {},
   "source": [
    "#### To Qobuz\n",
    "\n",
    "First, we create a new playlist on Qobuz with the same details as the Spotify playlist using `qobuz.PrivateAPI.create_playlist()`:"
   ]
  },
  {
   "cell_type": "code",
   "execution_count": null,
   "metadata": {},
   "outputs": [],
   "source": [
    "new_qobuz_playlist = client_qobuz.create_playlist(\n",
    "    spotify_playlist[\"name\"],\n",
    "    description=spotify_playlist[\"description\"],\n",
    "    public=spotify_playlist[\"public\"],\n",
    "    collaborative=spotify_playlist[\"collaborative\"],\n",
    ")"
   ]
  },
  {
   "cell_type": "markdown",
   "metadata": {},
   "source": [
    "Then, we get the Qobuz tracks equivalent to those in the Spotify playlist. Thankfully, we can search by ISRC on Qobuz, so we can get the correct Qobuz tracks directly if they are available in the Qobuz catalog:"
   ]
  },
  {
   "cell_type": "code",
   "execution_count": null,
   "metadata": {},
   "outputs": [],
   "source": [
    "qobuz_track_ids = []\n",
    "for spotify_track in spotify_playlist[\"tracks\"][\"items\"]:\n",
    "    qobuz_track = client_qobuz.search(\n",
    "        spotify_track[\"track\"][\"external_ids\"][\"isrc\"],  \n",
    "        limit=1\n",
    "    )[\"tracks\"][\"items\"][0]\n",
    "    qobuz_track_ids.append(qobuz_track[\"id\"])"
   ]
  },
  {
   "cell_type": "markdown",
   "metadata": {},
   "source": [
    "Finally, we add the tracks to the Qobuz playlist using `qobuz.PrivateAPI.add_playlist_tracks()`:"
   ]
  },
  {
   "cell_type": "code",
   "execution_count": null,
   "metadata": {
    "tags": [
     "hide-output"
    ]
   },
   "outputs": [],
   "source": [
    "client_qobuz.add_playlist_tracks(new_qobuz_playlist[\"id\"], qobuz_track_ids)"
   ]
  },
  {
   "cell_type": "code",
   "execution_count": null,
   "metadata": {
    "tags": [
     "remove-cell"
    ]
   },
   "outputs": [],
   "source": [
    "client_qobuz.delete_playlist(new_qobuz_playlist[\"id\"])"
   ]
  },
  {
   "cell_type": "markdown",
   "metadata": {},
   "source": [
    "#### To TIDAL\n",
    "\n",
    "First, we create a new playlist on TIDAL with the same details as the Spotify playlist:"
   ]
  },
  {
   "cell_type": "code",
   "execution_count": null,
   "metadata": {},
   "outputs": [],
   "source": [
    "new_tidal_playlist = client_tidal.create_playlist(\n",
    "    spotify_playlist[\"name\"], \n",
    "    description=spotify_playlist[\"description\"],\n",
    "    public=spotify_playlist[\"public\"]\n",
    ")"
   ]
  },
  {
   "cell_type": "markdown",
   "metadata": {},
   "source": [
    "Then, we try to find TIDAL tracks equivalent to those in the Spotify playlist:"
   ]
  },
  {
   "cell_type": "code",
   "execution_count": null,
   "metadata": {},
   "outputs": [],
   "source": [
    "tidal_track_ids = []\n",
    "for spotify_track in spotify_playlist[\"tracks\"][\"items\"]:\n",
    "    tidal_track = client_tidal.search(\n",
    "        f'{spotify_track[\"track\"][\"artists\"][0][\"name\"]} '\n",
    "        f'{spotify_track[\"track\"][\"name\"]}', \n",
    "        type=\"track\", \n",
    "        limit=1\n",
    "    )[\"items\"][0]\n",
    "    if spotify_track[\"track\"][\"external_ids\"][\"isrc\"] == tidal_track[\"isrc\"]:\n",
    "        tidal_track_ids.append(tidal_track[\"id\"])"
   ]
  },
  {
   "cell_type": "markdown",
   "metadata": {},
   "source": [
    "Finally, we add the tracks to the TIDAL playlist:"
   ]
  },
  {
   "cell_type": "code",
   "execution_count": null,
   "metadata": {},
   "outputs": [],
   "source": [
    "client_tidal.add_playlist_items(new_tidal_playlist[\"data\"][\"uuid\"], tidal_track_ids)"
   ]
  },
  {
   "cell_type": "code",
   "execution_count": null,
   "metadata": {
    "tags": [
     "remove-cell"
    ]
   },
   "outputs": [],
   "source": [
    "client_tidal.delete_playlist(new_tidal_playlist[\"data\"][\"uuid\"])"
   ]
  },
  {
   "cell_type": "markdown",
   "metadata": {},
   "source": [
    "### From TIDAL"
   ]
  },
  {
   "cell_type": "markdown",
   "metadata": {},
   "source": [
    "#### To Qobuz"
   ]
  },
  {
   "cell_type": "markdown",
   "metadata": {},
   "source": [
    "#### To Spotify"
   ]
  },
  {
   "cell_type": "markdown",
   "metadata": {},
   "source": [
    "## Synchronizing favorites"
   ]
  }
 ],
 "metadata": {
  "kernelspec": {
   "display_name": "minim",
   "language": "python",
   "name": "python3"
  },
  "language_info": {
   "codemirror_mode": {
    "name": "ipython",
    "version": 3
   },
   "file_extension": ".py",
   "mimetype": "text/x-python",
   "name": "python",
   "nbconvert_exporter": "python",
   "pygments_lexer": "ipython3",
   "version": "3.11.6"
  }
 },
 "nbformat": 4,
 "nbformat_minor": 2
}
